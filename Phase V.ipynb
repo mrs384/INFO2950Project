{
 "cells": [
  {
   "cell_type": "markdown",
   "id": "bd3bfdc6",
   "metadata": {},
   "source": [
    "# INFO2950 Project - Phase V"
   ]
  },
  {
   "cell_type": "markdown",
   "id": "b44ffd9e",
   "metadata": {},
   "source": [
    "## Table of Contents\n",
    "1. Introduction <br>\n",
    "a. Background <br>\n",
    "b. Research Questions \n",
    "2. Data Description\n",
    "3. Data Cleaning\n",
    "4. Preregistration Statement\n",
    "5. Data Analysis\n",
    "6. Evaluation of Significance\n",
    "7. Interpretation and Conclusions\n",
    "8. Limitations\n",
    "9. Sources"
   ]
  },
  {
   "cell_type": "markdown",
   "id": "9cbc4198",
   "metadata": {},
   "source": [
    "## 1. Introduction"
   ]
  },
  {
   "cell_type": "markdown",
   "id": "06792023",
   "metadata": {},
   "source": [
    "### 1a. Background"
   ]
  },
  {
   "cell_type": "markdown",
   "id": "b352c06e",
   "metadata": {},
   "source": [
    "### 1b. Research Questions\n",
    "\n",
    "Our overarching question we are looking to answer is if there is a relationship in the United States between grocery stores, fast food restaurants, and the demographics in each county? This lead us to ask the following subquestions:\n",
    "- Is there a relationship between food availability, both grocery stores and restaurants, and county demographics across the United States? \n",
    "- Are there specific kinds of grocery stores and restaurants depending on the demographics in the county? \n",
    "- Is there a relationship between grocery stores and fast food restaurants within each county?"
   ]
  },
  {
   "cell_type": "code",
   "execution_count": 2,
   "id": "bafec07c",
   "metadata": {},
   "outputs": [],
   "source": [
    "import matplotlib.pyplot as plt\n",
    "import numpy as np\n",
    "import pandas as pd\n",
    "import seaborn as sns\n",
    "import duckdb\n",
    "from sklearn.linear_model import LinearRegression, LogisticRegression"
   ]
  },
  {
   "cell_type": "markdown",
   "id": "270652b4",
   "metadata": {},
   "source": [
    "## 2. Data Description"
   ]
  },
  {
   "cell_type": "markdown",
   "id": "badac671",
   "metadata": {},
   "source": [
    "## 3. Data Cleaning"
   ]
  },
  {
   "cell_type": "markdown",
   "id": "1ff7fc0e",
   "metadata": {},
   "source": [
    "## 4. Preregistration Statement"
   ]
  },
  {
   "cell_type": "markdown",
   "id": "8abbfe21",
   "metadata": {},
   "source": [
    "## 5. Data Analysis"
   ]
  },
  {
   "cell_type": "markdown",
   "id": "6d42e853",
   "metadata": {},
   "source": [
    "## 6. Evaluation of Significance"
   ]
  },
  {
   "cell_type": "markdown",
   "id": "d5266c1b",
   "metadata": {},
   "source": [
    "## 7. Interpretation and Conclusions"
   ]
  },
  {
   "cell_type": "markdown",
   "id": "019bab76",
   "metadata": {},
   "source": [
    "## 8. Limitations"
   ]
  },
  {
   "cell_type": "markdown",
   "id": "ce5722d7",
   "metadata": {},
   "source": [
    "## 9. Sources"
   ]
  }
 ],
 "metadata": {
  "kernelspec": {
   "display_name": "Python 3",
   "language": "python",
   "name": "python3"
  },
  "language_info": {
   "codemirror_mode": {
    "name": "ipython",
    "version": 3
   },
   "file_extension": ".py",
   "mimetype": "text/x-python",
   "name": "python",
   "nbconvert_exporter": "python",
   "pygments_lexer": "ipython3",
   "version": "3.7.6"
  }
 },
 "nbformat": 4,
 "nbformat_minor": 5
}
