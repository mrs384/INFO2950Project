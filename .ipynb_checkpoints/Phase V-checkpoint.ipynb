{
 "cells": [
  {
   "cell_type": "markdown",
   "id": "d0be8cbe",
   "metadata": {},
   "source": [
    "# INFO2950 Project - Phase IV"
   ]
  },
  {
   "cell_type": "markdown",
   "id": "f62e56b4",
   "metadata": {},
   "source": [
    "## Table of Contents\n",
    "1. Introduction <br>\n",
    "a. Background <br>\n",
    "b. Research Questions \n",
    "2. Data Description\n",
    "3. Data Cleaning\n",
    "4. Preregistration Statement\n",
    "5. Data Analysis\n",
    "6. Evaluation of Significance\n",
    "7. Interpretation and Conclusions\n",
    "8. Limitations\n",
    "9. Sources"
   ]
  },
  {
   "cell_type": "markdown",
   "id": "d5d3cf24",
   "metadata": {},
   "source": [
    "## 1. Introduction"
   ]
  },
  {
   "cell_type": "markdown",
   "id": "c21f5773",
   "metadata": {},
   "source": [
    "### 1a. Background"
   ]
  },
  {
   "cell_type": "markdown",
   "id": "55924f18",
   "metadata": {},
   "source": [
    "### 1b. Research Question\n",
    "\n",
    "Our overarching question we are looking to answer is if there is a relationship in the United States between grocery stores, fast food restaurants, and the demographics in each county? This lead us to ask the following subquestions:\n",
    "- Question 1: Is the disparity between fast food restaurants and grocery stores affected by median income level and/or racial majority?\n",
    "- Question 2: Is there regional variation in the disparity between fast food restaurants and grocery stores (even when counties have similar racial compositions and income levels)?"
   ]
  },
  {
   "cell_type": "code",
   "execution_count": 1,
   "id": "c01bfa34",
   "metadata": {},
   "outputs": [],
   "source": [
    "import matplotlib.pyplot as plt\n",
    "import numpy as np\n",
    "import pandas as pd\n",
    "import seaborn as sns\n",
    "import duckdb\n",
    "from sklearn.model_selection import cross_val_score\n",
    "from sklearn.linear_model import LinearRegression, LogisticRegression\n",
    "import plotly.express as px\n",
    "import statsmodels.api as sm"
   ]
  },
  {
   "cell_type": "markdown",
   "id": "577dfe22",
   "metadata": {},
   "source": [
    "## 2. Data Description"
   ]
  },
  {
   "cell_type": "markdown",
   "id": "e558a68f",
   "metadata": {},
   "source": [
    "In all three of our datasets, the rows represent counties in the United States. Each row corresponds to one county. The columns have county-level data for each county. In the stores dataset, the columns correspond to figures about access to grocery stores. These columns include number of grocery stores (2011), number of grocery stores (2016), number of grocery stores per 1000 people (2011), number of grocery stores per 1000 people (2016), number of supercenters (2011), number of supercenters (2016), number of supercenters per 1000 people (2011), number of supercenters per 1000 people (2016), and subsequent columns the combine supercenters and superstores. \n",
    "    \n",
    "In the Restaurants dataset, the columns correspond to figures about access to restaurants. These columns include number of fast food restaurants (2011), number of fast food restaurants (2016), number of fast food restaurants per 1000 people (2011), number of fast food restaurants per 1000 people (2016), subsequent columns with the same information for full service restaurants, fast food expenditures per capita (2012), and full-service restaurant expenditures per capita (2012). \n",
    "    \n",
    "In the demographics dataset, the columns correspond to figures about the demographic breakdowns of the counties. These columns include percent of population that’s White, percent of population that’s Black, percent of population that’s Asian, percent of population that’s Native American, percent of population that’s Hawaiian or Pacific Islander, percent of population that’s Hispanic, Median Household Income (2015), Poverty Rate (2015), Child Poverty Rate (2015), contains a metropolitan area (binary variable), and persistent-poverty county (binary variable), which is a county where 20 percent or more of its population has lived in poverty over the past 30 years.\n",
    "\n",
    "The stated objective for the creation of the Food Environmental Atlas (which includes our three datasets, was “to assemble statistics on food environment indicators to stimulate research on the determinants of food choices and diet quality, and to provide a spatial overview of a community's ability to access healthy food and its success in doing so.” The dataset was funded by the USDA (U.S. Department of Agriculture). \n",
    "The data in the Atlas comes from a wide variety of sources, so it is difficult to ascertain processes for every form of data collection The different data used to generate the indicators in the Atlas is documented here: https://www.ers.usda.gov/data-products/food-environment-atlas/documentation/. One limitation of the data is that all of these indicators are subject to rapid change. The dataset attempts to deal with this by providing data from multiple years for each indicator wherever possible, but it is likely that data on number of grocery stores or restaurants in a county, for example, will fluctuate over time.  \n",
    "\n",
    "In order to pre-process the data, we downloaded three separate excel sheets from the Atlas, and converted them into csv files. We dropped several columns from each dataset that were irrelevant to our research questions, and then re-named the columns to be more understandable. For the stores datasets, we combined columns for number of grocery stores with number of supercenters (like costco) into one combined variable. We checked for gaps in the data and found a few missing data points in the Poverty Rate, Child Poverty rate, and Median Household Income columns, so we imputed NaN into those spots. \n",
    "\n",
    "The data in the Atlas was aggregated from a variety of sources, none of which seem to have included direct contact with individuals. The closest thing would be demographic data that is derived from census data, and generally speaking people who fill out the census are aware that information is used for data collection. They may not have know it would be used specifically for this purpose. \n",
    "\n",
    "All of the source data can be found here: https://www.ers.usda.gov/data-products/food-environment-atlas/data-access-and-documentation-downloads/"
   ]
  },
  {
   "cell_type": "markdown",
   "id": "9d4759c1",
   "metadata": {},
   "source": [
    "## 3. Data Cleaning\n",
    "\n",
    "The original data was contained in an excel file, with each subjet on a different tab. The first step was to download each tab we were working with as a csv. We started with the grocery stores data."
   ]
  },
  {
   "cell_type": "code",
   "execution_count": 2,
   "id": "f7edd1e8",
   "metadata": {},
   "outputs": [
    {
     "data": {
      "text/html": [
       "<div>\n",
       "<style scoped>\n",
       "    .dataframe tbody tr th:only-of-type {\n",
       "        vertical-align: middle;\n",
       "    }\n",
       "\n",
       "    .dataframe tbody tr th {\n",
       "        vertical-align: top;\n",
       "    }\n",
       "\n",
       "    .dataframe thead th {\n",
       "        text-align: right;\n",
       "    }\n",
       "</style>\n",
       "<table border=\"1\" class=\"dataframe\">\n",
       "  <thead>\n",
       "    <tr style=\"text-align: right;\">\n",
       "      <th></th>\n",
       "      <th>FIPS</th>\n",
       "      <th>State</th>\n",
       "      <th>County</th>\n",
       "      <th>GROC11</th>\n",
       "      <th>GROC16</th>\n",
       "      <th>PCH_GROC_11_16</th>\n",
       "      <th>GROCPTH11</th>\n",
       "      <th>GROCPTH16</th>\n",
       "      <th>PCH_GROCPTH_11_16</th>\n",
       "      <th>SUPERC11</th>\n",
       "      <th>...</th>\n",
       "      <th>PCH_SNAPS_12_17</th>\n",
       "      <th>SNAPSPTH12</th>\n",
       "      <th>SNAPSPTH17</th>\n",
       "      <th>PCH_SNAPSPTH_12_17</th>\n",
       "      <th>WICS11</th>\n",
       "      <th>WICS16</th>\n",
       "      <th>PCH_WICS_11_16</th>\n",
       "      <th>WICSPTH11</th>\n",
       "      <th>WICSPTH16</th>\n",
       "      <th>PCH_WICSPTH_11_16</th>\n",
       "    </tr>\n",
       "  </thead>\n",
       "  <tbody>\n",
       "    <tr>\n",
       "      <th>0</th>\n",
       "      <td>1001</td>\n",
       "      <td>AL</td>\n",
       "      <td>Autauga</td>\n",
       "      <td>5</td>\n",
       "      <td>3</td>\n",
       "      <td>-40.000000</td>\n",
       "      <td>0.090581</td>\n",
       "      <td>0.054271</td>\n",
       "      <td>-40.085748</td>\n",
       "      <td>1</td>\n",
       "      <td>...</td>\n",
       "      <td>19.376392</td>\n",
       "      <td>0.674004</td>\n",
       "      <td>0.804747</td>\n",
       "      <td>19.397900</td>\n",
       "      <td>5.0</td>\n",
       "      <td>5.0</td>\n",
       "      <td>0.000000</td>\n",
       "      <td>0.090567</td>\n",
       "      <td>0.090511</td>\n",
       "      <td>-0.061543</td>\n",
       "    </tr>\n",
       "    <tr>\n",
       "      <th>1</th>\n",
       "      <td>1003</td>\n",
       "      <td>AL</td>\n",
       "      <td>Baldwin</td>\n",
       "      <td>27</td>\n",
       "      <td>29</td>\n",
       "      <td>7.407407</td>\n",
       "      <td>0.144746</td>\n",
       "      <td>0.139753</td>\n",
       "      <td>-3.449328</td>\n",
       "      <td>6</td>\n",
       "      <td>...</td>\n",
       "      <td>36.927711</td>\n",
       "      <td>0.725055</td>\n",
       "      <td>0.890836</td>\n",
       "      <td>22.864524</td>\n",
       "      <td>26.0</td>\n",
       "      <td>28.0</td>\n",
       "      <td>7.692307</td>\n",
       "      <td>0.139380</td>\n",
       "      <td>0.134802</td>\n",
       "      <td>-3.284727</td>\n",
       "    </tr>\n",
       "    <tr>\n",
       "      <th>2</th>\n",
       "      <td>1005</td>\n",
       "      <td>AL</td>\n",
       "      <td>Barbour</td>\n",
       "      <td>6</td>\n",
       "      <td>4</td>\n",
       "      <td>-33.333333</td>\n",
       "      <td>0.219370</td>\n",
       "      <td>0.155195</td>\n",
       "      <td>-29.254287</td>\n",
       "      <td>0</td>\n",
       "      <td>...</td>\n",
       "      <td>3.349282</td>\n",
       "      <td>1.280590</td>\n",
       "      <td>1.424614</td>\n",
       "      <td>11.246689</td>\n",
       "      <td>7.0</td>\n",
       "      <td>6.0</td>\n",
       "      <td>-14.285714</td>\n",
       "      <td>0.255942</td>\n",
       "      <td>0.232387</td>\n",
       "      <td>-9.203081</td>\n",
       "    </tr>\n",
       "    <tr>\n",
       "      <th>3</th>\n",
       "      <td>1007</td>\n",
       "      <td>AL</td>\n",
       "      <td>Bibb</td>\n",
       "      <td>6</td>\n",
       "      <td>5</td>\n",
       "      <td>-16.666667</td>\n",
       "      <td>0.263794</td>\n",
       "      <td>0.220916</td>\n",
       "      <td>-16.254289</td>\n",
       "      <td>1</td>\n",
       "      <td>...</td>\n",
       "      <td>11.794872</td>\n",
       "      <td>0.719122</td>\n",
       "      <td>0.801423</td>\n",
       "      <td>11.444711</td>\n",
       "      <td>6.0</td>\n",
       "      <td>5.0</td>\n",
       "      <td>-16.666666</td>\n",
       "      <td>0.263771</td>\n",
       "      <td>0.221474</td>\n",
       "      <td>-16.035471</td>\n",
       "    </tr>\n",
       "    <tr>\n",
       "      <th>4</th>\n",
       "      <td>1009</td>\n",
       "      <td>AL</td>\n",
       "      <td>Blount</td>\n",
       "      <td>7</td>\n",
       "      <td>5</td>\n",
       "      <td>-28.571429</td>\n",
       "      <td>0.121608</td>\n",
       "      <td>0.086863</td>\n",
       "      <td>-28.571429</td>\n",
       "      <td>1</td>\n",
       "      <td>...</td>\n",
       "      <td>5.701754</td>\n",
       "      <td>0.657144</td>\n",
       "      <td>0.692374</td>\n",
       "      <td>5.361034</td>\n",
       "      <td>8.0</td>\n",
       "      <td>8.0</td>\n",
       "      <td>0.000000</td>\n",
       "      <td>0.139000</td>\n",
       "      <td>0.139089</td>\n",
       "      <td>0.064332</td>\n",
       "    </tr>\n",
       "  </tbody>\n",
       "</table>\n",
       "<p>5 rows × 39 columns</p>\n",
       "</div>"
      ],
      "text/plain": [
       "   FIPS State   County  GROC11  GROC16  PCH_GROC_11_16  GROCPTH11  GROCPTH16  \\\n",
       "0  1001    AL  Autauga       5       3      -40.000000   0.090581   0.054271   \n",
       "1  1003    AL  Baldwin      27      29        7.407407   0.144746   0.139753   \n",
       "2  1005    AL  Barbour       6       4      -33.333333   0.219370   0.155195   \n",
       "3  1007    AL     Bibb       6       5      -16.666667   0.263794   0.220916   \n",
       "4  1009    AL   Blount       7       5      -28.571429   0.121608   0.086863   \n",
       "\n",
       "   PCH_GROCPTH_11_16  SUPERC11  ...  PCH_SNAPS_12_17  SNAPSPTH12  SNAPSPTH17  \\\n",
       "0         -40.085748         1  ...        19.376392    0.674004    0.804747   \n",
       "1          -3.449328         6  ...        36.927711    0.725055    0.890836   \n",
       "2         -29.254287         0  ...         3.349282    1.280590    1.424614   \n",
       "3         -16.254289         1  ...        11.794872    0.719122    0.801423   \n",
       "4         -28.571429         1  ...         5.701754    0.657144    0.692374   \n",
       "\n",
       "   PCH_SNAPSPTH_12_17  WICS11  WICS16  PCH_WICS_11_16  WICSPTH11  WICSPTH16  \\\n",
       "0           19.397900     5.0     5.0        0.000000   0.090567   0.090511   \n",
       "1           22.864524    26.0    28.0        7.692307   0.139380   0.134802   \n",
       "2           11.246689     7.0     6.0      -14.285714   0.255942   0.232387   \n",
       "3           11.444711     6.0     5.0      -16.666666   0.263771   0.221474   \n",
       "4            5.361034     8.0     8.0        0.000000   0.139000   0.139089   \n",
       "\n",
       "   PCH_WICSPTH_11_16  \n",
       "0          -0.061543  \n",
       "1          -3.284727  \n",
       "2          -9.203081  \n",
       "3         -16.035471  \n",
       "4           0.064332  \n",
       "\n",
       "[5 rows x 39 columns]"
      ]
     },
     "execution_count": 2,
     "metadata": {},
     "output_type": "execute_result"
    }
   ],
   "source": [
    "stores = pd.read_csv('data/Store_Access.csv')\n",
    "stores.head()"
   ]
  },
  {
   "cell_type": "markdown",
   "id": "cfa4da40",
   "metadata": {},
   "source": [
    "Next, we determined which columns we would potentially want to use based on our reseach questions, and dropped the rest from our data frame."
   ]
  },
  {
   "cell_type": "code",
   "execution_count": 3,
   "id": "70639770",
   "metadata": {},
   "outputs": [
    {
     "data": {
      "text/html": [
       "<div>\n",
       "<style scoped>\n",
       "    .dataframe tbody tr th:only-of-type {\n",
       "        vertical-align: middle;\n",
       "    }\n",
       "\n",
       "    .dataframe tbody tr th {\n",
       "        vertical-align: top;\n",
       "    }\n",
       "\n",
       "    .dataframe thead th {\n",
       "        text-align: right;\n",
       "    }\n",
       "</style>\n",
       "<table border=\"1\" class=\"dataframe\">\n",
       "  <thead>\n",
       "    <tr style=\"text-align: right;\">\n",
       "      <th></th>\n",
       "      <th>State</th>\n",
       "      <th>County</th>\n",
       "      <th>GROC11</th>\n",
       "      <th>GROC16</th>\n",
       "      <th>GROCPTH11</th>\n",
       "      <th>GROCPTH16</th>\n",
       "      <th>SUPERC11</th>\n",
       "      <th>SUPERC16</th>\n",
       "      <th>SUPERCPTH11</th>\n",
       "      <th>SUPERCPTH16</th>\n",
       "    </tr>\n",
       "  </thead>\n",
       "  <tbody>\n",
       "    <tr>\n",
       "      <th>0</th>\n",
       "      <td>AL</td>\n",
       "      <td>Autauga</td>\n",
       "      <td>5</td>\n",
       "      <td>3</td>\n",
       "      <td>0.090581</td>\n",
       "      <td>0.054271</td>\n",
       "      <td>1</td>\n",
       "      <td>1</td>\n",
       "      <td>0.018116</td>\n",
       "      <td>0.018090</td>\n",
       "    </tr>\n",
       "    <tr>\n",
       "      <th>1</th>\n",
       "      <td>AL</td>\n",
       "      <td>Baldwin</td>\n",
       "      <td>27</td>\n",
       "      <td>29</td>\n",
       "      <td>0.144746</td>\n",
       "      <td>0.139753</td>\n",
       "      <td>6</td>\n",
       "      <td>7</td>\n",
       "      <td>0.032166</td>\n",
       "      <td>0.033733</td>\n",
       "    </tr>\n",
       "    <tr>\n",
       "      <th>2</th>\n",
       "      <td>AL</td>\n",
       "      <td>Barbour</td>\n",
       "      <td>6</td>\n",
       "      <td>4</td>\n",
       "      <td>0.219370</td>\n",
       "      <td>0.155195</td>\n",
       "      <td>0</td>\n",
       "      <td>1</td>\n",
       "      <td>0.000000</td>\n",
       "      <td>0.038799</td>\n",
       "    </tr>\n",
       "    <tr>\n",
       "      <th>3</th>\n",
       "      <td>AL</td>\n",
       "      <td>Bibb</td>\n",
       "      <td>6</td>\n",
       "      <td>5</td>\n",
       "      <td>0.263794</td>\n",
       "      <td>0.220916</td>\n",
       "      <td>1</td>\n",
       "      <td>1</td>\n",
       "      <td>0.043966</td>\n",
       "      <td>0.044183</td>\n",
       "    </tr>\n",
       "    <tr>\n",
       "      <th>4</th>\n",
       "      <td>AL</td>\n",
       "      <td>Blount</td>\n",
       "      <td>7</td>\n",
       "      <td>5</td>\n",
       "      <td>0.121608</td>\n",
       "      <td>0.086863</td>\n",
       "      <td>1</td>\n",
       "      <td>1</td>\n",
       "      <td>0.017373</td>\n",
       "      <td>0.017373</td>\n",
       "    </tr>\n",
       "  </tbody>\n",
       "</table>\n",
       "</div>"
      ],
      "text/plain": [
       "  State   County  GROC11  GROC16  GROCPTH11  GROCPTH16  SUPERC11  SUPERC16  \\\n",
       "0    AL  Autauga       5       3   0.090581   0.054271         1         1   \n",
       "1    AL  Baldwin      27      29   0.144746   0.139753         6         7   \n",
       "2    AL  Barbour       6       4   0.219370   0.155195         0         1   \n",
       "3    AL     Bibb       6       5   0.263794   0.220916         1         1   \n",
       "4    AL   Blount       7       5   0.121608   0.086863         1         1   \n",
       "\n",
       "   SUPERCPTH11  SUPERCPTH16  \n",
       "0     0.018116     0.018090  \n",
       "1     0.032166     0.033733  \n",
       "2     0.000000     0.038799  \n",
       "3     0.043966     0.044183  \n",
       "4     0.017373     0.017373  "
      ]
     },
     "execution_count": 3,
     "metadata": {},
     "output_type": "execute_result"
    }
   ],
   "source": [
    "stores = stores.drop(['PCH_GROCPTH_11_16',\\\n",
    "                      'PCH_SUPERCPTH_11_16',\\\n",
    "                      'PCH_CONVSPTH_11_16',\\\n",
    "                      'PCH_SPECSPTH_11_16',\\\n",
    "                      'SNAPS12','SNAPS17',\\\n",
    "                      'PCH_SNAPS_12_17',\\\n",
    "                      'SNAPSPTH12',\\\n",
    "                      'SNAPSPTH17',\\\n",
    "                      'PCH_SNAPSPTH_12_17',\\\n",
    "                      'WICS11','WICS16',\\\n",
    "                      'PCH_WICS_11_16',\\\n",
    "                      'WICSPTH11',\\\n",
    "                      'WICSPTH16',\\\n",
    "                      'PCH_WICSPTH_11_16',\\\n",
    "                      'FIPS',\\\n",
    "                      'PCH_SUPERC_11_16',\\\n",
    "                      'PCH_GROC_11_16',\\\n",
    "                      'PCH_CONVS_11_16',\\\n",
    "                      'PCH_SPECS_11_16',  'CONVS11', 'CONVS16','CONVSPTH11','CONVSPTH16', 'SPECS11','SPECS16','SPECSPTH11', 'SPECSPTH16'], axis=1)\n",
    "stores.head()"
   ]
  },
  {
   "cell_type": "markdown",
   "id": "fa3bfef6",
   "metadata": {},
   "source": [
    "The data from the USDA had a tab in the Excel file that explained what each variable meant, and then used the variable names as the titles for the columns in the rest of the tabs. For our purposes, we wanted to convert the variable names back to their real names so we could see their meaning easily by looking at our data frame. To do so, we referred to the variable tab and manually renamed each column to easily understand its meaning."
   ]
  },
  {
   "cell_type": "code",
   "execution_count": 4,
   "id": "8fd02cc7",
   "metadata": {},
   "outputs": [
    {
     "data": {
      "text/html": [
       "<div>\n",
       "<style scoped>\n",
       "    .dataframe tbody tr th:only-of-type {\n",
       "        vertical-align: middle;\n",
       "    }\n",
       "\n",
       "    .dataframe tbody tr th {\n",
       "        vertical-align: top;\n",
       "    }\n",
       "\n",
       "    .dataframe thead th {\n",
       "        text-align: right;\n",
       "    }\n",
       "</style>\n",
       "<table border=\"1\" class=\"dataframe\">\n",
       "  <thead>\n",
       "    <tr style=\"text-align: right;\">\n",
       "      <th></th>\n",
       "      <th>State</th>\n",
       "      <th>County</th>\n",
       "      <th>Grocery_2011</th>\n",
       "      <th>Grocery_2016</th>\n",
       "      <th>Grocery_per_1000_2011</th>\n",
       "      <th>Grocery_per_1000_2016</th>\n",
       "      <th>Supercenter_2011</th>\n",
       "      <th>Supercenter_2016</th>\n",
       "      <th>Supercenter_per_1000_2011</th>\n",
       "      <th>Supercenter_per_1000_2016</th>\n",
       "      <th>Combined_Grocery_2011</th>\n",
       "      <th>Combined_Grocery_2016</th>\n",
       "      <th>Combined_per_1000_2011</th>\n",
       "      <th>Combined_per_1000_2016</th>\n",
       "    </tr>\n",
       "  </thead>\n",
       "  <tbody>\n",
       "    <tr>\n",
       "      <th>0</th>\n",
       "      <td>AL</td>\n",
       "      <td>Autauga</td>\n",
       "      <td>5</td>\n",
       "      <td>3</td>\n",
       "      <td>0.090581</td>\n",
       "      <td>0.054271</td>\n",
       "      <td>1</td>\n",
       "      <td>1</td>\n",
       "      <td>0.018116</td>\n",
       "      <td>0.018090</td>\n",
       "      <td>6</td>\n",
       "      <td>4</td>\n",
       "      <td>0.108698</td>\n",
       "      <td>0.072361</td>\n",
       "    </tr>\n",
       "    <tr>\n",
       "      <th>1</th>\n",
       "      <td>AL</td>\n",
       "      <td>Baldwin</td>\n",
       "      <td>27</td>\n",
       "      <td>29</td>\n",
       "      <td>0.144746</td>\n",
       "      <td>0.139753</td>\n",
       "      <td>6</td>\n",
       "      <td>7</td>\n",
       "      <td>0.032166</td>\n",
       "      <td>0.033733</td>\n",
       "      <td>33</td>\n",
       "      <td>36</td>\n",
       "      <td>0.176911</td>\n",
       "      <td>0.173486</td>\n",
       "    </tr>\n",
       "    <tr>\n",
       "      <th>2</th>\n",
       "      <td>AL</td>\n",
       "      <td>Barbour</td>\n",
       "      <td>6</td>\n",
       "      <td>4</td>\n",
       "      <td>0.219370</td>\n",
       "      <td>0.155195</td>\n",
       "      <td>0</td>\n",
       "      <td>1</td>\n",
       "      <td>0.000000</td>\n",
       "      <td>0.038799</td>\n",
       "      <td>6</td>\n",
       "      <td>5</td>\n",
       "      <td>0.219370</td>\n",
       "      <td>0.193994</td>\n",
       "    </tr>\n",
       "    <tr>\n",
       "      <th>3</th>\n",
       "      <td>AL</td>\n",
       "      <td>Bibb</td>\n",
       "      <td>6</td>\n",
       "      <td>5</td>\n",
       "      <td>0.263794</td>\n",
       "      <td>0.220916</td>\n",
       "      <td>1</td>\n",
       "      <td>1</td>\n",
       "      <td>0.043966</td>\n",
       "      <td>0.044183</td>\n",
       "      <td>7</td>\n",
       "      <td>6</td>\n",
       "      <td>0.307760</td>\n",
       "      <td>0.265100</td>\n",
       "    </tr>\n",
       "    <tr>\n",
       "      <th>4</th>\n",
       "      <td>AL</td>\n",
       "      <td>Blount</td>\n",
       "      <td>7</td>\n",
       "      <td>5</td>\n",
       "      <td>0.121608</td>\n",
       "      <td>0.086863</td>\n",
       "      <td>1</td>\n",
       "      <td>1</td>\n",
       "      <td>0.017373</td>\n",
       "      <td>0.017373</td>\n",
       "      <td>8</td>\n",
       "      <td>6</td>\n",
       "      <td>0.138981</td>\n",
       "      <td>0.104235</td>\n",
       "    </tr>\n",
       "  </tbody>\n",
       "</table>\n",
       "</div>"
      ],
      "text/plain": [
       "  State   County  Grocery_2011  Grocery_2016  Grocery_per_1000_2011  \\\n",
       "0    AL  Autauga             5             3               0.090581   \n",
       "1    AL  Baldwin            27            29               0.144746   \n",
       "2    AL  Barbour             6             4               0.219370   \n",
       "3    AL     Bibb             6             5               0.263794   \n",
       "4    AL   Blount             7             5               0.121608   \n",
       "\n",
       "   Grocery_per_1000_2016  Supercenter_2011  Supercenter_2016  \\\n",
       "0               0.054271                 1                 1   \n",
       "1               0.139753                 6                 7   \n",
       "2               0.155195                 0                 1   \n",
       "3               0.220916                 1                 1   \n",
       "4               0.086863                 1                 1   \n",
       "\n",
       "   Supercenter_per_1000_2011  Supercenter_per_1000_2016  \\\n",
       "0                   0.018116                   0.018090   \n",
       "1                   0.032166                   0.033733   \n",
       "2                   0.000000                   0.038799   \n",
       "3                   0.043966                   0.044183   \n",
       "4                   0.017373                   0.017373   \n",
       "\n",
       "   Combined_Grocery_2011  Combined_Grocery_2016  Combined_per_1000_2011  \\\n",
       "0                      6                      4                0.108698   \n",
       "1                     33                     36                0.176911   \n",
       "2                      6                      5                0.219370   \n",
       "3                      7                      6                0.307760   \n",
       "4                      8                      6                0.138981   \n",
       "\n",
       "   Combined_per_1000_2016  \n",
       "0                0.072361  \n",
       "1                0.173486  \n",
       "2                0.193994  \n",
       "3                0.265100  \n",
       "4                0.104235  "
      ]
     },
     "execution_count": 4,
     "metadata": {},
     "output_type": "execute_result"
    }
   ],
   "source": [
    "stores = stores.rename(columns={'GROC11':'Grocery_2011',\n",
    "                                'GROC16': 'Grocery_2016', \n",
    "                                'GROCPTH11':'Grocery_per_1000_2011', \n",
    "                                'GROCPTH16':'Grocery_per_1000_2016', 'SUPERC11': 'Supercenter_2011', \n",
    "                                'SUPERC16': 'Supercenter_2016', \n",
    "                                'SUPERCPTH11':'Supercenter_per_1000_2011',\n",
    "                                'SUPERCPTH16':'Supercenter_per_1000_2016', \n",
    "                                })\n",
    "stores['Combined_Grocery_2011'] = stores[['Grocery_2011', 'Supercenter_2011']].sum(axis=1, min_count=1).squeeze()\n",
    "stores['Combined_Grocery_2016'] = stores[['Grocery_2016', 'Supercenter_2016']].sum(axis=1, min_count=1).squeeze()\n",
    "stores['Combined_per_1000_2011'] = stores[['Grocery_per_1000_2011','Supercenter_per_1000_2011']].sum(axis=1, min_count=1).squeeze()\n",
    "stores['Combined_per_1000_2016'] = stores[['Grocery_per_1000_2016','Supercenter_per_1000_2016']].sum(axis=1, min_count=1).squeeze()\n",
    "stores.head()  "
   ]
  },
  {
   "cell_type": "markdown",
   "id": "f985a0a6",
   "metadata": {},
   "source": [
    "Next, we converted the demographics tab of the Excel sheet into a csv and performed the same procedure on the demographics data frame, first dropping the columns that were unnecessary in relation to our research questions, and the convert the column names back to their titles based on the variable codes."
   ]
  },
  {
   "cell_type": "code",
   "execution_count": 5,
   "id": "cf04db0a",
   "metadata": {},
   "outputs": [
    {
     "data": {
      "text/html": [
       "<div>\n",
       "<style scoped>\n",
       "    .dataframe tbody tr th:only-of-type {\n",
       "        vertical-align: middle;\n",
       "    }\n",
       "\n",
       "    .dataframe tbody tr th {\n",
       "        vertical-align: top;\n",
       "    }\n",
       "\n",
       "    .dataframe thead th {\n",
       "        text-align: right;\n",
       "    }\n",
       "</style>\n",
       "<table border=\"1\" class=\"dataframe\">\n",
       "  <thead>\n",
       "    <tr style=\"text-align: right;\">\n",
       "      <th></th>\n",
       "      <th>FIPS</th>\n",
       "      <th>State</th>\n",
       "      <th>County</th>\n",
       "      <th>PCT_NHWHITE10</th>\n",
       "      <th>PCT_NHBLACK10</th>\n",
       "      <th>PCT_HISP10</th>\n",
       "      <th>PCT_NHASIAN10</th>\n",
       "      <th>PCT_NHNA10</th>\n",
       "      <th>PCT_NHPI10</th>\n",
       "      <th>PCT_65OLDER10</th>\n",
       "      <th>PCT_18YOUNGER10</th>\n",
       "      <th>MEDHHINC15</th>\n",
       "      <th>POVRATE15</th>\n",
       "      <th>PERPOV10</th>\n",
       "      <th>CHILDPOVRATE15</th>\n",
       "      <th>PERCHLDPOV10</th>\n",
       "      <th>METRO13</th>\n",
       "      <th>POPLOSS10</th>\n",
       "    </tr>\n",
       "  </thead>\n",
       "  <tbody>\n",
       "    <tr>\n",
       "      <th>0</th>\n",
       "      <td>1001</td>\n",
       "      <td>AL</td>\n",
       "      <td>Autauga</td>\n",
       "      <td>77.246156</td>\n",
       "      <td>17.582599</td>\n",
       "      <td>2.400542</td>\n",
       "      <td>0.855766</td>\n",
       "      <td>0.397647</td>\n",
       "      <td>0.040314</td>\n",
       "      <td>11.995382</td>\n",
       "      <td>26.777959</td>\n",
       "      <td>56580.0</td>\n",
       "      <td>12.7</td>\n",
       "      <td>0</td>\n",
       "      <td>18.8</td>\n",
       "      <td>0</td>\n",
       "      <td>1</td>\n",
       "      <td>0.0</td>\n",
       "    </tr>\n",
       "    <tr>\n",
       "      <th>1</th>\n",
       "      <td>1003</td>\n",
       "      <td>AL</td>\n",
       "      <td>Baldwin</td>\n",
       "      <td>83.504787</td>\n",
       "      <td>9.308425</td>\n",
       "      <td>4.384824</td>\n",
       "      <td>0.735193</td>\n",
       "      <td>0.628755</td>\n",
       "      <td>0.043343</td>\n",
       "      <td>16.771185</td>\n",
       "      <td>22.987408</td>\n",
       "      <td>52387.0</td>\n",
       "      <td>12.9</td>\n",
       "      <td>0</td>\n",
       "      <td>19.6</td>\n",
       "      <td>0</td>\n",
       "      <td>1</td>\n",
       "      <td>0.0</td>\n",
       "    </tr>\n",
       "    <tr>\n",
       "      <th>2</th>\n",
       "      <td>1005</td>\n",
       "      <td>AL</td>\n",
       "      <td>Barbour</td>\n",
       "      <td>46.753105</td>\n",
       "      <td>46.691190</td>\n",
       "      <td>5.051535</td>\n",
       "      <td>0.389700</td>\n",
       "      <td>0.218524</td>\n",
       "      <td>0.087409</td>\n",
       "      <td>14.236807</td>\n",
       "      <td>21.906982</td>\n",
       "      <td>31433.0</td>\n",
       "      <td>32.0</td>\n",
       "      <td>1</td>\n",
       "      <td>45.2</td>\n",
       "      <td>1</td>\n",
       "      <td>0</td>\n",
       "      <td>0.0</td>\n",
       "    </tr>\n",
       "    <tr>\n",
       "      <th>3</th>\n",
       "      <td>1007</td>\n",
       "      <td>AL</td>\n",
       "      <td>Bibb</td>\n",
       "      <td>75.020729</td>\n",
       "      <td>21.924504</td>\n",
       "      <td>1.771765</td>\n",
       "      <td>0.096007</td>\n",
       "      <td>0.279293</td>\n",
       "      <td>0.030548</td>\n",
       "      <td>12.681650</td>\n",
       "      <td>22.696923</td>\n",
       "      <td>40767.0</td>\n",
       "      <td>22.2</td>\n",
       "      <td>0</td>\n",
       "      <td>29.3</td>\n",
       "      <td>1</td>\n",
       "      <td>1</td>\n",
       "      <td>0.0</td>\n",
       "    </tr>\n",
       "    <tr>\n",
       "      <th>4</th>\n",
       "      <td>1009</td>\n",
       "      <td>AL</td>\n",
       "      <td>Blount</td>\n",
       "      <td>88.887338</td>\n",
       "      <td>1.263040</td>\n",
       "      <td>8.070200</td>\n",
       "      <td>0.200621</td>\n",
       "      <td>0.497191</td>\n",
       "      <td>0.031402</td>\n",
       "      <td>14.722096</td>\n",
       "      <td>24.608353</td>\n",
       "      <td>50487.0</td>\n",
       "      <td>14.7</td>\n",
       "      <td>0</td>\n",
       "      <td>22.2</td>\n",
       "      <td>0</td>\n",
       "      <td>1</td>\n",
       "      <td>0.0</td>\n",
       "    </tr>\n",
       "  </tbody>\n",
       "</table>\n",
       "</div>"
      ],
      "text/plain": [
       "   FIPS State   County  PCT_NHWHITE10  PCT_NHBLACK10  PCT_HISP10  \\\n",
       "0  1001    AL  Autauga      77.246156      17.582599    2.400542   \n",
       "1  1003    AL  Baldwin      83.504787       9.308425    4.384824   \n",
       "2  1005    AL  Barbour      46.753105      46.691190    5.051535   \n",
       "3  1007    AL     Bibb      75.020729      21.924504    1.771765   \n",
       "4  1009    AL   Blount      88.887338       1.263040    8.070200   \n",
       "\n",
       "   PCT_NHASIAN10  PCT_NHNA10  PCT_NHPI10  PCT_65OLDER10  PCT_18YOUNGER10  \\\n",
       "0       0.855766    0.397647    0.040314      11.995382        26.777959   \n",
       "1       0.735193    0.628755    0.043343      16.771185        22.987408   \n",
       "2       0.389700    0.218524    0.087409      14.236807        21.906982   \n",
       "3       0.096007    0.279293    0.030548      12.681650        22.696923   \n",
       "4       0.200621    0.497191    0.031402      14.722096        24.608353   \n",
       "\n",
       "   MEDHHINC15  POVRATE15  PERPOV10  CHILDPOVRATE15  PERCHLDPOV10  METRO13  \\\n",
       "0     56580.0       12.7         0            18.8             0        1   \n",
       "1     52387.0       12.9         0            19.6             0        1   \n",
       "2     31433.0       32.0         1            45.2             1        0   \n",
       "3     40767.0       22.2         0            29.3             1        1   \n",
       "4     50487.0       14.7         0            22.2             0        1   \n",
       "\n",
       "   POPLOSS10  \n",
       "0        0.0  \n",
       "1        0.0  \n",
       "2        0.0  \n",
       "3        0.0  \n",
       "4        0.0  "
      ]
     },
     "execution_count": 5,
     "metadata": {},
     "output_type": "execute_result"
    }
   ],
   "source": [
    "demographics = pd.read_csv('data/county_demographics.csv')\n",
    "\n",
    "demographics.head()"
   ]
  },
  {
   "cell_type": "code",
   "execution_count": 6,
   "id": "f3d836f5",
   "metadata": {},
   "outputs": [
    {
     "data": {
      "text/html": [
       "<div>\n",
       "<style scoped>\n",
       "    .dataframe tbody tr th:only-of-type {\n",
       "        vertical-align: middle;\n",
       "    }\n",
       "\n",
       "    .dataframe tbody tr th {\n",
       "        vertical-align: top;\n",
       "    }\n",
       "\n",
       "    .dataframe thead th {\n",
       "        text-align: right;\n",
       "    }\n",
       "</style>\n",
       "<table border=\"1\" class=\"dataframe\">\n",
       "  <thead>\n",
       "    <tr style=\"text-align: right;\">\n",
       "      <th></th>\n",
       "      <th>State</th>\n",
       "      <th>RPP</th>\n",
       "    </tr>\n",
       "  </thead>\n",
       "  <tbody>\n",
       "    <tr>\n",
       "      <th>0</th>\n",
       "      <td>AK</td>\n",
       "      <td>1.04430</td>\n",
       "    </tr>\n",
       "    <tr>\n",
       "      <th>1</th>\n",
       "      <td>AL</td>\n",
       "      <td>0.90259</td>\n",
       "    </tr>\n",
       "    <tr>\n",
       "      <th>2</th>\n",
       "      <td>AR</td>\n",
       "      <td>0.89827</td>\n",
       "    </tr>\n",
       "    <tr>\n",
       "      <th>3</th>\n",
       "      <td>AZ</td>\n",
       "      <td>0.97901</td>\n",
       "    </tr>\n",
       "    <tr>\n",
       "      <th>4</th>\n",
       "      <td>CA</td>\n",
       "      <td>1.09260</td>\n",
       "    </tr>\n",
       "  </tbody>\n",
       "</table>\n",
       "</div>"
      ],
      "text/plain": [
       "  State      RPP\n",
       "0    AK  1.04430\n",
       "1    AL  0.90259\n",
       "2    AR  0.89827\n",
       "3    AZ  0.97901\n",
       "4    CA  1.09260"
      ]
     },
     "execution_count": 6,
     "metadata": {},
     "output_type": "execute_result"
    }
   ],
   "source": [
    "rpp = pd.read_csv('data/rpp.csv')\n",
    "# https://fredblog.stlouisfed.org/2017/07/regional-price-parities/#:~:text=In%20general%2C%20price%20levels%20are,and%20New%20Jersey%20(113.4).\n",
    "rpp['RPP'] = rpp['RPP']/100\n",
    "rpp.head()"
   ]
  },
  {
   "cell_type": "code",
   "execution_count": 7,
   "id": "d4bf3eb3",
   "metadata": {},
   "outputs": [
    {
     "data": {
      "text/html": [
       "<div>\n",
       "<style scoped>\n",
       "    .dataframe tbody tr th:only-of-type {\n",
       "        vertical-align: middle;\n",
       "    }\n",
       "\n",
       "    .dataframe tbody tr th {\n",
       "        vertical-align: top;\n",
       "    }\n",
       "\n",
       "    .dataframe thead th {\n",
       "        text-align: right;\n",
       "    }\n",
       "</style>\n",
       "<table border=\"1\" class=\"dataframe\">\n",
       "  <thead>\n",
       "    <tr style=\"text-align: right;\">\n",
       "      <th></th>\n",
       "      <th>State</th>\n",
       "      <th>County</th>\n",
       "      <th>PCT_NHWHITE10</th>\n",
       "      <th>PCT_NHBLACK10</th>\n",
       "      <th>PCT_HISP10</th>\n",
       "      <th>PCT_NHASIAN10</th>\n",
       "      <th>PCT_NHNA10</th>\n",
       "      <th>MEDHHINC15</th>\n",
       "      <th>POVRATE15</th>\n",
       "      <th>PERPOV10</th>\n",
       "      <th>METRO13</th>\n",
       "    </tr>\n",
       "  </thead>\n",
       "  <tbody>\n",
       "    <tr>\n",
       "      <th>0</th>\n",
       "      <td>AL</td>\n",
       "      <td>Autauga</td>\n",
       "      <td>77.246156</td>\n",
       "      <td>17.582599</td>\n",
       "      <td>2.400542</td>\n",
       "      <td>0.855766</td>\n",
       "      <td>0.397647</td>\n",
       "      <td>56580.0</td>\n",
       "      <td>12.7</td>\n",
       "      <td>0</td>\n",
       "      <td>1</td>\n",
       "    </tr>\n",
       "    <tr>\n",
       "      <th>1</th>\n",
       "      <td>AL</td>\n",
       "      <td>Baldwin</td>\n",
       "      <td>83.504787</td>\n",
       "      <td>9.308425</td>\n",
       "      <td>4.384824</td>\n",
       "      <td>0.735193</td>\n",
       "      <td>0.628755</td>\n",
       "      <td>52387.0</td>\n",
       "      <td>12.9</td>\n",
       "      <td>0</td>\n",
       "      <td>1</td>\n",
       "    </tr>\n",
       "    <tr>\n",
       "      <th>2</th>\n",
       "      <td>AL</td>\n",
       "      <td>Barbour</td>\n",
       "      <td>46.753105</td>\n",
       "      <td>46.691190</td>\n",
       "      <td>5.051535</td>\n",
       "      <td>0.389700</td>\n",
       "      <td>0.218524</td>\n",
       "      <td>31433.0</td>\n",
       "      <td>32.0</td>\n",
       "      <td>1</td>\n",
       "      <td>0</td>\n",
       "    </tr>\n",
       "    <tr>\n",
       "      <th>3</th>\n",
       "      <td>AL</td>\n",
       "      <td>Bibb</td>\n",
       "      <td>75.020729</td>\n",
       "      <td>21.924504</td>\n",
       "      <td>1.771765</td>\n",
       "      <td>0.096007</td>\n",
       "      <td>0.279293</td>\n",
       "      <td>40767.0</td>\n",
       "      <td>22.2</td>\n",
       "      <td>0</td>\n",
       "      <td>1</td>\n",
       "    </tr>\n",
       "    <tr>\n",
       "      <th>4</th>\n",
       "      <td>AL</td>\n",
       "      <td>Blount</td>\n",
       "      <td>88.887338</td>\n",
       "      <td>1.263040</td>\n",
       "      <td>8.070200</td>\n",
       "      <td>0.200621</td>\n",
       "      <td>0.497191</td>\n",
       "      <td>50487.0</td>\n",
       "      <td>14.7</td>\n",
       "      <td>0</td>\n",
       "      <td>1</td>\n",
       "    </tr>\n",
       "  </tbody>\n",
       "</table>\n",
       "</div>"
      ],
      "text/plain": [
       "  State   County  PCT_NHWHITE10  PCT_NHBLACK10  PCT_HISP10  PCT_NHASIAN10  \\\n",
       "0    AL  Autauga      77.246156      17.582599    2.400542       0.855766   \n",
       "1    AL  Baldwin      83.504787       9.308425    4.384824       0.735193   \n",
       "2    AL  Barbour      46.753105      46.691190    5.051535       0.389700   \n",
       "3    AL     Bibb      75.020729      21.924504    1.771765       0.096007   \n",
       "4    AL   Blount      88.887338       1.263040    8.070200       0.200621   \n",
       "\n",
       "   PCT_NHNA10  MEDHHINC15  POVRATE15  PERPOV10  METRO13  \n",
       "0    0.397647     56580.0       12.7         0        1  \n",
       "1    0.628755     52387.0       12.9         0        1  \n",
       "2    0.218524     31433.0       32.0         1        0  \n",
       "3    0.279293     40767.0       22.2         0        1  \n",
       "4    0.497191     50487.0       14.7         0        1  "
      ]
     },
     "execution_count": 7,
     "metadata": {},
     "output_type": "execute_result"
    }
   ],
   "source": [
    "demographics = demographics.drop(['PCT_65OLDER10', 'PCT_18YOUNGER10', 'PERCHLDPOV10',\n",
    "                                  'CHILDPOVRATE15',\n",
    "                                 'POPLOSS10', 'FIPS', 'PCT_NHPI10'], axis=1)\n",
    "demographics.head()"
   ]
  },
  {
   "cell_type": "code",
   "execution_count": 8,
   "id": "2beb749d",
   "metadata": {},
   "outputs": [
    {
     "data": {
      "text/html": [
       "<div>\n",
       "<style scoped>\n",
       "    .dataframe tbody tr th:only-of-type {\n",
       "        vertical-align: middle;\n",
       "    }\n",
       "\n",
       "    .dataframe tbody tr th {\n",
       "        vertical-align: top;\n",
       "    }\n",
       "\n",
       "    .dataframe thead th {\n",
       "        text-align: right;\n",
       "    }\n",
       "</style>\n",
       "<table border=\"1\" class=\"dataframe\">\n",
       "  <thead>\n",
       "    <tr style=\"text-align: right;\">\n",
       "      <th></th>\n",
       "      <th>State</th>\n",
       "      <th>County</th>\n",
       "      <th>Percent_White_2010</th>\n",
       "      <th>Percent_Black_2010</th>\n",
       "      <th>Percent_Hispanic_2010</th>\n",
       "      <th>Percent_Asian_2010</th>\n",
       "      <th>Percent_Native_American_2010</th>\n",
       "      <th>Median_household_income_2015</th>\n",
       "      <th>Poverty_Rate_2015</th>\n",
       "      <th>Persistent_Poverty</th>\n",
       "      <th>Metro</th>\n",
       "    </tr>\n",
       "  </thead>\n",
       "  <tbody>\n",
       "    <tr>\n",
       "      <th>0</th>\n",
       "      <td>AL</td>\n",
       "      <td>Autauga</td>\n",
       "      <td>77.246156</td>\n",
       "      <td>17.582599</td>\n",
       "      <td>2.400542</td>\n",
       "      <td>0.855766</td>\n",
       "      <td>0.397647</td>\n",
       "      <td>56580.0</td>\n",
       "      <td>12.7</td>\n",
       "      <td>0</td>\n",
       "      <td>1</td>\n",
       "    </tr>\n",
       "    <tr>\n",
       "      <th>1</th>\n",
       "      <td>AL</td>\n",
       "      <td>Baldwin</td>\n",
       "      <td>83.504787</td>\n",
       "      <td>9.308425</td>\n",
       "      <td>4.384824</td>\n",
       "      <td>0.735193</td>\n",
       "      <td>0.628755</td>\n",
       "      <td>52387.0</td>\n",
       "      <td>12.9</td>\n",
       "      <td>0</td>\n",
       "      <td>1</td>\n",
       "    </tr>\n",
       "    <tr>\n",
       "      <th>2</th>\n",
       "      <td>AL</td>\n",
       "      <td>Barbour</td>\n",
       "      <td>46.753105</td>\n",
       "      <td>46.691190</td>\n",
       "      <td>5.051535</td>\n",
       "      <td>0.389700</td>\n",
       "      <td>0.218524</td>\n",
       "      <td>31433.0</td>\n",
       "      <td>32.0</td>\n",
       "      <td>1</td>\n",
       "      <td>0</td>\n",
       "    </tr>\n",
       "    <tr>\n",
       "      <th>3</th>\n",
       "      <td>AL</td>\n",
       "      <td>Bibb</td>\n",
       "      <td>75.020729</td>\n",
       "      <td>21.924504</td>\n",
       "      <td>1.771765</td>\n",
       "      <td>0.096007</td>\n",
       "      <td>0.279293</td>\n",
       "      <td>40767.0</td>\n",
       "      <td>22.2</td>\n",
       "      <td>0</td>\n",
       "      <td>1</td>\n",
       "    </tr>\n",
       "    <tr>\n",
       "      <th>4</th>\n",
       "      <td>AL</td>\n",
       "      <td>Blount</td>\n",
       "      <td>88.887338</td>\n",
       "      <td>1.263040</td>\n",
       "      <td>8.070200</td>\n",
       "      <td>0.200621</td>\n",
       "      <td>0.497191</td>\n",
       "      <td>50487.0</td>\n",
       "      <td>14.7</td>\n",
       "      <td>0</td>\n",
       "      <td>1</td>\n",
       "    </tr>\n",
       "  </tbody>\n",
       "</table>\n",
       "</div>"
      ],
      "text/plain": [
       "  State   County  Percent_White_2010  Percent_Black_2010  \\\n",
       "0    AL  Autauga           77.246156           17.582599   \n",
       "1    AL  Baldwin           83.504787            9.308425   \n",
       "2    AL  Barbour           46.753105           46.691190   \n",
       "3    AL     Bibb           75.020729           21.924504   \n",
       "4    AL   Blount           88.887338            1.263040   \n",
       "\n",
       "   Percent_Hispanic_2010  Percent_Asian_2010  Percent_Native_American_2010  \\\n",
       "0               2.400542            0.855766                      0.397647   \n",
       "1               4.384824            0.735193                      0.628755   \n",
       "2               5.051535            0.389700                      0.218524   \n",
       "3               1.771765            0.096007                      0.279293   \n",
       "4               8.070200            0.200621                      0.497191   \n",
       "\n",
       "   Median_household_income_2015  Poverty_Rate_2015  Persistent_Poverty  Metro  \n",
       "0                       56580.0               12.7                   0      1  \n",
       "1                       52387.0               12.9                   0      1  \n",
       "2                       31433.0               32.0                   1      0  \n",
       "3                       40767.0               22.2                   0      1  \n",
       "4                       50487.0               14.7                   0      1  "
      ]
     },
     "execution_count": 8,
     "metadata": {},
     "output_type": "execute_result"
    }
   ],
   "source": [
    "demographics = demographics.rename(columns={\n",
    "    'PCT_NHWHITE10': 'Percent_White_2010',\n",
    "    'PCT_NHBLACK10': 'Percent_Black_2010',\n",
    "    'PCT_HISP10': 'Percent_Hispanic_2010',\n",
    "    'PCT_NHASIAN10': 'Percent_Asian_2010',\n",
    "    'PCT_NHNA10': 'Percent_Native_American_2010',\n",
    "    'MEDHHINC15': 'Median_household_income_2015',\n",
    "    'PERPOV10':'Persistent_Poverty',\n",
    "    'POVRATE15': 'Poverty_Rate_2015',\n",
    "    'METRO13': 'Metro'\n",
    "})\n",
    "demographics.head()"
   ]
  },
  {
   "cell_type": "code",
   "execution_count": 9,
   "id": "d3c4565e",
   "metadata": {},
   "outputs": [
    {
     "data": {
      "text/html": [
       "<div>\n",
       "<style scoped>\n",
       "    .dataframe tbody tr th:only-of-type {\n",
       "        vertical-align: middle;\n",
       "    }\n",
       "\n",
       "    .dataframe tbody tr th {\n",
       "        vertical-align: top;\n",
       "    }\n",
       "\n",
       "    .dataframe thead th {\n",
       "        text-align: right;\n",
       "    }\n",
       "</style>\n",
       "<table border=\"1\" class=\"dataframe\">\n",
       "  <thead>\n",
       "    <tr style=\"text-align: right;\">\n",
       "      <th></th>\n",
       "      <th>State</th>\n",
       "      <th>County</th>\n",
       "      <th>Percent_White_2010</th>\n",
       "      <th>Percent_Black_2010</th>\n",
       "      <th>Percent_Hispanic_2010</th>\n",
       "      <th>Percent_Asian_2010</th>\n",
       "      <th>Percent_Native_American_2010</th>\n",
       "      <th>Median_household_income_2015</th>\n",
       "      <th>Poverty_Rate_2015</th>\n",
       "      <th>Persistent_Poverty</th>\n",
       "      <th>Metro</th>\n",
       "    </tr>\n",
       "  </thead>\n",
       "  <tbody>\n",
       "    <tr>\n",
       "      <th>92</th>\n",
       "      <td>AK</td>\n",
       "      <td>Wade Hampton</td>\n",
       "      <td>2.667918</td>\n",
       "      <td>0.013407</td>\n",
       "      <td>0.093846</td>\n",
       "      <td>0.227913</td>\n",
       "      <td>94.945703</td>\n",
       "      <td>NaN</td>\n",
       "      <td>NaN</td>\n",
       "      <td>1</td>\n",
       "      <td>0</td>\n",
       "    </tr>\n",
       "    <tr>\n",
       "      <th>548</th>\n",
       "      <td>HI</td>\n",
       "      <td>Kalawao</td>\n",
       "      <td>26.666667</td>\n",
       "      <td>0.000000</td>\n",
       "      <td>1.111111</td>\n",
       "      <td>7.777778</td>\n",
       "      <td>0.000000</td>\n",
       "      <td>NaN</td>\n",
       "      <td>NaN</td>\n",
       "      <td>0</td>\n",
       "      <td>1</td>\n",
       "    </tr>\n",
       "    <tr>\n",
       "      <th>2417</th>\n",
       "      <td>SD</td>\n",
       "      <td>Shannon</td>\n",
       "      <td>2.804357</td>\n",
       "      <td>0.029442</td>\n",
       "      <td>2.193434</td>\n",
       "      <td>0.103047</td>\n",
       "      <td>94.096864</td>\n",
       "      <td>NaN</td>\n",
       "      <td>NaN</td>\n",
       "      <td>1</td>\n",
       "      <td>0</td>\n",
       "    </tr>\n",
       "    <tr>\n",
       "      <th>2916</th>\n",
       "      <td>VA</td>\n",
       "      <td>Bedford</td>\n",
       "      <td>75.072324</td>\n",
       "      <td>20.009643</td>\n",
       "      <td>2.153648</td>\n",
       "      <td>0.658952</td>\n",
       "      <td>0.112504</td>\n",
       "      <td>NaN</td>\n",
       "      <td>NaN</td>\n",
       "      <td>0</td>\n",
       "      <td>1</td>\n",
       "    </tr>\n",
       "  </tbody>\n",
       "</table>\n",
       "</div>"
      ],
      "text/plain": [
       "     State        County  Percent_White_2010  Percent_Black_2010  \\\n",
       "92      AK  Wade Hampton            2.667918            0.013407   \n",
       "548     HI       Kalawao           26.666667            0.000000   \n",
       "2417    SD       Shannon            2.804357            0.029442   \n",
       "2916    VA       Bedford           75.072324           20.009643   \n",
       "\n",
       "      Percent_Hispanic_2010  Percent_Asian_2010  Percent_Native_American_2010  \\\n",
       "92                 0.093846            0.227913                     94.945703   \n",
       "548                1.111111            7.777778                      0.000000   \n",
       "2417               2.193434            0.103047                     94.096864   \n",
       "2916               2.153648            0.658952                      0.112504   \n",
       "\n",
       "      Median_household_income_2015  Poverty_Rate_2015  Persistent_Poverty  \\\n",
       "92                             NaN                NaN                   1   \n",
       "548                            NaN                NaN                   0   \n",
       "2417                           NaN                NaN                   1   \n",
       "2916                           NaN                NaN                   0   \n",
       "\n",
       "      Metro  \n",
       "92        0  \n",
       "548       1  \n",
       "2417      0  \n",
       "2916      1  "
      ]
     },
     "execution_count": 9,
     "metadata": {},
     "output_type": "execute_result"
    }
   ],
   "source": [
    "demographics[demographics.isnull().any(axis=1)]"
   ]
  },
  {
   "cell_type": "code",
   "execution_count": 10,
   "id": "1c6a584d",
   "metadata": {},
   "outputs": [
    {
     "data": {
      "text/html": [
       "<div>\n",
       "<style scoped>\n",
       "    .dataframe tbody tr th:only-of-type {\n",
       "        vertical-align: middle;\n",
       "    }\n",
       "\n",
       "    .dataframe tbody tr th {\n",
       "        vertical-align: top;\n",
       "    }\n",
       "\n",
       "    .dataframe thead th {\n",
       "        text-align: right;\n",
       "    }\n",
       "</style>\n",
       "<table border=\"1\" class=\"dataframe\">\n",
       "  <thead>\n",
       "    <tr style=\"text-align: right;\">\n",
       "      <th></th>\n",
       "      <th>State</th>\n",
       "      <th>County</th>\n",
       "      <th>Percent_White_2010</th>\n",
       "      <th>Percent_Black_2010</th>\n",
       "      <th>Percent_Hispanic_2010</th>\n",
       "      <th>Percent_Asian_2010</th>\n",
       "      <th>Percent_Native_American_2010</th>\n",
       "      <th>Median_household_income_2015</th>\n",
       "      <th>Poverty_Rate_2015</th>\n",
       "      <th>Persistent_Poverty</th>\n",
       "      <th>Metro</th>\n",
       "    </tr>\n",
       "  </thead>\n",
       "  <tbody>\n",
       "    <tr>\n",
       "      <th>0</th>\n",
       "      <td>AL</td>\n",
       "      <td>Autauga</td>\n",
       "      <td>77.246156</td>\n",
       "      <td>17.582599</td>\n",
       "      <td>2.400542</td>\n",
       "      <td>0.855766</td>\n",
       "      <td>0.397647</td>\n",
       "      <td>56580.0</td>\n",
       "      <td>12.7</td>\n",
       "      <td>0</td>\n",
       "      <td>1</td>\n",
       "    </tr>\n",
       "    <tr>\n",
       "      <th>1</th>\n",
       "      <td>AL</td>\n",
       "      <td>Baldwin</td>\n",
       "      <td>83.504787</td>\n",
       "      <td>9.308425</td>\n",
       "      <td>4.384824</td>\n",
       "      <td>0.735193</td>\n",
       "      <td>0.628755</td>\n",
       "      <td>52387.0</td>\n",
       "      <td>12.9</td>\n",
       "      <td>0</td>\n",
       "      <td>1</td>\n",
       "    </tr>\n",
       "    <tr>\n",
       "      <th>2</th>\n",
       "      <td>AL</td>\n",
       "      <td>Barbour</td>\n",
       "      <td>46.753105</td>\n",
       "      <td>46.691190</td>\n",
       "      <td>5.051535</td>\n",
       "      <td>0.389700</td>\n",
       "      <td>0.218524</td>\n",
       "      <td>31433.0</td>\n",
       "      <td>32.0</td>\n",
       "      <td>1</td>\n",
       "      <td>0</td>\n",
       "    </tr>\n",
       "    <tr>\n",
       "      <th>3</th>\n",
       "      <td>AL</td>\n",
       "      <td>Bibb</td>\n",
       "      <td>75.020729</td>\n",
       "      <td>21.924504</td>\n",
       "      <td>1.771765</td>\n",
       "      <td>0.096007</td>\n",
       "      <td>0.279293</td>\n",
       "      <td>40767.0</td>\n",
       "      <td>22.2</td>\n",
       "      <td>0</td>\n",
       "      <td>1</td>\n",
       "    </tr>\n",
       "    <tr>\n",
       "      <th>4</th>\n",
       "      <td>AL</td>\n",
       "      <td>Blount</td>\n",
       "      <td>88.887338</td>\n",
       "      <td>1.263040</td>\n",
       "      <td>8.070200</td>\n",
       "      <td>0.200621</td>\n",
       "      <td>0.497191</td>\n",
       "      <td>50487.0</td>\n",
       "      <td>14.7</td>\n",
       "      <td>0</td>\n",
       "      <td>1</td>\n",
       "    </tr>\n",
       "  </tbody>\n",
       "</table>\n",
       "</div>"
      ],
      "text/plain": [
       "  State   County  Percent_White_2010  Percent_Black_2010  \\\n",
       "0    AL  Autauga           77.246156           17.582599   \n",
       "1    AL  Baldwin           83.504787            9.308425   \n",
       "2    AL  Barbour           46.753105           46.691190   \n",
       "3    AL     Bibb           75.020729           21.924504   \n",
       "4    AL   Blount           88.887338            1.263040   \n",
       "\n",
       "   Percent_Hispanic_2010  Percent_Asian_2010  Percent_Native_American_2010  \\\n",
       "0               2.400542            0.855766                      0.397647   \n",
       "1               4.384824            0.735193                      0.628755   \n",
       "2               5.051535            0.389700                      0.218524   \n",
       "3               1.771765            0.096007                      0.279293   \n",
       "4               8.070200            0.200621                      0.497191   \n",
       "\n",
       "   Median_household_income_2015  Poverty_Rate_2015  Persistent_Poverty  Metro  \n",
       "0                       56580.0               12.7                   0      1  \n",
       "1                       52387.0               12.9                   0      1  \n",
       "2                       31433.0               32.0                   1      0  \n",
       "3                       40767.0               22.2                   0      1  \n",
       "4                       50487.0               14.7                   0      1  "
      ]
     },
     "execution_count": 10,
     "metadata": {},
     "output_type": "execute_result"
    }
   ],
   "source": [
    "# fill in NaN values, theres 4 citation: https://fred.stlouisfed.org/series/MHISD46113A052NCEN and \n",
    "# https://datausa.io/profile/geo/bedford-va\n",
    "demographics.loc[(demographics['County'] == 'Wade Hampton') & \n",
    "                 (demographics['Median_household_income_2015'].isnull()), \n",
    "                 'Median_household_income_2015'] = 40943\n",
    "demographics.loc[(demographics['County'] == 'Kalawao') & \n",
    "                       (demographics['Median_household_income_2015'].isnull()),\n",
    "                 'Median_household_income_2015'] = 79583\n",
    "demographics.loc[(demographics['County'] == 'Shannon') & \n",
    "                       (demographics['Median_household_income_2015'].isnull()),\n",
    "                 'Median_household_income_2015'] = 27244\n",
    "demographics.loc[(demographics['County'] == 'Bedford') & \n",
    "                       (demographics['Median_household_income_2015'].isnull()),\n",
    "                 'Median_household_income_2015'] = 36971\n",
    "demographics.head()"
   ]
  },
  {
   "cell_type": "code",
   "execution_count": 11,
   "id": "d66f6e50",
   "metadata": {},
   "outputs": [
    {
     "data": {
      "text/html": [
       "<div>\n",
       "<style scoped>\n",
       "    .dataframe tbody tr th:only-of-type {\n",
       "        vertical-align: middle;\n",
       "    }\n",
       "\n",
       "    .dataframe tbody tr th {\n",
       "        vertical-align: top;\n",
       "    }\n",
       "\n",
       "    .dataframe thead th {\n",
       "        text-align: right;\n",
       "    }\n",
       "</style>\n",
       "<table border=\"1\" class=\"dataframe\">\n",
       "  <thead>\n",
       "    <tr style=\"text-align: right;\">\n",
       "      <th></th>\n",
       "      <th>State</th>\n",
       "      <th>County</th>\n",
       "      <th>Percent_White_2010</th>\n",
       "      <th>Percent_Black_2010</th>\n",
       "      <th>Percent_Hispanic_2010</th>\n",
       "      <th>Percent_Asian_2010</th>\n",
       "      <th>Percent_Native_American_2010</th>\n",
       "      <th>Median_household_income_2015</th>\n",
       "      <th>Poverty_Rate_2015</th>\n",
       "      <th>Persistent_Poverty</th>\n",
       "      <th>Metro</th>\n",
       "      <th>RPP</th>\n",
       "    </tr>\n",
       "  </thead>\n",
       "  <tbody>\n",
       "    <tr>\n",
       "      <th>0</th>\n",
       "      <td>AL</td>\n",
       "      <td>Autauga</td>\n",
       "      <td>77.246156</td>\n",
       "      <td>17.582599</td>\n",
       "      <td>2.400542</td>\n",
       "      <td>0.855766</td>\n",
       "      <td>0.397647</td>\n",
       "      <td>56580.0</td>\n",
       "      <td>12.7</td>\n",
       "      <td>0</td>\n",
       "      <td>1</td>\n",
       "      <td>0.90259</td>\n",
       "    </tr>\n",
       "    <tr>\n",
       "      <th>1</th>\n",
       "      <td>AL</td>\n",
       "      <td>Baldwin</td>\n",
       "      <td>83.504787</td>\n",
       "      <td>9.308425</td>\n",
       "      <td>4.384824</td>\n",
       "      <td>0.735193</td>\n",
       "      <td>0.628755</td>\n",
       "      <td>52387.0</td>\n",
       "      <td>12.9</td>\n",
       "      <td>0</td>\n",
       "      <td>1</td>\n",
       "      <td>0.90259</td>\n",
       "    </tr>\n",
       "    <tr>\n",
       "      <th>2</th>\n",
       "      <td>AL</td>\n",
       "      <td>Barbour</td>\n",
       "      <td>46.753105</td>\n",
       "      <td>46.691190</td>\n",
       "      <td>5.051535</td>\n",
       "      <td>0.389700</td>\n",
       "      <td>0.218524</td>\n",
       "      <td>31433.0</td>\n",
       "      <td>32.0</td>\n",
       "      <td>1</td>\n",
       "      <td>0</td>\n",
       "      <td>0.90259</td>\n",
       "    </tr>\n",
       "    <tr>\n",
       "      <th>3</th>\n",
       "      <td>AL</td>\n",
       "      <td>Bibb</td>\n",
       "      <td>75.020729</td>\n",
       "      <td>21.924504</td>\n",
       "      <td>1.771765</td>\n",
       "      <td>0.096007</td>\n",
       "      <td>0.279293</td>\n",
       "      <td>40767.0</td>\n",
       "      <td>22.2</td>\n",
       "      <td>0</td>\n",
       "      <td>1</td>\n",
       "      <td>0.90259</td>\n",
       "    </tr>\n",
       "    <tr>\n",
       "      <th>4</th>\n",
       "      <td>AL</td>\n",
       "      <td>Blount</td>\n",
       "      <td>88.887338</td>\n",
       "      <td>1.263040</td>\n",
       "      <td>8.070200</td>\n",
       "      <td>0.200621</td>\n",
       "      <td>0.497191</td>\n",
       "      <td>50487.0</td>\n",
       "      <td>14.7</td>\n",
       "      <td>0</td>\n",
       "      <td>1</td>\n",
       "      <td>0.90259</td>\n",
       "    </tr>\n",
       "  </tbody>\n",
       "</table>\n",
       "</div>"
      ],
      "text/plain": [
       "  State   County  Percent_White_2010  Percent_Black_2010  \\\n",
       "0    AL  Autauga           77.246156           17.582599   \n",
       "1    AL  Baldwin           83.504787            9.308425   \n",
       "2    AL  Barbour           46.753105           46.691190   \n",
       "3    AL     Bibb           75.020729           21.924504   \n",
       "4    AL   Blount           88.887338            1.263040   \n",
       "\n",
       "   Percent_Hispanic_2010  Percent_Asian_2010  Percent_Native_American_2010  \\\n",
       "0               2.400542            0.855766                      0.397647   \n",
       "1               4.384824            0.735193                      0.628755   \n",
       "2               5.051535            0.389700                      0.218524   \n",
       "3               1.771765            0.096007                      0.279293   \n",
       "4               8.070200            0.200621                      0.497191   \n",
       "\n",
       "   Median_household_income_2015  Poverty_Rate_2015  Persistent_Poverty  Metro  \\\n",
       "0                       56580.0               12.7                   0      1   \n",
       "1                       52387.0               12.9                   0      1   \n",
       "2                       31433.0               32.0                   1      0   \n",
       "3                       40767.0               22.2                   0      1   \n",
       "4                       50487.0               14.7                   0      1   \n",
       "\n",
       "       RPP  \n",
       "0  0.90259  \n",
       "1  0.90259  \n",
       "2  0.90259  \n",
       "3  0.90259  \n",
       "4  0.90259  "
      ]
     },
     "execution_count": 11,
     "metadata": {},
     "output_type": "execute_result"
    }
   ],
   "source": [
    "demographics = pd.merge(demographics, rpp, on='State')\n",
    "demographics.head()"
   ]
  },
  {
   "cell_type": "code",
   "execution_count": 12,
   "id": "7a0fa6b2",
   "metadata": {},
   "outputs": [
    {
     "data": {
      "text/html": [
       "<div>\n",
       "<style scoped>\n",
       "    .dataframe tbody tr th:only-of-type {\n",
       "        vertical-align: middle;\n",
       "    }\n",
       "\n",
       "    .dataframe tbody tr th {\n",
       "        vertical-align: top;\n",
       "    }\n",
       "\n",
       "    .dataframe thead th {\n",
       "        text-align: right;\n",
       "    }\n",
       "</style>\n",
       "<table border=\"1\" class=\"dataframe\">\n",
       "  <thead>\n",
       "    <tr style=\"text-align: right;\">\n",
       "      <th></th>\n",
       "      <th>State</th>\n",
       "      <th>County</th>\n",
       "      <th>Percent_White_2010</th>\n",
       "      <th>Percent_Black_2010</th>\n",
       "      <th>Percent_Hispanic_2010</th>\n",
       "      <th>Percent_Asian_2010</th>\n",
       "      <th>Percent_Native_American_2010</th>\n",
       "      <th>Median_household_income_2015</th>\n",
       "      <th>Poverty_Rate_2015</th>\n",
       "      <th>Persistent_Poverty</th>\n",
       "      <th>Metro</th>\n",
       "      <th>RPP</th>\n",
       "      <th>Income_Adjusted_by_RPP</th>\n",
       "      <th>Above_US_Median</th>\n",
       "    </tr>\n",
       "  </thead>\n",
       "  <tbody>\n",
       "    <tr>\n",
       "      <th>0</th>\n",
       "      <td>AL</td>\n",
       "      <td>Autauga</td>\n",
       "      <td>77.246156</td>\n",
       "      <td>17.582599</td>\n",
       "      <td>2.400542</td>\n",
       "      <td>0.855766</td>\n",
       "      <td>0.397647</td>\n",
       "      <td>56580.0</td>\n",
       "      <td>12.7</td>\n",
       "      <td>0</td>\n",
       "      <td>1</td>\n",
       "      <td>0.90259</td>\n",
       "      <td>62686.269513</td>\n",
       "      <td>0.965890</td>\n",
       "    </tr>\n",
       "    <tr>\n",
       "      <th>1</th>\n",
       "      <td>AL</td>\n",
       "      <td>Baldwin</td>\n",
       "      <td>83.504787</td>\n",
       "      <td>9.308425</td>\n",
       "      <td>4.384824</td>\n",
       "      <td>0.735193</td>\n",
       "      <td>0.628755</td>\n",
       "      <td>52387.0</td>\n",
       "      <td>12.9</td>\n",
       "      <td>0</td>\n",
       "      <td>1</td>\n",
       "      <td>0.90259</td>\n",
       "      <td>58040.749399</td>\n",
       "      <td>0.894310</td>\n",
       "    </tr>\n",
       "    <tr>\n",
       "      <th>2</th>\n",
       "      <td>AL</td>\n",
       "      <td>Barbour</td>\n",
       "      <td>46.753105</td>\n",
       "      <td>46.691190</td>\n",
       "      <td>5.051535</td>\n",
       "      <td>0.389700</td>\n",
       "      <td>0.218524</td>\n",
       "      <td>31433.0</td>\n",
       "      <td>32.0</td>\n",
       "      <td>1</td>\n",
       "      <td>0</td>\n",
       "      <td>0.90259</td>\n",
       "      <td>34825.335978</td>\n",
       "      <td>0.536600</td>\n",
       "    </tr>\n",
       "    <tr>\n",
       "      <th>3</th>\n",
       "      <td>AL</td>\n",
       "      <td>Bibb</td>\n",
       "      <td>75.020729</td>\n",
       "      <td>21.924504</td>\n",
       "      <td>1.771765</td>\n",
       "      <td>0.096007</td>\n",
       "      <td>0.279293</td>\n",
       "      <td>40767.0</td>\n",
       "      <td>22.2</td>\n",
       "      <td>0</td>\n",
       "      <td>1</td>\n",
       "      <td>0.90259</td>\n",
       "      <td>45166.686979</td>\n",
       "      <td>0.695943</td>\n",
       "    </tr>\n",
       "    <tr>\n",
       "      <th>4</th>\n",
       "      <td>AL</td>\n",
       "      <td>Blount</td>\n",
       "      <td>88.887338</td>\n",
       "      <td>1.263040</td>\n",
       "      <td>8.070200</td>\n",
       "      <td>0.200621</td>\n",
       "      <td>0.497191</td>\n",
       "      <td>50487.0</td>\n",
       "      <td>14.7</td>\n",
       "      <td>0</td>\n",
       "      <td>1</td>\n",
       "      <td>0.90259</td>\n",
       "      <td>55935.696163</td>\n",
       "      <td>0.861875</td>\n",
       "    </tr>\n",
       "  </tbody>\n",
       "</table>\n",
       "</div>"
      ],
      "text/plain": [
       "  State   County  Percent_White_2010  Percent_Black_2010  \\\n",
       "0    AL  Autauga           77.246156           17.582599   \n",
       "1    AL  Baldwin           83.504787            9.308425   \n",
       "2    AL  Barbour           46.753105           46.691190   \n",
       "3    AL     Bibb           75.020729           21.924504   \n",
       "4    AL   Blount           88.887338            1.263040   \n",
       "\n",
       "   Percent_Hispanic_2010  Percent_Asian_2010  Percent_Native_American_2010  \\\n",
       "0               2.400542            0.855766                      0.397647   \n",
       "1               4.384824            0.735193                      0.628755   \n",
       "2               5.051535            0.389700                      0.218524   \n",
       "3               1.771765            0.096007                      0.279293   \n",
       "4               8.070200            0.200621                      0.497191   \n",
       "\n",
       "   Median_household_income_2015  Poverty_Rate_2015  Persistent_Poverty  Metro  \\\n",
       "0                       56580.0               12.7                   0      1   \n",
       "1                       52387.0               12.9                   0      1   \n",
       "2                       31433.0               32.0                   1      0   \n",
       "3                       40767.0               22.2                   0      1   \n",
       "4                       50487.0               14.7                   0      1   \n",
       "\n",
       "       RPP  Income_Adjusted_by_RPP  Above_US_Median  \n",
       "0  0.90259            62686.269513         0.965890  \n",
       "1  0.90259            58040.749399         0.894310  \n",
       "2  0.90259            34825.335978         0.536600  \n",
       "3  0.90259            45166.686979         0.695943  \n",
       "4  0.90259            55935.696163         0.861875  "
      ]
     },
     "execution_count": 12,
     "metadata": {},
     "output_type": "execute_result"
    }
   ],
   "source": [
    "demographics['Income_Adjusted_by_RPP'] = demographics['Median_household_income_2015'] / demographics['RPP']\n",
    "US_Median_2015 = 64900  #https://fred.stlouisfed.org/series/MEHOINUSA672N\n",
    "demographics['Above_US_Median'] = demographics['Income_Adjusted_by_RPP']/ US_Median_2015\n",
    "demographics.head()"
   ]
  },
  {
   "cell_type": "markdown",
   "id": "efb37b38",
   "metadata": {},
   "source": [
    "Then, we converted the restaurants tab of the Excel sheet into a csv file, created another data frame, dropped the columns we were not interested in, and changed the column names from the variable codes."
   ]
  },
  {
   "cell_type": "code",
   "execution_count": 13,
   "id": "7436a040",
   "metadata": {},
   "outputs": [
    {
     "data": {
      "text/html": [
       "<div>\n",
       "<style scoped>\n",
       "    .dataframe tbody tr th:only-of-type {\n",
       "        vertical-align: middle;\n",
       "    }\n",
       "\n",
       "    .dataframe tbody tr th {\n",
       "        vertical-align: top;\n",
       "    }\n",
       "\n",
       "    .dataframe thead th {\n",
       "        text-align: right;\n",
       "    }\n",
       "</style>\n",
       "<table border=\"1\" class=\"dataframe\">\n",
       "  <thead>\n",
       "    <tr style=\"text-align: right;\">\n",
       "      <th></th>\n",
       "      <th>FIPS</th>\n",
       "      <th>State</th>\n",
       "      <th>County</th>\n",
       "      <th>FFR11</th>\n",
       "      <th>FFR16</th>\n",
       "      <th>PCH_FFR_11_16</th>\n",
       "      <th>FFRPTH11</th>\n",
       "      <th>FFRPTH16</th>\n",
       "      <th>PCH_FFRPTH_11_16</th>\n",
       "      <th>FSR11</th>\n",
       "      <th>FSR16</th>\n",
       "      <th>PCH_FSR_11_16</th>\n",
       "      <th>FSRPTH11</th>\n",
       "      <th>FSRPTH16</th>\n",
       "      <th>PCH_FSRPTH_11_16</th>\n",
       "      <th>PC_FFRSALES07</th>\n",
       "      <th>PC_FFRSALES12</th>\n",
       "      <th>PC_FSRSALES07</th>\n",
       "      <th>PC_FSRSALES12</th>\n",
       "    </tr>\n",
       "  </thead>\n",
       "  <tbody>\n",
       "    <tr>\n",
       "      <th>0</th>\n",
       "      <td>1001</td>\n",
       "      <td>AL</td>\n",
       "      <td>Autauga</td>\n",
       "      <td>34</td>\n",
       "      <td>44</td>\n",
       "      <td>29.411765</td>\n",
       "      <td>0.615953</td>\n",
       "      <td>0.795977</td>\n",
       "      <td>29.226817</td>\n",
       "      <td>32</td>\n",
       "      <td>31</td>\n",
       "      <td>-3.125000</td>\n",
       "      <td>0.579721</td>\n",
       "      <td>0.560802</td>\n",
       "      <td>-3.263448</td>\n",
       "      <td>649.511367</td>\n",
       "      <td>674.80272</td>\n",
       "      <td>484.381507</td>\n",
       "      <td>512.280987</td>\n",
       "    </tr>\n",
       "    <tr>\n",
       "      <th>1</th>\n",
       "      <td>1003</td>\n",
       "      <td>AL</td>\n",
       "      <td>Baldwin</td>\n",
       "      <td>121</td>\n",
       "      <td>156</td>\n",
       "      <td>28.925620</td>\n",
       "      <td>0.648675</td>\n",
       "      <td>0.751775</td>\n",
       "      <td>15.893824</td>\n",
       "      <td>216</td>\n",
       "      <td>236</td>\n",
       "      <td>9.259259</td>\n",
       "      <td>1.157966</td>\n",
       "      <td>1.137300</td>\n",
       "      <td>-1.784662</td>\n",
       "      <td>649.511367</td>\n",
       "      <td>674.80272</td>\n",
       "      <td>484.381507</td>\n",
       "      <td>512.280987</td>\n",
       "    </tr>\n",
       "    <tr>\n",
       "      <th>2</th>\n",
       "      <td>1005</td>\n",
       "      <td>AL</td>\n",
       "      <td>Barbour</td>\n",
       "      <td>19</td>\n",
       "      <td>23</td>\n",
       "      <td>21.052632</td>\n",
       "      <td>0.694673</td>\n",
       "      <td>0.892372</td>\n",
       "      <td>28.459320</td>\n",
       "      <td>17</td>\n",
       "      <td>14</td>\n",
       "      <td>-17.647059</td>\n",
       "      <td>0.621549</td>\n",
       "      <td>0.543183</td>\n",
       "      <td>-12.608237</td>\n",
       "      <td>649.511367</td>\n",
       "      <td>674.80272</td>\n",
       "      <td>484.381507</td>\n",
       "      <td>512.280987</td>\n",
       "    </tr>\n",
       "    <tr>\n",
       "      <th>3</th>\n",
       "      <td>1007</td>\n",
       "      <td>AL</td>\n",
       "      <td>Bibb</td>\n",
       "      <td>6</td>\n",
       "      <td>7</td>\n",
       "      <td>16.666667</td>\n",
       "      <td>0.263794</td>\n",
       "      <td>0.309283</td>\n",
       "      <td>17.243995</td>\n",
       "      <td>5</td>\n",
       "      <td>7</td>\n",
       "      <td>40.000000</td>\n",
       "      <td>0.219829</td>\n",
       "      <td>0.309283</td>\n",
       "      <td>40.692794</td>\n",
       "      <td>649.511367</td>\n",
       "      <td>674.80272</td>\n",
       "      <td>484.381507</td>\n",
       "      <td>512.280987</td>\n",
       "    </tr>\n",
       "    <tr>\n",
       "      <th>4</th>\n",
       "      <td>1009</td>\n",
       "      <td>AL</td>\n",
       "      <td>Blount</td>\n",
       "      <td>20</td>\n",
       "      <td>23</td>\n",
       "      <td>15.000000</td>\n",
       "      <td>0.347451</td>\n",
       "      <td>0.399569</td>\n",
       "      <td>15.000000</td>\n",
       "      <td>15</td>\n",
       "      <td>12</td>\n",
       "      <td>-20.000000</td>\n",
       "      <td>0.260589</td>\n",
       "      <td>0.208471</td>\n",
       "      <td>-20.000000</td>\n",
       "      <td>649.511367</td>\n",
       "      <td>674.80272</td>\n",
       "      <td>484.381507</td>\n",
       "      <td>512.280987</td>\n",
       "    </tr>\n",
       "  </tbody>\n",
       "</table>\n",
       "</div>"
      ],
      "text/plain": [
       "   FIPS State   County  FFR11  FFR16  PCH_FFR_11_16  FFRPTH11  FFRPTH16  \\\n",
       "0  1001    AL  Autauga     34     44      29.411765  0.615953  0.795977   \n",
       "1  1003    AL  Baldwin    121    156      28.925620  0.648675  0.751775   \n",
       "2  1005    AL  Barbour     19     23      21.052632  0.694673  0.892372   \n",
       "3  1007    AL     Bibb      6      7      16.666667  0.263794  0.309283   \n",
       "4  1009    AL   Blount     20     23      15.000000  0.347451  0.399569   \n",
       "\n",
       "   PCH_FFRPTH_11_16  FSR11  FSR16  PCH_FSR_11_16  FSRPTH11  FSRPTH16  \\\n",
       "0         29.226817     32     31      -3.125000  0.579721  0.560802   \n",
       "1         15.893824    216    236       9.259259  1.157966  1.137300   \n",
       "2         28.459320     17     14     -17.647059  0.621549  0.543183   \n",
       "3         17.243995      5      7      40.000000  0.219829  0.309283   \n",
       "4         15.000000     15     12     -20.000000  0.260589  0.208471   \n",
       "\n",
       "   PCH_FSRPTH_11_16  PC_FFRSALES07  PC_FFRSALES12  PC_FSRSALES07  \\\n",
       "0         -3.263448     649.511367      674.80272     484.381507   \n",
       "1         -1.784662     649.511367      674.80272     484.381507   \n",
       "2        -12.608237     649.511367      674.80272     484.381507   \n",
       "3         40.692794     649.511367      674.80272     484.381507   \n",
       "4        -20.000000     649.511367      674.80272     484.381507   \n",
       "\n",
       "   PC_FSRSALES12  \n",
       "0     512.280987  \n",
       "1     512.280987  \n",
       "2     512.280987  \n",
       "3     512.280987  \n",
       "4     512.280987  "
      ]
     },
     "execution_count": 13,
     "metadata": {},
     "output_type": "execute_result"
    }
   ],
   "source": [
    "restaurants = pd.read_csv('data/Restaurants.csv')\n",
    "restaurants.head()"
   ]
  },
  {
   "cell_type": "code",
   "execution_count": 14,
   "id": "8385a9b6",
   "metadata": {},
   "outputs": [
    {
     "data": {
      "text/html": [
       "<div>\n",
       "<style scoped>\n",
       "    .dataframe tbody tr th:only-of-type {\n",
       "        vertical-align: middle;\n",
       "    }\n",
       "\n",
       "    .dataframe tbody tr th {\n",
       "        vertical-align: top;\n",
       "    }\n",
       "\n",
       "    .dataframe thead th {\n",
       "        text-align: right;\n",
       "    }\n",
       "</style>\n",
       "<table border=\"1\" class=\"dataframe\">\n",
       "  <thead>\n",
       "    <tr style=\"text-align: right;\">\n",
       "      <th></th>\n",
       "      <th>State</th>\n",
       "      <th>County</th>\n",
       "      <th>FFR11</th>\n",
       "      <th>FFR16</th>\n",
       "      <th>FFRPTH11</th>\n",
       "      <th>FFRPTH16</th>\n",
       "      <th>PC_FFRSALES12</th>\n",
       "    </tr>\n",
       "  </thead>\n",
       "  <tbody>\n",
       "    <tr>\n",
       "      <th>0</th>\n",
       "      <td>AL</td>\n",
       "      <td>Autauga</td>\n",
       "      <td>34</td>\n",
       "      <td>44</td>\n",
       "      <td>0.615953</td>\n",
       "      <td>0.795977</td>\n",
       "      <td>674.80272</td>\n",
       "    </tr>\n",
       "    <tr>\n",
       "      <th>1</th>\n",
       "      <td>AL</td>\n",
       "      <td>Baldwin</td>\n",
       "      <td>121</td>\n",
       "      <td>156</td>\n",
       "      <td>0.648675</td>\n",
       "      <td>0.751775</td>\n",
       "      <td>674.80272</td>\n",
       "    </tr>\n",
       "    <tr>\n",
       "      <th>2</th>\n",
       "      <td>AL</td>\n",
       "      <td>Barbour</td>\n",
       "      <td>19</td>\n",
       "      <td>23</td>\n",
       "      <td>0.694673</td>\n",
       "      <td>0.892372</td>\n",
       "      <td>674.80272</td>\n",
       "    </tr>\n",
       "    <tr>\n",
       "      <th>3</th>\n",
       "      <td>AL</td>\n",
       "      <td>Bibb</td>\n",
       "      <td>6</td>\n",
       "      <td>7</td>\n",
       "      <td>0.263794</td>\n",
       "      <td>0.309283</td>\n",
       "      <td>674.80272</td>\n",
       "    </tr>\n",
       "    <tr>\n",
       "      <th>4</th>\n",
       "      <td>AL</td>\n",
       "      <td>Blount</td>\n",
       "      <td>20</td>\n",
       "      <td>23</td>\n",
       "      <td>0.347451</td>\n",
       "      <td>0.399569</td>\n",
       "      <td>674.80272</td>\n",
       "    </tr>\n",
       "  </tbody>\n",
       "</table>\n",
       "</div>"
      ],
      "text/plain": [
       "  State   County  FFR11  FFR16  FFRPTH11  FFRPTH16  PC_FFRSALES12\n",
       "0    AL  Autauga     34     44  0.615953  0.795977      674.80272\n",
       "1    AL  Baldwin    121    156  0.648675  0.751775      674.80272\n",
       "2    AL  Barbour     19     23  0.694673  0.892372      674.80272\n",
       "3    AL     Bibb      6      7  0.263794  0.309283      674.80272\n",
       "4    AL   Blount     20     23  0.347451  0.399569      674.80272"
      ]
     },
     "execution_count": 14,
     "metadata": {},
     "output_type": "execute_result"
    }
   ],
   "source": [
    "restaurants = restaurants.drop(['PCH_FFRPTH_11_16', 'PCH_FSRPTH_11_16', 'PC_FFRSALES07', 'PC_FSRSALES07',\\\n",
    "                               'FIPS', 'PCH_FFR_11_16', 'PCH_FSR_11_16', 'FSR11', 'FSR16', 'FSRPTH11', 'FSRPTH16','PC_FSRSALES12'], axis=1)\n",
    "restaurants.head()"
   ]
  },
  {
   "cell_type": "code",
   "execution_count": 15,
   "id": "3c0f32e1",
   "metadata": {},
   "outputs": [
    {
     "data": {
      "text/html": [
       "<div>\n",
       "<style scoped>\n",
       "    .dataframe tbody tr th:only-of-type {\n",
       "        vertical-align: middle;\n",
       "    }\n",
       "\n",
       "    .dataframe tbody tr th {\n",
       "        vertical-align: top;\n",
       "    }\n",
       "\n",
       "    .dataframe thead th {\n",
       "        text-align: right;\n",
       "    }\n",
       "</style>\n",
       "<table border=\"1\" class=\"dataframe\">\n",
       "  <thead>\n",
       "    <tr style=\"text-align: right;\">\n",
       "      <th></th>\n",
       "      <th>State</th>\n",
       "      <th>County</th>\n",
       "      <th>Fast_food_2011</th>\n",
       "      <th>Fast_food_2016</th>\n",
       "      <th>Fast_food_per_1000_2011</th>\n",
       "      <th>Fast_food_per_1000_2016</th>\n",
       "      <th>Fast_food_expenditures_per_capita_2012</th>\n",
       "    </tr>\n",
       "  </thead>\n",
       "  <tbody>\n",
       "    <tr>\n",
       "      <th>0</th>\n",
       "      <td>AL</td>\n",
       "      <td>Autauga</td>\n",
       "      <td>34</td>\n",
       "      <td>44</td>\n",
       "      <td>0.615953</td>\n",
       "      <td>0.795977</td>\n",
       "      <td>674.80272</td>\n",
       "    </tr>\n",
       "    <tr>\n",
       "      <th>1</th>\n",
       "      <td>AL</td>\n",
       "      <td>Baldwin</td>\n",
       "      <td>121</td>\n",
       "      <td>156</td>\n",
       "      <td>0.648675</td>\n",
       "      <td>0.751775</td>\n",
       "      <td>674.80272</td>\n",
       "    </tr>\n",
       "    <tr>\n",
       "      <th>2</th>\n",
       "      <td>AL</td>\n",
       "      <td>Barbour</td>\n",
       "      <td>19</td>\n",
       "      <td>23</td>\n",
       "      <td>0.694673</td>\n",
       "      <td>0.892372</td>\n",
       "      <td>674.80272</td>\n",
       "    </tr>\n",
       "    <tr>\n",
       "      <th>3</th>\n",
       "      <td>AL</td>\n",
       "      <td>Bibb</td>\n",
       "      <td>6</td>\n",
       "      <td>7</td>\n",
       "      <td>0.263794</td>\n",
       "      <td>0.309283</td>\n",
       "      <td>674.80272</td>\n",
       "    </tr>\n",
       "    <tr>\n",
       "      <th>4</th>\n",
       "      <td>AL</td>\n",
       "      <td>Blount</td>\n",
       "      <td>20</td>\n",
       "      <td>23</td>\n",
       "      <td>0.347451</td>\n",
       "      <td>0.399569</td>\n",
       "      <td>674.80272</td>\n",
       "    </tr>\n",
       "  </tbody>\n",
       "</table>\n",
       "</div>"
      ],
      "text/plain": [
       "  State   County  Fast_food_2011  Fast_food_2016  Fast_food_per_1000_2011  \\\n",
       "0    AL  Autauga              34              44                 0.615953   \n",
       "1    AL  Baldwin             121             156                 0.648675   \n",
       "2    AL  Barbour              19              23                 0.694673   \n",
       "3    AL     Bibb               6               7                 0.263794   \n",
       "4    AL   Blount              20              23                 0.347451   \n",
       "\n",
       "   Fast_food_per_1000_2016  Fast_food_expenditures_per_capita_2012  \n",
       "0                 0.795977                               674.80272  \n",
       "1                 0.751775                               674.80272  \n",
       "2                 0.892372                               674.80272  \n",
       "3                 0.309283                               674.80272  \n",
       "4                 0.399569                               674.80272  "
      ]
     },
     "execution_count": 15,
     "metadata": {},
     "output_type": "execute_result"
    }
   ],
   "source": [
    "restaurants = restaurants.rename(columns={'FFR11':'Fast_food_2011', \n",
    "                                          'FFR16':'Fast_food_2016', \n",
    "                                          'FFRPTH11':'Fast_food_per_1000_2011',\n",
    "                                          'FFRPTH16':'Fast_food_per_1000_2016',\n",
    "                                          'PC_FFRSALES12':'Fast_food_expenditures_per_capita_2012'})\n",
    "restaurants.head()"
   ]
  },
  {
   "cell_type": "markdown",
   "id": "dd6507b1",
   "metadata": {},
   "source": [
    "Now we have all three of the data frames we want to use formatted so that we can use them for our exploration. Next, we want to check for missing values in our dataframes."
   ]
  },
  {
   "cell_type": "code",
   "execution_count": 16,
   "id": "3b861298",
   "metadata": {},
   "outputs": [
    {
     "name": "stdout",
     "output_type": "stream",
     "text": [
      "Index([], dtype='object')\n",
      "Index(['Poverty_Rate_2015'], dtype='object')\n",
      "Index([], dtype='object')\n"
     ]
    }
   ],
   "source": [
    "print(stores.columns[stores.isnull().any()])\n",
    "print(demographics.columns[demographics.isnull().any()])\n",
    "print(restaurants.columns[restaurants.isnull().any()])"
   ]
  },
  {
   "cell_type": "markdown",
   "id": "8ec08063",
   "metadata": {},
   "source": [
    "Doing some data analaysis to help check the majority ethnicity in each column so that we can analyze counties as a whole community instead of the varying percentages"
   ]
  },
  {
   "cell_type": "code",
   "execution_count": 17,
   "id": "3af4571e",
   "metadata": {},
   "outputs": [
    {
     "data": {
      "text/html": [
       "<div>\n",
       "<style scoped>\n",
       "    .dataframe tbody tr th:only-of-type {\n",
       "        vertical-align: middle;\n",
       "    }\n",
       "\n",
       "    .dataframe tbody tr th {\n",
       "        vertical-align: top;\n",
       "    }\n",
       "\n",
       "    .dataframe thead th {\n",
       "        text-align: right;\n",
       "    }\n",
       "</style>\n",
       "<table border=\"1\" class=\"dataframe\">\n",
       "  <thead>\n",
       "    <tr style=\"text-align: right;\">\n",
       "      <th></th>\n",
       "      <th>State</th>\n",
       "      <th>County</th>\n",
       "      <th>Percent_White_2010</th>\n",
       "      <th>Percent_Black_2010</th>\n",
       "      <th>Percent_Hispanic_2010</th>\n",
       "      <th>Percent_Asian_2010</th>\n",
       "      <th>Percent_Native_American_2010</th>\n",
       "      <th>Median_household_income_2015</th>\n",
       "      <th>Poverty_Rate_2015</th>\n",
       "      <th>Persistent_Poverty</th>\n",
       "      <th>Metro</th>\n",
       "      <th>RPP</th>\n",
       "      <th>Income_Adjusted_by_RPP</th>\n",
       "      <th>Above_US_Median</th>\n",
       "      <th>Majority_Ethnicity</th>\n",
       "    </tr>\n",
       "  </thead>\n",
       "  <tbody>\n",
       "    <tr>\n",
       "      <th>0</th>\n",
       "      <td>AL</td>\n",
       "      <td>Autauga</td>\n",
       "      <td>77.246156</td>\n",
       "      <td>17.582599</td>\n",
       "      <td>2.400542</td>\n",
       "      <td>0.855766</td>\n",
       "      <td>0.397647</td>\n",
       "      <td>56580.0</td>\n",
       "      <td>12.7</td>\n",
       "      <td>0</td>\n",
       "      <td>1</td>\n",
       "      <td>0.90259</td>\n",
       "      <td>62686.269513</td>\n",
       "      <td>0.965890</td>\n",
       "      <td>White</td>\n",
       "    </tr>\n",
       "    <tr>\n",
       "      <th>1</th>\n",
       "      <td>AL</td>\n",
       "      <td>Baldwin</td>\n",
       "      <td>83.504787</td>\n",
       "      <td>9.308425</td>\n",
       "      <td>4.384824</td>\n",
       "      <td>0.735193</td>\n",
       "      <td>0.628755</td>\n",
       "      <td>52387.0</td>\n",
       "      <td>12.9</td>\n",
       "      <td>0</td>\n",
       "      <td>1</td>\n",
       "      <td>0.90259</td>\n",
       "      <td>58040.749399</td>\n",
       "      <td>0.894310</td>\n",
       "      <td>White</td>\n",
       "    </tr>\n",
       "    <tr>\n",
       "      <th>2</th>\n",
       "      <td>AL</td>\n",
       "      <td>Barbour</td>\n",
       "      <td>46.753105</td>\n",
       "      <td>46.691190</td>\n",
       "      <td>5.051535</td>\n",
       "      <td>0.389700</td>\n",
       "      <td>0.218524</td>\n",
       "      <td>31433.0</td>\n",
       "      <td>32.0</td>\n",
       "      <td>1</td>\n",
       "      <td>0</td>\n",
       "      <td>0.90259</td>\n",
       "      <td>34825.335978</td>\n",
       "      <td>0.536600</td>\n",
       "      <td>White</td>\n",
       "    </tr>\n",
       "    <tr>\n",
       "      <th>3</th>\n",
       "      <td>AL</td>\n",
       "      <td>Bibb</td>\n",
       "      <td>75.020729</td>\n",
       "      <td>21.924504</td>\n",
       "      <td>1.771765</td>\n",
       "      <td>0.096007</td>\n",
       "      <td>0.279293</td>\n",
       "      <td>40767.0</td>\n",
       "      <td>22.2</td>\n",
       "      <td>0</td>\n",
       "      <td>1</td>\n",
       "      <td>0.90259</td>\n",
       "      <td>45166.686979</td>\n",
       "      <td>0.695943</td>\n",
       "      <td>White</td>\n",
       "    </tr>\n",
       "    <tr>\n",
       "      <th>4</th>\n",
       "      <td>AL</td>\n",
       "      <td>Blount</td>\n",
       "      <td>88.887338</td>\n",
       "      <td>1.263040</td>\n",
       "      <td>8.070200</td>\n",
       "      <td>0.200621</td>\n",
       "      <td>0.497191</td>\n",
       "      <td>50487.0</td>\n",
       "      <td>14.7</td>\n",
       "      <td>0</td>\n",
       "      <td>1</td>\n",
       "      <td>0.90259</td>\n",
       "      <td>55935.696163</td>\n",
       "      <td>0.861875</td>\n",
       "      <td>White</td>\n",
       "    </tr>\n",
       "  </tbody>\n",
       "</table>\n",
       "</div>"
      ],
      "text/plain": [
       "  State   County  Percent_White_2010  Percent_Black_2010  \\\n",
       "0    AL  Autauga           77.246156           17.582599   \n",
       "1    AL  Baldwin           83.504787            9.308425   \n",
       "2    AL  Barbour           46.753105           46.691190   \n",
       "3    AL     Bibb           75.020729           21.924504   \n",
       "4    AL   Blount           88.887338            1.263040   \n",
       "\n",
       "   Percent_Hispanic_2010  Percent_Asian_2010  Percent_Native_American_2010  \\\n",
       "0               2.400542            0.855766                      0.397647   \n",
       "1               4.384824            0.735193                      0.628755   \n",
       "2               5.051535            0.389700                      0.218524   \n",
       "3               1.771765            0.096007                      0.279293   \n",
       "4               8.070200            0.200621                      0.497191   \n",
       "\n",
       "   Median_household_income_2015  Poverty_Rate_2015  Persistent_Poverty  Metro  \\\n",
       "0                       56580.0               12.7                   0      1   \n",
       "1                       52387.0               12.9                   0      1   \n",
       "2                       31433.0               32.0                   1      0   \n",
       "3                       40767.0               22.2                   0      1   \n",
       "4                       50487.0               14.7                   0      1   \n",
       "\n",
       "       RPP  Income_Adjusted_by_RPP  Above_US_Median Majority_Ethnicity  \n",
       "0  0.90259            62686.269513         0.965890              White  \n",
       "1  0.90259            58040.749399         0.894310              White  \n",
       "2  0.90259            34825.335978         0.536600              White  \n",
       "3  0.90259            45166.686979         0.695943              White  \n",
       "4  0.90259            55935.696163         0.861875              White  "
      ]
     },
     "execution_count": 17,
     "metadata": {},
     "output_type": "execute_result"
    }
   ],
   "source": [
    "ethnicity_columns = [\n",
    "    'Percent_White_2010',\n",
    "    'Percent_Black_2010',\n",
    "    'Percent_Hispanic_2010',\n",
    "    'Percent_Asian_2010',\n",
    "    'Percent_Native_American_2010'\n",
    "]\n",
    "\n",
    "# Find the column name with the maximum value in each row\n",
    "demographics['Majority_Ethnicity'] = demographics[ethnicity_columns].idxmax(axis=1).str.split('_').str[1]\n",
    "# test = demographics[demographics['Above_US_Median'] == True]\n",
    "demographics.head()\n"
   ]
  },
  {
   "cell_type": "code",
   "execution_count": 18,
   "id": "ff2d9e9c",
   "metadata": {},
   "outputs": [
    {
     "data": {
      "text/html": [
       "<div>\n",
       "<style scoped>\n",
       "    .dataframe tbody tr th:only-of-type {\n",
       "        vertical-align: middle;\n",
       "    }\n",
       "\n",
       "    .dataframe tbody tr th {\n",
       "        vertical-align: top;\n",
       "    }\n",
       "\n",
       "    .dataframe thead th {\n",
       "        text-align: right;\n",
       "    }\n",
       "</style>\n",
       "<table border=\"1\" class=\"dataframe\">\n",
       "  <thead>\n",
       "    <tr style=\"text-align: right;\">\n",
       "      <th></th>\n",
       "      <th>State</th>\n",
       "      <th>County</th>\n",
       "      <th>Percent_White_2010</th>\n",
       "      <th>Percent_Black_2010</th>\n",
       "      <th>Percent_Hispanic_2010</th>\n",
       "      <th>Percent_Asian_2010</th>\n",
       "      <th>Percent_Native_American_2010</th>\n",
       "      <th>Median_household_income_2015</th>\n",
       "      <th>Poverty_Rate_2015</th>\n",
       "      <th>Persistent_Poverty</th>\n",
       "      <th>Metro</th>\n",
       "      <th>RPP</th>\n",
       "      <th>Income_Adjusted_by_RPP</th>\n",
       "      <th>Above_US_Median</th>\n",
       "      <th>Majority_Ethnicity</th>\n",
       "      <th>Ethnicity_Asian</th>\n",
       "      <th>Ethnicity_Black</th>\n",
       "      <th>Ethnicity_Hispanic</th>\n",
       "      <th>Ethnicity_Native</th>\n",
       "      <th>Ethnicity_White</th>\n",
       "    </tr>\n",
       "  </thead>\n",
       "  <tbody>\n",
       "    <tr>\n",
       "      <th>0</th>\n",
       "      <td>AL</td>\n",
       "      <td>Autauga</td>\n",
       "      <td>77.246156</td>\n",
       "      <td>17.582599</td>\n",
       "      <td>2.400542</td>\n",
       "      <td>0.855766</td>\n",
       "      <td>0.397647</td>\n",
       "      <td>56580.0</td>\n",
       "      <td>12.7</td>\n",
       "      <td>0</td>\n",
       "      <td>1</td>\n",
       "      <td>0.90259</td>\n",
       "      <td>62686.269513</td>\n",
       "      <td>0.965890</td>\n",
       "      <td>White</td>\n",
       "      <td>0</td>\n",
       "      <td>0</td>\n",
       "      <td>0</td>\n",
       "      <td>0</td>\n",
       "      <td>1</td>\n",
       "    </tr>\n",
       "    <tr>\n",
       "      <th>1</th>\n",
       "      <td>AL</td>\n",
       "      <td>Baldwin</td>\n",
       "      <td>83.504787</td>\n",
       "      <td>9.308425</td>\n",
       "      <td>4.384824</td>\n",
       "      <td>0.735193</td>\n",
       "      <td>0.628755</td>\n",
       "      <td>52387.0</td>\n",
       "      <td>12.9</td>\n",
       "      <td>0</td>\n",
       "      <td>1</td>\n",
       "      <td>0.90259</td>\n",
       "      <td>58040.749399</td>\n",
       "      <td>0.894310</td>\n",
       "      <td>White</td>\n",
       "      <td>0</td>\n",
       "      <td>0</td>\n",
       "      <td>0</td>\n",
       "      <td>0</td>\n",
       "      <td>1</td>\n",
       "    </tr>\n",
       "    <tr>\n",
       "      <th>2</th>\n",
       "      <td>AL</td>\n",
       "      <td>Barbour</td>\n",
       "      <td>46.753105</td>\n",
       "      <td>46.691190</td>\n",
       "      <td>5.051535</td>\n",
       "      <td>0.389700</td>\n",
       "      <td>0.218524</td>\n",
       "      <td>31433.0</td>\n",
       "      <td>32.0</td>\n",
       "      <td>1</td>\n",
       "      <td>0</td>\n",
       "      <td>0.90259</td>\n",
       "      <td>34825.335978</td>\n",
       "      <td>0.536600</td>\n",
       "      <td>White</td>\n",
       "      <td>0</td>\n",
       "      <td>0</td>\n",
       "      <td>0</td>\n",
       "      <td>0</td>\n",
       "      <td>1</td>\n",
       "    </tr>\n",
       "    <tr>\n",
       "      <th>3</th>\n",
       "      <td>AL</td>\n",
       "      <td>Bibb</td>\n",
       "      <td>75.020729</td>\n",
       "      <td>21.924504</td>\n",
       "      <td>1.771765</td>\n",
       "      <td>0.096007</td>\n",
       "      <td>0.279293</td>\n",
       "      <td>40767.0</td>\n",
       "      <td>22.2</td>\n",
       "      <td>0</td>\n",
       "      <td>1</td>\n",
       "      <td>0.90259</td>\n",
       "      <td>45166.686979</td>\n",
       "      <td>0.695943</td>\n",
       "      <td>White</td>\n",
       "      <td>0</td>\n",
       "      <td>0</td>\n",
       "      <td>0</td>\n",
       "      <td>0</td>\n",
       "      <td>1</td>\n",
       "    </tr>\n",
       "    <tr>\n",
       "      <th>4</th>\n",
       "      <td>AL</td>\n",
       "      <td>Blount</td>\n",
       "      <td>88.887338</td>\n",
       "      <td>1.263040</td>\n",
       "      <td>8.070200</td>\n",
       "      <td>0.200621</td>\n",
       "      <td>0.497191</td>\n",
       "      <td>50487.0</td>\n",
       "      <td>14.7</td>\n",
       "      <td>0</td>\n",
       "      <td>1</td>\n",
       "      <td>0.90259</td>\n",
       "      <td>55935.696163</td>\n",
       "      <td>0.861875</td>\n",
       "      <td>White</td>\n",
       "      <td>0</td>\n",
       "      <td>0</td>\n",
       "      <td>0</td>\n",
       "      <td>0</td>\n",
       "      <td>1</td>\n",
       "    </tr>\n",
       "  </tbody>\n",
       "</table>\n",
       "</div>"
      ],
      "text/plain": [
       "  State   County  Percent_White_2010  Percent_Black_2010  \\\n",
       "0    AL  Autauga           77.246156           17.582599   \n",
       "1    AL  Baldwin           83.504787            9.308425   \n",
       "2    AL  Barbour           46.753105           46.691190   \n",
       "3    AL     Bibb           75.020729           21.924504   \n",
       "4    AL   Blount           88.887338            1.263040   \n",
       "\n",
       "   Percent_Hispanic_2010  Percent_Asian_2010  Percent_Native_American_2010  \\\n",
       "0               2.400542            0.855766                      0.397647   \n",
       "1               4.384824            0.735193                      0.628755   \n",
       "2               5.051535            0.389700                      0.218524   \n",
       "3               1.771765            0.096007                      0.279293   \n",
       "4               8.070200            0.200621                      0.497191   \n",
       "\n",
       "   Median_household_income_2015  Poverty_Rate_2015  Persistent_Poverty  Metro  \\\n",
       "0                       56580.0               12.7                   0      1   \n",
       "1                       52387.0               12.9                   0      1   \n",
       "2                       31433.0               32.0                   1      0   \n",
       "3                       40767.0               22.2                   0      1   \n",
       "4                       50487.0               14.7                   0      1   \n",
       "\n",
       "       RPP  Income_Adjusted_by_RPP  Above_US_Median Majority_Ethnicity  \\\n",
       "0  0.90259            62686.269513         0.965890              White   \n",
       "1  0.90259            58040.749399         0.894310              White   \n",
       "2  0.90259            34825.335978         0.536600              White   \n",
       "3  0.90259            45166.686979         0.695943              White   \n",
       "4  0.90259            55935.696163         0.861875              White   \n",
       "\n",
       "   Ethnicity_Asian  Ethnicity_Black  Ethnicity_Hispanic  Ethnicity_Native  \\\n",
       "0                0                0                   0                 0   \n",
       "1                0                0                   0                 0   \n",
       "2                0                0                   0                 0   \n",
       "3                0                0                   0                 0   \n",
       "4                0                0                   0                 0   \n",
       "\n",
       "   Ethnicity_White  \n",
       "0                1  \n",
       "1                1  \n",
       "2                1  \n",
       "3                1  \n",
       "4                1  "
      ]
     },
     "execution_count": 18,
     "metadata": {},
     "output_type": "execute_result"
    }
   ],
   "source": [
    "dummies = pd.get_dummies(demographics['Majority_Ethnicity'], prefix='Ethnicity')\n",
    "demographics = pd.concat([demographics, dummies], axis=1)\n",
    "# removed hawaiian due to no county having a majority hawaiian \n",
    "demographics.head()"
   ]
  },
  {
   "cell_type": "code",
   "execution_count": null,
   "id": "3c2d6442",
   "metadata": {},
   "outputs": [],
   "source": []
  },
  {
   "cell_type": "markdown",
   "id": "5ea4d274",
   "metadata": {},
   "source": [
    "We need to input NaN for missing data"
   ]
  },
  {
   "cell_type": "code",
   "execution_count": 19,
   "id": "fbed0703",
   "metadata": {},
   "outputs": [],
   "source": [
    "# stores.fillna(np.nan, inplace=True)\n",
    "# demographics.fillna(np.nan, inplace=True)\n",
    "# restaurants.fillna(np.nan, inplace=True)\n",
    "# demographics[demographics.isnull().any(axis=1)]"
   ]
  },
  {
   "cell_type": "markdown",
   "id": "36bed385",
   "metadata": {},
   "source": [
    "## 4. Preregistration Statement"
   ]
  },
  {
   "cell_type": "markdown",
   "id": "740f34ae",
   "metadata": {},
   "source": [
    "# Question 1: Is the disparity between fast food restaurants and grocery stores affected by median income level and/or racial majority?"
   ]
  },
  {
   "cell_type": "markdown",
   "id": "c10fbef6",
   "metadata": {},
   "source": [
    "#### Hypothesis: The difference between the number of fast food stores and grocery stores per 1000 residents in smaller in higher median household income counties and larger in minority counties. The difference will also be larger if the county is metropolitan."
   ]
  },
  {
   "cell_type": "markdown",
   "id": "0751e635",
   "metadata": {},
   "source": [
    "## Data Analysis"
   ]
  },
  {
   "cell_type": "code",
   "execution_count": 20,
   "id": "606fa10e",
   "metadata": {},
   "outputs": [
    {
     "name": "stdout",
     "output_type": "stream",
     "text": [
      "  State   County  Grocery_2011  Grocery_2016  Grocery_per_1000_2011  \\\n",
      "0    AL  Autauga             5             3               0.090581   \n",
      "1    AL  Baldwin            27            29               0.144746   \n",
      "2    AL  Barbour             6             4               0.219370   \n",
      "3    AL     Bibb             6             5               0.263794   \n",
      "4    AL   Blount             7             5               0.121608   \n",
      "\n",
      "   Grocery_per_1000_2016  Supercenter_2011  Supercenter_2016  \\\n",
      "0               0.054271                 1                 1   \n",
      "1               0.139753                 6                 7   \n",
      "2               0.155195                 0                 1   \n",
      "3               0.220916                 1                 1   \n",
      "4               0.086863                 1                 1   \n",
      "\n",
      "   Supercenter_per_1000_2011  Supercenter_per_1000_2016  ...  Metro      RPP  \\\n",
      "0                   0.018116                   0.018090  ...      1  0.90259   \n",
      "1                   0.032166                   0.033733  ...      1  0.90259   \n",
      "2                   0.000000                   0.038799  ...      0  0.90259   \n",
      "3                   0.043966                   0.044183  ...      1  0.90259   \n",
      "4                   0.017373                   0.017373  ...      1  0.90259   \n",
      "\n",
      "   Income_Adjusted_by_RPP  Above_US_Median  Majority_Ethnicity  \\\n",
      "0            62686.269513         0.965890               White   \n",
      "1            58040.749399         0.894310               White   \n",
      "2            34825.335978         0.536600               White   \n",
      "3            45166.686979         0.695943               White   \n",
      "4            55935.696163         0.861875               White   \n",
      "\n",
      "   Ethnicity_Asian  Ethnicity_Black  Ethnicity_Hispanic  Ethnicity_Native  \\\n",
      "0                0                0                   0                 0   \n",
      "1                0                0                   0                 0   \n",
      "2                0                0                   0                 0   \n",
      "3                0                0                   0                 0   \n",
      "4                0                0                   0                 0   \n",
      "\n",
      "   Ethnicity_White  \n",
      "0                1  \n",
      "1                1  \n",
      "2                1  \n",
      "3                1  \n",
      "4                1  \n",
      "\n",
      "[5 rows x 37 columns]\n"
     ]
    }
   ],
   "source": [
    "merged_data = pd.merge(restaurants, demographics, on=['County', 'State'], how='inner')\n",
    "merged = pd.merge(stores, merged_data, on=['County', 'State'], how='inner')\n",
    "print(merged.head())"
   ]
  },
  {
   "cell_type": "code",
   "execution_count": 21,
   "id": "ccb4045e",
   "metadata": {},
   "outputs": [],
   "source": [
    "Y = merged['Fast_food_per_1000_2011'] - merged['Grocery_per_1000_2011']\n",
    "columns = ['Above_US_Median', 'Persistent_Poverty', 'Metro', 'Ethnicity_Black','Ethnicity_Hispanic', 'Ethnicity_Native', 'Ethnicity_White']\n",
    "# 'Ethnicity_Asian', 'Ethnicity_Black','Ethnicity_Hispanic', 'Ethnicity_Native' ,\n",
    "X = merged[columns]\n",
    "data = pd.concat([Y, X], axis=1).dropna()\n",
    "\n",
    "# print(data.head())\n",
    "# print(data.shape)\n",
    "X= data.iloc[:, 1:]\n",
    "lin_reg_model1 = LinearRegression().fit(X, Y)"
   ]
  },
  {
   "cell_type": "code",
   "execution_count": 22,
   "id": "e6dcecd6",
   "metadata": {},
   "outputs": [
    {
     "name": "stdout",
     "output_type": "stream",
     "text": [
      "Intercept: -0.286438218203592\n",
      "Coefficients: [ 0.10924627  0.00394525  0.18231029  0.47588882  0.50819522 -0.03603589\n",
      "  0.43953116]\n",
      "Above_US_Median: 0.1092463\n",
      "Persistent_Poverty: 0.0039453\n",
      "Metro: 0.1823103\n",
      "Ethnicity_Black: 0.4758888\n",
      "Ethnicity_Hispanic: 0.5081952\n",
      "Ethnicity_Native: -0.0360359\n",
      "Ethnicity_White: 0.4395312\n"
     ]
    }
   ],
   "source": [
    "coefficients = lin_reg_model1.coef_\n",
    "intercept = lin_reg_model1.intercept_\n",
    "\n",
    "print(f\"Intercept: {intercept}\")\n",
    "print(f\"Coefficients: {coefficients}\")\n",
    "for feature, coef in zip(X.columns, coefficients):\n",
    "    print(f\"{feature}: {coef:.7f}\")\n"
   ]
  },
  {
   "cell_type": "markdown",
   "id": "59abdd08",
   "metadata": {},
   "source": [
    "## Evaluation of Significance"
   ]
  },
  {
   "cell_type": "code",
   "execution_count": 23,
   "id": "a47a1121",
   "metadata": {},
   "outputs": [
    {
     "name": "stdout",
     "output_type": "stream",
     "text": [
      "                            OLS Regression Results                            \n",
      "==============================================================================\n",
      "Dep. Variable:                      y   R-squared:                       0.083\n",
      "Model:                            OLS   Adj. R-squared:                  0.081\n",
      "Method:                 Least Squares   F-statistic:                     41.19\n",
      "Date:                Mon, 04 Dec 2023   Prob (F-statistic):           7.24e-56\n",
      "Time:                        18:55:30   Log-Likelihood:                -1381.5\n",
      "No. Observations:                3184   AIC:                             2779.\n",
      "Df Residuals:                    3176   BIC:                             2828.\n",
      "Df Model:                           7                                         \n",
      "Covariance Type:            nonrobust                                         \n",
      "======================================================================================\n",
      "                         coef    std err          t      P>|t|      [0.025      0.975]\n",
      "--------------------------------------------------------------------------------------\n",
      "const                 -0.2864      0.267     -1.073      0.283      -0.810       0.237\n",
      "Above_US_Median        0.1092      0.042      2.628      0.009       0.028       0.191\n",
      "Persistent_Poverty     0.0039      0.025      0.158      0.875      -0.045       0.053\n",
      "Metro                  0.1823      0.015     12.289      0.000       0.153       0.211\n",
      "Ethnicity_Black        0.4759      0.267      1.782      0.075      -0.048       1.000\n",
      "Ethnicity_Hispanic     0.5082      0.267      1.903      0.057      -0.015       1.032\n",
      "Ethnicity_Native      -0.0360      0.273     -0.132      0.895      -0.572       0.500\n",
      "Ethnicity_White        0.4395      0.265      1.662      0.097      -0.079       0.958\n",
      "==============================================================================\n",
      "Omnibus:                      857.905   Durbin-Watson:                   1.706\n",
      "Prob(Omnibus):                  0.000   Jarque-Bera (JB):            78110.150\n",
      "Skew:                           0.095   Prob(JB):                         0.00\n",
      "Kurtosis:                      27.264   Cond. No.                         146.\n",
      "==============================================================================\n",
      "\n",
      "Notes:\n",
      "[1] Standard Errors assume that the covariance matrix of the errors is correctly specified.\n"
     ]
    }
   ],
   "source": [
    "X = sm.add_constant(X)\n",
    "OLS_model = sm.OLS(Y,X)\n",
    "results = OLS_model.fit()\n",
    "print(results.summary())"
   ]
  },
  {
   "cell_type": "markdown",
   "id": "cb9b43e5",
   "metadata": {},
   "source": [
    "## Interpretation and Conclusions\n",
    "\n",
    "Within the preliminary analysis for the data we can conclude that there is an impact between the different variables on the difference between fast food and grocery stores. The data shows that a higher percentage of Asian Individuals has the highest impact on having more fast food places. The percentages of White, Black, Hispanic, and Native American individuals exhibit negative coefficients, suggesting that regions with a higher proportion of these groups tend to have a reduced disparity, featuring relatively fewer fast food restaurants in comparison to grocery stores. However, a key focus will be to investigate whether the inclusion of percentage variables for county ethnic makeup has an adverse impact on the model's susceptibility to overfitting. One proposed strategy involves exploring the use of dummy variables as a potential alternative, referencing solely the majority composition of a county."
   ]
  },
  {
   "cell_type": "markdown",
   "id": "55fef5fb",
   "metadata": {},
   "source": [
    "# Question 2: Is there regional variation in the disparity between fast food restaurants and grocery stores (even when counties have similar racial compositions and income levels)?"
   ]
  },
  {
   "cell_type": "markdown",
   "id": "d05cf5c9",
   "metadata": {},
   "source": [
    "#### Hypothesis: There is regional variation in the difference between the number of grocery stores and fast food restaurants within counties of similar racial compostions and income level. "
   ]
  },
  {
   "cell_type": "markdown",
   "id": "245d51b0",
   "metadata": {},
   "source": [
    "## Data Analysis\n"
   ]
  },
  {
   "cell_type": "code",
   "execution_count": 24,
   "id": "fff389e4",
   "metadata": {},
   "outputs": [],
   "source": [
    "regions = {\n",
    "    'Northeast': ['CT', 'ME', 'MA', 'NH', \\\n",
    "                  'RI', 'VT', 'NJ', 'NY', 'PA'],\n",
    "    'Midwest': ['IL', 'IN', 'MI', 'OH', 'WI', \n",
    "                'IA', 'KS', 'MN', 'MO', 'NE', 'ND', 'SD'],\n",
    "    'South': ['DE', 'FL', 'GA', 'MD', 'NC', 'SC', \\\n",
    "              'VA', 'DC', 'WV', 'AL', 'KY', 'MS', \\\n",
    "              'TN', 'AR', 'LA', 'OK', 'TX'],\n",
    "    'West': ['AZ', 'CO', 'ID', 'MT', 'NV', 'NM', \n",
    "             'UT', 'WY', 'AK', 'CA', 'HI', 'OR', 'WA']\n",
    "}"
   ]
  },
  {
   "cell_type": "code",
   "execution_count": 25,
   "id": "ccddefb1",
   "metadata": {},
   "outputs": [],
   "source": [
    "def state_to_region(state):\n",
    "    for region, states in regions.items():\n",
    "        if state in states:\n",
    "            return region\n",
    "    return np.nan\n",
    "\n",
    "merged['Region'] = merged['State'].apply(state_to_region)"
   ]
  },
  {
   "cell_type": "code",
   "execution_count": 26,
   "id": "831f9a65",
   "metadata": {},
   "outputs": [
    {
     "data": {
      "text/html": [
       "<div>\n",
       "<style scoped>\n",
       "    .dataframe tbody tr th:only-of-type {\n",
       "        vertical-align: middle;\n",
       "    }\n",
       "\n",
       "    .dataframe tbody tr th {\n",
       "        vertical-align: top;\n",
       "    }\n",
       "\n",
       "    .dataframe thead th {\n",
       "        text-align: right;\n",
       "    }\n",
       "</style>\n",
       "<table border=\"1\" class=\"dataframe\">\n",
       "  <thead>\n",
       "    <tr style=\"text-align: right;\">\n",
       "      <th></th>\n",
       "      <th>State</th>\n",
       "      <th>County</th>\n",
       "      <th>Grocery_2011</th>\n",
       "      <th>Grocery_2016</th>\n",
       "      <th>Grocery_per_1000_2011</th>\n",
       "      <th>Grocery_per_1000_2016</th>\n",
       "      <th>Supercenter_2011</th>\n",
       "      <th>Supercenter_2016</th>\n",
       "      <th>Supercenter_per_1000_2011</th>\n",
       "      <th>Supercenter_per_1000_2016</th>\n",
       "      <th>...</th>\n",
       "      <th>Ethnicity_Asian</th>\n",
       "      <th>Ethnicity_Black</th>\n",
       "      <th>Ethnicity_Hispanic</th>\n",
       "      <th>Ethnicity_Native</th>\n",
       "      <th>Ethnicity_White</th>\n",
       "      <th>Region_Midwest</th>\n",
       "      <th>Region_Northeast</th>\n",
       "      <th>Region_South</th>\n",
       "      <th>Region_West</th>\n",
       "      <th>dif</th>\n",
       "    </tr>\n",
       "  </thead>\n",
       "  <tbody>\n",
       "    <tr>\n",
       "      <th>0</th>\n",
       "      <td>AL</td>\n",
       "      <td>Autauga</td>\n",
       "      <td>5</td>\n",
       "      <td>3</td>\n",
       "      <td>0.090581</td>\n",
       "      <td>0.054271</td>\n",
       "      <td>1</td>\n",
       "      <td>1</td>\n",
       "      <td>0.018116</td>\n",
       "      <td>0.018090</td>\n",
       "      <td>...</td>\n",
       "      <td>0</td>\n",
       "      <td>0</td>\n",
       "      <td>0</td>\n",
       "      <td>0</td>\n",
       "      <td>1</td>\n",
       "      <td>0</td>\n",
       "      <td>0</td>\n",
       "      <td>1</td>\n",
       "      <td>0</td>\n",
       "      <td>0.525372</td>\n",
       "    </tr>\n",
       "    <tr>\n",
       "      <th>1</th>\n",
       "      <td>AL</td>\n",
       "      <td>Baldwin</td>\n",
       "      <td>27</td>\n",
       "      <td>29</td>\n",
       "      <td>0.144746</td>\n",
       "      <td>0.139753</td>\n",
       "      <td>6</td>\n",
       "      <td>7</td>\n",
       "      <td>0.032166</td>\n",
       "      <td>0.033733</td>\n",
       "      <td>...</td>\n",
       "      <td>0</td>\n",
       "      <td>0</td>\n",
       "      <td>0</td>\n",
       "      <td>0</td>\n",
       "      <td>1</td>\n",
       "      <td>0</td>\n",
       "      <td>0</td>\n",
       "      <td>1</td>\n",
       "      <td>0</td>\n",
       "      <td>0.503930</td>\n",
       "    </tr>\n",
       "    <tr>\n",
       "      <th>2</th>\n",
       "      <td>AL</td>\n",
       "      <td>Barbour</td>\n",
       "      <td>6</td>\n",
       "      <td>4</td>\n",
       "      <td>0.219370</td>\n",
       "      <td>0.155195</td>\n",
       "      <td>0</td>\n",
       "      <td>1</td>\n",
       "      <td>0.000000</td>\n",
       "      <td>0.038799</td>\n",
       "      <td>...</td>\n",
       "      <td>0</td>\n",
       "      <td>0</td>\n",
       "      <td>0</td>\n",
       "      <td>0</td>\n",
       "      <td>1</td>\n",
       "      <td>0</td>\n",
       "      <td>0</td>\n",
       "      <td>1</td>\n",
       "      <td>0</td>\n",
       "      <td>0.475303</td>\n",
       "    </tr>\n",
       "    <tr>\n",
       "      <th>3</th>\n",
       "      <td>AL</td>\n",
       "      <td>Bibb</td>\n",
       "      <td>6</td>\n",
       "      <td>5</td>\n",
       "      <td>0.263794</td>\n",
       "      <td>0.220916</td>\n",
       "      <td>1</td>\n",
       "      <td>1</td>\n",
       "      <td>0.043966</td>\n",
       "      <td>0.044183</td>\n",
       "      <td>...</td>\n",
       "      <td>0</td>\n",
       "      <td>0</td>\n",
       "      <td>0</td>\n",
       "      <td>0</td>\n",
       "      <td>1</td>\n",
       "      <td>0</td>\n",
       "      <td>0</td>\n",
       "      <td>1</td>\n",
       "      <td>0</td>\n",
       "      <td>0.000000</td>\n",
       "    </tr>\n",
       "    <tr>\n",
       "      <th>4</th>\n",
       "      <td>AL</td>\n",
       "      <td>Blount</td>\n",
       "      <td>7</td>\n",
       "      <td>5</td>\n",
       "      <td>0.121608</td>\n",
       "      <td>0.086863</td>\n",
       "      <td>1</td>\n",
       "      <td>1</td>\n",
       "      <td>0.017373</td>\n",
       "      <td>0.017373</td>\n",
       "      <td>...</td>\n",
       "      <td>0</td>\n",
       "      <td>0</td>\n",
       "      <td>0</td>\n",
       "      <td>0</td>\n",
       "      <td>1</td>\n",
       "      <td>0</td>\n",
       "      <td>0</td>\n",
       "      <td>1</td>\n",
       "      <td>0</td>\n",
       "      <td>0.225843</td>\n",
       "    </tr>\n",
       "  </tbody>\n",
       "</table>\n",
       "<p>5 rows × 42 columns</p>\n",
       "</div>"
      ],
      "text/plain": [
       "  State   County  Grocery_2011  Grocery_2016  Grocery_per_1000_2011  \\\n",
       "0    AL  Autauga             5             3               0.090581   \n",
       "1    AL  Baldwin            27            29               0.144746   \n",
       "2    AL  Barbour             6             4               0.219370   \n",
       "3    AL     Bibb             6             5               0.263794   \n",
       "4    AL   Blount             7             5               0.121608   \n",
       "\n",
       "   Grocery_per_1000_2016  Supercenter_2011  Supercenter_2016  \\\n",
       "0               0.054271                 1                 1   \n",
       "1               0.139753                 6                 7   \n",
       "2               0.155195                 0                 1   \n",
       "3               0.220916                 1                 1   \n",
       "4               0.086863                 1                 1   \n",
       "\n",
       "   Supercenter_per_1000_2011  Supercenter_per_1000_2016  ...  Ethnicity_Asian  \\\n",
       "0                   0.018116                   0.018090  ...                0   \n",
       "1                   0.032166                   0.033733  ...                0   \n",
       "2                   0.000000                   0.038799  ...                0   \n",
       "3                   0.043966                   0.044183  ...                0   \n",
       "4                   0.017373                   0.017373  ...                0   \n",
       "\n",
       "   Ethnicity_Black  Ethnicity_Hispanic  Ethnicity_Native  Ethnicity_White  \\\n",
       "0                0                   0                 0                1   \n",
       "1                0                   0                 0                1   \n",
       "2                0                   0                 0                1   \n",
       "3                0                   0                 0                1   \n",
       "4                0                   0                 0                1   \n",
       "\n",
       "   Region_Midwest  Region_Northeast  Region_South  Region_West       dif  \n",
       "0               0                 0             1            0  0.525372  \n",
       "1               0                 0             1            0  0.503930  \n",
       "2               0                 0             1            0  0.475303  \n",
       "3               0                 0             1            0  0.000000  \n",
       "4               0                 0             1            0  0.225843  \n",
       "\n",
       "[5 rows x 42 columns]"
      ]
     },
     "execution_count": 26,
     "metadata": {},
     "output_type": "execute_result"
    }
   ],
   "source": [
    "d_merged = pd.get_dummies(merged, columns=['Region'], prefix='Region')\n",
    "d_merged['dif'] = d_merged['Fast_food_per_1000_2011'] - d_merged['Grocery_per_1000_2011']\n",
    "d_merged.head()"
   ]
  },
  {
   "cell_type": "code",
   "execution_count": 27,
   "id": "8c30d56d",
   "metadata": {},
   "outputs": [
    {
     "name": "stdout",
     "output_type": "stream",
     "text": [
      "Intercept: 4729297620863.37\n",
      "Coefficients: 4729297620863.37\n",
      "Metro: 0.1586\n",
      "Above_US_Median: 0.2263\n",
      "Region_Midwest: -4729297620863.3740\n",
      "Region_Northeast: -4729297620863.3018\n",
      "Region_South: -4729297620863.2363\n",
      "Region_West: -4729297620863.3301\n"
     ]
    }
   ],
   "source": [
    "columns_for_regression = ['Metro', 'Above_US_Median'] + \\\n",
    "                         [col for col in d_merged.columns if col.startswith('Region_')]\n",
    "\n",
    "data = d_merged[columns_for_regression + ['Fast_food_2011', 'Grocery_per_1000_2011']]\n",
    "data = data.dropna()\n",
    "X = data[columns_for_regression]\n",
    "data['dif'] = data['Fast_food_2011'] - data['Grocery_per_1000_2011']\n",
    "\n",
    "\n",
    "lin_reg_model2 = LinearRegression().fit(X, Y)\n",
    "\n",
    "\n",
    "coefficients = lin_reg_model2.coef_\n",
    "intercept = lin_reg_model2.intercept_\n",
    "print(f\"Intercept: {intercept}\")\n",
    "print(f\"Coefficients: {intercept}\")\n",
    "for feature, coef in zip(X.columns, coefficients):\n",
    "    print(f\"{feature}: {coef:.4f}\")"
   ]
  },
  {
   "cell_type": "code",
   "execution_count": 32,
   "id": "9f0199fd",
   "metadata": {},
   "outputs": [
    {
     "data": {
      "application/vnd.plotly.v1+json": {
       "config": {
        "plotlyServerURL": "https://plot.ly"
       },
       "data": [
        {
         "customdata": [
          [
           "OH"
          ],
          [
           "VA"
          ],
          [
           "NE"
          ],
          [
           "TX"
          ],
          [
           "IA"
          ],
          [
           "SD"
          ],
          [
           "IA"
          ],
          [
           "FL"
          ],
          [
           "NY"
          ],
          [
           "SD"
          ],
          [
           "NE"
          ],
          [
           "CO"
          ],
          [
           "FL"
          ],
          [
           "SC"
          ],
          [
           "WI"
          ],
          [
           "IN"
          ],
          [
           "MN"
          ],
          [
           "ME"
          ],
          [
           "NC"
          ],
          [
           "MN"
          ],
          [
           "ID"
          ],
          [
           "NE"
          ],
          [
           "MT"
          ],
          [
           "ND"
          ],
          [
           "IA"
          ],
          [
           "PA"
          ],
          [
           "VA"
          ],
          [
           "OR"
          ],
          [
           "TX"
          ],
          [
           "LA"
          ],
          [
           "FL"
          ],
          [
           "ND"
          ],
          [
           "IL"
          ],
          [
           "SC"
          ],
          [
           "WI"
          ],
          [
           "TX"
          ],
          [
           "FL"
          ],
          [
           "GA"
          ],
          [
           "WA"
          ],
          [
           "WV"
          ],
          [
           "FL"
          ],
          [
           "OK"
          ],
          [
           "NC"
          ],
          [
           "IL"
          ],
          [
           "NJ"
          ],
          [
           "OK"
          ],
          [
           "KS"
          ],
          [
           "CA"
          ],
          [
           "WV"
          ],
          [
           "NC"
          ],
          [
           "AL"
          ],
          [
           "CO"
          ],
          [
           "VA"
          ],
          [
           "WV"
          ],
          [
           "IL"
          ],
          [
           "TX"
          ],
          [
           "IL"
          ],
          [
           "MI"
          ],
          [
           "NE"
          ],
          [
           "GA"
          ],
          [
           "TX"
          ],
          [
           "MN"
          ],
          [
           "MS"
          ],
          [
           "WA"
          ],
          [
           "MT"
          ],
          [
           "GA"
          ],
          [
           "TX"
          ],
          [
           "CO"
          ],
          [
           "ID"
          ],
          [
           "TX"
          ],
          [
           "IN"
          ],
          [
           "TN"
          ],
          [
           "WI"
          ],
          [
           "GA"
          ],
          [
           "CO"
          ],
          [
           "TX"
          ],
          [
           "NE"
          ],
          [
           "KS"
          ],
          [
           "VA"
          ],
          [
           "NY"
          ],
          [
           "UT"
          ],
          [
           "PA"
          ],
          [
           "WV"
          ],
          [
           "IN"
          ],
          [
           "LA"
          ],
          [
           "WV"
          ],
          [
           "MO"
          ],
          [
           "IN"
          ],
          [
           "TX"
          ],
          [
           "ID"
          ],
          [
           "AR"
          ],
          [
           "ID"
          ],
          [
           "SD"
          ],
          [
           "TX"
          ],
          [
           "OK"
          ],
          [
           "VA"
          ],
          [
           "NC"
          ],
          [
           "VA"
          ],
          [
           "WY"
          ],
          [
           "TX"
          ],
          [
           "NC"
          ],
          [
           "TX"
          ],
          [
           "NC"
          ],
          [
           "FL"
          ],
          [
           "NE"
          ],
          [
           "VA"
          ],
          [
           "NE"
          ],
          [
           "OH"
          ],
          [
           "OH"
          ],
          [
           "MO"
          ],
          [
           "MI"
          ],
          [
           "CO"
          ],
          [
           "NE"
          ],
          [
           "GA"
          ],
          [
           "MS"
          ],
          [
           "IL"
          ],
          [
           "FL"
          ],
          [
           "TX"
          ],
          [
           "TX"
          ],
          [
           "OK"
          ],
          [
           "KY"
          ],
          [
           "IA"
          ],
          [
           "TX"
          ],
          [
           "IL"
          ],
          [
           "IN"
          ],
          [
           "MI"
          ],
          [
           "NC"
          ],
          [
           "SD"
          ],
          [
           "CO"
          ],
          [
           "KS"
          ],
          [
           "VA"
          ],
          [
           "MA"
          ],
          [
           "CA"
          ],
          [
           "KS"
          ],
          [
           "GA"
          ],
          [
           "LA"
          ],
          [
           "CO"
          ],
          [
           "MO"
          ],
          [
           "ID"
          ],
          [
           "GA"
          ],
          [
           "AK"
          ],
          [
           "KS"
          ],
          [
           "IA"
          ],
          [
           "NJ"
          ],
          [
           "NH"
          ],
          [
           "MD"
          ],
          [
           "NM"
          ],
          [
           "OK"
          ],
          [
           "TX"
          ],
          [
           "NC"
          ],
          [
           "TN"
          ],
          [
           "WY"
          ],
          [
           "IN"
          ],
          [
           "MO"
          ],
          [
           "MD"
          ],
          [
           "WV"
          ],
          [
           "IL"
          ],
          [
           "AR"
          ],
          [
           "MN"
          ],
          [
           "DE"
          ],
          [
           "IN"
          ],
          [
           "MO"
          ],
          [
           "WA"
          ],
          [
           "IL"
          ],
          [
           "WA"
          ],
          [
           "TX"
          ],
          [
           "IN"
          ],
          [
           "GA"
          ],
          [
           "WV"
          ],
          [
           "TX"
          ],
          [
           "MS"
          ],
          [
           "IN"
          ],
          [
           "NE"
          ],
          [
           "MT"
          ],
          [
           "CA"
          ],
          [
           "MT"
          ],
          [
           "MI"
          ],
          [
           "VA"
          ],
          [
           "MN"
          ],
          [
           "TX"
          ],
          [
           "NJ"
          ],
          [
           "IL"
          ],
          [
           "KS"
          ],
          [
           "MO"
          ],
          [
           "KY"
          ],
          [
           "CA"
          ],
          [
           "TX"
          ],
          [
           "TX"
          ],
          [
           "WI"
          ],
          [
           "MN"
          ],
          [
           "MD"
          ],
          [
           "WI"
          ],
          [
           "WA"
          ],
          [
           "AK"
          ],
          [
           "NY"
          ],
          [
           "HI"
          ],
          [
           "MS"
          ],
          [
           "OR"
          ],
          [
           "TN"
          ],
          [
           "NY"
          ],
          [
           "WV"
          ],
          [
           "WI"
          ],
          [
           "NC"
          ],
          [
           "VA"
          ],
          [
           "OK"
          ],
          [
           "GA"
          ],
          [
           "MT"
          ],
          [
           "WA"
          ],
          [
           "NC"
          ],
          [
           "KS"
          ],
          [
           "IL"
          ],
          [
           "NE"
          ],
          [
           "AK"
          ],
          [
           "KY"
          ],
          [
           "PA"
          ],
          [
           "UT"
          ],
          [
           "NY"
          ],
          [
           "KY"
          ],
          [
           "PA"
          ],
          [
           "OH"
          ],
          [
           "FL"
          ],
          [
           "IL"
          ],
          [
           "CO"
          ],
          [
           "TN"
          ],
          [
           "KY"
          ],
          [
           "TN"
          ],
          [
           "ND"
          ],
          [
           "TX"
          ],
          [
           "IA"
          ],
          [
           "SC"
          ],
          [
           "NE"
          ],
          [
           "ND"
          ],
          [
           "MI"
          ],
          [
           "KY"
          ],
          [
           "TN"
          ],
          [
           "GA"
          ],
          [
           "CA"
          ],
          [
           "UT"
          ],
          [
           "OH"
          ],
          [
           "MT"
          ],
          [
           "TN"
          ],
          [
           "NM"
          ],
          [
           "NE"
          ],
          [
           "KS"
          ],
          [
           "AL"
          ],
          [
           "MT"
          ],
          [
           "SC"
          ],
          [
           "IN"
          ],
          [
           "ID"
          ],
          [
           "WV"
          ],
          [
           "OK"
          ],
          [
           "KY"
          ],
          [
           "VA"
          ],
          [
           "MA"
          ],
          [
           "NE"
          ],
          [
           "AL"
          ],
          [
           "GA"
          ],
          [
           "NE"
          ],
          [
           "WV"
          ],
          [
           "GA"
          ],
          [
           "NC"
          ],
          [
           "KS"
          ],
          [
           "NC"
          ],
          [
           "MT"
          ],
          [
           "TN"
          ],
          [
           "FL"
          ],
          [
           "TX"
          ],
          [
           "OH"
          ],
          [
           "IA"
          ],
          [
           "PA"
          ],
          [
           "SD"
          ],
          [
           "NV"
          ],
          [
           "OK"
          ],
          [
           "NC"
          ],
          [
           "MS"
          ],
          [
           "IN"
          ],
          [
           "AR"
          ],
          [
           "WY"
          ],
          [
           "MN"
          ],
          [
           "TX"
          ],
          [
           "CA"
          ],
          [
           "WV"
          ],
          [
           "TX"
          ],
          [
           "MO"
          ],
          [
           "FL"
          ],
          [
           "SD"
          ],
          [
           "TX"
          ],
          [
           "OR"
          ],
          [
           "TX"
          ],
          [
           "TN"
          ],
          [
           "NY"
          ],
          [
           "NC"
          ],
          [
           "ID"
          ],
          [
           "CA"
          ],
          [
           "OH"
          ],
          [
           "WV"
          ],
          [
           "CT"
          ],
          [
           "WI"
          ],
          [
           "MI"
          ],
          [
           "AR"
          ],
          [
           "MS"
          ],
          [
           "TX"
          ],
          [
           "CA"
          ],
          [
           "NC"
          ],
          [
           "ND"
          ],
          [
           "TX"
          ],
          [
           "NH"
          ],
          [
           "GA"
          ],
          [
           "MS"
          ],
          [
           "TX"
          ],
          [
           "GA"
          ],
          [
           "AL"
          ],
          [
           "VA"
          ],
          [
           "AL"
          ],
          [
           "TN"
          ],
          [
           "IL"
          ],
          [
           "ID"
          ],
          [
           "ID"
          ],
          [
           "IA"
          ],
          [
           "AL"
          ],
          [
           "UT"
          ],
          [
           "NM"
          ],
          [
           "VA"
          ],
          [
           "MS"
          ],
          [
           "AL"
          ],
          [
           "TX"
          ],
          [
           "MN"
          ],
          [
           "KS"
          ],
          [
           "NH"
          ],
          [
           "TX"
          ],
          [
           "NY"
          ],
          [
           "AZ"
          ],
          [
           "NJ"
          ],
          [
           "MO"
          ],
          [
           "TX"
          ],
          [
           "KS"
          ],
          [
           "MI"
          ],
          [
           "SC"
          ],
          [
           "NJ"
          ],
          [
           "UT"
          ],
          [
           "IL"
          ],
          [
           "IL"
          ],
          [
           "OK"
          ],
          [
           "OH"
          ],
          [
           "IA"
          ],
          [
           "WV"
          ],
          [
           "MS"
          ],
          [
           "ME"
          ],
          [
           "CO"
          ],
          [
           "LA"
          ],
          [
           "VA"
          ],
          [
           "MO"
          ],
          [
           "OH"
          ],
          [
           "LA"
          ],
          [
           "NE"
          ],
          [
           "MO"
          ],
          [
           "VA"
          ],
          [
           "PA"
          ],
          [
           "TN"
          ],
          [
           "TX"
          ],
          [
           "TX"
          ],
          [
           "KS"
          ],
          [
           "NJ"
          ],
          [
           "WI"
          ],
          [
           "NC"
          ],
          [
           "TX"
          ],
          [
           "MS"
          ],
          [
           "GA"
          ],
          [
           "ID"
          ],
          [
           "TX"
          ],
          [
           "NC"
          ],
          [
           "MT"
          ],
          [
           "VA"
          ],
          [
           "MI"
          ],
          [
           "OH"
          ],
          [
           "TN"
          ],
          [
           "KY"
          ],
          [
           "FL"
          ],
          [
           "VA"
          ],
          [
           "TX"
          ],
          [
           "TX"
          ],
          [
           "PA"
          ],
          [
           "IL"
          ],
          [
           "IA"
          ],
          [
           "IL"
          ],
          [
           "IN"
          ],
          [
           "PA"
          ],
          [
           "MN"
          ],
          [
           "ID"
          ],
          [
           "GA"
          ],
          [
           "MO"
          ],
          [
           "ID"
          ],
          [
           "UT"
          ],
          [
           "MO"
          ],
          [
           "NY"
          ],
          [
           "SC"
          ],
          [
           "SC"
          ],
          [
           "SD"
          ],
          [
           "PA"
          ],
          [
           "AK"
          ],
          [
           "KY"
          ],
          [
           "WV"
          ],
          [
           "KS"
          ],
          [
           "VA"
          ],
          [
           "LA"
          ],
          [
           "IL"
          ],
          [
           "NY"
          ],
          [
           "KY"
          ],
          [
           "OR"
          ],
          [
           "IA"
          ],
          [
           "FL"
          ],
          [
           "GA"
          ],
          [
           "SD"
          ],
          [
           "SC"
          ],
          [
           "TX"
          ],
          [
           "NC"
          ],
          [
           "UT"
          ],
          [
           "OK"
          ],
          [
           "CA"
          ],
          [
           "TN"
          ],
          [
           "MN"
          ],
          [
           "SD"
          ],
          [
           "GA"
          ],
          [
           "KY"
          ],
          [
           "GA"
          ],
          [
           "GA"
          ],
          [
           "IL"
          ],
          [
           "OH"
          ],
          [
           "FL"
          ],
          [
           "MS"
          ],
          [
           "AZ"
          ],
          [
           "SC"
          ],
          [
           "NE"
          ],
          [
           "MO"
          ],
          [
           "GA"
          ],
          [
           "TX"
          ],
          [
           "OK"
          ],
          [
           "CA"
          ],
          [
           "VA"
          ],
          [
           "TN"
          ],
          [
           "TN"
          ],
          [
           "WY"
          ],
          [
           "PA"
          ],
          [
           "NY"
          ],
          [
           "VA"
          ],
          [
           "MS"
          ],
          [
           "TX"
          ],
          [
           "IA"
          ],
          [
           "AR"
          ],
          [
           "MN"
          ],
          [
           "MO"
          ],
          [
           "KY"
          ],
          [
           "TN"
          ],
          [
           "TN"
          ],
          [
           "MT"
          ],
          [
           "SD"
          ],
          [
           "OH"
          ],
          [
           "TX"
          ],
          [
           "MI"
          ],
          [
           "CA"
          ],
          [
           "MS"
          ],
          [
           "MO"
          ],
          [
           "LA"
          ],
          [
           "VA"
          ],
          [
           "IL"
          ],
          [
           "UT"
          ],
          [
           "FL"
          ],
          [
           "TX"
          ],
          [
           "KY"
          ],
          [
           "PA"
          ],
          [
           "TX"
          ],
          [
           "KS"
          ],
          [
           "OH"
          ],
          [
           "CO"
          ],
          [
           "TX"
          ],
          [
           "TX"
          ],
          [
           "FL"
          ],
          [
           "FL"
          ],
          [
           "AR"
          ],
          [
           "IN"
          ],
          [
           "IN"
          ],
          [
           "MN"
          ],
          [
           "ME"
          ],
          [
           "OR"
          ],
          [
           "NY"
          ],
          [
           "VA"
          ],
          [
           "VA"
          ],
          [
           "CA"
          ],
          [
           "CA"
          ],
          [
           "NH"
          ],
          [
           "TN"
          ],
          [
           "NY"
          ],
          [
           "KY"
          ],
          [
           "TN"
          ],
          [
           "CO"
          ],
          [
           "VA"
          ],
          [
           "VA"
          ],
          [
           "VA"
          ],
          [
           "VA"
          ],
          [
           "VA"
          ],
          [
           "VA"
          ],
          [
           "VA"
          ],
          [
           "VA"
          ],
          [
           "VA"
          ],
          [
           "VA"
          ],
          [
           "VA"
          ],
          [
           "VA"
          ],
          [
           "VA"
          ],
          [
           "VA"
          ],
          [
           "VA"
          ],
          [
           "VA"
          ],
          [
           "LA"
          ],
          [
           "TX"
          ],
          [
           "MD"
          ],
          [
           "WA"
          ],
          [
           "ND"
          ],
          [
           "MO"
          ],
          [
           "MS"
          ],
          [
           "VA"
          ],
          [
           "IN"
          ],
          [
           "WA"
          ],
          [
           "KS"
          ],
          [
           "AL"
          ],
          [
           "KY"
          ],
          [
           "OH"
          ],
          [
           "TX"
          ],
          [
           "WA"
          ],
          [
           "IA"
          ],
          [
           "PA"
          ],
          [
           "AR"
          ],
          [
           "ID"
          ],
          [
           "GA"
          ],
          [
           "ID"
          ],
          [
           "ND"
          ],
          [
           "SD"
          ],
          [
           "ND"
          ],
          [
           "GA"
          ],
          [
           "MT"
          ],
          [
           "UT"
          ],
          [
           "GA"
          ],
          [
           "WA"
          ],
          [
           "VA"
          ],
          [
           "MT"
          ],
          [
           "TX"
          ],
          [
           "MI"
          ],
          [
           "AR"
          ],
          [
           "WV"
          ],
          [
           "MO"
          ],
          [
           "OH"
          ],
          [
           "CA"
          ],
          [
           "IN"
          ],
          [
           "MN"
          ],
          [
           "NC"
          ],
          [
           "LA"
          ],
          [
           "TX"
          ],
          [
           "OK"
          ],
          [
           "LA"
          ],
          [
           "TX"
          ],
          [
           "SD"
          ],
          [
           "AL"
          ],
          [
           "GA"
          ],
          [
           "IA"
          ],
          [
           "AR"
          ],
          [
           "GA"
          ],
          [
           "CT"
          ],
          [
           "AK"
          ],
          [
           "ME"
          ],
          [
           "VA"
          ],
          [
           "TX"
          ],
          [
           "NC"
          ],
          [
           "TX"
          ],
          [
           "KY"
          ],
          [
           "IL"
          ],
          [
           "ID"
          ],
          [
           "MI"
          ],
          [
           "KS"
          ],
          [
           "OK"
          ],
          [
           "SC"
          ],
          [
           "CO"
          ],
          [
           "TX"
          ],
          [
           "KS"
          ],
          [
           "CA"
          ],
          [
           "AR"
          ],
          [
           "KS"
          ],
          [
           "MT"
          ],
          [
           "SD"
          ],
          [
           "IN"
          ],
          [
           "LA"
          ],
          [
           "TX"
          ],
          [
           "VA"
          ],
          [
           "SD"
          ],
          [
           "PA"
          ],
          [
           "MN"
          ],
          [
           "AR"
          ],
          [
           "NV"
          ],
          [
           "CT"
          ],
          [
           "KS"
          ],
          [
           "OH"
          ],
          [
           "KS"
          ],
          [
           "NC"
          ],
          [
           "GA"
          ],
          [
           "IN"
          ],
          [
           "FL"
          ],
          [
           "VA"
          ],
          [
           "IN"
          ],
          [
           "OK"
          ],
          [
           "MT"
          ],
          [
           "MO"
          ],
          [
           "TX"
          ],
          [
           "LA"
          ],
          [
           "TX"
          ],
          [
           "FL"
          ],
          [
           "VA"
          ],
          [
           "AL"
          ],
          [
           "IL"
          ],
          [
           "VA"
          ],
          [
           "OH"
          ],
          [
           "TX"
          ],
          [
           "IL"
          ],
          [
           "NY"
          ],
          [
           "WI"
          ],
          [
           "GA"
          ],
          [
           "TX"
          ],
          [
           "PA"
          ],
          [
           "MA"
          ],
          [
           "NC"
          ],
          [
           "IA"
          ],
          [
           "NC"
          ],
          [
           "TX"
          ],
          [
           "NC"
          ],
          [
           "KY"
          ],
          [
           "TN"
          ],
          [
           "KS"
          ],
          [
           "GA"
          ],
          [
           "IA"
          ],
          [
           "AK"
          ],
          [
           "SC"
          ],
          [
           "MN"
          ],
          [
           "MD"
          ],
          [
           "CO"
          ],
          [
           "PA"
          ],
          [
           "MI"
          ],
          [
           "TX"
          ],
          [
           "KY"
          ],
          [
           "IA"
          ],
          [
           "FL"
          ],
          [
           "MO"
          ],
          [
           "NE"
          ],
          [
           "TX"
          ],
          [
           "GA"
          ],
          [
           "IA"
          ],
          [
           "SC"
          ],
          [
           "NH"
          ],
          [
           "TX"
          ],
          [
           "IN"
          ],
          [
           "TX"
          ],
          [
           "NY"
          ],
          [
           "WV"
          ],
          [
           "OR"
          ],
          [
           "MO"
          ],
          [
           "AR"
          ],
          [
           "OK"
          ],
          [
           "WA"
          ],
          [
           "TX"
          ],
          [
           "MT"
          ],
          [
           "NC"
          ],
          [
           "IN"
          ],
          [
           "OH"
          ],
          [
           "TX"
          ],
          [
           "KY"
          ],
          [
           "ND"
          ],
          [
           "VT"
          ],
          [
           "HI"
          ],
          [
           "MI"
          ],
          [
           "SC"
          ],
          [
           "MT"
          ],
          [
           "IN"
          ],
          [
           "GA"
          ],
          [
           "GA"
          ],
          [
           "ND"
          ],
          [
           "GA"
          ],
          [
           "VA"
          ],
          [
           "MI"
          ],
          [
           "TN"
          ],
          [
           "MA"
          ],
          [
           "WA"
          ],
          [
           "NC"
          ],
          [
           "TX"
          ],
          [
           "IA"
          ],
          [
           "TX"
          ],
          [
           "KY"
          ],
          [
           "TN"
          ],
          [
           "VA"
          ],
          [
           "RI"
          ],
          [
           "MO"
          ],
          [
           "WA"
          ],
          [
           "NE"
          ],
          [
           "TX"
          ],
          [
           "GA"
          ],
          [
           "ID"
          ],
          [
           "TN"
          ],
          [
           "VA"
          ],
          [
           "WY"
          ],
          [
           "MN"
          ],
          [
           "CO"
          ],
          [
           "ID"
          ],
          [
           "MI"
          ],
          [
           "GA"
          ],
          [
           "ND"
          ],
          [
           "TX"
          ],
          [
           "AK"
          ],
          [
           "MD"
          ],
          [
           "AK"
          ],
          [
           "AZ"
          ],
          [
           "NE"
          ],
          [
           "NE"
          ],
          [
           "VA"
          ],
          [
           "KS"
          ],
          [
           "MO"
          ],
          [
           "LA"
          ],
          [
           "MO"
          ],
          [
           "PA"
          ],
          [
           "IL"
          ],
          [
           "OH"
          ],
          [
           "VA"
          ],
          [
           "VA"
          ],
          [
           "VA"
          ],
          [
           "VA"
          ],
          [
           "VA"
          ],
          [
           "VA"
          ],
          [
           "VA"
          ],
          [
           "VA"
          ],
          [
           "VA"
          ],
          [
           "VA"
          ],
          [
           "VA"
          ],
          [
           "VA"
          ],
          [
           "VA"
          ],
          [
           "VA"
          ],
          [
           "VA"
          ],
          [
           "VA"
          ],
          [
           "TN"
          ],
          [
           "FL"
          ],
          [
           "SD"
          ],
          [
           "ID"
          ],
          [
           "WV"
          ],
          [
           "IL"
          ],
          [
           "CO"
          ],
          [
           "TX"
          ],
          [
           "WA"
          ],
          [
           "AR"
          ],
          [
           "MD"
          ],
          [
           "TX"
          ],
          [
           "MN"
          ],
          [
           "IA"
          ],
          [
           "KY"
          ],
          [
           "VA"
          ],
          [
           "MS"
          ],
          [
           "PA"
          ],
          [
           "GA"
          ],
          [
           "MN"
          ],
          [
           "NC"
          ],
          [
           "MT"
          ],
          [
           "IA"
          ],
          [
           "IA"
          ],
          [
           "MO"
          ],
          [
           "NC"
          ],
          [
           "KY"
          ],
          [
           "KS"
          ],
          [
           "KS"
          ],
          [
           "NJ"
          ],
          [
           "PA"
          ],
          [
           "CA"
          ],
          [
           "NM"
          ],
          [
           "PA"
          ],
          [
           "PA"
          ],
          [
           "MI"
          ],
          [
           "TX"
          ],
          [
           "MO"
          ],
          [
           "AR"
          ],
          [
           "NE"
          ],
          [
           "VA"
          ],
          [
           "NJ"
          ],
          [
           "NC"
          ],
          [
           "KY"
          ],
          [
           "MT"
          ],
          [
           "WA"
          ],
          [
           "LA"
          ],
          [
           "FL"
          ],
          [
           "MS"
          ],
          [
           "ID"
          ],
          [
           "KS"
          ],
          [
           "GA"
          ],
          [
           "NC"
          ],
          [
           "WA"
          ],
          [
           "NE"
          ],
          [
           "TX"
          ],
          [
           "KS"
          ],
          [
           "AK"
          ],
          [
           "NC"
          ],
          [
           "PA"
          ],
          [
           "NV"
          ],
          [
           "IL"
          ],
          [
           "LA"
          ],
          [
           "CO"
          ],
          [
           "OR"
          ],
          [
           "IN"
          ],
          [
           "IL"
          ],
          [
           "OH"
          ],
          [
           "IA"
          ],
          [
           "IN"
          ],
          [
           "IL"
          ],
          [
           "AL"
          ],
          [
           "TN"
          ],
          [
           "ND"
          ],
          [
           "MN"
          ],
          [
           "AR"
          ],
          [
           "AK"
          ],
          [
           "OH"
          ],
          [
           "MI"
          ],
          [
           "MI"
          ],
          [
           "MS"
          ],
          [
           "KY"
          ],
          [
           "TN"
          ],
          [
           "WI"
          ],
          [
           "LA"
          ],
          [
           "KY"
          ],
          [
           "TX"
          ],
          [
           "IN"
          ],
          [
           "MS"
          ],
          [
           "GA"
          ],
          [
           "CO"
          ],
          [
           "MA"
          ],
          [
           "IA"
          ],
          [
           "VA"
          ],
          [
           "WI"
          ],
          [
           "KY"
          ],
          [
           "NV"
          ],
          [
           "AZ"
          ],
          [
           "FL"
          ],
          [
           "MS"
          ],
          [
           "VA"
          ],
          [
           "ND"
          ],
          [
           "TX"
          ],
          [
           "NM"
          ],
          [
           "GA"
          ],
          [
           "AR"
          ],
          [
           "WV"
          ],
          [
           "NE"
          ],
          [
           "VA"
          ],
          [
           "TX"
          ],
          [
           "GA"
          ],
          [
           "WI"
          ],
          [
           "NE"
          ],
          [
           "UT"
          ],
          [
           "CT"
          ],
          [
           "NE"
          ],
          [
           "PA"
          ],
          [
           "VA"
          ],
          [
           "TX"
          ],
          [
           "AR"
          ],
          [
           "ME"
          ],
          [
           "MS"
          ],
          [
           "IN"
          ],
          [
           "MN"
          ],
          [
           "MN"
          ],
          [
           "TX"
          ],
          [
           "WY"
          ],
          [
           "TX"
          ],
          [
           "VA"
          ],
          [
           "NC"
          ],
          [
           "KY"
          ],
          [
           "NE"
          ],
          [
           "KS"
          ],
          [
           "MT"
          ],
          [
           "MS"
          ],
          [
           "FL"
          ],
          [
           "TX"
          ],
          [
           "AR"
          ],
          [
           "MO"
          ],
          [
           "ND"
          ],
          [
           "TN"
          ],
          [
           "IA"
          ],
          [
           "MO"
          ],
          [
           "PA"
          ],
          [
           "IA"
          ],
          [
           "TX"
          ],
          [
           "CO"
          ],
          [
           "OK"
          ],
          [
           "OH"
          ],
          [
           "IN"
          ],
          [
           "KY"
          ],
          [
           "MI"
          ],
          [
           "OK"
          ],
          [
           "GA"
          ],
          [
           "TN"
          ],
          [
           "WV"
          ],
          [
           "TN"
          ],
          [
           "TX"
          ],
          [
           "MD"
          ],
          [
           "OH"
          ],
          [
           "ID"
          ],
          [
           "TX"
          ],
          [
           "OH"
          ],
          [
           "WA"
          ],
          [
           "AL"
          ],
          [
           "SD"
          ],
          [
           "KY"
          ],
          [
           "MN"
          ],
          [
           "KY"
          ],
          [
           "SC"
          ],
          [
           "MS"
          ],
          [
           "GA"
          ],
          [
           "NE"
          ],
          [
           "GA"
          ],
          [
           "MI"
          ],
          [
           "KY"
          ],
          [
           "TN"
          ],
          [
           "PA"
          ],
          [
           "NE"
          ],
          [
           "TX"
          ],
          [
           "AL"
          ],
          [
           "NY"
          ],
          [
           "ME"
          ],
          [
           "IA"
          ],
          [
           "IA"
          ],
          [
           "IA"
          ],
          [
           "IL"
          ],
          [
           "MI"
          ],
          [
           "VA"
          ],
          [
           "AL"
          ],
          [
           "CA"
          ],
          [
           "TX"
          ],
          [
           "CA"
          ],
          [
           "TX"
          ],
          [
           "MO"
          ],
          [
           "IN"
          ],
          [
           "OH"
          ],
          [
           "NE"
          ],
          [
           "NV"
          ],
          [
           "IL"
          ],
          [
           "MN"
          ],
          [
           "MI"
          ],
          [
           "VT"
          ],
          [
           "VA"
          ],
          [
           "ND"
          ],
          [
           "WI"
          ],
          [
           "IL"
          ],
          [
           "NE"
          ],
          [
           "MS"
          ],
          [
           "IL"
          ],
          [
           "TX"
          ],
          [
           "NE"
          ],
          [
           "KY"
          ],
          [
           "VA"
          ],
          [
           "MI"
          ],
          [
           "OH"
          ],
          [
           "CA"
          ],
          [
           "PA"
          ],
          [
           "OK"
          ],
          [
           "MN"
          ],
          [
           "SD"
          ],
          [
           "TX"
          ],
          [
           "AR"
          ],
          [
           "MN"
          ],
          [
           "IN"
          ],
          [
           "KY"
          ],
          [
           "ID"
          ],
          [
           "PA"
          ],
          [
           "SD"
          ],
          [
           "OK"
          ],
          [
           "MN"
          ],
          [
           "AR"
          ],
          [
           "MS"
          ],
          [
           "IA"
          ],
          [
           "OK"
          ],
          [
           "NC"
          ],
          [
           "WV"
          ],
          [
           "CA"
          ],
          [
           "KY"
          ],
          [
           "IA"
          ],
          [
           "GA"
          ],
          [
           "TX"
          ],
          [
           "SD"
          ],
          [
           "ND"
          ],
          [
           "SD"
          ],
          [
           "AL"
          ],
          [
           "MN"
          ],
          [
           "TX"
          ],
          [
           "VA"
          ],
          [
           "GA"
          ],
          [
           "PA"
          ],
          [
           "AZ"
          ],
          [
           "MI"
          ],
          [
           "KS"
          ],
          [
           "IL"
          ],
          [
           "IA"
          ],
          [
           "OK"
          ],
          [
           "OR"
          ],
          [
           "VA"
          ],
          [
           "OH"
          ],
          [
           "AR"
          ],
          [
           "CO"
          ],
          [
           "KS"
          ],
          [
           "MO"
          ],
          [
           "CO"
          ],
          [
           "MN"
          ],
          [
           "CA"
          ],
          [
           "TX"
          ],
          [
           "VA"
          ],
          [
           "AL"
          ],
          [
           "ME"
          ],
          [
           "TX"
          ],
          [
           "MT"
          ],
          [
           "AK"
          ],
          [
           "GA"
          ],
          [
           "WI"
          ],
          [
           "VA"
          ],
          [
           "LA"
          ],
          [
           "OR"
          ],
          [
           "GA"
          ],
          [
           "MN"
          ],
          [
           "WA"
          ],
          [
           "KS"
          ],
          [
           "ID"
          ],
          [
           "AL"
          ],
          [
           "IA"
          ],
          [
           "MN"
          ],
          [
           "MN"
          ],
          [
           "MA"
          ],
          [
           "IL"
          ],
          [
           "OH"
          ],
          [
           "ND"
          ],
          [
           "MO"
          ],
          [
           "TX"
          ],
          [
           "OK"
          ],
          [
           "NE"
          ],
          [
           "IL"
          ],
          [
           "SC"
          ],
          [
           "CA"
          ],
          [
           "OH"
          ],
          [
           "TX"
          ],
          [
           "ND"
          ],
          [
           "LA"
          ],
          [
           "AK"
          ],
          [
           "OR"
          ],
          [
           "NM"
          ],
          [
           "ND"
          ],
          [
           "PA"
          ],
          [
           "ND"
          ],
          [
           "AL"
          ],
          [
           "VA"
          ],
          [
           "TX"
          ],
          [
           "VA"
          ],
          [
           "VA"
          ],
          [
           "VA"
          ],
          [
           "VA"
          ],
          [
           "VA"
          ],
          [
           "VA"
          ],
          [
           "VA"
          ],
          [
           "VA"
          ],
          [
           "VA"
          ],
          [
           "VA"
          ],
          [
           "VA"
          ],
          [
           "VA"
          ],
          [
           "VA"
          ],
          [
           "VA"
          ],
          [
           "VA"
          ],
          [
           "VA"
          ],
          [
           "PA"
          ],
          [
           "OK"
          ],
          [
           "IN"
          ],
          [
           "TN"
          ],
          [
           "KS"
          ],
          [
           "MD"
          ],
          [
           "TX"
          ],
          [
           "SD"
          ],
          [
           "LA"
          ],
          [
           "VA"
          ],
          [
           "TX"
          ],
          [
           "TX"
          ],
          [
           "GA"
          ],
          [
           "WI"
          ],
          [
           "LA"
          ],
          [
           "MO"
          ],
          [
           "MN"
          ],
          [
           "IL"
          ],
          [
           "CO"
          ],
          [
           "OK"
          ],
          [
           "KY"
          ],
          [
           "WI"
          ],
          [
           "ND"
          ],
          [
           "ID"
          ],
          [
           "SD"
          ],
          [
           "SD"
          ],
          [
           "NY"
          ],
          [
           "WY"
          ],
          [
           "WA"
          ],
          [
           "LA"
          ],
          [
           "VA"
          ],
          [
           "MI"
          ],
          [
           "CA"
          ],
          [
           "NJ"
          ],
          [
           "IA"
          ],
          [
           "IL"
          ],
          [
           "IA"
          ],
          [
           "NE"
          ],
          [
           "TX"
          ],
          [
           "GA"
          ],
          [
           "MO"
          ],
          [
           "NC"
          ],
          [
           "IA"
          ],
          [
           "FL"
          ],
          [
           "GA"
          ],
          [
           "AK"
          ],
          [
           "KY"
          ],
          [
           "SC"
          ],
          [
           "AR"
          ],
          [
           "AL"
          ],
          [
           "OK"
          ],
          [
           "LA"
          ],
          [
           "CA"
          ],
          [
           "TX"
          ],
          [
           "ID"
          ],
          [
           "MN"
          ],
          [
           "ID"
          ],
          [
           "MT"
          ],
          [
           "KS"
          ],
          [
           "GA"
          ],
          [
           "SC"
          ],
          [
           "WA"
          ],
          [
           "KS"
          ],
          [
           "MS"
          ],
          [
           "LA"
          ],
          [
           "CO"
          ],
          [
           "CA"
          ],
          [
           "GA"
          ],
          [
           "IL"
          ],
          [
           "KS"
          ],
          [
           "IL"
          ],
          [
           "NE"
          ],
          [
           "AR"
          ],
          [
           "AL"
          ],
          [
           "GA"
          ],
          [
           "IL"
          ],
          [
           "MS"
          ],
          [
           "MN"
          ],
          [
           "TN"
          ],
          [
           "TX"
          ],
          [
           "KS"
          ],
          [
           "NM"
          ],
          [
           "MO"
          ],
          [
           "GA"
          ],
          [
           "MN"
          ],
          [
           "WI"
          ],
          [
           "NE"
          ],
          [
           "KY"
          ],
          [
           "KY"
          ],
          [
           "IL"
          ],
          [
           "IA"
          ],
          [
           "MO"
          ],
          [
           "MI"
          ],
          [
           "TN"
          ],
          [
           "GA"
          ],
          [
           "FL"
          ],
          [
           "NE"
          ],
          [
           "ID"
          ],
          [
           "KY"
          ],
          [
           "SD"
          ],
          [
           "NC"
          ],
          [
           "SD"
          ],
          [
           "WI"
          ],
          [
           "MI"
          ],
          [
           "CO"
          ],
          [
           "ND"
          ],
          [
           "CA"
          ],
          [
           "LA"
          ],
          [
           "NC"
          ],
          [
           "MI"
          ],
          [
           "MI"
          ],
          [
           "IL"
          ],
          [
           "TX"
          ],
          [
           "IL"
          ],
          [
           "WY"
          ],
          [
           "AR"
          ],
          [
           "AL"
          ],
          [
           "MI"
          ],
          [
           "KS"
          ],
          [
           "AL"
          ],
          [
           "GA"
          ],
          [
           "GA"
          ],
          [
           "OH"
          ],
          [
           "CO"
          ],
          [
           "GA"
          ],
          [
           "NC"
          ],
          [
           "NY"
          ],
          [
           "TX"
          ],
          [
           "MO"
          ],
          [
           "NE"
          ],
          [
           "TX"
          ],
          [
           "WI"
          ],
          [
           "WA"
          ],
          [
           "AR"
          ],
          [
           "MO"
          ],
          [
           "OK"
          ],
          [
           "WA"
          ],
          [
           "NY"
          ],
          [
           "MI"
          ],
          [
           "MN"
          ],
          [
           "KY"
          ],
          [
           "SC"
          ],
          [
           "IA"
          ],
          [
           "NC"
          ],
          [
           "IA"
          ],
          [
           "TX"
          ],
          [
           "CA"
          ],
          [
           "KS"
          ],
          [
           "KS"
          ],
          [
           "TN"
          ],
          [
           "KY"
          ],
          [
           "WY"
          ],
          [
           "IA"
          ],
          [
           "MN"
          ],
          [
           "MO"
          ],
          [
           "TN"
          ],
          [
           "GA"
          ],
          [
           "NY"
          ],
          [
           "AR"
          ],
          [
           "VA"
          ],
          [
           "TX"
          ],
          [
           "WI"
          ],
          [
           "KS"
          ],
          [
           "TX"
          ],
          [
           "TX"
          ],
          [
           "WI"
          ],
          [
           "FL"
          ],
          [
           "PA"
          ],
          [
           "MT"
          ],
          [
           "FL"
          ],
          [
           "KY"
          ],
          [
           "IN"
          ],
          [
           "KY"
          ],
          [
           "OR"
          ],
          [
           "FL"
          ],
          [
           "PA"
          ],
          [
           "KS"
          ],
          [
           "GA"
          ],
          [
           "SD"
          ],
          [
           "OK"
          ],
          [
           "WI"
          ],
          [
           "NM"
          ],
          [
           "WI"
          ],
          [
           "MO"
          ],
          [
           "OK"
          ],
          [
           "MI"
          ],
          [
           "MO"
          ],
          [
           "KS"
          ],
          [
           "KS"
          ],
          [
           "AL"
          ],
          [
           "TX"
          ],
          [
           "ID"
          ],
          [
           "MN"
          ],
          [
           "NE"
          ],
          [
           "TN"
          ],
          [
           "OR"
          ],
          [
           "CA"
          ],
          [
           "IA"
          ],
          [
           "PA"
          ],
          [
           "MI"
          ],
          [
           "WY"
          ],
          [
           "ND"
          ],
          [
           "MS"
          ],
          [
           "CA"
          ],
          [
           "MN"
          ],
          [
           "TN"
          ],
          [
           "MA"
          ],
          [
           "SC"
          ],
          [
           "IL"
          ],
          [
           "TX"
          ],
          [
           "AR"
          ],
          [
           "GA"
          ],
          [
           "NC"
          ],
          [
           "TN"
          ],
          [
           "IA"
          ],
          [
           "ND"
          ],
          [
           "PA"
          ],
          [
           "IL"
          ],
          [
           "WI"
          ],
          [
           "WI"
          ],
          [
           "TX"
          ],
          [
           "KS"
          ],
          [
           "LA"
          ],
          [
           "AL"
          ],
          [
           "TX"
          ],
          [
           "CA"
          ],
          [
           "NE"
          ],
          [
           "VA"
          ],
          [
           "VA"
          ],
          [
           "VA"
          ],
          [
           "VA"
          ],
          [
           "VA"
          ],
          [
           "VA"
          ],
          [
           "VA"
          ],
          [
           "VA"
          ],
          [
           "VA"
          ],
          [
           "VA"
          ],
          [
           "VA"
          ],
          [
           "VA"
          ],
          [
           "VA"
          ],
          [
           "VA"
          ],
          [
           "VA"
          ],
          [
           "VA"
          ],
          [
           "KY"
          ],
          [
           "OK"
          ],
          [
           "AK"
          ],
          [
           "WI"
          ],
          [
           "IL"
          ],
          [
           "TX"
          ],
          [
           "AK"
          ],
          [
           "SD"
          ],
          [
           "LA"
          ],
          [
           "CA"
          ],
          [
           "MO"
          ],
          [
           "GA"
          ],
          [
           "TX"
          ],
          [
           "ND"
          ],
          [
           "NE"
          ],
          [
           "WI"
          ],
          [
           "MS"
          ],
          [
           "IL"
          ],
          [
           "IN"
          ],
          [
           "AR"
          ],
          [
           "NE"
          ],
          [
           "OK"
          ],
          [
           "TX"
          ],
          [
           "AR"
          ],
          [
           "WI"
          ],
          [
           "VA"
          ],
          [
           "MS"
          ],
          [
           "OH"
          ],
          [
           "OK"
          ],
          [
           "KS"
          ],
          [
           "IA"
          ],
          [
           "NC"
          ],
          [
           "CA"
          ],
          [
           "TN"
          ],
          [
           "AL"
          ],
          [
           "VT"
          ],
          [
           "NJ"
          ],
          [
           "MD"
          ],
          [
           "AR"
          ],
          [
           "KS"
          ],
          [
           "NM"
          ],
          [
           "MT"
          ],
          [
           "NV"
          ],
          [
           "NM"
          ],
          [
           "NJ"
          ],
          [
           "FL"
          ],
          [
           "FL"
          ],
          [
           "IN"
          ],
          [
           "CO"
          ],
          [
           "IA"
          ],
          [
           "RI"
          ],
          [
           "AL"
          ],
          [
           "VA"
          ],
          [
           "NC"
          ],
          [
           "KY"
          ],
          [
           "GA"
          ],
          [
           "MI"
          ],
          [
           "KY"
          ],
          [
           "KY"
          ],
          [
           "KY"
          ],
          [
           "NY"
          ],
          [
           "NE"
          ],
          [
           "OR"
          ],
          [
           "VA"
          ],
          [
           "SC"
          ],
          [
           "NV"
          ],
          [
           "NY"
          ],
          [
           "GA"
          ],
          [
           "KY"
          ],
          [
           "PA"
          ],
          [
           "MN"
          ],
          [
           "TX"
          ],
          [
           "TN"
          ],
          [
           "GA"
          ],
          [
           "VT"
          ],
          [
           "IN"
          ],
          [
           "VA"
          ],
          [
           "MN"
          ],
          [
           "OH"
          ],
          [
           "MO"
          ],
          [
           "AR"
          ],
          [
           "MS"
          ],
          [
           "TX"
          ],
          [
           "OK"
          ],
          [
           "NY"
          ],
          [
           "TN"
          ],
          [
           "WI"
          ],
          [
           "PA"
          ],
          [
           "WI"
          ],
          [
           "IA"
          ],
          [
           "GA"
          ],
          [
           "KS"
          ],
          [
           "VA"
          ],
          [
           "WI"
          ],
          [
           "TN"
          ],
          [
           "CO"
          ],
          [
           "CO"
          ],
          [
           "NC"
          ],
          [
           "PA"
          ],
          [
           "KS"
          ],
          [
           "OK"
          ],
          [
           "WA"
          ],
          [
           "TX"
          ],
          [
           "KS"
          ],
          [
           "AL"
          ],
          [
           "WA"
          ],
          [
           "MD"
          ],
          [
           "IN"
          ],
          [
           "WI"
          ],
          [
           "AR"
          ],
          [
           "NE"
          ],
          [
           "TX"
          ],
          [
           "MS"
          ],
          [
           "IL"
          ],
          [
           "OR"
          ],
          [
           "IL"
          ],
          [
           "LA"
          ],
          [
           "VA"
          ],
          [
           "MS"
          ],
          [
           "WI"
          ],
          [
           "MI"
          ],
          [
           "NY"
          ],
          [
           "NC"
          ],
          [
           "KS"
          ],
          [
           "GA"
          ],
          [
           "NE"
          ],
          [
           "AL"
          ],
          [
           "MN"
          ],
          [
           "GA"
          ],
          [
           "WV"
          ],
          [
           "WA"
          ],
          [
           "TX"
          ],
          [
           "NC"
          ],
          [
           "MD"
          ],
          [
           "NM"
          ],
          [
           "KS"
          ],
          [
           "GA"
          ],
          [
           "WV"
          ],
          [
           "UT"
          ],
          [
           "MI"
          ],
          [
           "KY"
          ],
          [
           "TX"
          ],
          [
           "GA"
          ],
          [
           "IA"
          ],
          [
           "IL"
          ],
          [
           "KY"
          ],
          [
           "OH"
          ],
          [
           "MN"
          ],
          [
           "IL"
          ],
          [
           "TX"
          ],
          [
           "MS"
          ],
          [
           "MS"
          ],
          [
           "LA"
          ],
          [
           "UT"
          ],
          [
           "OK"
          ],
          [
           "MO"
          ],
          [
           "TX"
          ],
          [
           "MS"
          ],
          [
           "GA"
          ],
          [
           "KY"
          ],
          [
           "MI"
          ],
          [
           "AR"
          ],
          [
           "MT"
          ],
          [
           "TN"
          ],
          [
           "PA"
          ],
          [
           "WA"
          ],
          [
           "MT"
          ],
          [
           "IA"
          ],
          [
           "GA"
          ],
          [
           "SD"
          ],
          [
           "SC"
          ],
          [
           "AL"
          ],
          [
           "WI"
          ],
          [
           "OH"
          ],
          [
           "WA"
          ],
          [
           "NE"
          ],
          [
           "TX"
          ],
          [
           "AL"
          ],
          [
           "AL"
          ],
          [
           "VT"
          ],
          [
           "TX"
          ],
          [
           "IA"
          ],
          [
           "KY"
          ],
          [
           "MD"
          ],
          [
           "IN"
          ],
          [
           "IA"
          ],
          [
           "AR"
          ],
          [
           "TX"
          ],
          [
           "KS"
          ],
          [
           "VA"
          ],
          [
           "IL"
          ],
          [
           "IN"
          ],
          [
           "OK"
          ],
          [
           "TX"
          ],
          [
           "GA"
          ],
          [
           "MI"
          ],
          [
           "NJ"
          ],
          [
           "NY"
          ],
          [
           "WY"
          ],
          [
           "TX"
          ],
          [
           "TX"
          ],
          [
           "WI"
          ],
          [
           "OK"
          ],
          [
           "ID"
          ],
          [
           "CO"
          ],
          [
           "NC"
          ],
          [
           "OK"
          ],
          [
           "MO"
          ],
          [
           "IL"
          ],
          [
           "SC"
          ],
          [
           "WI"
          ],
          [
           "AK"
          ],
          [
           "NE"
          ],
          [
           "MI"
          ],
          [
           "TX"
          ],
          [
           "WI"
          ],
          [
           "AL"
          ],
          [
           "KY"
          ],
          [
           "VA"
          ],
          [
           "ND"
          ],
          [
           "OH"
          ],
          [
           "TX"
          ],
          [
           "GA"
          ],
          [
           "ID"
          ],
          [
           "KY"
          ],
          [
           "MO"
          ],
          [
           "MI"
          ],
          [
           "AL"
          ],
          [
           "NY"
          ],
          [
           "PA"
          ],
          [
           "MD"
          ],
          [
           "OH"
          ],
          [
           "NY"
          ],
          [
           "MN"
          ],
          [
           "WI"
          ],
          [
           "KS"
          ],
          [
           "AR"
          ],
          [
           "CO"
          ],
          [
           "TN"
          ],
          [
           "ND"
          ],
          [
           "AL"
          ],
          [
           "NC"
          ],
          [
           "TN"
          ],
          [
           "IN"
          ],
          [
           "GA"
          ],
          [
           "TX"
          ],
          [
           "FL"
          ],
          [
           "VA"
          ],
          [
           "KY"
          ],
          [
           "AZ"
          ],
          [
           "MT"
          ],
          [
           "GA"
          ],
          [
           "ID"
          ],
          [
           "TX"
          ],
          [
           "TN"
          ],
          [
           "MN"
          ],
          [
           "MT"
          ],
          [
           "WI"
          ],
          [
           "NC"
          ],
          [
           "CT"
          ],
          [
           "VA"
          ],
          [
           "WY"
          ],
          [
           "GA"
          ],
          [
           "TX"
          ],
          [
           "IN"
          ],
          [
           "WV"
          ],
          [
           "AL"
          ],
          [
           "TX"
          ],
          [
           "MO"
          ],
          [
           "TX"
          ],
          [
           "GA"
          ],
          [
           "FL"
          ],
          [
           "NE"
          ],
          [
           "OH"
          ],
          [
           "LA"
          ],
          [
           "WI"
          ],
          [
           "MT"
          ],
          [
           "AZ"
          ],
          [
           "GA"
          ],
          [
           "TX"
          ],
          [
           "VA"
          ],
          [
           "PA"
          ],
          [
           "MO"
          ],
          [
           "OH"
          ],
          [
           "OK"
          ],
          [
           "DE"
          ],
          [
           "MT"
          ],
          [
           "KS"
          ],
          [
           "MT"
          ],
          [
           "VA"
          ],
          [
           "IN"
          ],
          [
           "NE"
          ],
          [
           "GA"
          ],
          [
           "TN"
          ],
          [
           "VA"
          ],
          [
           "ND"
          ],
          [
           "WA"
          ],
          [
           "OK"
          ],
          [
           "NE"
          ],
          [
           "CA"
          ],
          [
           "NH"
          ],
          [
           "AR"
          ],
          [
           "PA"
          ],
          [
           "OK"
          ],
          [
           "WY"
          ],
          [
           "LA"
          ],
          [
           "MT"
          ],
          [
           "SD"
          ],
          [
           "WV"
          ],
          [
           "TN"
          ],
          [
           "KS"
          ],
          [
           "AL"
          ],
          [
           "GA"
          ],
          [
           "TN"
          ],
          [
           "IL"
          ],
          [
           "TX"
          ],
          [
           "MN"
          ],
          [
           "GA"
          ],
          [
           "IL"
          ],
          [
           "NC"
          ],
          [
           "WV"
          ],
          [
           "CA"
          ],
          [
           "TN"
          ],
          [
           "NY"
          ],
          [
           "IL"
          ],
          [
           "IA"
          ],
          [
           "MS"
          ],
          [
           "SD"
          ],
          [
           "GA"
          ],
          [
           "AK"
          ],
          [
           "MO"
          ],
          [
           "MO"
          ],
          [
           "MN"
          ],
          [
           "NM"
          ],
          [
           "CO"
          ],
          [
           "VA"
          ],
          [
           "KS"
          ],
          [
           "MN"
          ],
          [
           "KY"
          ],
          [
           "MD"
          ],
          [
           "ND"
          ],
          [
           "SC"
          ],
          [
           "OK"
          ],
          [
           "MT"
          ],
          [
           "OK"
          ],
          [
           "GA"
          ],
          [
           "NY"
          ],
          [
           "IL"
          ],
          [
           "MI"
          ],
          [
           "VT"
          ],
          [
           "UT"
          ],
          [
           "MN"
          ],
          [
           "FL"
          ],
          [
           "WI"
          ],
          [
           "NE"
          ],
          [
           "SC"
          ],
          [
           "NE"
          ],
          [
           "NC"
          ],
          [
           "NE"
          ],
          [
           "IL"
          ],
          [
           "ME"
          ],
          [
           "AK"
          ],
          [
           "MN"
          ],
          [
           "TN"
          ],
          [
           "IL"
          ],
          [
           "PA"
          ],
          [
           "CO"
          ],
          [
           "NV"
          ],
          [
           "IL"
          ],
          [
           "TN"
          ],
          [
           "TX"
          ],
          [
           "GA"
          ],
          [
           "KY"
          ],
          [
           "LA"
          ],
          [
           "SC"
          ],
          [
           "TX"
          ],
          [
           "NC"
          ],
          [
           "IN"
          ],
          [
           "IN"
          ],
          [
           "SD"
          ],
          [
           "TX"
          ],
          [
           "TX"
          ],
          [
           "CA"
          ],
          [
           "MS"
          ],
          [
           "IA"
          ],
          [
           "IL"
          ],
          [
           "OH"
          ],
          [
           "MI"
          ],
          [
           "ND"
          ],
          [
           "TX"
          ],
          [
           "TX"
          ],
          [
           "LA"
          ],
          [
           "KY"
          ],
          [
           "KS"
          ],
          [
           "SD"
          ],
          [
           "TN"
          ],
          [
           "VA"
          ],
          [
           "IN"
          ],
          [
           "IA"
          ],
          [
           "MN"
          ],
          [
           "OH"
          ],
          [
           "GA"
          ],
          [
           "GA"
          ],
          [
           "IA"
          ],
          [
           "RI"
          ],
          [
           "TX"
          ],
          [
           "NY"
          ],
          [
           "MO"
          ],
          [
           "WI"
          ],
          [
           "TX"
          ],
          [
           "WI"
          ],
          [
           "LA"
          ],
          [
           "OH"
          ],
          [
           "AR"
          ],
          [
           "WI"
          ],
          [
           "WI"
          ],
          [
           "WI"
          ],
          [
           "IN"
          ],
          [
           "NY"
          ],
          [
           "NE"
          ],
          [
           "IA"
          ],
          [
           "NY"
          ],
          [
           "IN"
          ],
          [
           "SD"
          ],
          [
           "SD"
          ],
          [
           "MD"
          ],
          [
           "OK"
          ],
          [
           "AR"
          ],
          [
           "AR"
          ],
          [
           "AL"
          ],
          [
           "NC"
          ],
          [
           "KS"
          ],
          [
           "GA"
          ],
          [
           "NE"
          ],
          [
           "MO"
          ],
          [
           "CA"
          ],
          [
           "MS"
          ],
          [
           "MT"
          ],
          [
           "MS"
          ],
          [
           "TX"
          ],
          [
           "OK"
          ],
          [
           "TX"
          ],
          [
           "MI"
          ],
          [
           "MO"
          ],
          [
           "IN"
          ],
          [
           "KY"
          ],
          [
           "UT"
          ],
          [
           "GA"
          ],
          [
           "CO"
          ],
          [
           "NE"
          ],
          [
           "MS"
          ],
          [
           "TX"
          ],
          [
           "OH"
          ],
          [
           "TX"
          ],
          [
           "AZ"
          ],
          [
           "GA"
          ],
          [
           "OR"
          ],
          [
           "GA"
          ],
          [
           "TX"
          ],
          [
           "IA"
          ],
          [
           "GA"
          ],
          [
           "AL"
          ],
          [
           "IN"
          ],
          [
           "NJ"
          ],
          [
           "MA"
          ],
          [
           "NY"
          ],
          [
           "NM"
          ],
          [
           "CO"
          ],
          [
           "MO"
          ],
          [
           "MT"
          ],
          [
           "MI"
          ],
          [
           "SD"
          ],
          [
           "NC"
          ],
          [
           "VA"
          ],
          [
           "VA"
          ],
          [
           "VA"
          ],
          [
           "VA"
          ],
          [
           "VA"
          ],
          [
           "VA"
          ],
          [
           "VA"
          ],
          [
           "VA"
          ],
          [
           "AR"
          ],
          [
           "VA"
          ],
          [
           "CO"
          ],
          [
           "MS"
          ],
          [
           "KY"
          ],
          [
           "NC"
          ],
          [
           "GA"
          ],
          [
           "KY"
          ],
          [
           "NE"
          ],
          [
           "NV"
          ],
          [
           "NV"
          ],
          [
           "OK"
          ],
          [
           "OH"
          ],
          [
           "VA"
          ],
          [
           "CA"
          ],
          [
           "OK"
          ],
          [
           "GA"
          ],
          [
           "NC"
          ],
          [
           "MO"
          ],
          [
           "WI"
          ],
          [
           "KY"
          ],
          [
           "MN"
          ],
          [
           "TN"
          ],
          [
           "KY"
          ],
          [
           "LA"
          ],
          [
           "MT"
          ],
          [
           "GA"
          ],
          [
           "ID"
          ],
          [
           "WI"
          ],
          [
           "KY"
          ],
          [
           "GA"
          ],
          [
           "MS"
          ],
          [
           "TX"
          ],
          [
           "IA"
          ],
          [
           "GA"
          ],
          [
           "GA"
          ],
          [
           "LA"
          ],
          [
           "MT"
          ],
          [
           "NY"
          ],
          [
           "MO"
          ],
          [
           "NE"
          ],
          [
           "WV"
          ],
          [
           "TX"
          ],
          [
           "VA"
          ],
          [
           "FL"
          ],
          [
           "IN"
          ],
          [
           "KY"
          ],
          [
           "UT"
          ],
          [
           "KS"
          ],
          [
           "VT"
          ],
          [
           "OK"
          ],
          [
           "MO"
          ],
          [
           "VA"
          ],
          [
           "MO"
          ],
          [
           "WV"
          ],
          [
           "VA"
          ],
          [
           "NC"
          ],
          [
           "WY"
          ],
          [
           "GA"
          ],
          [
           "FL"
          ],
          [
           "KY"
          ],
          [
           "MA"
          ],
          [
           "OH"
          ],
          [
           "AL"
          ],
          [
           "MO"
          ],
          [
           "MS"
          ],
          [
           "TX"
          ],
          [
           "TX"
          ],
          [
           "KY"
          ],
          [
           "ND"
          ],
          [
           "TN"
          ],
          [
           "CO"
          ],
          [
           "IN"
          ],
          [
           "AR"
          ],
          [
           "ID"
          ],
          [
           "MN"
          ],
          [
           "ID"
          ],
          [
           "AR"
          ],
          [
           "IN"
          ],
          [
           "KY"
          ],
          [
           "TX"
          ],
          [
           "CO"
          ],
          [
           "SD"
          ],
          [
           "VA"
          ],
          [
           "WI"
          ],
          [
           "GA"
          ],
          [
           "TX"
          ],
          [
           "TN"
          ],
          [
           "AL"
          ],
          [
           "VA"
          ],
          [
           "VA"
          ],
          [
           "OH"
          ],
          [
           "ND"
          ],
          [
           "TX"
          ],
          [
           "NY"
          ],
          [
           "IA"
          ],
          [
           "NC"
          ],
          [
           "KS"
          ],
          [
           "TX"
          ],
          [
           "CA"
          ],
          [
           "MO"
          ],
          [
           "AR"
          ],
          [
           "IA"
          ],
          [
           "MS"
          ],
          [
           "LA"
          ],
          [
           "CA"
          ],
          [
           "NE"
          ],
          [
           "TX"
          ],
          [
           "CT"
          ],
          [
           "CO"
          ],
          [
           "IN"
          ],
          [
           "CA"
          ],
          [
           "TX"
          ],
          [
           "TN"
          ],
          [
           "TX"
          ],
          [
           "CT"
          ],
          [
           "OH"
          ],
          [
           "WY"
          ],
          [
           "AR"
          ],
          [
           "AL"
          ],
          [
           "VA"
          ],
          [
           "MT"
          ],
          [
           "NE"
          ],
          [
           "TX"
          ],
          [
           "OK"
          ],
          [
           "LA"
          ],
          [
           "IN"
          ],
          [
           "GA"
          ],
          [
           "CA"
          ],
          [
           "VA"
          ],
          [
           "NM"
          ],
          [
           "OK"
          ],
          [
           "NJ"
          ],
          [
           "VA"
          ],
          [
           "MO"
          ],
          [
           "ID"
          ],
          [
           "NM"
          ],
          [
           "IN"
          ],
          [
           "NH"
          ],
          [
           "KS"
          ],
          [
           "WI"
          ],
          [
           "ND"
          ],
          [
           "MI"
          ],
          [
           "FL"
          ],
          [
           "MO"
          ],
          [
           "SC"
          ],
          [
           "AR"
          ],
          [
           "KY"
          ],
          [
           "NE"
          ],
          [
           "WV"
          ],
          [
           "VA"
          ],
          [
           "VA"
          ],
          [
           "IL"
          ],
          [
           "TX"
          ],
          [
           "MO"
          ],
          [
           "IA"
          ],
          [
           "NJ"
          ],
          [
           "TX"
          ],
          [
           "KY"
          ],
          [
           "MO"
          ],
          [
           "TX"
          ],
          [
           "GA"
          ],
          [
           "MT"
          ],
          [
           "SC"
          ],
          [
           "NY"
          ],
          [
           "VA"
          ],
          [
           "IL"
          ],
          [
           "IL"
          ],
          [
           "KS"
          ],
          [
           "CA"
          ],
          [
           "TX"
          ],
          [
           "WA"
          ],
          [
           "TX"
          ],
          [
           "WA"
          ],
          [
           "NV"
          ],
          [
           "GA"
          ],
          [
           "NJ"
          ],
          [
           "TN"
          ],
          [
           "IA"
          ],
          [
           "AL"
          ],
          [
           "AL"
          ],
          [
           "NC"
          ],
          [
           "PA"
          ],
          [
           "IA"
          ],
          [
           "TN"
          ],
          [
           "MT"
          ],
          [
           "IA"
          ],
          [
           "NY"
          ],
          [
           "CO"
          ],
          [
           "OH"
          ],
          [
           "IA"
          ],
          [
           "KY"
          ],
          [
           "TX"
          ],
          [
           "MS"
          ],
          [
           "OH"
          ],
          [
           "WI"
          ],
          [
           "LA"
          ],
          [
           "MO"
          ],
          [
           "GA"
          ],
          [
           "NJ"
          ],
          [
           "NC"
          ],
          [
           "OR"
          ],
          [
           "WV"
          ],
          [
           "KY"
          ],
          [
           "MN"
          ],
          [
           "IN"
          ],
          [
           "HI"
          ],
          [
           "CO"
          ],
          [
           "TX"
          ],
          [
           "AL"
          ],
          [
           "SD"
          ],
          [
           "PA"
          ],
          [
           "MO"
          ],
          [
           "IL"
          ],
          [
           "TX"
          ],
          [
           "NY"
          ],
          [
           "KS"
          ],
          [
           "OH"
          ],
          [
           "CA"
          ],
          [
           "IN"
          ],
          [
           "KY"
          ],
          [
           "KY"
          ],
          [
           "UT"
          ],
          [
           "MT"
          ],
          [
           "MO"
          ],
          [
           "WV"
          ],
          [
           "WI"
          ],
          [
           "FL"
          ],
          [
           "NC"
          ],
          [
           "WV"
          ],
          [
           "TN"
          ],
          [
           "KS"
          ],
          [
           "TX"
          ],
          [
           "SD"
          ],
          [
           "WV"
          ],
          [
           "TN"
          ],
          [
           "IA"
          ],
          [
           "LA"
          ],
          [
           "NY"
          ],
          [
           "OK"
          ],
          [
           "MI"
          ],
          [
           "NE"
          ],
          [
           "IN"
          ],
          [
           "NC"
          ],
          [
           "IN"
          ],
          [
           "CO"
          ],
          [
           "PA"
          ],
          [
           "TN"
          ],
          [
           "SC"
          ],
          [
           "OR"
          ],
          [
           "IL"
          ],
          [
           "GA"
          ],
          [
           "WA"
          ],
          [
           "NC"
          ],
          [
           "PA"
          ],
          [
           "KS"
          ],
          [
           "LA"
          ],
          [
           "WA"
          ],
          [
           "NC"
          ],
          [
           "LA"
          ],
          [
           "NC"
          ],
          [
           "KY"
          ],
          [
           "IL"
          ],
          [
           "WI"
          ],
          [
           "CO"
          ],
          [
           "CA"
          ],
          [
           "SC"
          ],
          [
           "OH"
          ],
          [
           "CO"
          ],
          [
           "NC"
          ],
          [
           "AR"
          ],
          [
           "MT"
          ],
          [
           "NM"
          ],
          [
           "WI"
          ],
          [
           "WA"
          ],
          [
           "CO"
          ],
          [
           "WV"
          ],
          [
           "GA"
          ],
          [
           "FL"
          ],
          [
           "IN"
          ],
          [
           "NY"
          ],
          [
           "ID"
          ],
          [
           "SD"
          ],
          [
           "WV"
          ],
          [
           "MI"
          ],
          [
           "MS"
          ],
          [
           "IL"
          ],
          [
           "MN"
          ],
          [
           "OK"
          ],
          [
           "IA"
          ],
          [
           "NY"
          ],
          [
           "LA"
          ],
          [
           "MN"
          ],
          [
           "KY"
          ],
          [
           "WY"
          ],
          [
           "ND"
          ],
          [
           "NC"
          ],
          [
           "TX"
          ],
          [
           "NC"
          ],
          [
           "IN"
          ],
          [
           "IA"
          ],
          [
           "TX"
          ],
          [
           "VT"
          ],
          [
           "MO"
          ],
          [
           "ID"
          ],
          [
           "TN"
          ],
          [
           "ND"
          ],
          [
           "IN"
          ],
          [
           "KY"
          ],
          [
           "MO"
          ],
          [
           "TX"
          ],
          [
           "WV"
          ],
          [
           "FL"
          ],
          [
           "MI"
          ],
          [
           "NE"
          ],
          [
           "KY"
          ],
          [
           "TN"
          ],
          [
           "CO"
          ],
          [
           "MI"
          ],
          [
           "MO"
          ],
          [
           "ND"
          ],
          [
           "IL"
          ],
          [
           "MN"
          ],
          [
           "VA"
          ],
          [
           "NM"
          ],
          [
           "MI"
          ],
          [
           "AR"
          ],
          [
           "OH"
          ],
          [
           "KS"
          ],
          [
           "TX"
          ],
          [
           "MS"
          ],
          [
           "IL"
          ],
          [
           "OH"
          ],
          [
           "MI"
          ],
          [
           "NC"
          ],
          [
           "OH"
          ],
          [
           "ND"
          ],
          [
           "IL"
          ],
          [
           "AR"
          ],
          [
           "MO"
          ],
          [
           "MO"
          ],
          [
           "TX"
          ],
          [
           "GA"
          ],
          [
           "MS"
          ],
          [
           "NY"
          ],
          [
           "MS"
          ],
          [
           "NM"
          ],
          [
           "WI"
          ],
          [
           "IA"
          ],
          [
           "GA"
          ],
          [
           "OR"
          ],
          [
           "TX"
          ],
          [
           "VA"
          ],
          [
           "KY"
          ],
          [
           "SD"
          ],
          [
           "KS"
          ],
          [
           "TX"
          ],
          [
           "TN"
          ],
          [
           "VA"
          ],
          [
           "AZ"
          ],
          [
           "OH"
          ],
          [
           "AL"
          ],
          [
           "OR"
          ],
          [
           "ME"
          ],
          [
           "KS"
          ],
          [
           "KY"
          ],
          [
           "KY"
          ],
          [
           "OK"
          ],
          [
           "MD"
          ],
          [
           "KS"
          ],
          [
           "TN"
          ],
          [
           "ND"
          ],
          [
           "CA"
          ],
          [
           "IA"
          ],
          [
           "IL"
          ],
          [
           "GA"
          ],
          [
           "OR"
          ],
          [
           "TX"
          ],
          [
           "OK"
          ],
          [
           "GA"
          ],
          [
           "TN"
          ],
          [
           "GA"
          ],
          [
           "TN"
          ],
          [
           "TX"
          ],
          [
           "TX"
          ],
          [
           "OH"
          ],
          [
           "GA"
          ],
          [
           "IA"
          ],
          [
           "MI"
          ],
          [
           "OK"
          ],
          [
           "SD"
          ],
          [
           "OK"
          ],
          [
           "PA"
          ],
          [
           "NY"
          ],
          [
           "NE"
          ],
          [
           "KY"
          ],
          [
           "AR"
          ],
          [
           "MS"
          ],
          [
           "PA"
          ],
          [
           "OK"
          ],
          [
           "MN"
          ],
          [
           "IL"
          ],
          [
           "MI"
          ],
          [
           "VA"
          ],
          [
           "UT"
          ],
          [
           "SD"
          ],
          [
           "VA"
          ],
          [
           "GA"
          ],
          [
           "OR"
          ],
          [
           "CA"
          ],
          [
           "WA"
          ],
          [
           "MO"
          ],
          [
           "CO"
          ],
          [
           "TX"
          ],
          [
           "KS"
          ],
          [
           "MN"
          ],
          [
           "KY"
          ],
          [
           "KY"
          ],
          [
           "MT"
          ],
          [
           "UT"
          ],
          [
           "FL"
          ],
          [
           "TX"
          ],
          [
           "MT"
          ],
          [
           "MS"
          ],
          [
           "IA"
          ],
          [
           "KS"
          ],
          [
           "AL"
          ],
          [
           "ND"
          ],
          [
           "LA"
          ],
          [
           "MN"
          ],
          [
           "PA"
          ],
          [
           "CO"
          ],
          [
           "GA"
          ],
          [
           "GA"
          ],
          [
           "NC"
          ],
          [
           "AR"
          ],
          [
           "GA"
          ],
          [
           "TX"
          ],
          [
           "IA"
          ],
          [
           "CO"
          ],
          [
           "FL"
          ],
          [
           "NC"
          ],
          [
           "PA"
          ],
          [
           "IL"
          ],
          [
           "IA"
          ],
          [
           "AL"
          ],
          [
           "VA"
          ],
          [
           "ND"
          ],
          [
           "CA"
          ],
          [
           "TX"
          ],
          [
           "MN"
          ],
          [
           "NC"
          ],
          [
           "OR"
          ],
          [
           "NM"
          ],
          [
           "MS"
          ],
          [
           "SD"
          ],
          [
           "SC"
          ],
          [
           "IN"
          ],
          [
           "GA"
          ],
          [
           "VA"
          ],
          [
           "TX"
          ],
          [
           "OH"
          ],
          [
           "IL"
          ],
          [
           "SC"
          ],
          [
           "KY"
          ],
          [
           "KY"
          ],
          [
           "GA"
          ],
          [
           "OR"
          ],
          [
           "NC"
          ],
          [
           "LA"
          ],
          [
           "NE"
          ],
          [
           "GA"
          ],
          [
           "IA"
          ],
          [
           "AR"
          ],
          [
           "RI"
          ],
          [
           "GA"
          ],
          [
           "NE"
          ],
          [
           "GA"
          ],
          [
           "IL"
          ],
          [
           "AZ"
          ],
          [
           "MS"
          ],
          [
           "WI"
          ],
          [
           "FL"
          ],
          [
           "MI"
          ],
          [
           "KS"
          ],
          [
           "AK"
          ],
          [
           "MO"
          ],
          [
           "TX"
          ],
          [
           "VA"
          ],
          [
           "MS"
          ],
          [
           "IA"
          ],
          [
           "NV"
          ],
          [
           "MS"
          ],
          [
           "MS"
          ],
          [
           "SC"
          ],
          [
           "GA"
          ],
          [
           "TX"
          ],
          [
           "VA"
          ],
          [
           "GA"
          ],
          [
           "TX"
          ],
          [
           "IN"
          ],
          [
           "OK"
          ],
          [
           "WI"
          ],
          [
           "IL"
          ],
          [
           "NC"
          ],
          [
           "OH"
          ],
          [
           "NY"
          ],
          [
           "MO"
          ],
          [
           "NY"
          ],
          [
           "SD"
          ],
          [
           "IA"
          ],
          [
           "SD"
          ],
          [
           "IN"
          ],
          [
           "PA"
          ],
          [
           "ND"
          ],
          [
           "IA"
          ],
          [
           "FL"
          ],
          [
           "GA"
          ],
          [
           "MO"
          ],
          [
           "NE"
          ],
          [
           "WI"
          ],
          [
           "KS"
          ],
          [
           "ME"
          ],
          [
           "SC"
          ],
          [
           "ID"
          ],
          [
           "NC"
          ],
          [
           "CO"
          ],
          [
           "TX"
          ],
          [
           "IL"
          ],
          [
           "MN"
          ],
          [
           "PA"
          ],
          [
           "NY"
          ],
          [
           "PA"
          ],
          [
           "MO"
          ],
          [
           "MO"
          ],
          [
           "MO"
          ],
          [
           "MO"
          ],
          [
           "MO"
          ],
          [
           "MO"
          ],
          [
           "MO"
          ],
          [
           "MO"
          ],
          [
           "MO"
          ],
          [
           "MO"
          ],
          [
           "MO"
          ],
          [
           "MO"
          ],
          [
           "MO"
          ],
          [
           "MO"
          ],
          [
           "MO"
          ],
          [
           "MO"
          ],
          [
           "KS"
          ],
          [
           "IN"
          ],
          [
           "UT"
          ],
          [
           "WI"
          ],
          [
           "GA"
          ],
          [
           "MO"
          ],
          [
           "MD"
          ],
          [
           "MD"
          ],
          [
           "MD"
          ],
          [
           "MD"
          ],
          [
           "MD"
          ],
          [
           "MD"
          ],
          [
           "MD"
          ],
          [
           "MD"
          ],
          [
           "MD"
          ],
          [
           "MD"
          ],
          [
           "MD"
          ],
          [
           "MD"
          ],
          [
           "MD"
          ],
          [
           "MD"
          ],
          [
           "MD"
          ],
          [
           "MD"
          ],
          [
           "TX"
          ],
          [
           "MO"
          ],
          [
           "NE"
          ],
          [
           "IN"
          ],
          [
           "MS"
          ],
          [
           "IL"
          ],
          [
           "ND"
          ],
          [
           "OH"
          ],
          [
           "CO"
          ],
          [
           "WV"
          ],
          [
           "TX"
          ],
          [
           "OR"
          ],
          [
           "TX"
          ],
          [
           "OK"
          ],
          [
           "WV"
          ],
          [
           "IL"
          ],
          [
           "AR"
          ],
          [
           "KS"
          ],
          [
           "TN"
          ],
          [
           "FL"
          ],
          [
           "IN"
          ],
          [
           "OH"
          ],
          [
           "OH"
          ],
          [
           "MN"
          ],
          [
           "IN"
          ],
          [
           "SC"
          ],
          [
           "SD"
          ],
          [
           "IA"
          ],
          [
           "LA"
          ],
          [
           "CO"
          ],
          [
           "AR"
          ],
          [
           "OK"
          ],
          [
           "KS"
          ],
          [
           "WV"
          ],
          [
           "WV"
          ],
          [
           "IN"
          ],
          [
           "OH"
          ],
          [
           "NM"
          ],
          [
           "NE"
          ],
          [
           "WI"
          ],
          [
           "NJ"
          ],
          [
           "TX"
          ],
          [
           "NV"
          ],
          [
           "NM"
          ],
          [
           "VA"
          ],
          [
           "MO"
          ],
          [
           "TX"
          ],
          [
           "KY"
          ],
          [
           "WI"
          ],
          [
           "MO"
          ],
          [
           "KY"
          ],
          [
           "NE"
          ],
          [
           "MN"
          ],
          [
           "NC"
          ],
          [
           "IL"
          ],
          [
           "FL"
          ],
          [
           "TX"
          ],
          [
           "NM"
          ],
          [
           "IL"
          ],
          [
           "AL"
          ],
          [
           "IA"
          ],
          [
           "FL"
          ],
          [
           "MS"
          ],
          [
           "NE"
          ],
          [
           "NY"
          ],
          [
           "KY"
          ],
          [
           "WA"
          ],
          [
           "SC"
          ],
          [
           "SD"
          ],
          [
           "IL"
          ],
          [
           "AL"
          ],
          [
           "TX"
          ],
          [
           "IA"
          ],
          [
           "NC"
          ],
          [
           "TN"
          ],
          [
           "MN"
          ],
          [
           "KY"
          ],
          [
           "IL"
          ],
          [
           "IL"
          ],
          [
           "KS"
          ],
          [
           "LA"
          ],
          [
           "VA"
          ],
          [
           "TX"
          ],
          [
           "IA"
          ],
          [
           "VA"
          ],
          [
           "TX"
          ],
          [
           "IA"
          ],
          [
           "NC"
          ],
          [
           "NV"
          ],
          [
           "MI"
          ],
          [
           "SD"
          ],
          [
           "GA"
          ],
          [
           "MS"
          ],
          [
           "WI"
          ],
          [
           "NY"
          ],
          [
           "MS"
          ],
          [
           "KS"
          ],
          [
           "IA"
          ],
          [
           "NE"
          ],
          [
           "KS"
          ],
          [
           "MO"
          ],
          [
           "MN"
          ],
          [
           "NM"
          ],
          [
           "FL"
          ],
          [
           "TX"
          ],
          [
           "KY"
          ],
          [
           "MI"
          ],
          [
           "MN"
          ],
          [
           "WI"
          ],
          [
           "MA"
          ],
          [
           "WI"
          ],
          [
           "NY"
          ],
          [
           "AR"
          ],
          [
           "MN"
          ],
          [
           "MO"
          ],
          [
           "SD"
          ],
          [
           "TX"
          ],
          [
           "MO"
          ],
          [
           "VA"
          ],
          [
           "TN"
          ],
          [
           "NE"
          ],
          [
           "MS"
          ],
          [
           "SC"
          ],
          [
           "PA"
          ],
          [
           "OH"
          ],
          [
           "AL"
          ],
          [
           "SD"
          ],
          [
           "CO"
          ],
          [
           "WV"
          ],
          [
           "CA"
          ],
          [
           "MN"
          ],
          [
           "NJ"
          ],
          [
           "FL"
          ],
          [
           "PA"
          ],
          [
           "NC"
          ],
          [
           "IL"
          ],
          [
           "MO"
          ],
          [
           "IN"
          ],
          [
           "ND"
          ],
          [
           "IN"
          ],
          [
           "TX"
          ],
          [
           "NE"
          ],
          [
           "MS"
          ],
          [
           "KY"
          ],
          [
           "VA"
          ],
          [
           "ND"
          ],
          [
           "KS"
          ],
          [
           "GA"
          ],
          [
           "AZ"
          ],
          [
           "MO"
          ],
          [
           "MS"
          ],
          [
           "MS"
          ],
          [
           "UT"
          ],
          [
           "OH"
          ],
          [
           "OH"
          ],
          [
           "IA"
          ],
          [
           "KS"
          ],
          [
           "TX"
          ],
          [
           "TN"
          ],
          [
           "MN"
          ],
          [
           "AL"
          ],
          [
           "VT"
          ],
          [
           "MO"
          ],
          [
           "WV"
          ],
          [
           "MO"
          ],
          [
           "CA"
          ],
          [
           "AR"
          ],
          [
           "TX"
          ],
          [
           "MI"
          ],
          [
           "KS"
          ],
          [
           "TX"
          ],
          [
           "NY"
          ],
          [
           "IN"
          ],
          [
           "WV"
          ],
          [
           "VA"
          ],
          [
           "RI"
          ],
          [
           "GA"
          ],
          [
           "AL"
          ],
          [
           "IN"
          ],
          [
           "FL"
          ],
          [
           "MO"
          ],
          [
           "OH"
          ],
          [
           "MO"
          ],
          [
           "IL"
          ],
          [
           "TN"
          ],
          [
           "MO"
          ],
          [
           "IA"
          ],
          [
           "IL"
          ],
          [
           "AR"
          ],
          [
           "TN"
          ],
          [
           "WV"
          ],
          [
           "TX"
          ],
          [
           "WV"
          ],
          [
           "NC"
          ],
          [
           "OH"
          ],
          [
           "NC"
          ],
          [
           "TX"
          ],
          [
           "HI"
          ],
          [
           "OR"
          ],
          [
           "AL"
          ],
          [
           "MI"
          ],
          [
           "NY"
          ],
          [
           "SC"
          ],
          [
           "MI"
          ],
          [
           "TX"
          ],
          [
           "AR"
          ],
          [
           "LA"
          ],
          [
           "WY"
          ],
          [
           "GA"
          ],
          [
           "MO"
          ],
          [
           "AL"
          ],
          [
           "FL"
          ],
          [
           "WY"
          ],
          [
           "OH"
          ],
          [
           "TX"
          ],
          [
           "MT"
          ],
          [
           "VA"
          ],
          [
           "MT"
          ],
          [
           "MO"
          ],
          [
           "TN"
          ],
          [
           "MN"
          ],
          [
           "VA"
          ],
          [
           "OH"
          ],
          [
           "NE"
          ],
          [
           "WI"
          ],
          [
           "IN"
          ],
          [
           "GA"
          ],
          [
           "VA"
          ],
          [
           "NM"
          ],
          [
           "LA"
          ],
          [
           "MA"
          ],
          [
           "OK"
          ],
          [
           "OH"
          ],
          [
           "OR"
          ],
          [
           "IN"
          ],
          [
           "IL"
          ],
          [
           "OR"
          ],
          [
           "IA"
          ],
          [
           "FL"
          ],
          [
           "MT"
          ],
          [
           "MI"
          ],
          [
           "KS"
          ],
          [
           "NE"
          ],
          [
           "TN"
          ],
          [
           "VA"
          ],
          [
           "GA"
          ],
          [
           "TX"
          ],
          [
           "NY"
          ],
          [
           "CO"
          ],
          [
           "OH"
          ],
          [
           "AL"
          ],
          [
           "DE"
          ],
          [
           "KS"
          ],
          [
           "IN"
          ],
          [
           "KS"
          ],
          [
           "WV"
          ],
          [
           "GA"
          ],
          [
           "CA"
          ],
          [
           "TX"
          ],
          [
           "GA"
          ],
          [
           "ID"
          ],
          [
           "GA"
          ],
          [
           "MI"
          ],
          [
           "OK"
          ],
          [
           "NM"
          ],
          [
           "AL"
          ],
          [
           "NM"
          ],
          [
           "OH"
          ],
          [
           "OK"
          ],
          [
           "OK"
          ],
          [
           "ND"
          ],
          [
           "WI"
          ],
          [
           "WI"
          ],
          [
           "NV"
          ],
          [
           "FL"
          ],
          [
           "WY"
          ],
          [
           "GA"
          ],
          [
           "GA"
          ],
          [
           "PA"
          ],
          [
           "FL"
          ],
          [
           "AR"
          ],
          [
           "NE"
          ],
          [
           "NC"
          ],
          [
           "NE"
          ],
          [
           "IL"
          ],
          [
           "VA"
          ],
          [
           "CO"
          ],
          [
           "AR"
          ],
          [
           "LA"
          ],
          [
           "WI"
          ],
          [
           "SC"
          ],
          [
           "FL"
          ],
          [
           "KY"
          ],
          [
           "ME"
          ],
          [
           "MS"
          ],
          [
           "KS"
          ],
          [
           "LA"
          ],
          [
           "FL"
          ],
          [
           "KY"
          ],
          [
           "PA"
          ],
          [
           "KS"
          ],
          [
           "FL"
          ],
          [
           "TX"
          ],
          [
           "TX"
          ],
          [
           "ID"
          ],
          [
           "GA"
          ],
          [
           "MN"
          ],
          [
           "NC"
          ],
          [
           "KY"
          ],
          [
           "SD"
          ],
          [
           "ND"
          ],
          [
           "OH"
          ],
          [
           "KS"
          ],
          [
           "UT"
          ],
          [
           "VA"
          ],
          [
           "AR"
          ],
          [
           "KY"
          ],
          [
           "KS"
          ],
          [
           "TN"
          ],
          [
           "AZ"
          ],
          [
           "IA"
          ],
          [
           "MO"
          ],
          [
           "SD"
          ],
          [
           "KY"
          ],
          [
           "ND"
          ],
          [
           "KY"
          ],
          [
           "WV"
          ],
          [
           "AR"
          ],
          [
           "GA"
          ],
          [
           "CO"
          ],
          [
           "NE"
          ],
          [
           "KS"
          ],
          [
           "VA"
          ],
          [
           "OH"
          ],
          [
           "AK"
          ],
          [
           "VT"
          ],
          [
           "KY"
          ],
          [
           "WV"
          ],
          [
           "OK"
          ],
          [
           "KS"
          ],
          [
           "IN"
          ],
          [
           "MS"
          ],
          [
           "WY"
          ],
          [
           "IN"
          ],
          [
           "IL"
          ],
          [
           "TX"
          ],
          [
           "VA"
          ],
          [
           "TN"
          ],
          [
           "SC"
          ],
          [
           "VA"
          ],
          [
           "NY"
          ],
          [
           "KY"
          ],
          [
           "PA"
          ],
          [
           "VA"
          ],
          [
           "MI"
          ],
          [
           "AL"
          ],
          [
           "IN"
          ],
          [
           "CO"
          ],
          [
           "CA"
          ],
          [
           "SC"
          ],
          [
           "TX"
          ],
          [
           "MI"
          ],
          [
           "WI"
          ],
          [
           "AL"
          ],
          [
           "KS"
          ],
          [
           "PA"
          ],
          [
           "TN"
          ],
          [
           "OR"
          ],
          [
           "FL"
          ],
          [
           "MO"
          ],
          [
           "AL"
          ],
          [
           "ND"
          ],
          [
           "NC"
          ],
          [
           "MI"
          ],
          [
           "TN"
          ],
          [
           "IA"
          ],
          [
           "TX"
          ],
          [
           "NE"
          ],
          [
           "IL"
          ],
          [
           "ND"
          ],
          [
           "MI"
          ],
          [
           "KS"
          ],
          [
           "NC"
          ],
          [
           "NE"
          ],
          [
           "TN"
          ],
          [
           "MO"
          ],
          [
           "UT"
          ],
          [
           "AL"
          ],
          [
           "MS"
          ],
          [
           "KY"
          ],
          [
           "MO"
          ],
          [
           "KY"
          ],
          [
           "SD"
          ],
          [
           "MN"
          ],
          [
           "OK"
          ],
          [
           "IA"
          ],
          [
           "VA"
          ],
          [
           "NC"
          ],
          [
           "MN"
          ],
          [
           "NC"
          ],
          [
           "MT"
          ],
          [
           "IL"
          ],
          [
           "TN"
          ],
          [
           "NC"
          ],
          [
           "IL"
          ],
          [
           "IL"
          ],
          [
           "TN"
          ],
          [
           "TX"
          ],
          [
           "MO"
          ],
          [
           "KY"
          ],
          [
           "VA"
          ],
          [
           "NE"
          ],
          [
           "AR"
          ],
          [
           "OH"
          ],
          [
           "VT"
          ],
          [
           "AK"
          ],
          [
           "VA"
          ],
          [
           "IN"
          ],
          [
           "AL"
          ],
          [
           "MI"
          ],
          [
           "IN"
          ],
          [
           "TX"
          ],
          [
           "MI"
          ],
          [
           "KS"
          ],
          [
           "IN"
          ],
          [
           "NE"
          ],
          [
           "MD"
          ],
          [
           "UT"
          ],
          [
           "GA"
          ],
          [
           "TX"
          ],
          [
           "WA"
          ],
          [
           "GA"
          ],
          [
           "VA"
          ],
          [
           "GA"
          ],
          [
           "NC"
          ],
          [
           "AL"
          ],
          [
           "NC"
          ],
          [
           "MT"
          ],
          [
           "IA"
          ],
          [
           "TX"
          ],
          [
           "SD"
          ],
          [
           "MI"
          ],
          [
           "NJ"
          ],
          [
           "NY"
          ],
          [
           "UT"
          ],
          [
           "ND"
          ],
          [
           "TN"
          ],
          [
           "VA"
          ],
          [
           "LA"
          ],
          [
           "ND"
          ],
          [
           "MO"
          ],
          [
           "TX"
          ],
          [
           "OK"
          ],
          [
           "NY"
          ],
          [
           "MO"
          ],
          [
           "VA"
          ],
          [
           "NC"
          ],
          [
           "CO"
          ],
          [
           "FL"
          ],
          [
           "MO"
          ],
          [
           "TN"
          ],
          [
           "MI"
          ],
          [
           "NH"
          ],
          [
           "GA"
          ],
          [
           "WV"
          ],
          [
           "MO"
          ],
          [
           "TX"
          ],
          [
           "AR"
          ],
          [
           "KS"
          ],
          [
           "IL"
          ],
          [
           "WV"
          ],
          [
           "TX"
          ],
          [
           "SC"
          ],
          [
           "MS"
          ],
          [
           "IL"
          ],
          [
           "TX"
          ],
          [
           "IN"
          ],
          [
           "MO"
          ],
          [
           "KY"
          ],
          [
           "GA"
          ],
          [
           "ND"
          ],
          [
           "SD"
          ],
          [
           "ND"
          ],
          [
           "AK"
          ],
          [
           "MO"
          ],
          [
           "WY"
          ],
          [
           "IA"
          ],
          [
           "LA"
          ],
          [
           "ID"
          ],
          [
           "MS"
          ],
          [
           "AK"
          ],
          [
           "UT"
          ],
          [
           "KY"
          ],
          [
           "MI"
          ],
          [
           "LA"
          ],
          [
           "AR"
          ],
          [
           "GA"
          ],
          [
           "OK"
          ],
          [
           "IN"
          ],
          [
           "KY"
          ],
          [
           "LA"
          ],
          [
           "IL"
          ],
          [
           "LA"
          ],
          [
           "TX"
          ],
          [
           "NY"
          ],
          [
           "WA"
          ],
          [
           "OR"
          ],
          [
           "NY"
          ],
          [
           "SD"
          ],
          [
           "IN"
          ],
          [
           "TX"
          ],
          [
           "FL"
          ],
          [
           "NC"
          ],
          [
           "OK"
          ],
          [
           "AR"
          ],
          [
           "MI"
          ],
          [
           "FL"
          ],
          [
           "VT"
          ],
          [
           "TX"
          ],
          [
           "FL"
          ],
          [
           "MI"
          ],
          [
           "IN"
          ],
          [
           "VA"
          ],
          [
           "AL"
          ],
          [
           "MO"
          ],
          [
           "LA"
          ],
          [
           "MI"
          ],
          [
           "AK"
          ],
          [
           "NE"
          ],
          [
           "MO"
          ],
          [
           "OH"
          ],
          [
           "VT"
          ],
          [
           "HI"
          ],
          [
           "KS"
          ],
          [
           "OK"
          ],
          [
           "GA"
          ],
          [
           "VA"
          ],
          [
           "TX"
          ],
          [
           "LA"
          ],
          [
           "TX"
          ],
          [
           "KS"
          ],
          [
           "MS"
          ],
          [
           "WV"
          ],
          [
           "WV"
          ],
          [
           "NH"
          ],
          [
           "TX"
          ],
          [
           "UT"
          ],
          [
           "AR"
          ],
          [
           "TX"
          ],
          [
           "TX"
          ],
          [
           "OH"
          ],
          [
           "TX"
          ],
          [
           "GA"
          ],
          [
           "TX"
          ],
          [
           "OR"
          ],
          [
           "MN"
          ],
          [
           "ID"
          ],
          [
           "KY"
          ],
          [
           "AK"
          ],
          [
           "OK"
          ],
          [
           "MS"
          ],
          [
           "TX"
          ],
          [
           "VA"
          ],
          [
           "AZ"
          ],
          [
           "TN"
          ],
          [
           "NY"
          ],
          [
           "MS"
          ],
          [
           "NE"
          ],
          [
           "AR"
          ],
          [
           "TX"
          ],
          [
           "ID"
          ],
          [
           "ID"
          ],
          [
           "NY"
          ],
          [
           "CT"
          ],
          [
           "CO"
          ],
          [
           "SC"
          ],
          [
           "NC"
          ],
          [
           "IA"
          ],
          [
           "IA"
          ],
          [
           "IA"
          ],
          [
           "WY"
          ],
          [
           "PA"
          ],
          [
           "PA"
          ],
          [
           "MN"
          ],
          [
           "UT"
          ],
          [
           "MN"
          ],
          [
           "MA"
          ],
          [
           "CO"
          ],
          [
           "AL"
          ],
          [
           "CA"
          ],
          [
           "TX"
          ],
          [
           "NC"
          ],
          [
           "MT"
          ],
          [
           "PA"
          ],
          [
           "OR"
          ],
          [
           "OK"
          ],
          [
           "KS"
          ],
          [
           "KS"
          ],
          [
           "AK"
          ],
          [
           "OH"
          ],
          [
           "MN"
          ],
          [
           "MI"
          ],
          [
           "MN"
          ],
          [
           "GA"
          ],
          [
           "MT"
          ],
          [
           "IA"
          ],
          [
           "MN"
          ],
          [
           "MS"
          ],
          [
           "OR"
          ],
          [
           "SD"
          ],
          [
           "SD"
          ],
          [
           "MD"
          ],
          [
           "AR"
          ],
          [
           "IN"
          ],
          [
           "FL"
          ],
          [
           "TX"
          ],
          [
           "TN"
          ],
          [
           "TN"
          ],
          [
           "WV"
          ],
          [
           "MO"
          ],
          [
           "NC"
          ],
          [
           "MI"
          ],
          [
           "KY"
          ],
          [
           "AL"
          ],
          [
           "KY"
          ],
          [
           "KS"
          ],
          [
           "LA"
          ],
          [
           "TX"
          ],
          [
           "CA"
          ],
          [
           "TX"
          ],
          [
           "OH"
          ],
          [
           "VA"
          ],
          [
           "OH"
          ],
          [
           "SD"
          ],
          [
           "MS"
          ],
          [
           "KS"
          ],
          [
           "NY"
          ],
          [
           "IN"
          ],
          [
           "CO"
          ],
          [
           "MO"
          ],
          [
           "OH"
          ],
          [
           "KY"
          ],
          [
           "KY"
          ],
          [
           "IA"
          ],
          [
           "GA"
          ],
          [
           "GA"
          ],
          [
           "TX"
          ],
          [
           "WV"
          ],
          [
           "CO"
          ],
          [
           "NC"
          ],
          [
           "IL"
          ],
          [
           "KY"
          ],
          [
           "SD"
          ],
          [
           "SC"
          ],
          [
           "MN"
          ],
          [
           "MN"
          ],
          [
           "LA"
          ],
          [
           "CA"
          ],
          [
           "TN"
          ],
          [
           "MA"
          ],
          [
           "IL"
          ],
          [
           "IL"
          ],
          [
           "WI"
          ],
          [
           "PA"
          ],
          [
           "MT"
          ],
          [
           "NM"
          ],
          [
           "NC"
          ],
          [
           "AR"
          ],
          [
           "AR"
          ],
          [
           "AR"
          ],
          [
           "NC"
          ],
          [
           "OK"
          ],
          [
           "IN"
          ],
          [
           "PA"
          ],
          [
           "SD"
          ],
          [
           "CO"
          ],
          [
           "KY"
          ],
          [
           "SC"
          ],
          [
           "OH"
          ],
          [
           "MN"
          ],
          [
           "FL"
          ],
          [
           "CO"
          ],
          [
           "VA"
          ],
          [
           "MT"
          ],
          [
           "NE"
          ],
          [
           "NJ"
          ],
          [
           "NH"
          ],
          [
           "TX"
          ],
          [
           "OK"
          ],
          [
           "NV"
          ],
          [
           "GA"
          ],
          [
           "NY"
          ],
          [
           "IN"
          ],
          [
           "MO"
          ],
          [
           "MI"
          ],
          [
           "LA"
          ],
          [
           "TN"
          ],
          [
           "GA"
          ],
          [
           "MO"
          ],
          [
           "OR"
          ],
          [
           "NE"
          ],
          [
           "KY"
          ],
          [
           "NM"
          ],
          [
           "OH"
          ],
          [
           "GA"
          ],
          [
           "WA"
          ],
          [
           "UT"
          ],
          [
           "SD"
          ],
          [
           "VA"
          ],
          [
           "MS"
          ],
          [
           "ME"
          ],
          [
           "KY"
          ],
          [
           "TX"
          ],
          [
           "AK"
          ],
          [
           "OK"
          ],
          [
           "UT"
          ],
          [
           "OK"
          ],
          [
           "IA"
          ],
          [
           "WI"
          ],
          [
           "CA"
          ],
          [
           "MT"
          ],
          [
           "MD"
          ],
          [
           "NE"
          ],
          [
           "VA"
          ],
          [
           "KY"
          ],
          [
           "MD"
          ],
          [
           "NM"
          ],
          [
           "SD"
          ],
          [
           "NM"
          ],
          [
           "ME"
          ],
          [
           "PA"
          ],
          [
           "MI"
          ],
          [
           "WA"
          ],
          [
           "KS"
          ],
          [
           "WV"
          ],
          [
           "OH"
          ],
          [
           "FL"
          ],
          [
           "WI"
          ],
          [
           "WY"
          ],
          [
           "TX"
          ],
          [
           "NY"
          ],
          [
           "PA"
          ],
          [
           "MS"
          ],
          [
           "MT"
          ],
          [
           "SD"
          ],
          [
           "CO"
          ],
          [
           "AR"
          ],
          [
           "ME"
          ],
          [
           "KY"
          ],
          [
           "MI"
          ],
          [
           "OH"
          ],
          [
           "OH"
          ],
          [
           "VA"
          ],
          [
           "IN"
          ],
          [
           "AR"
          ],
          [
           "CO"
          ],
          [
           "ME"
          ],
          [
           "MS"
          ],
          [
           "TN"
          ],
          [
           "NE"
          ],
          [
           "OR"
          ],
          [
           "VT"
          ],
          [
           "VA"
          ],
          [
           "VA"
          ],
          [
           "NM"
          ],
          [
           "MI"
          ],
          [
           "IN"
          ],
          [
           "GA"
          ],
          [
           "TX"
          ],
          [
           "OH"
          ],
          [
           "GA"
          ],
          [
           "IL"
          ],
          [
           "MI"
          ],
          [
           "OR"
          ],
          [
           "PA"
          ],
          [
           "MO"
          ],
          [
           "NC"
          ],
          [
           "FL"
          ],
          [
           "AR"
          ],
          [
           "MN"
          ],
          [
           "IN"
          ],
          [
           "CA"
          ],
          [
           "NE"
          ],
          [
           "MI"
          ],
          [
           "AZ"
          ],
          [
           "IL"
          ],
          [
           "VA"
          ],
          [
           "AZ"
          ],
          [
           "NE"
          ],
          [
           "KS"
          ],
          [
           "MD"
          ],
          [
           "CA"
          ],
          [
           "KS"
          ],
          [
           "MS"
          ],
          [
           "MS"
          ],
          [
           "MO"
          ],
          [
           "GA"
          ],
          [
           "KS"
          ],
          [
           "MS"
          ],
          [
           "TN"
          ],
          [
           "IA"
          ],
          [
           "GA"
          ],
          [
           "TN"
          ],
          [
           "OK"
          ],
          [
           "NM"
          ],
          [
           "MA"
          ],
          [
           "TX"
          ],
          [
           "GA"
          ],
          [
           "AL"
          ],
          [
           "KS"
          ],
          [
           "MS"
          ],
          [
           "NC"
          ],
          [
           "AK"
          ],
          [
           "LA"
          ],
          [
           "PA"
          ],
          [
           "ID"
          ],
          [
           "NV"
          ],
          [
           "NY"
          ],
          [
           "MN"
          ],
          [
           "MO"
          ],
          [
           "NC"
          ],
          [
           "TX"
          ],
          [
           "IA"
          ],
          [
           "OK"
          ],
          [
           "MO"
          ],
          [
           "KY"
          ],
          [
           "MN"
          ],
          [
           "OH"
          ],
          [
           "TN"
          ],
          [
           "MI"
          ],
          [
           "MT"
          ],
          [
           "MO"
          ],
          [
           "WV"
          ],
          [
           "GA"
          ],
          [
           "AL"
          ],
          [
           "CA"
          ],
          [
           "MN"
          ],
          [
           "LA"
          ],
          [
           "GA"
          ],
          [
           "IA"
          ],
          [
           "MO"
          ],
          [
           "FL"
          ],
          [
           "MT"
          ],
          [
           "ME"
          ],
          [
           "FL"
          ],
          [
           "SC"
          ],
          [
           "MS"
          ],
          [
           "VA"
          ],
          [
           "NE"
          ],
          [
           "TX"
          ],
          [
           "MI"
          ],
          [
           "KY"
          ],
          [
           "NM"
          ],
          [
           "TX"
          ],
          [
           "NE"
          ],
          [
           "TN"
          ],
          [
           "OH"
          ],
          [
           "SC"
          ],
          [
           "SD"
          ],
          [
           "NC"
          ],
          [
           "OR"
          ],
          [
           "TX"
          ],
          [
           "NE"
          ],
          [
           "AR"
          ],
          [
           "TX"
          ],
          [
           "LA"
          ]
         ],
         "geo": "geo",
         "hovertemplate": "<b>%{hovertext}</b><br><br>Latitude=%{lat}<br>Longitude=%{lon}<br>State=%{customdata[0]}<br>dif=%{marker.color}<extra></extra>",
         "hovertext": [
          "Hancock",
          "Stafford",
          "Webster",
          "Dimmit",
          "Cedar",
          "Deuel",
          "Howard",
          "Palm Beach",
          "St. Lawrence",
          "Clark",
          "Dundy",
          "Alamosa",
          "Citrus",
          "Williamsburg",
          "Walworth",
          "Union",
          "Kandiyohi",
          "Washington",
          "Hoke",
          "Waseca",
          "Idaho",
          "Hitchcock",
          "Carter",
          "Benson",
          "Warren",
          "Lawrence",
          "King William",
          "Coos",
          "Gaines",
          "Iberville",
          "Franklin",
          "Divide",
          "Union",
          "Beaufort",
          "Crawford",
          "Lubbock",
          "Dixie",
          "Washington",
          "Spokane",
          "Mercer",
          "Escambia",
          "Noble",
          "Washington",
          "McDonough",
          "Monmouth",
          "Delaware",
          "Bourbon",
          "Kern",
          "Braxton",
          "Guilford",
          "Pickens",
          "Routt",
          "Danville",
          "Roane",
          "Winnebago",
          "Brooks",
          "Marshall",
          "Iosco",
          "Dixon",
          "Appling",
          "Cherokee",
          "Chippewa",
          "Harrison",
          "Klickitat",
          "Park",
          "Heard",
          "Live Oak",
          "Yuma",
          "Bannock",
          "Wilson",
          "White",
          "Marshall",
          "Wood",
          "Cobb",
          "Clear Creek",
          "Hill",
          "Cheyenne",
          "Harvey",
          "Mathews",
          "Onondaga",
          "Carbon",
          "Centre",
          "Nicholas",
          "Shelby",
          "West Carroll",
          "Brooke",
          "Putnam",
          "Marion",
          "Ward",
          "Caribou",
          "Bradley",
          "Boundary",
          "Charles Mix",
          "Upshur",
          "Haskell",
          "Rockingham",
          "Ashe",
          "Spotsylvania",
          "Sublette",
          "Webb",
          "Transylvania",
          "Cameron",
          "Dare",
          "Hillsborough",
          "Cherry",
          "Mecklenburg",
          "Nuckolls",
          "Allen",
          "Lake",
          "Barton",
          "Leelanau",
          "Sedgwick",
          "Holt",
          "Pickens",
          "Kemper",
          "Jersey",
          "Orange",
          "Grayson",
          "Crosby",
          "Alfalfa",
          "Perry",
          "Madison",
          "Angelina",
          "Bureau",
          "Tippecanoe",
          "Clinton",
          "Northampton",
          "Lawrence",
          "Jefferson",
          "Cowley",
          "Craig",
          "Worcester",
          "Kings",
          "Marion",
          "Union",
          "Jefferson Davis",
          "Eagle",
          "Stone",
          "Nez Perce",
          "Fayette",
          "Wrangell",
          "Allen",
          "Shelby",
          "Cape May",
          "Cheshire",
          "Calvert",
          "Sandoval",
          "Washington",
          "Maverick",
          "Sampson",
          "Sullivan",
          "Crook",
          "Rush",
          "Saline",
          "Anne Arundel",
          "Webster",
          "Putnam",
          "Cleburne",
          "Itasca",
          "Sussex",
          "Hancock",
          "Jasper",
          "Snohomish",
          "Mason",
          "Yakima",
          "Henderson",
          "LaGrange",
          "Peach",
          "Jefferson",
          "Tarrant",
          "Scott",
          "Knox",
          "Dawson",
          "Fergus",
          "San Benito",
          "Granite",
          "Wexford",
          "Smyth",
          "Isanti",
          "Van Zandt",
          "Ocean",
          "Ogle",
          "Clay",
          "Caldwell",
          "Bell",
          "Fresno",
          "Dallam",
          "Wood",
          "Shawano",
          "Le Sueur",
          "Harford",
          "Calumet",
          "Pacific",
          "Aleutians East",
          "Monroe",
          "Kauai",
          "Noxubee",
          "Wasco",
          "Wilson",
          "Schoharie",
          "Marion",
          "Douglas",
          "Edgecombe",
          "Norton",
          "McClain",
          "Warren",
          "Roosevelt",
          "Cowlitz",
          "Yadkin",
          "Saline",
          "DuPage",
          "Fillmore",
          "Aleutians West",
          "Livingston",
          "Adams",
          "Utah",
          "Kings",
          "Todd",
          "Northampton",
          "Columbiana",
          "Marion",
          "Lake",
          "Kit Carson",
          "Johnson",
          "Carroll",
          "Polk",
          "Renville",
          "Tom Green",
          "Monroe",
          "Dillon",
          "Furnas",
          "Dunn",
          "Branch",
          "Pendleton",
          "Franklin",
          "Grady",
          "Plumas",
          "Wasatch",
          "Cuyahoga",
          "Petroleum",
          "Crockett",
          "Sierra",
          "Morrill",
          "Chautauqua",
          "Randolph",
          "Sheridan",
          "York",
          "Washington",
          "Camas",
          "Lewis",
          "Payne",
          "Nelson",
          "Colonial Heights",
          "Franklin",
          "Cuming",
          "Clay",
          "Floyd",
          "Dakota",
          "Putnam",
          "Macon",
          "Caldwell",
          "Lane",
          "Durham",
          "Lewis and Clark",
          "Trousdale",
          "Broward",
          "Eastland",
          "Paulding",
          "Ringgold",
          "Jefferson",
          "Jerauld",
          "Mineral",
          "Ottawa",
          "Beaufort",
          "Tunica",
          "Bartholomew",
          "Garland",
          "Washakie",
          "Koochiching",
          "Upton",
          "San Francisco",
          "Monongalia",
          "Randall",
          "Howard",
          "Calhoun",
          "Kingsbury",
          "Floyd",
          "Linn",
          "Potter",
          "Carter",
          "Nassau",
          "Avery",
          "Adams",
          "Tuolumne",
          "Darke",
          "McDowell",
          "New Haven",
          "Rock",
          "Tuscola",
          "Mississippi",
          "Monroe",
          "Swisher",
          "El Dorado",
          "Gates",
          "Cavalier",
          "Frio",
          "Merrimack",
          "Bulloch",
          "Pontotoc",
          "Burnet",
          "Stewart",
          "Lauderdale",
          "Portsmouth",
          "Cleburne",
          "Williamson",
          "Cass",
          "Boise",
          "Shoshone",
          "Jones",
          "Dale",
          "Daggett",
          "Guadalupe",
          "Albemarle",
          "Claiborne",
          "Tallapoosa",
          "Baylor",
          "Grant",
          "Crawford",
          "Hillsborough",
          "Nueces",
          "Rensselaer",
          "Yavapai",
          "Morris",
          "Sullivan",
          "Scurry",
          "Clark",
          "Gladwin",
          "Lancaster",
          "Bergen",
          "Wayne",
          "Lawrence",
          "Champaign",
          "Tulsa",
          "Noble",
          "Muscatine",
          "Gilmer",
          "Itawamba",
          "Knox",
          "Conejos",
          "West Baton Rouge",
          "Suffolk",
          "Clinton",
          "Union",
          "Madison",
          "Cedar",
          "DeKalb",
          "Manassas",
          "Crawford",
          "Hamblen",
          "Hockley",
          "Panola",
          "Wabaunsee",
          "Atlantic",
          "Manitowoc",
          "Chatham",
          "Kerr",
          "Chickasaw",
          "Charlton",
          "Kootenai",
          "Brazos",
          "Franklin",
          "Meagher",
          "Henry",
          "Wayne",
          "Scioto",
          "Clay",
          "Muhlenberg",
          "Miami-Dade",
          "Amherst",
          "Fayette",
          "Washington",
          "Cameron",
          "Clark",
          "Black Hawk",
          "Rock Island",
          "Carroll",
          "Philadelphia",
          "Watonwan",
          "Elmore",
          "Bartow",
          "Ozark",
          "Butte",
          "Weber",
          "Marion",
          "Clinton",
          "Aiken",
          "Newberry",
          "Yankton",
          "Wyoming",
          "Denali",
          "Taylor",
          "Logan",
          "Miami",
          "Prince William",
          "Pointe Coupee",
          "Hardin",
          "Erie",
          "Estill",
          "Hood River",
          "Montgomery",
          "Flagler",
          "Pike",
          "Bon Homme",
          "Orangeburg",
          "Cochran",
          "Jackson",
          "Summit",
          "Comanche",
          "Modoc",
          "Cumberland",
          "Sherburne",
          "Davison",
          "Pulaski",
          "Lyon",
          "Ware",
          "Turner",
          "Calhoun",
          "Defiance",
          "Holmes",
          "Jackson",
          "Mohave",
          "Horry",
          "Chase",
          "Taney",
          "Montgomery",
          "Palo Pinto",
          "Beaver",
          "Tulare",
          "Rockbridge",
          "Lincoln",
          "Davidson",
          "Johnson",
          "Cumberland",
          "Chautauqua",
          "Wise",
          "Clay",
          "La Salle",
          "Lyon",
          "Lafayette",
          "Mahnomen",
          "Perry",
          "Anderson",
          "Fentress",
          "Pickett",
          "Wheatland",
          "McPherson",
          "Seneca",
          "Callahan",
          "Muskegon",
          "Siskiyou",
          "DeSoto",
          "Dunklin",
          "Ascension",
          "Chesterfield",
          "Jackson",
          "Tooele",
          "Gulf",
          "Newton",
          "Bath",
          "Armstrong",
          "Hartley",
          "Sedgwick",
          "Mercer",
          "Saguache",
          "Clay",
          "Gonzales",
          "Wakulla",
          "Volusia",
          "Polk",
          "Huntington",
          "Marshall",
          "Fillmore",
          "Androscoggin",
          "Klamath",
          "Oswego",
          "Russell",
          "Alexandria",
          "Sacramento",
          "Calaveras",
          "Grafton",
          "Hickman",
          "Otsego",
          "Robertson",
          "Jefferson",
          "Montrose",
          "Richmond",
          "Richmond",
          "Richmond",
          "Richmond",
          "Richmond",
          "Richmond",
          "Richmond",
          "Richmond",
          "Richmond",
          "Richmond",
          "Richmond",
          "Richmond",
          "Richmond",
          "Richmond",
          "Richmond",
          "Richmond",
          "Lafayette",
          "Jack",
          "Carroll",
          "Jefferson",
          "Traill",
          "Ray",
          "Sharkey",
          "Radford",
          "Owen",
          "Columbia",
          "Scott",
          "Jackson",
          "Powell",
          "Greene",
          "Guadalupe",
          "Island",
          "Van Buren",
          "Monroe",
          "Newton",
          "Bonner",
          "Catoosa",
          "Bingham",
          "Williams",
          "Beadle",
          "Billings",
          "Morgan",
          "Broadwater",
          "Washington",
          "Gwinnett",
          "Pend Oreille",
          "Bath",
          "Lincoln",
          "Hudspeth",
          "Gratiot",
          "Clay",
          "Wyoming",
          "Hickory",
          "Marion",
          "Colusa",
          "Tipton",
          "Traverse",
          "Perquimans",
          "Red River",
          "Haskell",
          "Logan",
          "Cameron",
          "Hood",
          "Stanley",
          "Clarke",
          "Clinch",
          "Cherokee",
          "Lee",
          "Quitman",
          "Litchfield",
          "North Slope",
          "Lincoln",
          "Williamsburg",
          "Ector",
          "Yancey",
          "Bailey",
          "Montgomery",
          "Alexander",
          "Twin Falls",
          "Grand Traverse",
          "Dickinson",
          "Roger Mills",
          "Fairfield",
          "Washington",
          "Borden",
          "Nemaha",
          "Amador",
          "Saline",
          "Meade",
          "Phillips",
          "Day",
          "Adams",
          "Beauregard",
          "Anderson",
          "Caroline",
          "Grant",
          "Westmoreland",
          "Roseau",
          "Stone",
          "Churchill",
          "Middlesex",
          "Decatur",
          "Morgan",
          "Lyon",
          "Lincoln",
          "Toombs",
          "Warren",
          "Gilchrist",
          "Emporia",
          "Dubois",
          "Hughes",
          "Pondera",
          "McDonald",
          "Kinney",
          "Lincoln",
          "Oldham",
          "Glades",
          "Orange",
          "Marshall",
          "Ford",
          "Greene",
          "Harrison",
          "Karnes",
          "Scott",
          "Warren",
          "Washburn",
          "Calhoun",
          "Kleberg",
          "Berks",
          "Berkshire",
          "Cleveland",
          "Dallas",
          "Warren",
          "Wichita",
          "Pamlico",
          "Jessamine",
          "Giles",
          "Sumner",
          "White",
          "Johnson",
          "Fairbanks North Star",
          "Florence",
          "Anoka",
          "Wicomico",
          "Weld",
          "Juniata",
          "Mecosta",
          "Childress",
          "Warren",
          "Davis",
          "Levy",
          "Pulaski",
          "Blaine",
          "Fisher",
          "Coffee",
          "Hardin",
          "Edgefield",
          "Rockingham",
          "San Augustine",
          "Kosciusko",
          "Hardin",
          "Seneca",
          "Pendleton",
          "Sherman",
          "Texas",
          "Pulaski",
          "Choctaw",
          "Walla Walla",
          "Kent",
          "Teton",
          "Currituck",
          "Dearborn",
          "Putnam",
          "San Saba",
          "Oldham",
          "Oliver",
          "Windsor",
          "Hawaii",
          "Keweenaw",
          "McCormick",
          "Mineral",
          "Putnam",
          "Wilkes",
          "Butts",
          "Pierce",
          "Lumpkin",
          "York",
          "Isabella",
          "Dyer",
          "Norfolk",
          "Thurston",
          "Columbus",
          "Taylor",
          "Winnebago",
          "Zapata",
          "Boyd",
          "Lewis",
          "Virginia Beach",
          "Kent",
          "New Madrid",
          "Skamania",
          "Lancaster",
          "Menard",
          "Lamar",
          "Jefferson",
          "Marion",
          "Surry",
          "Fremont",
          "Mille Lacs",
          "Cheyenne",
          "Gem",
          "Schoolcraft",
          "Carroll",
          "Burke",
          "DeWitt",
          "Sitka",
          "Cecil",
          "Yukon-Koyukuk",
          "Navajo",
          "Otoe",
          "Kearney",
          "Gloucester",
          "Stanton",
          "Pike",
          "East Feliciana",
          "Platte",
          "Bradford",
          "Richland",
          "Clark",
          "Roanoke",
          "Roanoke",
          "Roanoke",
          "Roanoke",
          "Roanoke",
          "Roanoke",
          "Roanoke",
          "Roanoke",
          "Roanoke",
          "Roanoke",
          "Roanoke",
          "Roanoke",
          "Roanoke",
          "Roanoke",
          "Roanoke",
          "Roanoke",
          "Washington",
          "Seminole",
          "Hanson",
          "Valley",
          "Harrison",
          "Williamson",
          "Adams",
          "Harris",
          "Clallam",
          "Phillips",
          "Montgomery",
          "Shelby",
          "Dakota",
          "Union",
          "Carlisle",
          "Cumberland",
          "Prentiss",
          "Somerset",
          "Richmond",
          "Wadena",
          "Iredell",
          "Custer",
          "Sac",
          "Floyd",
          "Stoddard",
          "Gaston",
          "Hart",
          "Rice",
          "Ness",
          "Essex",
          "Delaware",
          "Stanislaus",
          "Lea",
          "Franklin",
          "Luzerne",
          "Crawford",
          "McCulloch",
          "Howell",
          "Crittenden",
          "Hooker",
          "Galax",
          "Passaic",
          "Jones",
          "Barren",
          "Deer Lodge",
          "Kitsap",
          "Orleans",
          "Gadsden",
          "Lauderdale",
          "Canyon",
          "Gray",
          "Fannin",
          "Clay",
          "Wahkiakum",
          "Phelps",
          "Fannin",
          "Doniphan",
          "Ketchikan Gateway",
          "Davidson",
          "Tioga",
          "Humboldt",
          "Bond",
          "Tensas",
          "San Juan",
          "Jackson",
          "LaPorte",
          "Crawford",
          "Fulton",
          "Worth",
          "Ripley",
          "Franklin",
          "Chambers",
          "Putnam",
          "Bottineau",
          "Cottonwood",
          "Sevier",
          "Anchorage",
          "Van Wert",
          "Antrim",
          "Jackson",
          "Pearl River",
          "Kenton",
          "Hawkins",
          "Oneida",
          "East Carroll",
          "Madison",
          "Johnson",
          "Fulton",
          "Warren",
          "Hall",
          "Garfield",
          "Hampden",
          "Dickinson",
          "Fauquier",
          "Bayfield",
          "Elliott",
          "Carson City",
          "Cochise",
          "Bradford",
          "Marion",
          "Buena Vista",
          "Adams",
          "Tyler",
          "Mora",
          "Johnson",
          "Monroe",
          "Fayette",
          "Rock",
          "Wythe",
          "Walker",
          "Dodge",
          "Forest",
          "Gage",
          "Salt Lake",
          "Hartford",
          "Hayes",
          "Elk",
          "Newport News",
          "Gray",
          "Jackson",
          "York",
          "Attala",
          "Starke",
          "Ramsey",
          "Pennington",
          "Jones",
          "Laramie",
          "Mitchell",
          "Lexington",
          "Greene",
          "Mercer",
          "Franklin",
          "Woodson",
          "Powell",
          "Coahoma",
          "Columbia",
          "Throckmorton",
          "Conway",
          "Nodaway",
          "Ransom",
          "Meigs",
          "Clay",
          "Greene",
          "Lehigh",
          "Cerro Gordo",
          "Crockett",
          "Logan",
          "Latimer",
          "Washington",
          "Howard",
          "Christian",
          "Manistee",
          "Texas",
          "Putnam",
          "Henderson",
          "Lincoln",
          "Tipton",
          "Gregg",
          "Caroline",
          "Wood",
          "Bear Lake",
          "Lavaca",
          "Fairfield",
          "Skagit",
          "Bibb",
          "Corson",
          "Owen",
          "Houston",
          "Nicholas",
          "Chesterfield",
          "Webster",
          "McDuffie",
          "Keith",
          "Brantley",
          "Alpena",
          "Wayne",
          "White",
          "Dauphin",
          "Thomas",
          "Bell",
          "Cherokee",
          "Ulster",
          "Sagadahoc",
          "Kossuth",
          "Harrison",
          "Webster",
          "Pope",
          "Sanilac",
          "Charlottesville",
          "Butler",
          "Santa Barbara",
          "Stonewall",
          "Sonoma",
          "Reagan",
          "Iron",
          "Gibson",
          "Crawford",
          "Nemaha",
          "Nye",
          "Stark",
          "Becker",
          "Oscoda",
          "Rutland",
          "Chesapeake",
          "Steele",
          "Portage",
          "Schuyler",
          "Garfield",
          "Forrest",
          "Stephenson",
          "Motley",
          "Thurston",
          "Monroe",
          "Pittsylvania",
          "Washtenaw",
          "Highland",
          "Yolo",
          "York",
          "Major",
          "Otter Tail",
          "Campbell",
          "Ellis",
          "Faulkner",
          "Lake",
          "St. Joseph",
          "Ohio",
          "Ada",
          "Erie",
          "Roberts",
          "Cleveland",
          "Washington",
          "St. Francis",
          "Amite",
          "Polk",
          "Osage",
          "Cherokee",
          "Doddridge",
          "Tehama",
          "Calloway",
          "Pottawattamie",
          "Fulton",
          "Madison",
          "Aurora",
          "McKenzie",
          "Perkins",
          "Washington",
          "Faribault",
          "Terrell",
          "Botetourt",
          "Taylor",
          "Warren",
          "La Paz",
          "Kalamazoo",
          "Finney",
          "Logan",
          "Wapello",
          "Woodward",
          "Yamhill",
          "Southampton",
          "Huron",
          "Pike",
          "Mesa",
          "Leavenworth",
          "Pettis",
          "Dolores",
          "Clearwater",
          "Santa Cruz",
          "Blanco",
          "Frederick",
          "Coffee",
          "Somerset",
          "Montgomery",
          "Madison",
          "Skagway",
          "Gilmer",
          "Sauk",
          "James City",
          "Tangipahoa",
          "Crook",
          "Terrell",
          "McLeod",
          "Lewis",
          "Wallace",
          "Franklin",
          "Greene",
          "Palo Alto",
          "Dodge",
          "Freeborn",
          "Barnstable",
          "Effingham",
          "Henry",
          "Mercer",
          "Boone",
          "Lynn",
          "Coal",
          "Kimball",
          "Cook",
          "Greenwood",
          "Lassen",
          "Champaign",
          "Kendall",
          "Emmons",
          "St. Bernard",
          "Prince of Wales-Hyder",
          "Grant",
          "Cibola",
          "Kidder",
          "Schuylkill",
          "Slope",
          "Sumter",
          "Henrico",
          "Hays",
          "Franklin",
          "Franklin",
          "Franklin",
          "Franklin",
          "Franklin",
          "Franklin",
          "Franklin",
          "Franklin",
          "Franklin",
          "Franklin",
          "Franklin",
          "Franklin",
          "Franklin",
          "Franklin",
          "Franklin",
          "Franklin",
          "Cambria",
          "Creek",
          "Elkhart",
          "Humphreys",
          "Gove",
          "Howard",
          "Winkler",
          "Jackson",
          "St. James",
          "Arlington",
          "Collingsworth",
          "Wise",
          "Jones",
          "Green",
          "Rapides",
          "Phelps",
          "Wilkin",
          "Pike",
          "Hinsdale",
          "Johnston",
          "Bracken",
          "Florence",
          "Richland",
          "Clearwater",
          "Todd",
          "Turner",
          "Oneida",
          "Platte",
          "Benton",
          "Jefferson",
          "Accomack",
          "Kent",
          "San Joaquin",
          "Gloucester",
          "Taylor",
          "Marion",
          "Scott",
          "Dodge",
          "Brazoria",
          "Irwin",
          "Moniteau",
          "Burke",
          "Woodbury",
          "Union",
          "Rabun",
          "Kodiak Island",
          "Shelby",
          "Clarendon",
          "Benton",
          "Russell",
          "Bryan",
          "Ouachita",
          "Imperial",
          "Lamb",
          "Washington",
          "Pipestone",
          "Latah",
          "Lake",
          "Seward",
          "Thomas",
          "Union",
          "Clark",
          "Ellsworth",
          "Adams",
          "Livingston",
          "Douglas",
          "Lake",
          "Bacon",
          "Knox",
          "Wichita",
          "McHenry",
          "Deuel",
          "Drew",
          "Jefferson",
          "Dade",
          "Henderson",
          "Jones",
          "Blue Earth",
          "Maury",
          "Jim Wells",
          "Jackson",
          "Otero",
          "Livingston",
          "Clayton",
          "Lac qui Parle",
          "Jackson",
          "Brown",
          "Gallatin",
          "Bourbon",
          "Piatt",
          "Jefferson",
          "Reynolds",
          "Van Buren",
          "Loudon",
          "Gordon",
          "Highlands",
          "Scotts Bluff",
          "Bonneville",
          "Green",
          "Ziebach",
          "Cumberland",
          "Sully",
          "Kenosha",
          "Ottawa",
          "Chaffee",
          "Stark",
          "Shasta",
          "Vermilion",
          "Wilkes",
          "Berrien",
          "Montmorency",
          "St. Clair",
          "Edwards",
          "Hamilton",
          "Sweetwater",
          "Craighead",
          "Talladega",
          "Shiawassee",
          "Stevens",
          "Baldwin",
          "Talbot",
          "Dawson",
          "Preble",
          "Otero",
          "Douglas",
          "Orange",
          "Putnam",
          "Comanche",
          "Ste. Genevieve",
          "Sherman",
          "Williamson",
          "Marathon",
          "Whatcom",
          "Boone",
          "Lewis",
          "Beckham",
          "Asotin",
          "Orleans",
          "Otsego",
          "Yellow Medicine",
          "Breathitt",
          "Marion",
          "Boone",
          "Pitt",
          "Jasper",
          "Lee",
          "Alameda",
          "Thomas",
          "Ottawa",
          "Shelby",
          "Grayson",
          "Park",
          "Buchanan",
          "Kittson",
          "Morgan",
          "Bledsoe",
          "Laurens",
          "New York",
          "Dallas",
          "Fredericksburg",
          "Dickens",
          "Pepin",
          "Kiowa",
          "Hutchinson",
          "Val Verde",
          "Iowa",
          "Alachua",
          "Bucks",
          "Glacier",
          "Santa Rosa",
          "Rockcastle",
          "Miami",
          "McLean",
          "Umatilla",
          "Indian River",
          "Pike",
          "Rooks",
          "Forsyth",
          "Sanborn",
          "Grady",
          "Menominee",
          "Valencia",
          "Door",
          "Camden",
          "Garfield",
          "Lenawee",
          "Henry",
          "Phillips",
          "Riley",
          "Hale",
          "Rockwall",
          "Custer",
          "Hubbard",
          "Saline",
          "Bedford",
          "Baker",
          "Ventura",
          "Calhoun",
          "Clearfield",
          "Baraga",
          "Big Horn",
          "Ward",
          "Tippah",
          "Mariposa",
          "Scott",
          "Lawrence",
          "Nantucket",
          "Bamberg",
          "DeKalb",
          "Hemphill",
          "Randolph",
          "Haralson",
          "Alexander",
          "Chester",
          "Wayne",
          "Nelson",
          "Mercer",
          "White",
          "Fond du Lac",
          "Kewaunee",
          "Parmer",
          "Russell",
          "Richland",
          "Winston",
          "Foard",
          "San Bernardino",
          "Douglas",
          "Fairfax",
          "Fairfax",
          "Fairfax",
          "Fairfax",
          "Fairfax",
          "Fairfax",
          "Fairfax",
          "Fairfax",
          "Fairfax",
          "Fairfax",
          "Fairfax",
          "Fairfax",
          "Fairfax",
          "Fairfax",
          "Fairfax",
          "Fairfax",
          "Fayette",
          "Pottawatomie",
          "Kenai Peninsula",
          "Eau Claire",
          "Livingston",
          "Dawson",
          "Valdez-Cordova",
          "Lyman",
          "Webster",
          "Yuba",
          "St. Charles",
          "Evans",
          "Glasscock",
          "Foster",
          "Merrick",
          "Taylor",
          "Pike",
          "Woodford",
          "Fountain",
          "Ashley",
          "Grant",
          "Craig",
          "Hunt",
          "Sharp",
          "Jefferson",
          "Dinwiddie",
          "Leflore",
          "Jefferson",
          "Okfuskee",
          "Osborne",
          "Fremont",
          "Mecklenburg",
          "Merced",
          "Weakley",
          "Morgan",
          "Grand Isle",
          "Warren",
          "Charles",
          "Cleveland",
          "Edwards",
          "Chaves",
          "Powder River",
          "Pershing",
          "Bernalillo",
          "Salem",
          "Brevard",
          "Liberty",
          "Madison",
          "Kiowa",
          "Hamilton",
          "Bristol",
          "Elmore",
          "Loudoun",
          "Nash",
          "Marion",
          "Houston",
          "Delta",
          "Caldwell",
          "Casey",
          "Meade",
          "Bronx",
          "Perkins",
          "Wallowa",
          "Poquoson",
          "Chester",
          "Clark",
          "Allegany",
          "Franklin",
          "Harrison",
          "Greene",
          "Aitkin",
          "McLennan",
          "Sumner",
          "Walton",
          "Orange",
          "Decatur",
          "Alleghany",
          "Rock",
          "Brown",
          "Douglas",
          "Searcy",
          "Montgomery",
          "Hopkins",
          "McCurtain",
          "Herkimer",
          "Union",
          "Ashland",
          "Clinton",
          "Vilas",
          "Linn",
          "Muscogee",
          "Atchison",
          "Isle of Wight",
          "Washington",
          "Stewart",
          "Rio Blanco",
          "Morgan",
          "Forsyth",
          "Sullivan",
          "Jewell",
          "Blaine",
          "Kittitas",
          "Presidio",
          "Graham",
          "Autauga",
          "Okanogan",
          "Garrett",
          "Clark",
          "Outagamie",
          "Crawford",
          "Lincoln",
          "Cass",
          "Tate",
          "Henry",
          "Lincoln",
          "Greene",
          "Vernon",
          "Washington",
          "Calhoun",
          "Iron",
          "Presque Isle",
          "Sullivan",
          "Lee",
          "Lincoln",
          "Rockdale",
          "Burt",
          "Barbour",
          "Rice",
          "Towns",
          "Tyler",
          "Douglas",
          "Coke",
          "New Hanover",
          "St. Mary's",
          "Torrance",
          "Chase",
          "Bryan",
          "Ritchie",
          "Beaver",
          "Saginaw",
          "Magoffin",
          "Culberson",
          "Telfair",
          "Osceola",
          "Saline",
          "Breckinridge",
          "Belmont",
          "Martin",
          "Whiteside",
          "El Paso",
          "Quitman",
          "Wilkinson",
          "West Feliciana",
          "Juab",
          "Stephens",
          "Shelby",
          "Yoakum",
          "Sunflower",
          "Chattooga",
          "Spencer",
          "Houghton",
          "Pope",
          "Jefferson",
          "Anderson",
          "Washington",
          "Mason",
          "Missoula",
          "Guthrie",
          "Glynn",
          "Gregory",
          "Barnwell",
          "Etowah",
          "Buffalo",
          "Medina",
          "Franklin",
          "Butler",
          "Armstrong",
          "Marengo",
          "DeKalb",
          "Franklin",
          "Refugio",
          "Decatur",
          "Edmonson",
          "Allegany",
          "Orange",
          "Pocahontas",
          "Clark",
          "Schleicher",
          "Pratt",
          "King and Queen",
          "Cumberland",
          "Scott",
          "Muskogee",
          "Parker",
          "Long",
          "St. Joseph",
          "Union",
          "Dutchess",
          "Hot Springs",
          "Mills",
          "Sabine",
          "Vernon",
          "Mayes",
          "Blaine",
          "Denver",
          "Alleghany",
          "Cotton",
          "Washington",
          "Adams",
          "Darlington",
          "Waushara",
          "Juneau",
          "Dawes",
          "Ogemaw",
          "Duval",
          "Lafayette",
          "Marion",
          "Harlan",
          "Charlotte",
          "Wells",
          "Delaware",
          "Carson",
          "Burke",
          "Minidoka",
          "Daviess",
          "Oregon",
          "Oceana",
          "Bullock",
          "Cortland",
          "Chester",
          "Prince George's",
          "Mahoning",
          "Richmond",
          "Lake of the Woods",
          "Trempealeau",
          "Linn",
          "Calhoun",
          "Ouray",
          "Montgomery",
          "McLean",
          "Dallas",
          "Wilson",
          "Henry",
          "Grant",
          "Stephens",
          "Cooke",
          "Lee",
          "Shenandoah",
          "Hopkins",
          "Graham",
          "Wibaux",
          "Wilcox",
          "Payette",
          "Concho",
          "Obion",
          "Cook",
          "Carbon",
          "Burnett",
          "Pender",
          "Fairfield",
          "Norfolk",
          "Weston",
          "Jeff Davis",
          "Marion",
          "Jay",
          "Summers",
          "Lawrence",
          "Sherman",
          "Lincoln",
          "Atascosa",
          "Oconee",
          "Madison",
          "Seward",
          "Carroll",
          "St. Helena",
          "Winnebago",
          "Dawson",
          "Apache",
          "Seminole",
          "Gillespie",
          "King George",
          "Lebanon",
          "Dade",
          "Meigs",
          "Murray",
          "Kent",
          "Ravalli",
          "Marshall",
          "Valley",
          "Warren",
          "Fayette",
          "Hamilton",
          "Monroe",
          "Gibson",
          "Prince George",
          "Eddy",
          "Pierce",
          "Cimarron",
          "Nance",
          "Glenn",
          "Belknap",
          "Hempstead",
          "Beaver",
          "Adair",
          "Lincoln",
          "Calcasieu",
          "Musselshell",
          "Moody",
          "Wetzel",
          "Monroe",
          "Hamilton",
          "Perry",
          "Cook",
          "Lauderdale",
          "Mercer",
          "Fort Bend",
          "Sibley",
          "Upson",
          "Macon",
          "Rowan",
          "Cabell",
          "San Diego",
          "Warren",
          "Tompkins",
          "Kendall",
          "Fayette",
          "Perry",
          "Walworth",
          "Tift",
          "Petersburg",
          "Miller",
          "Buchanan",
          "Chisago",
          "Colfax",
          "Huerfano",
          "Madison",
          "Johnson",
          "Winona",
          "Clay",
          "Dorchester",
          "McHenry",
          "Laurens",
          "Woods",
          "Silver Bow",
          "Harmon",
          "Coweta",
          "Westchester",
          "Clinton",
          "St. Clair",
          "Lamoille",
          "Kane",
          "Meeker",
          "Martin",
          "Oconto",
          "Gosper",
          "Greenville",
          "Arthur",
          "Rutherford",
          "Johnson",
          "Grundy",
          "Penobscot",
          "Lake and Peninsula",
          "Murray",
          "Coffee",
          "Perry",
          "McKean",
          "Larimer",
          "Washoe",
          "Jasper",
          "Bradley",
          "Liberty",
          "Ben Hill",
          "Campbell",
          "Terrebonne",
          "Cherokee",
          "Hardeman",
          "Davie",
          "Noble",
          "Clay",
          "Hughes",
          "Starr",
          "Loving",
          "Orange",
          "Leake",
          "Humboldt",
          "Edgar",
          "Hardin",
          "Missaukee",
          "Golden Valley",
          "King",
          "Kenedy",
          "Lafourche",
          "Trimble",
          "Norton",
          "Spink",
          "Benton",
          "Louisa",
          "Monroe",
          "Lucas",
          "Douglas",
          "Williams",
          "Whitfield",
          "Spalding",
          "Franklin",
          "Newport",
          "Roberts",
          "Livingston",
          "Mercer",
          "Columbia",
          "Wheeler",
          "Clark",
          "Acadia",
          "Summit",
          "Lawrence",
          "Juneau",
          "Rusk",
          "Waukesha",
          "Hendricks",
          "Schenectady",
          "Colfax",
          "Ida",
          "Steuben",
          "Jasper",
          "Hutchinson",
          "Douglas",
          "Worcester",
          "Marshall",
          "Independence",
          "Lonoke",
          "Colbert",
          "Person",
          "Trego",
          "Lincoln",
          "Jefferson",
          "Newton",
          "Los Angeles",
          "Lamar",
          "Garfield",
          "Carroll",
          "Harrison",
          "Rogers",
          "Crane",
          "Alcona",
          "Webster",
          "Cass",
          "Lee",
          "Box Elder",
          "Wilkinson",
          "Crowley",
          "Custer",
          "Bolivar",
          "San Jacinto",
          "Richland",
          "Kaufman",
          "Greenlee",
          "Clay",
          "Lake",
          "Treutlen",
          "Martin",
          "Jackson",
          "Candler",
          "Coosa",
          "Vanderburgh",
          "Middlesex",
          "Bristol",
          "Washington",
          "Hidalgo",
          "Montezuma",
          "Cedar",
          "Cascade",
          "Livingston",
          "Lake",
          "Caswell",
          "Bedford",
          "Bedford",
          "Bedford",
          "Bedford",
          "Bedford",
          "Bedford",
          "Bedford",
          "Bedford",
          "Washington",
          "Scott",
          "Phillips",
          "Oktibbeha",
          "Floyd",
          "Haywood",
          "Worth",
          "Whitley",
          "Pawnee",
          "Elko",
          "Lyon",
          "Custer",
          "Perry",
          "Hopewell",
          "Del Norte",
          "Pushmataha",
          "Echols",
          "Bladen",
          "Warren",
          "Monroe",
          "Union",
          "Stearns",
          "Claiborne",
          "Jackson",
          "East Baton Rouge",
          "Toole",
          "Schley",
          "Fremont",
          "Chippewa",
          "Pulaski",
          "Lanier",
          "Panola",
          "Denton",
          "Crawford",
          "Brooks",
          "Miller",
          "Allen",
          "Stillwater",
          "Chemung",
          "Cape Girardeau",
          "Garden",
          "Taylor",
          "Austin",
          "Prince Edward",
          "Hardee",
          "Wayne",
          "McCreary",
          "Sanpete",
          "Kearny",
          "Washington",
          "Nowata",
          "Benton",
          "Northampton",
          "Monroe",
          "Kanawha",
          "Brunswick",
          "Vance",
          "Goshen",
          "Baldwin",
          "Leon",
          "Russell",
          "Plymouth",
          "Gallia",
          "Henry",
          "Bates",
          "Madison",
          "Howard",
          "Calhoun",
          "Allen",
          "Walsh",
          "Morgan",
          "Custer",
          "Newton",
          "Fulton",
          "Clark",
          "Nobles",
          "Jerome",
          "Carroll",
          "Wells",
          "Lawrence",
          "Leon",
          "Pitkin",
          "Miner",
          "Northumberland",
          "Green Lake",
          "Barrow",
          "Ochiltree",
          "Lake",
          "Tuscaloosa",
          "Powhatan",
          "Falls Church",
          "Muskingum",
          "Bowman",
          "Shackelford",
          "Greene",
          "Benton",
          "Halifax",
          "Cheyenne",
          "Garza",
          "Inyo",
          "Butler",
          "Hot Spring",
          "Mills",
          "Yalobusha",
          "Evangeline",
          "Contra Costa",
          "Platte",
          "Medina",
          "Tolland",
          "Mineral",
          "Floyd",
          "Alpine",
          "Pecos",
          "Roane",
          "Jackson",
          "Windham",
          "Tuscarawas",
          "Campbell",
          "Cross",
          "Shelby",
          "Manassas Park",
          "Big Horn",
          "Sioux",
          "Colorado",
          "Jackson",
          "Morehouse",
          "Morgan",
          "Troup",
          "Humboldt",
          "Sussex",
          "Roosevelt",
          "Ellis",
          "Somerset",
          "Augusta",
          "Polk",
          "Oneida",
          "Lincoln",
          "Switzerland",
          "Carroll",
          "Logan",
          "Dane",
          "Grant",
          "Ionia",
          "Polk",
          "Audrain",
          "Colleton",
          "Greene",
          "Henry",
          "Wheeler",
          "Greenbrier",
          "Dickenson",
          "Bristol",
          "Will",
          "Deaf Smith",
          "Clay",
          "Des Moines",
          "Cumberland",
          "Bastrop",
          "Laurel",
          "Linn",
          "Red River",
          "Chatham",
          "McCone",
          "Lee",
          "Wyoming",
          "Martinsville",
          "Macoupin",
          "Jefferson",
          "Sheridan",
          "Sutter",
          "Smith",
          "Grant",
          "Bee",
          "Adams",
          "Esmeralda",
          "Newton",
          "Hunterdon",
          "Cheatham",
          "O'Brien",
          "Walker",
          "Montgomery",
          "Brunswick",
          "Union",
          "Washington",
          "Scott",
          "Daniels",
          "Sioux",
          "Orange",
          "Grand",
          "Wyandot",
          "Cass",
          "Clinton",
          "Hale",
          "Jasper",
          "Fayette",
          "La Crosse",
          "Caldwell",
          "Madison",
          "Taliaferro",
          "Camden",
          "Madison",
          "Multnomah",
          "Boone",
          "Knott",
          "Jackson",
          "Lake",
          "Honolulu",
          "Park",
          "Sutton",
          "Fayette",
          "Brule",
          "Butler",
          "Scott",
          "Lee",
          "Comal",
          "Cayuga",
          "Sherman",
          "Wayne",
          "Monterey",
          "Henry",
          "Martin",
          "Owsley",
          "Millard",
          "Liberty",
          "Andrew",
          "Preston",
          "Waupaca",
          "Pinellas",
          "Watauga",
          "Hardy",
          "Macon",
          "Shawnee",
          "Real",
          "Clay",
          "Barbour",
          "Van Buren",
          "Appanoose",
          "St. Landry",
          "Ontario",
          "Love",
          "Hillsdale",
          "Antelope",
          "Pulaski",
          "Craven",
          "Brown",
          "Archuleta",
          "Carbon",
          "Unicoi",
          "Spartanburg",
          "Josephine",
          "Fayette",
          "Wayne",
          "Chelan",
          "Polk",
          "Fayette",
          "Smith",
          "De Soto",
          "Ferry",
          "Catawba",
          "Caddo",
          "Macon",
          "Hickman",
          "LaSalle",
          "Racine",
          "Lake",
          "Santa Clara",
          "Charleston",
          "Clinton",
          "Rio Grande",
          "Union",
          "Woodruff",
          "Judith Basin",
          "Rio Arriba",
          "Marquette",
          "San Juan",
          "Gilpin",
          "Berkeley",
          "Jenkins",
          "Suwannee",
          "Jennings",
          "Columbia",
          "Owyhee",
          "Hamlin",
          "Raleigh",
          "Cass",
          "Neshoba",
          "Peoria",
          "Morrison",
          "McIntosh",
          "Louisa",
          "Fulton",
          "St. Mary",
          "Brown",
          "Woodford",
          "Teton",
          "Morton",
          "Buncombe",
          "Wilbarger",
          "Martin",
          "Parke",
          "Bremer",
          "Morris",
          "Addison",
          "St. Clair",
          "Lincoln",
          "Decatur",
          "Hettinger",
          "Lawrence",
          "Metcalfe",
          "Pemiscot",
          "Mason",
          "Wayne",
          "Walton",
          "Marquette",
          "Boyd",
          "Scott",
          "Campbell",
          "La Plata",
          "Alger",
          "Lawrence",
          "Sargent",
          "Coles",
          "Pope",
          "Essex",
          "San Miguel",
          "Iron",
          "Van Buren",
          "Logan",
          "Osage",
          "Houston",
          "Choctaw",
          "Gallatin",
          "Lawrence",
          "Barry",
          "Stokes",
          "Pickaway",
          "Logan",
          "Douglas",
          "Izard",
          "Cole",
          "Ralls",
          "Franklin",
          "Early",
          "Newton",
          "Jefferson",
          "Tallahatchie",
          "Doña Ana",
          "Langlade",
          "Buena Vista",
          "Sumter",
          "Tillamook",
          "Midland",
          "Harrisonburg",
          "Hancock",
          "Brown",
          "Douglas",
          "Falls",
          "Houston",
          "Grayson",
          "Coconino",
          "Jackson",
          "Macon",
          "Douglas",
          "Waldo",
          "Neosho",
          "Greenup",
          "Henderson",
          "Washita",
          "Queen Anne's",
          "Brown",
          "Greene",
          "Pembina",
          "Riverside",
          "Story",
          "Randolph",
          "Banks",
          "Gilliam",
          "Grimes",
          "Wagoner",
          "Elbert",
          "Hardin",
          "Dooly",
          "Rhea",
          "Young",
          "Archer",
          "Athens",
          "Oglethorpe",
          "Lee",
          "Emmet",
          "Le Flore",
          "Buffalo",
          "Dewey",
          "Montour",
          "Genesee",
          "York",
          "Simpson",
          "Grant",
          "Franklin",
          "Potter",
          "Kingfisher",
          "Hennepin",
          "Christian",
          "Osceola",
          "Campbell",
          "Iron",
          "Butte",
          "Petersburg",
          "Bibb",
          "Curry",
          "San Mateo",
          "Whitman",
          "Vernon",
          "Elbert",
          "Rains",
          "Grant",
          "Big Stone",
          "Garrard",
          "Johnson",
          "Beaverhead",
          "Rich",
          "Hernando",
          "Bandera",
          "Sweet Grass",
          "Washington",
          "Clinton",
          "McPherson",
          "Lee",
          "Barnes",
          "Grant",
          "Olmsted",
          "Perry",
          "Summit",
          "Paulding",
          "Crawford",
          "Richmond",
          "Lincoln",
          "Meriwether",
          "Coryell",
          "Adair",
          "Broomfield",
          "Manatee",
          "Pasquotank",
          "Fulton",
          "Iroquois",
          "Poweshiek",
          "Limestone",
          "Patrick",
          "LaMoure",
          "Mendocino",
          "Caldwell",
          "Goodhue",
          "Swain",
          "Malheur",
          "Harding",
          "Clarke",
          "Dewey",
          "Pickens",
          "Clinton",
          "Atkinson",
          "New Kent",
          "Galveston",
          "Stark",
          "Kane",
          "Kershaw",
          "Logan",
          "Butler",
          "Wheeler",
          "Columbia",
          "Duplin",
          "Avoyelles",
          "Sheridan",
          "Pierce",
          "Keokuk",
          "Baxter",
          "Providence",
          "Emanuel",
          "Sarpy",
          "Colquitt",
          "Shelby",
          "Gila",
          "Greene",
          "Barron",
          "Putnam",
          "Calhoun",
          "Morris",
          "Matanuska-Susitna",
          "Jackson",
          "Montague",
          "Clarke",
          "Wayne",
          "Plymouth",
          "Storey",
          "Winston",
          "Humphreys",
          "Hampton",
          "Lowndes",
          "Milam",
          "Amelia",
          "Randolph",
          "Runnels",
          "Boone",
          "Pawnee",
          "Brown",
          "Monroe",
          "Wayne",
          "Auglaize",
          "Queens",
          "Jefferson",
          "Niagara",
          "Fall River",
          "Greene",
          "Edmunds",
          "Jackson",
          "Allegheny",
          "Stutsman",
          "Tama",
          "Nassau",
          "Cherokee",
          "Scotland",
          "Howard",
          "Price",
          "Hodgeman",
          "Hancock",
          "Richland",
          "Gooding",
          "Chowan",
          "Baca",
          "Bosque",
          "Carroll",
          "Red Lake",
          "Susquehanna",
          "Delaware",
          "Lancaster",
          "St. Louis",
          "St. Louis",
          "St. Louis",
          "St. Louis",
          "St. Louis",
          "St. Louis",
          "St. Louis",
          "St. Louis",
          "St. Louis",
          "St. Louis",
          "St. Louis",
          "St. Louis",
          "St. Louis",
          "St. Louis",
          "St. Louis",
          "St. Louis",
          "Greenwood",
          "Wabash",
          "Cache",
          "Pierce",
          "Polk",
          "Johnson",
          "Baltimore",
          "Baltimore",
          "Baltimore",
          "Baltimore",
          "Baltimore",
          "Baltimore",
          "Baltimore",
          "Baltimore",
          "Baltimore",
          "Baltimore",
          "Baltimore",
          "Baltimore",
          "Baltimore",
          "Baltimore",
          "Baltimore",
          "Baltimore",
          "Jefferson",
          "Maries",
          "Greeley",
          "Hamilton",
          "Lowndes",
          "Fulton",
          "Burleigh",
          "Trumbull",
          "San Miguel",
          "Marshall",
          "Erath",
          "Marion",
          "Aransas",
          "Greer",
          "Mineral",
          "Washington",
          "Scott",
          "Labette",
          "Jackson",
          "Lake",
          "Porter",
          "Hocking",
          "Miami",
          "Lyon",
          "Greene",
          "Lexington",
          "Haakon",
          "Clayton",
          "St. Martin",
          "Lincoln",
          "Ouachita",
          "Kay",
          "Mitchell",
          "Tucker",
          "Clay",
          "Vigo",
          "Ashland",
          "Eddy",
          "McPherson",
          "Sawyer",
          "Hudson",
          "Sterling",
          "Eureka",
          "Curry",
          "Carroll",
          "Holt",
          "Lipscomb",
          "Boyle",
          "Polk",
          "Crawford",
          "Boone",
          "Logan",
          "Benton",
          "Scotland",
          "Moultrie",
          "Jefferson",
          "Navarro",
          "San Juan",
          "Tazewell",
          "Geneva",
          "Delaware",
          "Hamilton",
          "Hancock",
          "Saunders",
          "Cattaraugus",
          "Knox",
          "Garfield",
          "Oconee",
          "Pennington",
          "Warren",
          "Madison",
          "Camp",
          "Page",
          "Onslow",
          "Grainger",
          "Carlton",
          "Cumberland",
          "Pulaski",
          "Madison",
          "Wilson",
          "Natchitoches",
          "Page",
          "Limestone",
          "Iowa",
          "Westmoreland",
          "Uvalde",
          "Emmet",
          "Wake",
          "Lincoln",
          "Monroe",
          "Hyde",
          "Madison",
          "Tishomingo",
          "Lincoln",
          "Franklin",
          "Lee",
          "Harper",
          "Monona",
          "Washington",
          "Washington",
          "Shannon",
          "Renville",
          "Quay",
          "Washington",
          "Castro",
          "Clark",
          "Allegan",
          "Nicollet",
          "Marinette",
          "Essex",
          "Grant",
          "Rockland",
          "Marion",
          "Swift",
          "Carroll",
          "Union",
          "Goliad",
          "Dent",
          "Culpeper",
          "Madison",
          "Loup",
          "Walthall",
          "Calhoun",
          "Venango",
          "Shelby",
          "Covington",
          "Marshall",
          "Las Animas",
          "Mingo",
          "San Luis Obispo",
          "Carver",
          "Mercer",
          "Charlotte",
          "Forest",
          "Alamance",
          "Clay",
          "Knox",
          "Ohio",
          "Sioux",
          "Warrick",
          "Zavala",
          "Banner",
          "Benton",
          "Crittenden",
          "Middlesex",
          "Grand Forks",
          "Greeley",
          "Screven",
          "Yuma",
          "Christian",
          "Lafayette",
          "Lincoln",
          "Davis",
          "Adams",
          "Guernsey",
          "Clarke",
          "Pottawatomie",
          "Wharton",
          "Blount",
          "Norman",
          "Monroe",
          "Essex",
          "Laclede",
          "Wood",
          "Chariton",
          "Mono",
          "Columbia",
          "Titus",
          "Ingham",
          "Comanche",
          "Willacy",
          "Lewis",
          "Jefferson",
          "Pleasants",
          "Giles",
          "Washington",
          "Twiggs",
          "St. Clair",
          "Harrison",
          "Monroe",
          "Gasconade",
          "Morrow",
          "Clark",
          "Massac",
          "Dickson",
          "Barry",
          "Grundy",
          "Johnson",
          "Desha",
          "Perry",
          "Grant",
          "Irion",
          "Monroe",
          "Hyde",
          "Erie",
          "Stanly",
          "Hall",
          "Kalawao",
          "Polk",
          "Crenshaw",
          "Dickinson",
          "Broome",
          "Abbeville",
          "Bay",
          "Matagorda",
          "Howard",
          "Bossier",
          "Albany",
          "Effingham",
          "Schuyler",
          "Conecuh",
          "Jackson",
          "Niobrara",
          "Clermont",
          "Burleson",
          "Hill",
          "Bland",
          "Yellowstone",
          "St. Francois",
          "Cannon",
          "Steele",
          "Tazewell",
          "Licking",
          "Hall",
          "St. Croix",
          "Blackford",
          "Lee",
          "Lancaster",
          "De Baca",
          "Union",
          "Hampshire",
          "Canadian",
          "Butler",
          "Clackamas",
          "Benton",
          "Wabash",
          "Clatsop",
          "Carroll",
          "Hendry",
          "Rosebud",
          "Newaygo",
          "Ellis",
          "Keya Paha",
          "Smith",
          "Floyd",
          "Harris",
          "McMullen",
          "Essex",
          "Prowers",
          "Pike",
          "Wilcox",
          "New Castle",
          "Rush",
          "Montgomery",
          "Franklin",
          "Jackson",
          "Habersham",
          "Marin",
          "Rusk",
          "Chattahoochee",
          "Benewah",
          "Berrien",
          "Roscommon",
          "Carter",
          "Taos",
          "Escambia",
          "Grant",
          "Ottawa",
          "Atoka",
          "Okmulgee",
          "Sheridan",
          "Ozaukee",
          "Sheboygan",
          "Douglas",
          "Pasco",
          "Carbon",
          "Clarke",
          "Jasper",
          "Lackawanna",
          "Duval",
          "Yell",
          "Boone",
          "Lenoir",
          "Madison",
          "Wayne",
          "Charles City",
          "Bent",
          "Franklin",
          "Plaquemines",
          "Adams",
          "Sumter",
          "Bay",
          "Pike",
          "Oxford",
          "Smith",
          "Barber",
          "St. Tammany",
          "St. Lucie",
          "Marshall",
          "Mifflin",
          "Rawlins",
          "Baker",
          "Hansford",
          "Chambers",
          "Lewis",
          "Greene",
          "Stevens",
          "McDowell",
          "Larue",
          "Potter",
          "Towner",
          "Hamilton",
          "Stafford",
          "Uintah",
          "Appomattox",
          "Madison",
          "Rowan",
          "Montgomery",
          "Sevier",
          "Santa Cruz",
          "Henry",
          "Macon",
          "Hand",
          "Letcher",
          "Rolette",
          "Franklin",
          "Calhoun",
          "Chicot",
          "Jackson",
          "Gunnison",
          "Thayer",
          "Reno",
          "Hampton",
          "Coshocton",
          "Hoonah-Angoon",
          "Orleans",
          "Webster",
          "Pocahontas",
          "Sequoyah",
          "Republic",
          "Perry",
          "Union",
          "Uinta",
          "Allen",
          "Brown",
          "Nolan",
          "Hanover",
          "Rutherford",
          "Saluda",
          "Waynesboro",
          "Schuyler",
          "Morgan",
          "Snyder",
          "Rappahannock",
          "Chippewa",
          "Mobile",
          "Franklin",
          "Pueblo",
          "Placer",
          "Dorchester",
          "Bexar",
          "Lake",
          "Milwaukee",
          "Blount",
          "Cherokee",
          "Columbia",
          "Moore",
          "Wheeler",
          "Sumter",
          "Franklin",
          "Pike",
          "Griggs",
          "Moore",
          "Kalkaska",
          "Hardeman",
          "Marion",
          "Knox",
          "Pierce",
          "Kankakee",
          "McIntosh",
          "Mason",
          "Morton",
          "Graham",
          "Red Willow",
          "Sequatchie",
          "Osage",
          "Garfield",
          "Cullman",
          "Covington",
          "Bullitt",
          "Lafayette",
          "Washington",
          "Harding",
          "Mower",
          "Oklahoma",
          "Winneshiek",
          "Halifax",
          "Hertford",
          "Wabasha",
          "Harnett",
          "Richland",
          "Sangamon",
          "Knox",
          "Johnston",
          "Boone",
          "Morgan",
          "Overton",
          "Cottle",
          "Wright",
          "Ballard",
          "Pulaski",
          "Buffalo",
          "Nevada",
          "Geauga",
          "Bennington",
          "Nome",
          "Fluvanna",
          "DeKalb",
          "Franklin",
          "Mackinac",
          "Pike",
          "Robertson",
          "Oakland",
          "Elk",
          "Martin",
          "Valley",
          "Washington",
          "San Juan",
          "Tattnall",
          "Stephens",
          "Lincoln",
          "Glascock",
          "Highland",
          "McIntosh",
          "Montgomery",
          "Chilton",
          "Surry",
          "Prairie",
          "Allamakee",
          "Llano",
          "Minnehaha",
          "Clare",
          "Sussex",
          "Saratoga",
          "Duchesne",
          "Ramsey",
          "Grundy",
          "Buchanan",
          "Jackson",
          "Dickey",
          "Atchison",
          "Briscoe",
          "Caddo",
          "Hamilton",
          "Cass",
          "Buckingham",
          "Camden",
          "Boulder",
          "St. Johns",
          "Grundy",
          "Haywood",
          "Luce",
          "Sullivan",
          "Hancock",
          "Hancock",
          "Montgomery",
          "Waller",
          "Perry",
          "Cloud",
          "De Witt",
          "Hampshire",
          "Terry",
          "Anderson",
          "George",
          "Jo Daviess",
          "Victoria",
          "Randolph",
          "Dallas",
          "Grant",
          "Camden",
          "Cass",
          "Custer",
          "Mountrail",
          "Bethel",
          "Worth",
          "Natrona",
          "Mitchell",
          "Catahoula",
          "Lemhi",
          "Copiah",
          "Bristol Bay",
          "Piute",
          "Carter",
          "Genesee",
          "Assumption",
          "Montgomery",
          "Liberty",
          "Tillman",
          "Delaware",
          "McCracken",
          "Washington",
          "Vermilion",
          "Sabine",
          "Polk",
          "Yates",
          "King",
          "Deschutes",
          "Tioga",
          "Lincoln",
          "Spencer",
          "Reeves",
          "Okaloosa",
          "Mitchell",
          "Jefferson",
          "White",
          "Montcalm",
          "Collier",
          "Caledonia",
          "Collin",
          "Sarasota",
          "Cheboygan",
          "Sullivan",
          "Nottoway",
          "Lamar",
          "Carter",
          "St. John the Baptist",
          "Eaton",
          "Yakutat",
          "Harlan",
          "Daviess",
          "Madison",
          "Chittenden",
          "Maui",
          "Coffey",
          "Grant",
          "Mitchell",
          "Lynchburg",
          "Brewster",
          "Concordia",
          "Hamilton",
          "Anderson",
          "Hinds",
          "Ohio",
          "Morgan",
          "Strafford",
          "Moore",
          "Grand",
          "Poinsett",
          "Travis",
          "Orange",
          "Portage",
          "Jim Hogg",
          "DeKalb",
          "Hidalgo",
          "Morrow",
          "Todd",
          "Madison",
          "Adair",
          "Northwest Arctic",
          "Harper",
          "Issaquena",
          "Lamar",
          "Covington",
          "Pinal",
          "DeKalb",
          "Suffolk",
          "Alcorn",
          "Adams",
          "Johnson",
          "Coleman",
          "Teton",
          "Power",
          "Albany",
          "New London",
          "Costilla",
          "Marlboro",
          "Carteret",
          "Chickasaw",
          "Hancock",
          "Dubuque",
          "Converse",
          "Huntingdon",
          "Bedford",
          "Marshall",
          "Morgan",
          "Beltrami",
          "Dukes",
          "Delta",
          "Lowndes",
          "Trinity",
          "Andrews",
          "Granville",
          "Flathead",
          "Northumberland",
          "Union",
          "Kiowa",
          "Pawnee",
          "Wyandotte",
          "Southeast Fairbanks",
          "Lucas",
          "Kanabec",
          "Benzie",
          "Lincoln",
          "Webster",
          "Sanders",
          "Wright",
          "Cass",
          "Yazoo",
          "Harney",
          "Codington",
          "Bennett",
          "Talbot",
          "Little River",
          "Crawford",
          "Lafayette",
          "Jeff Davis",
          "Cocke",
          "Hancock",
          "Wirt",
          "Gentry",
          "Bertie",
          "Huron",
          "Trigg",
          "Houston",
          "Lincoln",
          "Jefferson",
          "Iberia",
          "Freestone",
          "Nevada",
          "Jasper",
          "Sandusky",
          "Staunton",
          "Montgomery",
          "Mellette",
          "Marshall",
          "Kingman",
          "Wayne",
          "Daviess",
          "Jackson",
          "Mississippi",
          "Ross",
          "Jefferson",
          "Fulton",
          "Adams",
          "Baker",
          "Decatur",
          "Trinity",
          "Mason",
          "Teller",
          "Henderson",
          "Edwards",
          "Fleming",
          "Tripp",
          "Georgetown",
          "Polk",
          "Redwood",
          "Franklin",
          "Sierra",
          "Hamilton",
          "Suffolk",
          "Hancock",
          "McLean",
          "Dunn",
          "Wayne",
          "Chouteau",
          "Union",
          "Robeson",
          "Logan",
          "Miller",
          "Arkansas",
          "Randolph",
          "Lincoln",
          "Posey",
          "Clarion",
          "McCook",
          "Moffat",
          "Wolfe",
          "Berkeley",
          "Monroe",
          "Clay",
          "DeSoto",
          "Fremont",
          "Goochland",
          "Gallatin",
          "Polk",
          "Burlington",
          "Coos",
          "Bowie",
          "Seminole",
          "White Pine",
          "Crisp",
          "Madison",
          "Johnson",
          "Wayne",
          "Lapeer",
          "Claiborne",
          "Carroll",
          "Marion",
          "Randolph",
          "Lane",
          "Box Butte",
          "Graves",
          "Socorro",
          "Ashtabula",
          "Jefferson",
          "Stevens",
          "Sevier",
          "Jones",
          "Winchester",
          "Lawrence",
          "Kennebec",
          "Mason",
          "Donley",
          "Dillingham",
          "Garvin",
          "Emery",
          "Cherokee",
          "Marshall",
          "Dodge",
          "Madera",
          "Golden Valley",
          "Somerset",
          "Stanton",
          "Greensville",
          "Lewis",
          "Kent",
          "Luna",
          "Brookings",
          "McKinley",
          "Piscataquis",
          "Montgomery",
          "Arenac",
          "Grays Harbor",
          "Haskell",
          "Upshur",
          "Holmes",
          "Osceola",
          "Richland",
          "Sheridan",
          "Dallas",
          "Chenango",
          "Lycoming",
          "Jefferson",
          "Treasure",
          "Meade",
          "El Paso",
          "Prairie",
          "Franklin",
          "Menifee",
          "Charlevoix",
          "Warren",
          "Knox",
          "Lee",
          "Whitley",
          "Union",
          "Arapahoe",
          "Aroostook",
          "Jefferson Davis",
          "Fayette",
          "Knox",
          "Washington",
          "Windham",
          "Salem",
          "Montgomery",
          "Catron",
          "Menominee",
          "Steuben",
          "Columbia",
          "Delta",
          "Vinton",
          "Hart",
          "Montgomery",
          "Ontonagon",
          "Benton",
          "Indiana",
          "Harrison",
          "Cabarrus",
          "Okeechobee",
          "Jefferson",
          "Wright",
          "Vermillion",
          "Napa",
          "Cass",
          "Gogebic",
          "Maricopa",
          "Menard",
          "Lunenburg",
          "Pima",
          "Wayne",
          "Geary",
          "Frederick",
          "Solano",
          "Barton",
          "Simpson",
          "Stone",
          "Bollinger",
          "Bleckley",
          "Butler",
          "Rankin",
          "Wayne",
          "Mahaska",
          "Henry",
          "McMinn",
          "Pontotoc",
          "Los Alamos",
          "Middlesex",
          "Nacogdoches",
          "Dougherty",
          "Choctaw",
          "Ford",
          "Holmes",
          "Anson",
          "Haines",
          "Winn",
          "Blair",
          "Cassia",
          "Lander",
          "Montgomery",
          "Crow Wing",
          "Ripley",
          "Tyrrell",
          "Brown",
          "Audubon",
          "Pittsburg",
          "Adair",
          "Leslie",
          "St. Louis",
          "Lorain",
          "Robertson",
          "Macomb",
          "Blaine",
          "Cooper",
          "Randolph",
          "Murray",
          "Calhoun",
          "Butte",
          "Pine",
          "Bienville",
          "Walker",
          "Butler",
          "Callaway",
          "Taylor",
          "Fallon",
          "Cumberland",
          "Clay",
          "Allendale",
          "Grenada",
          "Nelson",
          "Clay",
          "Kimble",
          "Midland",
          "Hardin",
          "Santa Fe",
          "Somervell",
          "Richardson",
          "McNairy",
          "Franklin",
          "Jasper",
          "Faulk",
          "Rockingham",
          "Jefferson",
          "Lampasas",
          "Frontier",
          "Sebastian",
          "San Patricio",
          "St. Charles"
         ],
         "lat": [
          41.001938375,
          38.4207190191,
          40.1764332141,
          28.4225359982,
          41.7723266607,
          44.7600579518,
          43.3567673364,
          26.6475645688,
          44.4964021427,
          44.8582538926,
          40.1762352358,
          37.5728931402,
          28.8475696914,
          33.6199254931,
          42.6684869829,
          39.6255458453,
          45.1523823451,
          44.9694591011,
          35.0175290075,
          44.0221236545,
          45.8441976984,
          40.1763469163,
          45.5167568769,
          48.0693970137,
          41.334373461,
          40.9912143554,
          37.7065960005,
          43.1851621531,
          32.7407276994,
          30.2584988738,
          29.8116835857,
          48.8148829805,
          37.4712716191,
          32.3570482149,
          43.2394623005,
          33.6102061227,
          29.5812415277,
          32.9695357353,
          47.6206643185,
          37.4055150245,
          30.6143960313,
          36.388599579,
          35.8392646425,
          40.4562312432,
          40.2875173476,
          36.4082132934,
          37.8552256175,
          35.3428473738,
          38.6998727176,
          36.0794717315,
          33.2808768859,
          40.4850679408,
          36.5831912624,
          38.7140255919,
          42.3362603021,
          27.0315726438,
          41.0331711391,
          44.3370929481,
          42.4930987798,
          31.7492803518,
          31.8369546469,
          45.0223609495,
          30.4160496685,
          45.8738054472,
          45.4883821256,
          33.2970283837,
          28.3513711091,
          40.0028993432,
          42.6684852128,
          29.17400609,
          40.7497715932,
          35.4688611107,
          44.45533124,
          33.9414815247,
          39.6890538531,
          31.9906857305,
          41.2197790932,
          38.0432184802,
          37.4173108862,
          43.0057953643,
          39.6481383656,
          40.9193457751,
          38.2917014586,
          39.5236921944,
          32.7885605367,
          40.2738181301,
          40.478908401,
          39.7817096805,
          31.5094655501,
          42.7705180974,
          33.4664224376,
          48.7668933923,
          43.2079070509,
          32.7362765372,
          35.2247812957,
          38.5120104943,
          36.434424701,
          38.1849543372,
          42.7669066527,
          27.7610624301,
          35.2021778635,
          26.1513412689,
          35.664936694,
          27.9062278359,
          42.5449323085,
          36.6803610038,
          40.1763796295,
          40.7715207081,
          41.9103521337,
          37.5023005833,
          45.151770859,
          40.8759049641,
          42.4557108473,
          34.4643197803,
          32.7545579307,
          39.0855054887,
          28.5144162588,
          33.6268085539,
          33.6146250309,
          36.730988911,
          37.2442933233,
          41.3307142217,
          31.2547645833,
          41.4041459264,
          40.3886187334,
          42.9436523662,
          36.4177312434,
          44.3586271805,
          39.5864284092,
          37.2377526609,
          37.4817063904,
          42.3513950817,
          36.0753604529,
          38.3588724365,
          34.8340257189,
          30.2677218795,
          39.6278256159,
          36.7470190976,
          46.326849228,
          33.4139430365,
          56.2936264549,
          37.8857349436,
          41.6850925934,
          39.0850981086,
          42.9193314277,
          38.5347120041,
          35.6886045558,
          36.7152338187,
          28.7425901306,
          34.9915361594,
          36.5129154065,
          44.5886036159,
          39.6199484364,
          39.1368391026,
          38.9941571642,
          38.4947373058,
          41.2044899818,
          35.5381064958,
          47.5095252347,
          38.6832973547,
          39.8235499831,
          37.2035472717,
          48.0460953466,
          40.2396222297,
          46.4570264297,
          32.211900087,
          41.6426062358,
          32.5687919024,
          39.3076165956,
          32.7715559666,
          32.4063798664,
          38.6890898846,
          40.8699361138,
          47.2635798565,
          36.6057058971,
          46.4044620332,
          44.3383668115,
          36.843740372,
          45.5614793413,
          32.5637166985,
          39.8659324961,
          42.0425663561,
          39.3497164186,
          39.6557509891,
          36.7306482485,
          36.7581801263,
          36.2778878907,
          32.7864051416,
          44.7891558271,
          44.3714339354,
          39.5364361834,
          44.0816034654,
          46.5514253133,
          55.2245210175,
          43.3091611082,
          22.0110798698,
          33.110112782,
          45.1600224643,
          36.1548497851,
          42.5882192933,
          39.509995074,
          46.4641098796,
          35.912880671,
          36.931457433,
          35.0093341427,
          33.4089633624,
          48.2945125463,
          46.1932195454,
          36.1605336919,
          38.7838065024,
          41.8519557671,
          40.5246661273,
          52.680220089,
          37.2097032695,
          39.8714520053,
          40.1199573141,
          40.6343512879,
          36.8355562279,
          40.7541667046,
          40.7684277475,
          29.2102022904,
          42.325322722,
          39.3054413227,
          36.4549370868,
          38.6678584122,
          35.1199026751,
          48.7189972077,
          31.404399317,
          41.0297829981,
          34.3915831664,
          40.1764658834,
          47.3567862566,
          41.9161186535,
          38.6956276543,
          35.1549608138,
          30.8746728358,
          40.0046824769,
          40.3307738015,
          41.6350590585,
          47.1175406772,
          35.8135384798,
          33.1304910055,
          41.7159996542,
          37.1500572155,
          33.2937873448,
          48.7209967429,
          34.9747567032,
          38.5999841735,
          43.4633261176,
          38.9958676803,
          36.0772896934,
          37.805131267,
          37.2650404186,
          42.5831156958,
          41.916402826,
          33.2690858673,
          34.263162689,
          42.3911118186,
          38.5086167769,
          32.3583825945,
          35.9530379334,
          38.4813047182,
          36.0360299243,
          47.1224429081,
          36.3920428566,
          26.1518560378,
          32.3270730707,
          41.1166208296,
          40.7352022993,
          41.1281451272,
          44.0663458318,
          38.5388085859,
          36.835513749,
          35.486983815,
          34.6519495513,
          39.2059705721,
          34.5767017575,
          43.9049970086,
          48.2452683995,
          31.3687302289,
          37.7597150131,
          39.6302838888,
          34.965857001,
          39.1424974869,
          30.4060343343,
          44.3695852597,
          34.0724245507,
          44.4888787662,
          35.4012758182,
          36.2927208493,
          40.7321421632,
          36.0766050343,
          44.8895880248,
          38.0276014047,
          40.1332239754,
          37.3785013178,
          41.3488242868,
          42.6712233677,
          43.4913425333,
          35.7639016515,
          33.8922415035,
          34.5303849906,
          38.7787375794,
          36.4449435708,
          48.77230295,
          28.8678175883,
          43.2974962568,
          32.3968141786,
          34.2254421511,
          30.7882970504,
          32.0784621843,
          34.901372384,
          36.8590007836,
          33.6745577167,
          35.8938381553,
          39.9735467174,
          43.9891394613,
          47.3529575649,
          42.1212370657,
          31.4318270699,
          40.887287897,
          34.8633405971,
          38.0228983556,
          31.9736926021,
          32.8624049426,
          33.616489499,
          45.934046167,
          37.5073151069,
          42.9152915059,
          27.7350347565,
          42.7110535518,
          34.5998564246,
          40.8620042241,
          40.2106416142,
          32.7463149294,
          37.2355230437,
          43.9906739447,
          34.6866819092,
          40.9596717781,
          38.3243487435,
          38.7199480156,
          40.1400890018,
          36.1210986495,
          39.7659588693,
          41.4839220534,
          38.9240617743,
          34.2799867489,
          44.0272987421,
          37.2006875346,
          30.4634147938,
          36.7018432696,
          39.6017802193,
          40.2993893945,
          32.3644009947,
          42.59926192,
          39.8931762515,
          38.7478811299,
          41.6846965026,
          36.2171519061,
          33.6076426857,
          32.1623552365,
          38.9532912889,
          39.4688295112,
          44.1106889273,
          35.7025721296,
          30.0614838052,
          33.9207998598,
          30.7817272016,
          47.6743566297,
          30.6607989734,
          36.0827733527,
          46.5982240782,
          36.6827726796,
          42.2847454761,
          38.803961942,
          36.55115711,
          37.2157922672,
          25.6089674858,
          37.6047919172,
          29.8767867938,
          30.2145304261,
          41.4368044101,
          39.3335754723,
          42.470095744,
          41.4673285687,
          40.582858561,
          40.0076360466,
          43.9784278928,
          43.3538854014,
          34.2376620909,
          36.6493218817,
          43.7229327365,
          41.2698430321,
          39.8059654072,
          44.7462263534,
          33.544295273,
          34.2898117968,
          43.0089657475,
          41.5183294763,
          63.6716419513,
          37.3664545067,
          37.8315338847,
          38.5635832261,
          38.701685538,
          30.7093956955,
          37.5181798892,
          42.7582365339,
          37.6924814699,
          45.5190279208,
          41.0301399961,
          29.4711426482,
          33.0922652469,
          42.9883723478,
          33.438991479,
          33.6041424405,
          35.2875866253,
          40.8681663764,
          34.6621223951,
          41.5898335739,
          35.9503879058,
          45.4439531217,
          43.6747378332,
          32.2322990847,
          37.0191301368,
          31.0536324937,
          31.7163847519,
          39.1692979289,
          41.3239160959,
          30.8678906078,
          30.4628875802,
          35.7040584995,
          33.9046109451,
          40.5241957601,
          36.6547348009,
          32.1733642109,
          32.7531803783,
          36.7497076523,
          36.220156659,
          37.8144890524,
          35.1405167444,
          36.1695295563,
          44.0387746178,
          40.1636345517,
          42.3029409617,
          36.97522315,
          33.6556666121,
          28.3450693013,
          43.3804969625,
          33.2409810885,
          47.3252360192,
          37.7071366717,
          38.0039134141,
          36.3804933554,
          36.5584092548,
          46.4662809401,
          45.7663736363,
          41.1238795774,
          32.2976557,
          43.2899298863,
          41.5926866339,
          34.8753989481,
          36.2721371509,
          30.2035444978,
          37.378523092,
          37.7851065199,
          40.4487493593,
          29.9086211231,
          30.7863091928,
          38.1449736906,
          40.8122907682,
          35.8400259506,
          37.6847615589,
          40.5400113655,
          38.0805527548,
          33.7855310388,
          29.4567333341,
          30.1477719789,
          29.0634475051,
          34.4858849277,
          40.8292399575,
          41.3248489608,
          43.6739971693,
          44.1658484298,
          42.6864089427,
          43.4638832499,
          36.9338705281,
          38.8184535854,
          38.4493208547,
          38.204606803,
          43.940666315,
          35.8032506791,
          42.6337635679,
          38.5188144389,
          36.0509841883,
          38.4021560325,
          37.5294416201,
          37.5294416201,
          37.5294416201,
          37.5294416201,
          37.5294416201,
          37.5294416201,
          37.5294416201,
          37.5294416201,
          37.9370590546,
          37.9370590546,
          37.9370590546,
          37.9370590546,
          37.9370590546,
          37.9370590546,
          37.9370590546,
          37.9370590546,
          30.2067729534,
          33.2334606021,
          39.5628541642,
          47.7764366569,
          47.4541905541,
          39.3524140547,
          32.8797230696,
          37.1228911509,
          39.3128100483,
          46.2974982725,
          38.482169359,
          34.7794159964,
          37.8311453235,
          39.6914804501,
          29.583050959,
          48.162897037,
          40.7532343253,
          41.0580656247,
          35.9199743544,
          48.3000250033,
          34.9036574214,
          43.2165580516,
          48.3436752481,
          44.4144805031,
          47.0235840907,
          33.5908249244,
          46.3324239679,
          37.2804061385,
          33.9617197861,
          48.5323201664,
          38.0586888264,
          48.5424784918,
          31.4561406891,
          43.2927326789,
          36.3683942057,
          37.6096118283,
          37.9407856984,
          40.5871850985,
          39.177573113,
          40.3113452381,
          45.7721844848,
          36.1772228503,
          32.0931465237,
          33.1782312871,
          35.9193387894,
          29.8468719706,
          32.4299283238,
          44.4123213669,
          31.6766595802,
          30.9149468971,
          42.7356225783,
          34.7806229431,
          31.8673305599,
          41.7924983178,
          69.3634118461,
          43.997787332,
          37.2691767895,
          31.8691725205,
          35.8989479924,
          34.0685270235,
          38.0335228018,
          37.191593361,
          42.3558758962,
          44.7162390791,
          38.8665005829,
          35.6883600988,
          34.3951111298,
          39.9710617874,
          32.74369415,
          39.7834476063,
          38.446389504,
          34.6466183905,
          37.2381964095,
          48.2591824926,
          45.367151587,
          40.7456599313,
          30.6484687349,
          31.8133256702,
          38.0267183008,
          45.1719349421,
          40.31072723,
          48.7751394251,
          35.8598655553,
          39.580876381,
          41.4353818043,
          39.7847564917,
          39.6203734727,
          38.4561871377,
          35.4855950234,
          32.1217203314,
          40.3469033297,
          29.7258227162,
          36.6953299477,
          38.3642764332,
          35.0483629463,
          48.2279328059,
          36.628673995,
          29.3502075785,
          32.6016373737,
          35.4050346181,
          26.9564459351,
          38.2462130511,
          34.3669621021,
          40.597165174,
          38.297620662,
          40.2938389348,
          28.9057389627,
          39.6441138538,
          43.560975208,
          45.8991791693,
          31.5291972743,
          27.4267108244,
          40.4162956557,
          42.3706766098,
          35.3341018022,
          41.6848582046,
          36.3965102811,
          33.9879970441,
          35.151021226,
          37.872051318,
          35.2021508952,
          37.2372753377,
          34.6463905658,
          41.6715248584,
          64.8077661564,
          34.0244909939,
          45.2732429118,
          38.3694102763,
          40.5548298977,
          40.5310649083,
          43.6407681919,
          34.5292014575,
          36.9935767676,
          40.7476890807,
          29.2822055783,
          37.8246250522,
          41.9127594294,
          32.7428202205,
          31.5492717947,
          42.3838803185,
          33.7722424167,
          42.9845979293,
          31.3942193486,
          41.244097338,
          30.3323725105,
          42.781081385,
          38.6807283768,
          45.4052565917,
          37.31730701,
          34.7699753373,
          34.0266235144,
          46.2298432372,
          33.1814152277,
          47.8371764984,
          36.3672994836,
          39.1451918976,
          41.0220807271,
          31.1551977348,
          38.3994422236,
          47.1152751471,
          43.5800235908,
          19.6023968175,
          47.7152823036,
          33.8995497978,
          47.1471983625,
          39.6662617907,
          33.7819451825,
          33.2878507429,
          48.2496100861,
          34.5721889489,
          37.2380515699,
          43.6406015599,
          36.059057801,
          42.1709806276,
          46.9296269068,
          34.2656450828,
          32.3014720068,
          43.3775677756,
          27.0007781554,
          38.3595724655,
          35.5272807264,
          36.7777632303,
          41.6733545588,
          36.5946453006,
          46.022994757,
          40.7841735523,
          30.8897820069,
          33.0765357599,
          43.8201324535,
          35.1293327482,
          37.1169121603,
          43.0405280973,
          45.9380407246,
          38.8279397207,
          44.061546541,
          46.0424798151,
          33.5827978515,
          48.7910039093,
          29.0820812942,
          57.1797757863,
          39.5624202546,
          65.5086521548,
          35.3995733714,
          40.6485010044,
          40.5067072585,
          37.4012086268,
          37.5630613882,
          39.3438351886,
          30.8450707709,
          39.3803407733,
          41.7886677146,
          38.7123597006,
          39.9167779156,
          37.2784856293,
          37.2784856293,
          37.2784856293,
          37.2784856293,
          37.2784856293,
          37.2784856293,
          37.2784856293,
          37.2784856293,
          37.2692738291,
          37.2692738291,
          37.2692738291,
          37.2692738291,
          37.2692738291,
          37.2692738291,
          37.2692738291,
          37.2692738291,
          36.2932966258,
          28.7169755783,
          43.6748244159,
          44.7666370786,
          39.2835296916,
          37.7302529228,
          39.8736400746,
          29.8572816038,
          48.1102917179,
          34.42829125,
          39.1363621482,
          31.7924089362,
          44.6718744229,
          41.0277303995,
          36.8532163803,
          37.5121196812,
          34.6182874723,
          39.9724398254,
          33.3596322314,
          46.5857615606,
          35.8070259189,
          46.2527089623,
          42.3862603643,
          43.0599208476,
          36.8556222182,
          35.2943489527,
          37.29992674,
          38.3471428738,
          38.4794187776,
          40.7872147845,
          39.9168074106,
          37.5591374435,
          32.7921493696,
          39.9274146651,
          41.177009812,
          44.6836111689,
          31.1988711407,
          36.7740135585,
          35.2079371348,
          41.9159125951,
          36.6660406992,
          41.0343060095,
          35.0217248029,
          36.9655811681,
          46.0607701736,
          47.6396466034,
          30.0686436991,
          30.5794688821,
          32.4042861987,
          43.6250870279,
          37.7381978567,
          34.8641146532,
          35.0571811284,
          46.291133814,
          40.5111130544,
          33.5938097958,
          39.7880806129,
          55.4885148595,
          35.7933524917,
          41.7721614458,
          41.4068465707,
          38.8868296401,
          32.0016607751,
          37.764043073,
          42.4321558891,
          41.5490215572,
          39.0026980674,
          41.60179891,
          43.3773984485,
          39.1034546659,
          37.9922926916,
          32.9143722298,
          36.1408328072,
          48.792167798,
          44.0071075264,
          33.9972551652,
          61.1482627033,
          40.8553982409,
          45.0073838126,
          42.2484873981,
          30.7687104974,
          38.9334528592,
          36.4411634364,
          45.7055576976,
          32.7325534614,
          37.7201835062,
          32.3790131031,
          41.0469632989,
          32.3572296163,
          34.316890097,
          39.599307179,
          42.1351123414,
          43.3779847631,
          38.7386464353,
          46.6354343394,
          38.1178916805,
          39.1511464297,
          31.8796370864,
          29.9499595746,
          31.2308171304,
          37.731927576,
          46.096820597,
          30.7712321484,
          36.0105961,
          32.7014650504,
          34.6778362856,
          38.0287775598,
          42.4212881344,
          36.9171118758,
          30.7390448597,
          32.1721824488,
          45.6673207505,
          40.261929702,
          40.6673139262,
          41.8064287933,
          40.5247823592,
          41.4252272843,
          37.0760435997,
          35.4011632567,
          35.5992402368,
          43.4292261998,
          33.0862934726,
          41.2809264377,
          45.0170541432,
          48.0662320513,
          32.7399038738,
          41.3070676864,
          32.3062117521,
          37.7825305611,
          35.4849957203,
          37.8110307874,
          40.1763448561,
          37.886670206,
          46.856415378,
          34.2291655931,
          30.2242399397,
          33.1774899421,
          35.2622207059,
          40.3607737937,
          46.456154939,
          35.5128264241,
          43.0825803991,
          37.258049088,
          40.6127008036,
          43.0815577125,
          30.722983086,
          40.7246687188,
          34.876034515,
          39.4553161933,
          40.4835856225,
          36.8941807353,
          44.3428004034,
          36.7479021665,
          33.3217673671,
          35.6542570602,
          38.1753645383,
          35.4968698745,
          32.4804706054,
          38.8717218127,
          41.3617078714,
          42.2847872565,
          29.3843544458,
          39.7515988537,
          48.4820761134,
          32.9986442965,
          45.7086008724,
          38.5196362585,
          43.6714440477,
          38.3355978163,
          34.6397559581,
          33.6130681109,
          33.4828592099,
          41.1987931574,
          31.1968761426,
          45.0311075069,
          36.8012652397,
          35.926348429,
          40.4154405354,
          41.9135060744,
          31.0376717131,
          34.1759559677,
          41.8881456263,
          43.9117268938,
          43.2041300298,
          41.6828527455,
          42.4279491681,
          37.4127561973,
          43.4433116085,
          38.0374914786,
          31.7524339429,
          34.5383440862,
          33.1791243873,
          38.525292575,
          31.3661921291,
          37.555148813,
          38.311825371,
          40.8507725735,
          40.3876548763,
          38.0423815985,
          41.0933920308,
          46.9346483657,
          44.6817581821,
          43.5800915709,
          36.6777445035,
          47.4561506138,
          44.4760263134,
          40.1580424715,
          41.9143570712,
          31.1888694049,
          42.3518291045,
          34.0740947769,
          42.1581860579,
          36.712180279,
          36.8212977305,
          42.2532253491,
          39.1847403436,
          38.6866603948,
          39.9199582772,
          36.3116475219,
          46.4087959622,
          45.7711313958,
          32.3484295414,
          35.1469781265,
          47.5231709536,
          41.6167180092,
          37.478191684,
          43.4511000415,
          42.1174762417,
          45.6296435561,
          35.2030564629,
          45.0387533824,
          35.0219948491,
          31.1743965268,
          41.6855048252,
          36.6291866782,
          35.1338574515,
          39.2691704778,
          40.1257361849,
          36.6211012796,
          41.3366123482,
          33.7902830104,
          30.9655385978,
          43.7180195308,
          47.7401606201,
          45.4905020909,
          31.4076037932,
          43.6739283199,
          30.2249615668,
          37.5571191153,
          32.5554592715,
          41.8145746206,
          33.7293704444,
          42.2454540023,
          38.0443048231,
          40.1245363517,
          41.0305845373,
          36.422718944,
          45.2326671224,
          36.7204000351,
          41.1461539274,
          34.1634980417,
          39.0182904955,
          39.1993345198,
          38.7282893735,
          37.7516108062,
          47.5776534848,
          37.0216059108,
          30.2663768834,
          39.2045833383,
          31.4026271796,
          45.5138551635,
          30.3002128386,
          45.3006916099,
          59.5599920529,
          34.6911781057,
          43.4266633846,
          37.3133053,
          30.6266523214,
          44.1421798372,
          31.7768809864,
          44.8235439383,
          46.5777681751,
          38.9166611398,
          42.1810916537,
          32.8531388427,
          43.0820642869,
          44.0225894661,
          43.6738441803,
          41.7734492735,
          39.0597819407,
          41.3338851661,
          47.3091802574,
          38.9906151273,
          33.1768244406,
          34.5881997167,
          41.1976566629,
          41.8954290221,
          34.1538305575,
          40.6735903894,
          40.1376743616,
          29.9446888715,
          46.2850391756,
          29.9047257308,
          55.7271705274,
          44.491500684,
          34.9125779857,
          46.9801017563,
          40.7058005707,
          46.4472370802,
          32.5910175308,
          37.5380074268,
          30.0581505603,
          36.9919552301,
          36.9919552301,
          36.9919552301,
          36.9919552301,
          36.9919552301,
          36.9919552301,
          36.9919552301,
          36.9919552301,
          36.6830914867,
          36.6830914867,
          36.6830914867,
          36.6830914867,
          36.6830914867,
          36.6830914867,
          36.6830914867,
          36.6830914867,
          40.495294012,
          35.9025835959,
          41.5973844823,
          36.0408188808,
          38.9160955531,
          39.2507169303,
          31.8500445654,
          43.6942207429,
          30.0262964539,
          38.8785834577,
          34.9648839235,
          33.2158995718,
          33.0251331683,
          42.6800090555,
          31.1986202778,
          37.8771285847,
          46.3570765653,
          39.6224801785,
          37.8213415755,
          34.316508267,
          38.688812974,
          45.8484671945,
          46.2646373267,
          46.6737194276,
          43.1933721852,
          43.3108677533,
          43.2417469044,
          42.1330537308,
          46.2398610144,
          29.6774585804,
          37.7649390453,
          43.0321563061,
          37.9347459676,
          39.7172646082,
          40.7374323606,
          38.6495781117,
          41.6370978319,
          41.5778862866,
          29.1678318425,
          31.6022829517,
          38.6327516348,
          35.7496106399,
          42.3897291621,
          30.0438391148,
          34.8817246173,
          57.6602871351,
          38.2154382436,
          33.665806061,
          36.3387382969,
          32.2883800156,
          33.9622404194,
          32.4783131468,
          33.0395904342,
          34.0686230903,
          44.4524547726,
          44.0229951536,
          46.8161762124,
          47.6459064305,
          37.1933028033,
          30.8636815475,
          34.6892815822,
          45.7791445679,
          38.696627674,
          31.482942855,
          30.4401362441,
          39.3297243092,
          39.0996453445,
          31.5536748311,
          40.9318279821,
          38.4820845404,
          42.3243507876,
          41.1115978115,
          33.5894557062,
          33.5543385118,
          34.854520662,
          40.8181139287,
          31.6225588057,
          44.034587103,
          35.6169396312,
          27.7313380332,
          39.416820119,
          32.6131446771,
          39.7821029111,
          33.5419006063,
          44.995486929,
          44.3191504404,
          42.4300205961,
          38.7568746647,
          38.2067299514,
          40.0103527451,
          41.0317620678,
          37.3623265574,
          42.285105582,
          35.7347792105,
          34.5031701949,
          27.3433797347,
          41.8506075383,
          43.3877423794,
          37.2641094188,
          44.9804118511,
          35.048611942,
          44.7155640273,
          42.5785041032,
          42.948534903,
          38.7469030854,
          46.8106825848,
          40.7637666014,
          29.8093893174,
          36.2062757623,
          41.9957776876,
          45.0275448913,
          38.4703210348,
          29.9826329444,
          38.0815539776,
          41.6594961424,
          35.8307887047,
          33.3800616097,
          42.9537338684,
          37.1923179509,
          30.6609696648,
          32.699486303,
          34.4442980744,
          39.7415270637,
          37.9027017254,
          33.701828378,
          36.0611182361,
          41.4266615572,
          31.9479781068,
          37.8944043802,
          41.220590588,
          30.6480415096,
          44.8982857088,
          48.8296158722,
          36.3085986469,
          40.0968997041,
          35.2687044015,
          46.191800961,
          43.3822824324,
          45.0214343278,
          44.7162497148,
          37.5216171391,
          34.0800586214,
          42.0365026335,
          35.5932989746,
          41.6860388529,
          30.3106777835,
          37.6504930265,
          39.3509686024,
          39.132537495,
          35.1839946708,
          37.4608189464,
          44.5204732898,
          42.4707837931,
          48.7766295653,
          38.4237395729,
          35.5964202026,
          32.4636565938,
          40.7741618671,
          33.9698311293,
          38.299192601,
          33.6166121137,
          44.58291654,
          37.5582639151,
          35.8400259746,
          29.8929601366,
          43.0004744491,
          29.6747549911,
          40.3369482878,
          48.7050337785,
          30.6929040291,
          37.3651781719,
          40.7695040098,
          37.5291899516,
          45.5919771895,
          27.6963908471,
          41.3319875239,
          39.3502287543,
          34.225546386,
          44.0234449525,
          35.0169370912,
          45.0043671834,
          34.7154580153,
          45.0326297438,
          38.0270346749,
          36.3790614615,
          41.8950837577,
          38.385163021,
          39.7845831125,
          39.2965532011,
          32.7626642246,
          32.8977580696,
          44.2411163796,
          47.108629802,
          40.5240610865,
          35.5137978753,
          44.7091742748,
          34.3575285169,
          42.3851848526,
          41.0001918546,
          46.6997094485,
          44.5267152135,
          48.2217054336,
          34.7684002341,
          37.5815223099,
          44.6484737252,
          35.2172743542,
          41.3012406125,
          33.214771,
          41.8935293191,
          35.8375699223,
          36.341483312,
          33.7942334247,
          35.9210263138,
          35.4217523265,
          40.7394701918,
          47.9216811843,
          41.3021937169,
          38.0874875679,
          43.7535894574,
          44.5059941907,
          34.5301133129,
          38.9147788411,
          32.4177916678,
          34.1492251125,
          33.9746150928,
          34.8414378315,
          41.2953518815,
          38.8530983407,
          38.8530983407,
          38.8530983407,
          38.8530983407,
          38.8530983407,
          38.8530983407,
          38.8530983407,
          38.8530983407,
          38.8345659231,
          38.8345659231,
          38.8345659231,
          38.8345659231,
          38.8345659231,
          38.8345659231,
          38.8345659231,
          38.8345659231,
          38.0423302608,
          35.2066555213,
          60.1194076421,
          44.7267746477,
          40.8915578871,
          32.7425260993,
          61.4170040809,
          43.8958184046,
          32.7134544164,
          39.2690076722,
          38.781907067,
          32.1567629596,
          31.8694627053,
          47.457077544,
          41.1690382608,
          45.2115438874,
          31.1749078562,
          40.7882358798,
          40.1208707645,
          33.1912219797,
          41.9149937091,
          36.7617766621,
          33.1235953208,
          36.1611646374,
          43.0208142456,
          37.0759383564,
          33.5505241007,
          40.3850195156,
          35.4654508069,
          39.3503339996,
          40.7455891853,
          35.2467670437,
          37.191870471,
          36.2983026796,
          34.453472028,
          44.7968254915,
          40.8571485251,
          38.4736812339,
          33.8983618624,
          37.887648789,
          33.3633180669,
          45.394991781,
          40.4403578768,
          35.0513554263,
          39.5767751714,
          28.300314142,
          30.2413631478,
          40.1616556187,
          38.4326851414,
          42.383771317,
          41.7055177405,
          32.5966480504,
          39.090675859,
          35.9672502839,
          37.5525344711,
          32.458996427,
          45.7916364577,
          37.1453332323,
          37.3222824489,
          37.9698391666,
          40.8492096503,
          40.8509414055,
          45.5798653729,
          37.1502697208,
          34.6920572921,
          36.2151963075,
          42.2573913511,
          34.3754273152,
          38.4418035091,
          39.8537998099,
          46.6082572906,
          31.5523801522,
          36.4694088387,
          33.7815571316,
          44.0056617687,
          39.3069999343,
          37.7877775498,
          43.6746303972,
          38.9340476576,
          36.9325975948,
          35.9109060184,
          33.4941024198,
          33.1495558982,
          34.1153249768,
          43.4197021208,
          36.2878738806,
          46.7007124229,
          41.2340543656,
          46.0528985901,
          42.0789535271,
          32.5099583696,
          39.5317400033,
          36.906729139,
          43.3684799638,
          36.5011043566,
          39.9798357499,
          40.2627443761,
          36.1306195485,
          41.4461591184,
          39.7847320849,
          35.8752484216,
          47.1242661519,
          29.99980267,
          39.349716037,
          32.5349201866,
          48.5487141288,
          39.5288947088,
          38.47719455,
          44.4160919594,
          35.5884840734,
          41.047767486,
          33.0775359877,
          34.650325267,
          41.3531364976,
          44.6458436266,
          39.3561681629,
          31.1082936995,
          36.7244585691,
          33.9364500127,
          46.3170555846,
          45.4493130951,
          41.7164225715,
          35.4751864248,
          39.0453280683,
          33.6542354352,
          41.8515631921,
          31.8696032448,
          44.3542643029,
          34.9167055034,
          39.4652776369,
          47.7361089311,
          31.8885309869,
          34.1815553357,
          38.2158624014,
          34.6404621514,
          38.3020458533,
          32.013224335,
          39.178267375,
          38.3570143624,
          43.3350287366,
          37.7064741502,
          31.4470737521,
          31.929800968,
          43.3785703546,
          37.7531363894,
          37.7732676848,
          40.0158001655,
          43.6743620902,
          41.7562548803,
          31.7686268414,
          34.2514096075,
          31.1610674632,
          30.8797727288,
          39.7027072964,
          34.4855798533,
          39.7977760151,
          33.172974606,
          33.6023128883,
          34.4750152607,
          38.0325101344,
          46.9915439408,
          35.447636026,
          46.1484599385,
          36.1184426301,
          40.1894007554,
          47.350535135,
          47.0365253041,
          41.6837548102,
          31.2132418055,
          43.1923769434,
          33.2660636336,
          34.0452544,
          44.3798321501,
          41.1175705357,
          46.5347308489,
          41.226077466,
          34.9649255862,
          32.2476134122,
          34.4597729557,
          44.8575139984,
          28.3215753001,
          40.737682711,
          37.2088402055,
          39.6214732187,
          38.5417788857,
          42.7341351105,
          34.0509558643,
          30.8974526088,
          37.6477353374,
          37.7186360945,
          39.2733468255,
          38.6850699523,
          35.6161390425,
          32.777645813,
          31.752584831,
          41.9144142466,
          40.6598994131,
          41.7651474406,
          43.7189289965,
          31.4951939674,
          31.3431998626,
          43.5938619334,
          36.3019098987,
          43.411940562,
          39.7621646287,
          36.4912704378,
          34.2902311647,
          37.9616839121,
          39.9879052609,
          34.3325069471,
          44.1131203121,
          58.4439351761,
          42.7197222221,
          44.3349392585,
          27.6813329888,
          42.6604993637,
          34.1365496957,
          36.8569745004,
          37.0116206611,
          47.5875228967,
          40.2783937765,
          35.4035078706,
          33.0611535027,
          42.8542597176,
          37.731772508,
          36.6867158656,
          43.6446171312,
          32.1005542205,
          42.5950071515,
          39.9731414157,
          38.8295152487,
          41.0146401139,
          40.5623281403,
          48.771256978,
          44.3039525837,
          38.2122718972,
          33.5580341574,
          38.1554971802,
          36.4968580761,
          47.6069508739,
          32.325973709,
          35.7051457145,
          36.3318375802,
          40.5158445871,
          34.5539435236,
          33.6392003476,
          26.5756896561,
          38.8583044048,
          37.3088201365,
          32.9326627045,
          46.9653297577,
          31.9728932009,
          44.0067583131,
          31.3264967359,
          36.3582326717,
          47.726661247,
          45.2273857114,
          45.8627174808,
          34.5150997489,
          41.2249600832,
          36.9233401324,
          43.8404850615,
          31.8055957772,
          32.7979817888,
          40.4379183725,
          37.6558723241,
          34.5216520166,
          36.2776668644,
          39.0580193147,
          28.8935249788,
          33.8349402867,
          30.4441430277,
          40.872385845,
          40.5795915499,
          30.8219752667,
          44.0688768938,
          47.2663787156,
          35.3955080611,
          30.9387779365,
          30.3180548031,
          38.2737274749,
          40.3672314599,
          37.4320425654,
          39.0822408645,
          34.482314169,
          39.0959545402,
          46.0816740437,
          39.7836260546,
          48.3653542741,
          38.9086479451,
          39.6400558465,
          40.8730327985,
          33.0138972496,
          35.9966113202,
          37.1865096844,
          47.7176029342,
          47.0376054401,
          36.7483050997,
          41.397302247,
          39.5984047698,
          43.5179689655,
          33.7353045888,
          40.6822625859,
          35.8839481951,
          42.2638016191,
          30.2292239003,
          46.4965611851,
          44.022011363,
          39.6052632661,
          35.4426448889,
          37.9991525438,
          32.6384656558,
          31.1539910285,
          35.7610127808,
          41.2053450175,
          29.5274926713,
          44.5794783729,
          32.8812700424,
          39.8600027881,
          35.6394734632,
          38.4202968763,
          33.028186394,
          35.6786827093,
          42.4520186799,
          41.590577647,
          42.8625961548,
          31.1720242681,
          45.4299476083,
          31.4574378292,
          57.1140130761,
          38.2145295036,
          39.6597402335,
          45.5024730826,
          36.6061367396,
          37.6846796381,
          38.4137041563,
          38.8837685125,
          43.9868496601,
          37.1596975589,
          38.4226080428,
          48.2345728769,
          34.4835677354,
          36.7669321614,
          45.9024044497,
          34.7441185158,
          33.3534616689,
          41.1514811895,
          38.6064621876,
          42.9311219743,
          44.6057305617,
          37.2850993946,
          45.1231152442,
          27.0816164392,
          44.9985323069,
          40.5148205338,
          34.894336814,
          41.5689031802,
          35.4025956291,
          40.3926315712,
          41.2851032069,
          45.4005123213,
          58.2787538674,
          44.0221214974,
          35.4906159935,
          38.083736798,
          41.8077476122,
          40.6664172232,
          40.6655968327,
          39.0100394517,
          35.154110294,
          30.1516119464,
          31.7597819469,
          38.9464767816,
          29.3374418892,
          35.0481998087,
          34.290293884,
          35.929110866,
          41.3985995057,
          39.3927278538,
          44.3890320927,
          26.5621530438,
          31.8491922008,
          33.6769134328,
          32.7535170026,
          42.7764677574,
          39.6785303915,
          40.661536856,
          44.3373203725,
          46.9401261862,
          33.6164757788,
          26.9280228765,
          29.5003322407,
          38.6130327476,
          39.7843853292,
          44.9380153707,
          36.0697841981,
          37.9781820266,
          39.1609175598,
          41.0293737922,
          45.9337163348,
          41.5602875792,
          34.8056115749,
          33.2608769536,
          42.7325458524,
          41.499810931,
          35.8384916737,
          42.7280755442,
          40.422331371,
          43.4666080487,
          35.4012788062,
          44.734724982,
          30.2905333588,
          41.1259792495,
          36.0412452465,
          43.9246050918,
          45.475142699,
          43.0182145442,
          39.769517371,
          42.8181212402,
          41.5740218741,
          42.3868746602,
          42.267809005,
          41.0229983046,
          43.3348466891,
          43.386924164,
          38.2164999843,
          34.0245101817,
          35.7415534129,
          34.7542368128,
          34.7004337984,
          36.3900951244,
          38.9143249144,
          33.7936596461,
          40.1757608618,
          36.9055088424,
          34.1979978627,
          31.2060330455,
          47.2776387249,
          33.4485258506,
          32.5481331978,
          36.3715618824,
          31.4284974445,
          44.6836233781,
          37.2809053404,
          40.761491497,
          37.5947979696,
          41.5210180281,
          32.8024055204,
          38.326661062,
          41.394264035,
          33.7955389816,
          30.5795335845,
          40.7746843377,
          32.5993157059,
          33.2154016682,
          31.6262755156,
          42.7934613757,
          32.4038815035,
          32.3060301333,
          42.1717425857,
          32.403442782,
          32.9362268304,
          38.0249578597,
          40.4400836596,
          41.7570882119,
          43.3137033973,
          31.9141614433,
          37.3384339705,
          37.7238515313,
          47.3079544484,
          42.6029174357,
          44.0220442699,
          36.3932742158,
          37.3151524068,
          37.3151524068,
          37.3151524068,
          37.3151524068,
          37.3151524068,
          37.3151524068,
          37.3151524068,
          37.3151524068,
          35.9790563044,
          36.7142829107,
          40.5938843197,
          33.4249531354,
          37.5571085124,
          35.5560557128,
          31.5515116745,
          36.7580732628,
          40.1315428804,
          41.1457829623,
          39.020397715,
          35.6388377895,
          39.7371483117,
          37.2914862292,
          41.744942366,
          34.416170665,
          30.7100896074,
          34.6145873342,
          38.7646163949,
          43.9457158153,
          37.6584480026,
          45.5521529589,
          36.4858546341,
          37.4197763873,
          30.5382395947,
          48.6553582885,
          32.2616858077,
          44.2287741072,
          45.0694080018,
          37.1039268916,
          31.0378936572,
          34.3639350883,
          33.2052512262,
          42.037212461,
          30.8419677363,
          31.1639914481,
          30.6528705338,
          45.6690533298,
          42.1412473526,
          37.3840412342,
          41.6194314385,
          39.3359933047,
          29.8870240994,
          37.2243021506,
          27.4927094815,
          39.8644164614,
          36.7371415587,
          39.3739160769,
          38.00019653,
          44.2733844798,
          36.7984746846,
          38.2948490453,
          37.3007843394,
          39.4954650301,
          38.336574821,
          36.7647498967,
          36.3649169333,
          42.0879392632,
          33.0692757535,
          30.458037893,
          36.991034312,
          41.9874357661,
          38.8246749142,
          31.5146944202,
          38.2572922743,
          32.6347102394,
          32.3061694988,
          28.4391092686,
          36.7513165534,
          48.3694560358,
          36.1350244127,
          38.1086779015,
          40.9558477436,
          36.3816695474,
          44.2839056343,
          43.6742397821,
          42.6899047449,
          36.3410829938,
          40.7291866469,
          38.0678786159,
          31.2965068087,
          39.2171057452,
          44.0219511839,
          37.854663265,
          43.8003788931,
          33.9931962064,
          36.2784137139,
          36.3353843636,
          33.2895498464,
          37.5501871513,
          38.8847267106,
          39.9654218536,
          46.1125903386,
          32.7359728732,
          42.2765197661,
          42.080174751,
          36.2574485453,
          39.7858693359,
          33.179875706,
          36.5111268089,
          36.7164170862,
          34.3176480082,
          41.0334522634,
          34.028211563,
          30.7289364182,
          37.9233794475,
          41.5712867683,
          29.3556960535,
          41.855065982,
          37.6689956825,
          38.3189286397,
          38.5972506332,
          30.7810605096,
          35.8478552218,
          28.9542442328,
          41.8300455104,
          40.4409599145,
          44.2483385902,
          35.2957261162,
          33.2642770248,
          38.7718774775,
          45.423382391,
          42.4877134885,
          29.6208209311,
          34.5879709683,
          32.8202181268,
          39.4815483458,
          33.0335103757,
          40.7050090829,
          36.9217518991,
          34.0211833828,
          36.2183807861,
          40.5635069447,
          38.1644265021,
          37.6164789768,
          42.1949698367,
          33.7453078269,
          38.8261607682,
          43.8738459397,
          38.9173365456,
          43.0672901279,
          46.3582866004,
          42.9450938315,
          27.9488714857,
          39.2157556331,
          32.8434261558,
          36.117697723,
          38.448468036,
          41.9147703039,
          37.9469326633,
          37.1257911242,
          36.6180054611,
          41.4450504457,
          34.9660190366,
          39.3105207472,
          40.9231743916,
          39.3280985807,
          30.1036068701,
          37.1106705529,
          39.8702114727,
          33.6206818158,
          31.9739511211,
          47.6452247762,
          34.1632936569,
          42.7023842075,
          36.6826585529,
          39.2610229552,
          38.3005234344,
          39.3503577669,
          39.0345595213,
          32.3750354288,
          47.2056646774,
          28.4173932285,
          46.9833438193,
          37.7846965493,
          33.5550489458,
          40.5672969004,
          36.2611569307,
          43.0837526517,
          33.8033347429,
          32.2202579876,
          34.0388755841,
          40.9629715402,
          41.3356001857,
          36.4285385751,
          48.7837971902,
          43.082617377,
          41.402131202,
          40.102614944,
          40.8423638927,
          41.331487609,
          36.7274816255,
          34.0705125102,
          32.0191127391,
          39.5598830033,
          43.9065519065,
          32.0922715486,
          37.4780954961,
          33.5660908408,
          39.8035392391,
          35.8580358086,
          45.5467908912,
          38.0229965906,
          37.3540523996,
          43.6741733017,
          41.4722121302,
          23.7186403965,
          39.1193028617,
          30.4982930281,
          33.7212061505,
          43.7180588837,
          40.9118486723,
          37.0530460164,
          41.7461054437,
          29.8081801337,
          43.0103267267,
          39.3514336872,
          40.8288491598,
          36.2397743956,
          39.9310397361,
          37.8015772072,
          37.4192050035,
          39.0732871864,
          48.561754652,
          39.9835107818,
          39.4692968709,
          44.4704611746,
          27.9026762041,
          36.2311062795,
          39.0075029241,
          36.5320343549,
          39.0415137637,
          29.8317429384,
          42.9145713002,
          39.1329338744,
          35.695981462,
          40.74316347,
          30.5988510952,
          42.8528477813,
          33.9498610997,
          41.8877674933,
          42.1769034689,
          41.0418321081,
          35.117685821,
          39.1962111616,
          37.1936094363,
          40.9181829168,
          36.1107306366,
          34.9312465729,
          42.3654992437,
          39.0001785652,
          31.5514336788,
          47.8692071189,
          35.2792789622,
          39.9198995806,
          39.785156359,
          32.0554496236,
          48.4701446298,
          35.662042354,
          32.5801941764,
          35.1504672096,
          36.6781704977,
          41.3440027805,
          42.7511742879,
          39.2023794705,
          37.2324840341,
          32.8250434949,
          39.4149780091,
          37.5825228172,
          34.9883574887,
          35.1863303424,
          47.0454432493,
          36.5095802749,
          43.8195818941,
          48.5631854705,
          39.8575436237,
          39.4640664935,
          32.7924711254,
          30.1956117481,
          38.9969300555,
          42.2500701189,
          42.5814260739,
          44.6737588538,
          37.7713611083,
          41.9154003329,
          32.7534965705,
          40.7880635936,
          46.0126176925,
          35.3736416751,
          41.2185070628,
          43.1138468547,
          29.6346233871,
          44.2421397159,
          38.0423908286,
          43.9346374164,
          46.716058182,
          35.611177887,
          34.0807261331,
          35.843213981,
          39.7736200492,
          42.7745872458,
          33.1134825704,
          44.0309090144,
          38.0371780097,
          43.0023986959,
          35.6030197595,
          46.4325011338,
          38.8411628915,
          36.9905417852,
          36.2114502716,
          30.7177158024,
          38.1459486608,
          30.6184688458,
          46.6628779661,
          42.8996847625,
          38.291547316,
          36.4035128143,
          37.286581954,
          46.9482692108,
          37.106351208,
          46.1079382983,
          39.5202961461,
          45.5860205994,
          37.9390693081,
          35.4805846794,
          46.2086670875,
          35.580655379,
          40.3884733432,
          38.6523289215,
          31.3177325566,
          33.347307069,
          37.7627564124,
          38.5984692441,
          42.5950284307,
          36.4019040049,
          39.6419410966,
          46.4573445763,
          39.7694547721,
          36.0948699143,
          38.5054099582,
          39.5276701706,
          33.1755486771,
          31.3228327133,
          32.4002323469,
          43.998861771,
          33.9504748127,
          32.3526480947,
          45.2623443714,
          42.7354936212,
          32.039959396,
          45.4566725027,
          31.8691599476,
          38.4361880571,
          37.8415087294,
          45.589722978,
          38.8846594528,
          31.2532716595,
          36.2859716601,
          36.6565173634,
          35.8386956734,
          39.0196721892,
          32.3859736952,
          43.2853462355,
          44.4852469436,
          37.55848541,
          38.5456646906,
          37.7958423573,
          35.2903672637,
          39.0376284098,
          39.8264989183,
          36.1753512461,
          48.7675154446,
          33.7436800499,
          42.0362414924,
          38.0520825054,
          34.3541370113,
          45.3782690825,
          30.5434714704,
          35.9610853587,
          34.1167932846,
          35.1986760952,
          32.1571759799,
          35.6087114537,
          33.1766957792,
          33.615294221,
          39.3338632113,
          33.8806479609,
          40.6419821705,
          45.5875424692,
          34.900298342,
          44.0763500067,
          35.9876527999,
          41.0279212756,
          43.0009332766,
          40.8727457976,
          36.7419423399,
          34.2900177408,
          31.477145332,
          41.7449210564,
          35.9453881052,
          45.0045756364,
          39.5458317531,
          43.9898287022,
          37.205360404,
          37.8591931317,
          44.9058408356,
          37.2042660125,
          32.8064982238,
          42.4665806561,
          37.4362097341,
          46.9012020299,
          37.8505815921,
          39.2865595002,
          32.8703394239,
          37.5621932698,
          45.4260991444,
          37.6395779036,
          37.8466393565,
          45.1326999641,
          41.6322534258,
          28.5561708513,
          29.7472049939,
          45.8138937581,
          33.2836981018,
          41.8980358084,
          38.3916666453,
          32.6011364841,
          46.9361064669,
          31.599703679,
          44.0037525074,
          40.3984096201,
          39.634170806,
          33.9205455549,
          32.7145016626,
          35.0060483545,
          33.9574736745,
          33.0406559359,
          31.3909114388,
          41.3307464286,
          39.9541358004,
          27.4775188749,
          36.2650187228,
          39.925343626,
          40.7472371326,
          41.6864421928,
          34.8100783219,
          36.6783637366,
          46.4569158173,
          39.4336238198,
          29.8371164017,
          44.4096825746,
          35.4868150519,
          43.1934752745,
          35.8579354045,
          32.0414016703,
          45.1566160513,
          34.8873453574,
          40.3016905964,
          31.2971083422,
          37.5052112298,
          29.3799669428,
          40.813888089,
          41.9388566679,
          34.3387988678,
          36.8596987837,
          37.2072808133,
          32.1170652349,
          45.943781443,
          34.9365348363,
          31.07624372,
          42.5047730204,
          31.3587576021,
          41.3364654753,
          36.2871782318,
          41.8713684138,
          32.5897619047,
          41.1129273435,
          31.1883904668,
          39.3911561848,
          33.7997498678,
          31.2142247537,
          45.4237232587,
          29.6086348479,
          42.2465394718,
          38.6874292494,
          62.3046703274,
          39.008475666,
          33.6756265521,
          39.1123184538,
          31.6407805038,
          42.7378473183,
          39.4469307309,
          33.0884910001,
          33.12869729,
          32.776276295,
          30.8338568988,
          30.7863379319,
          37.3360260406,
          31.7626226688,
          31.8310952481,
          40.0508013832,
          36.3168767363,
          44.47432886,
          38.2785594463,
          35.3639599672,
          40.5609114012,
          40.657513472,
          38.2610713047,
          43.33611095,
          43.2393780072,
          42.0362403729,
          45.4187968009,
          38.9064174884,
          40.468833662,
          46.9792551456,
          42.0798117536,
          30.6105780997,
          34.2439383654,
          40.4525990445,
          41.2200386132,
          45.6803836844,
          38.0874838474,
          44.5628867649,
          34.0218460217,
          42.9710217012,
          36.1265615389,
          37.3191787991,
          31.9004024441,
          42.0687539209,
          47.8716944124,
          41.8213257512,
          42.1980879866,
          40.0424384345,
          38.6357242384,
          38.6357242384,
          38.6357242384,
          38.6357242384,
          38.6357242384,
          38.6357242384,
          38.6357242384,
          38.6357242384,
          38.6406885662,
          38.6406885662,
          38.6406885662,
          38.6406885662,
          38.6406885662,
          38.6406885662,
          38.6406885662,
          38.6406885662,
          37.8777875638,
          40.8456930058,
          41.7224295706,
          44.7194015031,
          34.0017844854,
          38.7440854857,
          39.3009797143,
          39.3009797143,
          39.3009797143,
          39.3009797143,
          39.3009797143,
          39.3009797143,
          39.3009797143,
          39.3009797143,
          39.443072852,
          39.443072852,
          39.443072852,
          39.443072852,
          39.443072852,
          39.443072852,
          39.443072852,
          39.443072852,
          29.8537289242,
          38.1616348912,
          41.5674402954,
          40.072489475,
          33.4729092689,
          40.4727799619,
          46.977452062,
          41.3171740913,
          38.0037403985,
          39.8606128566,
          32.23625867,
          44.9033239855,
          28.0847204066,
          34.935737081,
          39.4147218971,
          38.3521828118,
          34.8607684689,
          37.1913273481,
          36.3592115189,
          28.7614688332,
          41.5088382943,
          39.4970238369,
          40.0534755081,
          44.4134915893,
          39.0363277254,
          33.9022896586,
          44.2944276779,
          42.8447493088,
          30.1290721039,
          38.9880685587,
          33.5933550412,
          36.8180034435,
          39.3932659263,
          39.1135952897,
          38.4625319965,
          39.4306386001,
          40.8460241928,
          32.4714628579,
          41.5680844607,
          45.8799717759,
          40.7309049975,
          31.8278792017,
          39.9838920238,
          34.5741914782,
          36.7315540772,
          40.0944306459,
          36.2777169084,
          37.6243602285,
          45.4614199106,
          37.9763768738,
          38.969864478,
          41.5664861496,
          45.6991358622,
          34.8408848102,
          39.6414721595,
          30.4234582107,
          32.0469291804,
          36.5085107806,
          40.5075329902,
          31.095016693,
          42.4712208979,
          30.4964266893,
          30.3937798122,
          41.2263705176,
          42.2486331385,
          36.8906660574,
          46.4315588357,
          34.7535027956,
          44.0037135763,
          40.8488341603,
          34.7630897031,
          32.9732247426,
          40.7391440172,
          34.709836363,
          36.276258667,
          46.592401392,
          36.7865296888,
          37.222980428,
          38.8297122608,
          37.5592414881,
          31.7235401557,
          38.619423178,
          31.5454641622,
          41.6863234292,
          38.1128050013,
          29.3573361783,
          43.37802248,
          35.7902443741,
          37.6433385983,
          41.9213775211,
          44.5473945862,
          34.1277855795,
          34.7404337635,
          45.3374314914,
          44.5929338436,
          34.2898880686,
          37.191604867,
          42.0516662494,
          41.5310383041,
          39.7842012909,
          37.1573917455,
          44.7268149012,
          35.104348396,
          30.6105923313,
          34.5299582294,
          37.9708518682,
          42.5936732732,
          44.3498776053,
          45.3508956087,
          42.638915376,
          42.8674818753,
          41.1524635935,
          36.2683474959,
          45.2827261064,
          39.4269814843,
          42.8324862728,
          28.6570952089,
          37.6066301658,
          38.4860376265,
          35.6081436966,
          41.91384687,
          31.1484222352,
          33.6748549849,
          41.4009690752,
          40.3315251833,
          31.2484923988,
          45.7586707668,
          37.3158384919,
          37.7264040368,
          35.38741848,
          44.82075943,
          40.2834374242,
          26.8998432654,
          41.5130724363,
          36.0437098766,
          38.7541714951,
          40.1282548929,
          38.9500945902,
          46.1126539091,
          38.0921662434,
          28.8662114221,
          41.5459746701,
          34.8172864604,
          37.3527152683,
          37.6227077717,
          47.9219151859,
          38.4805374528,
          32.7505866271,
          32.7696188927,
          36.969571697,
          34.356757808,
          31.5323843939,
          40.9900687168,
          38.8455149273,
          40.0520536496,
          41.0290322944,
          39.3790027809,
          29.2778616455,
          35.6872037952,
          47.3264761642,
          31.5708340246,
          44.7279402249,
          37.6583184627,
          39.2111317394,
          39.5150814814,
          37.938990343,
          33.2142871374,
          33.2166030364,
          42.5970991967,
          37.1912804013,
          26.4769663387,
          43.7846914327,
          38.7858226615,
          39.3709375943,
          37.3142565856,
          41.3964956116,
          32.6672014402,
          33.7157303222,
          38.1951228784,
          25.0467803277,
          38.4408670947,
          40.5240865228,
          40.4103560325,
          37.2190501994,
          36.1490481181,
          36.7099124483,
          42.4018650655,
          37.4596486226,
          33.8333331807,
          35.6426343016,
          39.1051348222,
          31.303925021,
          37.5603718263,
          35.4081187361,
          41.4705726437,
          35.3119550622,
          34.5307791419,
          21.2118898113,
          44.9035217224,
          31.7315001844,
          46.0092394572,
          42.1602170275,
          34.2226067095,
          43.7213655935,
          28.7856505535,
          34.0887429323,
          32.6789310276,
          41.6544687417,
          32.3673093945,
          40.4702708097,
          31.4292715445,
          30.7953911236,
          43.0564977139,
          39.0474329308,
          30.4924753926,
          48.6282036571,
          37.1339863881,
          45.9373346715,
          37.8102830478,
          35.8086768522,
          44.022343746,
          37.1249780238,
          40.0916079241,
          40.8725715098,
          45.034066286,
          40.473600561,
          31.7795065577,
          37.7017152151,
          34.3424135138,
          32.8318884986,
          42.3401529673,
          35.5424444709,
          39.4386164734,
          45.1880453547,
          40.606258463,
          38.4461016023,
          46.0175261512,
          42.0362382229,
          26.5534898513,
          46.2296522668,
          43.5541675519,
          38.9147512529,
          42.8788290644,
          36.2505340956,
          36.9316012682,
          32.7360040875,
          28.3526879602,
          44.1172175226,
          37.9551831858,
          39.0773714416,
          31.9892401922,
          39.5783299005,
          38.5231613136,
          40.0403785235,
          38.5645174515,
          38.8344683216,
          34.6310256133,
          38.05518334,
          32.1077245005,
          32.346971275,
          47.2175378518,
          31.2760599041,
          44.335608598,
          34.2508713944,
          36.578159387,
          31.1261225461,
          32.7390025581,
          41.5939007094,
          34.3736483159,
          35.6466064799,
          47.5754617267,
          43.3656487303,
          43.7197073785,
          38.9122413956,
          28.3067419076,
          41.6945892724,
          33.9511687467,
          33.3164335785,
          41.4367863214,
          30.3354403303,
          35.0025779761,
          41.7067847215,
          35.2387731611,
          41.916698107,
          38.4295611651,
          37.3543505785,
          37.9550855775,
          35.5123637272,
          29.3806620653,
          43.9695394798,
          33.9161721803,
          30.237646533,
          37.4690483094,
          44.499782046,
          32.0176929287,
          37.2288385526,
          30.4078429457,
          27.3808664203,
          36.8834465874,
          40.610413019,
          39.785240911,
          30.331070985,
          36.2774544717,
          29.7082609899,
          46.2369933896,
          33.5787842008,
          45.5861252834,
          35.6816924709,
          37.5457980664,
          45.064501565,
          48.6855411394,
          39.1955341757,
          38.0309985368,
          40.1247748425,
          37.3723568684,
          36.0109653302,
          38.1962558627,
          37.1925238004,
          35.7846556198,
          31.525961257,
          40.9879710088,
          39.8308020875,
          44.5477641459,
          37.1211921397,
          48.7724599221,
          38.2391477444,
          38.8444981835,
          33.2672553197,
          34.1338827438,
          38.6667977063,
          40.1762856299,
          37.9529528516,
          37.0487694369,
          40.3016413767,
          58.2091446546,
          44.8288090199,
          37.5184174771,
          38.331795342,
          35.4953438716,
          39.8277963216,
          38.0796491352,
          34.4904742327,
          41.287491921,
          41.0908708811,
          39.9617616288,
          32.3034902579,
          37.7601394811,
          35.8427065264,
          34.0061055385,
          38.0674165811,
          42.393798295,
          37.9222809093,
          40.7698402428,
          38.6847722239,
          46.3281784324,
          30.6851516211,
          39.4148645227,
          38.1734202345,
          39.0634313879,
          33.07931306,
          29.4489578348,
          43.9900669341,
          43.0154568883,
          33.9808673856,
          37.1693060628,
          41.0486534578,
          35.284617402,
          44.7261188782,
          28.7048225353,
          38.4111443545,
          31.8027084904,
          47.4572804385,
          35.3106538555,
          44.6846764139,
          35.2068682628,
          41.3344518776,
          33.6061291442,
          42.2643746213,
          41.1377184724,
          46.1117848382,
          43.99606769,
          37.1913959707,
          35.350171951,
          40.1758305125,
          35.3711477472,
          38.4603650792,
          37.8549014253,
          34.1319410705,
          31.6332182103,
          37.9700757707,
          39.0655884308,
          37.753378564,
          45.5803502555,
          43.6714700417,
          35.5515100533,
          43.2906788284,
          36.7669858485,
          36.3586360305,
          44.2842861611,
          35.3686291614,
          47.7878782632,
          39.7581742368,
          35.9932063802,
          35.5178069265,
          42.3230756866,
          39.7155561425,
          36.3449979328,
          34.0776481589,
          37.2701399985,
          37.0584319295,
          37.0635610525,
          40.8551525027,
          33.6639660687,
          41.4995416587,
          43.0354526887,
          64.8354505226,
          37.8418945509,
          41.3975800161,
          34.4416706415,
          45.9989328531,
          38.3987832635,
          31.0270650231,
          42.6603998737,
          37.4536881105,
          38.7080111869,
          41.567305883,
          39.6036746811,
          37.6259310585,
          32.0457484071,
          32.7358650208,
          47.5762161196,
          33.2292799721,
          38.3623255596,
          31.4838062078,
          35.332466935,
          32.847853212,
          36.4148205561,
          46.8605284936,
          43.2842837871,
          30.7057400268,
          43.6741782318,
          43.9878918655,
          41.1392969335,
          43.1073811968,
          40.2982423213,
          48.2689430235,
          35.388366704,
          37.2666155974,
          32.3020349252,
          46.1101251059,
          40.4308475737,
          34.5302641047,
          35.1744060361,
          43.661121629,
          38.6469784457,
          37.5722077541,
          36.3411216216,
          40.0924597674,
          29.9121811706,
          40.1139269766,
          35.5832218368,
          46.7140170601,
          43.3612746976,
          33.2704260085,
          40.5218545215,
          38.941491042,
          30.010805099,
          34.9473737476,
          39.4802974375,
          40.1746293382,
          39.3170652967,
          33.1738126593,
          34.5192808123,
          30.8626068236,
          42.3658182043,
          28.7963514929,
          40.1576395642,
          37.6804065048,
          38.6488155619,
          30.9224883015,
          46.932964277,
          43.6776345435,
          48.2013321625,
          60.8490903436,
          40.4791367057,
          42.9622404458,
          43.3564123717,
          31.6661684568,
          44.9432516761,
          31.8692373987,
          58.7332560682,
          38.3366204607,
          38.318172839,
          43.0217229031,
          29.9007722759,
          34.5387970384,
          31.8072288628,
          34.3728526138,
          40.2275253191,
          37.0540793189,
          30.8533433125,
          40.183401621,
          31.5640129586,
          30.792719766,
          42.633442368,
          47.4909231926,
          43.9150098006,
          42.170297478,
          43.2789221432,
          38.0140589617,
          31.3231861567,
          30.6650297247,
          36.0132038869,
          34.1110028943,
          35.2562753346,
          43.3109397092,
          26.0992389901,
          44.464696712,
          33.1879272437,
          27.1824778115,
          45.4729404291,
          39.0888346851,
          37.1430626393,
          33.7792058021,
          36.941272036,
          30.1264602387,
          42.596069775,
          59.8632076093,
          40.1764957551,
          39.9607450135,
          39.8940298185,
          44.4609805861,
          20.867735408,
          38.2368379381,
          36.7961439421,
          31.2253196926,
          37.4002848554,
          29.8119497744,
          31.445835936,
          31.704803053,
          38.2142048256,
          32.2667019192,
          40.0969217077,
          39.5604331495,
          43.29699417,
          35.8376872526,
          38.981944957,
          35.5740321244,
          30.3346942825,
          30.1213082966,
          41.1676828401,
          27.0433971368,
          33.7715468713,
          26.3967284864,
          45.4190045389,
          46.0706237641,
          43.7841402516,
          37.1041534526,
          67.0081724432,
          36.7888025423,
          32.7413905566,
          33.6672620503,
          37.7786161815,
          32.9043665122,
          35.9798606621,
          40.9404610588,
          34.8807714578,
          40.5244687103,
          35.5701227411,
          31.773206868,
          43.759429876,
          42.6936561133,
          42.6001764292,
          41.4667862464,
          37.2779522735,
          34.6020603325,
          34.8612598084,
          43.0600413474,
          43.0818860731,
          42.4688224327,
          42.9723307203,
          40.4169344997,
          40.0065552677,
          48.3581259624,
          41.0893204311,
          47.9737829027,
          41.3887747357,
          38.8613737904,
          32.1547500095,
          40.6506935615,
          32.3050356596,
          36.3040698262,
          48.2951265514,
          40.851990777,
          45.3102250802,
          34.9163840445,
          38.181330775,
          39.1146453374,
          63.8762960012,
          41.6841906978,
          45.9452167902,
          44.6445874689,
          44.4125964168,
          32.0466488616,
          47.6747883901,
          42.7331189884,
          46.9496014257,
          32.7803142142,
          43.0640850193,
          44.9778528358,
          43.1949168271,
          38.7491001783,
          33.7005398883,
          38.292414567,
          29.9855183221,
          30.7154778208,
          35.9254374123,
          36.5236457051,
          39.0224214624,
          40.2121076763,
          36.0656302022,
          43.9100683718,
          36.8063197395,
          31.1531879718,
          37.4553667663,
          39.2357647667,
          29.7564998487,
          31.704894074,
          39.301369579,
          30.7439606074,
          41.3574164267,
          38.1593008022,
          39.754609342,
          43.5812561668,
          34.7622655092,
          37.5588848204,
          43.3253855625,
          38.7024099657,
          40.6664326842,
          36.8280984725,
          39.3376277289,
          38.1871910002,
          36.5540721406,
          41.0289838852,
          31.326183927,
          30.8783441069,
          31.0888152015,
          38.7697358036,
          38.8821720468,
          35.3362263031,
          38.4164943803,
          38.3701068106,
          43.345873009,
          33.4128251839,
          47.773853549,
          44.4036612077,
          32.1332163406,
          39.5804001016,
          35.1808755183,
          42.3486893925,
          40.4037747348,
          40.4908916187,
          44.9465839939,
          41.6487307494,
          47.8805838786,
          36.4816684795,
          34.6402420514,
          35.2153385104,
          33.3121471783,
          34.2908080523,
          35.7103417044,
          35.7029694977,
          38.0218915518,
          41.1923895368,
          43.6743108455,
          40.61842222,
          37.7393195914,
          33.1973239343,
          39.7273470786,
          46.8923435535,
          27.1863023348,
          38.4729724659,
          37.7216505795,
          45.5403894994,
          41.1868968805,
          39.8777172962,
          44.6894956175,
          33.4457647387,
          35.1675045158,
          39.4421951904,
          31.9229299181,
          42.9127722362,
          39.4899707456,
          37.1126355072,
          43.0901474299,
          32.822693435,
          35.9731784168,
          32.3533781815,
          39.4401679837,
          43.9416929041,
          42.2197672573,
          36.7231381944,
          34.0071879577,
          41.8963811411,
          33.0548441405,
          48.399068947,
          38.7477765207,
          43.9606082888,
          39.1735054386,
          31.5502158141,
          44.4091601365,
          38.5951729912,
          34.965417596,
          59.7139951133,
          34.7045808679,
          38.9967401872,
          35.9066686938,
          42.0358492263,
          43.4162950523,
          37.2180440575,
          46.3813014184,
          38.080066116,
          41.9169237189,
          36.6758560817,
          38.5315416285,
          39.2356038944,
          32.1822155495,
          44.3696796109,
          35.5806641869,
          45.8373643273,
          40.2108261137,
          44.0428854726,
          47.1444090738,
          37.5622507408,
          38.8978264216,
          40.561195332,
          28.0626646156,
          43.3756405374,
          44.7899892755,
          32.7666300195,
          42.4935106026,
          41.3433818683,
          31.7342053896,
          46.2114698469,
          44.5668319195,
          38.8320890915,
          34.8297827954,
          44.9741566636,
          37.9413779683,
          45.5024976764,
          39.4275866129,
          40.3987652449,
          36.7054264259,
          41.1393753356,
          33.171357538,
          39.6497752303,
          46.6588181292,
          31.5696411088,
          35.1970807469,
          42.6367815449,
          45.5600908408,
          42.990603511,
          37.2864000021,
          37.1742907521,
          33.9153518869,
          45.5251213571,
          41.6438678779,
          33.5441179101,
          33.3862927393,
          39.2509849786,
          34.3508983325,
          39.2310459341,
          47.0221845765,
          44.4917990421,
          40.6520516443,
          40.3546685834,
          35.3867940405,
          27.3863036127,
          34.2687844437,
          45.1739317274,
          39.8538114574,
          38.5064964441,
          40.9097216232,
          46.4954898595,
          33.3489778227,
          40.0274157084,
          36.9462101355,
          32.097399026,
          42.2092885613,
          39.0023855083,
          39.4722125305,
          38.2669127871,
          38.4789639679,
          31.9131719625,
          30.789951647,
          37.322190727,
          32.4344414462,
          37.7812707517,
          32.2641243634,
          35.2399169268,
          41.3352034594,
          33.4529935799,
          35.4247444764,
          34.7280450543,
          35.869381374,
          42.48553813,
          31.6159802631,
          31.5333740309,
          32.0196107831,
          37.6917036301,
          33.1235144947,
          34.9737894417,
          59.0758951471,
          31.944249197,
          40.4809952692,
          42.2838809992,
          39.9338060484,
          42.9022816291,
          46.482373828,
          36.6528169511,
          35.8694070017,
          31.7742624158,
          41.6845893285,
          34.9238618899,
          40.1905621824,
          37.0940663146,
          47.589861371,
          41.4525115243,
          36.5254454743,
          42.6727950993,
          48.4326760914,
          38.843539656,
          38.7747231232,
          34.7884475042,
          33.7714324565,
          39.6669293633,
          46.120767065,
          32.3472191955,
          34.7356590026,
          42.7315661359,
          38.8355168847,
          30.0195666061,
          46.3339973594,
          43.8060821062,
          29.9830664456,
          32.9881100057,
          33.7699538621,
          37.7873807102,
          40.5244322568,
          30.4867787311,
          43.6468567079,
          37.6979246033,
          35.5069269541,
          32.2222882576,
          40.1250638959,
          35.1754531586,
          39.9695461474,
          32.4205841079,
          45.0710105947,
          36.3960127906,
          44.6294210298,
          31.1961909998,
          40.5300832055,
          35.1993218755,
          28.0087830727,
          29.905528266
         ],
         "legendgroup": "",
         "lon": [
          -83.6665354077,
          -77.4574003866,
          -98.4999473753,
          -99.756726125,
          -91.1324230468,
          -96.6679741404,
          -92.3171989039,
          -80.4365110484,
          -75.0689522747,
          -97.7294962958,
          -101.687961438,
          -105.788288197,
          -82.5201067311,
          -79.7277120284,
          -88.5419040709,
          -84.9251420286,
          -95.0047424624,
          -67.6090594873,
          -79.237290715,
          -93.5872832229,
          -115.46748731,
          -101.042272426,
          -104.536158529,
          -99.3660130155,
          -93.5613593647,
          -80.3347070702,
          -77.0885455088,
          -124.093318775,
          -102.635174091,
          -91.3493631932,
          -84.8004565948,
          -103.48733562,
          -89.255127403,
          -80.6921989253,
          -90.9310479025,
          -101.820545838,
          -83.1870324531,
          -82.7958991685,
          -117.403947339,
          -81.1114444602,
          -87.3413643298,
          -97.2305066413,
          -76.5693098876,
          -90.6778776624,
          -74.1582023922,
          -94.8026575137,
          -94.8492968396,
          -118.729900424,
          -80.7192881391,
          -79.7889042685,
          -88.0886925942,
          -106.991193187,
          -79.4088067684,
          -81.3483495174,
          -89.1608658488,
          -98.2187211196,
          -89.3447914374,
          -83.0853006647,
          -96.8677208272,
          -82.288983582,
          -95.1651831384,
          -95.5667047202,
          -89.081642685,
          -120.789207302,
          -110.526662711,
          -85.128270367,
          -98.124785649,
          -102.424226323,
          -112.224618777,
          -98.0865732835,
          -86.8654694016,
          -86.7650174387,
          -90.0415484809,
          -84.5766842461,
          -105.64436349,
          -97.1324266998,
          -102.994978749,
          -97.4272714417,
          -76.271286532,
          -76.1946419306,
          -110.588798086,
          -77.8199601615,
          -80.7993280947,
          -85.7917003981,
          -91.4567382424,
          -80.5764203083,
          -93.0161267941,
          -86.1384716709,
          -103.102425237,
          -111.562215274,
          -92.1624016443,
          -116.462903445,
          -98.5878938604,
          -94.9414845344,
          -95.1166498604,
          -78.8757516437,
          -81.5005211955,
          -77.6560473238,
          -109.914705901,
          -99.3315653042,
          -82.7983001279,
          -97.4529680071,
          -75.6852333134,
          -82.346916153,
          -101.118576892,
          -78.3626942045,
          -98.0471849897,
          -84.1057794323,
          -81.250939242,
          -94.3471107747,
          -86.0384960523,
          -102.351791195,
          -98.7838447084,
          -84.4656390578,
          -88.6411594239,
          -90.3565282985,
          -81.3234735281,
          -96.6777253881,
          -101.299958451,
          -98.3239781797,
          -83.2214816028,
          -94.0155619459,
          -94.6118485462,
          -89.5286557577,
          -86.8940974128,
          -84.6015165533,
          -77.3968212099,
          -103.792224515,
          -105.250466793,
          -96.8374891769,
          -80.2113954217,
          -71.9077266261,
          -119.815502709,
          -97.0968903589,
          -83.990719955,
          -92.814120915,
          -106.695299259,
          -93.455980976,
          -116.750277131,
          -84.4941911259,
          -132.12922494,
          -95.3013889295,
          -95.31021134,
          -74.8499770137,
          -72.2511752725,
          -76.5305644689,
          -106.865950923,
          -95.9043661801,
          -100.314514171,
          -78.3713906105,
          -82.3041428598,
          -104.569929444,
          -85.4657611777,
          -93.2018512461,
          -76.5675970619,
          -80.421873068,
          -89.2857803179,
          -92.0267180322,
          -93.6320085311,
          -75.3395417153,
          -85.7732376368,
          -94.3406053082,
          -121.722346726,
          -89.9168137955,
          -120.738490426,
          -95.8535779226,
          -85.4264979093,
          -83.8268633608,
          -77.8627359849,
          -97.291239244,
          -89.5376379602,
          -87.4180084675,
          -99.8195657092,
          -109.224485149,
          -121.074995529,
          -113.440367846,
          -85.5784138137,
          -81.5369666383,
          -93.2951672181,
          -95.83651612,
          -74.2499159319,
          -89.3207266558,
          -97.1651722307,
          -93.9827993285,
          -83.6740950601,
          -119.649322632,
          -102.60218562,
          -95.3820619748,
          -88.7654354834,
          -93.7300728963,
          -76.2988753861,
          -88.2180579882,
          -123.779667446,
          -161.947228747,
          -77.6801783639,
          -159.7054382,
          -88.5698161858,
          -121.167775167,
          -86.2977463556,
          -74.4421175889,
          -80.2433983428,
          -91.8994024936,
          -77.5970588882,
          -82.6262026867,
          -97.4442882363,
          -82.6767617191,
          -105.016391302,
          -122.680974546,
          -80.6652439331,
          -97.6499306446,
          -88.0855946496,
          -97.5965014328,
          -92.4880742871,
          -88.3538137781,
          -77.2178797931,
          -111.670334914,
          -73.9502045905,
          -87.1791532892,
          -75.3075869515,
          -80.7771865597,
          -82.0566756823,
          -87.6311845438,
          -102.602887422,
          -81.8517719844,
          -85.123590032,
          -84.5233230209,
          -101.657774141,
          -100.462072838,
          -92.8689876816,
          -79.3788986183,
          -99.9122732442,
          -102.618205478,
          -85.0590443604,
          -84.3602721797,
          -86.0921752079,
          -84.2344263446,
          -120.838597596,
          -111.16818403,
          -81.7001959208,
          -108.250216941,
          -89.1395281511,
          -107.192378947,
          -103.010548763,
          -96.2453782628,
          -85.4590701568,
          -104.504654201,
          -81.1843527866,
          -86.1053059023,
          -114.805776873,
          -80.5021593376,
          -96.9756358548,
          -85.4659885855,
          -77.3969067219,
          -72.5918576846,
          -96.787400407,
          -85.8605470841,
          -85.2142786499,
          -96.564513018,
          -81.9089929263,
          -84.0424794131,
          -81.5464366451,
          -100.466398449,
          -78.8765926949,
          -112.390455011,
          -86.1567527604,
          -80.4558842537,
          -98.8323222504,
          -84.5801945588,
          -94.2439719124,
          -78.9994214565,
          -98.6296749711,
          -118.435214254,
          -94.810429621,
          -76.8453144055,
          -90.3754987097,
          -85.8976029732,
          -93.150399652,
          -107.68286072,
          -93.7833663013,
          -102.043034893,
          -122.693975573,
          -80.0465441583,
          -101.896944529,
          -92.6962654763,
          -85.1972071433,
          -97.491476123,
          -101.303234519,
          -122.534995075,
          -101.894004898,
          -82.1274783436,
          -73.585536665,
          -81.9226013745,
          -116.453882862,
          -119.95475358,
          -84.6193191365,
          -81.653583786,
          -72.8998576911,
          -89.0715652079,
          -83.4398685744,
          -90.0541660119,
          -88.4804669083,
          -101.735026846,
          -120.524649929,
          -76.7005266521,
          -98.464838016,
          -99.1082667829,
          -71.6802764616,
          -81.7431781429,
          -89.0374096749,
          -98.1824471655,
          -84.8352023744,
          -87.6539980067,
          -76.3567086184,
          -85.5187680028,
          -86.8986535599,
          -90.247375054,
          -115.730322485,
          -115.892435463,
          -91.131465421,
          -85.6110368183,
          -109.507612097,
          -104.790631134,
          -78.5566760673,
          -90.9118133348,
          -85.7975022448,
          -99.2135151435,
          -96.0121840981,
          -94.8518113711,
          -71.7160824662,
          -97.516253851,
          -73.5097121399,
          -112.553944833,
          -74.5445106674,
          -93.1115222539,
          -100.916407078,
          -99.8203076918,
          -84.3882463136,
          -80.7054233818,
          -74.0742255725,
          -110.903793031,
          -87.7267298383,
          -88.1991706674,
          -95.9414756124,
          -81.4555606055,
          -91.1127562492,
          -80.8570836304,
          -88.3613228409,
          -69.015547485,
          -106.191627951,
          -91.3127466677,
          -76.6340460041,
          -94.4045940298,
          -83.3715754728,
          -91.2425796995,
          -97.252401002,
          -94.404709492,
          -77.4838087142,
          -80.1062776173,
          -83.2666627121,
          -102.343197183,
          -94.3056398565,
          -96.2050045391,
          -74.6337304316,
          -87.5123716853,
          -79.2552758614,
          -99.3501597562,
          -88.9478637891,
          -82.1376881412,
          -116.701762031,
          -96.3023849451,
          -78.2856965824,
          -110.885661385,
          -79.873952503,
          -83.2611328686,
          -82.992831025,
          -85.543859188,
          -87.142041664,
          -80.4986673175,
          -79.1451431275,
          -96.919761718,
          -96.4034437639,
          -78.2037773985,
          -87.7877174066,
          -92.3088197079,
          -90.5674126031,
          -86.5634841334,
          -75.1339446794,
          -94.6140606084,
          -115.469262353,
          -84.8403384771,
          -92.4446635679,
          -113.172032247,
          -111.913383934,
          -91.622348013,
          -73.6781737453,
          -81.6346948405,
          -81.6001198539,
          -97.3947651219,
          -76.0165514362,
          -150.011714676,
          -85.3278346717,
          -81.9353404844,
          -94.838056975,
          -77.4776193547,
          -91.6007888442,
          -88.2667801291,
          -78.7796595828,
          -83.9643302311,
          -121.651091385,
          -95.1563757716,
          -81.2929913884,
          -84.3892346459,
          -97.8846508535,
          -80.8002997359,
          -102.828435632,
          -83.1408496187,
          -110.955893455,
          -98.4716796499,
          -120.725028959,
          -84.9983515819,
          -93.7745948671,
          -98.1459868879,
          -83.4759611368,
          -88.0832815032,
          -82.4236757904,
          -83.6240929756,
          -90.6675721556,
          -84.4904951214,
          -85.8141023534,
          -88.6228415765,
          -113.757910618,
          -78.9761374454,
          -101.697946991,
          -93.0411071081,
          -82.5348172563,
          -98.31302138,
          -100.476834839,
          -118.80047248,
          -79.4472820902,
          -86.5889416254,
          -86.7848240917,
          -106.584632792,
          -77.2655238393,
          -79.4057576347,
          -82.6212020717,
          -88.7815761672,
          -99.0996626872,
          -96.2102923903,
          -93.6070389924,
          -95.8090496343,
          -89.8244110855,
          -84.9910045711,
          -84.932458522,
          -85.0749898228,
          -109.844522327,
          -99.2214553894,
          -83.1277054408,
          -99.3734880839,
          -86.5352341115,
          -122.540367763,
          -89.9917699831,
          -90.0909046758,
          -90.9112912896,
          -77.5869258358,
          -89.3820759403,
          -113.131090626,
          -85.2610062794,
          -93.7447410133,
          -83.74266722,
          -79.4645390704,
          -102.602862784,
          -97.4609686791,
          -84.6293603418,
          -106.281555562,
          -98.2085033047,
          -97.4925237545,
          -84.3756074885,
          -81.1485743573,
          -94.2280604373,
          -85.4881722777,
          -86.2617612923,
          -92.0901672654,
          -70.206444997,
          -121.650120994,
          -76.2086867847,
          -82.0953569204,
          -77.0862060584,
          -121.344253814,
          -120.554132098,
          -71.8207197904,
          -87.4733082278,
          -75.0326059513,
          -84.0520241975,
          -83.4463116121,
          -108.269451135,
          -77.475587955,
          -77.475587955,
          -77.475587955,
          -77.475587955,
          -77.475587955,
          -77.475587955,
          -77.475587955,
          -77.475587955,
          -76.7296872797,
          -76.7296872797,
          -76.7296872797,
          -76.7296872797,
          -76.7296872797,
          -76.7296872797,
          -76.7296872797,
          -76.7296872797,
          -92.0638821244,
          -98.1724585828,
          -77.0225227247,
          -123.576473816,
          -97.1615544591,
          -93.9898835294,
          -90.8132149241,
          -80.5587490523,
          -86.8376542268,
          -117.907842238,
          -100.906858956,
          -85.9993005443,
          -83.823774583,
          -83.8898867514,
          -97.9485847382,
          -122.575262954,
          -91.9499782974,
          -75.3395154572,
          -93.2178669264,
          -116.601061373,
          -85.1382470065,
          -112.398078523,
          -103.48018589,
          -98.2781096129,
          -103.376304933,
          -83.4923823005,
          -111.495486653,
          -113.504711207,
          -84.0236132972,
          -117.274001478,
          -79.7410619159,
          -115.405080861,
          -105.386456079,
          -84.6049110538,
          -90.4173835629,
          -81.5491772356,
          -93.3207208702,
          -83.1609033358,
          -122.237029616,
          -86.0518589748,
          -96.4716413553,
          -76.4076199893,
          -93.3398791457,
          -99.7303000091,
          -97.4433173291,
          -93.1988964755,
          -97.8322675076,
          -100.735943173,
          -87.8308098507,
          -82.7062370645,
          -95.6238053959,
          -90.7820673213,
          -85.0187841576,
          -73.2453207905,
          -153.510605515,
          -69.5257592569,
          -76.707596151,
          -102.542749193,
          -82.3076279784,
          -102.829913123,
          -83.913088975,
          -89.3376041231,
          -114.667148472,
          -85.5522032462,
          -97.152702787,
          -99.6957077129,
          -81.1212291623,
          -103.201252881,
          -101.431748795,
          -96.0141016624,
          -120.651115621,
          -92.676575561,
          -100.36618026,
          -107.913235675,
          -97.6074090049,
          -84.9366547189,
          -93.343338993,
          -95.6525471812,
          -77.3470467441,
          -96.7676947106,
          -79.4669607014,
          -95.8108171586,
          -92.1567129536,
          -118.335778874,
          -72.5231194296,
          -100.459899544,
          -81.8526618984,
          -96.1526397502,
          -81.2235326264,
          -82.3312929099,
          -87.3533144839,
          -82.8003665306,
          -77.5356107293,
          -86.8798021177,
          -96.2501879728,
          -112.226687932,
          -94.3483586551,
          -100.417946618,
          -92.6648152839,
          -102.602870603,
          -81.1890293853,
          -78.0136665279,
          -86.306636969,
          -88.2232738465,
          -78.4668692674,
          -81.0911358771,
          -97.8594018287,
          -90.474747165,
          -73.8460059552,
          -91.7912346303,
          -84.6245076946,
          -97.6683877685,
          -75.9259989042,
          -73.2064122879,
          -81.5555471412,
          -94.0397619265,
          -78.1067171324,
          -98.7035507511,
          -76.6694598427,
          -84.5809372528,
          -87.0347773688,
          -97.4765502094,
          -83.747108233,
          -91.5881018852,
          -146.565422856,
          -79.7029792115,
          -93.2464685787,
          -75.6315310797,
          -104.392531357,
          -77.4021626656,
          -85.3246335487,
          -100.207574947,
          -86.4237993498,
          -92.4097172922,
          -82.7886132018,
          -92.2076625405,
          -99.9768991117,
          -100.402168105,
          -82.8492009827,
          -93.2404024994,
          -81.9664425704,
          -71.0890593426,
          -94.1681932369,
          -85.8607176828,
          -94.3902216019,
          -76.8237785954,
          -79.350893592,
          -120.689371728,
          -91.9650546828,
          -92.3119257562,
          -95.5521803129,
          -118.47840308,
          -100.777569383,
          -112.240577354,
          -75.936949201,
          -84.973258532,
          -84.131731929,
          -98.8175760649,
          -85.4483655316,
          -101.340308333,
          -72.5861605978,
          -155.522885864,
          -88.2521508057,
          -82.3098783777,
          -114.998338744,
          -86.8449997676,
          -82.743226753,
          -83.9571695116,
          -99.9718051015,
          -84.0026558339,
          -76.4425351607,
          -84.8467965535,
          -89.4137659493,
          -71.1838291807,
          -122.832293746,
          -78.6550308717,
          -99.8901220928,
          -93.7341954719,
          -99.1686127905,
          -82.6877258112,
          -87.4930956193,
          -76.0163281416,
          -71.5790218623,
          -89.6518318853,
          -121.91478015,
          -96.687755507,
          -99.8206358613,
          -84.1394626622,
          -112.311302461,
          -85.6219924364,
          -76.88830957,
          -108.630418124,
          -93.630083459,
          -102.603395824,
          -116.397518964,
          -86.1772944904,
          -85.0797630545,
          -102.518193492,
          -97.356778445,
          -135.304965119,
          -75.9481069728,
          -151.389616025,
          -110.321396004,
          -96.1347754194,
          -98.9480216382,
          -76.5229667418,
          -101.784183191,
          -91.1713632054,
          -91.0455350736,
          -94.7737543641,
          -76.5154525457,
          -88.0851335477,
          -83.7838897267,
          -79.9580837461,
          -79.9580837461,
          -79.9580837461,
          -79.9580837461,
          -79.9580837461,
          -79.9580837461,
          -79.9580837461,
          -79.9580837461,
          -80.0679899739,
          -80.0679899739,
          -80.0679899739,
          -80.0679899739,
          -80.0679899739,
          -80.0679899739,
          -80.0679899739,
          -80.0679899739,
          -82.4974202594,
          -81.2363275276,
          -97.787331341,
          -115.566279021,
          -80.3798749895,
          -88.9299244512,
          -104.337801716,
          -95.3923371044,
          -123.934213907,
          -90.8480221032,
          -77.2042373226,
          -94.1450175185,
          -93.0654245878,
          -94.2423791547,
          -88.9710587868,
          -78.2449450925,
          -88.5200953248,
          -79.0282722626,
          -82.0735477739,
          -94.9694078336,
          -80.8734378255,
          -105.57171097,
          -95.1053945569,
          -92.7890033704,
          -89.9443100866,
          -81.1802416273,
          -85.8847094016,
          -98.2010299558,
          -99.9161797856,
          -74.2470601526,
          -75.3988998092,
          -120.997682895,
          -103.412478212,
          -77.7212449251,
          -75.9890260819,
          -84.6103371078,
          -99.3474783776,
          -91.8865416662,
          -90.3088719897,
          -101.135334608,
          -80.9175879894,
          -74.3007756821,
          -77.3551679748,
          -85.9336633247,
          -113.067841951,
          -122.649176385,
          -89.928127921,
          -84.6135993294,
          -88.662541529,
          -116.709270124,
          -100.437862948,
          -84.3198525836,
          -83.7501767115,
          -123.433469914,
          -99.4145428942,
          -96.1068276828,
          -95.1467942431,
          -131.030510343,
          -80.2127487756,
          -77.2542641766,
          -118.111965828,
          -89.4355442381,
          -91.3400729965,
          -107.676147275,
          -122.728517877,
          -86.7423662187,
          -87.7595511478,
          -84.130079524,
          -93.2608475497,
          -85.262386374,
          -88.9241655023,
          -85.3920429513,
          -85.495190724,
          -100.833304016,
          -95.1811530449,
          -94.2412727038,
          -149.188568553,
          -84.5860991255,
          -85.1758221578,
          -84.423437303,
          -89.5897506359,
          -84.5333168381,
          -82.9446876646,
          -89.5218199491,
          -91.2350651111,
          -84.2779980048,
          -97.3663297978,
          -86.2635836849,
          -90.852011211,
          -83.81967864,
          -107.903956154,
          -72.6316491133,
          -95.1508300608,
          -77.8092394301,
          -91.1806847226,
          -83.0976163428,
          -119.747422249,
          -109.751263137,
          -82.1687777662,
          -89.8224429891,
          -79.3568295188,
          -102.528498668,
          -94.3765939282,
          -104.944975073,
          -82.6600810997,
          -91.2038921969,
          -81.0811920732,
          -99.4499297346,
          -81.0786676313,
          -95.5722839299,
          -83.168399978,
          -88.7703948628,
          -96.6894414425,
          -111.923601307,
          -72.7328122495,
          -101.06184392,
          -78.6490862597,
          -76.5164553837,
          -100.812558034,
          -91.2145376687,
          -70.6701460671,
          -89.5815415958,
          -86.6476485661,
          -93.099606274,
          -96.0366682912,
          -99.8787442497,
          -104.689620569,
          -100.921228654,
          -79.4438937578,
          -77.6757626742,
          -84.8744366862,
          -98.9527962385,
          -95.7401677072,
          -112.936158101,
          -90.602687016,
          -82.6215388925,
          -99.2123698529,
          -92.7013072101,
          -94.8834337255,
          -97.6574001918,
          -84.8133871962,
          -95.1509194224,
          -93.3419904743,
          -75.5923694841,
          -93.2608184346,
          -101.412147662,
          -103.110095731,
          -95.2503733342,
          -81.4952544284,
          -86.1169307298,
          -87.4903805625,
          -86.3641128583,
          -101.490100072,
          -83.3728413605,
          -88.3879869313,
          -82.070392228,
          -89.7592441298,
          -94.8169477887,
          -75.8316009642,
          -83.6229779272,
          -111.329738822,
          -96.9301524955,
          -82.6305889168,
          -121.801606828,
          -87.1264391014,
          -101.196869329,
          -84.8281098255,
          -91.4928319425,
          -84.0153305006,
          -80.1586830546,
          -89.2848255762,
          -82.4813683615,
          -101.661351227,
          -81.9818955745,
          -83.1652010912,
          -84.828631199,
          -85.4551771798,
          -76.7794746983,
          -100.555845619,
          -97.4782023977,
          -85.6037937156,
          -74.2585695251,
          -69.8393089562,
          -94.2067199306,
          -95.8169208876,
          -94.1817743675,
          -88.5616201146,
          -82.6457538571,
          -78.4854998848,
          -86.6802892154,
          -120.030786183,
          -100.253305507,
          -122.922544658,
          -101.523008414,
          -90.7734903178,
          -87.584594368,
          -82.9197777024,
          -95.8498160648,
          -116.471931336,
          -89.7974473885,
          -95.673923543,
          -84.1297714192,
          -73.0366087399,
          -76.3024182804,
          -97.7245908845,
          -89.501400671,
          -90.6150952137,
          -98.9913852808,
          -89.2578597971,
          -89.6622542939,
          -100.779828967,
          -96.5440972071,
          -85.7165195846,
          -79.3971193907,
          -83.83877051,
          -83.6009720963,
          -121.90161702,
          -76.7265140685,
          -98.5359514102,
          -95.7080021514,
          -100.051628546,
          -96.7944846878,
          -92.332041157,
          -91.4088486044,
          -86.2898576945,
          -86.8488901965,
          -116.241166631,
          -80.0981063578,
          -96.9461134069,
          -97.3264528463,
          -92.883969287,
          -90.7478115543,
          -90.8044314871,
          -93.5735335401,
          -96.3984928926,
          -84.063444228,
          -80.70696595,
          -122.233884853,
          -88.2722011175,
          -95.542393077,
          -84.4669897339,
          -95.928410107,
          -98.5615628976,
          -103.3952782,
          -102.475635949,
          -88.2078768076,
          -93.947999339,
          -102.07648647,
          -79.8123170828,
          -84.2504642348,
          -79.2741433707,
          -113.981607439,
          -85.5311845383,
          -100.736990786,
          -89.3675209057,
          -92.4094498846,
          -99.265080664,
          -123.308162692,
          -77.1061007631,
          -82.5984082765,
          -93.6563416658,
          -108.466440182,
          -95.0379114409,
          -93.2850962929,
          -108.517265273,
          -95.3790237804,
          -122.009787403,
          -98.3998650256,
          -78.2625471123,
          -85.9882069262,
          -69.9588160836,
          -95.5030137057,
          -111.920256238,
          -135.336672633,
          -84.4556269832,
          -89.9482166667,
          -76.7738000898,
          -90.4056805267,
          -120.35658095,
          -84.4369222013,
          -94.2724202106,
          -122.392638348,
          -101.763574005,
          -111.813201111,
          -87.9522309156,
          -94.6781370701,
          -92.8620540343,
          -93.3488158578,
          -70.2381374923,
          -88.5898533622,
          -84.0682304213,
          -101.831489242,
          -92.3096802497,
          -101.816123837,
          -96.2977785791,
          -103.714949912,
          -87.6461407931,
          -82.1259300134,
          -120.594332834,
          -83.7694969558,
          -98.7115552055,
          -100.238740757,
          -89.3041273649,
          -133.193025891,
          -119.007354057,
          -107.999724325,
          -99.7800913745,
          -76.2159548592,
          -103.4598757,
          -88.1987896089,
          -77.405844847,
          -98.0310632636,
          -79.8810638666,
          -79.8810638666,
          -79.8810638666,
          -79.8810638666,
          -79.8810638666,
          -79.8810638666,
          -79.8810638666,
          -79.8810638666,
          -76.9385845546,
          -76.9385845546,
          -76.9385845546,
          -76.9385845546,
          -76.9385845546,
          -76.9385845546,
          -76.9385845546,
          -76.9385845546,
          -78.7137032852,
          -96.3708562265,
          -85.8587552785,
          -87.7756333583,
          -100.48290474,
          -76.9311943444,
          -103.048169055,
          -101.628137211,
          -90.7963157853,
          -77.1009715341,
          -100.270065923,
          -97.6544621205,
          -83.5605241695,
          -89.6022219559,
          -92.5331996257,
          -91.7923648921,
          -96.4683496086,
          -90.8863042728,
          -107.300311758,
          -96.6605948986,
          -84.0901906655,
          -88.398113352,
          -96.9482619139,
          -115.65690713,
          -100.71843535,
          -97.1486602361,
          -75.4358401731,
          -104.965815501,
          -119.511127184,
          -90.0977653992,
          -75.7565570848,
          -85.549296283,
          -121.271403235,
          -75.1414130536,
          -94.6964147623,
          -88.9189811153,
          -90.6232428034,
          -96.6539833969,
          -95.4342547974,
          -83.2763750394,
          -92.5830546608,
          -81.7047784739,
          -96.0447949019,
          -82.3714410129,
          -83.4020764834,
          -153.749160002,
          -85.1947770123,
          -80.2164049721,
          -94.2561015344,
          -85.1849624464,
          -96.2597620936,
          -92.1548701323,
          -115.365336962,
          -102.351710486,
          -116.784781333,
          -96.2586448321,
          -116.711723179,
          -114.089374334,
          -100.851287248,
          -83.9193134094,
          -81.6194154302,
          -122.482577988,
          -98.204730294,
          -91.3534982605,
          -90.7279074417,
          -104.929559461,
          -122.753183909,
          -82.4526850982,
          -90.2132382621,
          -101.34735565,
          -88.4524199255,
          -102.333949943,
          -91.720023319,
          -86.8963982424,
          -85.5045272078,
          -90.925108658,
          -89.1687933116,
          -94.0670290696,
          -87.0770139545,
          -98.0898862446,
          -95.793663658,
          -105.741442552,
          -93.5482792786,
          -84.3576542517,
          -96.1734786585,
          -90.8051677338,
          -99.9295064518,
          -84.8593123857,
          -84.2171399549,
          -88.5910866502,
          -91.9488728782,
          -90.9690828337,
          -86.3064148915,
          -84.3118676685,
          -84.8759139254,
          -81.3410379056,
          -103.70794664,
          -111.614752705,
          -85.5531056748,
          -101.665858437,
          -78.8275607671,
          -100.132245565,
          -87.6531182363,
          -86.4218821702,
          -106.194066665,
          -102.65508878,
          -122.040521531,
          -92.304282947,
          -81.1633856618,
          -86.6854211599,
          -84.127204086,
          -89.9283990217,
          -100.304741702,
          -88.5390962907,
          -108.879430782,
          -90.632841255,
          -86.1659036872,
          -84.1467311037,
          -101.312046958,
          -87.7498400784,
          -84.5330101769,
          -84.1706356875,
          -84.6480146659,
          -103.716445685,
          -84.7679728373,
          -79.120649356,
          -73.74951416,
          -98.5582573019,
          -90.1944237,
          -98.9762070587,
          -97.6007621039,
          -89.759058929,
          -121.872821263,
          -93.0915633723,
          -91.7221441017,
          -99.681956366,
          -117.203075017,
          -78.2304441066,
          -84.5989931681,
          -95.8683593995,
          -83.3240853027,
          -79.362510123,
          -93.9316370877,
          -77.3744965519,
          -93.0537645398,
          -96.9657036787,
          -121.917998966,
          -101.055531285,
          -97.6502157692,
          -89.8955956151,
          -86.3438765333,
          -109.587955049,
          -91.837842149,
          -96.7828440349,
          -92.8859845551,
          -85.2051550952,
          -82.9222383646,
          -73.9697971209,
          -92.6544402046,
          -77.4871504649,
          -100.778860652,
          -92.0015496858,
          -99.2860476017,
          -101.354699396,
          -101.151715198,
          -90.1353840185,
          -82.3577015483,
          -75.1068734265,
          -112.994708925,
          -87.0184494886,
          -84.3159414648,
          -86.0450230743,
          -87.2636042463,
          -118.736784883,
          -80.5740896149,
          -75.0338289783,
          -99.3250571176,
          -84.1250173789,
          -98.0913750444,
          -97.8841201933,
          -88.7100058635,
          -106.809062349,
          -87.028957047,
          -92.7660468541,
          -97.7827227881,
          -84.0663667481,
          -93.7927500298,
          -99.347022123,
          -96.7351769755,
          -87.6291176816,
          -96.407781044,
          -114.281712396,
          -94.9166206034,
          -97.1409086996,
          -86.4588856967,
          -117.675363456,
          -119.126027193,
          -94.6404136047,
          -78.4741251099,
          -88.3521803449,
          -107.995198768,
          -101.541784418,
          -88.9088980221,
          -119.905517029,
          -93.5358982367,
          -87.3955844374,
          -70.12811317,
          -81.0542337736,
          -88.7703159232,
          -100.270473266,
          -91.0277165202,
          -85.2110263502,
          -81.1770268506,
          -88.6134615499,
          -93.3273638708,
          -98.1920324671,
          -80.2577062656,
          -88.1795748823,
          -88.4882631121,
          -87.3072532822,
          -102.784538195,
          -98.7623510222,
          -91.7634818429,
          -87.3736834128,
          -99.7779848782,
          -116.17846142,
          -96.1544786904,
          -77.2997880719,
          -77.2997880719,
          -77.2997880719,
          -77.2997880719,
          -77.2997880719,
          -77.2997880719,
          -77.2997880719,
          -77.2997880719,
          -77.2762195686,
          -77.2762195686,
          -77.2762195686,
          -77.2762195686,
          -77.2762195686,
          -77.2762195686,
          -77.2762195686,
          -77.2762195686,
          -84.4587221937,
          -96.9483597747,
          -151.698058085,
          -91.2859815878,
          -88.5577158078,
          -101.947684441,
          -144.760229318,
          -99.847385514,
          -93.3349833098,
          -121.351262732,
          -90.6748987038,
          -81.8868846224,
          -101.520802191,
          -98.882985338,
          -98.0379852209,
          -90.5012525364,
          -90.4041605467,
          -89.2111061648,
          -87.2419916982,
          -91.7684475565,
          -101.740518753,
          -95.2084741643,
          -96.0854546373,
          -91.4798585278,
          -88.7758658272,
          -77.6322882986,
          -90.3010646863,
          -80.7609722941,
          -96.3227791208,
          -98.7679898039,
          -95.6046765408,
          -80.8327311406,
          -120.717688,
          -88.7177438488,
          -86.8529215684,
          -73.2948285063,
          -74.9973498515,
          -77.0134840998,
          -92.1851454385,
          -99.3121708301,
          -104.466879578,
          -105.630190704,
          -118.404438052,
          -106.670199593,
          -75.3579856904,
          -80.7012054832,
          -84.8829111582,
          -85.7193451682,
          -102.740340455,
          -93.7068096741,
          -71.2860712513,
          -86.1491465307,
          -77.6357053514,
          -77.9864448378,
          -85.2696313766,
          -83.6662408919,
          -86.8705966508,
          -87.8679057735,
          -84.9283681524,
          -86.2171786433,
          -73.8530695745,
          -101.649613261,
          -117.181020009,
          -76.2705623776,
          -81.1595312709,
          -115.013561058,
          -78.027560601,
          -83.2291886374,
          -84.3313958343,
          -80.2228738585,
          -93.4154290883,
          -97.2017864999,
          -86.4603553659,
          -83.7338466262,
          -72.3768216078,
          -85.5011430488,
          -80.0061751875,
          -96.2532076471,
          -83.8674279187,
          -92.4988057662,
          -92.6995245166,
          -89.6163956957,
          -95.5639501637,
          -94.7713788557,
          -74.9624979781,
          -83.8375139145,
          -90.5645053525,
          -77.638105834,
          -89.514845622,
          -91.5990228598,
          -84.8770429861,
          -95.3134446486,
          -76.7091264828,
          -88.2307624873,
          -87.8384575868,
          -108.217225788,
          -103.809822237,
          -80.256300016,
          -76.5121412893,
          -98.2183408742,
          -98.4334742816,
          -120.679683235,
          -104.240521679,
          -99.8832526271,
          -86.642749235,
          -119.740857456,
          -79.2729932831,
          -85.7072716297,
          -88.464932258,
          -94.2429568096,
          -100.745233846,
          -94.3435927798,
          -89.9447795242,
          -90.1314083142,
          -123.907654696,
          -90.3904985092,
          -93.1841466986,
          -81.9598229888,
          -89.336445157,
          -90.264452745,
          -83.5277564528,
          -74.7681429805,
          -79.1714836119,
          -98.2076985187,
          -84.0266082893,
          -96.3286044718,
          -85.3931969755,
          -93.2966783051,
          -83.7372785445,
          -80.8848251911,
          -119.691774627,
          -100.529910767,
          -77.865597569,
          -76.5290606633,
          -105.850819579,
          -96.593928638,
          -81.4424722248,
          -81.0629473806,
          -113.235717851,
          -84.0531870389,
          -83.0649145355,
          -104.517369966,
          -82.9389875255,
          -95.6236852015,
          -88.5407417954,
          -86.4292775361,
          -80.9885424488,
          -94.551070329,
          -89.9141029918,
          -106.23481792,
          -90.2891244706,
          -91.3109179158,
          -91.4200286829,
          -112.784789329,
          -97.8515306642,
          -92.0766157427,
          -102.827796072,
          -90.5886186268,
          -85.3452913609,
          -85.3278488189,
          -88.6520579518,
          -93.0341542751,
          -112.093784553,
          -84.198463003,
          -80.248244362,
          -123.183009775,
          -113.923741221,
          -94.5010550107,
          -81.4936975935,
          -99.1856121911,
          -81.4350227718,
          -86.034762324,
          -91.7544696581,
          -81.8997238467,
          -118.898842401,
          -97.131768846,
          -101.357404339,
          -87.7895192944,
          -85.8041426436,
          -72.9120265429,
          -97.1595214632,
          -93.7862814096,
          -86.2386201495,
          -78.6975385506,
          -86.4950692821,
          -94.6787466122,
          -93.1763674899,
          -100.538546044,
          -98.7395957092,
          -76.8952824642,
          -88.2401981662,
          -85.7474680992,
          -95.3794738182,
          -97.8050966636,
          -81.7457669756,
          -85.5277446789,
          -74.3081414246,
          -73.7428630516,
          -108.442097151,
          -98.5954600939,
          -93.8518024149,
          -90.8343823934,
          -95.2308460091,
          -113.980147573,
          -104.875801423,
          -81.1278593427,
          -98.3722432436,
          -90.8774245019,
          -91.1884921409,
          -79.9577199015,
          -89.2428789608,
          -134.230339191,
          -103.135438139,
          -84.1264136573,
          -98.5089060613,
          -90.1317220132,
          -87.8871383639,
          -83.2179510399,
          -78.6616435866,
          -99.6609104924,
          -83.0048853482,
          -101.354183029,
          -82.0007811537,
          -113.637461803,
          -87.0872269242,
          -91.4032949632,
          -86.5817719968,
          -85.7156972254,
          -76.0702669072,
          -75.7484542227,
          -76.8472924091,
          -80.7762950605,
          -74.1382730507,
          -94.9045482536,
          -91.3584515501,
          -94.8429319755,
          -92.5030441645,
          -107.76931682,
          -87.382887079,
          -101.321804009,
          -87.1064763258,
          -77.9186629547,
          -88.3012135686,
          -85.6547259036,
          -83.2934335296,
          -97.2126261296,
          -81.9154527285,
          -78.570851665,
          -87.540842137,
          -109.887451628,
          -104.248943969,
          -83.4323638025,
          -116.76084539,
          -99.8639623316,
          -89.1487992023,
          -90.3859738837,
          -109.028015883,
          -92.3675651683,
          -77.8884355846,
          -73.3712046145,
          -76.2456336955,
          -104.567830048,
          -82.6369408916,
          -94.3572221859,
          -85.0056353252,
          -80.8585729141,
          -87.311044513,
          -101.893467006,
          -90.9600453966,
          -98.5271322703,
          -83.437054781,
          -83.4701228264,
          -97.1395097335,
          -81.0897165993,
          -90.7103202756,
          -88.6446587541,
          -104.89951088,
          -109.488828707,
          -84.8688701106,
          -98.9464800144,
          -77.1564526995,
          -76.4577127611,
          -93.8502883553,
          -82.0229005014,
          -97.0679060587,
          -75.5046137018,
          -114.120758882,
          -96.5229367542,
          -106.667442369,
          -78.2084593587,
          -85.1787249608,
          -98.0228653105,
          -83.9186821405,
          -88.9326248037,
          -77.2241521943,
          -98.9016466849,
          -122.13722281,
          -102.517723689,
          -97.9922509137,
          -122.392206808,
          -71.4226936063,
          -93.6684431539,
          -80.3492877814,
          -94.658747151,
          -110.655947277,
          -93.3579451616,
          -108.39808813,
          -96.6709220275,
          -80.6390976036,
          -84.2528004804,
          -101.791256465,
          -87.2944007854,
          -83.4304650673,
          -89.6314442054,
          -90.7413938887,
          -95.7708885981,
          -94.2321420772,
          -84.2993435146,
          -88.9615519316,
          -80.5247717485,
          -82.2417166787,
          -116.770204664,
          -85.778498039,
          -76.4736541298,
          -88.4287883539,
          -91.8443243326,
          -88.9923282776,
          -100.03155444,
          -83.5265943229,
          -133.002459292,
          -92.428407769,
          -94.8059357005,
          -92.9083421514,
          -104.646842539,
          -104.960584534,
          -78.2792244734,
          -94.8222610425,
          -91.779129433,
          -83.714662683,
          -76.0833253109,
          -100.636289195,
          -82.0059340359,
          -98.8651275082,
          -112.656713468,
          -99.8462501441,
          -84.7633607428,
          -73.7533906824,
          -89.4224823889,
          -82.6643677239,
          -72.6414291047,
          -111.887766252,
          -94.5273094656,
          -80.3984639525,
          -88.2205851408,
          -99.8307042877,
          -82.3707710973,
          -101.695910708,
          -81.9198334642,
          -96.2650968936,
          -88.4184956524,
          -68.6494281289,
          -156.544796848,
          -95.7632758339,
          -86.0747626426,
          -89.3670210808,
          -78.5690251336,
          -105.461144451,
          -119.664306118,
          -88.1538411275,
          -84.859602735,
          -94.8122103741,
          -83.2204589709,
          -84.3796958206,
          -90.8376399064,
          -81.620428677,
          -99.7457167359,
          -80.5444636482,
          -85.4174667322,
          -87.1157584406,
          -99.9960503842,
          -98.7383995925,
          -103.579899078,
          -117.776142822,
          -89.5240158465,
          -94.2071830507,
          -87.7455648767,
          -83.6594624603,
          -85.0946817376,
          -103.846565695,
          -100.255850072,
          -97.636461158,
          -90.402594527,
          -85.3375681071,
          -99.9034768772,
          -98.3461899802,
          -88.0682731679,
          -77.9628583492,
          -86.5231372076,
          -93.3277206567,
          -95.453523681,
          -84.5881378939,
          -84.9672206823,
          -84.2841507002,
          -93.2624729913,
          -71.2809786997,
          -100.813444084,
          -77.7754915036,
          -93.5685581671,
          -89.3337362349,
          -100.269647513,
          -90.6120571133,
          -92.4119791169,
          -81.5321670204,
          -91.1070801351,
          -90.1137916425,
          -91.1331318556,
          -88.3045082663,
          -86.5099758786,
          -74.0585725636,
          -97.0864647524,
          -95.5134961566,
          -77.3838032543,
          -87.1161212419,
          -97.7544162352,
          -98.3660983597,
          -75.2966708247,
          -96.7691343971,
          -91.5697116529,
          -91.8887898981,
          -87.8049852867,
          -78.9718051426,
          -99.8727358362,
          -82.4512128043,
          -97.1427156563,
          -94.3392465045,
          -118.26101385,
          -89.5086725366,
          -106.992889065,
          -89.9201976988,
          -94.3714865548,
          -95.6043730203,
          -102.51556846,
          -83.1290075152,
          -92.8758770268,
          -86.3459465589,
          -83.7162777687,
          -113.082022662,
          -83.1712490669,
          -103.784825661,
          -99.7261437929,
          -90.8804009104,
          -95.1669012009,
          -82.5364843947,
          -96.287794573,
          -109.240355413,
          -84.9801029119,
          -120.38733759,
          -82.567282527,
          -101.951216779,
          -90.5742293965,
          -82.0736728222,
          -86.2476592648,
          -87.5857849635,
          -74.4088356547,
          -71.0885008559,
          -73.4307589223,
          -108.714976887,
          -108.596669828,
          -93.8566135049,
          -111.347045865,
          -83.9115277453,
          -97.129376351,
          -79.3335234769,
          -79.5241721318,
          -79.5241721318,
          -79.5241721318,
          -79.5241721318,
          -79.5241721318,
          -79.5241721318,
          -79.5241721318,
          -79.5241721318,
          -94.2155848036,
          -82.6029222713,
          -102.357579601,
          -88.8793051624,
          -82.7457041434,
          -82.9821729698,
          -83.8508756933,
          -84.145177727,
          -96.2370551712,
          -115.35770071,
          -119.189196841,
          -99.0015558433,
          -82.2361379221,
          -77.2984913408,
          -123.957801356,
          -95.3758623589,
          -82.8939351883,
          -78.5636493115,
          -91.1606930888,
          -90.6178241184,
          -87.9453835494,
          -94.6130114109,
          -83.6604159043,
          -84.0057660473,
          -91.0956166217,
          -111.695670939,
          -84.3147208166,
          -111.481955865,
          -91.2798860249,
          -84.5771762961,
          -83.0626533592,
          -89.9505672784,
          -97.1170055183,
          -95.3819677478,
          -83.5802119065,
          -84.7307216738,
          -92.8278792297,
          -109.395216695,
          -76.7600260363,
          -89.6844539015,
          -102.335438285,
          -80.0461837011,
          -96.2779088915,
          -78.4410828106,
          -81.8100059395,
          -85.0098761363,
          -84.4841745377,
          -111.576354881,
          -101.31986081,
          -72.6149783508,
          -95.6173556358,
          -93.2879464988,
          -75.9285418475,
          -92.0007352464,
          -81.5281178783,
          -77.8590299644,
          -78.4079288849,
          -104.353264458,
          -83.2495906334,
          -84.2778815189,
          -85.0586875538,
          -70.7370759268,
          -82.316909885,
          -85.2414063367,
          -94.339996655,
          -90.0337143493,
          -101.43550545,
          -96.6150736733,
          -86.1904186693,
          -97.7213240867,
          -84.6492037421,
          -105.367471778,
          -87.3975365943,
          -91.8182352994,
          -112.351297512,
          -95.7533863657,
          -114.263941364,
          -93.5381811083,
          -85.2212198576,
          -82.7347546613,
          -95.9956906534,
          -106.916577749,
          -97.6102451711,
          -76.3795212302,
          -89.0448597042,
          -83.7127549805,
          -100.815653969,
          -89.493466796,
          -87.525029952,
          -77.9151942586,
          -77.1751638221,
          -81.9443826591,
          -103.520671138,
          -99.3540669412,
          -74.1227065013,
          -92.0657317334,
          -77.6517329831,
          -101.731104218,
          -101.298424102,
          -117.410789686,
          -90.4065563831,
          -92.9460691759,
          -95.621326718,
          -89.7076318397,
          -92.4059042007,
          -121.951073113,
          -97.5211569987,
          -99.1101310166,
          -72.3365016791,
          -106.924094646,
          -85.9068307178,
          -119.82065303,
          -102.723570332,
          -84.5232421788,
          -96.577680914,
          -71.9874782796,
          -81.4737695521,
          -105.548313414,
          -90.771226853,
          -86.6606484037,
          -77.4450310796,
          -107.489852538,
          -103.758878789,
          -96.5262753522,
          -99.4147585085,
          -91.801797046,
          -86.4462121421,
          -85.0283367991,
          -123.915819446,
          -77.261794619,
          -103.4800253,
          -99.754618136,
          -74.6163366246,
          -79.1338544675,
          -93.4005326616,
          -112.539356598,
          -105.459295871,
          -85.0369979159,
          -71.2029939175,
          -101.148391114,
          -89.4181224369,
          -101.63966574,
          -85.0746031181,
          -81.6976853961,
          -91.84158588,
          -80.6496843171,
          -90.5590717273,
          -85.1189299735,
          -98.5281860324,
          -80.4529516077,
          -82.350353152,
          -82.1607018861,
          -87.9786458597,
          -102.604926837,
          -94.4208652851,
          -91.181482989,
          -75.1293182687,
          -97.3120103867,
          -84.11780032,
          -93.107175708,
          -95.0503607355,
          -81.0939703133,
          -105.795424407,
          -80.2545239336,
          -78.2244395122,
          -79.8636317706,
          -89.924455051,
          -88.9240091565,
          -100.441832361,
          -121.694849665,
          -95.2691826825,
          -119.451761712,
          -97.7411901298,
          -118.560633062,
          -117.632366036,
          -83.8501865375,
          -74.9122477682,
          -87.0867695023,
          -95.6248783386,
          -87.2973573971,
          -86.2076142923,
          -78.2274071617,
          -77.0622692252,
          -91.7178701959,
          -84.5035173074,
          -105.548617097,
          -96.1778828448,
          -74.3055376374,
          -106.118358313,
          -83.3043780736,
          -94.9278266277,
          -85.1360135602,
          -101.8268813,
          -89.1188598215,
          -83.4560972785,
          -91.1151957557,
          -92.1166058761,
          -90.3450261596,
          -82.8787644687,
          -74.9597543553,
          -82.7057582627,
          -122.414922836,
          -81.7112126287,
          -82.9541313398,
          -95.1541129519,
          -87.3763856,
          -164.736740347,
          -105.717174716,
          -100.538187495,
          -87.7388619701,
          -99.0809353963,
          -79.9132708157,
          -89.5685146862,
          -89.3003092504,
          -98.2782455413,
          -76.5743582093,
          -101.719980701,
          -81.8880189942,
          -121.308901554,
          -85.3964353742,
          -82.5132925147,
          -83.6831118762,
          -113.10069891,
          -111.024580148,
          -94.8020598986,
          -79.6681619853,
          -88.9647928071,
          -82.7395539464,
          -81.6964250718,
          -78.8579227191,
          -86.0072701421,
          -95.7565342577,
          -99.8221669212,
          -96.9756376237,
          -80.0030288847,
          -85.4526142035,
          -92.8686104167,
          -92.0058568609,
          -77.2998210492,
          -97.2441230299,
          -84.5929278019,
          -98.0666853094,
          -86.6987792624,
          -77.082003837,
          -86.2273748048,
          -107.048288324,
          -75.7088216052,
          -82.432342828,
          -81.9908274743,
          -123.555497668,
          -89.0241202321,
          -81.9167587358,
          -120.618973477,
          -82.1696779265,
          -79.6473693491,
          -98.7854727927,
          -93.7372773737,
          -118.516586208,
          -81.2150705598,
          -93.8823968489,
          -83.4221767088,
          -88.9762156953,
          -88.8859379256,
          -87.6960810134,
          -106.344837734,
          -121.696278854,
          -79.896819219,
          -83.808378857,
          -106.38321036,
          -80.5307400446,
          -91.2430822004,
          -110.266046893,
          -106.693083681,
          -89.398748852,
          -122.977512444,
          -105.522621196,
          -78.0275428663,
          -81.9635320121,
          -82.9914923725,
          -85.6280646001,
          -73.6318704984,
          -116.169968363,
          -97.1883336931,
          -81.2486346747,
          -85.9934577475,
          -89.1175728285,
          -89.7599800409,
          -94.2684153059,
          -95.6667999353,
          -91.2596183012,
          -74.4221748142,
          -91.4729263457,
          -94.7275713188,
          -84.7436031459,
          -110.589809669,
          -101.281118786,
          -82.5301070587,
          -99.2410547627,
          -77.109232267,
          -87.2063672164,
          -92.3180548339,
          -94.7326503668,
          -73.1409413698,
          -93.775975762,
          -114.138200808,
          -88.108772783,
          -102.460280406,
          -86.4834511309,
          -85.6292510918,
          -89.7853789263,
          -99.2261274236,
          -82.4269495914,
          -86.1715163089,
          -87.5735241034,
          -98.7664619491,
          -84.5839338937,
          -84.1493845804,
          -107.843270687,
          -86.5721601717,
          -93.8329365623,
          -97.6307326898,
          -88.2217534978,
          -95.4444821595,
          -76.9408852763,
          -104.815897957,
          -88.5305528694,
          -92.5156877897,
          -83.7658501734,
          -95.726945141,
          -95.4226771526,
          -89.2483811971,
          -88.230465738,
          -82.5367524098,
          -85.3089680839,
          -80.2395157151,
          -83.0243916323,
          -99.4774139048,
          -88.2173347046,
          -91.9134102959,
          -92.2816072464,
          -91.5220242163,
          -95.2184193975,
          -84.9036434233,
          -89.1188085187,
          -76.052068666,
          -90.1732642352,
          -106.832721302,
          -89.0719088457,
          -95.1511488586,
          -84.1970560516,
          -123.758664685,
          -102.031609284,
          -78.873479236,
          -86.7779252067,
          -98.3516118048,
          -95.2926063049,
          -96.9358470922,
          -87.7170356289,
          -81.2248910808,
          -111.770512718,
          -82.618382939,
          -85.6926686622,
          -123.179556863,
          -69.1218807819,
          -95.3067923129,
          -82.9222922454,
          -87.5731516422,
          -98.9922233091,
          -76.0850360056,
          -95.5642196557,
          -82.8458266599,
          -97.5518190457,
          -115.993845895,
          -93.4650447654,
          -89.825176402,
          -83.4973801652,
          -120.210685268,
          -95.9855029797,
          -95.5212091489,
          -82.8400954979,
          -88.1844851879,
          -83.7987668507,
          -84.9243960855,
          -98.6877665573,
          -98.6876748071,
          -82.045128893,
          -83.0807032108,
          -91.4792643967,
          -84.9814699602,
          -94.7033667748,
          -99.2049557543,
          -99.0079245072,
          -76.6585617307,
          -78.1937114415,
          -97.5971068674,
          -86.582320534,
          -92.4235830486,
          -90.8978501232,
          -77.895814073,
          -97.9421091428,
          -93.4768864968,
          -89.2772543125,
          -85.3252875939,
          -79.0965107022,
          -113.289465841,
          -103.508040266,
          -77.3913375552,
          -83.6974200138,
          -124.215220683,
          -122.355663195,
          -117.523057733,
          -94.3424415366,
          -104.13588983,
          -95.7933763474,
          -101.308021268,
          -96.410918404,
          -84.5376342293,
          -82.8315397747,
          -112.898820016,
          -111.244509797,
          -82.4684895116,
          -99.246244112,
          -109.941013899,
          -90.9474546435,
          -90.5319724291,
          -97.6480798696,
          -85.355562704,
          -98.07154012,
          -92.5595204513,
          -92.401770932,
          -77.2622958162,
          -106.116379137,
          -84.867288503,
          -83.9863423246,
          -79.7477780226,
          -91.7333211971,
          -84.6883115804,
          -97.7992042907,
          -94.4709413442,
          -105.052664798,
          -82.3575458711,
          -76.2492413613,
          -78.1126836616,
          -87.8242979012,
          -92.531468397,
          -86.9813747654,
          -80.2842745676,
          -98.5354613133,
          -123.431553907,
          -97.6199983523,
          -92.7229029989,
          -83.4927393736,
          -117.623098133,
          -103.820048707,
          -88.6894044448,
          -100.871863039,
          -82.725248963,
          -86.4751595355,
          -82.8799928978,
          -76.9973400492,
          -94.8626717415,
          -81.3656367045,
          -88.4286377038,
          -80.5902184298,
          -86.8789382363,
          -86.68175556,
          -82.7245932678,
          -123.08825568,
          -77.9330277459,
          -92.001376741,
          -102.408963566,
          -82.2127427051,
          -92.1786423155,
          -92.3369721117,
          -71.578520179,
          -82.301708462,
          -96.1119919612,
          -83.7688482856,
          -88.8055049879,
          -110.811737097,
          -88.6391629414,
          -91.8483120037,
          -81.7443041288,
          -85.0055834874,
          -96.6498496136,
          -149.580200458,
          -94.3461007818,
          -97.7246531212,
          -77.9966807915,
          -88.6957976971,
          -96.2140273941,
          -119.529362193,
          -89.0344291744,
          -90.5266210224,
          -81.1407026054,
          -83.2677076921,
          -96.9768199136,
          -77.9761379333,
          -84.7541920738,
          -99.9762313036,
          -86.4686962098,
          -96.699194634,
          -87.9928589857,
          -90.1772845526,
          -78.0039971272,
          -84.2217438305,
          -73.8388030183,
          -90.5376891038,
          -78.7708246691,
          -103.527540829,
          -94.3968169905,
          -99.2153257614,
          -86.0375413468,
          -79.9811946065,
          -98.958838067,
          -92.5325425886,
          -81.7714179132,
          -84.4761934266,
          -92.1470474552,
          -98.5170946378,
          -90.3614492328,
          -99.897935995,
          -68.3682079676,
          -80.9030859572,
          -114.811514939,
          -76.6021303656,
          -102.560476646,
          -97.6343490687,
          -89.9343041982,
          -96.0953033903,
          -75.8006828963,
          -74.9664662769,
          -76.2477042693,
          -90.245238047,
          -90.245238047,
          -90.245238047,
          -90.245238047,
          -90.245238047,
          -90.245238047,
          -90.245238047,
          -90.245238047,
          -90.4433975603,
          -90.4433975603,
          -90.4433975603,
          -90.4433975603,
          -90.4433975603,
          -90.4433975603,
          -90.4433975603,
          -90.4433975603,
          -96.2326356698,
          -85.7940056739,
          -111.743622083,
          -92.4225034913,
          -85.1881533822,
          -93.8063674936,
          -76.610646905,
          -76.610646905,
          -76.610646905,
          -76.610646905,
          -76.610646905,
          -76.610646905,
          -76.610646905,
          -76.610646905,
          -76.6163229502,
          -76.6163229502,
          -76.6163229502,
          -76.6163229502,
          -76.6163229502,
          -76.6163229502,
          -76.6163229502,
          -76.6163229502,
          -94.1534394591,
          -91.9248859666,
          -98.5212445201,
          -86.0520142517,
          -88.4433134871,
          -90.2074818825,
          -100.468737737,
          -80.7611602655,
          -108.405922131,
          -80.6633865366,
          -98.2179667085,
          -122.584898334,
          -96.991438734,
          -99.5607827211,
          -78.9437462563,
          -89.4104744564,
          -94.0632792993,
          -95.297576142,
          -85.6731507891,
          -81.7113031676,
          -87.0733191356,
          -82.4792535623,
          -84.2288717703,
          -95.8389749015,
          -86.962046365,
          -81.2721775142,
          -101.539985727,
          -91.3414327747,
          -91.6082975068,
          -103.513965366,
          -92.8819343531,
          -97.1439380223,
          -98.2093648177,
          -79.5649741709,
          -81.075087468,
          -87.3899644539,
          -82.2706927711,
          -104.304465762,
          -101.060530422,
          -91.1446648957,
          -74.0759554422,
          -101.050008039,
          -116.268559598,
          -103.347029228,
          -80.733902516,
          -95.215512199,
          -100.273115438,
          -84.8668203815,
          -92.4413959911,
          -91.3039612785,
          -84.727848116,
          -100.482861357,
          -93.9988297843,
          -79.4804292418,
          -88.6192951938,
          -83.9004744786,
          -96.4724850654,
          -108.320603167,
          -89.5134035348,
          -85.8389848955,
          -91.367341411,
          -82.9479591393,
          -89.4745620917,
          -96.6374007438,
          -78.6788502937,
          -83.854045282,
          -117.545169287,
          -83.0658604798,
          -102.823815002,
          -90.6150375695,
          -86.5502065185,
          -94.9784769569,
          -95.1501748646,
          -77.4157658244,
          -83.5096204438,
          -92.6770526205,
          -85.3884485912,
          -89.1265952453,
          -89.90499843,
          -95.7433888048,
          -93.0962433857,
          -78.4843979826,
          -96.5805297375,
          -92.0655240141,
          -76.7998633255,
          -99.7622052768,
          -94.6784802642,
          -78.6503081729,
          -114.877539979,
          -83.4942863604,
          -99.4871292548,
          -83.2090415694,
          -88.2393231398,
          -89.7346390174,
          -74.3037621955,
          -88.6804161511,
          -98.0754955835,
          -95.9599234782,
          -96.2220294815,
          -97.0875435237,
          -91.4005112879,
          -94.9471503059,
          -103.549748464,
          -85.6653287163,
          -102.261669894,
          -84.1473994082,
          -86.2917651855,
          -94.2473892814,
          -88.00222052,
          -70.8679199556,
          -90.7062204223,
          -74.0240654916,
          -92.6842202167,
          -95.68142838,
          -93.50517578,
          -96.6560903889,
          -97.4264922607,
          -91.5078826618,
          -77.955819263,
          -88.8384708522,
          -99.4544205673,
          -90.1061367548,
          -80.7802801147,
          -79.7579455969,
          -84.2047427822,
          -86.4512425439,
          -97.5985004429,
          -104.03869984,
          -82.1347612154,
          -120.452196945,
          -93.8025859879,
          -74.7017524053,
          -81.9503159678,
          -79.2360118434,
          -79.3994248175,
          -88.4902374225,
          -92.1480723868,
          -84.9650431209,
          -101.040305284,
          -87.2720537447,
          -99.7605956717,
          -103.710476768,
          -89.1884754842,
          -88.0972226536,
          -76.5059133431,
          -97.4569239404,
          -101.805968435,
          -81.6119345544,
          -113.905618757,
          -93.1888539044,
          -89.4849192699,
          -90.4539712434,
          -112.111371277,
          -83.4721517804,
          -81.4942562194,
          -93.7851578386,
          -96.3423649942,
          -96.2221042394,
          -83.9255394315,
          -96.4552777398,
          -87.3654375115,
          -71.7361943775,
          -92.590351423,
          -81.514965317,
          -92.9626237174,
          -118.886709262,
          -93.227308885,
          -94.9656722276,
          -84.3735369769,
          -99.2718714746,
          -97.5916576336,
          -75.4487944963,
          -85.4385728826,
          -81.1606296676,
          -80.702936854,
          -71.6196574376,
          -83.4270835327,
          -86.3145956812,
          -86.1113109452,
          -81.1856924179,
          -91.5079334292,
          -82.7940677882,
          -91.7383967271,
          -88.7077397007,
          -87.3566550687,
          -93.8290683344,
          -92.7914177407,
          -88.8809285275,
          -91.2539442656,
          -87.858966744,
          -79.195570287,
          -100.982419275,
          -80.5505540253,
          -76.1449651093,
          -82.5763150918,
          -80.2509863077,
          -100.681128599,
          -156.954041591,
          -123.41325989,
          -86.3135388959,
          -87.8702584456,
          -75.8196181695,
          -82.4591641694,
          -83.9418350885,
          -96.0039807574,
          -93.9934933573,
          -93.6050459212,
          -105.723910733,
          -81.3413404834,
          -92.5209408738,
          -86.9936742092,
          -85.2154596916,
          -104.47537645,
          -84.1519178888,
          -96.6214567361,
          -110.111239391,
          -81.1302139229,
          -108.27441843,
          -90.4722676012,
          -86.0617405927,
          -93.2260411098,
          -81.5605967061,
          -82.4831009236,
          -98.5021739966,
          -92.4527825664,
          -85.3248199236,
          -84.1411344532,
          -76.4202298099,
          -104.411957888,
          -92.3748055749,
          -72.6637844853,
          -97.9824010419,
          -84.5756449351,
          -122.220869625,
          -87.310906018,
          -87.8442748908,
          -123.716999161,
          -94.8605592807,
          -81.1659012496,
          -106.730712236,
          -85.8009172937,
          -99.3172316232,
          -99.7123497118,
          -85.9567145693,
          -80.3625657303,
          -84.9089881157,
          -98.5678411195,
          -73.7727094403,
          -102.393348977,
          -83.0668541556,
          -87.3082017869,
          -75.6389781252,
          -99.3092409497,
          -86.8932997962,
          -95.2859482396,
          -81.6747943199,
          -83.5311320934,
          -122.748858563,
          -94.7618791398,
          -84.7870462059,
          -116.658654162,
          -83.229622,
          -84.6115999116,
          -97.2857880387,
          -105.631025824,
          -87.1616198682,
          -108.382455769,
          -83.0199778922,
          -96.0378479139,
          -95.9642646677,
          -100.34555506,
          -87.5944659612,
          -87.6347744896,
          -119.616372018,
          -82.438869799,
          -106.930610164,
          -83.3673290793,
          -83.6880895838,
          -75.6091956535,
          -81.6480093213,
          -93.4112514229,
          -98.0672555333,
          -77.6412486292,
          -97.6007790824,
          -88.4256137919,
          -77.0591277659,
          -103.071704571,
          -93.8906143781,
          -89.4819150635,
          -89.7703977477,
          -80.382316033,
          -85.6326228076,
          -82.3958631537,
          -70.7565745217,
          -89.506677525,
          -98.684790626,
          -89.9546332243,
          -80.4456030776,
          -88.3293805253,
          -77.6170419931,
          -101.075705109,
          -82.2845872684,
          -101.354539211,
          -94.6713769479,
          -116.426326116,
          -83.1666552038,
          -96.0003022919,
          -82.0493124426,
          -85.6979139347,
          -99.9572518743,
          -99.2457570613,
          -84.5427676729,
          -98.7174450154,
          -109.51864842,
          -78.8125507413,
          -93.7245618667,
          -83.4210754055,
          -95.7428780841,
          -83.5241923117,
          -110.846516905,
          -91.5445322832,
          -92.5646083146,
          -99.0049301861,
          -82.8552822542,
          -99.8409490369,
          -84.8770681668,
          -81.11757183,
          -91.2939728213,
          -83.5663480377,
          -107.031700114,
          -97.5949196014,
          -98.0860066564,
          -76.2954030037,
          -81.9200107367,
          -135.559082719,
          -72.2438064213,
          -87.6831570963,
          -80.0077524976,
          -94.755225505,
          -97.6506227728,
          -86.6380317986,
          -89.00385691,
          -110.547561693,
          -85.0665620402,
          -90.7503556212,
          -100.406052463,
          -77.4911573271,
          -86.4167378958,
          -81.7269282584,
          -78.9013542096,
          -76.8751761312,
          -83.2588931268,
          -77.0701686698,
          -78.1592301973,
          -84.5293679243,
          -88.1975233535,
          -85.0602848847,
          -104.512845555,
          -120.717645936,
          -80.406685752,
          -98.5200258895,
          -85.8016452398,
          -87.5805486607,
          -86.5673709608,
          -94.8462689731,
          -76.4051500765,
          -86.3587711276,
          -120.02756623,
          -82.0809953636,
          -91.0749938771,
          -85.9409081483,
          -98.2369675679,
          -79.4813744392,
          -85.0902500996,
          -88.9930848744,
          -93.0994371546,
          -99.7414270482,
          -97.6012905205,
          -87.8618317846,
          -99.4411921853,
          -86.5450922685,
          -101.799252231,
          -83.833581803,
          -100.476864817,
          -85.4105869053,
          -91.8618379561,
          -111.443134948,
          -86.8676194614,
          -89.5526288201,
          -85.6958570326,
          -93.7855426585,
          -85.1747465425,
          -103.495767454,
          -92.7525135871,
          -97.4072328405,
          -91.8437036051,
          -78.9366028156,
          -76.9807147831,
          -92.2302602596,
          -78.8694125204,
          -104.561358367,
          -89.6589101835,
          -83.9370903322,
          -78.3657109025,
          -88.8233754157,
          -90.2015195408,
          -85.2880811587,
          -100.278743804,
          -92.4687042487,
          -88.9993411296,
          -80.714385637,
          -99.0749662354,
          -93.3071433023,
          -81.1786546043,
          -73.0929606243,
          -164.244322616,
          -78.2771863744,
          -84.999084282,
          -87.8438119782,
          -85.0094165914,
          -87.2321643219,
          -96.5127823741,
          -83.385817604,
          -96.2440866545,
          -86.8030654716,
          -98.9819022019,
          -77.8139806631,
          -109.804623139,
          -82.0581758793,
          -98.8361731572,
          -118.418728999,
          -82.6107022318,
          -79.5685441465,
          -81.3755663746,
          -79.9054790812,
          -86.718813672,
          -80.6880779273,
          -105.378007019,
          -91.3780922862,
          -98.6840973495,
          -96.7914365084,
          -84.8478607548,
          -74.6908006832,
          -73.8639045541,
          -110.42518446,
          -98.7201050468,
          -85.7225823933,
          -82.0360146573,
          -92.5577401117,
          -98.504704356,
          -95.4280934716,
          -101.208593305,
          -98.3751581878,
          -74.4973551336,
          -94.3548163135,
          -78.5287073251,
          -76.1609504039,
          -105.35770567,
          -81.4098866827,
          -93.5653381974,
          -89.2838357978,
          -85.564118869,
          -72.2222293649,
          -83.0006868923,
          -80.5738922207,
          -91.4702087982,
          -95.9876533263,
          -92.9314699116,
          -97.6492819059,
          -88.9040887049,
          -78.614168492,
          -102.335196551,
          -82.6377509574,
          -88.6440346093,
          -90.2125952059,
          -96.971525279,
          -85.011310408,
          -93.0236553896,
          -84.6246133807,
          -81.6363849358,
          -97.2480210132,
          -103.451555966,
          -102.355667862,
          -160.195267975,
          -94.4221022302,
          -106.798493803,
          -92.7890314515,
          -91.8470716058,
          -113.933251642,
          -90.448798677,
          -156.981015248,
          -112.127186525,
          -83.0495338272,
          -83.7067110419,
          -91.0625868595,
          -93.6595529416,
          -81.4562556854,
          -98.924242239,
          -85.3968993017,
          -88.71271926,
          -90.0405268831,
          -87.732815214,
          -93.5546968685,
          -94.8300248619,
          -77.1054588564,
          -121.83595173,
          -121.228141798,
          -76.306316775,
          -96.721824276,
          -87.0077059131,
          -103.693167266,
          -86.5921750794,
          -82.1635815487,
          -97.8357913307,
          -91.7455472673,
          -85.15248111,
          -81.3809730552,
          -72.1022211883,
          -96.57240407,
          -82.3649735213,
          -84.492064415,
          -87.4146903866,
          -78.051263729,
          -88.0968988585,
          -90.9623104086,
          -90.4708835924,
          -84.8383148406,
          -140.381018617,
          -99.4046440743,
          -93.9854672168,
          -83.4001988278,
          -73.0809205876,
          -156.617058801,
          -95.7341117812,
          -97.7861241175,
          -84.1943088346,
          -79.190856302,
          -103.251755856,
          -91.6400549956,
          -98.110725849,
          -95.2933285252,
          -90.4428211702,
          -80.619057007,
          -78.2577317099,
          -71.0288020158,
          -101.89292281,
          -109.569833712,
          -90.6629400421,
          -97.7819489614,
          -93.8938981104,
          -81.1974037386,
          -98.6973050685,
          -84.226432416,
          -98.1810871979,
          -119.584275031,
          -94.8975993632,
          -111.659188485,
          -85.2806497629,
          -160.006978537,
          -99.6674010729,
          -90.9892124114,
          -95.5712007054,
          -79.9867558926,
          -111.344739896,
          -85.832751654,
          -72.685241262,
          -88.5802645599,
          -98.5012089617,
          -93.4598811569,
          -99.4536376507,
          -111.207614545,
          -112.840655966,
          -73.973558571,
          -72.1065129033,
          -105.428249706,
          -79.6787226224,
          -76.5357430669,
          -92.3176637461,
          -93.7342722978,
          -90.8825218504,
          -105.507062664,
          -77.9812075394,
          -78.4903171166,
          -96.3684743899,
          -111.573150356,
          -94.9376544511,
          -70.6987715777,
          -107.862876811,
          -86.6501076967,
          -123.112627727,
          -102.637815121,
          -78.6527194252,
          -114.049673744,
          -76.7093216245,
          -118.008777581,
          -98.9809214634,
          -99.2367293489,
          -94.7644784215,
          -143.211992263,
          -83.4682747823,
          -93.2934250568,
          -86.3006262039,
          -96.2670873079,
          -84.5510526557,
          -115.133309958,
          -93.7351436616,
          -94.3253505738,
          -90.3964479749,
          -118.96788861,
          -97.1886184207,
          -101.663989111,
          -76.1786170603,
          -94.2343408793,
          -86.4517083941,
          -83.1810673054,
          -104.140019787,
          -83.121183014,
          -83.2218260273,
          -81.3786238259,
          -94.4099168493,
          -76.9667121404,
          -82.8555082084,
          -87.8733713765,
          -85.3025273835,
          -84.6608453633,
          -95.383448733,
          -91.7630555512,
          -96.1490922947,
          -120.768752113,
          -94.0250850358,
          -83.14391569,
          -79.0611168206,
          -84.2906502039,
          -100.760002796,
          -89.503056435,
          -98.1363325923,
          -77.0482433004,
          -87.0720684602,
          -106.342794688,
          -89.2911821185,
          -83.0570255812,
          -85.6591577058,
          -89.1875965868,
          -94.6991848828,
          -84.4446694741,
          -84.5790701498,
          -95.1355105473,
          -82.0265380466,
          -105.161826391,
          -82.4799463782,
          -88.053300973,
          -83.6966440772,
          -99.8839942406,
          -79.2991976958,
          -96.4018033447,
          -95.2538341808,
          -91.6737652244,
          -120.515996378,
          -85.1647566085,
          -70.9856096697,
          -91.1646955496,
          -88.847324278,
          -91.896403608,
          -75.3032577124,
          -110.435223803,
          -103.470970513,
          -79.1038649277,
          -93.7162169926,
          -93.8915614277,
          -91.3749047506,
          -79.8060069064,
          -96.8808913751,
          -87.8684711826,
          -79.4209635408,
          -97.3684431809,
          -108.207290604,
          -83.4931751504,
          -79.952159639,
          -81.0829177077,
          -96.4906494764,
          -81.8094429515,
          -105.439657054,
          -77.9158559223,
          -111.170368946,
          -97.5684211292,
          -74.6680674072,
          -71.3055333389,
          -94.4233195808,
          -96.615493743,
          -114.901684451,
          -83.768102221,
          -75.6696638191,
          -86.1016367881,
          -90.4614294536,
          -83.2217837238,
          -92.9957332424,
          -88.4502607461,
          -84.5246378869,
          -92.4970779756,
          -122.876213921,
          -103.085681934,
          -88.6512057677,
          -106.930399241,
          -80.759010793,
          -82.4181514496,
          -117.855153321,
          -111.804508601,
          -100.689719816,
          -78.1746435555,
          -90.1069711692,
          -69.767264396,
          -83.8242451537,
          -100.813991608,
          -158.348270189,
          -97.3093236805,
          -110.700630808,
          -94.9996891482,
          -92.9987713463,
          -88.7075067352,
          -119.762644507,
          -109.175062005,
          -75.8534705783,
          -97.1939149855,
          -77.5595928743,
          -83.3780560683,
          -76.0958206019,
          -107.749771928,
          -96.7904210084,
          -108.26182312,
          -69.2845234425,
          -75.3672936402,
          -83.7472418424,
          -123.828620824,
          -100.871191808,
          -80.2334232097,
          -81.9293594987,
          -81.1494997552,
          -90.4294834242,
          -106.879383134,
          -96.7778770663,
          -75.6115785175,
          -77.0645062464,
          -91.0371787166,
          -107.271623165,
          -102.71686602,
          -104.525584561,
          -91.5527759528,
          -70.4440737272,
          -83.5988719199,
          -85.373250216,
          -84.166754367,
          -82.4215337501,
          -83.1286182436,
          -85.505117935,
          -92.5972913761,
          -104.339234024,
          -68.5988785527,
          -89.8230024414,
          -89.4143720339,
          -97.8918968398,
          -123.098321728,
          -72.7137985374,
          -80.0554750445,
          -80.3872154427,
          -108.404762399,
          -87.5096840021,
          -85.000764854,
          -82.2640527023,
          -95.6722708168,
          -82.4853500567,
          -82.9642475976,
          -89.4788485523,
          -89.4347315443,
          -123.429249066,
          -79.0875470867,
          -93.9920637276,
          -80.5518508851,
          -80.888585011,
          -91.9315146225,
          -93.9630531168,
          -87.4639782841,
          -122.330538465,
          -96.1408663039,
          -89.7954717926,
          -112.491486812,
          -89.8021776433,
          -78.240565851,
          -111.789863499,
          -97.11926027,
          -96.7525021968,
          -77.3979843347,
          -121.940024418,
          -98.756464293,
          -89.9194880948,
          -89.1177101979,
          -90.0259472067,
          -83.3278388255,
          -96.8390654617,
          -89.9457980719,
          -87.7880131637,
          -92.6409093578,
          -84.1541806022,
          -84.6174748904,
          -96.6843760531,
          -106.307385105,
          -71.3917424712,
          -94.6158732578,
          -84.2162536823,
          -88.2632012743,
          -99.8879423784,
          -90.0920506122,
          -80.102712026,
          -135.470092205,
          -92.6367652262,
          -78.3486041534,
          -113.600088287,
          -117.037908401,
          -74.4396826879,
          -94.0708780275,
          -90.8638843452,
          -76.1704523585,
          -98.999794176,
          -94.905822196,
          -95.7484141356,
          -92.6007190462,
          -83.3811399511,
          -92.4614657054,
          -82.1514904737,
          -86.8705670582,
          -82.9101752594,
          -108.958601602,
          -92.8101191097,
          -79.8757955735,
          -84.7480935785,
          -85.8260308543,
          -121.600671735,
          -92.7412705154,
          -93.0559517637,
          -85.3009850599,
          -92.7901934384,
          -91.92602044,
          -83.6189726465,
          -104.417423806,
          -70.3302006275,
          -81.8578845259,
          -81.3582013406,
          -89.8020061532,
          -78.8868222264,
          -98.0512842475,
          -99.7486955832,
          -84.3881091147,
          -85.9633719015,
          -105.976273211,
          -97.7743353973,
          -95.7175305402,
          -88.5636398807,
          -83.0092981418,
          -81.0221137598,
          -99.1452534374,
          -79.7749871967,
          -121.176237426,
          -98.2414446434,
          -100.394202624,
          -94.2741206259,
          -97.5182740096,
          -90.3582204731
         ],
         "marker": {
          "color": [
           0.667530006,
           0.423578177,
           0,
           0.49451092899999993,
           0.21736767799999998,
           -0.22983222299999997,
           -0.10478884999999999,
           0.43902128900000004,
           0.26710353,
           -0.2787068,
           0.506072874,
           0.5584165790000001,
           0.243265481,
           0.14657598499999996,
           0.525885241,
           0.6671114069999999,
           0.49765391700000006,
           -0.09170105400000006,
           0.14144557400000002,
           0.364906427,
           -0.06084575599999997,
           -0.699056274,
           -0.88028169,
           -0.299222023,
           0.278802436,
           0.475390263,
           0.312207306,
           0.19129603,
           0.167579041,
           -0.029982310999999984,
           0,
           -0.466853408,
           0.395681419,
           0.457557012,
           0.059959227999999976,
           0.846895423,
           0,
           0.333762456,
           0.549344906,
           0.383987713,
           0.43091065799999995,
           0.25942580400000004,
           0.30938201,
           0.6768605969999999,
           0.539890784,
           0.216340953,
           0.669299243,
           0.408828336,
           0.275292498,
           0.6077848969999999,
           0.10333781099999997,
           0.602254152,
           1.078748652,
           0.13514426699999998,
           0.490511665,
           0.969260593,
           0.16026925200000003,
           0.469006488,
           -0.333611343,
           0.703882181,
           0.45030934300000003,
           0.324939074,
           0.6704097880000001,
           0,
           0.644911647,
           0.08528784599999997,
           0.434707007,
           -0.396118044,
           0.645940741,
           0.389301091,
           0.772734713,
           0.42153048000000004,
           0.308108615,
           0.607943702,
           0.8886914020000001,
           0.45475215999999996,
           0.600720865,
           0.576368876,
           0.2236386,
           0.5150618180000001,
           0.516286492,
           0.46439928,
           0.496164269,
           0.338623383,
           0.17367141400000002,
           0.629511499,
           0.20100502499999995,
           0.681522616,
           0.468515742,
           0,
           0,
           0.277315585,
           0.21765153999999998,
           0.352351949,
           0.314514861,
           0.234225559,
           0.444312797,
           0.529975749,
           -0.196290117,
           0.438188092,
           0.396112009,
           0.40443963299999997,
           1.3166364330000002,
           0.404329949,
           0.17452007000000003,
           0.4912948690000001,
           -0.22487069999999998,
           0.830384525,
           0.6871537050000001,
           0.32404407,
           -0.18674136300000005,
           0,
           -0.287301283,
           0.203998368,
           0.09701203,
           0.350232028,
           0.569712966,
           0.5685001479999999,
           -0.331125828,
           -0.17721070300000002,
           0.487584021,
           0.19066988699999998,
           0.595770033,
           0.17333025200000002,
           0.541147118,
           0.31628470900000005,
           0.045614194999999996,
           0.698754573,
           0.6013740940000001,
           0.275976266,
           -0.19346101699999999,
           0.467670998,
           0.38150364999999997,
           -0.159451487,
           0.329380765,
           0.284900285,
           0.520311416,
           0.21798704500000002,
           0.40588533800000004,
           0.531656904,
           0,
           0.449808831,
           0.417153346,
           1.50164145,
           0.312199183,
           0.503795258,
           0.34277198200000003,
           0.643049222,
           0.362161379,
           0.283232629,
           0.745788208,
           0,
           0.347161951,
           0.342817963,
           0.667922998,
           -0.32880315699999996,
           -0.334728033,
           0.27037466200000004,
           0.13304359400000002,
           0.548757065,
           0.469143213,
           0.7959491270000001,
           0.519507866,
           0.48385981899999997,
           0.373907742,
           0.43151589,
           0.05339170800000001,
           0.397269674,
           0.42363515800000007,
           0.569843739,
           0.4586508610000001,
           0.571978265,
           0.6187353050000001,
           0,
           0.24984830699999996,
           0.32425421499999996,
           0.490226117,
           0.37448508299999994,
           0.28803351600000004,
           0.304814158,
           0.519716418,
           0.414585885,
           0.234576589,
           -0.32324103,
           0.663037409,
           0.357309966,
           0.435919791,
           0.379686758,
           0.192016898,
           0.143988481,
           0.5147327039999999,
           0.282161356,
           0.04789501399999996,
           -0.919681178,
           0.466913993,
           0.7518575300000001,
           0.17713222900000003,
           0.47634169499999995,
           0.5567165709999999,
           0.337071766,
           0.653144804,
           0.40955631400000003,
           0.303251931,
           2.685546875,
           0.596777445,
           0.17614937400000003,
           -0.095301629,
           0.4105933070000001,
           0.234662217,
           0.9136019200000001,
           0.722614479,
           -0.343288706,
           -0.178986934,
           0,
           0.48294894600000005,
           0.57265569,
           -0.10248709899999997,
           0.08058017700000003,
           0.48612531300000006,
           0.40973683699999996,
           0.270833898,
           0.590147951,
           0.36782736699999996,
           0.219695721,
           0.7291951500000001,
           0.17915795699999998,
           -0.801924619,
           0.5637432550000001,
           0.12408487399999998,
           0.314901121,
           -0.406752084,
           -0.26903416799999996,
           0.432673695,
           0.204666393,
           0.122494978,
           0.517495322,
           0.152160682,
           0.409282527,
           0.6021436309999999,
           0,
           0.06869075400000002,
           0.41590417599999996,
           0.200601806,
           -0.277085065,
           0.219876869,
           0.29256875400000004,
           0.538828222,
           0.17727353299999998,
           0.896860986,
           0.730104648,
           0.640853152,
           0.453926464,
           1.966909638,
           0.181417288,
           0.32891130299999993,
           0.07305669200000003,
           0.49885160200000006,
           0.432214378,
           0.8030981739999999,
           0.06914672999999999,
           0.5215535020000001,
           0,
           0.758448576,
           0.59151334,
           0.128040973,
           0.47882995399999995,
           0.699827735,
           0.30972537699999997,
           -0.19805902099999997,
           0.378627586,
           -0.481927711,
           0.215563699,
           0.376896259,
           0.377651427,
           0.567107751,
           0.5671637939999999,
           0.660924882,
           0.591016549,
           0.07559721799999997,
           0.914076782,
           0.531671187,
           0.790529858,
           0.583293495,
           0,
           0.40777490899999996,
           -0.773544769,
           0.31402104,
           0.347128149,
           0.8502775659999999,
           0.383589351,
           0.45121163000000003,
           0.394855596,
           0,
           0.346512986,
           0.4178855,
           0.04602780000000001,
           0.451010437,
           0.437822895,
           0.14441215300000002,
           0.30427506499999996,
           0.19120458899999998,
           0.384615385,
           0.35916563,
           -0.249107365,
           0,
           0.68591026,
           0.552132185,
           0.5365471129999999,
           0.302277154,
           0.601629026,
           0.164690382,
           0.529140525,
           0.63715557,
           0.33494105100000005,
           0.615727594,
           0.14683209700000005,
           -0.286327845,
           0.07896399199999998,
           0.14468988099999996,
           0.47897499400000004,
           -0.860585198,
           0.216169477,
           0.37901834300000004,
           0.20447806899999998,
           0.483161811,
           0.541271989,
           -0.16688918599999997,
           0.30624744800000003,
           0.552473813,
           0.72838517,
           0.482320148,
           0.478938558,
           0.5830480299999999,
           -0.15012760799999997,
           1.007347761,
           0,
           0.23199164800000002,
           0.16698994299999997,
           0.511904514,
           0.364564345,
           0.236714404,
           0.616264452,
           0.730894499,
           0.339259058,
           0.467606556,
           -0.114364136,
           0.300842359,
           0.327753127,
           -0.362362604,
           0.622484127,
           0.530948392,
           0.096730509,
           0.49033474800000004,
           0.334029227,
           -0.34285714300000003,
           0.234045873,
           0.8423954660000001,
           0.260806459,
           0.684702473,
           0.47978366199999994,
           0.08331944599999999,
           0,
           0.414384222,
           0.30850105499999997,
           0.280553001,
           0.52411958,
           0.34295513,
           0.148566335,
           0.638837032,
           0.7342032380000001,
           0.29525621599999996,
           0,
           0.26142326299999996,
           0.42282500400000006,
           0.618483831,
           0.12874983899999998,
           0.44406381799999994,
           0.37448493699999996,
           0.37371535300000003,
           0.484966053,
           0.7067762169999999,
           0,
           0.5555555560000001,
           0.44116528499999996,
           0.583478072,
           0.399121932,
           0.49232000299999995,
           0.08957362899999993,
           0.343577019,
           0.449043537,
           -0.207533465,
           0.705965408,
           0.513061695,
           0.41697070799999997,
           0.269175711,
           0.36511934399999996,
           0.31986352500000004,
           0.711142737,
           0.106018306,
           0.534759358,
           0.440123234,
           0.301816386,
           0.45822514200000003,
           0.498104106,
           0.17546168300000003,
           -0.233100233,
           0.523735428,
           0.20480611599999998,
           0.579374276,
           0.564440263,
           0.235933734,
           0.05624297,
           -0.28534741099999994,
           0.512663889,
           -0.325203252,
           0.49659830099999996,
           0.6143490570000001,
           0.48421537300000006,
           0.21019442899999996,
           0.37153674699999995,
           0.470567145,
           0.56196996,
           0.8444519509999999,
           0.355660936,
           0.551024907,
           0.783260602,
           -0.396196513,
           0.5386272700000001,
           0,
           0.407329065,
           0.43900105,
           0.943071147,
           -0.501756147,
           0.68412451,
           0.553464689,
           0.67731356,
           -0.177462289,
           0.24141738799999998,
           0.49021792399999997,
           0.38954812400000005,
           0.698550351,
           0.3470213999999999,
           0.506267165,
           0.47682908599999996,
           0.506768986,
           0.1953125,
           0.42863266199999994,
           -0.171071765,
           0.13274923600000002,
           0,
           0.57885597,
           0.41817673299999997,
           0.11115433800000002,
           0.981161696,
           -0.469043152,
           -0.815993472,
           0.336253429,
           0.44418122600000004,
           0.5412560670000001,
           0.24655937600000005,
           0.53666063,
           0.18746485000000002,
           0.390923306,
           0.5180667999999999,
           0.414387536,
           0.304136253,
           0.380710659,
           -0.206029806,
           0.08536793600000003,
           0.18982536099999997,
           0,
           0.712691499,
           0.417628851,
           -0.323781771,
           0.187511719,
           0.709148009,
           0.290594427,
           0.370086495,
           0.194609321,
           0.4574688520000001,
           0.66058643,
           0.19205838599999997,
           0.437636762,
           0.37714785700000003,
           0.418118467,
           0.453657175,
           0.622415248,
           0.4733336779999999,
           0.287846246,
           0.37051175599999997,
           0.12315271,
           0.29045375400000006,
           -0.436681223,
           0.46250795,
           0.293219303,
           0.325839035,
           0.325839035,
           0.758593034,
           0.758593034,
           0.158302636,
           0.158302636,
           0.5910566349999999,
           0.5910566349999999,
           0.325839035,
           0.325839035,
           0.758593034,
           0.758593034,
           0.158302636,
           0.158302636,
           0.5910566349999999,
           0.5910566349999999,
           0.650696379,
           0.553464689,
           0.47300007800000005,
           0.268141445,
           0,
           0.171519231,
           0.6155108739999999,
           0.5943889680000001,
           0.279056788,
           0,
           0.406256348,
           0.357062316,
           0.396196514,
           0.6541901800000001,
           0.397675806,
           0.278830433,
           -0.532339633,
           0.48834732700000005,
           -0.24207213800000002,
           0.26981946600000006,
           0.5095738110000001,
           0.23969841599999997,
           0.45091207200000005,
           0.5086757479999999,
           1.199040767,
           0.446852483,
           0,
           0.700755967,
           0.6103139419999999,
           -0.15444015400000002,
           0,
           0.10193160299999998,
           -0.586338317,
           0.23751840700000001,
           0.378024193,
           0.04263483299999998,
           0,
           0.48059593899999997,
           0.280819994,
           0.442729746,
           0,
           0.148159123,
           0.440431623,
           0.335683115,
           0.234901694,
           -0.450315221,
           0.44622936199999996,
           0,
           0.742709717,
           0.297044408,
           0.33255736599999997,
           0.19434457300000002,
           0,
           0.17453299200000003,
           -0.7330610529999999,
           0.350119624,
           0.8500991779999999,
           0.651811104,
           0.22609088800000002,
           0.139684313,
           0.485944976,
           -0.250281567,
           0.499737318,
           0.41891218700000005,
           0.35570913099999996,
           -0.266098989,
           0.21210707099999998,
           0.209951711,
           0,
           -0.594825023,
           0.026638962000000044,
           0.438320138,
           0,
           -0.238606538,
           0.522557046,
           0.290934481,
           0.47104461000000003,
           0.23981226100000003,
           0.209226907,
           0.550812449,
           0.502065878,
           0.12891581799999996,
           0.560134432,
           0.40620684100000004,
           0.312753736,
           0,
           0.06645843000000001,
           0.624405329,
           0.472722627,
           0.808377732,
           -0.236294896,
           -0.058847761,
           1.0277492289999999,
           0.5456702259999999,
           0.36392750500000004,
           0.161576991,
           0,
           -0.277161863,
           0.6375788600000001,
           0,
           0.15584820400000002,
           0.5000294129999999,
           0.511236553,
           0.504431794,
           0.160711416,
           0,
           0.133806115,
           0,
           0.654141629,
           0.06311537500000003,
           0,
           0.74939108,
           0.39238767899999993,
           0.49813009599999997,
           0.45158310700000004,
           0.387903168,
           0.14293201200000002,
           0.6117330400000001,
           0.37727307,
           0.511299724,
           0.477392075,
           0.33634643700000005,
           0.510818405,
           0.538623816,
           0.356647917,
           0.49429381399999994,
           0.501692838,
           0.729197882,
           0.37133308600000003,
           0.32386041600000004,
           0.39148857800000003,
           0.711237553,
           0.552634078,
           0.11402508600000003,
           0.24904119200000002,
           0.319224847,
           0,
           -0.505433409,
           0.278862242,
           -0.172691688,
           0.18581834399999997,
           0.878488189,
           0,
           0.439435454,
           0.4722035560000001,
           0.28314174000000003,
           0.13269639000000003,
           -0.571755288,
           0.154362675,
           0.72152871,
           0.39282440799999996,
           0.31967695800000007,
           -2.463054187,
           -0.330196467,
           0.7530120489999999,
           0.30010803799999997,
           0.32000000000000006,
           0.331290376,
           0.411617491,
           0,
           0.03535817800000002,
           0.588081198,
           -0.459136823,
           0.199660577,
           -0.23741690399999998,
           0.5277045340000001,
           0.09775170999999999,
           0.33934252400000003,
           0.45829514200000004,
           0.524504191,
           0.7136241480000001,
           0.46771358900000004,
           0.36735764800000004,
           0.479477621,
           0.46050397899999995,
           0.710658139,
           0.7677369820000001,
           0.18721332999999996,
           0.210925965,
           0.9106178030000001,
           0.329353643,
           0.801593252,
           0.593112631,
           0.15971889499999997,
           0.08968609899999996,
           0.737821633,
           -0.452079566,
           0.220276447,
           0.26608887400000003,
           0.355960559,
           -0.288892099,
           0.29615005,
           0.077402376,
           -0.5396654080000001,
           0.659511994,
           0.472032098,
           0.5958937499999999,
           -0.48496605300000006,
           0.742500742,
           0,
           0.433134814,
           -2.131060202,
           0.390632266,
           0.254048905,
           0,
           0.596448421,
           0,
           0.16073724800000003,
           0.348501464,
           0.539588151,
           0.253694425,
           0.679515691,
           0.62430129,
           0.36619384599999993,
           0.36619384599999993,
           0.882226203,
           0.882226203,
           0.21709033299999997,
           0.21709033299999997,
           0.7331226900000001,
           0.7331226900000001,
           0.36619384599999993,
           0.36619384599999993,
           0.882226203,
           0.882226203,
           0.21709033299999997,
           0.21709033299999997,
           0.7331226900000001,
           0.7331226900000001,
           0.6701222360000001,
           0.49247798500000006,
           -0.296384114,
           0.6227296310000001,
           0.605999394,
           0.404730854,
           0.46517500599999995,
           0.503011853,
           0.376306621,
           0.14015417000000002,
           0.5547020819999999,
           -0.038865137999999994,
           0.5126941580000001,
           0.557813372,
           0,
           -0.200360649,
           0.23665838299999997,
           0.20697505900000002,
           0.5439718929999999,
           0.439592644,
           0.589699502,
           0.5954912800000001,
           -0.19565642700000002,
           0.310520432,
           0.268033638,
           0.565351219,
           0,
           0.396078819,
           0,
           0.184147094,
           0.52586486,
           0.37256241900000003,
           0.5077704270000001,
           0.443849701,
           0.461133891,
           0.49882419999999994,
           0.605766901,
           0.41882237,
           0.45540947299999995,
           0,
           1.1687363039999998,
           0.212102952,
           0.198826921,
           0.4961723840000001,
           0,
           0.409046214,
           0.33272241799999996,
           0.23228803700000003,
           0.582938506,
           0.40770457099999996,
           -0.164284541,
           0.296145873,
           0.09354537000000002,
           0.250563769,
           0.546866455,
           0.29522909799999997,
           -0.377026517,
           0.29316915899999996,
           0.34975333200000003,
           0.16570400500000002,
           0.2399952,
           0.16930978,
           0,
           5.797101449,
           0.5718279430000001,
           0.521071971,
           0.202326758,
           0.472243866,
           0.13217023499999997,
           0.069847035,
           0.424808836,
           0.440774588,
           0.42456447900000005,
           0.30807147199999996,
           0.25612567199999997,
           0.23289665199999998,
           0.570385195,
           0.3844943900000001,
           0.257311948,
           0.463586531,
           0.48708327300000004,
           0.31170515200000004,
           0.424568356,
           0.531141675,
           0.261198903,
           0.589831309,
           0.5195385969999999,
           0.38591413399999996,
           0.662443588,
           0.4384354429999999,
           0.589664784,
           0.392651621,
           0.593225366,
           0.43897491800000005,
           0.13276686199999999,
           0.12848516,
           0.712940789,
           0.406161622,
           0.351716376,
           0.562387522,
           0.744047619,
           -0.432525951,
           0.27700831000000004,
           0,
           0.399640324,
           0,
           0.21781746899999999,
           -0.675675676,
           0.650952447,
           0.423927026,
           0.185090926,
           0.10815487700000001,
           0.4108463440000001,
           0.67537081,
           0.359777138,
           -2.100840336,
           0.314891205,
           0.588447554,
           0.44148161300000005,
           0.16774770800000002,
           0.565065815,
           0.309453814,
           0.12950572,
           0.4846154,
           0.355517634,
           0.39473035,
           0.6912417510000001,
           0.319352779,
           0.7177720350000001,
           0.046427411,
           0.422952207,
           -0.312109862,
           0.30102348,
           0,
           0.23214423899999997,
           0.460562481,
           -0.610873549,
           0.14207909,
           0.597932851,
           0,
           0.085704491,
           1.0846640550000002,
           0.753693639,
           0.432944532,
           0.68243858,
           0.5470459520000001,
           0.36225321499999996,
           0,
           0.552055595,
           0.749018423,
           0.490015925,
           -0.12110447299999999,
           0.04719652699999999,
           0.23500658,
           0.49980364899999996,
           -0.04634994200000003,
           0.195947159,
           0.823797133,
           0.18238190699999998,
           0.676616602,
           0.16798252999999996,
           -0.051800051999999985,
           0.516514883,
           0.493289561,
           0,
           -0.247586036,
           0.277366864,
           0,
           -0.423370025,
           0.214947446,
           0,
           0.46268449599999995,
           0.728243719,
           -0.05393743200000001,
           0.37496591300000004,
           0.335104601,
           0.42293052400000003,
           0.594561251,
           -1.432664756,
           0.573131228,
           0.500134652,
           0.5205023120000001,
           0.370127837,
           0,
           0.406393932,
           0.477099237,
           -0.222518914,
           0.140502061,
           0.866887191,
           0.670498084,
           0.39196541299999993,
           0,
           0.28493999899999994,
           0,
           -0.282273241,
           0.596712116,
           0.55417013,
           0.13817880399999993,
           0.38634607499999996,
           -0.513347023,
           0.42735042700000003,
           0.11607661100000005,
           0.31047780900000005,
           0.798647623,
           -1.015228426,
           0.44238947399999995,
           0.26802465799999997,
           -0.49726504299999996,
           0.751998734,
           0.443824499,
           -0.833333333,
           0.144843569,
           0.18326766199999994,
           0.110656191,
           0.5557115109999999,
           0.36896965200000004,
           0.48990014,
           0.506065921,
           -0.131010087,
           0.279334486,
           0,
           0.452767789,
           0.499040637,
           0.46377886999999995,
           0.491249386,
           0.37542234999999996,
           0.700756867,
           0.465714855,
           0.388462659,
           0.584312916,
           0.410106006,
           0.178699071,
           -0.152288129,
           0.582009737,
           0.355819746,
           0.5519373000000001,
           -0.121256214,
           0.331507411,
           0.7435931480000001,
           0.577719293,
           0.8347307000000002,
           0.873426014,
           -0.3681885129999999,
           -0.28551035,
           0,
           0,
           0,
           1.052631579,
           0.363658403,
           0.11855364499999999,
           0.192761794,
           0.43727528899999996,
           0.5744166700000001,
           0.511922403,
           0.396667989,
           0.45117446299999997,
           0.49753719100000005,
           0.37157547999999996,
           0,
           0.521973397,
           -0.17806267799999997,
           0.583937641,
           0.324452001,
           0.474709834,
           -0.489236791,
           -0.11469205099999996,
           0.384756113,
           0.567697985,
           0.47781913299999995,
           0.614664711,
           0.28887818900000006,
           0.500596049,
           0,
           0,
           0.635413725,
           0.48175745099999995,
           0.395222203,
           0.440352608,
           0.19392999100000002,
           0.10648493200000003,
           0.49513121000000004,
           0.26435095299999994,
           -0.655737705,
           0.312280428,
           -0.224542495,
           0.427853246,
           0.19803941,
           0.6436663229999999,
           0.719791957,
           0.758946815,
           0.428709228,
           0.23741690399999998,
           0.542106626,
           0.339731612,
           -0.16923337200000005,
           0.26267402100000004,
           0.499899464,
           0.501131125,
           0.175213176,
           0.32654291499999993,
           0.72556308,
           -0.284738041,
           0.303759018,
           0,
           0.404912943,
           0.400436841,
           -0.818665575,
           0.24413234699999997,
           0,
           0.148246979,
           0.620954146,
           0.6187436439999999,
           0.443710842,
           0.443710842,
           1.2133411639999998,
           1.2133411639999998,
           0.29571058699999997,
           0.29571058699999997,
           1.065340909,
           1.065340909,
           0.443710842,
           0.443710842,
           1.2133411639999998,
           1.2133411639999998,
           0.29571058699999997,
           0.29571058699999997,
           1.065340909,
           1.065340909,
           0.4840033389999999,
           0.396667989,
           0.423423378,
           0.434806239,
           0,
           0.663585814,
           0.139645301,
           -0.31675641500000007,
           0.22952625799999993,
           0.8594002680000001,
           0.649139889,
           0.483712241,
           0.13920790700000002,
           0.05427555700000003,
           0.613617769,
           0.5087257519999999,
           0.152091255,
           0.122354093,
           -1.212121212,
           0.180733779,
           0,
           0,
           0.492035181,
           -0.232396003,
           -0.203231379,
           -0.119717466,
           0.345650142,
           0.575043128,
           0.509943907,
           0.587511578,
           0.24080428600000003,
           0.491635618,
           0.33809495700000003,
           0.424716424,
           -0.158654609,
           0.4854617,
           0.7086193329999999,
           0.622816756,
           0.463551683,
           -0.103124678,
           0.31826861900000003,
           0.41993590399999997,
           0.682114946,
           0.130753138,
           0.7375537799999999,
           0,
           0.46653759100000003,
           0.48985707700000003,
           0.5244136399999999,
           0.638301753,
           0.579683261,
           0.646855635,
           0.23274692500000002,
           0,
           0.19733596499999997,
           0.419815281,
           0.502565731,
           0.379729356,
           0.431723006,
           0.47082034800000006,
           0.279124943,
           0.428037621,
           0.154846702,
           0.586184555,
           0.376459742,
           0.591715977,
           0.12446906099999999,
           0.44794839599999997,
           0.5125673930000001,
           0,
           0.49288718400000003,
           -0.510204082,
           0.5874499329999999,
           0.7646829,
           0.24112363599999997,
           -0.13860013799999998,
           0.589075593,
           0.621658585,
           0.675095127,
           0.436829588,
           0.148986889,
           0.45849125800000007,
           0.132310135,
           0.491690806,
           0.138523342,
           0.341163856,
           -0.968366688,
           0.232342007,
           0.65055297,
           0.11991126600000002,
           0.411425885,
           0.152230172,
           0.329285319,
           0.448056048,
           0.4504748009999999,
           0.30472011499999996,
           0.757616754,
           0.538823663,
           0.268048606,
           -0.352236703,
           0.598409681,
           -0.726216412,
           0.479486949,
           0.37110619699999997,
           0.887951607,
           0.635904773,
           0.53492497,
           0.06871671499999998,
           0.26108903099999997,
           0.35716107999999996,
           -0.20772746099999997,
           0.45930008600000005,
           0,
           0.474890181,
           0.454411197,
           0.640830028,
           0.427914711,
           0.41449296,
           0.532197978,
           0.503929579,
           0,
           0.6279998210000001,
           0.42874496799999995,
           0.424178155,
           0.49540995200000004,
           0.533483499,
           0.290409477,
           0.36093265,
           0.27499724999999997,
           -0.644953241,
           0.594784442,
           0.327495478,
           0.462036796,
           0.512640639,
           -0.195752178,
           0.493273542,
           0.22760378799999997,
           0.187621661,
           0.45652624999999997,
           0.09726680300000001,
           -0.07254261900000003,
           0.152536685,
           0.152172259,
           0.720115219,
           0.464315953,
           0.362428269,
           0.45881289500000005,
           1.007683588,
           0,
           0.52717976,
           0.310655483,
           0.6305611999999999,
           0.239108603,
           -0.44052863500000006,
           0.049089391999999954,
           -0.077483341,
           0.731544185,
           0.7123576679999999,
           0.12426991400000004,
           1.2033694339999998,
           0.416666666,
           0.27027027100000006,
           0,
           0.590560124,
           0.49029624800000005,
           0.38174414600000006,
           0.608408851,
           0.567031963,
           0.22110848999999994,
           0.39171113599999996,
           0.350692618,
           0.354716363,
           0.315723005,
           0.364830354,
           0.431387775,
           0.05252100799999998,
           0.19238168499999997,
           0.483426173,
           0.42462845,
           0.284451861,
           0,
           0.46817697100000005,
           0.18009581100000005,
           0.479484896,
           0.47804299100000003,
           0.402726458,
           0.629864579,
           0.18047283800000002,
           0.613496933,
           -0.065112644,
           0.65404645,
           0.23121387299999996,
           0.29249744,
           -0.139508929,
           0.30954960499999995,
           0,
           0.460896039,
           0.198767641,
           0.405584779,
           0.339789331,
           0.170561146,
           0.528500148,
           0.22700445,
           0,
           0.339440752,
           0.499239254,
           1.5804030029999998,
           0.315796122,
           0.5938128530000001,
           0.253100481,
           0.27824151299999994,
           0.28103702599999997,
           0.29698426,
           0.291953754,
           -0.15787811799999996,
           -0.9797517960000001,
           0.47357046299999994,
           0.27421676899999997,
           0.520419085,
           0,
           0.09746588699999997,
           0.143081986,
           0.382976686,
           0.12318305000000002,
           1.468428781,
           0.49021010200000004,
           0.554858539,
           0.624027783,
           0.624027783,
           2.774700799,
           2.774700799,
           0.07332840799999996,
           0.07332840799999996,
           2.224001424,
           2.224001424,
           0.624027783,
           0.624027783,
           2.774700799,
           2.774700799,
           0.07332840799999996,
           0.07332840799999996,
           2.224001424,
           2.224001424,
           0.736640917,
           1.028204213,
           0.24865018499999997,
           0.6904418830000001,
           0.23196474100000003,
           0.8731082659999999,
           0.10264832700000004,
           -0.787194962,
           0.533553222,
           0.303402243,
           0.596598296,
           0.364099763,
           0,
           0.598265031,
           0.128949066,
           0.19366708600000002,
           0.618352709,
           0.23169601500000003,
           0.407972957,
           0.41526323099999995,
           -1.577287066,
           0.200293764,
           0.380596499,
           0.34744339599999996,
           0.35783296400000003,
           0.03556946700000002,
           0.343213729,
           0.40569126899999997,
           -0.24350649400000002,
           -0.78369906,
           -0.13561160799999994,
           0.558763862,
           0.273490315,
           0.34428346,
           0.649962085,
           0,
           0.46203034600000004,
           0.536167874,
           0,
           -0.330797221,
           0.48730717100000004,
           0.5753739929999999,
           0.302343159,
           0.6962123649999999,
           0.288390025,
           0.48673956199999996,
           -0.242101441,
           0.381731841,
           -1.397624039,
           0.06467468700000001,
           0.467365683,
           0.312476564,
           0.553692917,
           0.5848625059999999,
           0.400320256,
           0.611234207,
           0.189496481,
           0.307219662,
           -0.37723986200000004,
           0.202354052,
           -0.17417386999999995,
           -0.33932813,
           0.28669724800000007,
           0.332253509,
           0.152151421,
           0.683440452,
           0.184414893,
           0.18205816800000002,
           0.16054800400000002,
           0.365277742,
           0.43271311199999996,
           0.723217815,
           0.415688576,
           0.401962523,
           -0.10342331200000002,
           0.540958269,
           0.309444238,
           0.72924263,
           0.40323484,
           0.293534894,
           0.12391573700000003,
           0.46433878100000003,
           0.453862043,
           0.15013662500000002,
           0.40383331,
           0.052107757999999976,
           0.18720748799999998,
           0.405360897,
           0.14020001899999995,
           0.607524897,
           0.655294575,
           0.477497911,
           0.42506163399999997,
           0.408039898,
           0.37798608999999994,
           0.44306601700000003,
           0.176081138,
           0.493186975,
           0.15610365300000006,
           -0.646621403,
           0.10344470900000002,
           0.914802956,
           0.6446621969999999,
           -0.37893141399999997,
           0.525371837,
           0.16933572000000002,
           0.398181637,
           0.555969045,
           0.5058026800000001,
           0.355992815,
           0.5272651589999999,
           0.330305533,
           0.417463907,
           0.27843519400000005,
           0.39265302499999993,
           0,
           0.401967689,
           0.4379402210000001,
           0,
           0.16784155800000006,
           0.07606876599999995,
           0.33718502400000006,
           0.5632552740000001,
           -0.309405941,
           0.5379928190000001,
           0,
           0.47530254800000005,
           0.4188839080000001,
           0.37814331599999995,
           -0.10989010999999999,
           0.206814539,
           -0.306184936,
           0.713429461,
           0.511223684,
           0.24378352100000006,
           -0.361271676,
           0.44769914600000005,
           0,
           1.067398597,
           0.502934624,
           0.22687741099999997,
           0.8361204009999998,
           0.307389647,
           0,
           0.40157416999999995,
           0,
           0.47064192700000007,
           0.582043944,
           0.39470071399999995,
           0.5004052059999999,
           0.24835465099999998,
           0,
           0,
           0.775870429,
           0.288190827,
           -0.16035920399999998,
           0.502512563,
           0.07013852400000004,
           0.19472679799999998,
           0.28765389499999994,
           0.32671730699999996,
           0.718230281,
           0.08794301300000001,
           0.611921833,
           0.432758886,
           0.230043708,
           0.5536797010000001,
           0.460532376,
           0.748297623,
           -0.710900474,
           0.356220501,
           0.565383215,
           -0.07438815700000001,
           0.5360601309999999,
           0.30080616099999996,
           0,
           0,
           0.43585645799999995,
           0.350370692,
           0.06225745499999996,
           0.9564148110000001,
           0.121285628,
           -0.081879964,
           0.563115908,
           0.25082773099999994,
           -0.27770063799999994,
           0.6108735489999999,
           -0.302388872,
           0.518457072,
           0,
           0.09026900199999999,
           0.46028956400000004,
           0.579619995,
           0.557847049,
           0.06575486600000002,
           0.27847396300000005,
           0.31775355699999996,
           0.429010494,
           0.20798668899999995,
           0.40975210000000006,
           0.093240094,
           0.100428495,
           0.314670927,
           0.711980255,
           0.708800754,
           0.36281179099999994,
           0.16210082599999998,
           0.159400653,
           0.282733888,
           0.263728535,
           0.081463077,
           0.528574094,
           0.5434191939999999,
           0.558269365,
           0.08478168800000002,
           -0.118567702,
           0.554649266,
           0.30906593400000004,
           -0.080064051,
           -0.23826542699999986,
           0.817716443,
           0.641642605,
           0.12764871000000003,
           0.247402277,
           0.627668879,
           0.09054690299999996,
           0.11342154999999998,
           0.18735363,
           0.465841654,
           0.526416159,
           0.595701573,
           0.514056496,
           0.182371852,
           0.24931438500000003,
           0.34475625800000004,
           -0.104036621,
           -0.190730498,
           0.906412871,
           0.560985975,
           -0.110180697,
           0.277418162,
           0.41876046899999997,
           0.555384141,
           0.603110326,
           0.34918910500000006,
           0.312630262,
           0.313749352,
           0.33126685899999997,
           0.341559218,
           0.37711453500000003,
           0,
           0.108589424,
           0.17740719400000002,
           0.242895312,
           0.599974738,
           0.3840245779999999,
           0.297324084,
           -0.25871547699999997,
           0.413572704,
           0.39810716199999996,
           0.8082880290000001,
           -0.14003640999999994,
           0.06597176500000002,
           0.47714476599999994,
           0.32814550900000006,
           0.4329941540000001,
           0.3524539609999999,
           0.331785003,
           0.244982568,
           0.37376602299999995,
           0.5714629449999999,
           0.20913939099999998,
           0.239477938,
           0.38166614600000004,
           0,
           0.5313528009999999,
           0.22168033699999995,
           0.08312667099999999,
           0.22818026199999997,
           0.479271507,
           0.535464206,
           0.38679539999999996,
           0.257433389,
           0.549775861,
           0.5885382180000001,
           0.399639113,
           0.19823079,
           -0.10020040100000005,
           0.938589434,
           0.505010233,
           0.745341615,
           0.110180696,
           0.227773138,
           0.260892251,
           0.163461015,
           0.42625746,
           0.453397241,
           0.8110300080000001,
           -0.268024659,
           0.213068182,
           0.497801378,
           0.22232103099999997,
           0.387510421,
           0.265969236,
           0.27763895800000005,
           0.5314400989999999,
           0,
           0.30835646000000005,
           0.7325560099999999,
           0.356252227,
           -0.378071834,
           -0.190985485,
           0.46934584900000004,
           0.21674734499999998,
           0.183879865,
           0.43363632900000004,
           0.13195223300000003,
           0.297088533,
           0.41572901700000003,
           0.369964672,
           0.984394753,
           0.551951785,
           0.350991551,
           0.54908959,
           0.39384910399999995,
           0.19084879999999999,
           -0.16460905399999998,
           0.539374326,
           0.728173013,
           0,
           0.40462895499999996,
           0.669127569,
           0.297696573,
           0.514289913,
           -0.15339776,
           0,
           0.6295679860000001,
           0.545235035,
           0.18521948500000002,
           0.5810397549999999,
           -0.727008361,
           0.24067026700000002,
           0.683604877,
           0.785477395,
           0,
           0.340049307,
           0.308031905,
           0.26301254599999996,
           0.340506674,
           0.24317094899999997,
           0.41135335300000003,
           0.301789179,
           0.473369579,
           0.26616273199999996,
           0,
           0.670741932,
           -2.136752137,
           0.326341709,
           0,
           0.559016132,
           0.422865991,
           0,
           0,
           0.510310155,
           0,
           0.324720509,
           0.701577238,
           0.6711662279999999,
           0.410298492,
           0.51082754,
           0.38172963099999996,
           0.6263166880000001,
           0.527107607,
           0.519745863,
           0.52079592,
           0.240442414,
           0.435287289,
           0.465027796,
           0.4844961240000001,
           0.462160601,
           0.373485758,
           0,
           0.661543525,
           0.25800903099999994,
           0.409039779,
           0.380724464,
           0.471698113,
           0.134300296,
           0,
           0,
           0,
           0.36078382900000006,
           0.113417262,
           0.17680339499999997,
           0,
           0.12130034,
           0.14942769099999997,
           0.549599578,
           0.225504567,
           0.608154803,
           0.5322546300000001,
           0.562800808,
           0.484216117,
           0.187073239,
           0.697517799,
           -1.079913607,
           0.40084485799999997,
           -0.265041082,
           0.5822159490000001,
           0.1836547300000001,
           0.05764851699999998,
           0.1293954,
           0.672463896,
           0.115767538,
           0.07491478500000001,
           0.136845706,
           0.506640055,
           0.693457943,
           0.50987479,
           -0.09453582900000002,
           0.14196479300000003,
           0.282383315,
           0.47876956200000004,
           -0.414021529,
           -0.672494956,
           1.4173381219999999,
           0.25103552100000004,
           0.597079738,
           0.43191569,
           0.696812998,
           0.531484106,
           0.677277345,
           0.254097319,
           0.264900663,
           0.444140759,
           0.525996465,
           0.802680254,
           -0.797448166,
           0.191717791,
           0.392014957,
           0.457043565,
           0.22946305700000003,
           0,
           0.27486875,
           0.5395128969999999,
           0.25940337199999997,
           0.378184713,
           0,
           -0.17067759,
           -0.36677058500000004,
           0.23672841299999997,
           0,
           0.54414034,
           0.49435296800000006,
           0,
           -0.633111744,
           0.6388143610000001,
           0,
           0.40908161199999993,
           0.202788339,
           0.62455389,
           0,
           0.659520933,
           0.462334987,
           0.47145083100000007,
           0.45982114500000004,
           0.20656889099999998,
           0.27490869100000004,
           0.35942779100000005,
           0.710140314,
           0.39011632099999993,
           0.25942580400000004,
           0.12777919699999998,
           0.10587612499999999,
           0.10587612499999999,
           -0.145579672,
           -0.145579672,
           0.251455797,
           0.251455797,
           0,
           0,
           0.620986454,
           0.34690603200000003,
           0,
           0.6286540220000001,
           0.327027571,
           0.49370105499999994,
           0.139372822,
           0.474052592,
           0,
           0.505162764,
           0.291834472,
           0.541887938,
           0.24843348899999998,
           0.7109531210000001,
           0.28122473400000003,
           -0.087719298,
           0,
           0.34364261199999996,
           0.24559464599999997,
           0.288606696,
           0.131044424,
           0.5154162310000001,
           0.249322155,
           0.149387511,
           0.546289538,
           -0.19413705999999997,
           0.39666798899999994,
           0.228850408,
           0.238303281,
           0.34646214900000005,
           0.28634150999999997,
           0.46414481300000004,
           0.527747568,
           0,
           -0.06252344599999998,
           -0.16458196200000003,
           0.194242648,
           -0.10897994800000002,
           0.5057145740000001,
           0.679152627,
           0,
           0.5316635160000001,
           0.350017501,
           0.516640117,
           -0.10847163500000001,
           0.5682563270000001,
           0.273418275,
           0.39280102800000005,
           0.504413619,
           0.016790074000000044,
           0,
           0.05255413000000002,
           0.8060615830000001,
           0,
           0.7757144119999999,
           0.175121125,
           0.485651214,
           0.368188512,
           0.376547722,
           0.664633249,
           0.39583804600000005,
           0.43356255899999996,
           0.7091055599999999,
           0.402854512,
           0.35362762999999997,
           0.753571723,
           0.657349475,
           0.327776737,
           0.09910311599999996,
           -0.090735868,
           -0.09092148900000002,
           0.47303689699999996,
           0.35491198200000007,
           0.24513809499999997,
           0,
           0.277649237,
           0.266217065,
           0.327892742,
           0.50494121,
           0.37636432100000006,
           0.415923946,
           1.224775458,
           0.8602150540000001,
           -0.08030193499999999,
           -0.052465896999999984,
           0.34337711400000004,
           0.19190174699999998,
           0.12832028799999998,
           0.660908292,
           0.177777778,
           2.2807707429999997,
           0.510204081,
           -0.31826861900000003,
           0.599161175,
           0.36842213,
           0.038345028999999975,
           0.40648904299999994,
           -1.485332343,
           0.761614623,
           0.48910385300000003,
           0.442014656,
           0.301850342,
           -0.066542454,
           0.079897731,
           -0.11826621799999998,
           0.36485328000000006,
           0.43047782999999995,
           0.4084001460000001,
           0.2155975,
           -1.406469761,
           0.6135378459999999,
           0.914913084,
           0.25577082900000003,
           0.42658950900000003,
           0.56963828,
           0.363187945,
           0.648774897,
           0.451030928,
           0.280962014,
           0.545771534,
           0.331301351,
           0,
           0,
           0.43300457,
           0.681560015,
           0.327558597,
           0.332216316,
           0.5322530569999999,
           0.377110153,
           0,
           0.489835895,
           -0.495417389,
           0.575632966,
           0.27158783799999997,
           0.480769231,
           0.709555346,
           0.833333333,
           0.188501414,
           0.6293530249999999,
           -0.362187613,
           0.642970159,
           -0.42408821,
           0.250575541,
           0.218059955,
           0.313393661,
           0.364061891,
           0.514607845,
           0.195185426,
           0,
           0.7001820480000001,
           0.12672665099999997,
           1.523616049,
           0.511294766,
           0.615700359,
           0.519614331,
           0.574181791,
           0.39463299099999993,
           0.41283792699999994,
           0.47196048999999995,
           0.23834114499999998,
           -0.15767896600000003,
           0.735645713,
           1.170275015,
           0.15887306,
           0.23892578900000006,
           1.250643714,
           0.29329813699999996,
           0.46461204899999997,
           -0.399840064,
           0.25380710700000003,
           0.6536470209999999,
           0.31991174899999997,
           0.37137900900000004,
           0.21174104100000002,
           -1.297016861,
           0.32843664199999995,
           0.49464138500000004,
           0.333581381,
           0.21100013999999995,
           0.585787884,
           0.610921531,
           0.544281865,
           0.332712271,
           0.137494844,
           0.542937291,
           0,
           0.470809793,
           0.34727694800000003,
           0.687568757,
           0.309255577,
           0.07265329799999998,
           0.196908536,
           0.38463651900000007,
           0.059347181,
           0.901088237,
           0.616233857,
           -0.29620853100000005,
           0.326317507,
           0,
           0.401418606,
           0.143864192,
           0.72341097,
           0,
           0,
           0.392387679,
           0.583975234,
           0.736668067,
           0.06233248099999997,
           0.75225677,
           0.46920821100000004,
           0.377643504,
           0.49292837300000003,
           0.102231195,
           0.309040849,
           0.6515588320000001,
           0.439207418,
           1.156260324,
           0.287907869,
           0.31816735599999996,
           0.36574215199999993,
           0.311356737,
           0,
           0.637094847,
           -0.420698359,
           0.407095086,
           0.207955795,
           0.401683244,
           0.440905107,
           0.561873946,
           0.21510002200000003,
           0.08914245000000004,
           0.6372381869999999,
           0.291460215,
           0.3574747979999999,
           0.180744668,
           0,
           0.311380975,
           0.11986096099999999,
           0.6445790899999999,
           0.42639377399999995,
           0.300493668,
           -0.302114804,
           0.604549233,
           0.638867964,
           0,
           0.332944897,
           0.30726214100000004,
           0.382764654,
           0.552059567,
           0.338712409,
           0.044700728999999995,
           0.5280528059999999,
           0.436961479,
           0.197102592,
           0.41181315500000004,
           -0.527565286,
           0.112049003,
           -0.654793085,
           0.627583931,
           0.634248649,
           0.41305245700000004,
           -0.209161264,
           0.35240738299999996,
           0.28215112000000003,
           0.545330606,
           0.530374702,
           0.713302675,
           0.45351473899999994,
           -0.08399832000000002,
           0.48293153999999994,
           0.13935340100000004,
           -0.995520159,
           0.422517709,
           0.130132084,
           0.189393939,
           -0.553709856,
           0.46398000200000006,
           0.492186538,
           0.20759330200000004,
           0.284181735,
           0.255844447,
           0.439560439,
           -0.336870473,
           0.403668336,
           0.07664744099999998,
           0.571812983,
           0.374999331,
           0.270676691,
           0.14808233299999998,
           0.08791981800000004,
           0.47168099799999996,
           0.369446754,
           0.5457451369999999,
           0.44139480799999997,
           1.02439933,
           0.144331385,
           0.713030213,
           0.7440476189999999,
           0.537678882,
           0.05851717399999999,
           0.246143748,
           0.6264682850000001,
           0,
           -0.5158361709999999,
           -0.194893783,
           -0.08560910900000002,
           -0.7996801280000001,
           0.34684587,
           0,
           -0.10992030800000002,
           0.9945300850000001,
           0.30836377400000003,
           0.485716342,
           0.5485870180000001,
           -1.443695861,
           0.521213385,
           0.394409249,
           0.46358895099999997,
           -0.10511930999999997,
           0.207856994,
           -0.7915567280000001,
           0.690246997,
           0.09164222899999996,
           0.6269030990000001,
           0.340924587,
           0.17005356699999996,
           0.174438888,
           0.394537842,
           0.122399021,
           0.38420490900000004,
           0,
           0,
           0.448653239,
           0.10184855200000001,
           0.275709953,
           0.35755148800000003,
           -0.506585613,
           0.20131863699999997,
           0,
           0.6015194909999999,
           -0.19481784500000005,
           0.284010224,
           0.37091988099999995,
           0.42020730199999995,
           0.5772201750000001,
           0.261147745,
           0.44160481099999993,
           0.30309153400000005,
           0.295828814,
           0.21819088600000003,
           0.19693568100000003,
           0.749079702,
           0.800032002,
           0.349283968,
           0.622193366,
           0.720762406,
           0.280112045,
           0.359582883,
           0.195236236,
           0.789977717,
           0.482975127,
           0.281901899,
           0.522558672,
           0.18019873400000003,
           -0.06080875699999999,
           0.271525157,
           0.582813478,
           0,
           0.45576962899999995,
           0.501403931,
           0.47763786399999997,
           -0.408052231,
           0.437409712,
           0.6277740460000001,
           0.269356238,
           0.711665872,
           -1.0251153249999998,
           0.187673599,
           0.283699432,
           0.201785804,
           0.15462522699999998,
           0.410958904,
           0.343053173,
           0.817616919,
           0.339597012,
           0.7682851879999999,
           0.068017956,
           0.33751476599999997,
           0.36662491199999997,
           0.178770062,
           0,
           -0.209467951,
           0.43575358099999995,
           0.367260405,
           0.7253209549999999,
           0.982545371,
           0.16729868399999998,
           0,
           -0.171870524,
           0.594530321,
           0.591727108,
           0.28815952499999997,
           0.127833645,
           0.310269935,
           0.750750751,
           0.09702144199999996,
           0.592287789,
           0.928201977,
           0.17795969199999995,
           0.45677633900000003,
           0.51137248,
           0.571891531,
           0.215814901,
           0.454545454,
           0.12667849000000003,
           -0.38409832899999996,
           0.296296296,
           0.640532923,
           0.21727322100000002,
           2.1786492379999998,
           0.24300492999999998,
           0.292141397,
           0,
           0.376670235,
           0.387075745,
           0.240434155,
           0.652247826,
           0.18016395000000007,
           0,
           0.452615915,
           0.26094898499999997,
           1.214806346,
           0.362132123,
           0.07927071,
           0.321522731,
           0,
           0.13884389400000002,
           0.352291854,
           0,
           1.0270693709999998,
           0.31751556299999995,
           0.546217444,
           0.20301820399999998,
           0.44075267000000007,
           0.26491469800000006,
           0.315678709,
           0.27279175,
           -0.24431956999999999,
           0.057229847,
           0.468481599,
           0.433811249,
           0.9990722900000001,
           0.5514109629999999,
           -1.394700139,
           0.05989458600000003,
           -0.18525379700000003,
           0.627132249,
           0.544596394,
           -0.11943150600000002,
           0.42630288799999994,
           0.544638357,
           0.627553609,
           0.460395401,
           0.434747605,
           0.3354579,
           0.23603461899999997,
           -0.123946455,
           0.26330713800000005,
           0.253053513,
           0.21533676200000001,
           -0.559701492,
           0.42600777500000003,
           0,
           0.532159357,
           0.519034722,
           0.355697834,
           0.49817030100000004,
           0.30533019299999997,
           0.08975854999999999,
           0.48669087600000005,
           -0.06979828300000002,
           0.4359292920000001,
           0.298770965,
           0.555395109,
           0.340947835,
           0.272565716,
           0.589376416,
           0.45555780500000004,
           0.422922394,
           0.339624472,
           0.32247662,
           0,
           0.420168067,
           0.214684414,
           0.480907954,
           0.66367713,
           0.487864374,
           0.31367628599999997,
           0.26441036500000004,
           0.28587764500000007,
           0.501002004,
           0.29877502199999995,
           0.522901906,
           0.391354085,
           0.33849129600000005,
           0.5899447200000001,
           0.14544567099999994,
           0.41450305200000004,
           0.500586335,
           0.861697544,
           0.21436227199999996,
           -0.247463499,
           0.58223485,
           0.591317408,
           0.570939195,
           0.05678591700000002,
           0.458554743,
           0.39941235899999994,
           -0.413736036,
           -0.31771246999999997,
           0.357551487,
           0,
           0.22009060399999997,
           0.6418798349999999,
           0.06521030299999997,
           0.674718305,
           -0.26469031300000007,
           0.05476451299999996,
           0.525624179,
           -0.489715964,
           0.04621926400000004,
           0.35728547200000005,
           0.37038027,
           0.627434185,
           0.627434185,
           0.740341876,
           0.740341876,
           0.46057664899999995,
           0.46057664899999995,
           0.57348434,
           0.57348434,
           0.627434185,
           0.627434185,
           0.740341876,
           0.740341876,
           0.46057664899999995,
           0.46057664899999995,
           0.57348434,
           0.57348434,
           -0.15130882199999998,
           0.552672787,
           0.583572859,
           0.24466028999999997,
           0.6052536020000001,
           0.44934563999999994,
           0.705783986,
           0.705783986,
           0.898607592,
           0.898607592,
           0.515894757,
           0.515894757,
           0.7087183629999999,
           0.7087183629999999,
           0.705783986,
           0.705783986,
           0.898607592,
           0.898607592,
           0.515894757,
           0.515894757,
           0.7087183629999999,
           0.7087183629999999,
           0.513028962,
           -0.108790253,
           -0.788954635,
           0.5436451760000001,
           0.469869612,
           0.352246247,
           0.514828251,
           0.464550487,
           1.47275405,
           0.455871626,
           0.7193320489999999,
           0.535207188,
           0.43051489600000004,
           0,
           0.24973243,
           -0.06861534199999997,
           0,
           0.14031805400000003,
           0.08671522799999998,
           0.249574891,
           0.537676633,
           0.23759418899999998,
           0.662032439,
           0.464756003,
           0.39372463500000004,
           0.60063893,
           0,
           0.333000333,
           0.13263102100000002,
           0,
           0.23320895499999997,
           0.479794124,
           0.477478912,
           0.561245966,
           -0.107135204,
           0.67420919,
           0.35682761500000004,
           0.49965764200000007,
           0,
           0.24161884700000003,
           0.37772559799999994,
           0.855431993,
           0.505816895,
           0.6236170089999999,
           0.265851389,
           0.826787929,
           -0.30039050700000003,
           0.486787205,
           0.364050057,
           0.36306426199999997,
           0.822977533,
           -1.283697047,
           0.36147689099999997,
           0.44106296200000006,
           0.067349138,
           0.275501067,
           0.29134497300000006,
           0.547632453,
           0.530070455,
           0,
           0.170222424,
           0.20560619500000002,
           0.46972509900000003,
           0.09596008,
           0.250535519,
           0.5019292909999999,
           -0.447227191,
           0.47138682,
           0.625109883,
           0,
           0.7716799360000001,
           0.16118633200000002,
           0.188881193,
           0.58914779,
           0.087912088,
           0.197567102,
           0.145433392,
           -0.501253133,
           0.506338539,
           0.324605064,
           0.30479286699999997,
           0.375735816,
           0.38190613600000006,
           0.18383479400000002,
           0,
           0.6775833019999999,
           0.198747889,
           0.666777796,
           -0.569151964,
           0.44238146500000003,
           -1.430615165,
           0.14222222299999998,
           0,
           0.31617776200000003,
           0.32975132799999995,
           0.738007381,
           0.16840687100000007,
           0.433134813,
           0.493242577,
           -0.859254167,
           -0.475228704,
           -0.129676458,
           0.55285272,
           0.448851349,
           0.37174721099999997,
           0.733675715,
           0.242943394,
           0.485407469,
           0.36225759,
           0.57219657,
           0.17585337699999998,
           0.522310576,
           0.11995441700000004,
           0.41322314099999996,
           0.32428926599999996,
           0.20486205899999999,
           0.41620421799999996,
           0.06418073299999999,
           0.21123785300000003,
           0.591655616,
           0,
           0.260179524,
           0.19875447200000002,
           0.091436095,
           0.386069004,
           0.3682563059999999,
           -0.653167864,
           0.5321625759999999,
           0.18820341,
           0.5495113410000001,
           0.387914314,
           0.445408893,
           0.356515158,
           -0.1303611,
           0.614953845,
           0.29154518900000004,
           -0.242424242,
           0.16498927500000002,
           0,
           0.18278497900000001,
           0.2528445,
           0,
           -0.114744693,
           0.432525951,
           0.27647221399999994,
           0.586219336,
           0.796812749,
           0.27770063899999997,
           0.335668202,
           0.43238293899999997,
           0.723918296,
           0.6884879079999999,
           0.5674914,
           0.45668516800000003,
           0.60147361,
           0.32199205699999994,
           0.136190303,
           0.5089675229999999,
           0.372008766,
           -0.14679976500000003,
           0.175438596,
           -0.15815277500000002,
           0.561245966,
           0.7137512229999999,
           0,
           0.907251029,
           0.405153553,
           0.37010764,
           0.616476941,
           -1.063829787,
           0.270684871,
           0.333234597,
           0.43366477699999995,
           0.527983105,
           0.349874629,
           0.521858766,
           0,
           0.403747729,
           0.45947670699999993,
           0.45957746,
           0.198978577,
           0.28730678600000004,
           0.14234875399999997,
           0.261831511,
           0.46070026399999997,
           0.113231048,
           -0.24040387900000001,
           0.311162971,
           0.23571933699999997,
           -0.127210278,
           0.08405480399999998,
           -0.628140704,
           -0.073800738,
           0.172413793,
           0.82164982,
           0.462557613,
           0.906070673,
           0,
           0.43486282,
           -0.14390559800000002,
           0.729086723,
           0.661823323,
           0.19934614399999998,
           0.661190888,
           0.545241406,
           0.289414659,
           0.616548495,
           0.7862701209999999,
           0.417473149,
           -0.683682771,
           -0.151664518,
           0.447299935,
           0.8054772449999998,
           0.523091471,
           0.462320851,
           0.7934086370000001,
           0.295159386,
           0.6746736849999999,
           0.442234964,
           0.145740727,
           0.4375649509999999,
           0.558809066,
           0.556389808,
           0.5037867979999999,
           0.377425253,
           0,
           0.17494139400000003,
           0.266051791,
           0.501002004,
           0.13184495000000002,
           0.34979231099999997,
           0.37700440599999996,
           0.53776662,
           0.48529093700000003,
           0.112892301,
           0.593773857,
           0.43023474700000003,
           0.43159257700000003,
           0.28247862100000004,
           -0.10716964999999995,
           0.24839577699999998,
           0.8347245409999999,
           -1.219512195,
           0.261355914,
           0.12987856400000003,
           0.030947296999999985,
           0,
           0.050930760000000075,
           0.5592841159999999,
           0.6293046179999999,
           -0.34965035,
           0.538465226,
           0.622858922,
           0.46954480299999996,
           0.541669891,
           0.716650173,
           0.580504343,
           0.418778497,
           0.35394933,
           0,
           0.545256271,
           0.309581549,
           0.41133643200000003,
           0.49967729200000005,
           0.791018893,
           0.44500287899999996,
           0.47768527399999994,
           0.580930942,
           0.07060651000000001,
           0.27654172,
           0,
           0.426311484,
           0.390563974,
           0.5320960330000001,
           0.240084715,
           0.06309944500000003,
           0.75147974,
           0.14452955699999998,
           0.46184205,
           0.638464933,
           0.319284802,
           -0.5547337269999999,
           0.5888191650000001,
           0.6854401090000001,
           0.24015369800000003,
           -0.138811771,
           -0.158027813,
           0.22230867499999996,
           0.5935221289999999,
           0.385022648,
           0.335536066,
           0.5545035709999999,
           0.431393092,
           0.259717774,
           0.060492408000000025,
           -0.40600893300000007,
           0.582819494,
           0.288783437,
           0.415933451,
           0.19266997799999996,
           -0.797766254,
           0.18489756699999998,
           0.179404377,
           0.280245495,
           -0.262881178,
           0.37313432900000004,
           0.30886440899999995,
           0.33289686900000004,
           0.352385651,
           -0.843881857,
           0.442477876,
           0.580802056,
           -0.456412597,
           0.481260917,
           0.19862288199999997,
           -0.06387327600000003,
           0.594252727,
           0.603830007,
           0.680518512,
           0.441037488,
           0.34596945599999995,
           0.452079566,
           0.291630213,
           0.45113398699999996,
           -0.07048209800000005,
           0.710025561,
           0,
           0.08552125199999994,
           0.32799790100000004,
           0.25900025899999995,
           -0.5804953559999999,
           0.6674427629999999,
           0.673662012,
           0.433310765,
           0,
           -0.18400618200000002,
           0.07395902599999998,
           -0.453463326,
           0.260991292,
           0,
           0.41194644700000005,
           0.476364969,
           0.76558687,
           0.49890324899999994,
           0.145391102,
           0.528785776,
           0.590555122,
           0.5093580600000001,
           0.10091835699999999,
           0.758114191,
           0.5435077789999999,
           0.218642956,
           0.25142684699999995,
           0,
           0.334517009,
           0.479149727,
           0.130259216,
           0.574386125,
           0.589151202,
           0.419588377,
           0.623887543,
           0.17461148999999998,
           0.409780084,
           0.22584343899999998,
           0.281004122,
           0.53686471,
           0.313823945,
           -0.706214689,
           0.163305299,
           0.364072894,
           0.57633391,
           0,
           0.403257424,
           0.11653653399999997,
           0.07449344400000002,
           0.420900728,
           -0.26881720500000006,
           -0.417130145,
           0.48467971499999996,
           -0.36297640600000003,
           0.45402158400000003,
           0,
           0.22688599,
           0.814627082,
           0.491262545,
           -0.21610719,
           1.1652748110000002,
           0.48500827,
           0.35932447000000006,
           0.46536983600000004,
           0.3010687940000001,
           0.255493102,
           0,
           0.254000508,
           0.642310895,
           0.09504348200000001,
           0.41694463000000004,
           0.405844156,
           0.185133759,
           0.318754509,
           0.59159929,
           0.653364829,
           0.636661147,
           0.521636315,
           0.314058747,
           0.479075666,
           0.045124318,
           0.664010624,
           0.107278871,
           -0.12091898500000002,
           0.748502994,
           0.683133019,
           0.22209883400000002,
           0.557389702,
           0.27176867000000005,
           -1.227621483,
           0,
           0.282685513,
           0.34627128799999995,
           0.544860153,
           0.3160556259999999,
           0.300228173,
           0.609239639,
           0,
           0.774293458,
           0,
           0.517629659,
           0.13479814,
           -0.07859163699999999,
           0.629855133,
           0.18998765099999998,
           0,
           -0.442673749,
           0.28123462,
           0.432931669,
           0.320454129,
           0.571141058,
           -0.877963126,
           0,
           0.7869471699999999,
           0.6118738490000001,
           0.322611866,
           0.377954457,
           0.624008031,
           0.374231489,
           0.607533415,
           0.07359976499999998,
           0.08397010699999996,
           0.550458695,
           -0.570993529,
           0.179436569,
           -0.603500302,
           0.270188119,
           -0.20712510400000006,
           0.370107331,
           -0.058099001,
           0.099770528,
           0.685483066,
           0.41309880200000004,
           -0.195140989,
           0.37766387900000004,
           -0.306795521,
           0.39081358199999994,
           0.532141337,
           0.45747149000000004,
           0.16381358,
           0.272182906,
           0.192733931,
           0.424763725,
           0.3625596710000001,
           0.168159079,
           0.6326611310000001,
           0.668910526,
           0.306412782,
           0.35354428099999996,
           0.6854792639999999,
           0.153721994,
           0.41933744600000006,
           0.565473787,
           0.536693965,
           0.6086108619999999,
           0.35941056599999993,
           -0.37000493300000004,
           -0.918695453,
           0,
           0.6280996059999999,
           -0.280321435,
           0.388953714,
           0.12526618999999994,
           0.170741702,
           -2.912621359,
           -0.6671114069999999,
           0.28960324300000007,
           0.466934186,
           -0.043148083999999975,
           0.106416941,
           0.614543164,
           0.12485953300000002,
           0.526119276,
           1.0329793859999998,
           0.33930654200000004,
           0.38084005899999995,
           0.04094165799999999,
           0.30715225999999995,
           0.039291187000000005,
           0.5927375699999999,
           0.626546787,
           0.294857682,
           0.27775403800000004,
           0.09538344099999999,
           0.21740705800000001,
           0.69368582,
           0.586281024,
           0.30969340300000003,
           0.48714825900000003,
           0.268795953,
           0.33875855699999996,
           0.096475431,
           0.62531788,
           0.298223998,
           0.15453561999999998,
           0.37698506200000004,
           0.251920897,
           0.06999370099999996,
           0,
           0.44393145700000003,
           0.463589667,
           -3.048780488,
           0.290613194,
           0.24110910200000008,
           0.440712563,
           0.393356089,
           0.529208483,
           0.707046901,
           -0.4395604390000001,
           0.29913251499999993,
           0.8353128500000001,
           0.10692899899999997,
           0.47996160299999996,
           0.47709923699999995,
           0,
           0.649049606,
           0.7241129609999999,
           0.114711786,
           0.516228948,
           0.452693527,
           1.183304647,
           0.490998363,
           0.665921312,
           0.47366311600000005,
           0.5869306000000001,
           -0.18917896300000003,
           0.59598333,
           0.37878835499999997,
           0,
           0.080350327,
           0.475322824,
           0.21070375000000002,
           -0.77871512,
           -0.269541779,
           0,
           0.461263863,
           1.5210410680000002,
           0.277611798,
           0.159931762,
           0.469310181,
           0.5903029329999999,
           0.67294751,
           0.507000546,
           0.114351058,
           0.49193231000000004,
           0,
           0.7315408939999999,
           0.435536881,
           -0.550055006,
           0.17512521499999997,
           0.622905111,
           0.08064516099999999,
           0.088542589,
           0.549688686,
           0.436808387,
           0.26063725800000004,
           0.20155194999999998,
           -0.31719179599999997,
           0.103605471,
           0.266447588,
           0.539083558,
           0.16462531299999997,
           -0.089847259,
           0.21934634799999997,
           0.5199532039999999,
           0.521612129,
           0.6028322159999999,
           0.286026039,
           0.34777232500000005,
           0,
           0.42992261400000004,
           0.493602157,
           0.13987970299999997,
           0.648785973,
           0.246624312,
           0.057501005999999966,
           -0.34435261699999997,
           -0.361663653,
           -0.351123595,
           0.07674597099999997,
           0,
           0.17690348199999997,
           0.8155498160000001,
           0.583451847,
           -0.289939113,
           0.579725421,
           0.077255872,
           -0.094144229,
           0.113636363,
           0,
           0.33897347499999997,
           0.149276012,
           0.17376194599999994,
           0.44007628,
           -0.09587727699999998,
           0.45790341300000004,
           0.351592715,
           0.731935824,
           0.08085054800000002,
           0.21101498200000002,
           0.23127993000000002,
           0.5103082259999999,
           0.283647709,
           0.41445623299999995,
           0.462076704,
           0.541012943,
           0.7204139110000001,
           -0.48262548199999994,
           0.081650427,
           0.38027633399999994,
           0.536118289,
           0.438280688,
           -0.736377025,
           0.21101498199999996,
           0.541523227,
           0.679317788,
           0.593031875,
           0.500751127,
           -0.301568154,
           0.361572116,
           0.13617484800000001,
           0.256504214,
           0.38522449999999997,
           0.37239440300000004,
           0.5999700020000001,
           0,
           0.17758834999999995,
           0.46645676100000005,
           0.3171280879999999,
           0.24964114100000007,
           0.24075500700000002,
           0.322580645,
           0.692011084,
           0.620364237,
           0.15792798500000005,
           0.47430552299999995,
           0.29695280700000004,
           0.09487666,
           -0.34435261699999997,
           0.45382346300000004,
           0.295812041,
           0.26991767499999997,
           0.411419168,
           0.688960729,
           0.35944349699999995,
           0.437917847,
           0.07785130400000001,
           0.12534469799999998,
           -0.721500722,
           0.149120191,
           -0.40744261900000006,
           0.5023067889999999,
           0.273541681,
           0.383979699,
           0.14370293799999997,
           0.253619359,
           0.23389624399999998,
           0.777698669,
           -0.18726591800000003,
           0.570494976,
           0.39998769200000006,
           0.785731969,
           0.35375967899999994,
           0.098706939,
           0.336686166,
           0.37042118200000007,
           0.832627717,
           0.149120191,
           0.352064689,
           0.295229097,
           0.245355766,
           0.22956841100000003,
           0.395647873,
           0.667762627,
           0,
           0.399275979,
           0.5066426479999999,
           0.623392044,
           0.23839322899999998,
           0.29931158300000005,
           0.574988021,
           0,
           1.3502362909999999,
           0.15718327599999998,
           0.45168973,
           0.626852063,
           1.355748373,
           -1.010509297,
           0.21861905600000003,
           0.18208303000000003,
           0.33561974299999997,
           0.29301882599999995,
           0.23753237800000002,
           0.263372751,
           0,
           0.30461105,
           0,
           0.167140231,
           -0.21750163099999997,
           0.34567901300000003,
           0.47829726100000003,
           0.7156637260000001,
           0.41494923800000005,
           -0.17281106000000007,
           0.601103347,
           0.767852572,
           0.15200508500000004,
           -0.472478148,
           0.370935169,
           -0.023371038999999982,
           0.35876627400000005,
           0.22223456800000002,
           0.20510015799999998,
           0.6199823680000001,
           0.11956001899999999,
           0.38569995900000004,
           0,
           0,
           0.117647059,
           0.581216345,
           0.11627907000000004,
           0.16270215799999993,
           -0.155908949,
           0.19169574099999998,
           0.48288318399999997,
           0.44066524199999996,
           0,
           0.38975834899999995,
           0.38659482500000003,
           0.634236822,
           0.238185309,
           0.246528063,
           0.155577452,
           -0.81642174,
           0.570879934,
           0.497715035,
           1.039625735,
           0.4850223,
           -0.806885422,
           0.251445813,
           0.46922197100000007,
           0.34131281300000005,
           0.58297707,
           0.149510354,
           0.235932523,
           0.502411576,
           -0.45276184699999994,
           0.546664186,
           0.42885518300000003,
           0.11259993299999999,
           0.573862758,
           0.17564109,
           0.5920429429999999,
           0.356503415,
           0.373412995,
           0.275552011,
           0.23776500900000003,
           0.496431896,
           0.559744017,
           0,
           -0.07745333400000001,
           0.502381755,
           0.634719137,
           0.5669737770000001,
           0.60664785,
           0.48001689599999997,
           0.360971736,
           0.365070094,
           0.44717719399999994,
           0,
           0.07645259900000001,
           0.486130101,
           0.783921968,
           -0.11804981700000003,
           0.35571365,
           0.574657137,
           0.5926435729999999,
           0.37087075100000005,
           0.33008747299999996,
           0.5616094039999999,
           0.5484544250000001,
           0.662725379,
           0.22047475500000002,
           0.261377167,
           0.104843783,
           0.22626994,
           -0.777000777,
           0.19804594599999997,
           0.614226429,
           0.692670678,
           -0.17102787700000002,
           0.420791088,
           0.3990359299999999,
           0.283025543,
           0.23062730699999998,
           0.73721071,
           -0.166583375,
           0.5252675579999999,
           0.624146675,
           -0.08899172300000002,
           0.339368774,
           0.467172052,
           0.374784498,
           0.471823931,
           0,
           0.797766254,
           0.237901033,
           0.431362598,
           0.568833043,
           0.459084649,
           0.13505300900000003,
           0.6310917890000001,
           0.2179789,
           -0.13360945899999999,
           0.383963862,
           0.26487727299999997,
           0.34129692899999997,
           0.590943351,
           0.509646887,
           0.195427008,
           0.78674565,
           0.13317352500000001,
           -0.929656027,
           0,
           0.489499635,
           0.576856874,
           0.48816710499999993,
           0.5938947619999999,
           0.47955880599999995,
           0.383847689,
           0.727510483,
           0.474364549,
           -0.424448217,
           0.396553202,
           0.276077854,
           0.552042545,
           -1.473839352,
           0.5278666299999999,
           0.620588007,
           0.381854284
          ],
          "coloraxis": "coloraxis",
          "symbol": "circle"
         },
         "mode": "markers",
         "name": "",
         "showlegend": false,
         "type": "scattergeo"
        }
       ],
       "layout": {
        "coloraxis": {
         "cmax": 1,
         "cmin": -1,
         "colorbar": {
          "title": {
           "text": "dif"
          }
         },
         "colorscale": [
          [
           0,
           "#440154"
          ],
          [
           0.1111111111111111,
           "#482878"
          ],
          [
           0.2222222222222222,
           "#3e4989"
          ],
          [
           0.3333333333333333,
           "#31688e"
          ],
          [
           0.4444444444444444,
           "#26828e"
          ],
          [
           0.5555555555555556,
           "#1f9e89"
          ],
          [
           0.6666666666666666,
           "#35b779"
          ],
          [
           0.7777777777777778,
           "#6ece58"
          ],
          [
           0.8888888888888888,
           "#b5de2b"
          ],
          [
           1,
           "#fde725"
          ]
         ]
        },
        "geo": {
         "center": {},
         "domain": {
          "x": [
           0,
           1
          ],
          "y": [
           0,
           1
          ]
         },
         "projection": {
          "type": "albers usa"
         },
         "scope": "usa"
        },
        "legend": {
         "tracegroupgap": 0
        },
        "template": {
         "data": {
          "bar": [
           {
            "error_x": {
             "color": "#2a3f5f"
            },
            "error_y": {
             "color": "#2a3f5f"
            },
            "marker": {
             "line": {
              "color": "#E5ECF6",
              "width": 0.5
             },
             "pattern": {
              "fillmode": "overlay",
              "size": 10,
              "solidity": 0.2
             }
            },
            "type": "bar"
           }
          ],
          "barpolar": [
           {
            "marker": {
             "line": {
              "color": "#E5ECF6",
              "width": 0.5
             },
             "pattern": {
              "fillmode": "overlay",
              "size": 10,
              "solidity": 0.2
             }
            },
            "type": "barpolar"
           }
          ],
          "carpet": [
           {
            "aaxis": {
             "endlinecolor": "#2a3f5f",
             "gridcolor": "white",
             "linecolor": "white",
             "minorgridcolor": "white",
             "startlinecolor": "#2a3f5f"
            },
            "baxis": {
             "endlinecolor": "#2a3f5f",
             "gridcolor": "white",
             "linecolor": "white",
             "minorgridcolor": "white",
             "startlinecolor": "#2a3f5f"
            },
            "type": "carpet"
           }
          ],
          "choropleth": [
           {
            "colorbar": {
             "outlinewidth": 0,
             "ticks": ""
            },
            "type": "choropleth"
           }
          ],
          "contour": [
           {
            "colorbar": {
             "outlinewidth": 0,
             "ticks": ""
            },
            "colorscale": [
             [
              0,
              "#0d0887"
             ],
             [
              0.1111111111111111,
              "#46039f"
             ],
             [
              0.2222222222222222,
              "#7201a8"
             ],
             [
              0.3333333333333333,
              "#9c179e"
             ],
             [
              0.4444444444444444,
              "#bd3786"
             ],
             [
              0.5555555555555556,
              "#d8576b"
             ],
             [
              0.6666666666666666,
              "#ed7953"
             ],
             [
              0.7777777777777778,
              "#fb9f3a"
             ],
             [
              0.8888888888888888,
              "#fdca26"
             ],
             [
              1,
              "#f0f921"
             ]
            ],
            "type": "contour"
           }
          ],
          "contourcarpet": [
           {
            "colorbar": {
             "outlinewidth": 0,
             "ticks": ""
            },
            "type": "contourcarpet"
           }
          ],
          "heatmap": [
           {
            "colorbar": {
             "outlinewidth": 0,
             "ticks": ""
            },
            "colorscale": [
             [
              0,
              "#0d0887"
             ],
             [
              0.1111111111111111,
              "#46039f"
             ],
             [
              0.2222222222222222,
              "#7201a8"
             ],
             [
              0.3333333333333333,
              "#9c179e"
             ],
             [
              0.4444444444444444,
              "#bd3786"
             ],
             [
              0.5555555555555556,
              "#d8576b"
             ],
             [
              0.6666666666666666,
              "#ed7953"
             ],
             [
              0.7777777777777778,
              "#fb9f3a"
             ],
             [
              0.8888888888888888,
              "#fdca26"
             ],
             [
              1,
              "#f0f921"
             ]
            ],
            "type": "heatmap"
           }
          ],
          "heatmapgl": [
           {
            "colorbar": {
             "outlinewidth": 0,
             "ticks": ""
            },
            "colorscale": [
             [
              0,
              "#0d0887"
             ],
             [
              0.1111111111111111,
              "#46039f"
             ],
             [
              0.2222222222222222,
              "#7201a8"
             ],
             [
              0.3333333333333333,
              "#9c179e"
             ],
             [
              0.4444444444444444,
              "#bd3786"
             ],
             [
              0.5555555555555556,
              "#d8576b"
             ],
             [
              0.6666666666666666,
              "#ed7953"
             ],
             [
              0.7777777777777778,
              "#fb9f3a"
             ],
             [
              0.8888888888888888,
              "#fdca26"
             ],
             [
              1,
              "#f0f921"
             ]
            ],
            "type": "heatmapgl"
           }
          ],
          "histogram": [
           {
            "marker": {
             "pattern": {
              "fillmode": "overlay",
              "size": 10,
              "solidity": 0.2
             }
            },
            "type": "histogram"
           }
          ],
          "histogram2d": [
           {
            "colorbar": {
             "outlinewidth": 0,
             "ticks": ""
            },
            "colorscale": [
             [
              0,
              "#0d0887"
             ],
             [
              0.1111111111111111,
              "#46039f"
             ],
             [
              0.2222222222222222,
              "#7201a8"
             ],
             [
              0.3333333333333333,
              "#9c179e"
             ],
             [
              0.4444444444444444,
              "#bd3786"
             ],
             [
              0.5555555555555556,
              "#d8576b"
             ],
             [
              0.6666666666666666,
              "#ed7953"
             ],
             [
              0.7777777777777778,
              "#fb9f3a"
             ],
             [
              0.8888888888888888,
              "#fdca26"
             ],
             [
              1,
              "#f0f921"
             ]
            ],
            "type": "histogram2d"
           }
          ],
          "histogram2dcontour": [
           {
            "colorbar": {
             "outlinewidth": 0,
             "ticks": ""
            },
            "colorscale": [
             [
              0,
              "#0d0887"
             ],
             [
              0.1111111111111111,
              "#46039f"
             ],
             [
              0.2222222222222222,
              "#7201a8"
             ],
             [
              0.3333333333333333,
              "#9c179e"
             ],
             [
              0.4444444444444444,
              "#bd3786"
             ],
             [
              0.5555555555555556,
              "#d8576b"
             ],
             [
              0.6666666666666666,
              "#ed7953"
             ],
             [
              0.7777777777777778,
              "#fb9f3a"
             ],
             [
              0.8888888888888888,
              "#fdca26"
             ],
             [
              1,
              "#f0f921"
             ]
            ],
            "type": "histogram2dcontour"
           }
          ],
          "mesh3d": [
           {
            "colorbar": {
             "outlinewidth": 0,
             "ticks": ""
            },
            "type": "mesh3d"
           }
          ],
          "parcoords": [
           {
            "line": {
             "colorbar": {
              "outlinewidth": 0,
              "ticks": ""
             }
            },
            "type": "parcoords"
           }
          ],
          "pie": [
           {
            "automargin": true,
            "type": "pie"
           }
          ],
          "scatter": [
           {
            "fillpattern": {
             "fillmode": "overlay",
             "size": 10,
             "solidity": 0.2
            },
            "type": "scatter"
           }
          ],
          "scatter3d": [
           {
            "line": {
             "colorbar": {
              "outlinewidth": 0,
              "ticks": ""
             }
            },
            "marker": {
             "colorbar": {
              "outlinewidth": 0,
              "ticks": ""
             }
            },
            "type": "scatter3d"
           }
          ],
          "scattercarpet": [
           {
            "marker": {
             "colorbar": {
              "outlinewidth": 0,
              "ticks": ""
             }
            },
            "type": "scattercarpet"
           }
          ],
          "scattergeo": [
           {
            "marker": {
             "colorbar": {
              "outlinewidth": 0,
              "ticks": ""
             }
            },
            "type": "scattergeo"
           }
          ],
          "scattergl": [
           {
            "marker": {
             "colorbar": {
              "outlinewidth": 0,
              "ticks": ""
             }
            },
            "type": "scattergl"
           }
          ],
          "scattermapbox": [
           {
            "marker": {
             "colorbar": {
              "outlinewidth": 0,
              "ticks": ""
             }
            },
            "type": "scattermapbox"
           }
          ],
          "scatterpolar": [
           {
            "marker": {
             "colorbar": {
              "outlinewidth": 0,
              "ticks": ""
             }
            },
            "type": "scatterpolar"
           }
          ],
          "scatterpolargl": [
           {
            "marker": {
             "colorbar": {
              "outlinewidth": 0,
              "ticks": ""
             }
            },
            "type": "scatterpolargl"
           }
          ],
          "scatterternary": [
           {
            "marker": {
             "colorbar": {
              "outlinewidth": 0,
              "ticks": ""
             }
            },
            "type": "scatterternary"
           }
          ],
          "surface": [
           {
            "colorbar": {
             "outlinewidth": 0,
             "ticks": ""
            },
            "colorscale": [
             [
              0,
              "#0d0887"
             ],
             [
              0.1111111111111111,
              "#46039f"
             ],
             [
              0.2222222222222222,
              "#7201a8"
             ],
             [
              0.3333333333333333,
              "#9c179e"
             ],
             [
              0.4444444444444444,
              "#bd3786"
             ],
             [
              0.5555555555555556,
              "#d8576b"
             ],
             [
              0.6666666666666666,
              "#ed7953"
             ],
             [
              0.7777777777777778,
              "#fb9f3a"
             ],
             [
              0.8888888888888888,
              "#fdca26"
             ],
             [
              1,
              "#f0f921"
             ]
            ],
            "type": "surface"
           }
          ],
          "table": [
           {
            "cells": {
             "fill": {
              "color": "#EBF0F8"
             },
             "line": {
              "color": "white"
             }
            },
            "header": {
             "fill": {
              "color": "#C8D4E3"
             },
             "line": {
              "color": "white"
             }
            },
            "type": "table"
           }
          ]
         },
         "layout": {
          "annotationdefaults": {
           "arrowcolor": "#2a3f5f",
           "arrowhead": 0,
           "arrowwidth": 1
          },
          "autotypenumbers": "strict",
          "coloraxis": {
           "colorbar": {
            "outlinewidth": 0,
            "ticks": ""
           }
          },
          "colorscale": {
           "diverging": [
            [
             0,
             "#8e0152"
            ],
            [
             0.1,
             "#c51b7d"
            ],
            [
             0.2,
             "#de77ae"
            ],
            [
             0.3,
             "#f1b6da"
            ],
            [
             0.4,
             "#fde0ef"
            ],
            [
             0.5,
             "#f7f7f7"
            ],
            [
             0.6,
             "#e6f5d0"
            ],
            [
             0.7,
             "#b8e186"
            ],
            [
             0.8,
             "#7fbc41"
            ],
            [
             0.9,
             "#4d9221"
            ],
            [
             1,
             "#276419"
            ]
           ],
           "sequential": [
            [
             0,
             "#0d0887"
            ],
            [
             0.1111111111111111,
             "#46039f"
            ],
            [
             0.2222222222222222,
             "#7201a8"
            ],
            [
             0.3333333333333333,
             "#9c179e"
            ],
            [
             0.4444444444444444,
             "#bd3786"
            ],
            [
             0.5555555555555556,
             "#d8576b"
            ],
            [
             0.6666666666666666,
             "#ed7953"
            ],
            [
             0.7777777777777778,
             "#fb9f3a"
            ],
            [
             0.8888888888888888,
             "#fdca26"
            ],
            [
             1,
             "#f0f921"
            ]
           ],
           "sequentialminus": [
            [
             0,
             "#0d0887"
            ],
            [
             0.1111111111111111,
             "#46039f"
            ],
            [
             0.2222222222222222,
             "#7201a8"
            ],
            [
             0.3333333333333333,
             "#9c179e"
            ],
            [
             0.4444444444444444,
             "#bd3786"
            ],
            [
             0.5555555555555556,
             "#d8576b"
            ],
            [
             0.6666666666666666,
             "#ed7953"
            ],
            [
             0.7777777777777778,
             "#fb9f3a"
            ],
            [
             0.8888888888888888,
             "#fdca26"
            ],
            [
             1,
             "#f0f921"
            ]
           ]
          },
          "colorway": [
           "#636efa",
           "#EF553B",
           "#00cc96",
           "#ab63fa",
           "#FFA15A",
           "#19d3f3",
           "#FF6692",
           "#B6E880",
           "#FF97FF",
           "#FECB52"
          ],
          "font": {
           "color": "#2a3f5f"
          },
          "geo": {
           "bgcolor": "white",
           "lakecolor": "white",
           "landcolor": "#E5ECF6",
           "showlakes": true,
           "showland": true,
           "subunitcolor": "white"
          },
          "hoverlabel": {
           "align": "left"
          },
          "hovermode": "closest",
          "mapbox": {
           "style": "light"
          },
          "paper_bgcolor": "white",
          "plot_bgcolor": "#E5ECF6",
          "polar": {
           "angularaxis": {
            "gridcolor": "white",
            "linecolor": "white",
            "ticks": ""
           },
           "bgcolor": "#E5ECF6",
           "radialaxis": {
            "gridcolor": "white",
            "linecolor": "white",
            "ticks": ""
           }
          },
          "scene": {
           "xaxis": {
            "backgroundcolor": "#E5ECF6",
            "gridcolor": "white",
            "gridwidth": 2,
            "linecolor": "white",
            "showbackground": true,
            "ticks": "",
            "zerolinecolor": "white"
           },
           "yaxis": {
            "backgroundcolor": "#E5ECF6",
            "gridcolor": "white",
            "gridwidth": 2,
            "linecolor": "white",
            "showbackground": true,
            "ticks": "",
            "zerolinecolor": "white"
           },
           "zaxis": {
            "backgroundcolor": "#E5ECF6",
            "gridcolor": "white",
            "gridwidth": 2,
            "linecolor": "white",
            "showbackground": true,
            "ticks": "",
            "zerolinecolor": "white"
           }
          },
          "shapedefaults": {
           "line": {
            "color": "#2a3f5f"
           }
          },
          "ternary": {
           "aaxis": {
            "gridcolor": "white",
            "linecolor": "white",
            "ticks": ""
           },
           "baxis": {
            "gridcolor": "white",
            "linecolor": "white",
            "ticks": ""
           },
           "bgcolor": "#E5ECF6",
           "caxis": {
            "gridcolor": "white",
            "linecolor": "white",
            "ticks": ""
           }
          },
          "title": {
           "x": 0.05
          },
          "xaxis": {
           "automargin": true,
           "gridcolor": "white",
           "linecolor": "white",
           "ticks": "",
           "title": {
            "standoff": 15
           },
           "zerolinecolor": "white",
           "zerolinewidth": 2
          },
          "yaxis": {
           "automargin": true,
           "gridcolor": "white",
           "linecolor": "white",
           "ticks": "",
           "title": {
            "standoff": 15
           },
           "zerolinecolor": "white",
           "zerolinewidth": 2
          }
         }
        },
        "title": {
         "text": "Difference between grocery and fast food access"
        }
       }
      },
      "text/html": [
       "<div>                            <div id=\"2af8c17c-8703-417f-ac25-b3db7dfed7c1\" class=\"plotly-graph-div\" style=\"height:525px; width:100%;\"></div>            <script type=\"text/javascript\">                require([\"plotly\"], function(Plotly) {                    window.PLOTLYENV=window.PLOTLYENV || {};                                    if (document.getElementById(\"2af8c17c-8703-417f-ac25-b3db7dfed7c1\")) {                    Plotly.newPlot(                        \"2af8c17c-8703-417f-ac25-b3db7dfed7c1\",                        [{\"customdata\":[[\"OH\"],[\"VA\"],[\"NE\"],[\"TX\"],[\"IA\"],[\"SD\"],[\"IA\"],[\"FL\"],[\"NY\"],[\"SD\"],[\"NE\"],[\"CO\"],[\"FL\"],[\"SC\"],[\"WI\"],[\"IN\"],[\"MN\"],[\"ME\"],[\"NC\"],[\"MN\"],[\"ID\"],[\"NE\"],[\"MT\"],[\"ND\"],[\"IA\"],[\"PA\"],[\"VA\"],[\"OR\"],[\"TX\"],[\"LA\"],[\"FL\"],[\"ND\"],[\"IL\"],[\"SC\"],[\"WI\"],[\"TX\"],[\"FL\"],[\"GA\"],[\"WA\"],[\"WV\"],[\"FL\"],[\"OK\"],[\"NC\"],[\"IL\"],[\"NJ\"],[\"OK\"],[\"KS\"],[\"CA\"],[\"WV\"],[\"NC\"],[\"AL\"],[\"CO\"],[\"VA\"],[\"WV\"],[\"IL\"],[\"TX\"],[\"IL\"],[\"MI\"],[\"NE\"],[\"GA\"],[\"TX\"],[\"MN\"],[\"MS\"],[\"WA\"],[\"MT\"],[\"GA\"],[\"TX\"],[\"CO\"],[\"ID\"],[\"TX\"],[\"IN\"],[\"TN\"],[\"WI\"],[\"GA\"],[\"CO\"],[\"TX\"],[\"NE\"],[\"KS\"],[\"VA\"],[\"NY\"],[\"UT\"],[\"PA\"],[\"WV\"],[\"IN\"],[\"LA\"],[\"WV\"],[\"MO\"],[\"IN\"],[\"TX\"],[\"ID\"],[\"AR\"],[\"ID\"],[\"SD\"],[\"TX\"],[\"OK\"],[\"VA\"],[\"NC\"],[\"VA\"],[\"WY\"],[\"TX\"],[\"NC\"],[\"TX\"],[\"NC\"],[\"FL\"],[\"NE\"],[\"VA\"],[\"NE\"],[\"OH\"],[\"OH\"],[\"MO\"],[\"MI\"],[\"CO\"],[\"NE\"],[\"GA\"],[\"MS\"],[\"IL\"],[\"FL\"],[\"TX\"],[\"TX\"],[\"OK\"],[\"KY\"],[\"IA\"],[\"TX\"],[\"IL\"],[\"IN\"],[\"MI\"],[\"NC\"],[\"SD\"],[\"CO\"],[\"KS\"],[\"VA\"],[\"MA\"],[\"CA\"],[\"KS\"],[\"GA\"],[\"LA\"],[\"CO\"],[\"MO\"],[\"ID\"],[\"GA\"],[\"AK\"],[\"KS\"],[\"IA\"],[\"NJ\"],[\"NH\"],[\"MD\"],[\"NM\"],[\"OK\"],[\"TX\"],[\"NC\"],[\"TN\"],[\"WY\"],[\"IN\"],[\"MO\"],[\"MD\"],[\"WV\"],[\"IL\"],[\"AR\"],[\"MN\"],[\"DE\"],[\"IN\"],[\"MO\"],[\"WA\"],[\"IL\"],[\"WA\"],[\"TX\"],[\"IN\"],[\"GA\"],[\"WV\"],[\"TX\"],[\"MS\"],[\"IN\"],[\"NE\"],[\"MT\"],[\"CA\"],[\"MT\"],[\"MI\"],[\"VA\"],[\"MN\"],[\"TX\"],[\"NJ\"],[\"IL\"],[\"KS\"],[\"MO\"],[\"KY\"],[\"CA\"],[\"TX\"],[\"TX\"],[\"WI\"],[\"MN\"],[\"MD\"],[\"WI\"],[\"WA\"],[\"AK\"],[\"NY\"],[\"HI\"],[\"MS\"],[\"OR\"],[\"TN\"],[\"NY\"],[\"WV\"],[\"WI\"],[\"NC\"],[\"VA\"],[\"OK\"],[\"GA\"],[\"MT\"],[\"WA\"],[\"NC\"],[\"KS\"],[\"IL\"],[\"NE\"],[\"AK\"],[\"KY\"],[\"PA\"],[\"UT\"],[\"NY\"],[\"KY\"],[\"PA\"],[\"OH\"],[\"FL\"],[\"IL\"],[\"CO\"],[\"TN\"],[\"KY\"],[\"TN\"],[\"ND\"],[\"TX\"],[\"IA\"],[\"SC\"],[\"NE\"],[\"ND\"],[\"MI\"],[\"KY\"],[\"TN\"],[\"GA\"],[\"CA\"],[\"UT\"],[\"OH\"],[\"MT\"],[\"TN\"],[\"NM\"],[\"NE\"],[\"KS\"],[\"AL\"],[\"MT\"],[\"SC\"],[\"IN\"],[\"ID\"],[\"WV\"],[\"OK\"],[\"KY\"],[\"VA\"],[\"MA\"],[\"NE\"],[\"AL\"],[\"GA\"],[\"NE\"],[\"WV\"],[\"GA\"],[\"NC\"],[\"KS\"],[\"NC\"],[\"MT\"],[\"TN\"],[\"FL\"],[\"TX\"],[\"OH\"],[\"IA\"],[\"PA\"],[\"SD\"],[\"NV\"],[\"OK\"],[\"NC\"],[\"MS\"],[\"IN\"],[\"AR\"],[\"WY\"],[\"MN\"],[\"TX\"],[\"CA\"],[\"WV\"],[\"TX\"],[\"MO\"],[\"FL\"],[\"SD\"],[\"TX\"],[\"OR\"],[\"TX\"],[\"TN\"],[\"NY\"],[\"NC\"],[\"ID\"],[\"CA\"],[\"OH\"],[\"WV\"],[\"CT\"],[\"WI\"],[\"MI\"],[\"AR\"],[\"MS\"],[\"TX\"],[\"CA\"],[\"NC\"],[\"ND\"],[\"TX\"],[\"NH\"],[\"GA\"],[\"MS\"],[\"TX\"],[\"GA\"],[\"AL\"],[\"VA\"],[\"AL\"],[\"TN\"],[\"IL\"],[\"ID\"],[\"ID\"],[\"IA\"],[\"AL\"],[\"UT\"],[\"NM\"],[\"VA\"],[\"MS\"],[\"AL\"],[\"TX\"],[\"MN\"],[\"KS\"],[\"NH\"],[\"TX\"],[\"NY\"],[\"AZ\"],[\"NJ\"],[\"MO\"],[\"TX\"],[\"KS\"],[\"MI\"],[\"SC\"],[\"NJ\"],[\"UT\"],[\"IL\"],[\"IL\"],[\"OK\"],[\"OH\"],[\"IA\"],[\"WV\"],[\"MS\"],[\"ME\"],[\"CO\"],[\"LA\"],[\"VA\"],[\"MO\"],[\"OH\"],[\"LA\"],[\"NE\"],[\"MO\"],[\"VA\"],[\"PA\"],[\"TN\"],[\"TX\"],[\"TX\"],[\"KS\"],[\"NJ\"],[\"WI\"],[\"NC\"],[\"TX\"],[\"MS\"],[\"GA\"],[\"ID\"],[\"TX\"],[\"NC\"],[\"MT\"],[\"VA\"],[\"MI\"],[\"OH\"],[\"TN\"],[\"KY\"],[\"FL\"],[\"VA\"],[\"TX\"],[\"TX\"],[\"PA\"],[\"IL\"],[\"IA\"],[\"IL\"],[\"IN\"],[\"PA\"],[\"MN\"],[\"ID\"],[\"GA\"],[\"MO\"],[\"ID\"],[\"UT\"],[\"MO\"],[\"NY\"],[\"SC\"],[\"SC\"],[\"SD\"],[\"PA\"],[\"AK\"],[\"KY\"],[\"WV\"],[\"KS\"],[\"VA\"],[\"LA\"],[\"IL\"],[\"NY\"],[\"KY\"],[\"OR\"],[\"IA\"],[\"FL\"],[\"GA\"],[\"SD\"],[\"SC\"],[\"TX\"],[\"NC\"],[\"UT\"],[\"OK\"],[\"CA\"],[\"TN\"],[\"MN\"],[\"SD\"],[\"GA\"],[\"KY\"],[\"GA\"],[\"GA\"],[\"IL\"],[\"OH\"],[\"FL\"],[\"MS\"],[\"AZ\"],[\"SC\"],[\"NE\"],[\"MO\"],[\"GA\"],[\"TX\"],[\"OK\"],[\"CA\"],[\"VA\"],[\"TN\"],[\"TN\"],[\"WY\"],[\"PA\"],[\"NY\"],[\"VA\"],[\"MS\"],[\"TX\"],[\"IA\"],[\"AR\"],[\"MN\"],[\"MO\"],[\"KY\"],[\"TN\"],[\"TN\"],[\"MT\"],[\"SD\"],[\"OH\"],[\"TX\"],[\"MI\"],[\"CA\"],[\"MS\"],[\"MO\"],[\"LA\"],[\"VA\"],[\"IL\"],[\"UT\"],[\"FL\"],[\"TX\"],[\"KY\"],[\"PA\"],[\"TX\"],[\"KS\"],[\"OH\"],[\"CO\"],[\"TX\"],[\"TX\"],[\"FL\"],[\"FL\"],[\"AR\"],[\"IN\"],[\"IN\"],[\"MN\"],[\"ME\"],[\"OR\"],[\"NY\"],[\"VA\"],[\"VA\"],[\"CA\"],[\"CA\"],[\"NH\"],[\"TN\"],[\"NY\"],[\"KY\"],[\"TN\"],[\"CO\"],[\"VA\"],[\"VA\"],[\"VA\"],[\"VA\"],[\"VA\"],[\"VA\"],[\"VA\"],[\"VA\"],[\"VA\"],[\"VA\"],[\"VA\"],[\"VA\"],[\"VA\"],[\"VA\"],[\"VA\"],[\"VA\"],[\"LA\"],[\"TX\"],[\"MD\"],[\"WA\"],[\"ND\"],[\"MO\"],[\"MS\"],[\"VA\"],[\"IN\"],[\"WA\"],[\"KS\"],[\"AL\"],[\"KY\"],[\"OH\"],[\"TX\"],[\"WA\"],[\"IA\"],[\"PA\"],[\"AR\"],[\"ID\"],[\"GA\"],[\"ID\"],[\"ND\"],[\"SD\"],[\"ND\"],[\"GA\"],[\"MT\"],[\"UT\"],[\"GA\"],[\"WA\"],[\"VA\"],[\"MT\"],[\"TX\"],[\"MI\"],[\"AR\"],[\"WV\"],[\"MO\"],[\"OH\"],[\"CA\"],[\"IN\"],[\"MN\"],[\"NC\"],[\"LA\"],[\"TX\"],[\"OK\"],[\"LA\"],[\"TX\"],[\"SD\"],[\"AL\"],[\"GA\"],[\"IA\"],[\"AR\"],[\"GA\"],[\"CT\"],[\"AK\"],[\"ME\"],[\"VA\"],[\"TX\"],[\"NC\"],[\"TX\"],[\"KY\"],[\"IL\"],[\"ID\"],[\"MI\"],[\"KS\"],[\"OK\"],[\"SC\"],[\"CO\"],[\"TX\"],[\"KS\"],[\"CA\"],[\"AR\"],[\"KS\"],[\"MT\"],[\"SD\"],[\"IN\"],[\"LA\"],[\"TX\"],[\"VA\"],[\"SD\"],[\"PA\"],[\"MN\"],[\"AR\"],[\"NV\"],[\"CT\"],[\"KS\"],[\"OH\"],[\"KS\"],[\"NC\"],[\"GA\"],[\"IN\"],[\"FL\"],[\"VA\"],[\"IN\"],[\"OK\"],[\"MT\"],[\"MO\"],[\"TX\"],[\"LA\"],[\"TX\"],[\"FL\"],[\"VA\"],[\"AL\"],[\"IL\"],[\"VA\"],[\"OH\"],[\"TX\"],[\"IL\"],[\"NY\"],[\"WI\"],[\"GA\"],[\"TX\"],[\"PA\"],[\"MA\"],[\"NC\"],[\"IA\"],[\"NC\"],[\"TX\"],[\"NC\"],[\"KY\"],[\"TN\"],[\"KS\"],[\"GA\"],[\"IA\"],[\"AK\"],[\"SC\"],[\"MN\"],[\"MD\"],[\"CO\"],[\"PA\"],[\"MI\"],[\"TX\"],[\"KY\"],[\"IA\"],[\"FL\"],[\"MO\"],[\"NE\"],[\"TX\"],[\"GA\"],[\"IA\"],[\"SC\"],[\"NH\"],[\"TX\"],[\"IN\"],[\"TX\"],[\"NY\"],[\"WV\"],[\"OR\"],[\"MO\"],[\"AR\"],[\"OK\"],[\"WA\"],[\"TX\"],[\"MT\"],[\"NC\"],[\"IN\"],[\"OH\"],[\"TX\"],[\"KY\"],[\"ND\"],[\"VT\"],[\"HI\"],[\"MI\"],[\"SC\"],[\"MT\"],[\"IN\"],[\"GA\"],[\"GA\"],[\"ND\"],[\"GA\"],[\"VA\"],[\"MI\"],[\"TN\"],[\"MA\"],[\"WA\"],[\"NC\"],[\"TX\"],[\"IA\"],[\"TX\"],[\"KY\"],[\"TN\"],[\"VA\"],[\"RI\"],[\"MO\"],[\"WA\"],[\"NE\"],[\"TX\"],[\"GA\"],[\"ID\"],[\"TN\"],[\"VA\"],[\"WY\"],[\"MN\"],[\"CO\"],[\"ID\"],[\"MI\"],[\"GA\"],[\"ND\"],[\"TX\"],[\"AK\"],[\"MD\"],[\"AK\"],[\"AZ\"],[\"NE\"],[\"NE\"],[\"VA\"],[\"KS\"],[\"MO\"],[\"LA\"],[\"MO\"],[\"PA\"],[\"IL\"],[\"OH\"],[\"VA\"],[\"VA\"],[\"VA\"],[\"VA\"],[\"VA\"],[\"VA\"],[\"VA\"],[\"VA\"],[\"VA\"],[\"VA\"],[\"VA\"],[\"VA\"],[\"VA\"],[\"VA\"],[\"VA\"],[\"VA\"],[\"TN\"],[\"FL\"],[\"SD\"],[\"ID\"],[\"WV\"],[\"IL\"],[\"CO\"],[\"TX\"],[\"WA\"],[\"AR\"],[\"MD\"],[\"TX\"],[\"MN\"],[\"IA\"],[\"KY\"],[\"VA\"],[\"MS\"],[\"PA\"],[\"GA\"],[\"MN\"],[\"NC\"],[\"MT\"],[\"IA\"],[\"IA\"],[\"MO\"],[\"NC\"],[\"KY\"],[\"KS\"],[\"KS\"],[\"NJ\"],[\"PA\"],[\"CA\"],[\"NM\"],[\"PA\"],[\"PA\"],[\"MI\"],[\"TX\"],[\"MO\"],[\"AR\"],[\"NE\"],[\"VA\"],[\"NJ\"],[\"NC\"],[\"KY\"],[\"MT\"],[\"WA\"],[\"LA\"],[\"FL\"],[\"MS\"],[\"ID\"],[\"KS\"],[\"GA\"],[\"NC\"],[\"WA\"],[\"NE\"],[\"TX\"],[\"KS\"],[\"AK\"],[\"NC\"],[\"PA\"],[\"NV\"],[\"IL\"],[\"LA\"],[\"CO\"],[\"OR\"],[\"IN\"],[\"IL\"],[\"OH\"],[\"IA\"],[\"IN\"],[\"IL\"],[\"AL\"],[\"TN\"],[\"ND\"],[\"MN\"],[\"AR\"],[\"AK\"],[\"OH\"],[\"MI\"],[\"MI\"],[\"MS\"],[\"KY\"],[\"TN\"],[\"WI\"],[\"LA\"],[\"KY\"],[\"TX\"],[\"IN\"],[\"MS\"],[\"GA\"],[\"CO\"],[\"MA\"],[\"IA\"],[\"VA\"],[\"WI\"],[\"KY\"],[\"NV\"],[\"AZ\"],[\"FL\"],[\"MS\"],[\"VA\"],[\"ND\"],[\"TX\"],[\"NM\"],[\"GA\"],[\"AR\"],[\"WV\"],[\"NE\"],[\"VA\"],[\"TX\"],[\"GA\"],[\"WI\"],[\"NE\"],[\"UT\"],[\"CT\"],[\"NE\"],[\"PA\"],[\"VA\"],[\"TX\"],[\"AR\"],[\"ME\"],[\"MS\"],[\"IN\"],[\"MN\"],[\"MN\"],[\"TX\"],[\"WY\"],[\"TX\"],[\"VA\"],[\"NC\"],[\"KY\"],[\"NE\"],[\"KS\"],[\"MT\"],[\"MS\"],[\"FL\"],[\"TX\"],[\"AR\"],[\"MO\"],[\"ND\"],[\"TN\"],[\"IA\"],[\"MO\"],[\"PA\"],[\"IA\"],[\"TX\"],[\"CO\"],[\"OK\"],[\"OH\"],[\"IN\"],[\"KY\"],[\"MI\"],[\"OK\"],[\"GA\"],[\"TN\"],[\"WV\"],[\"TN\"],[\"TX\"],[\"MD\"],[\"OH\"],[\"ID\"],[\"TX\"],[\"OH\"],[\"WA\"],[\"AL\"],[\"SD\"],[\"KY\"],[\"MN\"],[\"KY\"],[\"SC\"],[\"MS\"],[\"GA\"],[\"NE\"],[\"GA\"],[\"MI\"],[\"KY\"],[\"TN\"],[\"PA\"],[\"NE\"],[\"TX\"],[\"AL\"],[\"NY\"],[\"ME\"],[\"IA\"],[\"IA\"],[\"IA\"],[\"IL\"],[\"MI\"],[\"VA\"],[\"AL\"],[\"CA\"],[\"TX\"],[\"CA\"],[\"TX\"],[\"MO\"],[\"IN\"],[\"OH\"],[\"NE\"],[\"NV\"],[\"IL\"],[\"MN\"],[\"MI\"],[\"VT\"],[\"VA\"],[\"ND\"],[\"WI\"],[\"IL\"],[\"NE\"],[\"MS\"],[\"IL\"],[\"TX\"],[\"NE\"],[\"KY\"],[\"VA\"],[\"MI\"],[\"OH\"],[\"CA\"],[\"PA\"],[\"OK\"],[\"MN\"],[\"SD\"],[\"TX\"],[\"AR\"],[\"MN\"],[\"IN\"],[\"KY\"],[\"ID\"],[\"PA\"],[\"SD\"],[\"OK\"],[\"MN\"],[\"AR\"],[\"MS\"],[\"IA\"],[\"OK\"],[\"NC\"],[\"WV\"],[\"CA\"],[\"KY\"],[\"IA\"],[\"GA\"],[\"TX\"],[\"SD\"],[\"ND\"],[\"SD\"],[\"AL\"],[\"MN\"],[\"TX\"],[\"VA\"],[\"GA\"],[\"PA\"],[\"AZ\"],[\"MI\"],[\"KS\"],[\"IL\"],[\"IA\"],[\"OK\"],[\"OR\"],[\"VA\"],[\"OH\"],[\"AR\"],[\"CO\"],[\"KS\"],[\"MO\"],[\"CO\"],[\"MN\"],[\"CA\"],[\"TX\"],[\"VA\"],[\"AL\"],[\"ME\"],[\"TX\"],[\"MT\"],[\"AK\"],[\"GA\"],[\"WI\"],[\"VA\"],[\"LA\"],[\"OR\"],[\"GA\"],[\"MN\"],[\"WA\"],[\"KS\"],[\"ID\"],[\"AL\"],[\"IA\"],[\"MN\"],[\"MN\"],[\"MA\"],[\"IL\"],[\"OH\"],[\"ND\"],[\"MO\"],[\"TX\"],[\"OK\"],[\"NE\"],[\"IL\"],[\"SC\"],[\"CA\"],[\"OH\"],[\"TX\"],[\"ND\"],[\"LA\"],[\"AK\"],[\"OR\"],[\"NM\"],[\"ND\"],[\"PA\"],[\"ND\"],[\"AL\"],[\"VA\"],[\"TX\"],[\"VA\"],[\"VA\"],[\"VA\"],[\"VA\"],[\"VA\"],[\"VA\"],[\"VA\"],[\"VA\"],[\"VA\"],[\"VA\"],[\"VA\"],[\"VA\"],[\"VA\"],[\"VA\"],[\"VA\"],[\"VA\"],[\"PA\"],[\"OK\"],[\"IN\"],[\"TN\"],[\"KS\"],[\"MD\"],[\"TX\"],[\"SD\"],[\"LA\"],[\"VA\"],[\"TX\"],[\"TX\"],[\"GA\"],[\"WI\"],[\"LA\"],[\"MO\"],[\"MN\"],[\"IL\"],[\"CO\"],[\"OK\"],[\"KY\"],[\"WI\"],[\"ND\"],[\"ID\"],[\"SD\"],[\"SD\"],[\"NY\"],[\"WY\"],[\"WA\"],[\"LA\"],[\"VA\"],[\"MI\"],[\"CA\"],[\"NJ\"],[\"IA\"],[\"IL\"],[\"IA\"],[\"NE\"],[\"TX\"],[\"GA\"],[\"MO\"],[\"NC\"],[\"IA\"],[\"FL\"],[\"GA\"],[\"AK\"],[\"KY\"],[\"SC\"],[\"AR\"],[\"AL\"],[\"OK\"],[\"LA\"],[\"CA\"],[\"TX\"],[\"ID\"],[\"MN\"],[\"ID\"],[\"MT\"],[\"KS\"],[\"GA\"],[\"SC\"],[\"WA\"],[\"KS\"],[\"MS\"],[\"LA\"],[\"CO\"],[\"CA\"],[\"GA\"],[\"IL\"],[\"KS\"],[\"IL\"],[\"NE\"],[\"AR\"],[\"AL\"],[\"GA\"],[\"IL\"],[\"MS\"],[\"MN\"],[\"TN\"],[\"TX\"],[\"KS\"],[\"NM\"],[\"MO\"],[\"GA\"],[\"MN\"],[\"WI\"],[\"NE\"],[\"KY\"],[\"KY\"],[\"IL\"],[\"IA\"],[\"MO\"],[\"MI\"],[\"TN\"],[\"GA\"],[\"FL\"],[\"NE\"],[\"ID\"],[\"KY\"],[\"SD\"],[\"NC\"],[\"SD\"],[\"WI\"],[\"MI\"],[\"CO\"],[\"ND\"],[\"CA\"],[\"LA\"],[\"NC\"],[\"MI\"],[\"MI\"],[\"IL\"],[\"TX\"],[\"IL\"],[\"WY\"],[\"AR\"],[\"AL\"],[\"MI\"],[\"KS\"],[\"AL\"],[\"GA\"],[\"GA\"],[\"OH\"],[\"CO\"],[\"GA\"],[\"NC\"],[\"NY\"],[\"TX\"],[\"MO\"],[\"NE\"],[\"TX\"],[\"WI\"],[\"WA\"],[\"AR\"],[\"MO\"],[\"OK\"],[\"WA\"],[\"NY\"],[\"MI\"],[\"MN\"],[\"KY\"],[\"SC\"],[\"IA\"],[\"NC\"],[\"IA\"],[\"TX\"],[\"CA\"],[\"KS\"],[\"KS\"],[\"TN\"],[\"KY\"],[\"WY\"],[\"IA\"],[\"MN\"],[\"MO\"],[\"TN\"],[\"GA\"],[\"NY\"],[\"AR\"],[\"VA\"],[\"TX\"],[\"WI\"],[\"KS\"],[\"TX\"],[\"TX\"],[\"WI\"],[\"FL\"],[\"PA\"],[\"MT\"],[\"FL\"],[\"KY\"],[\"IN\"],[\"KY\"],[\"OR\"],[\"FL\"],[\"PA\"],[\"KS\"],[\"GA\"],[\"SD\"],[\"OK\"],[\"WI\"],[\"NM\"],[\"WI\"],[\"MO\"],[\"OK\"],[\"MI\"],[\"MO\"],[\"KS\"],[\"KS\"],[\"AL\"],[\"TX\"],[\"ID\"],[\"MN\"],[\"NE\"],[\"TN\"],[\"OR\"],[\"CA\"],[\"IA\"],[\"PA\"],[\"MI\"],[\"WY\"],[\"ND\"],[\"MS\"],[\"CA\"],[\"MN\"],[\"TN\"],[\"MA\"],[\"SC\"],[\"IL\"],[\"TX\"],[\"AR\"],[\"GA\"],[\"NC\"],[\"TN\"],[\"IA\"],[\"ND\"],[\"PA\"],[\"IL\"],[\"WI\"],[\"WI\"],[\"TX\"],[\"KS\"],[\"LA\"],[\"AL\"],[\"TX\"],[\"CA\"],[\"NE\"],[\"VA\"],[\"VA\"],[\"VA\"],[\"VA\"],[\"VA\"],[\"VA\"],[\"VA\"],[\"VA\"],[\"VA\"],[\"VA\"],[\"VA\"],[\"VA\"],[\"VA\"],[\"VA\"],[\"VA\"],[\"VA\"],[\"KY\"],[\"OK\"],[\"AK\"],[\"WI\"],[\"IL\"],[\"TX\"],[\"AK\"],[\"SD\"],[\"LA\"],[\"CA\"],[\"MO\"],[\"GA\"],[\"TX\"],[\"ND\"],[\"NE\"],[\"WI\"],[\"MS\"],[\"IL\"],[\"IN\"],[\"AR\"],[\"NE\"],[\"OK\"],[\"TX\"],[\"AR\"],[\"WI\"],[\"VA\"],[\"MS\"],[\"OH\"],[\"OK\"],[\"KS\"],[\"IA\"],[\"NC\"],[\"CA\"],[\"TN\"],[\"AL\"],[\"VT\"],[\"NJ\"],[\"MD\"],[\"AR\"],[\"KS\"],[\"NM\"],[\"MT\"],[\"NV\"],[\"NM\"],[\"NJ\"],[\"FL\"],[\"FL\"],[\"IN\"],[\"CO\"],[\"IA\"],[\"RI\"],[\"AL\"],[\"VA\"],[\"NC\"],[\"KY\"],[\"GA\"],[\"MI\"],[\"KY\"],[\"KY\"],[\"KY\"],[\"NY\"],[\"NE\"],[\"OR\"],[\"VA\"],[\"SC\"],[\"NV\"],[\"NY\"],[\"GA\"],[\"KY\"],[\"PA\"],[\"MN\"],[\"TX\"],[\"TN\"],[\"GA\"],[\"VT\"],[\"IN\"],[\"VA\"],[\"MN\"],[\"OH\"],[\"MO\"],[\"AR\"],[\"MS\"],[\"TX\"],[\"OK\"],[\"NY\"],[\"TN\"],[\"WI\"],[\"PA\"],[\"WI\"],[\"IA\"],[\"GA\"],[\"KS\"],[\"VA\"],[\"WI\"],[\"TN\"],[\"CO\"],[\"CO\"],[\"NC\"],[\"PA\"],[\"KS\"],[\"OK\"],[\"WA\"],[\"TX\"],[\"KS\"],[\"AL\"],[\"WA\"],[\"MD\"],[\"IN\"],[\"WI\"],[\"AR\"],[\"NE\"],[\"TX\"],[\"MS\"],[\"IL\"],[\"OR\"],[\"IL\"],[\"LA\"],[\"VA\"],[\"MS\"],[\"WI\"],[\"MI\"],[\"NY\"],[\"NC\"],[\"KS\"],[\"GA\"],[\"NE\"],[\"AL\"],[\"MN\"],[\"GA\"],[\"WV\"],[\"WA\"],[\"TX\"],[\"NC\"],[\"MD\"],[\"NM\"],[\"KS\"],[\"GA\"],[\"WV\"],[\"UT\"],[\"MI\"],[\"KY\"],[\"TX\"],[\"GA\"],[\"IA\"],[\"IL\"],[\"KY\"],[\"OH\"],[\"MN\"],[\"IL\"],[\"TX\"],[\"MS\"],[\"MS\"],[\"LA\"],[\"UT\"],[\"OK\"],[\"MO\"],[\"TX\"],[\"MS\"],[\"GA\"],[\"KY\"],[\"MI\"],[\"AR\"],[\"MT\"],[\"TN\"],[\"PA\"],[\"WA\"],[\"MT\"],[\"IA\"],[\"GA\"],[\"SD\"],[\"SC\"],[\"AL\"],[\"WI\"],[\"OH\"],[\"WA\"],[\"NE\"],[\"TX\"],[\"AL\"],[\"AL\"],[\"VT\"],[\"TX\"],[\"IA\"],[\"KY\"],[\"MD\"],[\"IN\"],[\"IA\"],[\"AR\"],[\"TX\"],[\"KS\"],[\"VA\"],[\"IL\"],[\"IN\"],[\"OK\"],[\"TX\"],[\"GA\"],[\"MI\"],[\"NJ\"],[\"NY\"],[\"WY\"],[\"TX\"],[\"TX\"],[\"WI\"],[\"OK\"],[\"ID\"],[\"CO\"],[\"NC\"],[\"OK\"],[\"MO\"],[\"IL\"],[\"SC\"],[\"WI\"],[\"AK\"],[\"NE\"],[\"MI\"],[\"TX\"],[\"WI\"],[\"AL\"],[\"KY\"],[\"VA\"],[\"ND\"],[\"OH\"],[\"TX\"],[\"GA\"],[\"ID\"],[\"KY\"],[\"MO\"],[\"MI\"],[\"AL\"],[\"NY\"],[\"PA\"],[\"MD\"],[\"OH\"],[\"NY\"],[\"MN\"],[\"WI\"],[\"KS\"],[\"AR\"],[\"CO\"],[\"TN\"],[\"ND\"],[\"AL\"],[\"NC\"],[\"TN\"],[\"IN\"],[\"GA\"],[\"TX\"],[\"FL\"],[\"VA\"],[\"KY\"],[\"AZ\"],[\"MT\"],[\"GA\"],[\"ID\"],[\"TX\"],[\"TN\"],[\"MN\"],[\"MT\"],[\"WI\"],[\"NC\"],[\"CT\"],[\"VA\"],[\"WY\"],[\"GA\"],[\"TX\"],[\"IN\"],[\"WV\"],[\"AL\"],[\"TX\"],[\"MO\"],[\"TX\"],[\"GA\"],[\"FL\"],[\"NE\"],[\"OH\"],[\"LA\"],[\"WI\"],[\"MT\"],[\"AZ\"],[\"GA\"],[\"TX\"],[\"VA\"],[\"PA\"],[\"MO\"],[\"OH\"],[\"OK\"],[\"DE\"],[\"MT\"],[\"KS\"],[\"MT\"],[\"VA\"],[\"IN\"],[\"NE\"],[\"GA\"],[\"TN\"],[\"VA\"],[\"ND\"],[\"WA\"],[\"OK\"],[\"NE\"],[\"CA\"],[\"NH\"],[\"AR\"],[\"PA\"],[\"OK\"],[\"WY\"],[\"LA\"],[\"MT\"],[\"SD\"],[\"WV\"],[\"TN\"],[\"KS\"],[\"AL\"],[\"GA\"],[\"TN\"],[\"IL\"],[\"TX\"],[\"MN\"],[\"GA\"],[\"IL\"],[\"NC\"],[\"WV\"],[\"CA\"],[\"TN\"],[\"NY\"],[\"IL\"],[\"IA\"],[\"MS\"],[\"SD\"],[\"GA\"],[\"AK\"],[\"MO\"],[\"MO\"],[\"MN\"],[\"NM\"],[\"CO\"],[\"VA\"],[\"KS\"],[\"MN\"],[\"KY\"],[\"MD\"],[\"ND\"],[\"SC\"],[\"OK\"],[\"MT\"],[\"OK\"],[\"GA\"],[\"NY\"],[\"IL\"],[\"MI\"],[\"VT\"],[\"UT\"],[\"MN\"],[\"FL\"],[\"WI\"],[\"NE\"],[\"SC\"],[\"NE\"],[\"NC\"],[\"NE\"],[\"IL\"],[\"ME\"],[\"AK\"],[\"MN\"],[\"TN\"],[\"IL\"],[\"PA\"],[\"CO\"],[\"NV\"],[\"IL\"],[\"TN\"],[\"TX\"],[\"GA\"],[\"KY\"],[\"LA\"],[\"SC\"],[\"TX\"],[\"NC\"],[\"IN\"],[\"IN\"],[\"SD\"],[\"TX\"],[\"TX\"],[\"CA\"],[\"MS\"],[\"IA\"],[\"IL\"],[\"OH\"],[\"MI\"],[\"ND\"],[\"TX\"],[\"TX\"],[\"LA\"],[\"KY\"],[\"KS\"],[\"SD\"],[\"TN\"],[\"VA\"],[\"IN\"],[\"IA\"],[\"MN\"],[\"OH\"],[\"GA\"],[\"GA\"],[\"IA\"],[\"RI\"],[\"TX\"],[\"NY\"],[\"MO\"],[\"WI\"],[\"TX\"],[\"WI\"],[\"LA\"],[\"OH\"],[\"AR\"],[\"WI\"],[\"WI\"],[\"WI\"],[\"IN\"],[\"NY\"],[\"NE\"],[\"IA\"],[\"NY\"],[\"IN\"],[\"SD\"],[\"SD\"],[\"MD\"],[\"OK\"],[\"AR\"],[\"AR\"],[\"AL\"],[\"NC\"],[\"KS\"],[\"GA\"],[\"NE\"],[\"MO\"],[\"CA\"],[\"MS\"],[\"MT\"],[\"MS\"],[\"TX\"],[\"OK\"],[\"TX\"],[\"MI\"],[\"MO\"],[\"IN\"],[\"KY\"],[\"UT\"],[\"GA\"],[\"CO\"],[\"NE\"],[\"MS\"],[\"TX\"],[\"OH\"],[\"TX\"],[\"AZ\"],[\"GA\"],[\"OR\"],[\"GA\"],[\"TX\"],[\"IA\"],[\"GA\"],[\"AL\"],[\"IN\"],[\"NJ\"],[\"MA\"],[\"NY\"],[\"NM\"],[\"CO\"],[\"MO\"],[\"MT\"],[\"MI\"],[\"SD\"],[\"NC\"],[\"VA\"],[\"VA\"],[\"VA\"],[\"VA\"],[\"VA\"],[\"VA\"],[\"VA\"],[\"VA\"],[\"AR\"],[\"VA\"],[\"CO\"],[\"MS\"],[\"KY\"],[\"NC\"],[\"GA\"],[\"KY\"],[\"NE\"],[\"NV\"],[\"NV\"],[\"OK\"],[\"OH\"],[\"VA\"],[\"CA\"],[\"OK\"],[\"GA\"],[\"NC\"],[\"MO\"],[\"WI\"],[\"KY\"],[\"MN\"],[\"TN\"],[\"KY\"],[\"LA\"],[\"MT\"],[\"GA\"],[\"ID\"],[\"WI\"],[\"KY\"],[\"GA\"],[\"MS\"],[\"TX\"],[\"IA\"],[\"GA\"],[\"GA\"],[\"LA\"],[\"MT\"],[\"NY\"],[\"MO\"],[\"NE\"],[\"WV\"],[\"TX\"],[\"VA\"],[\"FL\"],[\"IN\"],[\"KY\"],[\"UT\"],[\"KS\"],[\"VT\"],[\"OK\"],[\"MO\"],[\"VA\"],[\"MO\"],[\"WV\"],[\"VA\"],[\"NC\"],[\"WY\"],[\"GA\"],[\"FL\"],[\"KY\"],[\"MA\"],[\"OH\"],[\"AL\"],[\"MO\"],[\"MS\"],[\"TX\"],[\"TX\"],[\"KY\"],[\"ND\"],[\"TN\"],[\"CO\"],[\"IN\"],[\"AR\"],[\"ID\"],[\"MN\"],[\"ID\"],[\"AR\"],[\"IN\"],[\"KY\"],[\"TX\"],[\"CO\"],[\"SD\"],[\"VA\"],[\"WI\"],[\"GA\"],[\"TX\"],[\"TN\"],[\"AL\"],[\"VA\"],[\"VA\"],[\"OH\"],[\"ND\"],[\"TX\"],[\"NY\"],[\"IA\"],[\"NC\"],[\"KS\"],[\"TX\"],[\"CA\"],[\"MO\"],[\"AR\"],[\"IA\"],[\"MS\"],[\"LA\"],[\"CA\"],[\"NE\"],[\"TX\"],[\"CT\"],[\"CO\"],[\"IN\"],[\"CA\"],[\"TX\"],[\"TN\"],[\"TX\"],[\"CT\"],[\"OH\"],[\"WY\"],[\"AR\"],[\"AL\"],[\"VA\"],[\"MT\"],[\"NE\"],[\"TX\"],[\"OK\"],[\"LA\"],[\"IN\"],[\"GA\"],[\"CA\"],[\"VA\"],[\"NM\"],[\"OK\"],[\"NJ\"],[\"VA\"],[\"MO\"],[\"ID\"],[\"NM\"],[\"IN\"],[\"NH\"],[\"KS\"],[\"WI\"],[\"ND\"],[\"MI\"],[\"FL\"],[\"MO\"],[\"SC\"],[\"AR\"],[\"KY\"],[\"NE\"],[\"WV\"],[\"VA\"],[\"VA\"],[\"IL\"],[\"TX\"],[\"MO\"],[\"IA\"],[\"NJ\"],[\"TX\"],[\"KY\"],[\"MO\"],[\"TX\"],[\"GA\"],[\"MT\"],[\"SC\"],[\"NY\"],[\"VA\"],[\"IL\"],[\"IL\"],[\"KS\"],[\"CA\"],[\"TX\"],[\"WA\"],[\"TX\"],[\"WA\"],[\"NV\"],[\"GA\"],[\"NJ\"],[\"TN\"],[\"IA\"],[\"AL\"],[\"AL\"],[\"NC\"],[\"PA\"],[\"IA\"],[\"TN\"],[\"MT\"],[\"IA\"],[\"NY\"],[\"CO\"],[\"OH\"],[\"IA\"],[\"KY\"],[\"TX\"],[\"MS\"],[\"OH\"],[\"WI\"],[\"LA\"],[\"MO\"],[\"GA\"],[\"NJ\"],[\"NC\"],[\"OR\"],[\"WV\"],[\"KY\"],[\"MN\"],[\"IN\"],[\"HI\"],[\"CO\"],[\"TX\"],[\"AL\"],[\"SD\"],[\"PA\"],[\"MO\"],[\"IL\"],[\"TX\"],[\"NY\"],[\"KS\"],[\"OH\"],[\"CA\"],[\"IN\"],[\"KY\"],[\"KY\"],[\"UT\"],[\"MT\"],[\"MO\"],[\"WV\"],[\"WI\"],[\"FL\"],[\"NC\"],[\"WV\"],[\"TN\"],[\"KS\"],[\"TX\"],[\"SD\"],[\"WV\"],[\"TN\"],[\"IA\"],[\"LA\"],[\"NY\"],[\"OK\"],[\"MI\"],[\"NE\"],[\"IN\"],[\"NC\"],[\"IN\"],[\"CO\"],[\"PA\"],[\"TN\"],[\"SC\"],[\"OR\"],[\"IL\"],[\"GA\"],[\"WA\"],[\"NC\"],[\"PA\"],[\"KS\"],[\"LA\"],[\"WA\"],[\"NC\"],[\"LA\"],[\"NC\"],[\"KY\"],[\"IL\"],[\"WI\"],[\"CO\"],[\"CA\"],[\"SC\"],[\"OH\"],[\"CO\"],[\"NC\"],[\"AR\"],[\"MT\"],[\"NM\"],[\"WI\"],[\"WA\"],[\"CO\"],[\"WV\"],[\"GA\"],[\"FL\"],[\"IN\"],[\"NY\"],[\"ID\"],[\"SD\"],[\"WV\"],[\"MI\"],[\"MS\"],[\"IL\"],[\"MN\"],[\"OK\"],[\"IA\"],[\"NY\"],[\"LA\"],[\"MN\"],[\"KY\"],[\"WY\"],[\"ND\"],[\"NC\"],[\"TX\"],[\"NC\"],[\"IN\"],[\"IA\"],[\"TX\"],[\"VT\"],[\"MO\"],[\"ID\"],[\"TN\"],[\"ND\"],[\"IN\"],[\"KY\"],[\"MO\"],[\"TX\"],[\"WV\"],[\"FL\"],[\"MI\"],[\"NE\"],[\"KY\"],[\"TN\"],[\"CO\"],[\"MI\"],[\"MO\"],[\"ND\"],[\"IL\"],[\"MN\"],[\"VA\"],[\"NM\"],[\"MI\"],[\"AR\"],[\"OH\"],[\"KS\"],[\"TX\"],[\"MS\"],[\"IL\"],[\"OH\"],[\"MI\"],[\"NC\"],[\"OH\"],[\"ND\"],[\"IL\"],[\"AR\"],[\"MO\"],[\"MO\"],[\"TX\"],[\"GA\"],[\"MS\"],[\"NY\"],[\"MS\"],[\"NM\"],[\"WI\"],[\"IA\"],[\"GA\"],[\"OR\"],[\"TX\"],[\"VA\"],[\"KY\"],[\"SD\"],[\"KS\"],[\"TX\"],[\"TN\"],[\"VA\"],[\"AZ\"],[\"OH\"],[\"AL\"],[\"OR\"],[\"ME\"],[\"KS\"],[\"KY\"],[\"KY\"],[\"OK\"],[\"MD\"],[\"KS\"],[\"TN\"],[\"ND\"],[\"CA\"],[\"IA\"],[\"IL\"],[\"GA\"],[\"OR\"],[\"TX\"],[\"OK\"],[\"GA\"],[\"TN\"],[\"GA\"],[\"TN\"],[\"TX\"],[\"TX\"],[\"OH\"],[\"GA\"],[\"IA\"],[\"MI\"],[\"OK\"],[\"SD\"],[\"OK\"],[\"PA\"],[\"NY\"],[\"NE\"],[\"KY\"],[\"AR\"],[\"MS\"],[\"PA\"],[\"OK\"],[\"MN\"],[\"IL\"],[\"MI\"],[\"VA\"],[\"UT\"],[\"SD\"],[\"VA\"],[\"GA\"],[\"OR\"],[\"CA\"],[\"WA\"],[\"MO\"],[\"CO\"],[\"TX\"],[\"KS\"],[\"MN\"],[\"KY\"],[\"KY\"],[\"MT\"],[\"UT\"],[\"FL\"],[\"TX\"],[\"MT\"],[\"MS\"],[\"IA\"],[\"KS\"],[\"AL\"],[\"ND\"],[\"LA\"],[\"MN\"],[\"PA\"],[\"CO\"],[\"GA\"],[\"GA\"],[\"NC\"],[\"AR\"],[\"GA\"],[\"TX\"],[\"IA\"],[\"CO\"],[\"FL\"],[\"NC\"],[\"PA\"],[\"IL\"],[\"IA\"],[\"AL\"],[\"VA\"],[\"ND\"],[\"CA\"],[\"TX\"],[\"MN\"],[\"NC\"],[\"OR\"],[\"NM\"],[\"MS\"],[\"SD\"],[\"SC\"],[\"IN\"],[\"GA\"],[\"VA\"],[\"TX\"],[\"OH\"],[\"IL\"],[\"SC\"],[\"KY\"],[\"KY\"],[\"GA\"],[\"OR\"],[\"NC\"],[\"LA\"],[\"NE\"],[\"GA\"],[\"IA\"],[\"AR\"],[\"RI\"],[\"GA\"],[\"NE\"],[\"GA\"],[\"IL\"],[\"AZ\"],[\"MS\"],[\"WI\"],[\"FL\"],[\"MI\"],[\"KS\"],[\"AK\"],[\"MO\"],[\"TX\"],[\"VA\"],[\"MS\"],[\"IA\"],[\"NV\"],[\"MS\"],[\"MS\"],[\"SC\"],[\"GA\"],[\"TX\"],[\"VA\"],[\"GA\"],[\"TX\"],[\"IN\"],[\"OK\"],[\"WI\"],[\"IL\"],[\"NC\"],[\"OH\"],[\"NY\"],[\"MO\"],[\"NY\"],[\"SD\"],[\"IA\"],[\"SD\"],[\"IN\"],[\"PA\"],[\"ND\"],[\"IA\"],[\"FL\"],[\"GA\"],[\"MO\"],[\"NE\"],[\"WI\"],[\"KS\"],[\"ME\"],[\"SC\"],[\"ID\"],[\"NC\"],[\"CO\"],[\"TX\"],[\"IL\"],[\"MN\"],[\"PA\"],[\"NY\"],[\"PA\"],[\"MO\"],[\"MO\"],[\"MO\"],[\"MO\"],[\"MO\"],[\"MO\"],[\"MO\"],[\"MO\"],[\"MO\"],[\"MO\"],[\"MO\"],[\"MO\"],[\"MO\"],[\"MO\"],[\"MO\"],[\"MO\"],[\"KS\"],[\"IN\"],[\"UT\"],[\"WI\"],[\"GA\"],[\"MO\"],[\"MD\"],[\"MD\"],[\"MD\"],[\"MD\"],[\"MD\"],[\"MD\"],[\"MD\"],[\"MD\"],[\"MD\"],[\"MD\"],[\"MD\"],[\"MD\"],[\"MD\"],[\"MD\"],[\"MD\"],[\"MD\"],[\"TX\"],[\"MO\"],[\"NE\"],[\"IN\"],[\"MS\"],[\"IL\"],[\"ND\"],[\"OH\"],[\"CO\"],[\"WV\"],[\"TX\"],[\"OR\"],[\"TX\"],[\"OK\"],[\"WV\"],[\"IL\"],[\"AR\"],[\"KS\"],[\"TN\"],[\"FL\"],[\"IN\"],[\"OH\"],[\"OH\"],[\"MN\"],[\"IN\"],[\"SC\"],[\"SD\"],[\"IA\"],[\"LA\"],[\"CO\"],[\"AR\"],[\"OK\"],[\"KS\"],[\"WV\"],[\"WV\"],[\"IN\"],[\"OH\"],[\"NM\"],[\"NE\"],[\"WI\"],[\"NJ\"],[\"TX\"],[\"NV\"],[\"NM\"],[\"VA\"],[\"MO\"],[\"TX\"],[\"KY\"],[\"WI\"],[\"MO\"],[\"KY\"],[\"NE\"],[\"MN\"],[\"NC\"],[\"IL\"],[\"FL\"],[\"TX\"],[\"NM\"],[\"IL\"],[\"AL\"],[\"IA\"],[\"FL\"],[\"MS\"],[\"NE\"],[\"NY\"],[\"KY\"],[\"WA\"],[\"SC\"],[\"SD\"],[\"IL\"],[\"AL\"],[\"TX\"],[\"IA\"],[\"NC\"],[\"TN\"],[\"MN\"],[\"KY\"],[\"IL\"],[\"IL\"],[\"KS\"],[\"LA\"],[\"VA\"],[\"TX\"],[\"IA\"],[\"VA\"],[\"TX\"],[\"IA\"],[\"NC\"],[\"NV\"],[\"MI\"],[\"SD\"],[\"GA\"],[\"MS\"],[\"WI\"],[\"NY\"],[\"MS\"],[\"KS\"],[\"IA\"],[\"NE\"],[\"KS\"],[\"MO\"],[\"MN\"],[\"NM\"],[\"FL\"],[\"TX\"],[\"KY\"],[\"MI\"],[\"MN\"],[\"WI\"],[\"MA\"],[\"WI\"],[\"NY\"],[\"AR\"],[\"MN\"],[\"MO\"],[\"SD\"],[\"TX\"],[\"MO\"],[\"VA\"],[\"TN\"],[\"NE\"],[\"MS\"],[\"SC\"],[\"PA\"],[\"OH\"],[\"AL\"],[\"SD\"],[\"CO\"],[\"WV\"],[\"CA\"],[\"MN\"],[\"NJ\"],[\"FL\"],[\"PA\"],[\"NC\"],[\"IL\"],[\"MO\"],[\"IN\"],[\"ND\"],[\"IN\"],[\"TX\"],[\"NE\"],[\"MS\"],[\"KY\"],[\"VA\"],[\"ND\"],[\"KS\"],[\"GA\"],[\"AZ\"],[\"MO\"],[\"MS\"],[\"MS\"],[\"UT\"],[\"OH\"],[\"OH\"],[\"IA\"],[\"KS\"],[\"TX\"],[\"TN\"],[\"MN\"],[\"AL\"],[\"VT\"],[\"MO\"],[\"WV\"],[\"MO\"],[\"CA\"],[\"AR\"],[\"TX\"],[\"MI\"],[\"KS\"],[\"TX\"],[\"NY\"],[\"IN\"],[\"WV\"],[\"VA\"],[\"RI\"],[\"GA\"],[\"AL\"],[\"IN\"],[\"FL\"],[\"MO\"],[\"OH\"],[\"MO\"],[\"IL\"],[\"TN\"],[\"MO\"],[\"IA\"],[\"IL\"],[\"AR\"],[\"TN\"],[\"WV\"],[\"TX\"],[\"WV\"],[\"NC\"],[\"OH\"],[\"NC\"],[\"TX\"],[\"HI\"],[\"OR\"],[\"AL\"],[\"MI\"],[\"NY\"],[\"SC\"],[\"MI\"],[\"TX\"],[\"AR\"],[\"LA\"],[\"WY\"],[\"GA\"],[\"MO\"],[\"AL\"],[\"FL\"],[\"WY\"],[\"OH\"],[\"TX\"],[\"MT\"],[\"VA\"],[\"MT\"],[\"MO\"],[\"TN\"],[\"MN\"],[\"VA\"],[\"OH\"],[\"NE\"],[\"WI\"],[\"IN\"],[\"GA\"],[\"VA\"],[\"NM\"],[\"LA\"],[\"MA\"],[\"OK\"],[\"OH\"],[\"OR\"],[\"IN\"],[\"IL\"],[\"OR\"],[\"IA\"],[\"FL\"],[\"MT\"],[\"MI\"],[\"KS\"],[\"NE\"],[\"TN\"],[\"VA\"],[\"GA\"],[\"TX\"],[\"NY\"],[\"CO\"],[\"OH\"],[\"AL\"],[\"DE\"],[\"KS\"],[\"IN\"],[\"KS\"],[\"WV\"],[\"GA\"],[\"CA\"],[\"TX\"],[\"GA\"],[\"ID\"],[\"GA\"],[\"MI\"],[\"OK\"],[\"NM\"],[\"AL\"],[\"NM\"],[\"OH\"],[\"OK\"],[\"OK\"],[\"ND\"],[\"WI\"],[\"WI\"],[\"NV\"],[\"FL\"],[\"WY\"],[\"GA\"],[\"GA\"],[\"PA\"],[\"FL\"],[\"AR\"],[\"NE\"],[\"NC\"],[\"NE\"],[\"IL\"],[\"VA\"],[\"CO\"],[\"AR\"],[\"LA\"],[\"WI\"],[\"SC\"],[\"FL\"],[\"KY\"],[\"ME\"],[\"MS\"],[\"KS\"],[\"LA\"],[\"FL\"],[\"KY\"],[\"PA\"],[\"KS\"],[\"FL\"],[\"TX\"],[\"TX\"],[\"ID\"],[\"GA\"],[\"MN\"],[\"NC\"],[\"KY\"],[\"SD\"],[\"ND\"],[\"OH\"],[\"KS\"],[\"UT\"],[\"VA\"],[\"AR\"],[\"KY\"],[\"KS\"],[\"TN\"],[\"AZ\"],[\"IA\"],[\"MO\"],[\"SD\"],[\"KY\"],[\"ND\"],[\"KY\"],[\"WV\"],[\"AR\"],[\"GA\"],[\"CO\"],[\"NE\"],[\"KS\"],[\"VA\"],[\"OH\"],[\"AK\"],[\"VT\"],[\"KY\"],[\"WV\"],[\"OK\"],[\"KS\"],[\"IN\"],[\"MS\"],[\"WY\"],[\"IN\"],[\"IL\"],[\"TX\"],[\"VA\"],[\"TN\"],[\"SC\"],[\"VA\"],[\"NY\"],[\"KY\"],[\"PA\"],[\"VA\"],[\"MI\"],[\"AL\"],[\"IN\"],[\"CO\"],[\"CA\"],[\"SC\"],[\"TX\"],[\"MI\"],[\"WI\"],[\"AL\"],[\"KS\"],[\"PA\"],[\"TN\"],[\"OR\"],[\"FL\"],[\"MO\"],[\"AL\"],[\"ND\"],[\"NC\"],[\"MI\"],[\"TN\"],[\"IA\"],[\"TX\"],[\"NE\"],[\"IL\"],[\"ND\"],[\"MI\"],[\"KS\"],[\"NC\"],[\"NE\"],[\"TN\"],[\"MO\"],[\"UT\"],[\"AL\"],[\"MS\"],[\"KY\"],[\"MO\"],[\"KY\"],[\"SD\"],[\"MN\"],[\"OK\"],[\"IA\"],[\"VA\"],[\"NC\"],[\"MN\"],[\"NC\"],[\"MT\"],[\"IL\"],[\"TN\"],[\"NC\"],[\"IL\"],[\"IL\"],[\"TN\"],[\"TX\"],[\"MO\"],[\"KY\"],[\"VA\"],[\"NE\"],[\"AR\"],[\"OH\"],[\"VT\"],[\"AK\"],[\"VA\"],[\"IN\"],[\"AL\"],[\"MI\"],[\"IN\"],[\"TX\"],[\"MI\"],[\"KS\"],[\"IN\"],[\"NE\"],[\"MD\"],[\"UT\"],[\"GA\"],[\"TX\"],[\"WA\"],[\"GA\"],[\"VA\"],[\"GA\"],[\"NC\"],[\"AL\"],[\"NC\"],[\"MT\"],[\"IA\"],[\"TX\"],[\"SD\"],[\"MI\"],[\"NJ\"],[\"NY\"],[\"UT\"],[\"ND\"],[\"TN\"],[\"VA\"],[\"LA\"],[\"ND\"],[\"MO\"],[\"TX\"],[\"OK\"],[\"NY\"],[\"MO\"],[\"VA\"],[\"NC\"],[\"CO\"],[\"FL\"],[\"MO\"],[\"TN\"],[\"MI\"],[\"NH\"],[\"GA\"],[\"WV\"],[\"MO\"],[\"TX\"],[\"AR\"],[\"KS\"],[\"IL\"],[\"WV\"],[\"TX\"],[\"SC\"],[\"MS\"],[\"IL\"],[\"TX\"],[\"IN\"],[\"MO\"],[\"KY\"],[\"GA\"],[\"ND\"],[\"SD\"],[\"ND\"],[\"AK\"],[\"MO\"],[\"WY\"],[\"IA\"],[\"LA\"],[\"ID\"],[\"MS\"],[\"AK\"],[\"UT\"],[\"KY\"],[\"MI\"],[\"LA\"],[\"AR\"],[\"GA\"],[\"OK\"],[\"IN\"],[\"KY\"],[\"LA\"],[\"IL\"],[\"LA\"],[\"TX\"],[\"NY\"],[\"WA\"],[\"OR\"],[\"NY\"],[\"SD\"],[\"IN\"],[\"TX\"],[\"FL\"],[\"NC\"],[\"OK\"],[\"AR\"],[\"MI\"],[\"FL\"],[\"VT\"],[\"TX\"],[\"FL\"],[\"MI\"],[\"IN\"],[\"VA\"],[\"AL\"],[\"MO\"],[\"LA\"],[\"MI\"],[\"AK\"],[\"NE\"],[\"MO\"],[\"OH\"],[\"VT\"],[\"HI\"],[\"KS\"],[\"OK\"],[\"GA\"],[\"VA\"],[\"TX\"],[\"LA\"],[\"TX\"],[\"KS\"],[\"MS\"],[\"WV\"],[\"WV\"],[\"NH\"],[\"TX\"],[\"UT\"],[\"AR\"],[\"TX\"],[\"TX\"],[\"OH\"],[\"TX\"],[\"GA\"],[\"TX\"],[\"OR\"],[\"MN\"],[\"ID\"],[\"KY\"],[\"AK\"],[\"OK\"],[\"MS\"],[\"TX\"],[\"VA\"],[\"AZ\"],[\"TN\"],[\"NY\"],[\"MS\"],[\"NE\"],[\"AR\"],[\"TX\"],[\"ID\"],[\"ID\"],[\"NY\"],[\"CT\"],[\"CO\"],[\"SC\"],[\"NC\"],[\"IA\"],[\"IA\"],[\"IA\"],[\"WY\"],[\"PA\"],[\"PA\"],[\"MN\"],[\"UT\"],[\"MN\"],[\"MA\"],[\"CO\"],[\"AL\"],[\"CA\"],[\"TX\"],[\"NC\"],[\"MT\"],[\"PA\"],[\"OR\"],[\"OK\"],[\"KS\"],[\"KS\"],[\"AK\"],[\"OH\"],[\"MN\"],[\"MI\"],[\"MN\"],[\"GA\"],[\"MT\"],[\"IA\"],[\"MN\"],[\"MS\"],[\"OR\"],[\"SD\"],[\"SD\"],[\"MD\"],[\"AR\"],[\"IN\"],[\"FL\"],[\"TX\"],[\"TN\"],[\"TN\"],[\"WV\"],[\"MO\"],[\"NC\"],[\"MI\"],[\"KY\"],[\"AL\"],[\"KY\"],[\"KS\"],[\"LA\"],[\"TX\"],[\"CA\"],[\"TX\"],[\"OH\"],[\"VA\"],[\"OH\"],[\"SD\"],[\"MS\"],[\"KS\"],[\"NY\"],[\"IN\"],[\"CO\"],[\"MO\"],[\"OH\"],[\"KY\"],[\"KY\"],[\"IA\"],[\"GA\"],[\"GA\"],[\"TX\"],[\"WV\"],[\"CO\"],[\"NC\"],[\"IL\"],[\"KY\"],[\"SD\"],[\"SC\"],[\"MN\"],[\"MN\"],[\"LA\"],[\"CA\"],[\"TN\"],[\"MA\"],[\"IL\"],[\"IL\"],[\"WI\"],[\"PA\"],[\"MT\"],[\"NM\"],[\"NC\"],[\"AR\"],[\"AR\"],[\"AR\"],[\"NC\"],[\"OK\"],[\"IN\"],[\"PA\"],[\"SD\"],[\"CO\"],[\"KY\"],[\"SC\"],[\"OH\"],[\"MN\"],[\"FL\"],[\"CO\"],[\"VA\"],[\"MT\"],[\"NE\"],[\"NJ\"],[\"NH\"],[\"TX\"],[\"OK\"],[\"NV\"],[\"GA\"],[\"NY\"],[\"IN\"],[\"MO\"],[\"MI\"],[\"LA\"],[\"TN\"],[\"GA\"],[\"MO\"],[\"OR\"],[\"NE\"],[\"KY\"],[\"NM\"],[\"OH\"],[\"GA\"],[\"WA\"],[\"UT\"],[\"SD\"],[\"VA\"],[\"MS\"],[\"ME\"],[\"KY\"],[\"TX\"],[\"AK\"],[\"OK\"],[\"UT\"],[\"OK\"],[\"IA\"],[\"WI\"],[\"CA\"],[\"MT\"],[\"MD\"],[\"NE\"],[\"VA\"],[\"KY\"],[\"MD\"],[\"NM\"],[\"SD\"],[\"NM\"],[\"ME\"],[\"PA\"],[\"MI\"],[\"WA\"],[\"KS\"],[\"WV\"],[\"OH\"],[\"FL\"],[\"WI\"],[\"WY\"],[\"TX\"],[\"NY\"],[\"PA\"],[\"MS\"],[\"MT\"],[\"SD\"],[\"CO\"],[\"AR\"],[\"ME\"],[\"KY\"],[\"MI\"],[\"OH\"],[\"OH\"],[\"VA\"],[\"IN\"],[\"AR\"],[\"CO\"],[\"ME\"],[\"MS\"],[\"TN\"],[\"NE\"],[\"OR\"],[\"VT\"],[\"VA\"],[\"VA\"],[\"NM\"],[\"MI\"],[\"IN\"],[\"GA\"],[\"TX\"],[\"OH\"],[\"GA\"],[\"IL\"],[\"MI\"],[\"OR\"],[\"PA\"],[\"MO\"],[\"NC\"],[\"FL\"],[\"AR\"],[\"MN\"],[\"IN\"],[\"CA\"],[\"NE\"],[\"MI\"],[\"AZ\"],[\"IL\"],[\"VA\"],[\"AZ\"],[\"NE\"],[\"KS\"],[\"MD\"],[\"CA\"],[\"KS\"],[\"MS\"],[\"MS\"],[\"MO\"],[\"GA\"],[\"KS\"],[\"MS\"],[\"TN\"],[\"IA\"],[\"GA\"],[\"TN\"],[\"OK\"],[\"NM\"],[\"MA\"],[\"TX\"],[\"GA\"],[\"AL\"],[\"KS\"],[\"MS\"],[\"NC\"],[\"AK\"],[\"LA\"],[\"PA\"],[\"ID\"],[\"NV\"],[\"NY\"],[\"MN\"],[\"MO\"],[\"NC\"],[\"TX\"],[\"IA\"],[\"OK\"],[\"MO\"],[\"KY\"],[\"MN\"],[\"OH\"],[\"TN\"],[\"MI\"],[\"MT\"],[\"MO\"],[\"WV\"],[\"GA\"],[\"AL\"],[\"CA\"],[\"MN\"],[\"LA\"],[\"GA\"],[\"IA\"],[\"MO\"],[\"FL\"],[\"MT\"],[\"ME\"],[\"FL\"],[\"SC\"],[\"MS\"],[\"VA\"],[\"NE\"],[\"TX\"],[\"MI\"],[\"KY\"],[\"NM\"],[\"TX\"],[\"NE\"],[\"TN\"],[\"OH\"],[\"SC\"],[\"SD\"],[\"NC\"],[\"OR\"],[\"TX\"],[\"NE\"],[\"AR\"],[\"TX\"],[\"LA\"]],\"geo\":\"geo\",\"hovertemplate\":\"<b>%{hovertext}</b><br><br>Latitude=%{lat}<br>Longitude=%{lon}<br>State=%{customdata[0]}<br>dif=%{marker.color}<extra></extra>\",\"hovertext\":[\"Hancock\",\"Stafford\",\"Webster\",\"Dimmit\",\"Cedar\",\"Deuel\",\"Howard\",\"Palm Beach\",\"St. Lawrence\",\"Clark\",\"Dundy\",\"Alamosa\",\"Citrus\",\"Williamsburg\",\"Walworth\",\"Union\",\"Kandiyohi\",\"Washington\",\"Hoke\",\"Waseca\",\"Idaho\",\"Hitchcock\",\"Carter\",\"Benson\",\"Warren\",\"Lawrence\",\"King William\",\"Coos\",\"Gaines\",\"Iberville\",\"Franklin\",\"Divide\",\"Union\",\"Beaufort\",\"Crawford\",\"Lubbock\",\"Dixie\",\"Washington\",\"Spokane\",\"Mercer\",\"Escambia\",\"Noble\",\"Washington\",\"McDonough\",\"Monmouth\",\"Delaware\",\"Bourbon\",\"Kern\",\"Braxton\",\"Guilford\",\"Pickens\",\"Routt\",\"Danville\",\"Roane\",\"Winnebago\",\"Brooks\",\"Marshall\",\"Iosco\",\"Dixon\",\"Appling\",\"Cherokee\",\"Chippewa\",\"Harrison\",\"Klickitat\",\"Park\",\"Heard\",\"Live Oak\",\"Yuma\",\"Bannock\",\"Wilson\",\"White\",\"Marshall\",\"Wood\",\"Cobb\",\"Clear Creek\",\"Hill\",\"Cheyenne\",\"Harvey\",\"Mathews\",\"Onondaga\",\"Carbon\",\"Centre\",\"Nicholas\",\"Shelby\",\"West Carroll\",\"Brooke\",\"Putnam\",\"Marion\",\"Ward\",\"Caribou\",\"Bradley\",\"Boundary\",\"Charles Mix\",\"Upshur\",\"Haskell\",\"Rockingham\",\"Ashe\",\"Spotsylvania\",\"Sublette\",\"Webb\",\"Transylvania\",\"Cameron\",\"Dare\",\"Hillsborough\",\"Cherry\",\"Mecklenburg\",\"Nuckolls\",\"Allen\",\"Lake\",\"Barton\",\"Leelanau\",\"Sedgwick\",\"Holt\",\"Pickens\",\"Kemper\",\"Jersey\",\"Orange\",\"Grayson\",\"Crosby\",\"Alfalfa\",\"Perry\",\"Madison\",\"Angelina\",\"Bureau\",\"Tippecanoe\",\"Clinton\",\"Northampton\",\"Lawrence\",\"Jefferson\",\"Cowley\",\"Craig\",\"Worcester\",\"Kings\",\"Marion\",\"Union\",\"Jefferson Davis\",\"Eagle\",\"Stone\",\"Nez Perce\",\"Fayette\",\"Wrangell\",\"Allen\",\"Shelby\",\"Cape May\",\"Cheshire\",\"Calvert\",\"Sandoval\",\"Washington\",\"Maverick\",\"Sampson\",\"Sullivan\",\"Crook\",\"Rush\",\"Saline\",\"Anne Arundel\",\"Webster\",\"Putnam\",\"Cleburne\",\"Itasca\",\"Sussex\",\"Hancock\",\"Jasper\",\"Snohomish\",\"Mason\",\"Yakima\",\"Henderson\",\"LaGrange\",\"Peach\",\"Jefferson\",\"Tarrant\",\"Scott\",\"Knox\",\"Dawson\",\"Fergus\",\"San Benito\",\"Granite\",\"Wexford\",\"Smyth\",\"Isanti\",\"Van Zandt\",\"Ocean\",\"Ogle\",\"Clay\",\"Caldwell\",\"Bell\",\"Fresno\",\"Dallam\",\"Wood\",\"Shawano\",\"Le Sueur\",\"Harford\",\"Calumet\",\"Pacific\",\"Aleutians East\",\"Monroe\",\"Kauai\",\"Noxubee\",\"Wasco\",\"Wilson\",\"Schoharie\",\"Marion\",\"Douglas\",\"Edgecombe\",\"Norton\",\"McClain\",\"Warren\",\"Roosevelt\",\"Cowlitz\",\"Yadkin\",\"Saline\",\"DuPage\",\"Fillmore\",\"Aleutians West\",\"Livingston\",\"Adams\",\"Utah\",\"Kings\",\"Todd\",\"Northampton\",\"Columbiana\",\"Marion\",\"Lake\",\"Kit Carson\",\"Johnson\",\"Carroll\",\"Polk\",\"Renville\",\"Tom Green\",\"Monroe\",\"Dillon\",\"Furnas\",\"Dunn\",\"Branch\",\"Pendleton\",\"Franklin\",\"Grady\",\"Plumas\",\"Wasatch\",\"Cuyahoga\",\"Petroleum\",\"Crockett\",\"Sierra\",\"Morrill\",\"Chautauqua\",\"Randolph\",\"Sheridan\",\"York\",\"Washington\",\"Camas\",\"Lewis\",\"Payne\",\"Nelson\",\"Colonial Heights\",\"Franklin\",\"Cuming\",\"Clay\",\"Floyd\",\"Dakota\",\"Putnam\",\"Macon\",\"Caldwell\",\"Lane\",\"Durham\",\"Lewis and Clark\",\"Trousdale\",\"Broward\",\"Eastland\",\"Paulding\",\"Ringgold\",\"Jefferson\",\"Jerauld\",\"Mineral\",\"Ottawa\",\"Beaufort\",\"Tunica\",\"Bartholomew\",\"Garland\",\"Washakie\",\"Koochiching\",\"Upton\",\"San Francisco\",\"Monongalia\",\"Randall\",\"Howard\",\"Calhoun\",\"Kingsbury\",\"Floyd\",\"Linn\",\"Potter\",\"Carter\",\"Nassau\",\"Avery\",\"Adams\",\"Tuolumne\",\"Darke\",\"McDowell\",\"New Haven\",\"Rock\",\"Tuscola\",\"Mississippi\",\"Monroe\",\"Swisher\",\"El Dorado\",\"Gates\",\"Cavalier\",\"Frio\",\"Merrimack\",\"Bulloch\",\"Pontotoc\",\"Burnet\",\"Stewart\",\"Lauderdale\",\"Portsmouth\",\"Cleburne\",\"Williamson\",\"Cass\",\"Boise\",\"Shoshone\",\"Jones\",\"Dale\",\"Daggett\",\"Guadalupe\",\"Albemarle\",\"Claiborne\",\"Tallapoosa\",\"Baylor\",\"Grant\",\"Crawford\",\"Hillsborough\",\"Nueces\",\"Rensselaer\",\"Yavapai\",\"Morris\",\"Sullivan\",\"Scurry\",\"Clark\",\"Gladwin\",\"Lancaster\",\"Bergen\",\"Wayne\",\"Lawrence\",\"Champaign\",\"Tulsa\",\"Noble\",\"Muscatine\",\"Gilmer\",\"Itawamba\",\"Knox\",\"Conejos\",\"West Baton Rouge\",\"Suffolk\",\"Clinton\",\"Union\",\"Madison\",\"Cedar\",\"DeKalb\",\"Manassas\",\"Crawford\",\"Hamblen\",\"Hockley\",\"Panola\",\"Wabaunsee\",\"Atlantic\",\"Manitowoc\",\"Chatham\",\"Kerr\",\"Chickasaw\",\"Charlton\",\"Kootenai\",\"Brazos\",\"Franklin\",\"Meagher\",\"Henry\",\"Wayne\",\"Scioto\",\"Clay\",\"Muhlenberg\",\"Miami-Dade\",\"Amherst\",\"Fayette\",\"Washington\",\"Cameron\",\"Clark\",\"Black Hawk\",\"Rock Island\",\"Carroll\",\"Philadelphia\",\"Watonwan\",\"Elmore\",\"Bartow\",\"Ozark\",\"Butte\",\"Weber\",\"Marion\",\"Clinton\",\"Aiken\",\"Newberry\",\"Yankton\",\"Wyoming\",\"Denali\",\"Taylor\",\"Logan\",\"Miami\",\"Prince William\",\"Pointe Coupee\",\"Hardin\",\"Erie\",\"Estill\",\"Hood River\",\"Montgomery\",\"Flagler\",\"Pike\",\"Bon Homme\",\"Orangeburg\",\"Cochran\",\"Jackson\",\"Summit\",\"Comanche\",\"Modoc\",\"Cumberland\",\"Sherburne\",\"Davison\",\"Pulaski\",\"Lyon\",\"Ware\",\"Turner\",\"Calhoun\",\"Defiance\",\"Holmes\",\"Jackson\",\"Mohave\",\"Horry\",\"Chase\",\"Taney\",\"Montgomery\",\"Palo Pinto\",\"Beaver\",\"Tulare\",\"Rockbridge\",\"Lincoln\",\"Davidson\",\"Johnson\",\"Cumberland\",\"Chautauqua\",\"Wise\",\"Clay\",\"La Salle\",\"Lyon\",\"Lafayette\",\"Mahnomen\",\"Perry\",\"Anderson\",\"Fentress\",\"Pickett\",\"Wheatland\",\"McPherson\",\"Seneca\",\"Callahan\",\"Muskegon\",\"Siskiyou\",\"DeSoto\",\"Dunklin\",\"Ascension\",\"Chesterfield\",\"Jackson\",\"Tooele\",\"Gulf\",\"Newton\",\"Bath\",\"Armstrong\",\"Hartley\",\"Sedgwick\",\"Mercer\",\"Saguache\",\"Clay\",\"Gonzales\",\"Wakulla\",\"Volusia\",\"Polk\",\"Huntington\",\"Marshall\",\"Fillmore\",\"Androscoggin\",\"Klamath\",\"Oswego\",\"Russell\",\"Alexandria\",\"Sacramento\",\"Calaveras\",\"Grafton\",\"Hickman\",\"Otsego\",\"Robertson\",\"Jefferson\",\"Montrose\",\"Richmond\",\"Richmond\",\"Richmond\",\"Richmond\",\"Richmond\",\"Richmond\",\"Richmond\",\"Richmond\",\"Richmond\",\"Richmond\",\"Richmond\",\"Richmond\",\"Richmond\",\"Richmond\",\"Richmond\",\"Richmond\",\"Lafayette\",\"Jack\",\"Carroll\",\"Jefferson\",\"Traill\",\"Ray\",\"Sharkey\",\"Radford\",\"Owen\",\"Columbia\",\"Scott\",\"Jackson\",\"Powell\",\"Greene\",\"Guadalupe\",\"Island\",\"Van Buren\",\"Monroe\",\"Newton\",\"Bonner\",\"Catoosa\",\"Bingham\",\"Williams\",\"Beadle\",\"Billings\",\"Morgan\",\"Broadwater\",\"Washington\",\"Gwinnett\",\"Pend Oreille\",\"Bath\",\"Lincoln\",\"Hudspeth\",\"Gratiot\",\"Clay\",\"Wyoming\",\"Hickory\",\"Marion\",\"Colusa\",\"Tipton\",\"Traverse\",\"Perquimans\",\"Red River\",\"Haskell\",\"Logan\",\"Cameron\",\"Hood\",\"Stanley\",\"Clarke\",\"Clinch\",\"Cherokee\",\"Lee\",\"Quitman\",\"Litchfield\",\"North Slope\",\"Lincoln\",\"Williamsburg\",\"Ector\",\"Yancey\",\"Bailey\",\"Montgomery\",\"Alexander\",\"Twin Falls\",\"Grand Traverse\",\"Dickinson\",\"Roger Mills\",\"Fairfield\",\"Washington\",\"Borden\",\"Nemaha\",\"Amador\",\"Saline\",\"Meade\",\"Phillips\",\"Day\",\"Adams\",\"Beauregard\",\"Anderson\",\"Caroline\",\"Grant\",\"Westmoreland\",\"Roseau\",\"Stone\",\"Churchill\",\"Middlesex\",\"Decatur\",\"Morgan\",\"Lyon\",\"Lincoln\",\"Toombs\",\"Warren\",\"Gilchrist\",\"Emporia\",\"Dubois\",\"Hughes\",\"Pondera\",\"McDonald\",\"Kinney\",\"Lincoln\",\"Oldham\",\"Glades\",\"Orange\",\"Marshall\",\"Ford\",\"Greene\",\"Harrison\",\"Karnes\",\"Scott\",\"Warren\",\"Washburn\",\"Calhoun\",\"Kleberg\",\"Berks\",\"Berkshire\",\"Cleveland\",\"Dallas\",\"Warren\",\"Wichita\",\"Pamlico\",\"Jessamine\",\"Giles\",\"Sumner\",\"White\",\"Johnson\",\"Fairbanks North Star\",\"Florence\",\"Anoka\",\"Wicomico\",\"Weld\",\"Juniata\",\"Mecosta\",\"Childress\",\"Warren\",\"Davis\",\"Levy\",\"Pulaski\",\"Blaine\",\"Fisher\",\"Coffee\",\"Hardin\",\"Edgefield\",\"Rockingham\",\"San Augustine\",\"Kosciusko\",\"Hardin\",\"Seneca\",\"Pendleton\",\"Sherman\",\"Texas\",\"Pulaski\",\"Choctaw\",\"Walla Walla\",\"Kent\",\"Teton\",\"Currituck\",\"Dearborn\",\"Putnam\",\"San Saba\",\"Oldham\",\"Oliver\",\"Windsor\",\"Hawaii\",\"Keweenaw\",\"McCormick\",\"Mineral\",\"Putnam\",\"Wilkes\",\"Butts\",\"Pierce\",\"Lumpkin\",\"York\",\"Isabella\",\"Dyer\",\"Norfolk\",\"Thurston\",\"Columbus\",\"Taylor\",\"Winnebago\",\"Zapata\",\"Boyd\",\"Lewis\",\"Virginia Beach\",\"Kent\",\"New Madrid\",\"Skamania\",\"Lancaster\",\"Menard\",\"Lamar\",\"Jefferson\",\"Marion\",\"Surry\",\"Fremont\",\"Mille Lacs\",\"Cheyenne\",\"Gem\",\"Schoolcraft\",\"Carroll\",\"Burke\",\"DeWitt\",\"Sitka\",\"Cecil\",\"Yukon-Koyukuk\",\"Navajo\",\"Otoe\",\"Kearney\",\"Gloucester\",\"Stanton\",\"Pike\",\"East Feliciana\",\"Platte\",\"Bradford\",\"Richland\",\"Clark\",\"Roanoke\",\"Roanoke\",\"Roanoke\",\"Roanoke\",\"Roanoke\",\"Roanoke\",\"Roanoke\",\"Roanoke\",\"Roanoke\",\"Roanoke\",\"Roanoke\",\"Roanoke\",\"Roanoke\",\"Roanoke\",\"Roanoke\",\"Roanoke\",\"Washington\",\"Seminole\",\"Hanson\",\"Valley\",\"Harrison\",\"Williamson\",\"Adams\",\"Harris\",\"Clallam\",\"Phillips\",\"Montgomery\",\"Shelby\",\"Dakota\",\"Union\",\"Carlisle\",\"Cumberland\",\"Prentiss\",\"Somerset\",\"Richmond\",\"Wadena\",\"Iredell\",\"Custer\",\"Sac\",\"Floyd\",\"Stoddard\",\"Gaston\",\"Hart\",\"Rice\",\"Ness\",\"Essex\",\"Delaware\",\"Stanislaus\",\"Lea\",\"Franklin\",\"Luzerne\",\"Crawford\",\"McCulloch\",\"Howell\",\"Crittenden\",\"Hooker\",\"Galax\",\"Passaic\",\"Jones\",\"Barren\",\"Deer Lodge\",\"Kitsap\",\"Orleans\",\"Gadsden\",\"Lauderdale\",\"Canyon\",\"Gray\",\"Fannin\",\"Clay\",\"Wahkiakum\",\"Phelps\",\"Fannin\",\"Doniphan\",\"Ketchikan Gateway\",\"Davidson\",\"Tioga\",\"Humboldt\",\"Bond\",\"Tensas\",\"San Juan\",\"Jackson\",\"LaPorte\",\"Crawford\",\"Fulton\",\"Worth\",\"Ripley\",\"Franklin\",\"Chambers\",\"Putnam\",\"Bottineau\",\"Cottonwood\",\"Sevier\",\"Anchorage\",\"Van Wert\",\"Antrim\",\"Jackson\",\"Pearl River\",\"Kenton\",\"Hawkins\",\"Oneida\",\"East Carroll\",\"Madison\",\"Johnson\",\"Fulton\",\"Warren\",\"Hall\",\"Garfield\",\"Hampden\",\"Dickinson\",\"Fauquier\",\"Bayfield\",\"Elliott\",\"Carson City\",\"Cochise\",\"Bradford\",\"Marion\",\"Buena Vista\",\"Adams\",\"Tyler\",\"Mora\",\"Johnson\",\"Monroe\",\"Fayette\",\"Rock\",\"Wythe\",\"Walker\",\"Dodge\",\"Forest\",\"Gage\",\"Salt Lake\",\"Hartford\",\"Hayes\",\"Elk\",\"Newport News\",\"Gray\",\"Jackson\",\"York\",\"Attala\",\"Starke\",\"Ramsey\",\"Pennington\",\"Jones\",\"Laramie\",\"Mitchell\",\"Lexington\",\"Greene\",\"Mercer\",\"Franklin\",\"Woodson\",\"Powell\",\"Coahoma\",\"Columbia\",\"Throckmorton\",\"Conway\",\"Nodaway\",\"Ransom\",\"Meigs\",\"Clay\",\"Greene\",\"Lehigh\",\"Cerro Gordo\",\"Crockett\",\"Logan\",\"Latimer\",\"Washington\",\"Howard\",\"Christian\",\"Manistee\",\"Texas\",\"Putnam\",\"Henderson\",\"Lincoln\",\"Tipton\",\"Gregg\",\"Caroline\",\"Wood\",\"Bear Lake\",\"Lavaca\",\"Fairfield\",\"Skagit\",\"Bibb\",\"Corson\",\"Owen\",\"Houston\",\"Nicholas\",\"Chesterfield\",\"Webster\",\"McDuffie\",\"Keith\",\"Brantley\",\"Alpena\",\"Wayne\",\"White\",\"Dauphin\",\"Thomas\",\"Bell\",\"Cherokee\",\"Ulster\",\"Sagadahoc\",\"Kossuth\",\"Harrison\",\"Webster\",\"Pope\",\"Sanilac\",\"Charlottesville\",\"Butler\",\"Santa Barbara\",\"Stonewall\",\"Sonoma\",\"Reagan\",\"Iron\",\"Gibson\",\"Crawford\",\"Nemaha\",\"Nye\",\"Stark\",\"Becker\",\"Oscoda\",\"Rutland\",\"Chesapeake\",\"Steele\",\"Portage\",\"Schuyler\",\"Garfield\",\"Forrest\",\"Stephenson\",\"Motley\",\"Thurston\",\"Monroe\",\"Pittsylvania\",\"Washtenaw\",\"Highland\",\"Yolo\",\"York\",\"Major\",\"Otter Tail\",\"Campbell\",\"Ellis\",\"Faulkner\",\"Lake\",\"St. Joseph\",\"Ohio\",\"Ada\",\"Erie\",\"Roberts\",\"Cleveland\",\"Washington\",\"St. Francis\",\"Amite\",\"Polk\",\"Osage\",\"Cherokee\",\"Doddridge\",\"Tehama\",\"Calloway\",\"Pottawattamie\",\"Fulton\",\"Madison\",\"Aurora\",\"McKenzie\",\"Perkins\",\"Washington\",\"Faribault\",\"Terrell\",\"Botetourt\",\"Taylor\",\"Warren\",\"La Paz\",\"Kalamazoo\",\"Finney\",\"Logan\",\"Wapello\",\"Woodward\",\"Yamhill\",\"Southampton\",\"Huron\",\"Pike\",\"Mesa\",\"Leavenworth\",\"Pettis\",\"Dolores\",\"Clearwater\",\"Santa Cruz\",\"Blanco\",\"Frederick\",\"Coffee\",\"Somerset\",\"Montgomery\",\"Madison\",\"Skagway\",\"Gilmer\",\"Sauk\",\"James City\",\"Tangipahoa\",\"Crook\",\"Terrell\",\"McLeod\",\"Lewis\",\"Wallace\",\"Franklin\",\"Greene\",\"Palo Alto\",\"Dodge\",\"Freeborn\",\"Barnstable\",\"Effingham\",\"Henry\",\"Mercer\",\"Boone\",\"Lynn\",\"Coal\",\"Kimball\",\"Cook\",\"Greenwood\",\"Lassen\",\"Champaign\",\"Kendall\",\"Emmons\",\"St. Bernard\",\"Prince of Wales-Hyder\",\"Grant\",\"Cibola\",\"Kidder\",\"Schuylkill\",\"Slope\",\"Sumter\",\"Henrico\",\"Hays\",\"Franklin\",\"Franklin\",\"Franklin\",\"Franklin\",\"Franklin\",\"Franklin\",\"Franklin\",\"Franklin\",\"Franklin\",\"Franklin\",\"Franklin\",\"Franklin\",\"Franklin\",\"Franklin\",\"Franklin\",\"Franklin\",\"Cambria\",\"Creek\",\"Elkhart\",\"Humphreys\",\"Gove\",\"Howard\",\"Winkler\",\"Jackson\",\"St. James\",\"Arlington\",\"Collingsworth\",\"Wise\",\"Jones\",\"Green\",\"Rapides\",\"Phelps\",\"Wilkin\",\"Pike\",\"Hinsdale\",\"Johnston\",\"Bracken\",\"Florence\",\"Richland\",\"Clearwater\",\"Todd\",\"Turner\",\"Oneida\",\"Platte\",\"Benton\",\"Jefferson\",\"Accomack\",\"Kent\",\"San Joaquin\",\"Gloucester\",\"Taylor\",\"Marion\",\"Scott\",\"Dodge\",\"Brazoria\",\"Irwin\",\"Moniteau\",\"Burke\",\"Woodbury\",\"Union\",\"Rabun\",\"Kodiak Island\",\"Shelby\",\"Clarendon\",\"Benton\",\"Russell\",\"Bryan\",\"Ouachita\",\"Imperial\",\"Lamb\",\"Washington\",\"Pipestone\",\"Latah\",\"Lake\",\"Seward\",\"Thomas\",\"Union\",\"Clark\",\"Ellsworth\",\"Adams\",\"Livingston\",\"Douglas\",\"Lake\",\"Bacon\",\"Knox\",\"Wichita\",\"McHenry\",\"Deuel\",\"Drew\",\"Jefferson\",\"Dade\",\"Henderson\",\"Jones\",\"Blue Earth\",\"Maury\",\"Jim Wells\",\"Jackson\",\"Otero\",\"Livingston\",\"Clayton\",\"Lac qui Parle\",\"Jackson\",\"Brown\",\"Gallatin\",\"Bourbon\",\"Piatt\",\"Jefferson\",\"Reynolds\",\"Van Buren\",\"Loudon\",\"Gordon\",\"Highlands\",\"Scotts Bluff\",\"Bonneville\",\"Green\",\"Ziebach\",\"Cumberland\",\"Sully\",\"Kenosha\",\"Ottawa\",\"Chaffee\",\"Stark\",\"Shasta\",\"Vermilion\",\"Wilkes\",\"Berrien\",\"Montmorency\",\"St. Clair\",\"Edwards\",\"Hamilton\",\"Sweetwater\",\"Craighead\",\"Talladega\",\"Shiawassee\",\"Stevens\",\"Baldwin\",\"Talbot\",\"Dawson\",\"Preble\",\"Otero\",\"Douglas\",\"Orange\",\"Putnam\",\"Comanche\",\"Ste. Genevieve\",\"Sherman\",\"Williamson\",\"Marathon\",\"Whatcom\",\"Boone\",\"Lewis\",\"Beckham\",\"Asotin\",\"Orleans\",\"Otsego\",\"Yellow Medicine\",\"Breathitt\",\"Marion\",\"Boone\",\"Pitt\",\"Jasper\",\"Lee\",\"Alameda\",\"Thomas\",\"Ottawa\",\"Shelby\",\"Grayson\",\"Park\",\"Buchanan\",\"Kittson\",\"Morgan\",\"Bledsoe\",\"Laurens\",\"New York\",\"Dallas\",\"Fredericksburg\",\"Dickens\",\"Pepin\",\"Kiowa\",\"Hutchinson\",\"Val Verde\",\"Iowa\",\"Alachua\",\"Bucks\",\"Glacier\",\"Santa Rosa\",\"Rockcastle\",\"Miami\",\"McLean\",\"Umatilla\",\"Indian River\",\"Pike\",\"Rooks\",\"Forsyth\",\"Sanborn\",\"Grady\",\"Menominee\",\"Valencia\",\"Door\",\"Camden\",\"Garfield\",\"Lenawee\",\"Henry\",\"Phillips\",\"Riley\",\"Hale\",\"Rockwall\",\"Custer\",\"Hubbard\",\"Saline\",\"Bedford\",\"Baker\",\"Ventura\",\"Calhoun\",\"Clearfield\",\"Baraga\",\"Big Horn\",\"Ward\",\"Tippah\",\"Mariposa\",\"Scott\",\"Lawrence\",\"Nantucket\",\"Bamberg\",\"DeKalb\",\"Hemphill\",\"Randolph\",\"Haralson\",\"Alexander\",\"Chester\",\"Wayne\",\"Nelson\",\"Mercer\",\"White\",\"Fond du Lac\",\"Kewaunee\",\"Parmer\",\"Russell\",\"Richland\",\"Winston\",\"Foard\",\"San Bernardino\",\"Douglas\",\"Fairfax\",\"Fairfax\",\"Fairfax\",\"Fairfax\",\"Fairfax\",\"Fairfax\",\"Fairfax\",\"Fairfax\",\"Fairfax\",\"Fairfax\",\"Fairfax\",\"Fairfax\",\"Fairfax\",\"Fairfax\",\"Fairfax\",\"Fairfax\",\"Fayette\",\"Pottawatomie\",\"Kenai Peninsula\",\"Eau Claire\",\"Livingston\",\"Dawson\",\"Valdez-Cordova\",\"Lyman\",\"Webster\",\"Yuba\",\"St. Charles\",\"Evans\",\"Glasscock\",\"Foster\",\"Merrick\",\"Taylor\",\"Pike\",\"Woodford\",\"Fountain\",\"Ashley\",\"Grant\",\"Craig\",\"Hunt\",\"Sharp\",\"Jefferson\",\"Dinwiddie\",\"Leflore\",\"Jefferson\",\"Okfuskee\",\"Osborne\",\"Fremont\",\"Mecklenburg\",\"Merced\",\"Weakley\",\"Morgan\",\"Grand Isle\",\"Warren\",\"Charles\",\"Cleveland\",\"Edwards\",\"Chaves\",\"Powder River\",\"Pershing\",\"Bernalillo\",\"Salem\",\"Brevard\",\"Liberty\",\"Madison\",\"Kiowa\",\"Hamilton\",\"Bristol\",\"Elmore\",\"Loudoun\",\"Nash\",\"Marion\",\"Houston\",\"Delta\",\"Caldwell\",\"Casey\",\"Meade\",\"Bronx\",\"Perkins\",\"Wallowa\",\"Poquoson\",\"Chester\",\"Clark\",\"Allegany\",\"Franklin\",\"Harrison\",\"Greene\",\"Aitkin\",\"McLennan\",\"Sumner\",\"Walton\",\"Orange\",\"Decatur\",\"Alleghany\",\"Rock\",\"Brown\",\"Douglas\",\"Searcy\",\"Montgomery\",\"Hopkins\",\"McCurtain\",\"Herkimer\",\"Union\",\"Ashland\",\"Clinton\",\"Vilas\",\"Linn\",\"Muscogee\",\"Atchison\",\"Isle of Wight\",\"Washington\",\"Stewart\",\"Rio Blanco\",\"Morgan\",\"Forsyth\",\"Sullivan\",\"Jewell\",\"Blaine\",\"Kittitas\",\"Presidio\",\"Graham\",\"Autauga\",\"Okanogan\",\"Garrett\",\"Clark\",\"Outagamie\",\"Crawford\",\"Lincoln\",\"Cass\",\"Tate\",\"Henry\",\"Lincoln\",\"Greene\",\"Vernon\",\"Washington\",\"Calhoun\",\"Iron\",\"Presque Isle\",\"Sullivan\",\"Lee\",\"Lincoln\",\"Rockdale\",\"Burt\",\"Barbour\",\"Rice\",\"Towns\",\"Tyler\",\"Douglas\",\"Coke\",\"New Hanover\",\"St. Mary's\",\"Torrance\",\"Chase\",\"Bryan\",\"Ritchie\",\"Beaver\",\"Saginaw\",\"Magoffin\",\"Culberson\",\"Telfair\",\"Osceola\",\"Saline\",\"Breckinridge\",\"Belmont\",\"Martin\",\"Whiteside\",\"El Paso\",\"Quitman\",\"Wilkinson\",\"West Feliciana\",\"Juab\",\"Stephens\",\"Shelby\",\"Yoakum\",\"Sunflower\",\"Chattooga\",\"Spencer\",\"Houghton\",\"Pope\",\"Jefferson\",\"Anderson\",\"Washington\",\"Mason\",\"Missoula\",\"Guthrie\",\"Glynn\",\"Gregory\",\"Barnwell\",\"Etowah\",\"Buffalo\",\"Medina\",\"Franklin\",\"Butler\",\"Armstrong\",\"Marengo\",\"DeKalb\",\"Franklin\",\"Refugio\",\"Decatur\",\"Edmonson\",\"Allegany\",\"Orange\",\"Pocahontas\",\"Clark\",\"Schleicher\",\"Pratt\",\"King and Queen\",\"Cumberland\",\"Scott\",\"Muskogee\",\"Parker\",\"Long\",\"St. Joseph\",\"Union\",\"Dutchess\",\"Hot Springs\",\"Mills\",\"Sabine\",\"Vernon\",\"Mayes\",\"Blaine\",\"Denver\",\"Alleghany\",\"Cotton\",\"Washington\",\"Adams\",\"Darlington\",\"Waushara\",\"Juneau\",\"Dawes\",\"Ogemaw\",\"Duval\",\"Lafayette\",\"Marion\",\"Harlan\",\"Charlotte\",\"Wells\",\"Delaware\",\"Carson\",\"Burke\",\"Minidoka\",\"Daviess\",\"Oregon\",\"Oceana\",\"Bullock\",\"Cortland\",\"Chester\",\"Prince George's\",\"Mahoning\",\"Richmond\",\"Lake of the Woods\",\"Trempealeau\",\"Linn\",\"Calhoun\",\"Ouray\",\"Montgomery\",\"McLean\",\"Dallas\",\"Wilson\",\"Henry\",\"Grant\",\"Stephens\",\"Cooke\",\"Lee\",\"Shenandoah\",\"Hopkins\",\"Graham\",\"Wibaux\",\"Wilcox\",\"Payette\",\"Concho\",\"Obion\",\"Cook\",\"Carbon\",\"Burnett\",\"Pender\",\"Fairfield\",\"Norfolk\",\"Weston\",\"Jeff Davis\",\"Marion\",\"Jay\",\"Summers\",\"Lawrence\",\"Sherman\",\"Lincoln\",\"Atascosa\",\"Oconee\",\"Madison\",\"Seward\",\"Carroll\",\"St. Helena\",\"Winnebago\",\"Dawson\",\"Apache\",\"Seminole\",\"Gillespie\",\"King George\",\"Lebanon\",\"Dade\",\"Meigs\",\"Murray\",\"Kent\",\"Ravalli\",\"Marshall\",\"Valley\",\"Warren\",\"Fayette\",\"Hamilton\",\"Monroe\",\"Gibson\",\"Prince George\",\"Eddy\",\"Pierce\",\"Cimarron\",\"Nance\",\"Glenn\",\"Belknap\",\"Hempstead\",\"Beaver\",\"Adair\",\"Lincoln\",\"Calcasieu\",\"Musselshell\",\"Moody\",\"Wetzel\",\"Monroe\",\"Hamilton\",\"Perry\",\"Cook\",\"Lauderdale\",\"Mercer\",\"Fort Bend\",\"Sibley\",\"Upson\",\"Macon\",\"Rowan\",\"Cabell\",\"San Diego\",\"Warren\",\"Tompkins\",\"Kendall\",\"Fayette\",\"Perry\",\"Walworth\",\"Tift\",\"Petersburg\",\"Miller\",\"Buchanan\",\"Chisago\",\"Colfax\",\"Huerfano\",\"Madison\",\"Johnson\",\"Winona\",\"Clay\",\"Dorchester\",\"McHenry\",\"Laurens\",\"Woods\",\"Silver Bow\",\"Harmon\",\"Coweta\",\"Westchester\",\"Clinton\",\"St. Clair\",\"Lamoille\",\"Kane\",\"Meeker\",\"Martin\",\"Oconto\",\"Gosper\",\"Greenville\",\"Arthur\",\"Rutherford\",\"Johnson\",\"Grundy\",\"Penobscot\",\"Lake and Peninsula\",\"Murray\",\"Coffee\",\"Perry\",\"McKean\",\"Larimer\",\"Washoe\",\"Jasper\",\"Bradley\",\"Liberty\",\"Ben Hill\",\"Campbell\",\"Terrebonne\",\"Cherokee\",\"Hardeman\",\"Davie\",\"Noble\",\"Clay\",\"Hughes\",\"Starr\",\"Loving\",\"Orange\",\"Leake\",\"Humboldt\",\"Edgar\",\"Hardin\",\"Missaukee\",\"Golden Valley\",\"King\",\"Kenedy\",\"Lafourche\",\"Trimble\",\"Norton\",\"Spink\",\"Benton\",\"Louisa\",\"Monroe\",\"Lucas\",\"Douglas\",\"Williams\",\"Whitfield\",\"Spalding\",\"Franklin\",\"Newport\",\"Roberts\",\"Livingston\",\"Mercer\",\"Columbia\",\"Wheeler\",\"Clark\",\"Acadia\",\"Summit\",\"Lawrence\",\"Juneau\",\"Rusk\",\"Waukesha\",\"Hendricks\",\"Schenectady\",\"Colfax\",\"Ida\",\"Steuben\",\"Jasper\",\"Hutchinson\",\"Douglas\",\"Worcester\",\"Marshall\",\"Independence\",\"Lonoke\",\"Colbert\",\"Person\",\"Trego\",\"Lincoln\",\"Jefferson\",\"Newton\",\"Los Angeles\",\"Lamar\",\"Garfield\",\"Carroll\",\"Harrison\",\"Rogers\",\"Crane\",\"Alcona\",\"Webster\",\"Cass\",\"Lee\",\"Box Elder\",\"Wilkinson\",\"Crowley\",\"Custer\",\"Bolivar\",\"San Jacinto\",\"Richland\",\"Kaufman\",\"Greenlee\",\"Clay\",\"Lake\",\"Treutlen\",\"Martin\",\"Jackson\",\"Candler\",\"Coosa\",\"Vanderburgh\",\"Middlesex\",\"Bristol\",\"Washington\",\"Hidalgo\",\"Montezuma\",\"Cedar\",\"Cascade\",\"Livingston\",\"Lake\",\"Caswell\",\"Bedford\",\"Bedford\",\"Bedford\",\"Bedford\",\"Bedford\",\"Bedford\",\"Bedford\",\"Bedford\",\"Washington\",\"Scott\",\"Phillips\",\"Oktibbeha\",\"Floyd\",\"Haywood\",\"Worth\",\"Whitley\",\"Pawnee\",\"Elko\",\"Lyon\",\"Custer\",\"Perry\",\"Hopewell\",\"Del Norte\",\"Pushmataha\",\"Echols\",\"Bladen\",\"Warren\",\"Monroe\",\"Union\",\"Stearns\",\"Claiborne\",\"Jackson\",\"East Baton Rouge\",\"Toole\",\"Schley\",\"Fremont\",\"Chippewa\",\"Pulaski\",\"Lanier\",\"Panola\",\"Denton\",\"Crawford\",\"Brooks\",\"Miller\",\"Allen\",\"Stillwater\",\"Chemung\",\"Cape Girardeau\",\"Garden\",\"Taylor\",\"Austin\",\"Prince Edward\",\"Hardee\",\"Wayne\",\"McCreary\",\"Sanpete\",\"Kearny\",\"Washington\",\"Nowata\",\"Benton\",\"Northampton\",\"Monroe\",\"Kanawha\",\"Brunswick\",\"Vance\",\"Goshen\",\"Baldwin\",\"Leon\",\"Russell\",\"Plymouth\",\"Gallia\",\"Henry\",\"Bates\",\"Madison\",\"Howard\",\"Calhoun\",\"Allen\",\"Walsh\",\"Morgan\",\"Custer\",\"Newton\",\"Fulton\",\"Clark\",\"Nobles\",\"Jerome\",\"Carroll\",\"Wells\",\"Lawrence\",\"Leon\",\"Pitkin\",\"Miner\",\"Northumberland\",\"Green Lake\",\"Barrow\",\"Ochiltree\",\"Lake\",\"Tuscaloosa\",\"Powhatan\",\"Falls Church\",\"Muskingum\",\"Bowman\",\"Shackelford\",\"Greene\",\"Benton\",\"Halifax\",\"Cheyenne\",\"Garza\",\"Inyo\",\"Butler\",\"Hot Spring\",\"Mills\",\"Yalobusha\",\"Evangeline\",\"Contra Costa\",\"Platte\",\"Medina\",\"Tolland\",\"Mineral\",\"Floyd\",\"Alpine\",\"Pecos\",\"Roane\",\"Jackson\",\"Windham\",\"Tuscarawas\",\"Campbell\",\"Cross\",\"Shelby\",\"Manassas Park\",\"Big Horn\",\"Sioux\",\"Colorado\",\"Jackson\",\"Morehouse\",\"Morgan\",\"Troup\",\"Humboldt\",\"Sussex\",\"Roosevelt\",\"Ellis\",\"Somerset\",\"Augusta\",\"Polk\",\"Oneida\",\"Lincoln\",\"Switzerland\",\"Carroll\",\"Logan\",\"Dane\",\"Grant\",\"Ionia\",\"Polk\",\"Audrain\",\"Colleton\",\"Greene\",\"Henry\",\"Wheeler\",\"Greenbrier\",\"Dickenson\",\"Bristol\",\"Will\",\"Deaf Smith\",\"Clay\",\"Des Moines\",\"Cumberland\",\"Bastrop\",\"Laurel\",\"Linn\",\"Red River\",\"Chatham\",\"McCone\",\"Lee\",\"Wyoming\",\"Martinsville\",\"Macoupin\",\"Jefferson\",\"Sheridan\",\"Sutter\",\"Smith\",\"Grant\",\"Bee\",\"Adams\",\"Esmeralda\",\"Newton\",\"Hunterdon\",\"Cheatham\",\"O'Brien\",\"Walker\",\"Montgomery\",\"Brunswick\",\"Union\",\"Washington\",\"Scott\",\"Daniels\",\"Sioux\",\"Orange\",\"Grand\",\"Wyandot\",\"Cass\",\"Clinton\",\"Hale\",\"Jasper\",\"Fayette\",\"La Crosse\",\"Caldwell\",\"Madison\",\"Taliaferro\",\"Camden\",\"Madison\",\"Multnomah\",\"Boone\",\"Knott\",\"Jackson\",\"Lake\",\"Honolulu\",\"Park\",\"Sutton\",\"Fayette\",\"Brule\",\"Butler\",\"Scott\",\"Lee\",\"Comal\",\"Cayuga\",\"Sherman\",\"Wayne\",\"Monterey\",\"Henry\",\"Martin\",\"Owsley\",\"Millard\",\"Liberty\",\"Andrew\",\"Preston\",\"Waupaca\",\"Pinellas\",\"Watauga\",\"Hardy\",\"Macon\",\"Shawnee\",\"Real\",\"Clay\",\"Barbour\",\"Van Buren\",\"Appanoose\",\"St. Landry\",\"Ontario\",\"Love\",\"Hillsdale\",\"Antelope\",\"Pulaski\",\"Craven\",\"Brown\",\"Archuleta\",\"Carbon\",\"Unicoi\",\"Spartanburg\",\"Josephine\",\"Fayette\",\"Wayne\",\"Chelan\",\"Polk\",\"Fayette\",\"Smith\",\"De Soto\",\"Ferry\",\"Catawba\",\"Caddo\",\"Macon\",\"Hickman\",\"LaSalle\",\"Racine\",\"Lake\",\"Santa Clara\",\"Charleston\",\"Clinton\",\"Rio Grande\",\"Union\",\"Woodruff\",\"Judith Basin\",\"Rio Arriba\",\"Marquette\",\"San Juan\",\"Gilpin\",\"Berkeley\",\"Jenkins\",\"Suwannee\",\"Jennings\",\"Columbia\",\"Owyhee\",\"Hamlin\",\"Raleigh\",\"Cass\",\"Neshoba\",\"Peoria\",\"Morrison\",\"McIntosh\",\"Louisa\",\"Fulton\",\"St. Mary\",\"Brown\",\"Woodford\",\"Teton\",\"Morton\",\"Buncombe\",\"Wilbarger\",\"Martin\",\"Parke\",\"Bremer\",\"Morris\",\"Addison\",\"St. Clair\",\"Lincoln\",\"Decatur\",\"Hettinger\",\"Lawrence\",\"Metcalfe\",\"Pemiscot\",\"Mason\",\"Wayne\",\"Walton\",\"Marquette\",\"Boyd\",\"Scott\",\"Campbell\",\"La Plata\",\"Alger\",\"Lawrence\",\"Sargent\",\"Coles\",\"Pope\",\"Essex\",\"San Miguel\",\"Iron\",\"Van Buren\",\"Logan\",\"Osage\",\"Houston\",\"Choctaw\",\"Gallatin\",\"Lawrence\",\"Barry\",\"Stokes\",\"Pickaway\",\"Logan\",\"Douglas\",\"Izard\",\"Cole\",\"Ralls\",\"Franklin\",\"Early\",\"Newton\",\"Jefferson\",\"Tallahatchie\",\"Do\\u00f1a Ana\",\"Langlade\",\"Buena Vista\",\"Sumter\",\"Tillamook\",\"Midland\",\"Harrisonburg\",\"Hancock\",\"Brown\",\"Douglas\",\"Falls\",\"Houston\",\"Grayson\",\"Coconino\",\"Jackson\",\"Macon\",\"Douglas\",\"Waldo\",\"Neosho\",\"Greenup\",\"Henderson\",\"Washita\",\"Queen Anne's\",\"Brown\",\"Greene\",\"Pembina\",\"Riverside\",\"Story\",\"Randolph\",\"Banks\",\"Gilliam\",\"Grimes\",\"Wagoner\",\"Elbert\",\"Hardin\",\"Dooly\",\"Rhea\",\"Young\",\"Archer\",\"Athens\",\"Oglethorpe\",\"Lee\",\"Emmet\",\"Le Flore\",\"Buffalo\",\"Dewey\",\"Montour\",\"Genesee\",\"York\",\"Simpson\",\"Grant\",\"Franklin\",\"Potter\",\"Kingfisher\",\"Hennepin\",\"Christian\",\"Osceola\",\"Campbell\",\"Iron\",\"Butte\",\"Petersburg\",\"Bibb\",\"Curry\",\"San Mateo\",\"Whitman\",\"Vernon\",\"Elbert\",\"Rains\",\"Grant\",\"Big Stone\",\"Garrard\",\"Johnson\",\"Beaverhead\",\"Rich\",\"Hernando\",\"Bandera\",\"Sweet Grass\",\"Washington\",\"Clinton\",\"McPherson\",\"Lee\",\"Barnes\",\"Grant\",\"Olmsted\",\"Perry\",\"Summit\",\"Paulding\",\"Crawford\",\"Richmond\",\"Lincoln\",\"Meriwether\",\"Coryell\",\"Adair\",\"Broomfield\",\"Manatee\",\"Pasquotank\",\"Fulton\",\"Iroquois\",\"Poweshiek\",\"Limestone\",\"Patrick\",\"LaMoure\",\"Mendocino\",\"Caldwell\",\"Goodhue\",\"Swain\",\"Malheur\",\"Harding\",\"Clarke\",\"Dewey\",\"Pickens\",\"Clinton\",\"Atkinson\",\"New Kent\",\"Galveston\",\"Stark\",\"Kane\",\"Kershaw\",\"Logan\",\"Butler\",\"Wheeler\",\"Columbia\",\"Duplin\",\"Avoyelles\",\"Sheridan\",\"Pierce\",\"Keokuk\",\"Baxter\",\"Providence\",\"Emanuel\",\"Sarpy\",\"Colquitt\",\"Shelby\",\"Gila\",\"Greene\",\"Barron\",\"Putnam\",\"Calhoun\",\"Morris\",\"Matanuska-Susitna\",\"Jackson\",\"Montague\",\"Clarke\",\"Wayne\",\"Plymouth\",\"Storey\",\"Winston\",\"Humphreys\",\"Hampton\",\"Lowndes\",\"Milam\",\"Amelia\",\"Randolph\",\"Runnels\",\"Boone\",\"Pawnee\",\"Brown\",\"Monroe\",\"Wayne\",\"Auglaize\",\"Queens\",\"Jefferson\",\"Niagara\",\"Fall River\",\"Greene\",\"Edmunds\",\"Jackson\",\"Allegheny\",\"Stutsman\",\"Tama\",\"Nassau\",\"Cherokee\",\"Scotland\",\"Howard\",\"Price\",\"Hodgeman\",\"Hancock\",\"Richland\",\"Gooding\",\"Chowan\",\"Baca\",\"Bosque\",\"Carroll\",\"Red Lake\",\"Susquehanna\",\"Delaware\",\"Lancaster\",\"St. Louis\",\"St. Louis\",\"St. Louis\",\"St. Louis\",\"St. Louis\",\"St. Louis\",\"St. Louis\",\"St. Louis\",\"St. Louis\",\"St. Louis\",\"St. Louis\",\"St. Louis\",\"St. Louis\",\"St. Louis\",\"St. Louis\",\"St. Louis\",\"Greenwood\",\"Wabash\",\"Cache\",\"Pierce\",\"Polk\",\"Johnson\",\"Baltimore\",\"Baltimore\",\"Baltimore\",\"Baltimore\",\"Baltimore\",\"Baltimore\",\"Baltimore\",\"Baltimore\",\"Baltimore\",\"Baltimore\",\"Baltimore\",\"Baltimore\",\"Baltimore\",\"Baltimore\",\"Baltimore\",\"Baltimore\",\"Jefferson\",\"Maries\",\"Greeley\",\"Hamilton\",\"Lowndes\",\"Fulton\",\"Burleigh\",\"Trumbull\",\"San Miguel\",\"Marshall\",\"Erath\",\"Marion\",\"Aransas\",\"Greer\",\"Mineral\",\"Washington\",\"Scott\",\"Labette\",\"Jackson\",\"Lake\",\"Porter\",\"Hocking\",\"Miami\",\"Lyon\",\"Greene\",\"Lexington\",\"Haakon\",\"Clayton\",\"St. Martin\",\"Lincoln\",\"Ouachita\",\"Kay\",\"Mitchell\",\"Tucker\",\"Clay\",\"Vigo\",\"Ashland\",\"Eddy\",\"McPherson\",\"Sawyer\",\"Hudson\",\"Sterling\",\"Eureka\",\"Curry\",\"Carroll\",\"Holt\",\"Lipscomb\",\"Boyle\",\"Polk\",\"Crawford\",\"Boone\",\"Logan\",\"Benton\",\"Scotland\",\"Moultrie\",\"Jefferson\",\"Navarro\",\"San Juan\",\"Tazewell\",\"Geneva\",\"Delaware\",\"Hamilton\",\"Hancock\",\"Saunders\",\"Cattaraugus\",\"Knox\",\"Garfield\",\"Oconee\",\"Pennington\",\"Warren\",\"Madison\",\"Camp\",\"Page\",\"Onslow\",\"Grainger\",\"Carlton\",\"Cumberland\",\"Pulaski\",\"Madison\",\"Wilson\",\"Natchitoches\",\"Page\",\"Limestone\",\"Iowa\",\"Westmoreland\",\"Uvalde\",\"Emmet\",\"Wake\",\"Lincoln\",\"Monroe\",\"Hyde\",\"Madison\",\"Tishomingo\",\"Lincoln\",\"Franklin\",\"Lee\",\"Harper\",\"Monona\",\"Washington\",\"Washington\",\"Shannon\",\"Renville\",\"Quay\",\"Washington\",\"Castro\",\"Clark\",\"Allegan\",\"Nicollet\",\"Marinette\",\"Essex\",\"Grant\",\"Rockland\",\"Marion\",\"Swift\",\"Carroll\",\"Union\",\"Goliad\",\"Dent\",\"Culpeper\",\"Madison\",\"Loup\",\"Walthall\",\"Calhoun\",\"Venango\",\"Shelby\",\"Covington\",\"Marshall\",\"Las Animas\",\"Mingo\",\"San Luis Obispo\",\"Carver\",\"Mercer\",\"Charlotte\",\"Forest\",\"Alamance\",\"Clay\",\"Knox\",\"Ohio\",\"Sioux\",\"Warrick\",\"Zavala\",\"Banner\",\"Benton\",\"Crittenden\",\"Middlesex\",\"Grand Forks\",\"Greeley\",\"Screven\",\"Yuma\",\"Christian\",\"Lafayette\",\"Lincoln\",\"Davis\",\"Adams\",\"Guernsey\",\"Clarke\",\"Pottawatomie\",\"Wharton\",\"Blount\",\"Norman\",\"Monroe\",\"Essex\",\"Laclede\",\"Wood\",\"Chariton\",\"Mono\",\"Columbia\",\"Titus\",\"Ingham\",\"Comanche\",\"Willacy\",\"Lewis\",\"Jefferson\",\"Pleasants\",\"Giles\",\"Washington\",\"Twiggs\",\"St. Clair\",\"Harrison\",\"Monroe\",\"Gasconade\",\"Morrow\",\"Clark\",\"Massac\",\"Dickson\",\"Barry\",\"Grundy\",\"Johnson\",\"Desha\",\"Perry\",\"Grant\",\"Irion\",\"Monroe\",\"Hyde\",\"Erie\",\"Stanly\",\"Hall\",\"Kalawao\",\"Polk\",\"Crenshaw\",\"Dickinson\",\"Broome\",\"Abbeville\",\"Bay\",\"Matagorda\",\"Howard\",\"Bossier\",\"Albany\",\"Effingham\",\"Schuyler\",\"Conecuh\",\"Jackson\",\"Niobrara\",\"Clermont\",\"Burleson\",\"Hill\",\"Bland\",\"Yellowstone\",\"St. Francois\",\"Cannon\",\"Steele\",\"Tazewell\",\"Licking\",\"Hall\",\"St. Croix\",\"Blackford\",\"Lee\",\"Lancaster\",\"De Baca\",\"Union\",\"Hampshire\",\"Canadian\",\"Butler\",\"Clackamas\",\"Benton\",\"Wabash\",\"Clatsop\",\"Carroll\",\"Hendry\",\"Rosebud\",\"Newaygo\",\"Ellis\",\"Keya Paha\",\"Smith\",\"Floyd\",\"Harris\",\"McMullen\",\"Essex\",\"Prowers\",\"Pike\",\"Wilcox\",\"New Castle\",\"Rush\",\"Montgomery\",\"Franklin\",\"Jackson\",\"Habersham\",\"Marin\",\"Rusk\",\"Chattahoochee\",\"Benewah\",\"Berrien\",\"Roscommon\",\"Carter\",\"Taos\",\"Escambia\",\"Grant\",\"Ottawa\",\"Atoka\",\"Okmulgee\",\"Sheridan\",\"Ozaukee\",\"Sheboygan\",\"Douglas\",\"Pasco\",\"Carbon\",\"Clarke\",\"Jasper\",\"Lackawanna\",\"Duval\",\"Yell\",\"Boone\",\"Lenoir\",\"Madison\",\"Wayne\",\"Charles City\",\"Bent\",\"Franklin\",\"Plaquemines\",\"Adams\",\"Sumter\",\"Bay\",\"Pike\",\"Oxford\",\"Smith\",\"Barber\",\"St. Tammany\",\"St. Lucie\",\"Marshall\",\"Mifflin\",\"Rawlins\",\"Baker\",\"Hansford\",\"Chambers\",\"Lewis\",\"Greene\",\"Stevens\",\"McDowell\",\"Larue\",\"Potter\",\"Towner\",\"Hamilton\",\"Stafford\",\"Uintah\",\"Appomattox\",\"Madison\",\"Rowan\",\"Montgomery\",\"Sevier\",\"Santa Cruz\",\"Henry\",\"Macon\",\"Hand\",\"Letcher\",\"Rolette\",\"Franklin\",\"Calhoun\",\"Chicot\",\"Jackson\",\"Gunnison\",\"Thayer\",\"Reno\",\"Hampton\",\"Coshocton\",\"Hoonah-Angoon\",\"Orleans\",\"Webster\",\"Pocahontas\",\"Sequoyah\",\"Republic\",\"Perry\",\"Union\",\"Uinta\",\"Allen\",\"Brown\",\"Nolan\",\"Hanover\",\"Rutherford\",\"Saluda\",\"Waynesboro\",\"Schuyler\",\"Morgan\",\"Snyder\",\"Rappahannock\",\"Chippewa\",\"Mobile\",\"Franklin\",\"Pueblo\",\"Placer\",\"Dorchester\",\"Bexar\",\"Lake\",\"Milwaukee\",\"Blount\",\"Cherokee\",\"Columbia\",\"Moore\",\"Wheeler\",\"Sumter\",\"Franklin\",\"Pike\",\"Griggs\",\"Moore\",\"Kalkaska\",\"Hardeman\",\"Marion\",\"Knox\",\"Pierce\",\"Kankakee\",\"McIntosh\",\"Mason\",\"Morton\",\"Graham\",\"Red Willow\",\"Sequatchie\",\"Osage\",\"Garfield\",\"Cullman\",\"Covington\",\"Bullitt\",\"Lafayette\",\"Washington\",\"Harding\",\"Mower\",\"Oklahoma\",\"Winneshiek\",\"Halifax\",\"Hertford\",\"Wabasha\",\"Harnett\",\"Richland\",\"Sangamon\",\"Knox\",\"Johnston\",\"Boone\",\"Morgan\",\"Overton\",\"Cottle\",\"Wright\",\"Ballard\",\"Pulaski\",\"Buffalo\",\"Nevada\",\"Geauga\",\"Bennington\",\"Nome\",\"Fluvanna\",\"DeKalb\",\"Franklin\",\"Mackinac\",\"Pike\",\"Robertson\",\"Oakland\",\"Elk\",\"Martin\",\"Valley\",\"Washington\",\"San Juan\",\"Tattnall\",\"Stephens\",\"Lincoln\",\"Glascock\",\"Highland\",\"McIntosh\",\"Montgomery\",\"Chilton\",\"Surry\",\"Prairie\",\"Allamakee\",\"Llano\",\"Minnehaha\",\"Clare\",\"Sussex\",\"Saratoga\",\"Duchesne\",\"Ramsey\",\"Grundy\",\"Buchanan\",\"Jackson\",\"Dickey\",\"Atchison\",\"Briscoe\",\"Caddo\",\"Hamilton\",\"Cass\",\"Buckingham\",\"Camden\",\"Boulder\",\"St. Johns\",\"Grundy\",\"Haywood\",\"Luce\",\"Sullivan\",\"Hancock\",\"Hancock\",\"Montgomery\",\"Waller\",\"Perry\",\"Cloud\",\"De Witt\",\"Hampshire\",\"Terry\",\"Anderson\",\"George\",\"Jo Daviess\",\"Victoria\",\"Randolph\",\"Dallas\",\"Grant\",\"Camden\",\"Cass\",\"Custer\",\"Mountrail\",\"Bethel\",\"Worth\",\"Natrona\",\"Mitchell\",\"Catahoula\",\"Lemhi\",\"Copiah\",\"Bristol Bay\",\"Piute\",\"Carter\",\"Genesee\",\"Assumption\",\"Montgomery\",\"Liberty\",\"Tillman\",\"Delaware\",\"McCracken\",\"Washington\",\"Vermilion\",\"Sabine\",\"Polk\",\"Yates\",\"King\",\"Deschutes\",\"Tioga\",\"Lincoln\",\"Spencer\",\"Reeves\",\"Okaloosa\",\"Mitchell\",\"Jefferson\",\"White\",\"Montcalm\",\"Collier\",\"Caledonia\",\"Collin\",\"Sarasota\",\"Cheboygan\",\"Sullivan\",\"Nottoway\",\"Lamar\",\"Carter\",\"St. John the Baptist\",\"Eaton\",\"Yakutat\",\"Harlan\",\"Daviess\",\"Madison\",\"Chittenden\",\"Maui\",\"Coffey\",\"Grant\",\"Mitchell\",\"Lynchburg\",\"Brewster\",\"Concordia\",\"Hamilton\",\"Anderson\",\"Hinds\",\"Ohio\",\"Morgan\",\"Strafford\",\"Moore\",\"Grand\",\"Poinsett\",\"Travis\",\"Orange\",\"Portage\",\"Jim Hogg\",\"DeKalb\",\"Hidalgo\",\"Morrow\",\"Todd\",\"Madison\",\"Adair\",\"Northwest Arctic\",\"Harper\",\"Issaquena\",\"Lamar\",\"Covington\",\"Pinal\",\"DeKalb\",\"Suffolk\",\"Alcorn\",\"Adams\",\"Johnson\",\"Coleman\",\"Teton\",\"Power\",\"Albany\",\"New London\",\"Costilla\",\"Marlboro\",\"Carteret\",\"Chickasaw\",\"Hancock\",\"Dubuque\",\"Converse\",\"Huntingdon\",\"Bedford\",\"Marshall\",\"Morgan\",\"Beltrami\",\"Dukes\",\"Delta\",\"Lowndes\",\"Trinity\",\"Andrews\",\"Granville\",\"Flathead\",\"Northumberland\",\"Union\",\"Kiowa\",\"Pawnee\",\"Wyandotte\",\"Southeast Fairbanks\",\"Lucas\",\"Kanabec\",\"Benzie\",\"Lincoln\",\"Webster\",\"Sanders\",\"Wright\",\"Cass\",\"Yazoo\",\"Harney\",\"Codington\",\"Bennett\",\"Talbot\",\"Little River\",\"Crawford\",\"Lafayette\",\"Jeff Davis\",\"Cocke\",\"Hancock\",\"Wirt\",\"Gentry\",\"Bertie\",\"Huron\",\"Trigg\",\"Houston\",\"Lincoln\",\"Jefferson\",\"Iberia\",\"Freestone\",\"Nevada\",\"Jasper\",\"Sandusky\",\"Staunton\",\"Montgomery\",\"Mellette\",\"Marshall\",\"Kingman\",\"Wayne\",\"Daviess\",\"Jackson\",\"Mississippi\",\"Ross\",\"Jefferson\",\"Fulton\",\"Adams\",\"Baker\",\"Decatur\",\"Trinity\",\"Mason\",\"Teller\",\"Henderson\",\"Edwards\",\"Fleming\",\"Tripp\",\"Georgetown\",\"Polk\",\"Redwood\",\"Franklin\",\"Sierra\",\"Hamilton\",\"Suffolk\",\"Hancock\",\"McLean\",\"Dunn\",\"Wayne\",\"Chouteau\",\"Union\",\"Robeson\",\"Logan\",\"Miller\",\"Arkansas\",\"Randolph\",\"Lincoln\",\"Posey\",\"Clarion\",\"McCook\",\"Moffat\",\"Wolfe\",\"Berkeley\",\"Monroe\",\"Clay\",\"DeSoto\",\"Fremont\",\"Goochland\",\"Gallatin\",\"Polk\",\"Burlington\",\"Coos\",\"Bowie\",\"Seminole\",\"White Pine\",\"Crisp\",\"Madison\",\"Johnson\",\"Wayne\",\"Lapeer\",\"Claiborne\",\"Carroll\",\"Marion\",\"Randolph\",\"Lane\",\"Box Butte\",\"Graves\",\"Socorro\",\"Ashtabula\",\"Jefferson\",\"Stevens\",\"Sevier\",\"Jones\",\"Winchester\",\"Lawrence\",\"Kennebec\",\"Mason\",\"Donley\",\"Dillingham\",\"Garvin\",\"Emery\",\"Cherokee\",\"Marshall\",\"Dodge\",\"Madera\",\"Golden Valley\",\"Somerset\",\"Stanton\",\"Greensville\",\"Lewis\",\"Kent\",\"Luna\",\"Brookings\",\"McKinley\",\"Piscataquis\",\"Montgomery\",\"Arenac\",\"Grays Harbor\",\"Haskell\",\"Upshur\",\"Holmes\",\"Osceola\",\"Richland\",\"Sheridan\",\"Dallas\",\"Chenango\",\"Lycoming\",\"Jefferson\",\"Treasure\",\"Meade\",\"El Paso\",\"Prairie\",\"Franklin\",\"Menifee\",\"Charlevoix\",\"Warren\",\"Knox\",\"Lee\",\"Whitley\",\"Union\",\"Arapahoe\",\"Aroostook\",\"Jefferson Davis\",\"Fayette\",\"Knox\",\"Washington\",\"Windham\",\"Salem\",\"Montgomery\",\"Catron\",\"Menominee\",\"Steuben\",\"Columbia\",\"Delta\",\"Vinton\",\"Hart\",\"Montgomery\",\"Ontonagon\",\"Benton\",\"Indiana\",\"Harrison\",\"Cabarrus\",\"Okeechobee\",\"Jefferson\",\"Wright\",\"Vermillion\",\"Napa\",\"Cass\",\"Gogebic\",\"Maricopa\",\"Menard\",\"Lunenburg\",\"Pima\",\"Wayne\",\"Geary\",\"Frederick\",\"Solano\",\"Barton\",\"Simpson\",\"Stone\",\"Bollinger\",\"Bleckley\",\"Butler\",\"Rankin\",\"Wayne\",\"Mahaska\",\"Henry\",\"McMinn\",\"Pontotoc\",\"Los Alamos\",\"Middlesex\",\"Nacogdoches\",\"Dougherty\",\"Choctaw\",\"Ford\",\"Holmes\",\"Anson\",\"Haines\",\"Winn\",\"Blair\",\"Cassia\",\"Lander\",\"Montgomery\",\"Crow Wing\",\"Ripley\",\"Tyrrell\",\"Brown\",\"Audubon\",\"Pittsburg\",\"Adair\",\"Leslie\",\"St. Louis\",\"Lorain\",\"Robertson\",\"Macomb\",\"Blaine\",\"Cooper\",\"Randolph\",\"Murray\",\"Calhoun\",\"Butte\",\"Pine\",\"Bienville\",\"Walker\",\"Butler\",\"Callaway\",\"Taylor\",\"Fallon\",\"Cumberland\",\"Clay\",\"Allendale\",\"Grenada\",\"Nelson\",\"Clay\",\"Kimble\",\"Midland\",\"Hardin\",\"Santa Fe\",\"Somervell\",\"Richardson\",\"McNairy\",\"Franklin\",\"Jasper\",\"Faulk\",\"Rockingham\",\"Jefferson\",\"Lampasas\",\"Frontier\",\"Sebastian\",\"San Patricio\",\"St. Charles\"],\"lat\":[41.001938375,38.4207190191,40.1764332141,28.4225359982,41.7723266607,44.7600579518,43.3567673364,26.6475645688,44.4964021427,44.8582538926,40.1762352358,37.5728931402,28.8475696914,33.6199254931,42.6684869829,39.6255458453,45.1523823451,44.9694591011,35.0175290075,44.0221236545,45.8441976984,40.1763469163,45.5167568769,48.0693970137,41.334373461,40.9912143554,37.7065960005,43.1851621531,32.7407276994,30.2584988738,29.8116835857,48.8148829805,37.4712716191,32.3570482149,43.2394623005,33.6102061227,29.5812415277,32.9695357353,47.6206643185,37.4055150245,30.6143960313,36.388599579,35.8392646425,40.4562312432,40.2875173476,36.4082132934,37.8552256175,35.3428473738,38.6998727176,36.0794717315,33.2808768859,40.4850679408,36.5831912624,38.7140255919,42.3362603021,27.0315726438,41.0331711391,44.3370929481,42.4930987798,31.7492803518,31.8369546469,45.0223609495,30.4160496685,45.8738054472,45.4883821256,33.2970283837,28.3513711091,40.0028993432,42.6684852128,29.17400609,40.7497715932,35.4688611107,44.45533124,33.9414815247,39.6890538531,31.9906857305,41.2197790932,38.0432184802,37.4173108862,43.0057953643,39.6481383656,40.9193457751,38.2917014586,39.5236921944,32.7885605367,40.2738181301,40.478908401,39.7817096805,31.5094655501,42.7705180974,33.4664224376,48.7668933923,43.2079070509,32.7362765372,35.2247812957,38.5120104943,36.434424701,38.1849543372,42.7669066527,27.7610624301,35.2021778635,26.1513412689,35.664936694,27.9062278359,42.5449323085,36.6803610038,40.1763796295,40.7715207081,41.9103521337,37.5023005833,45.151770859,40.8759049641,42.4557108473,34.4643197803,32.7545579307,39.0855054887,28.5144162588,33.6268085539,33.6146250309,36.730988911,37.2442933233,41.3307142217,31.2547645833,41.4041459264,40.3886187334,42.9436523662,36.4177312434,44.3586271805,39.5864284092,37.2377526609,37.4817063904,42.3513950817,36.0753604529,38.3588724365,34.8340257189,30.2677218795,39.6278256159,36.7470190976,46.326849228,33.4139430365,56.2936264549,37.8857349436,41.6850925934,39.0850981086,42.9193314277,38.5347120041,35.6886045558,36.7152338187,28.7425901306,34.9915361594,36.5129154065,44.5886036159,39.6199484364,39.1368391026,38.9941571642,38.4947373058,41.2044899818,35.5381064958,47.5095252347,38.6832973547,39.8235499831,37.2035472717,48.0460953466,40.2396222297,46.4570264297,32.211900087,41.6426062358,32.5687919024,39.3076165956,32.7715559666,32.4063798664,38.6890898846,40.8699361138,47.2635798565,36.6057058971,46.4044620332,44.3383668115,36.843740372,45.5614793413,32.5637166985,39.8659324961,42.0425663561,39.3497164186,39.6557509891,36.7306482485,36.7581801263,36.2778878907,32.7864051416,44.7891558271,44.3714339354,39.5364361834,44.0816034654,46.5514253133,55.2245210175,43.3091611082,22.0110798698,33.110112782,45.1600224643,36.1548497851,42.5882192933,39.509995074,46.4641098796,35.912880671,36.931457433,35.0093341427,33.4089633624,48.2945125463,46.1932195454,36.1605336919,38.7838065024,41.8519557671,40.5246661273,52.680220089,37.2097032695,39.8714520053,40.1199573141,40.6343512879,36.8355562279,40.7541667046,40.7684277475,29.2102022904,42.325322722,39.3054413227,36.4549370868,38.6678584122,35.1199026751,48.7189972077,31.404399317,41.0297829981,34.3915831664,40.1764658834,47.3567862566,41.9161186535,38.6956276543,35.1549608138,30.8746728358,40.0046824769,40.3307738015,41.6350590585,47.1175406772,35.8135384798,33.1304910055,41.7159996542,37.1500572155,33.2937873448,48.7209967429,34.9747567032,38.5999841735,43.4633261176,38.9958676803,36.0772896934,37.805131267,37.2650404186,42.5831156958,41.916402826,33.2690858673,34.263162689,42.3911118186,38.5086167769,32.3583825945,35.9530379334,38.4813047182,36.0360299243,47.1224429081,36.3920428566,26.1518560378,32.3270730707,41.1166208296,40.7352022993,41.1281451272,44.0663458318,38.5388085859,36.835513749,35.486983815,34.6519495513,39.2059705721,34.5767017575,43.9049970086,48.2452683995,31.3687302289,37.7597150131,39.6302838888,34.965857001,39.1424974869,30.4060343343,44.3695852597,34.0724245507,44.4888787662,35.4012758182,36.2927208493,40.7321421632,36.0766050343,44.8895880248,38.0276014047,40.1332239754,37.3785013178,41.3488242868,42.6712233677,43.4913425333,35.7639016515,33.8922415035,34.5303849906,38.7787375794,36.4449435708,48.77230295,28.8678175883,43.2974962568,32.3968141786,34.2254421511,30.7882970504,32.0784621843,34.901372384,36.8590007836,33.6745577167,35.8938381553,39.9735467174,43.9891394613,47.3529575649,42.1212370657,31.4318270699,40.887287897,34.8633405971,38.0228983556,31.9736926021,32.8624049426,33.616489499,45.934046167,37.5073151069,42.9152915059,27.7350347565,42.7110535518,34.5998564246,40.8620042241,40.2106416142,32.7463149294,37.2355230437,43.9906739447,34.6866819092,40.9596717781,38.3243487435,38.7199480156,40.1400890018,36.1210986495,39.7659588693,41.4839220534,38.9240617743,34.2799867489,44.0272987421,37.2006875346,30.4634147938,36.7018432696,39.6017802193,40.2993893945,32.3644009947,42.59926192,39.8931762515,38.7478811299,41.6846965026,36.2171519061,33.6076426857,32.1623552365,38.9532912889,39.4688295112,44.1106889273,35.7025721296,30.0614838052,33.9207998598,30.7817272016,47.6743566297,30.6607989734,36.0827733527,46.5982240782,36.6827726796,42.2847454761,38.803961942,36.55115711,37.2157922672,25.6089674858,37.6047919172,29.8767867938,30.2145304261,41.4368044101,39.3335754723,42.470095744,41.4673285687,40.582858561,40.0076360466,43.9784278928,43.3538854014,34.2376620909,36.6493218817,43.7229327365,41.2698430321,39.8059654072,44.7462263534,33.544295273,34.2898117968,43.0089657475,41.5183294763,63.6716419513,37.3664545067,37.8315338847,38.5635832261,38.701685538,30.7093956955,37.5181798892,42.7582365339,37.6924814699,45.5190279208,41.0301399961,29.4711426482,33.0922652469,42.9883723478,33.438991479,33.6041424405,35.2875866253,40.8681663764,34.6621223951,41.5898335739,35.9503879058,45.4439531217,43.6747378332,32.2322990847,37.0191301368,31.0536324937,31.7163847519,39.1692979289,41.3239160959,30.8678906078,30.4628875802,35.7040584995,33.9046109451,40.5241957601,36.6547348009,32.1733642109,32.7531803783,36.7497076523,36.220156659,37.8144890524,35.1405167444,36.1695295563,44.0387746178,40.1636345517,42.3029409617,36.97522315,33.6556666121,28.3450693013,43.3804969625,33.2409810885,47.3252360192,37.7071366717,38.0039134141,36.3804933554,36.5584092548,46.4662809401,45.7663736363,41.1238795774,32.2976557,43.2899298863,41.5926866339,34.8753989481,36.2721371509,30.2035444978,37.378523092,37.7851065199,40.4487493593,29.9086211231,30.7863091928,38.1449736906,40.8122907682,35.8400259506,37.6847615589,40.5400113655,38.0805527548,33.7855310388,29.4567333341,30.1477719789,29.0634475051,34.4858849277,40.8292399575,41.3248489608,43.6739971693,44.1658484298,42.6864089427,43.4638832499,36.9338705281,38.8184535854,38.4493208547,38.204606803,43.940666315,35.8032506791,42.6337635679,38.5188144389,36.0509841883,38.4021560325,37.5294416201,37.5294416201,37.5294416201,37.5294416201,37.5294416201,37.5294416201,37.5294416201,37.5294416201,37.9370590546,37.9370590546,37.9370590546,37.9370590546,37.9370590546,37.9370590546,37.9370590546,37.9370590546,30.2067729534,33.2334606021,39.5628541642,47.7764366569,47.4541905541,39.3524140547,32.8797230696,37.1228911509,39.3128100483,46.2974982725,38.482169359,34.7794159964,37.8311453235,39.6914804501,29.583050959,48.162897037,40.7532343253,41.0580656247,35.9199743544,48.3000250033,34.9036574214,43.2165580516,48.3436752481,44.4144805031,47.0235840907,33.5908249244,46.3324239679,37.2804061385,33.9617197861,48.5323201664,38.0586888264,48.5424784918,31.4561406891,43.2927326789,36.3683942057,37.6096118283,37.9407856984,40.5871850985,39.177573113,40.3113452381,45.7721844848,36.1772228503,32.0931465237,33.1782312871,35.9193387894,29.8468719706,32.4299283238,44.4123213669,31.6766595802,30.9149468971,42.7356225783,34.7806229431,31.8673305599,41.7924983178,69.3634118461,43.997787332,37.2691767895,31.8691725205,35.8989479924,34.0685270235,38.0335228018,37.191593361,42.3558758962,44.7162390791,38.8665005829,35.6883600988,34.3951111298,39.9710617874,32.74369415,39.7834476063,38.446389504,34.6466183905,37.2381964095,48.2591824926,45.367151587,40.7456599313,30.6484687349,31.8133256702,38.0267183008,45.1719349421,40.31072723,48.7751394251,35.8598655553,39.580876381,41.4353818043,39.7847564917,39.6203734727,38.4561871377,35.4855950234,32.1217203314,40.3469033297,29.7258227162,36.6953299477,38.3642764332,35.0483629463,48.2279328059,36.628673995,29.3502075785,32.6016373737,35.4050346181,26.9564459351,38.2462130511,34.3669621021,40.597165174,38.297620662,40.2938389348,28.9057389627,39.6441138538,43.560975208,45.8991791693,31.5291972743,27.4267108244,40.4162956557,42.3706766098,35.3341018022,41.6848582046,36.3965102811,33.9879970441,35.151021226,37.872051318,35.2021508952,37.2372753377,34.6463905658,41.6715248584,64.8077661564,34.0244909939,45.2732429118,38.3694102763,40.5548298977,40.5310649083,43.6407681919,34.5292014575,36.9935767676,40.7476890807,29.2822055783,37.8246250522,41.9127594294,32.7428202205,31.5492717947,42.3838803185,33.7722424167,42.9845979293,31.3942193486,41.244097338,30.3323725105,42.781081385,38.6807283768,45.4052565917,37.31730701,34.7699753373,34.0266235144,46.2298432372,33.1814152277,47.8371764984,36.3672994836,39.1451918976,41.0220807271,31.1551977348,38.3994422236,47.1152751471,43.5800235908,19.6023968175,47.7152823036,33.8995497978,47.1471983625,39.6662617907,33.7819451825,33.2878507429,48.2496100861,34.5721889489,37.2380515699,43.6406015599,36.059057801,42.1709806276,46.9296269068,34.2656450828,32.3014720068,43.3775677756,27.0007781554,38.3595724655,35.5272807264,36.7777632303,41.6733545588,36.5946453006,46.022994757,40.7841735523,30.8897820069,33.0765357599,43.8201324535,35.1293327482,37.1169121603,43.0405280973,45.9380407246,38.8279397207,44.061546541,46.0424798151,33.5827978515,48.7910039093,29.0820812942,57.1797757863,39.5624202546,65.5086521548,35.3995733714,40.6485010044,40.5067072585,37.4012086268,37.5630613882,39.3438351886,30.8450707709,39.3803407733,41.7886677146,38.7123597006,39.9167779156,37.2784856293,37.2784856293,37.2784856293,37.2784856293,37.2784856293,37.2784856293,37.2784856293,37.2784856293,37.2692738291,37.2692738291,37.2692738291,37.2692738291,37.2692738291,37.2692738291,37.2692738291,37.2692738291,36.2932966258,28.7169755783,43.6748244159,44.7666370786,39.2835296916,37.7302529228,39.8736400746,29.8572816038,48.1102917179,34.42829125,39.1363621482,31.7924089362,44.6718744229,41.0277303995,36.8532163803,37.5121196812,34.6182874723,39.9724398254,33.3596322314,46.5857615606,35.8070259189,46.2527089623,42.3862603643,43.0599208476,36.8556222182,35.2943489527,37.29992674,38.3471428738,38.4794187776,40.7872147845,39.9168074106,37.5591374435,32.7921493696,39.9274146651,41.177009812,44.6836111689,31.1988711407,36.7740135585,35.2079371348,41.9159125951,36.6660406992,41.0343060095,35.0217248029,36.9655811681,46.0607701736,47.6396466034,30.0686436991,30.5794688821,32.4042861987,43.6250870279,37.7381978567,34.8641146532,35.0571811284,46.291133814,40.5111130544,33.5938097958,39.7880806129,55.4885148595,35.7933524917,41.7721614458,41.4068465707,38.8868296401,32.0016607751,37.764043073,42.4321558891,41.5490215572,39.0026980674,41.60179891,43.3773984485,39.1034546659,37.9922926916,32.9143722298,36.1408328072,48.792167798,44.0071075264,33.9972551652,61.1482627033,40.8553982409,45.0073838126,42.2484873981,30.7687104974,38.9334528592,36.4411634364,45.7055576976,32.7325534614,37.7201835062,32.3790131031,41.0469632989,32.3572296163,34.316890097,39.599307179,42.1351123414,43.3779847631,38.7386464353,46.6354343394,38.1178916805,39.1511464297,31.8796370864,29.9499595746,31.2308171304,37.731927576,46.096820597,30.7712321484,36.0105961,32.7014650504,34.6778362856,38.0287775598,42.4212881344,36.9171118758,30.7390448597,32.1721824488,45.6673207505,40.261929702,40.6673139262,41.8064287933,40.5247823592,41.4252272843,37.0760435997,35.4011632567,35.5992402368,43.4292261998,33.0862934726,41.2809264377,45.0170541432,48.0662320513,32.7399038738,41.3070676864,32.3062117521,37.7825305611,35.4849957203,37.8110307874,40.1763448561,37.886670206,46.856415378,34.2291655931,30.2242399397,33.1774899421,35.2622207059,40.3607737937,46.456154939,35.5128264241,43.0825803991,37.258049088,40.6127008036,43.0815577125,30.722983086,40.7246687188,34.876034515,39.4553161933,40.4835856225,36.8941807353,44.3428004034,36.7479021665,33.3217673671,35.6542570602,38.1753645383,35.4968698745,32.4804706054,38.8717218127,41.3617078714,42.2847872565,29.3843544458,39.7515988537,48.4820761134,32.9986442965,45.7086008724,38.5196362585,43.6714440477,38.3355978163,34.6397559581,33.6130681109,33.4828592099,41.1987931574,31.1968761426,45.0311075069,36.8012652397,35.926348429,40.4154405354,41.9135060744,31.0376717131,34.1759559677,41.8881456263,43.9117268938,43.2041300298,41.6828527455,42.4279491681,37.4127561973,43.4433116085,38.0374914786,31.7524339429,34.5383440862,33.1791243873,38.525292575,31.3661921291,37.555148813,38.311825371,40.8507725735,40.3876548763,38.0423815985,41.0933920308,46.9346483657,44.6817581821,43.5800915709,36.6777445035,47.4561506138,44.4760263134,40.1580424715,41.9143570712,31.1888694049,42.3518291045,34.0740947769,42.1581860579,36.712180279,36.8212977305,42.2532253491,39.1847403436,38.6866603948,39.9199582772,36.3116475219,46.4087959622,45.7711313958,32.3484295414,35.1469781265,47.5231709536,41.6167180092,37.478191684,43.4511000415,42.1174762417,45.6296435561,35.2030564629,45.0387533824,35.0219948491,31.1743965268,41.6855048252,36.6291866782,35.1338574515,39.2691704778,40.1257361849,36.6211012796,41.3366123482,33.7902830104,30.9655385978,43.7180195308,47.7401606201,45.4905020909,31.4076037932,43.6739283199,30.2249615668,37.5571191153,32.5554592715,41.8145746206,33.7293704444,42.2454540023,38.0443048231,40.1245363517,41.0305845373,36.422718944,45.2326671224,36.7204000351,41.1461539274,34.1634980417,39.0182904955,39.1993345198,38.7282893735,37.7516108062,47.5776534848,37.0216059108,30.2663768834,39.2045833383,31.4026271796,45.5138551635,30.3002128386,45.3006916099,59.5599920529,34.6911781057,43.4266633846,37.3133053,30.6266523214,44.1421798372,31.7768809864,44.8235439383,46.5777681751,38.9166611398,42.1810916537,32.8531388427,43.0820642869,44.0225894661,43.6738441803,41.7734492735,39.0597819407,41.3338851661,47.3091802574,38.9906151273,33.1768244406,34.5881997167,41.1976566629,41.8954290221,34.1538305575,40.6735903894,40.1376743616,29.9446888715,46.2850391756,29.9047257308,55.7271705274,44.491500684,34.9125779857,46.9801017563,40.7058005707,46.4472370802,32.5910175308,37.5380074268,30.0581505603,36.9919552301,36.9919552301,36.9919552301,36.9919552301,36.9919552301,36.9919552301,36.9919552301,36.9919552301,36.6830914867,36.6830914867,36.6830914867,36.6830914867,36.6830914867,36.6830914867,36.6830914867,36.6830914867,40.495294012,35.9025835959,41.5973844823,36.0408188808,38.9160955531,39.2507169303,31.8500445654,43.6942207429,30.0262964539,38.8785834577,34.9648839235,33.2158995718,33.0251331683,42.6800090555,31.1986202778,37.8771285847,46.3570765653,39.6224801785,37.8213415755,34.316508267,38.688812974,45.8484671945,46.2646373267,46.6737194276,43.1933721852,43.3108677533,43.2417469044,42.1330537308,46.2398610144,29.6774585804,37.7649390453,43.0321563061,37.9347459676,39.7172646082,40.7374323606,38.6495781117,41.6370978319,41.5778862866,29.1678318425,31.6022829517,38.6327516348,35.7496106399,42.3897291621,30.0438391148,34.8817246173,57.6602871351,38.2154382436,33.665806061,36.3387382969,32.2883800156,33.9622404194,32.4783131468,33.0395904342,34.0686230903,44.4524547726,44.0229951536,46.8161762124,47.6459064305,37.1933028033,30.8636815475,34.6892815822,45.7791445679,38.696627674,31.482942855,30.4401362441,39.3297243092,39.0996453445,31.5536748311,40.9318279821,38.4820845404,42.3243507876,41.1115978115,33.5894557062,33.5543385118,34.854520662,40.8181139287,31.6225588057,44.034587103,35.6169396312,27.7313380332,39.416820119,32.6131446771,39.7821029111,33.5419006063,44.995486929,44.3191504404,42.4300205961,38.7568746647,38.2067299514,40.0103527451,41.0317620678,37.3623265574,42.285105582,35.7347792105,34.5031701949,27.3433797347,41.8506075383,43.3877423794,37.2641094188,44.9804118511,35.048611942,44.7155640273,42.5785041032,42.948534903,38.7469030854,46.8106825848,40.7637666014,29.8093893174,36.2062757623,41.9957776876,45.0275448913,38.4703210348,29.9826329444,38.0815539776,41.6594961424,35.8307887047,33.3800616097,42.9537338684,37.1923179509,30.6609696648,32.699486303,34.4442980744,39.7415270637,37.9027017254,33.701828378,36.0611182361,41.4266615572,31.9479781068,37.8944043802,41.220590588,30.6480415096,44.8982857088,48.8296158722,36.3085986469,40.0968997041,35.2687044015,46.191800961,43.3822824324,45.0214343278,44.7162497148,37.5216171391,34.0800586214,42.0365026335,35.5932989746,41.6860388529,30.3106777835,37.6504930265,39.3509686024,39.132537495,35.1839946708,37.4608189464,44.5204732898,42.4707837931,48.7766295653,38.4237395729,35.5964202026,32.4636565938,40.7741618671,33.9698311293,38.299192601,33.6166121137,44.58291654,37.5582639151,35.8400259746,29.8929601366,43.0004744491,29.6747549911,40.3369482878,48.7050337785,30.6929040291,37.3651781719,40.7695040098,37.5291899516,45.5919771895,27.6963908471,41.3319875239,39.3502287543,34.225546386,44.0234449525,35.0169370912,45.0043671834,34.7154580153,45.0326297438,38.0270346749,36.3790614615,41.8950837577,38.385163021,39.7845831125,39.2965532011,32.7626642246,32.8977580696,44.2411163796,47.108629802,40.5240610865,35.5137978753,44.7091742748,34.3575285169,42.3851848526,41.0001918546,46.6997094485,44.5267152135,48.2217054336,34.7684002341,37.5815223099,44.6484737252,35.2172743542,41.3012406125,33.214771,41.8935293191,35.8375699223,36.341483312,33.7942334247,35.9210263138,35.4217523265,40.7394701918,47.9216811843,41.3021937169,38.0874875679,43.7535894574,44.5059941907,34.5301133129,38.9147788411,32.4177916678,34.1492251125,33.9746150928,34.8414378315,41.2953518815,38.8530983407,38.8530983407,38.8530983407,38.8530983407,38.8530983407,38.8530983407,38.8530983407,38.8530983407,38.8345659231,38.8345659231,38.8345659231,38.8345659231,38.8345659231,38.8345659231,38.8345659231,38.8345659231,38.0423302608,35.2066555213,60.1194076421,44.7267746477,40.8915578871,32.7425260993,61.4170040809,43.8958184046,32.7134544164,39.2690076722,38.781907067,32.1567629596,31.8694627053,47.457077544,41.1690382608,45.2115438874,31.1749078562,40.7882358798,40.1208707645,33.1912219797,41.9149937091,36.7617766621,33.1235953208,36.1611646374,43.0208142456,37.0759383564,33.5505241007,40.3850195156,35.4654508069,39.3503339996,40.7455891853,35.2467670437,37.191870471,36.2983026796,34.453472028,44.7968254915,40.8571485251,38.4736812339,33.8983618624,37.887648789,33.3633180669,45.394991781,40.4403578768,35.0513554263,39.5767751714,28.300314142,30.2413631478,40.1616556187,38.4326851414,42.383771317,41.7055177405,32.5966480504,39.090675859,35.9672502839,37.5525344711,32.458996427,45.7916364577,37.1453332323,37.3222824489,37.9698391666,40.8492096503,40.8509414055,45.5798653729,37.1502697208,34.6920572921,36.2151963075,42.2573913511,34.3754273152,38.4418035091,39.8537998099,46.6082572906,31.5523801522,36.4694088387,33.7815571316,44.0056617687,39.3069999343,37.7877775498,43.6746303972,38.9340476576,36.9325975948,35.9109060184,33.4941024198,33.1495558982,34.1153249768,43.4197021208,36.2878738806,46.7007124229,41.2340543656,46.0528985901,42.0789535271,32.5099583696,39.5317400033,36.906729139,43.3684799638,36.5011043566,39.9798357499,40.2627443761,36.1306195485,41.4461591184,39.7847320849,35.8752484216,47.1242661519,29.99980267,39.349716037,32.5349201866,48.5487141288,39.5288947088,38.47719455,44.4160919594,35.5884840734,41.047767486,33.0775359877,34.650325267,41.3531364976,44.6458436266,39.3561681629,31.1082936995,36.7244585691,33.9364500127,46.3170555846,45.4493130951,41.7164225715,35.4751864248,39.0453280683,33.6542354352,41.8515631921,31.8696032448,44.3542643029,34.9167055034,39.4652776369,47.7361089311,31.8885309869,34.1815553357,38.2158624014,34.6404621514,38.3020458533,32.013224335,39.178267375,38.3570143624,43.3350287366,37.7064741502,31.4470737521,31.929800968,43.3785703546,37.7531363894,37.7732676848,40.0158001655,43.6743620902,41.7562548803,31.7686268414,34.2514096075,31.1610674632,30.8797727288,39.7027072964,34.4855798533,39.7977760151,33.172974606,33.6023128883,34.4750152607,38.0325101344,46.9915439408,35.447636026,46.1484599385,36.1184426301,40.1894007554,47.350535135,47.0365253041,41.6837548102,31.2132418055,43.1923769434,33.2660636336,34.0452544,44.3798321501,41.1175705357,46.5347308489,41.226077466,34.9649255862,32.2476134122,34.4597729557,44.8575139984,28.3215753001,40.737682711,37.2088402055,39.6214732187,38.5417788857,42.7341351105,34.0509558643,30.8974526088,37.6477353374,37.7186360945,39.2733468255,38.6850699523,35.6161390425,32.777645813,31.752584831,41.9144142466,40.6598994131,41.7651474406,43.7189289965,31.4951939674,31.3431998626,43.5938619334,36.3019098987,43.411940562,39.7621646287,36.4912704378,34.2902311647,37.9616839121,39.9879052609,34.3325069471,44.1131203121,58.4439351761,42.7197222221,44.3349392585,27.6813329888,42.6604993637,34.1365496957,36.8569745004,37.0116206611,47.5875228967,40.2783937765,35.4035078706,33.0611535027,42.8542597176,37.731772508,36.6867158656,43.6446171312,32.1005542205,42.5950071515,39.9731414157,38.8295152487,41.0146401139,40.5623281403,48.771256978,44.3039525837,38.2122718972,33.5580341574,38.1554971802,36.4968580761,47.6069508739,32.325973709,35.7051457145,36.3318375802,40.5158445871,34.5539435236,33.6392003476,26.5756896561,38.8583044048,37.3088201365,32.9326627045,46.9653297577,31.9728932009,44.0067583131,31.3264967359,36.3582326717,47.726661247,45.2273857114,45.8627174808,34.5150997489,41.2249600832,36.9233401324,43.8404850615,31.8055957772,32.7979817888,40.4379183725,37.6558723241,34.5216520166,36.2776668644,39.0580193147,28.8935249788,33.8349402867,30.4441430277,40.872385845,40.5795915499,30.8219752667,44.0688768938,47.2663787156,35.3955080611,30.9387779365,30.3180548031,38.2737274749,40.3672314599,37.4320425654,39.0822408645,34.482314169,39.0959545402,46.0816740437,39.7836260546,48.3653542741,38.9086479451,39.6400558465,40.8730327985,33.0138972496,35.9966113202,37.1865096844,47.7176029342,47.0376054401,36.7483050997,41.397302247,39.5984047698,43.5179689655,33.7353045888,40.6822625859,35.8839481951,42.2638016191,30.2292239003,46.4965611851,44.022011363,39.6052632661,35.4426448889,37.9991525438,32.6384656558,31.1539910285,35.7610127808,41.2053450175,29.5274926713,44.5794783729,32.8812700424,39.8600027881,35.6394734632,38.4202968763,33.028186394,35.6786827093,42.4520186799,41.590577647,42.8625961548,31.1720242681,45.4299476083,31.4574378292,57.1140130761,38.2145295036,39.6597402335,45.5024730826,36.6061367396,37.6846796381,38.4137041563,38.8837685125,43.9868496601,37.1596975589,38.4226080428,48.2345728769,34.4835677354,36.7669321614,45.9024044497,34.7441185158,33.3534616689,41.1514811895,38.6064621876,42.9311219743,44.6057305617,37.2850993946,45.1231152442,27.0816164392,44.9985323069,40.5148205338,34.894336814,41.5689031802,35.4025956291,40.3926315712,41.2851032069,45.4005123213,58.2787538674,44.0221214974,35.4906159935,38.083736798,41.8077476122,40.6664172232,40.6655968327,39.0100394517,35.154110294,30.1516119464,31.7597819469,38.9464767816,29.3374418892,35.0481998087,34.290293884,35.929110866,41.3985995057,39.3927278538,44.3890320927,26.5621530438,31.8491922008,33.6769134328,32.7535170026,42.7764677574,39.6785303915,40.661536856,44.3373203725,46.9401261862,33.6164757788,26.9280228765,29.5003322407,38.6130327476,39.7843853292,44.9380153707,36.0697841981,37.9781820266,39.1609175598,41.0293737922,45.9337163348,41.5602875792,34.8056115749,33.2608769536,42.7325458524,41.499810931,35.8384916737,42.7280755442,40.422331371,43.4666080487,35.4012788062,44.734724982,30.2905333588,41.1259792495,36.0412452465,43.9246050918,45.475142699,43.0182145442,39.769517371,42.8181212402,41.5740218741,42.3868746602,42.267809005,41.0229983046,43.3348466891,43.386924164,38.2164999843,34.0245101817,35.7415534129,34.7542368128,34.7004337984,36.3900951244,38.9143249144,33.7936596461,40.1757608618,36.9055088424,34.1979978627,31.2060330455,47.2776387249,33.4485258506,32.5481331978,36.3715618824,31.4284974445,44.6836233781,37.2809053404,40.761491497,37.5947979696,41.5210180281,32.8024055204,38.326661062,41.394264035,33.7955389816,30.5795335845,40.7746843377,32.5993157059,33.2154016682,31.6262755156,42.7934613757,32.4038815035,32.3060301333,42.1717425857,32.403442782,32.9362268304,38.0249578597,40.4400836596,41.7570882119,43.3137033973,31.9141614433,37.3384339705,37.7238515313,47.3079544484,42.6029174357,44.0220442699,36.3932742158,37.3151524068,37.3151524068,37.3151524068,37.3151524068,37.3151524068,37.3151524068,37.3151524068,37.3151524068,35.9790563044,36.7142829107,40.5938843197,33.4249531354,37.5571085124,35.5560557128,31.5515116745,36.7580732628,40.1315428804,41.1457829623,39.020397715,35.6388377895,39.7371483117,37.2914862292,41.744942366,34.416170665,30.7100896074,34.6145873342,38.7646163949,43.9457158153,37.6584480026,45.5521529589,36.4858546341,37.4197763873,30.5382395947,48.6553582885,32.2616858077,44.2287741072,45.0694080018,37.1039268916,31.0378936572,34.3639350883,33.2052512262,42.037212461,30.8419677363,31.1639914481,30.6528705338,45.6690533298,42.1412473526,37.3840412342,41.6194314385,39.3359933047,29.8870240994,37.2243021506,27.4927094815,39.8644164614,36.7371415587,39.3739160769,38.00019653,44.2733844798,36.7984746846,38.2948490453,37.3007843394,39.4954650301,38.336574821,36.7647498967,36.3649169333,42.0879392632,33.0692757535,30.458037893,36.991034312,41.9874357661,38.8246749142,31.5146944202,38.2572922743,32.6347102394,32.3061694988,28.4391092686,36.7513165534,48.3694560358,36.1350244127,38.1086779015,40.9558477436,36.3816695474,44.2839056343,43.6742397821,42.6899047449,36.3410829938,40.7291866469,38.0678786159,31.2965068087,39.2171057452,44.0219511839,37.854663265,43.8003788931,33.9931962064,36.2784137139,36.3353843636,33.2895498464,37.5501871513,38.8847267106,39.9654218536,46.1125903386,32.7359728732,42.2765197661,42.080174751,36.2574485453,39.7858693359,33.179875706,36.5111268089,36.7164170862,34.3176480082,41.0334522634,34.028211563,30.7289364182,37.9233794475,41.5712867683,29.3556960535,41.855065982,37.6689956825,38.3189286397,38.5972506332,30.7810605096,35.8478552218,28.9542442328,41.8300455104,40.4409599145,44.2483385902,35.2957261162,33.2642770248,38.7718774775,45.423382391,42.4877134885,29.6208209311,34.5879709683,32.8202181268,39.4815483458,33.0335103757,40.7050090829,36.9217518991,34.0211833828,36.2183807861,40.5635069447,38.1644265021,37.6164789768,42.1949698367,33.7453078269,38.8261607682,43.8738459397,38.9173365456,43.0672901279,46.3582866004,42.9450938315,27.9488714857,39.2157556331,32.8434261558,36.117697723,38.448468036,41.9147703039,37.9469326633,37.1257911242,36.6180054611,41.4450504457,34.9660190366,39.3105207472,40.9231743916,39.3280985807,30.1036068701,37.1106705529,39.8702114727,33.6206818158,31.9739511211,47.6452247762,34.1632936569,42.7023842075,36.6826585529,39.2610229552,38.3005234344,39.3503577669,39.0345595213,32.3750354288,47.2056646774,28.4173932285,46.9833438193,37.7846965493,33.5550489458,40.5672969004,36.2611569307,43.0837526517,33.8033347429,32.2202579876,34.0388755841,40.9629715402,41.3356001857,36.4285385751,48.7837971902,43.082617377,41.402131202,40.102614944,40.8423638927,41.331487609,36.7274816255,34.0705125102,32.0191127391,39.5598830033,43.9065519065,32.0922715486,37.4780954961,33.5660908408,39.8035392391,35.8580358086,45.5467908912,38.0229965906,37.3540523996,43.6741733017,41.4722121302,23.7186403965,39.1193028617,30.4982930281,33.7212061505,43.7180588837,40.9118486723,37.0530460164,41.7461054437,29.8081801337,43.0103267267,39.3514336872,40.8288491598,36.2397743956,39.9310397361,37.8015772072,37.4192050035,39.0732871864,48.561754652,39.9835107818,39.4692968709,44.4704611746,27.9026762041,36.2311062795,39.0075029241,36.5320343549,39.0415137637,29.8317429384,42.9145713002,39.1329338744,35.695981462,40.74316347,30.5988510952,42.8528477813,33.9498610997,41.8877674933,42.1769034689,41.0418321081,35.117685821,39.1962111616,37.1936094363,40.9181829168,36.1107306366,34.9312465729,42.3654992437,39.0001785652,31.5514336788,47.8692071189,35.2792789622,39.9198995806,39.785156359,32.0554496236,48.4701446298,35.662042354,32.5801941764,35.1504672096,36.6781704977,41.3440027805,42.7511742879,39.2023794705,37.2324840341,32.8250434949,39.4149780091,37.5825228172,34.9883574887,35.1863303424,47.0454432493,36.5095802749,43.8195818941,48.5631854705,39.8575436237,39.4640664935,32.7924711254,30.1956117481,38.9969300555,42.2500701189,42.5814260739,44.6737588538,37.7713611083,41.9154003329,32.7534965705,40.7880635936,46.0126176925,35.3736416751,41.2185070628,43.1138468547,29.6346233871,44.2421397159,38.0423908286,43.9346374164,46.716058182,35.611177887,34.0807261331,35.843213981,39.7736200492,42.7745872458,33.1134825704,44.0309090144,38.0371780097,43.0023986959,35.6030197595,46.4325011338,38.8411628915,36.9905417852,36.2114502716,30.7177158024,38.1459486608,30.6184688458,46.6628779661,42.8996847625,38.291547316,36.4035128143,37.286581954,46.9482692108,37.106351208,46.1079382983,39.5202961461,45.5860205994,37.9390693081,35.4805846794,46.2086670875,35.580655379,40.3884733432,38.6523289215,31.3177325566,33.347307069,37.7627564124,38.5984692441,42.5950284307,36.4019040049,39.6419410966,46.4573445763,39.7694547721,36.0948699143,38.5054099582,39.5276701706,33.1755486771,31.3228327133,32.4002323469,43.998861771,33.9504748127,32.3526480947,45.2623443714,42.7354936212,32.039959396,45.4566725027,31.8691599476,38.4361880571,37.8415087294,45.589722978,38.8846594528,31.2532716595,36.2859716601,36.6565173634,35.8386956734,39.0196721892,32.3859736952,43.2853462355,44.4852469436,37.55848541,38.5456646906,37.7958423573,35.2903672637,39.0376284098,39.8264989183,36.1753512461,48.7675154446,33.7436800499,42.0362414924,38.0520825054,34.3541370113,45.3782690825,30.5434714704,35.9610853587,34.1167932846,35.1986760952,32.1571759799,35.6087114537,33.1766957792,33.615294221,39.3338632113,33.8806479609,40.6419821705,45.5875424692,34.900298342,44.0763500067,35.9876527999,41.0279212756,43.0009332766,40.8727457976,36.7419423399,34.2900177408,31.477145332,41.7449210564,35.9453881052,45.0045756364,39.5458317531,43.9898287022,37.205360404,37.8591931317,44.9058408356,37.2042660125,32.8064982238,42.4665806561,37.4362097341,46.9012020299,37.8505815921,39.2865595002,32.8703394239,37.5621932698,45.4260991444,37.6395779036,37.8466393565,45.1326999641,41.6322534258,28.5561708513,29.7472049939,45.8138937581,33.2836981018,41.8980358084,38.3916666453,32.6011364841,46.9361064669,31.599703679,44.0037525074,40.3984096201,39.634170806,33.9205455549,32.7145016626,35.0060483545,33.9574736745,33.0406559359,31.3909114388,41.3307464286,39.9541358004,27.4775188749,36.2650187228,39.925343626,40.7472371326,41.6864421928,34.8100783219,36.6783637366,46.4569158173,39.4336238198,29.8371164017,44.4096825746,35.4868150519,43.1934752745,35.8579354045,32.0414016703,45.1566160513,34.8873453574,40.3016905964,31.2971083422,37.5052112298,29.3799669428,40.813888089,41.9388566679,34.3387988678,36.8596987837,37.2072808133,32.1170652349,45.943781443,34.9365348363,31.07624372,42.5047730204,31.3587576021,41.3364654753,36.2871782318,41.8713684138,32.5897619047,41.1129273435,31.1883904668,39.3911561848,33.7997498678,31.2142247537,45.4237232587,29.6086348479,42.2465394718,38.6874292494,62.3046703274,39.008475666,33.6756265521,39.1123184538,31.6407805038,42.7378473183,39.4469307309,33.0884910001,33.12869729,32.776276295,30.8338568988,30.7863379319,37.3360260406,31.7626226688,31.8310952481,40.0508013832,36.3168767363,44.47432886,38.2785594463,35.3639599672,40.5609114012,40.657513472,38.2610713047,43.33611095,43.2393780072,42.0362403729,45.4187968009,38.9064174884,40.468833662,46.9792551456,42.0798117536,30.6105780997,34.2439383654,40.4525990445,41.2200386132,45.6803836844,38.0874838474,44.5628867649,34.0218460217,42.9710217012,36.1265615389,37.3191787991,31.9004024441,42.0687539209,47.8716944124,41.8213257512,42.1980879866,40.0424384345,38.6357242384,38.6357242384,38.6357242384,38.6357242384,38.6357242384,38.6357242384,38.6357242384,38.6357242384,38.6406885662,38.6406885662,38.6406885662,38.6406885662,38.6406885662,38.6406885662,38.6406885662,38.6406885662,37.8777875638,40.8456930058,41.7224295706,44.7194015031,34.0017844854,38.7440854857,39.3009797143,39.3009797143,39.3009797143,39.3009797143,39.3009797143,39.3009797143,39.3009797143,39.3009797143,39.443072852,39.443072852,39.443072852,39.443072852,39.443072852,39.443072852,39.443072852,39.443072852,29.8537289242,38.1616348912,41.5674402954,40.072489475,33.4729092689,40.4727799619,46.977452062,41.3171740913,38.0037403985,39.8606128566,32.23625867,44.9033239855,28.0847204066,34.935737081,39.4147218971,38.3521828118,34.8607684689,37.1913273481,36.3592115189,28.7614688332,41.5088382943,39.4970238369,40.0534755081,44.4134915893,39.0363277254,33.9022896586,44.2944276779,42.8447493088,30.1290721039,38.9880685587,33.5933550412,36.8180034435,39.3932659263,39.1135952897,38.4625319965,39.4306386001,40.8460241928,32.4714628579,41.5680844607,45.8799717759,40.7309049975,31.8278792017,39.9838920238,34.5741914782,36.7315540772,40.0944306459,36.2777169084,37.6243602285,45.4614199106,37.9763768738,38.969864478,41.5664861496,45.6991358622,34.8408848102,39.6414721595,30.4234582107,32.0469291804,36.5085107806,40.5075329902,31.095016693,42.4712208979,30.4964266893,30.3937798122,41.2263705176,42.2486331385,36.8906660574,46.4315588357,34.7535027956,44.0037135763,40.8488341603,34.7630897031,32.9732247426,40.7391440172,34.709836363,36.276258667,46.592401392,36.7865296888,37.222980428,38.8297122608,37.5592414881,31.7235401557,38.619423178,31.5454641622,41.6863234292,38.1128050013,29.3573361783,43.37802248,35.7902443741,37.6433385983,41.9213775211,44.5473945862,34.1277855795,34.7404337635,45.3374314914,44.5929338436,34.2898880686,37.191604867,42.0516662494,41.5310383041,39.7842012909,37.1573917455,44.7268149012,35.104348396,30.6105923313,34.5299582294,37.9708518682,42.5936732732,44.3498776053,45.3508956087,42.638915376,42.8674818753,41.1524635935,36.2683474959,45.2827261064,39.4269814843,42.8324862728,28.6570952089,37.6066301658,38.4860376265,35.6081436966,41.91384687,31.1484222352,33.6748549849,41.4009690752,40.3315251833,31.2484923988,45.7586707668,37.3158384919,37.7264040368,35.38741848,44.82075943,40.2834374242,26.8998432654,41.5130724363,36.0437098766,38.7541714951,40.1282548929,38.9500945902,46.1126539091,38.0921662434,28.8662114221,41.5459746701,34.8172864604,37.3527152683,37.6227077717,47.9219151859,38.4805374528,32.7505866271,32.7696188927,36.969571697,34.356757808,31.5323843939,40.9900687168,38.8455149273,40.0520536496,41.0290322944,39.3790027809,29.2778616455,35.6872037952,47.3264761642,31.5708340246,44.7279402249,37.6583184627,39.2111317394,39.5150814814,37.938990343,33.2142871374,33.2166030364,42.5970991967,37.1912804013,26.4769663387,43.7846914327,38.7858226615,39.3709375943,37.3142565856,41.3964956116,32.6672014402,33.7157303222,38.1951228784,25.0467803277,38.4408670947,40.5240865228,40.4103560325,37.2190501994,36.1490481181,36.7099124483,42.4018650655,37.4596486226,33.8333331807,35.6426343016,39.1051348222,31.303925021,37.5603718263,35.4081187361,41.4705726437,35.3119550622,34.5307791419,21.2118898113,44.9035217224,31.7315001844,46.0092394572,42.1602170275,34.2226067095,43.7213655935,28.7856505535,34.0887429323,32.6789310276,41.6544687417,32.3673093945,40.4702708097,31.4292715445,30.7953911236,43.0564977139,39.0474329308,30.4924753926,48.6282036571,37.1339863881,45.9373346715,37.8102830478,35.8086768522,44.022343746,37.1249780238,40.0916079241,40.8725715098,45.034066286,40.473600561,31.7795065577,37.7017152151,34.3424135138,32.8318884986,42.3401529673,35.5424444709,39.4386164734,45.1880453547,40.606258463,38.4461016023,46.0175261512,42.0362382229,26.5534898513,46.2296522668,43.5541675519,38.9147512529,42.8788290644,36.2505340956,36.9316012682,32.7360040875,28.3526879602,44.1172175226,37.9551831858,39.0773714416,31.9892401922,39.5783299005,38.5231613136,40.0403785235,38.5645174515,38.8344683216,34.6310256133,38.05518334,32.1077245005,32.346971275,47.2175378518,31.2760599041,44.335608598,34.2508713944,36.578159387,31.1261225461,32.7390025581,41.5939007094,34.3736483159,35.6466064799,47.5754617267,43.3656487303,43.7197073785,38.9122413956,28.3067419076,41.6945892724,33.9511687467,33.3164335785,41.4367863214,30.3354403303,35.0025779761,41.7067847215,35.2387731611,41.916698107,38.4295611651,37.3543505785,37.9550855775,35.5123637272,29.3806620653,43.9695394798,33.9161721803,30.237646533,37.4690483094,44.499782046,32.0176929287,37.2288385526,30.4078429457,27.3808664203,36.8834465874,40.610413019,39.785240911,30.331070985,36.2774544717,29.7082609899,46.2369933896,33.5787842008,45.5861252834,35.6816924709,37.5457980664,45.064501565,48.6855411394,39.1955341757,38.0309985368,40.1247748425,37.3723568684,36.0109653302,38.1962558627,37.1925238004,35.7846556198,31.525961257,40.9879710088,39.8308020875,44.5477641459,37.1211921397,48.7724599221,38.2391477444,38.8444981835,33.2672553197,34.1338827438,38.6667977063,40.1762856299,37.9529528516,37.0487694369,40.3016413767,58.2091446546,44.8288090199,37.5184174771,38.331795342,35.4953438716,39.8277963216,38.0796491352,34.4904742327,41.287491921,41.0908708811,39.9617616288,32.3034902579,37.7601394811,35.8427065264,34.0061055385,38.0674165811,42.393798295,37.9222809093,40.7698402428,38.6847722239,46.3281784324,30.6851516211,39.4148645227,38.1734202345,39.0634313879,33.07931306,29.4489578348,43.9900669341,43.0154568883,33.9808673856,37.1693060628,41.0486534578,35.284617402,44.7261188782,28.7048225353,38.4111443545,31.8027084904,47.4572804385,35.3106538555,44.6846764139,35.2068682628,41.3344518776,33.6061291442,42.2643746213,41.1377184724,46.1117848382,43.99606769,37.1913959707,35.350171951,40.1758305125,35.3711477472,38.4603650792,37.8549014253,34.1319410705,31.6332182103,37.9700757707,39.0655884308,37.753378564,45.5803502555,43.6714700417,35.5515100533,43.2906788284,36.7669858485,36.3586360305,44.2842861611,35.3686291614,47.7878782632,39.7581742368,35.9932063802,35.5178069265,42.3230756866,39.7155561425,36.3449979328,34.0776481589,37.2701399985,37.0584319295,37.0635610525,40.8551525027,33.6639660687,41.4995416587,43.0354526887,64.8354505226,37.8418945509,41.3975800161,34.4416706415,45.9989328531,38.3987832635,31.0270650231,42.6603998737,37.4536881105,38.7080111869,41.567305883,39.6036746811,37.6259310585,32.0457484071,32.7358650208,47.5762161196,33.2292799721,38.3623255596,31.4838062078,35.332466935,32.847853212,36.4148205561,46.8605284936,43.2842837871,30.7057400268,43.6741782318,43.9878918655,41.1392969335,43.1073811968,40.2982423213,48.2689430235,35.388366704,37.2666155974,32.3020349252,46.1101251059,40.4308475737,34.5302641047,35.1744060361,43.661121629,38.6469784457,37.5722077541,36.3411216216,40.0924597674,29.9121811706,40.1139269766,35.5832218368,46.7140170601,43.3612746976,33.2704260085,40.5218545215,38.941491042,30.010805099,34.9473737476,39.4802974375,40.1746293382,39.3170652967,33.1738126593,34.5192808123,30.8626068236,42.3658182043,28.7963514929,40.1576395642,37.6804065048,38.6488155619,30.9224883015,46.932964277,43.6776345435,48.2013321625,60.8490903436,40.4791367057,42.9622404458,43.3564123717,31.6661684568,44.9432516761,31.8692373987,58.7332560682,38.3366204607,38.318172839,43.0217229031,29.9007722759,34.5387970384,31.8072288628,34.3728526138,40.2275253191,37.0540793189,30.8533433125,40.183401621,31.5640129586,30.792719766,42.633442368,47.4909231926,43.9150098006,42.170297478,43.2789221432,38.0140589617,31.3231861567,30.6650297247,36.0132038869,34.1110028943,35.2562753346,43.3109397092,26.0992389901,44.464696712,33.1879272437,27.1824778115,45.4729404291,39.0888346851,37.1430626393,33.7792058021,36.941272036,30.1264602387,42.596069775,59.8632076093,40.1764957551,39.9607450135,39.8940298185,44.4609805861,20.867735408,38.2368379381,36.7961439421,31.2253196926,37.4002848554,29.8119497744,31.445835936,31.704803053,38.2142048256,32.2667019192,40.0969217077,39.5604331495,43.29699417,35.8376872526,38.981944957,35.5740321244,30.3346942825,30.1213082966,41.1676828401,27.0433971368,33.7715468713,26.3967284864,45.4190045389,46.0706237641,43.7841402516,37.1041534526,67.0081724432,36.7888025423,32.7413905566,33.6672620503,37.7786161815,32.9043665122,35.9798606621,40.9404610588,34.8807714578,40.5244687103,35.5701227411,31.773206868,43.759429876,42.6936561133,42.6001764292,41.4667862464,37.2779522735,34.6020603325,34.8612598084,43.0600413474,43.0818860731,42.4688224327,42.9723307203,40.4169344997,40.0065552677,48.3581259624,41.0893204311,47.9737829027,41.3887747357,38.8613737904,32.1547500095,40.6506935615,32.3050356596,36.3040698262,48.2951265514,40.851990777,45.3102250802,34.9163840445,38.181330775,39.1146453374,63.8762960012,41.6841906978,45.9452167902,44.6445874689,44.4125964168,32.0466488616,47.6747883901,42.7331189884,46.9496014257,32.7803142142,43.0640850193,44.9778528358,43.1949168271,38.7491001783,33.7005398883,38.292414567,29.9855183221,30.7154778208,35.9254374123,36.5236457051,39.0224214624,40.2121076763,36.0656302022,43.9100683718,36.8063197395,31.1531879718,37.4553667663,39.2357647667,29.7564998487,31.704894074,39.301369579,30.7439606074,41.3574164267,38.1593008022,39.754609342,43.5812561668,34.7622655092,37.5588848204,43.3253855625,38.7024099657,40.6664326842,36.8280984725,39.3376277289,38.1871910002,36.5540721406,41.0289838852,31.326183927,30.8783441069,31.0888152015,38.7697358036,38.8821720468,35.3362263031,38.4164943803,38.3701068106,43.345873009,33.4128251839,47.773853549,44.4036612077,32.1332163406,39.5804001016,35.1808755183,42.3486893925,40.4037747348,40.4908916187,44.9465839939,41.6487307494,47.8805838786,36.4816684795,34.6402420514,35.2153385104,33.3121471783,34.2908080523,35.7103417044,35.7029694977,38.0218915518,41.1923895368,43.6743108455,40.61842222,37.7393195914,33.1973239343,39.7273470786,46.8923435535,27.1863023348,38.4729724659,37.7216505795,45.5403894994,41.1868968805,39.8777172962,44.6894956175,33.4457647387,35.1675045158,39.4421951904,31.9229299181,42.9127722362,39.4899707456,37.1126355072,43.0901474299,32.822693435,35.9731784168,32.3533781815,39.4401679837,43.9416929041,42.2197672573,36.7231381944,34.0071879577,41.8963811411,33.0548441405,48.399068947,38.7477765207,43.9606082888,39.1735054386,31.5502158141,44.4091601365,38.5951729912,34.965417596,59.7139951133,34.7045808679,38.9967401872,35.9066686938,42.0358492263,43.4162950523,37.2180440575,46.3813014184,38.080066116,41.9169237189,36.6758560817,38.5315416285,39.2356038944,32.1822155495,44.3696796109,35.5806641869,45.8373643273,40.2108261137,44.0428854726,47.1444090738,37.5622507408,38.8978264216,40.561195332,28.0626646156,43.3756405374,44.7899892755,32.7666300195,42.4935106026,41.3433818683,31.7342053896,46.2114698469,44.5668319195,38.8320890915,34.8297827954,44.9741566636,37.9413779683,45.5024976764,39.4275866129,40.3987652449,36.7054264259,41.1393753356,33.171357538,39.6497752303,46.6588181292,31.5696411088,35.1970807469,42.6367815449,45.5600908408,42.990603511,37.2864000021,37.1742907521,33.9153518869,45.5251213571,41.6438678779,33.5441179101,33.3862927393,39.2509849786,34.3508983325,39.2310459341,47.0221845765,44.4917990421,40.6520516443,40.3546685834,35.3867940405,27.3863036127,34.2687844437,45.1739317274,39.8538114574,38.5064964441,40.9097216232,46.4954898595,33.3489778227,40.0274157084,36.9462101355,32.097399026,42.2092885613,39.0023855083,39.4722125305,38.2669127871,38.4789639679,31.9131719625,30.789951647,37.322190727,32.4344414462,37.7812707517,32.2641243634,35.2399169268,41.3352034594,33.4529935799,35.4247444764,34.7280450543,35.869381374,42.48553813,31.6159802631,31.5333740309,32.0196107831,37.6917036301,33.1235144947,34.9737894417,59.0758951471,31.944249197,40.4809952692,42.2838809992,39.9338060484,42.9022816291,46.482373828,36.6528169511,35.8694070017,31.7742624158,41.6845893285,34.9238618899,40.1905621824,37.0940663146,47.589861371,41.4525115243,36.5254454743,42.6727950993,48.4326760914,38.843539656,38.7747231232,34.7884475042,33.7714324565,39.6669293633,46.120767065,32.3472191955,34.7356590026,42.7315661359,38.8355168847,30.0195666061,46.3339973594,43.8060821062,29.9830664456,32.9881100057,33.7699538621,37.7873807102,40.5244322568,30.4867787311,43.6468567079,37.6979246033,35.5069269541,32.2222882576,40.1250638959,35.1754531586,39.9695461474,32.4205841079,45.0710105947,36.3960127906,44.6294210298,31.1961909998,40.5300832055,35.1993218755,28.0087830727,29.905528266],\"legendgroup\":\"\",\"lon\":[-83.6665354077,-77.4574003866,-98.4999473753,-99.756726125,-91.1324230468,-96.6679741404,-92.3171989039,-80.4365110484,-75.0689522747,-97.7294962958,-101.687961438,-105.788288197,-82.5201067311,-79.7277120284,-88.5419040709,-84.9251420286,-95.0047424624,-67.6090594873,-79.237290715,-93.5872832229,-115.46748731,-101.042272426,-104.536158529,-99.3660130155,-93.5613593647,-80.3347070702,-77.0885455088,-124.093318775,-102.635174091,-91.3493631932,-84.8004565948,-103.48733562,-89.255127403,-80.6921989253,-90.9310479025,-101.820545838,-83.1870324531,-82.7958991685,-117.403947339,-81.1114444602,-87.3413643298,-97.2305066413,-76.5693098876,-90.6778776624,-74.1582023922,-94.8026575137,-94.8492968396,-118.729900424,-80.7192881391,-79.7889042685,-88.0886925942,-106.991193187,-79.4088067684,-81.3483495174,-89.1608658488,-98.2187211196,-89.3447914374,-83.0853006647,-96.8677208272,-82.288983582,-95.1651831384,-95.5667047202,-89.081642685,-120.789207302,-110.526662711,-85.128270367,-98.124785649,-102.424226323,-112.224618777,-98.0865732835,-86.8654694016,-86.7650174387,-90.0415484809,-84.5766842461,-105.64436349,-97.1324266998,-102.994978749,-97.4272714417,-76.271286532,-76.1946419306,-110.588798086,-77.8199601615,-80.7993280947,-85.7917003981,-91.4567382424,-80.5764203083,-93.0161267941,-86.1384716709,-103.102425237,-111.562215274,-92.1624016443,-116.462903445,-98.5878938604,-94.9414845344,-95.1166498604,-78.8757516437,-81.5005211955,-77.6560473238,-109.914705901,-99.3315653042,-82.7983001279,-97.4529680071,-75.6852333134,-82.346916153,-101.118576892,-78.3626942045,-98.0471849897,-84.1057794323,-81.250939242,-94.3471107747,-86.0384960523,-102.351791195,-98.7838447084,-84.4656390578,-88.6411594239,-90.3565282985,-81.3234735281,-96.6777253881,-101.299958451,-98.3239781797,-83.2214816028,-94.0155619459,-94.6118485462,-89.5286557577,-86.8940974128,-84.6015165533,-77.3968212099,-103.792224515,-105.250466793,-96.8374891769,-80.2113954217,-71.9077266261,-119.815502709,-97.0968903589,-83.990719955,-92.814120915,-106.695299259,-93.455980976,-116.750277131,-84.4941911259,-132.12922494,-95.3013889295,-95.31021134,-74.8499770137,-72.2511752725,-76.5305644689,-106.865950923,-95.9043661801,-100.314514171,-78.3713906105,-82.3041428598,-104.569929444,-85.4657611777,-93.2018512461,-76.5675970619,-80.421873068,-89.2857803179,-92.0267180322,-93.6320085311,-75.3395417153,-85.7732376368,-94.3406053082,-121.722346726,-89.9168137955,-120.738490426,-95.8535779226,-85.4264979093,-83.8268633608,-77.8627359849,-97.291239244,-89.5376379602,-87.4180084675,-99.8195657092,-109.224485149,-121.074995529,-113.440367846,-85.5784138137,-81.5369666383,-93.2951672181,-95.83651612,-74.2499159319,-89.3207266558,-97.1651722307,-93.9827993285,-83.6740950601,-119.649322632,-102.60218562,-95.3820619748,-88.7654354834,-93.7300728963,-76.2988753861,-88.2180579882,-123.779667446,-161.947228747,-77.6801783639,-159.7054382,-88.5698161858,-121.167775167,-86.2977463556,-74.4421175889,-80.2433983428,-91.8994024936,-77.5970588882,-82.6262026867,-97.4442882363,-82.6767617191,-105.016391302,-122.680974546,-80.6652439331,-97.6499306446,-88.0855946496,-97.5965014328,-92.4880742871,-88.3538137781,-77.2178797931,-111.670334914,-73.9502045905,-87.1791532892,-75.3075869515,-80.7771865597,-82.0566756823,-87.6311845438,-102.602887422,-81.8517719844,-85.123590032,-84.5233230209,-101.657774141,-100.462072838,-92.8689876816,-79.3788986183,-99.9122732442,-102.618205478,-85.0590443604,-84.3602721797,-86.0921752079,-84.2344263446,-120.838597596,-111.16818403,-81.7001959208,-108.250216941,-89.1395281511,-107.192378947,-103.010548763,-96.2453782628,-85.4590701568,-104.504654201,-81.1843527866,-86.1053059023,-114.805776873,-80.5021593376,-96.9756358548,-85.4659885855,-77.3969067219,-72.5918576846,-96.787400407,-85.8605470841,-85.2142786499,-96.564513018,-81.9089929263,-84.0424794131,-81.5464366451,-100.466398449,-78.8765926949,-112.390455011,-86.1567527604,-80.4558842537,-98.8323222504,-84.5801945588,-94.2439719124,-78.9994214565,-98.6296749711,-118.435214254,-94.810429621,-76.8453144055,-90.3754987097,-85.8976029732,-93.150399652,-107.68286072,-93.7833663013,-102.043034893,-122.693975573,-80.0465441583,-101.896944529,-92.6962654763,-85.1972071433,-97.491476123,-101.303234519,-122.534995075,-101.894004898,-82.1274783436,-73.585536665,-81.9226013745,-116.453882862,-119.95475358,-84.6193191365,-81.653583786,-72.8998576911,-89.0715652079,-83.4398685744,-90.0541660119,-88.4804669083,-101.735026846,-120.524649929,-76.7005266521,-98.464838016,-99.1082667829,-71.6802764616,-81.7431781429,-89.0374096749,-98.1824471655,-84.8352023744,-87.6539980067,-76.3567086184,-85.5187680028,-86.8986535599,-90.247375054,-115.730322485,-115.892435463,-91.131465421,-85.6110368183,-109.507612097,-104.790631134,-78.5566760673,-90.9118133348,-85.7975022448,-99.2135151435,-96.0121840981,-94.8518113711,-71.7160824662,-97.516253851,-73.5097121399,-112.553944833,-74.5445106674,-93.1115222539,-100.916407078,-99.8203076918,-84.3882463136,-80.7054233818,-74.0742255725,-110.903793031,-87.7267298383,-88.1991706674,-95.9414756124,-81.4555606055,-91.1127562492,-80.8570836304,-88.3613228409,-69.015547485,-106.191627951,-91.3127466677,-76.6340460041,-94.4045940298,-83.3715754728,-91.2425796995,-97.252401002,-94.404709492,-77.4838087142,-80.1062776173,-83.2666627121,-102.343197183,-94.3056398565,-96.2050045391,-74.6337304316,-87.5123716853,-79.2552758614,-99.3501597562,-88.9478637891,-82.1376881412,-116.701762031,-96.3023849451,-78.2856965824,-110.885661385,-79.873952503,-83.2611328686,-82.992831025,-85.543859188,-87.142041664,-80.4986673175,-79.1451431275,-96.919761718,-96.4034437639,-78.2037773985,-87.7877174066,-92.3088197079,-90.5674126031,-86.5634841334,-75.1339446794,-94.6140606084,-115.469262353,-84.8403384771,-92.4446635679,-113.172032247,-111.913383934,-91.622348013,-73.6781737453,-81.6346948405,-81.6001198539,-97.3947651219,-76.0165514362,-150.011714676,-85.3278346717,-81.9353404844,-94.838056975,-77.4776193547,-91.6007888442,-88.2667801291,-78.7796595828,-83.9643302311,-121.651091385,-95.1563757716,-81.2929913884,-84.3892346459,-97.8846508535,-80.8002997359,-102.828435632,-83.1408496187,-110.955893455,-98.4716796499,-120.725028959,-84.9983515819,-93.7745948671,-98.1459868879,-83.4759611368,-88.0832815032,-82.4236757904,-83.6240929756,-90.6675721556,-84.4904951214,-85.8141023534,-88.6228415765,-113.757910618,-78.9761374454,-101.697946991,-93.0411071081,-82.5348172563,-98.31302138,-100.476834839,-118.80047248,-79.4472820902,-86.5889416254,-86.7848240917,-106.584632792,-77.2655238393,-79.4057576347,-82.6212020717,-88.7815761672,-99.0996626872,-96.2102923903,-93.6070389924,-95.8090496343,-89.8244110855,-84.9910045711,-84.932458522,-85.0749898228,-109.844522327,-99.2214553894,-83.1277054408,-99.3734880839,-86.5352341115,-122.540367763,-89.9917699831,-90.0909046758,-90.9112912896,-77.5869258358,-89.3820759403,-113.131090626,-85.2610062794,-93.7447410133,-83.74266722,-79.4645390704,-102.602862784,-97.4609686791,-84.6293603418,-106.281555562,-98.2085033047,-97.4925237545,-84.3756074885,-81.1485743573,-94.2280604373,-85.4881722777,-86.2617612923,-92.0901672654,-70.206444997,-121.650120994,-76.2086867847,-82.0953569204,-77.0862060584,-121.344253814,-120.554132098,-71.8207197904,-87.4733082278,-75.0326059513,-84.0520241975,-83.4463116121,-108.269451135,-77.475587955,-77.475587955,-77.475587955,-77.475587955,-77.475587955,-77.475587955,-77.475587955,-77.475587955,-76.7296872797,-76.7296872797,-76.7296872797,-76.7296872797,-76.7296872797,-76.7296872797,-76.7296872797,-76.7296872797,-92.0638821244,-98.1724585828,-77.0225227247,-123.576473816,-97.1615544591,-93.9898835294,-90.8132149241,-80.5587490523,-86.8376542268,-117.907842238,-100.906858956,-85.9993005443,-83.823774583,-83.8898867514,-97.9485847382,-122.575262954,-91.9499782974,-75.3395154572,-93.2178669264,-116.601061373,-85.1382470065,-112.398078523,-103.48018589,-98.2781096129,-103.376304933,-83.4923823005,-111.495486653,-113.504711207,-84.0236132972,-117.274001478,-79.7410619159,-115.405080861,-105.386456079,-84.6049110538,-90.4173835629,-81.5491772356,-93.3207208702,-83.1609033358,-122.237029616,-86.0518589748,-96.4716413553,-76.4076199893,-93.3398791457,-99.7303000091,-97.4433173291,-93.1988964755,-97.8322675076,-100.735943173,-87.8308098507,-82.7062370645,-95.6238053959,-90.7820673213,-85.0187841576,-73.2453207905,-153.510605515,-69.5257592569,-76.707596151,-102.542749193,-82.3076279784,-102.829913123,-83.913088975,-89.3376041231,-114.667148472,-85.5522032462,-97.152702787,-99.6957077129,-81.1212291623,-103.201252881,-101.431748795,-96.0141016624,-120.651115621,-92.676575561,-100.36618026,-107.913235675,-97.6074090049,-84.9366547189,-93.343338993,-95.6525471812,-77.3470467441,-96.7676947106,-79.4669607014,-95.8108171586,-92.1567129536,-118.335778874,-72.5231194296,-100.459899544,-81.8526618984,-96.1526397502,-81.2235326264,-82.3312929099,-87.3533144839,-82.8003665306,-77.5356107293,-86.8798021177,-96.2501879728,-112.226687932,-94.3483586551,-100.417946618,-92.6648152839,-102.602870603,-81.1890293853,-78.0136665279,-86.306636969,-88.2232738465,-78.4668692674,-81.0911358771,-97.8594018287,-90.474747165,-73.8460059552,-91.7912346303,-84.6245076946,-97.6683877685,-75.9259989042,-73.2064122879,-81.5555471412,-94.0397619265,-78.1067171324,-98.7035507511,-76.6694598427,-84.5809372528,-87.0347773688,-97.4765502094,-83.747108233,-91.5881018852,-146.565422856,-79.7029792115,-93.2464685787,-75.6315310797,-104.392531357,-77.4021626656,-85.3246335487,-100.207574947,-86.4237993498,-92.4097172922,-82.7886132018,-92.2076625405,-99.9768991117,-100.402168105,-82.8492009827,-93.2404024994,-81.9664425704,-71.0890593426,-94.1681932369,-85.8607176828,-94.3902216019,-76.8237785954,-79.350893592,-120.689371728,-91.9650546828,-92.3119257562,-95.5521803129,-118.47840308,-100.777569383,-112.240577354,-75.936949201,-84.973258532,-84.131731929,-98.8175760649,-85.4483655316,-101.340308333,-72.5861605978,-155.522885864,-88.2521508057,-82.3098783777,-114.998338744,-86.8449997676,-82.743226753,-83.9571695116,-99.9718051015,-84.0026558339,-76.4425351607,-84.8467965535,-89.4137659493,-71.1838291807,-122.832293746,-78.6550308717,-99.8901220928,-93.7341954719,-99.1686127905,-82.6877258112,-87.4930956193,-76.0163281416,-71.5790218623,-89.6518318853,-121.91478015,-96.687755507,-99.8206358613,-84.1394626622,-112.311302461,-85.6219924364,-76.88830957,-108.630418124,-93.630083459,-102.603395824,-116.397518964,-86.1772944904,-85.0797630545,-102.518193492,-97.356778445,-135.304965119,-75.9481069728,-151.389616025,-110.321396004,-96.1347754194,-98.9480216382,-76.5229667418,-101.784183191,-91.1713632054,-91.0455350736,-94.7737543641,-76.5154525457,-88.0851335477,-83.7838897267,-79.9580837461,-79.9580837461,-79.9580837461,-79.9580837461,-79.9580837461,-79.9580837461,-79.9580837461,-79.9580837461,-80.0679899739,-80.0679899739,-80.0679899739,-80.0679899739,-80.0679899739,-80.0679899739,-80.0679899739,-80.0679899739,-82.4974202594,-81.2363275276,-97.787331341,-115.566279021,-80.3798749895,-88.9299244512,-104.337801716,-95.3923371044,-123.934213907,-90.8480221032,-77.2042373226,-94.1450175185,-93.0654245878,-94.2423791547,-88.9710587868,-78.2449450925,-88.5200953248,-79.0282722626,-82.0735477739,-94.9694078336,-80.8734378255,-105.57171097,-95.1053945569,-92.7890033704,-89.9443100866,-81.1802416273,-85.8847094016,-98.2010299558,-99.9161797856,-74.2470601526,-75.3988998092,-120.997682895,-103.412478212,-77.7212449251,-75.9890260819,-84.6103371078,-99.3474783776,-91.8865416662,-90.3088719897,-101.135334608,-80.9175879894,-74.3007756821,-77.3551679748,-85.9336633247,-113.067841951,-122.649176385,-89.928127921,-84.6135993294,-88.662541529,-116.709270124,-100.437862948,-84.3198525836,-83.7501767115,-123.433469914,-99.4145428942,-96.1068276828,-95.1467942431,-131.030510343,-80.2127487756,-77.2542641766,-118.111965828,-89.4355442381,-91.3400729965,-107.676147275,-122.728517877,-86.7423662187,-87.7595511478,-84.130079524,-93.2608475497,-85.262386374,-88.9241655023,-85.3920429513,-85.495190724,-100.833304016,-95.1811530449,-94.2412727038,-149.188568553,-84.5860991255,-85.1758221578,-84.423437303,-89.5897506359,-84.5333168381,-82.9446876646,-89.5218199491,-91.2350651111,-84.2779980048,-97.3663297978,-86.2635836849,-90.852011211,-83.81967864,-107.903956154,-72.6316491133,-95.1508300608,-77.8092394301,-91.1806847226,-83.0976163428,-119.747422249,-109.751263137,-82.1687777662,-89.8224429891,-79.3568295188,-102.528498668,-94.3765939282,-104.944975073,-82.6600810997,-91.2038921969,-81.0811920732,-99.4499297346,-81.0786676313,-95.5722839299,-83.168399978,-88.7703948628,-96.6894414425,-111.923601307,-72.7328122495,-101.06184392,-78.6490862597,-76.5164553837,-100.812558034,-91.2145376687,-70.6701460671,-89.5815415958,-86.6476485661,-93.099606274,-96.0366682912,-99.8787442497,-104.689620569,-100.921228654,-79.4438937578,-77.6757626742,-84.8744366862,-98.9527962385,-95.7401677072,-112.936158101,-90.602687016,-82.6215388925,-99.2123698529,-92.7013072101,-94.8834337255,-97.6574001918,-84.8133871962,-95.1509194224,-93.3419904743,-75.5923694841,-93.2608184346,-101.412147662,-103.110095731,-95.2503733342,-81.4952544284,-86.1169307298,-87.4903805625,-86.3641128583,-101.490100072,-83.3728413605,-88.3879869313,-82.070392228,-89.7592441298,-94.8169477887,-75.8316009642,-83.6229779272,-111.329738822,-96.9301524955,-82.6305889168,-121.801606828,-87.1264391014,-101.196869329,-84.8281098255,-91.4928319425,-84.0153305006,-80.1586830546,-89.2848255762,-82.4813683615,-101.661351227,-81.9818955745,-83.1652010912,-84.828631199,-85.4551771798,-76.7794746983,-100.555845619,-97.4782023977,-85.6037937156,-74.2585695251,-69.8393089562,-94.2067199306,-95.8169208876,-94.1817743675,-88.5616201146,-82.6457538571,-78.4854998848,-86.6802892154,-120.030786183,-100.253305507,-122.922544658,-101.523008414,-90.7734903178,-87.584594368,-82.9197777024,-95.8498160648,-116.471931336,-89.7974473885,-95.673923543,-84.1297714192,-73.0366087399,-76.3024182804,-97.7245908845,-89.501400671,-90.6150952137,-98.9913852808,-89.2578597971,-89.6622542939,-100.779828967,-96.5440972071,-85.7165195846,-79.3971193907,-83.83877051,-83.6009720963,-121.90161702,-76.7265140685,-98.5359514102,-95.7080021514,-100.051628546,-96.7944846878,-92.332041157,-91.4088486044,-86.2898576945,-86.8488901965,-116.241166631,-80.0981063578,-96.9461134069,-97.3264528463,-92.883969287,-90.7478115543,-90.8044314871,-93.5735335401,-96.3984928926,-84.063444228,-80.70696595,-122.233884853,-88.2722011175,-95.542393077,-84.4669897339,-95.928410107,-98.5615628976,-103.3952782,-102.475635949,-88.2078768076,-93.947999339,-102.07648647,-79.8123170828,-84.2504642348,-79.2741433707,-113.981607439,-85.5311845383,-100.736990786,-89.3675209057,-92.4094498846,-99.265080664,-123.308162692,-77.1061007631,-82.5984082765,-93.6563416658,-108.466440182,-95.0379114409,-93.2850962929,-108.517265273,-95.3790237804,-122.009787403,-98.3998650256,-78.2625471123,-85.9882069262,-69.9588160836,-95.5030137057,-111.920256238,-135.336672633,-84.4556269832,-89.9482166667,-76.7738000898,-90.4056805267,-120.35658095,-84.4369222013,-94.2724202106,-122.392638348,-101.763574005,-111.813201111,-87.9522309156,-94.6781370701,-92.8620540343,-93.3488158578,-70.2381374923,-88.5898533622,-84.0682304213,-101.831489242,-92.3096802497,-101.816123837,-96.2977785791,-103.714949912,-87.6461407931,-82.1259300134,-120.594332834,-83.7694969558,-98.7115552055,-100.238740757,-89.3041273649,-133.193025891,-119.007354057,-107.999724325,-99.7800913745,-76.2159548592,-103.4598757,-88.1987896089,-77.405844847,-98.0310632636,-79.8810638666,-79.8810638666,-79.8810638666,-79.8810638666,-79.8810638666,-79.8810638666,-79.8810638666,-79.8810638666,-76.9385845546,-76.9385845546,-76.9385845546,-76.9385845546,-76.9385845546,-76.9385845546,-76.9385845546,-76.9385845546,-78.7137032852,-96.3708562265,-85.8587552785,-87.7756333583,-100.48290474,-76.9311943444,-103.048169055,-101.628137211,-90.7963157853,-77.1009715341,-100.270065923,-97.6544621205,-83.5605241695,-89.6022219559,-92.5331996257,-91.7923648921,-96.4683496086,-90.8863042728,-107.300311758,-96.6605948986,-84.0901906655,-88.398113352,-96.9482619139,-115.65690713,-100.71843535,-97.1486602361,-75.4358401731,-104.965815501,-119.511127184,-90.0977653992,-75.7565570848,-85.549296283,-121.271403235,-75.1414130536,-94.6964147623,-88.9189811153,-90.6232428034,-96.6539833969,-95.4342547974,-83.2763750394,-92.5830546608,-81.7047784739,-96.0447949019,-82.3714410129,-83.4020764834,-153.749160002,-85.1947770123,-80.2164049721,-94.2561015344,-85.1849624464,-96.2597620936,-92.1548701323,-115.365336962,-102.351710486,-116.784781333,-96.2586448321,-116.711723179,-114.089374334,-100.851287248,-83.9193134094,-81.6194154302,-122.482577988,-98.204730294,-91.3534982605,-90.7279074417,-104.929559461,-122.753183909,-82.4526850982,-90.2132382621,-101.34735565,-88.4524199255,-102.333949943,-91.720023319,-86.8963982424,-85.5045272078,-90.925108658,-89.1687933116,-94.0670290696,-87.0770139545,-98.0898862446,-95.793663658,-105.741442552,-93.5482792786,-84.3576542517,-96.1734786585,-90.8051677338,-99.9295064518,-84.8593123857,-84.2171399549,-88.5910866502,-91.9488728782,-90.9690828337,-86.3064148915,-84.3118676685,-84.8759139254,-81.3410379056,-103.70794664,-111.614752705,-85.5531056748,-101.665858437,-78.8275607671,-100.132245565,-87.6531182363,-86.4218821702,-106.194066665,-102.65508878,-122.040521531,-92.304282947,-81.1633856618,-86.6854211599,-84.127204086,-89.9283990217,-100.304741702,-88.5390962907,-108.879430782,-90.632841255,-86.1659036872,-84.1467311037,-101.312046958,-87.7498400784,-84.5330101769,-84.1706356875,-84.6480146659,-103.716445685,-84.7679728373,-79.120649356,-73.74951416,-98.5582573019,-90.1944237,-98.9762070587,-97.6007621039,-89.759058929,-121.872821263,-93.0915633723,-91.7221441017,-99.681956366,-117.203075017,-78.2304441066,-84.5989931681,-95.8683593995,-83.3240853027,-79.362510123,-93.9316370877,-77.3744965519,-93.0537645398,-96.9657036787,-121.917998966,-101.055531285,-97.6502157692,-89.8955956151,-86.3438765333,-109.587955049,-91.837842149,-96.7828440349,-92.8859845551,-85.2051550952,-82.9222383646,-73.9697971209,-92.6544402046,-77.4871504649,-100.778860652,-92.0015496858,-99.2860476017,-101.354699396,-101.151715198,-90.1353840185,-82.3577015483,-75.1068734265,-112.994708925,-87.0184494886,-84.3159414648,-86.0450230743,-87.2636042463,-118.736784883,-80.5740896149,-75.0338289783,-99.3250571176,-84.1250173789,-98.0913750444,-97.8841201933,-88.7100058635,-106.809062349,-87.028957047,-92.7660468541,-97.7827227881,-84.0663667481,-93.7927500298,-99.347022123,-96.7351769755,-87.6291176816,-96.407781044,-114.281712396,-94.9166206034,-97.1409086996,-86.4588856967,-117.675363456,-119.126027193,-94.6404136047,-78.4741251099,-88.3521803449,-107.995198768,-101.541784418,-88.9088980221,-119.905517029,-93.5358982367,-87.3955844374,-70.12811317,-81.0542337736,-88.7703159232,-100.270473266,-91.0277165202,-85.2110263502,-81.1770268506,-88.6134615499,-93.3273638708,-98.1920324671,-80.2577062656,-88.1795748823,-88.4882631121,-87.3072532822,-102.784538195,-98.7623510222,-91.7634818429,-87.3736834128,-99.7779848782,-116.17846142,-96.1544786904,-77.2997880719,-77.2997880719,-77.2997880719,-77.2997880719,-77.2997880719,-77.2997880719,-77.2997880719,-77.2997880719,-77.2762195686,-77.2762195686,-77.2762195686,-77.2762195686,-77.2762195686,-77.2762195686,-77.2762195686,-77.2762195686,-84.4587221937,-96.9483597747,-151.698058085,-91.2859815878,-88.5577158078,-101.947684441,-144.760229318,-99.847385514,-93.3349833098,-121.351262732,-90.6748987038,-81.8868846224,-101.520802191,-98.882985338,-98.0379852209,-90.5012525364,-90.4041605467,-89.2111061648,-87.2419916982,-91.7684475565,-101.740518753,-95.2084741643,-96.0854546373,-91.4798585278,-88.7758658272,-77.6322882986,-90.3010646863,-80.7609722941,-96.3227791208,-98.7679898039,-95.6046765408,-80.8327311406,-120.717688,-88.7177438488,-86.8529215684,-73.2948285063,-74.9973498515,-77.0134840998,-92.1851454385,-99.3121708301,-104.466879578,-105.630190704,-118.404438052,-106.670199593,-75.3579856904,-80.7012054832,-84.8829111582,-85.7193451682,-102.740340455,-93.7068096741,-71.2860712513,-86.1491465307,-77.6357053514,-77.9864448378,-85.2696313766,-83.6662408919,-86.8705966508,-87.8679057735,-84.9283681524,-86.2171786433,-73.8530695745,-101.649613261,-117.181020009,-76.2705623776,-81.1595312709,-115.013561058,-78.027560601,-83.2291886374,-84.3313958343,-80.2228738585,-93.4154290883,-97.2017864999,-86.4603553659,-83.7338466262,-72.3768216078,-85.5011430488,-80.0061751875,-96.2532076471,-83.8674279187,-92.4988057662,-92.6995245166,-89.6163956957,-95.5639501637,-94.7713788557,-74.9624979781,-83.8375139145,-90.5645053525,-77.638105834,-89.514845622,-91.5990228598,-84.8770429861,-95.3134446486,-76.7091264828,-88.2307624873,-87.8384575868,-108.217225788,-103.809822237,-80.256300016,-76.5121412893,-98.2183408742,-98.4334742816,-120.679683235,-104.240521679,-99.8832526271,-86.642749235,-119.740857456,-79.2729932831,-85.7072716297,-88.464932258,-94.2429568096,-100.745233846,-94.3435927798,-89.9447795242,-90.1314083142,-123.907654696,-90.3904985092,-93.1841466986,-81.9598229888,-89.336445157,-90.264452745,-83.5277564528,-74.7681429805,-79.1714836119,-98.2076985187,-84.0266082893,-96.3286044718,-85.3931969755,-93.2966783051,-83.7372785445,-80.8848251911,-119.691774627,-100.529910767,-77.865597569,-76.5290606633,-105.850819579,-96.593928638,-81.4424722248,-81.0629473806,-113.235717851,-84.0531870389,-83.0649145355,-104.517369966,-82.9389875255,-95.6236852015,-88.5407417954,-86.4292775361,-80.9885424488,-94.551070329,-89.9141029918,-106.23481792,-90.2891244706,-91.3109179158,-91.4200286829,-112.784789329,-97.8515306642,-92.0766157427,-102.827796072,-90.5886186268,-85.3452913609,-85.3278488189,-88.6520579518,-93.0341542751,-112.093784553,-84.198463003,-80.248244362,-123.183009775,-113.923741221,-94.5010550107,-81.4936975935,-99.1856121911,-81.4350227718,-86.034762324,-91.7544696581,-81.8997238467,-118.898842401,-97.131768846,-101.357404339,-87.7895192944,-85.8041426436,-72.9120265429,-97.1595214632,-93.7862814096,-86.2386201495,-78.6975385506,-86.4950692821,-94.6787466122,-93.1763674899,-100.538546044,-98.7395957092,-76.8952824642,-88.2401981662,-85.7474680992,-95.3794738182,-97.8050966636,-81.7457669756,-85.5277446789,-74.3081414246,-73.7428630516,-108.442097151,-98.5954600939,-93.8518024149,-90.8343823934,-95.2308460091,-113.980147573,-104.875801423,-81.1278593427,-98.3722432436,-90.8774245019,-91.1884921409,-79.9577199015,-89.2428789608,-134.230339191,-103.135438139,-84.1264136573,-98.5089060613,-90.1317220132,-87.8871383639,-83.2179510399,-78.6616435866,-99.6609104924,-83.0048853482,-101.354183029,-82.0007811537,-113.637461803,-87.0872269242,-91.4032949632,-86.5817719968,-85.7156972254,-76.0702669072,-75.7484542227,-76.8472924091,-80.7762950605,-74.1382730507,-94.9045482536,-91.3584515501,-94.8429319755,-92.5030441645,-107.76931682,-87.382887079,-101.321804009,-87.1064763258,-77.9186629547,-88.3012135686,-85.6547259036,-83.2934335296,-97.2126261296,-81.9154527285,-78.570851665,-87.540842137,-109.887451628,-104.248943969,-83.4323638025,-116.76084539,-99.8639623316,-89.1487992023,-90.3859738837,-109.028015883,-92.3675651683,-77.8884355846,-73.3712046145,-76.2456336955,-104.567830048,-82.6369408916,-94.3572221859,-85.0056353252,-80.8585729141,-87.311044513,-101.893467006,-90.9600453966,-98.5271322703,-83.437054781,-83.4701228264,-97.1395097335,-81.0897165993,-90.7103202756,-88.6446587541,-104.89951088,-109.488828707,-84.8688701106,-98.9464800144,-77.1564526995,-76.4577127611,-93.8502883553,-82.0229005014,-97.0679060587,-75.5046137018,-114.120758882,-96.5229367542,-106.667442369,-78.2084593587,-85.1787249608,-98.0228653105,-83.9186821405,-88.9326248037,-77.2241521943,-98.9016466849,-122.13722281,-102.517723689,-97.9922509137,-122.392206808,-71.4226936063,-93.6684431539,-80.3492877814,-94.658747151,-110.655947277,-93.3579451616,-108.39808813,-96.6709220275,-80.6390976036,-84.2528004804,-101.791256465,-87.2944007854,-83.4304650673,-89.6314442054,-90.7413938887,-95.7708885981,-94.2321420772,-84.2993435146,-88.9615519316,-80.5247717485,-82.2417166787,-116.770204664,-85.778498039,-76.4736541298,-88.4287883539,-91.8443243326,-88.9923282776,-100.03155444,-83.5265943229,-133.002459292,-92.428407769,-94.8059357005,-92.9083421514,-104.646842539,-104.960584534,-78.2792244734,-94.8222610425,-91.779129433,-83.714662683,-76.0833253109,-100.636289195,-82.0059340359,-98.8651275082,-112.656713468,-99.8462501441,-84.7633607428,-73.7533906824,-89.4224823889,-82.6643677239,-72.6414291047,-111.887766252,-94.5273094656,-80.3984639525,-88.2205851408,-99.8307042877,-82.3707710973,-101.695910708,-81.9198334642,-96.2650968936,-88.4184956524,-68.6494281289,-156.544796848,-95.7632758339,-86.0747626426,-89.3670210808,-78.5690251336,-105.461144451,-119.664306118,-88.1538411275,-84.859602735,-94.8122103741,-83.2204589709,-84.3796958206,-90.8376399064,-81.620428677,-99.7457167359,-80.5444636482,-85.4174667322,-87.1157584406,-99.9960503842,-98.7383995925,-103.579899078,-117.776142822,-89.5240158465,-94.2071830507,-87.7455648767,-83.6594624603,-85.0946817376,-103.846565695,-100.255850072,-97.636461158,-90.402594527,-85.3375681071,-99.9034768772,-98.3461899802,-88.0682731679,-77.9628583492,-86.5231372076,-93.3277206567,-95.453523681,-84.5881378939,-84.9672206823,-84.2841507002,-93.2624729913,-71.2809786997,-100.813444084,-77.7754915036,-93.5685581671,-89.3337362349,-100.269647513,-90.6120571133,-92.4119791169,-81.5321670204,-91.1070801351,-90.1137916425,-91.1331318556,-88.3045082663,-86.5099758786,-74.0585725636,-97.0864647524,-95.5134961566,-77.3838032543,-87.1161212419,-97.7544162352,-98.3660983597,-75.2966708247,-96.7691343971,-91.5697116529,-91.8887898981,-87.8049852867,-78.9718051426,-99.8727358362,-82.4512128043,-97.1427156563,-94.3392465045,-118.26101385,-89.5086725366,-106.992889065,-89.9201976988,-94.3714865548,-95.6043730203,-102.51556846,-83.1290075152,-92.8758770268,-86.3459465589,-83.7162777687,-113.082022662,-83.1712490669,-103.784825661,-99.7261437929,-90.8804009104,-95.1669012009,-82.5364843947,-96.287794573,-109.240355413,-84.9801029119,-120.38733759,-82.567282527,-101.951216779,-90.5742293965,-82.0736728222,-86.2476592648,-87.5857849635,-74.4088356547,-71.0885008559,-73.4307589223,-108.714976887,-108.596669828,-93.8566135049,-111.347045865,-83.9115277453,-97.129376351,-79.3335234769,-79.5241721318,-79.5241721318,-79.5241721318,-79.5241721318,-79.5241721318,-79.5241721318,-79.5241721318,-79.5241721318,-94.2155848036,-82.6029222713,-102.357579601,-88.8793051624,-82.7457041434,-82.9821729698,-83.8508756933,-84.145177727,-96.2370551712,-115.35770071,-119.189196841,-99.0015558433,-82.2361379221,-77.2984913408,-123.957801356,-95.3758623589,-82.8939351883,-78.5636493115,-91.1606930888,-90.6178241184,-87.9453835494,-94.6130114109,-83.6604159043,-84.0057660473,-91.0956166217,-111.695670939,-84.3147208166,-111.481955865,-91.2798860249,-84.5771762961,-83.0626533592,-89.9505672784,-97.1170055183,-95.3819677478,-83.5802119065,-84.7307216738,-92.8278792297,-109.395216695,-76.7600260363,-89.6844539015,-102.335438285,-80.0461837011,-96.2779088915,-78.4410828106,-81.8100059395,-85.0098761363,-84.4841745377,-111.576354881,-101.31986081,-72.6149783508,-95.6173556358,-93.2879464988,-75.9285418475,-92.0007352464,-81.5281178783,-77.8590299644,-78.4079288849,-104.353264458,-83.2495906334,-84.2778815189,-85.0586875538,-70.7370759268,-82.316909885,-85.2414063367,-94.339996655,-90.0337143493,-101.43550545,-96.6150736733,-86.1904186693,-97.7213240867,-84.6492037421,-105.367471778,-87.3975365943,-91.8182352994,-112.351297512,-95.7533863657,-114.263941364,-93.5381811083,-85.2212198576,-82.7347546613,-95.9956906534,-106.916577749,-97.6102451711,-76.3795212302,-89.0448597042,-83.7127549805,-100.815653969,-89.493466796,-87.525029952,-77.9151942586,-77.1751638221,-81.9443826591,-103.520671138,-99.3540669412,-74.1227065013,-92.0657317334,-77.6517329831,-101.731104218,-101.298424102,-117.410789686,-90.4065563831,-92.9460691759,-95.621326718,-89.7076318397,-92.4059042007,-121.951073113,-97.5211569987,-99.1101310166,-72.3365016791,-106.924094646,-85.9068307178,-119.82065303,-102.723570332,-84.5232421788,-96.577680914,-71.9874782796,-81.4737695521,-105.548313414,-90.771226853,-86.6606484037,-77.4450310796,-107.489852538,-103.758878789,-96.5262753522,-99.4147585085,-91.801797046,-86.4462121421,-85.0283367991,-123.915819446,-77.261794619,-103.4800253,-99.754618136,-74.6163366246,-79.1338544675,-93.4005326616,-112.539356598,-105.459295871,-85.0369979159,-71.2029939175,-101.148391114,-89.4181224369,-101.63966574,-85.0746031181,-81.6976853961,-91.84158588,-80.6496843171,-90.5590717273,-85.1189299735,-98.5281860324,-80.4529516077,-82.350353152,-82.1607018861,-87.9786458597,-102.604926837,-94.4208652851,-91.181482989,-75.1293182687,-97.3120103867,-84.11780032,-93.107175708,-95.0503607355,-81.0939703133,-105.795424407,-80.2545239336,-78.2244395122,-79.8636317706,-89.924455051,-88.9240091565,-100.441832361,-121.694849665,-95.2691826825,-119.451761712,-97.7411901298,-118.560633062,-117.632366036,-83.8501865375,-74.9122477682,-87.0867695023,-95.6248783386,-87.2973573971,-86.2076142923,-78.2274071617,-77.0622692252,-91.7178701959,-84.5035173074,-105.548617097,-96.1778828448,-74.3055376374,-106.118358313,-83.3043780736,-94.9278266277,-85.1360135602,-101.8268813,-89.1188598215,-83.4560972785,-91.1151957557,-92.1166058761,-90.3450261596,-82.8787644687,-74.9597543553,-82.7057582627,-122.414922836,-81.7112126287,-82.9541313398,-95.1541129519,-87.3763856,-164.736740347,-105.717174716,-100.538187495,-87.7388619701,-99.0809353963,-79.9132708157,-89.5685146862,-89.3003092504,-98.2782455413,-76.5743582093,-101.719980701,-81.8880189942,-121.308901554,-85.3964353742,-82.5132925147,-83.6831118762,-113.10069891,-111.024580148,-94.8020598986,-79.6681619853,-88.9647928071,-82.7395539464,-81.6964250718,-78.8579227191,-86.0072701421,-95.7565342577,-99.8221669212,-96.9756376237,-80.0030288847,-85.4526142035,-92.8686104167,-92.0058568609,-77.2998210492,-97.2441230299,-84.5929278019,-98.0666853094,-86.6987792624,-77.082003837,-86.2273748048,-107.048288324,-75.7088216052,-82.432342828,-81.9908274743,-123.555497668,-89.0241202321,-81.9167587358,-120.618973477,-82.1696779265,-79.6473693491,-98.7854727927,-93.7372773737,-118.516586208,-81.2150705598,-93.8823968489,-83.4221767088,-88.9762156953,-88.8859379256,-87.6960810134,-106.344837734,-121.696278854,-79.896819219,-83.808378857,-106.38321036,-80.5307400446,-91.2430822004,-110.266046893,-106.693083681,-89.398748852,-122.977512444,-105.522621196,-78.0275428663,-81.9635320121,-82.9914923725,-85.6280646001,-73.6318704984,-116.169968363,-97.1883336931,-81.2486346747,-85.9934577475,-89.1175728285,-89.7599800409,-94.2684153059,-95.6667999353,-91.2596183012,-74.4221748142,-91.4729263457,-94.7275713188,-84.7436031459,-110.589809669,-101.281118786,-82.5301070587,-99.2410547627,-77.109232267,-87.2063672164,-92.3180548339,-94.7326503668,-73.1409413698,-93.775975762,-114.138200808,-88.108772783,-102.460280406,-86.4834511309,-85.6292510918,-89.7853789263,-99.2261274236,-82.4269495914,-86.1715163089,-87.5735241034,-98.7664619491,-84.5839338937,-84.1493845804,-107.843270687,-86.5721601717,-93.8329365623,-97.6307326898,-88.2217534978,-95.4444821595,-76.9408852763,-104.815897957,-88.5305528694,-92.5156877897,-83.7658501734,-95.726945141,-95.4226771526,-89.2483811971,-88.230465738,-82.5367524098,-85.3089680839,-80.2395157151,-83.0243916323,-99.4774139048,-88.2173347046,-91.9134102959,-92.2816072464,-91.5220242163,-95.2184193975,-84.9036434233,-89.1188085187,-76.052068666,-90.1732642352,-106.832721302,-89.0719088457,-95.1511488586,-84.1970560516,-123.758664685,-102.031609284,-78.873479236,-86.7779252067,-98.3516118048,-95.2926063049,-96.9358470922,-87.7170356289,-81.2248910808,-111.770512718,-82.618382939,-85.6926686622,-123.179556863,-69.1218807819,-95.3067923129,-82.9222922454,-87.5731516422,-98.9922233091,-76.0850360056,-95.5642196557,-82.8458266599,-97.5518190457,-115.993845895,-93.4650447654,-89.825176402,-83.4973801652,-120.210685268,-95.9855029797,-95.5212091489,-82.8400954979,-88.1844851879,-83.7987668507,-84.9243960855,-98.6877665573,-98.6876748071,-82.045128893,-83.0807032108,-91.4792643967,-84.9814699602,-94.7033667748,-99.2049557543,-99.0079245072,-76.6585617307,-78.1937114415,-97.5971068674,-86.582320534,-92.4235830486,-90.8978501232,-77.895814073,-97.9421091428,-93.4768864968,-89.2772543125,-85.3252875939,-79.0965107022,-113.289465841,-103.508040266,-77.3913375552,-83.6974200138,-124.215220683,-122.355663195,-117.523057733,-94.3424415366,-104.13588983,-95.7933763474,-101.308021268,-96.410918404,-84.5376342293,-82.8315397747,-112.898820016,-111.244509797,-82.4684895116,-99.246244112,-109.941013899,-90.9474546435,-90.5319724291,-97.6480798696,-85.355562704,-98.07154012,-92.5595204513,-92.401770932,-77.2622958162,-106.116379137,-84.867288503,-83.9863423246,-79.7477780226,-91.7333211971,-84.6883115804,-97.7992042907,-94.4709413442,-105.052664798,-82.3575458711,-76.2492413613,-78.1126836616,-87.8242979012,-92.531468397,-86.9813747654,-80.2842745676,-98.5354613133,-123.431553907,-97.6199983523,-92.7229029989,-83.4927393736,-117.623098133,-103.820048707,-88.6894044448,-100.871863039,-82.725248963,-86.4751595355,-82.8799928978,-76.9973400492,-94.8626717415,-81.3656367045,-88.4286377038,-80.5902184298,-86.8789382363,-86.68175556,-82.7245932678,-123.08825568,-77.9330277459,-92.001376741,-102.408963566,-82.2127427051,-92.1786423155,-92.3369721117,-71.578520179,-82.301708462,-96.1119919612,-83.7688482856,-88.8055049879,-110.811737097,-88.6391629414,-91.8483120037,-81.7443041288,-85.0055834874,-96.6498496136,-149.580200458,-94.3461007818,-97.7246531212,-77.9966807915,-88.6957976971,-96.2140273941,-119.529362193,-89.0344291744,-90.5266210224,-81.1407026054,-83.2677076921,-96.9768199136,-77.9761379333,-84.7541920738,-99.9762313036,-86.4686962098,-96.699194634,-87.9928589857,-90.1772845526,-78.0039971272,-84.2217438305,-73.8388030183,-90.5376891038,-78.7708246691,-103.527540829,-94.3968169905,-99.2153257614,-86.0375413468,-79.9811946065,-98.958838067,-92.5325425886,-81.7714179132,-84.4761934266,-92.1470474552,-98.5170946378,-90.3614492328,-99.897935995,-68.3682079676,-80.9030859572,-114.811514939,-76.6021303656,-102.560476646,-97.6343490687,-89.9343041982,-96.0953033903,-75.8006828963,-74.9664662769,-76.2477042693,-90.245238047,-90.245238047,-90.245238047,-90.245238047,-90.245238047,-90.245238047,-90.245238047,-90.245238047,-90.4433975603,-90.4433975603,-90.4433975603,-90.4433975603,-90.4433975603,-90.4433975603,-90.4433975603,-90.4433975603,-96.2326356698,-85.7940056739,-111.743622083,-92.4225034913,-85.1881533822,-93.8063674936,-76.610646905,-76.610646905,-76.610646905,-76.610646905,-76.610646905,-76.610646905,-76.610646905,-76.610646905,-76.6163229502,-76.6163229502,-76.6163229502,-76.6163229502,-76.6163229502,-76.6163229502,-76.6163229502,-76.6163229502,-94.1534394591,-91.9248859666,-98.5212445201,-86.0520142517,-88.4433134871,-90.2074818825,-100.468737737,-80.7611602655,-108.405922131,-80.6633865366,-98.2179667085,-122.584898334,-96.991438734,-99.5607827211,-78.9437462563,-89.4104744564,-94.0632792993,-95.297576142,-85.6731507891,-81.7113031676,-87.0733191356,-82.4792535623,-84.2288717703,-95.8389749015,-86.962046365,-81.2721775142,-101.539985727,-91.3414327747,-91.6082975068,-103.513965366,-92.8819343531,-97.1439380223,-98.2093648177,-79.5649741709,-81.075087468,-87.3899644539,-82.2706927711,-104.304465762,-101.060530422,-91.1446648957,-74.0759554422,-101.050008039,-116.268559598,-103.347029228,-80.733902516,-95.215512199,-100.273115438,-84.8668203815,-92.4413959911,-91.3039612785,-84.727848116,-100.482861357,-93.9988297843,-79.4804292418,-88.6192951938,-83.9004744786,-96.4724850654,-108.320603167,-89.5134035348,-85.8389848955,-91.367341411,-82.9479591393,-89.4745620917,-96.6374007438,-78.6788502937,-83.854045282,-117.545169287,-83.0658604798,-102.823815002,-90.6150375695,-86.5502065185,-94.9784769569,-95.1501748646,-77.4157658244,-83.5096204438,-92.6770526205,-85.3884485912,-89.1265952453,-89.90499843,-95.7433888048,-93.0962433857,-78.4843979826,-96.5805297375,-92.0655240141,-76.7998633255,-99.7622052768,-94.6784802642,-78.6503081729,-114.877539979,-83.4942863604,-99.4871292548,-83.2090415694,-88.2393231398,-89.7346390174,-74.3037621955,-88.6804161511,-98.0754955835,-95.9599234782,-96.2220294815,-97.0875435237,-91.4005112879,-94.9471503059,-103.549748464,-85.6653287163,-102.261669894,-84.1473994082,-86.2917651855,-94.2473892814,-88.00222052,-70.8679199556,-90.7062204223,-74.0240654916,-92.6842202167,-95.68142838,-93.50517578,-96.6560903889,-97.4264922607,-91.5078826618,-77.955819263,-88.8384708522,-99.4544205673,-90.1061367548,-80.7802801147,-79.7579455969,-84.2047427822,-86.4512425439,-97.5985004429,-104.03869984,-82.1347612154,-120.452196945,-93.8025859879,-74.7017524053,-81.9503159678,-79.2360118434,-79.3994248175,-88.4902374225,-92.1480723868,-84.9650431209,-101.040305284,-87.2720537447,-99.7605956717,-103.710476768,-89.1884754842,-88.0972226536,-76.5059133431,-97.4569239404,-101.805968435,-81.6119345544,-113.905618757,-93.1888539044,-89.4849192699,-90.4539712434,-112.111371277,-83.4721517804,-81.4942562194,-93.7851578386,-96.3423649942,-96.2221042394,-83.9255394315,-96.4552777398,-87.3654375115,-71.7361943775,-92.590351423,-81.514965317,-92.9626237174,-118.886709262,-93.227308885,-94.9656722276,-84.3735369769,-99.2718714746,-97.5916576336,-75.4487944963,-85.4385728826,-81.1606296676,-80.702936854,-71.6196574376,-83.4270835327,-86.3145956812,-86.1113109452,-81.1856924179,-91.5079334292,-82.7940677882,-91.7383967271,-88.7077397007,-87.3566550687,-93.8290683344,-92.7914177407,-88.8809285275,-91.2539442656,-87.858966744,-79.195570287,-100.982419275,-80.5505540253,-76.1449651093,-82.5763150918,-80.2509863077,-100.681128599,-156.954041591,-123.41325989,-86.3135388959,-87.8702584456,-75.8196181695,-82.4591641694,-83.9418350885,-96.0039807574,-93.9934933573,-93.6050459212,-105.723910733,-81.3413404834,-92.5209408738,-86.9936742092,-85.2154596916,-104.47537645,-84.1519178888,-96.6214567361,-110.111239391,-81.1302139229,-108.27441843,-90.4722676012,-86.0617405927,-93.2260411098,-81.5605967061,-82.4831009236,-98.5021739966,-92.4527825664,-85.3248199236,-84.1411344532,-76.4202298099,-104.411957888,-92.3748055749,-72.6637844853,-97.9824010419,-84.5756449351,-122.220869625,-87.310906018,-87.8442748908,-123.716999161,-94.8605592807,-81.1659012496,-106.730712236,-85.8009172937,-99.3172316232,-99.7123497118,-85.9567145693,-80.3625657303,-84.9089881157,-98.5678411195,-73.7727094403,-102.393348977,-83.0668541556,-87.3082017869,-75.6389781252,-99.3092409497,-86.8932997962,-95.2859482396,-81.6747943199,-83.5311320934,-122.748858563,-94.7618791398,-84.7870462059,-116.658654162,-83.229622,-84.6115999116,-97.2857880387,-105.631025824,-87.1616198682,-108.382455769,-83.0199778922,-96.0378479139,-95.9642646677,-100.34555506,-87.5944659612,-87.6347744896,-119.616372018,-82.438869799,-106.930610164,-83.3673290793,-83.6880895838,-75.6091956535,-81.6480093213,-93.4112514229,-98.0672555333,-77.6412486292,-97.6007790824,-88.4256137919,-77.0591277659,-103.071704571,-93.8906143781,-89.4819150635,-89.7703977477,-80.382316033,-85.6326228076,-82.3958631537,-70.7565745217,-89.506677525,-98.684790626,-89.9546332243,-80.4456030776,-88.3293805253,-77.6170419931,-101.075705109,-82.2845872684,-101.354539211,-94.6713769479,-116.426326116,-83.1666552038,-96.0003022919,-82.0493124426,-85.6979139347,-99.9572518743,-99.2457570613,-84.5427676729,-98.7174450154,-109.51864842,-78.8125507413,-93.7245618667,-83.4210754055,-95.7428780841,-83.5241923117,-110.846516905,-91.5445322832,-92.5646083146,-99.0049301861,-82.8552822542,-99.8409490369,-84.8770681668,-81.11757183,-91.2939728213,-83.5663480377,-107.031700114,-97.5949196014,-98.0860066564,-76.2954030037,-81.9200107367,-135.559082719,-72.2438064213,-87.6831570963,-80.0077524976,-94.755225505,-97.6506227728,-86.6380317986,-89.00385691,-110.547561693,-85.0665620402,-90.7503556212,-100.406052463,-77.4911573271,-86.4167378958,-81.7269282584,-78.9013542096,-76.8751761312,-83.2588931268,-77.0701686698,-78.1592301973,-84.5293679243,-88.1975233535,-85.0602848847,-104.512845555,-120.717645936,-80.406685752,-98.5200258895,-85.8016452398,-87.5805486607,-86.5673709608,-94.8462689731,-76.4051500765,-86.3587711276,-120.02756623,-82.0809953636,-91.0749938771,-85.9409081483,-98.2369675679,-79.4813744392,-85.0902500996,-88.9930848744,-93.0994371546,-99.7414270482,-97.6012905205,-87.8618317846,-99.4411921853,-86.5450922685,-101.799252231,-83.833581803,-100.476864817,-85.4105869053,-91.8618379561,-111.443134948,-86.8676194614,-89.5526288201,-85.6958570326,-93.7855426585,-85.1747465425,-103.495767454,-92.7525135871,-97.4072328405,-91.8437036051,-78.9366028156,-76.9807147831,-92.2302602596,-78.8694125204,-104.561358367,-89.6589101835,-83.9370903322,-78.3657109025,-88.8233754157,-90.2015195408,-85.2880811587,-100.278743804,-92.4687042487,-88.9993411296,-80.714385637,-99.0749662354,-93.3071433023,-81.1786546043,-73.0929606243,-164.244322616,-78.2771863744,-84.999084282,-87.8438119782,-85.0094165914,-87.2321643219,-96.5127823741,-83.385817604,-96.2440866545,-86.8030654716,-98.9819022019,-77.8139806631,-109.804623139,-82.0581758793,-98.8361731572,-118.418728999,-82.6107022318,-79.5685441465,-81.3755663746,-79.9054790812,-86.718813672,-80.6880779273,-105.378007019,-91.3780922862,-98.6840973495,-96.7914365084,-84.8478607548,-74.6908006832,-73.8639045541,-110.42518446,-98.7201050468,-85.7225823933,-82.0360146573,-92.5577401117,-98.504704356,-95.4280934716,-101.208593305,-98.3751581878,-74.4973551336,-94.3548163135,-78.5287073251,-76.1609504039,-105.35770567,-81.4098866827,-93.5653381974,-89.2838357978,-85.564118869,-72.2222293649,-83.0006868923,-80.5738922207,-91.4702087982,-95.9876533263,-92.9314699116,-97.6492819059,-88.9040887049,-78.614168492,-102.335196551,-82.6377509574,-88.6440346093,-90.2125952059,-96.971525279,-85.011310408,-93.0236553896,-84.6246133807,-81.6363849358,-97.2480210132,-103.451555966,-102.355667862,-160.195267975,-94.4221022302,-106.798493803,-92.7890314515,-91.8470716058,-113.933251642,-90.448798677,-156.981015248,-112.127186525,-83.0495338272,-83.7067110419,-91.0625868595,-93.6595529416,-81.4562556854,-98.924242239,-85.3968993017,-88.71271926,-90.0405268831,-87.732815214,-93.5546968685,-94.8300248619,-77.1054588564,-121.83595173,-121.228141798,-76.306316775,-96.721824276,-87.0077059131,-103.693167266,-86.5921750794,-82.1635815487,-97.8357913307,-91.7455472673,-85.15248111,-81.3809730552,-72.1022211883,-96.57240407,-82.3649735213,-84.492064415,-87.4146903866,-78.051263729,-88.0968988585,-90.9623104086,-90.4708835924,-84.8383148406,-140.381018617,-99.4046440743,-93.9854672168,-83.4001988278,-73.0809205876,-156.617058801,-95.7341117812,-97.7861241175,-84.1943088346,-79.190856302,-103.251755856,-91.6400549956,-98.110725849,-95.2933285252,-90.4428211702,-80.619057007,-78.2577317099,-71.0288020158,-101.89292281,-109.569833712,-90.6629400421,-97.7819489614,-93.8938981104,-81.1974037386,-98.6973050685,-84.226432416,-98.1810871979,-119.584275031,-94.8975993632,-111.659188485,-85.2806497629,-160.006978537,-99.6674010729,-90.9892124114,-95.5712007054,-79.9867558926,-111.344739896,-85.832751654,-72.685241262,-88.5802645599,-98.5012089617,-93.4598811569,-99.4536376507,-111.207614545,-112.840655966,-73.973558571,-72.1065129033,-105.428249706,-79.6787226224,-76.5357430669,-92.3176637461,-93.7342722978,-90.8825218504,-105.507062664,-77.9812075394,-78.4903171166,-96.3684743899,-111.573150356,-94.9376544511,-70.6987715777,-107.862876811,-86.6501076967,-123.112627727,-102.637815121,-78.6527194252,-114.049673744,-76.7093216245,-118.008777581,-98.9809214634,-99.2367293489,-94.7644784215,-143.211992263,-83.4682747823,-93.2934250568,-86.3006262039,-96.2670873079,-84.5510526557,-115.133309958,-93.7351436616,-94.3253505738,-90.3964479749,-118.96788861,-97.1886184207,-101.663989111,-76.1786170603,-94.2343408793,-86.4517083941,-83.1810673054,-104.140019787,-83.121183014,-83.2218260273,-81.3786238259,-94.4099168493,-76.9667121404,-82.8555082084,-87.8733713765,-85.3025273835,-84.6608453633,-95.383448733,-91.7630555512,-96.1490922947,-120.768752113,-94.0250850358,-83.14391569,-79.0611168206,-84.2906502039,-100.760002796,-89.503056435,-98.1363325923,-77.0482433004,-87.0720684602,-106.342794688,-89.2911821185,-83.0570255812,-85.6591577058,-89.1875965868,-94.6991848828,-84.4446694741,-84.5790701498,-95.1355105473,-82.0265380466,-105.161826391,-82.4799463782,-88.053300973,-83.6966440772,-99.8839942406,-79.2991976958,-96.4018033447,-95.2538341808,-91.6737652244,-120.515996378,-85.1647566085,-70.9856096697,-91.1646955496,-88.847324278,-91.896403608,-75.3032577124,-110.435223803,-103.470970513,-79.1038649277,-93.7162169926,-93.8915614277,-91.3749047506,-79.8060069064,-96.8808913751,-87.8684711826,-79.4209635408,-97.3684431809,-108.207290604,-83.4931751504,-79.952159639,-81.0829177077,-96.4906494764,-81.8094429515,-105.439657054,-77.9158559223,-111.170368946,-97.5684211292,-74.6680674072,-71.3055333389,-94.4233195808,-96.615493743,-114.901684451,-83.768102221,-75.6696638191,-86.1016367881,-90.4614294536,-83.2217837238,-92.9957332424,-88.4502607461,-84.5246378869,-92.4970779756,-122.876213921,-103.085681934,-88.6512057677,-106.930399241,-80.759010793,-82.4181514496,-117.855153321,-111.804508601,-100.689719816,-78.1746435555,-90.1069711692,-69.767264396,-83.8242451537,-100.813991608,-158.348270189,-97.3093236805,-110.700630808,-94.9996891482,-92.9987713463,-88.7075067352,-119.762644507,-109.175062005,-75.8534705783,-97.1939149855,-77.5595928743,-83.3780560683,-76.0958206019,-107.749771928,-96.7904210084,-108.26182312,-69.2845234425,-75.3672936402,-83.7472418424,-123.828620824,-100.871191808,-80.2334232097,-81.9293594987,-81.1494997552,-90.4294834242,-106.879383134,-96.7778770663,-75.6115785175,-77.0645062464,-91.0371787166,-107.271623165,-102.71686602,-104.525584561,-91.5527759528,-70.4440737272,-83.5988719199,-85.373250216,-84.166754367,-82.4215337501,-83.1286182436,-85.505117935,-92.5972913761,-104.339234024,-68.5988785527,-89.8230024414,-89.4143720339,-97.8918968398,-123.098321728,-72.7137985374,-80.0554750445,-80.3872154427,-108.404762399,-87.5096840021,-85.000764854,-82.2640527023,-95.6722708168,-82.4853500567,-82.9642475976,-89.4788485523,-89.4347315443,-123.429249066,-79.0875470867,-93.9920637276,-80.5518508851,-80.888585011,-91.9315146225,-93.9630531168,-87.4639782841,-122.330538465,-96.1408663039,-89.7954717926,-112.491486812,-89.8021776433,-78.240565851,-111.789863499,-97.11926027,-96.7525021968,-77.3979843347,-121.940024418,-98.756464293,-89.9194880948,-89.1177101979,-90.0259472067,-83.3278388255,-96.8390654617,-89.9457980719,-87.7880131637,-92.6409093578,-84.1541806022,-84.6174748904,-96.6843760531,-106.307385105,-71.3917424712,-94.6158732578,-84.2162536823,-88.2632012743,-99.8879423784,-90.0920506122,-80.102712026,-135.470092205,-92.6367652262,-78.3486041534,-113.600088287,-117.037908401,-74.4396826879,-94.0708780275,-90.8638843452,-76.1704523585,-98.999794176,-94.905822196,-95.7484141356,-92.6007190462,-83.3811399511,-92.4614657054,-82.1514904737,-86.8705670582,-82.9101752594,-108.958601602,-92.8101191097,-79.8757955735,-84.7480935785,-85.8260308543,-121.600671735,-92.7412705154,-93.0559517637,-85.3009850599,-92.7901934384,-91.92602044,-83.6189726465,-104.417423806,-70.3302006275,-81.8578845259,-81.3582013406,-89.8020061532,-78.8868222264,-98.0512842475,-99.7486955832,-84.3881091147,-85.9633719015,-105.976273211,-97.7743353973,-95.7175305402,-88.5636398807,-83.0092981418,-81.0221137598,-99.1452534374,-79.7749871967,-121.176237426,-98.2414446434,-100.394202624,-94.2741206259,-97.5182740096,-90.3582204731],\"marker\":{\"color\":[0.667530006,0.423578177,0.0,0.49451092899999993,0.21736767799999998,-0.22983222299999997,-0.10478884999999999,0.43902128900000004,0.26710353,-0.2787068,0.506072874,0.5584165790000001,0.243265481,0.14657598499999996,0.525885241,0.6671114069999999,0.49765391700000006,-0.09170105400000006,0.14144557400000002,0.364906427,-0.06084575599999997,-0.699056274,-0.88028169,-0.299222023,0.278802436,0.475390263,0.312207306,0.19129603,0.167579041,-0.029982310999999984,0.0,-0.466853408,0.395681419,0.457557012,0.059959227999999976,0.846895423,0.0,0.333762456,0.549344906,0.383987713,0.43091065799999995,0.25942580400000004,0.30938201,0.6768605969999999,0.539890784,0.216340953,0.669299243,0.408828336,0.275292498,0.6077848969999999,0.10333781099999997,0.602254152,1.078748652,0.13514426699999998,0.490511665,0.969260593,0.16026925200000003,0.469006488,-0.333611343,0.703882181,0.45030934300000003,0.324939074,0.6704097880000001,0.0,0.644911647,0.08528784599999997,0.434707007,-0.396118044,0.645940741,0.389301091,0.772734713,0.42153048000000004,0.308108615,0.607943702,0.8886914020000001,0.45475215999999996,0.600720865,0.576368876,0.2236386,0.5150618180000001,0.516286492,0.46439928,0.496164269,0.338623383,0.17367141400000002,0.629511499,0.20100502499999995,0.681522616,0.468515742,0.0,0.0,0.277315585,0.21765153999999998,0.352351949,0.314514861,0.234225559,0.444312797,0.529975749,-0.196290117,0.438188092,0.396112009,0.40443963299999997,1.3166364330000002,0.404329949,0.17452007000000003,0.4912948690000001,-0.22487069999999998,0.830384525,0.6871537050000001,0.32404407,-0.18674136300000005,0.0,-0.287301283,0.203998368,0.09701203,0.350232028,0.569712966,0.5685001479999999,-0.331125828,-0.17721070300000002,0.487584021,0.19066988699999998,0.595770033,0.17333025200000002,0.541147118,0.31628470900000005,0.045614194999999996,0.698754573,0.6013740940000001,0.275976266,-0.19346101699999999,0.467670998,0.38150364999999997,-0.159451487,0.329380765,0.284900285,0.520311416,0.21798704500000002,0.40588533800000004,0.531656904,0.0,0.449808831,0.417153346,1.50164145,0.312199183,0.503795258,0.34277198200000003,0.643049222,0.362161379,0.283232629,0.745788208,0.0,0.347161951,0.342817963,0.667922998,-0.32880315699999996,-0.334728033,0.27037466200000004,0.13304359400000002,0.548757065,0.469143213,0.7959491270000001,0.519507866,0.48385981899999997,0.373907742,0.43151589,0.05339170800000001,0.397269674,0.42363515800000007,0.569843739,0.4586508610000001,0.571978265,0.6187353050000001,0.0,0.24984830699999996,0.32425421499999996,0.490226117,0.37448508299999994,0.28803351600000004,0.304814158,0.519716418,0.414585885,0.234576589,-0.32324103,0.663037409,0.357309966,0.435919791,0.379686758,0.192016898,0.143988481,0.5147327039999999,0.282161356,0.04789501399999996,-0.919681178,0.466913993,0.7518575300000001,0.17713222900000003,0.47634169499999995,0.5567165709999999,0.337071766,0.653144804,0.40955631400000003,0.303251931,2.685546875,0.596777445,0.17614937400000003,-0.095301629,0.4105933070000001,0.234662217,0.9136019200000001,0.722614479,-0.343288706,-0.178986934,0.0,0.48294894600000005,0.57265569,-0.10248709899999997,0.08058017700000003,0.48612531300000006,0.40973683699999996,0.270833898,0.590147951,0.36782736699999996,0.219695721,0.7291951500000001,0.17915795699999998,-0.801924619,0.5637432550000001,0.12408487399999998,0.314901121,-0.406752084,-0.26903416799999996,0.432673695,0.204666393,0.122494978,0.517495322,0.152160682,0.409282527,0.6021436309999999,0.0,0.06869075400000002,0.41590417599999996,0.200601806,-0.277085065,0.219876869,0.29256875400000004,0.538828222,0.17727353299999998,0.896860986,0.730104648,0.640853152,0.453926464,1.966909638,0.181417288,0.32891130299999993,0.07305669200000003,0.49885160200000006,0.432214378,0.8030981739999999,0.06914672999999999,0.5215535020000001,0.0,0.758448576,0.59151334,0.128040973,0.47882995399999995,0.699827735,0.30972537699999997,-0.19805902099999997,0.378627586,-0.481927711,0.215563699,0.376896259,0.377651427,0.567107751,0.5671637939999999,0.660924882,0.591016549,0.07559721799999997,0.914076782,0.531671187,0.790529858,0.583293495,0.0,0.40777490899999996,-0.773544769,0.31402104,0.347128149,0.8502775659999999,0.383589351,0.45121163000000003,0.394855596,0.0,0.346512986,0.4178855,0.04602780000000001,0.451010437,0.437822895,0.14441215300000002,0.30427506499999996,0.19120458899999998,0.384615385,0.35916563,-0.249107365,0.0,0.68591026,0.552132185,0.5365471129999999,0.302277154,0.601629026,0.164690382,0.529140525,0.63715557,0.33494105100000005,0.615727594,0.14683209700000005,-0.286327845,0.07896399199999998,0.14468988099999996,0.47897499400000004,-0.860585198,0.216169477,0.37901834300000004,0.20447806899999998,0.483161811,0.541271989,-0.16688918599999997,0.30624744800000003,0.552473813,0.72838517,0.482320148,0.478938558,0.5830480299999999,-0.15012760799999997,1.007347761,0.0,0.23199164800000002,0.16698994299999997,0.511904514,0.364564345,0.236714404,0.616264452,0.730894499,0.339259058,0.467606556,-0.114364136,0.300842359,0.327753127,-0.362362604,0.622484127,0.530948392,0.096730509,0.49033474800000004,0.334029227,-0.34285714300000003,0.234045873,0.8423954660000001,0.260806459,0.684702473,0.47978366199999994,0.08331944599999999,0.0,0.414384222,0.30850105499999997,0.280553001,0.52411958,0.34295513,0.148566335,0.638837032,0.7342032380000001,0.29525621599999996,0.0,0.26142326299999996,0.42282500400000006,0.618483831,0.12874983899999998,0.44406381799999994,0.37448493699999996,0.37371535300000003,0.484966053,0.7067762169999999,0.0,0.5555555560000001,0.44116528499999996,0.583478072,0.399121932,0.49232000299999995,0.08957362899999993,0.343577019,0.449043537,-0.207533465,0.705965408,0.513061695,0.41697070799999997,0.269175711,0.36511934399999996,0.31986352500000004,0.711142737,0.106018306,0.534759358,0.440123234,0.301816386,0.45822514200000003,0.498104106,0.17546168300000003,-0.233100233,0.523735428,0.20480611599999998,0.579374276,0.564440263,0.235933734,0.05624297,-0.28534741099999994,0.512663889,-0.325203252,0.49659830099999996,0.6143490570000001,0.48421537300000006,0.21019442899999996,0.37153674699999995,0.470567145,0.56196996,0.8444519509999999,0.355660936,0.551024907,0.783260602,-0.396196513,0.5386272700000001,0.0,0.407329065,0.43900105,0.943071147,-0.501756147,0.68412451,0.553464689,0.67731356,-0.177462289,0.24141738799999998,0.49021792399999997,0.38954812400000005,0.698550351,0.3470213999999999,0.506267165,0.47682908599999996,0.506768986,0.1953125,0.42863266199999994,-0.171071765,0.13274923600000002,0.0,0.57885597,0.41817673299999997,0.11115433800000002,0.981161696,-0.469043152,-0.815993472,0.336253429,0.44418122600000004,0.5412560670000001,0.24655937600000005,0.53666063,0.18746485000000002,0.390923306,0.5180667999999999,0.414387536,0.304136253,0.380710659,-0.206029806,0.08536793600000003,0.18982536099999997,0.0,0.712691499,0.417628851,-0.323781771,0.187511719,0.709148009,0.290594427,0.370086495,0.194609321,0.4574688520000001,0.66058643,0.19205838599999997,0.437636762,0.37714785700000003,0.418118467,0.453657175,0.622415248,0.4733336779999999,0.287846246,0.37051175599999997,0.12315271,0.29045375400000006,-0.436681223,0.46250795,0.293219303,0.325839035,0.325839035,0.758593034,0.758593034,0.158302636,0.158302636,0.5910566349999999,0.5910566349999999,0.325839035,0.325839035,0.758593034,0.758593034,0.158302636,0.158302636,0.5910566349999999,0.5910566349999999,0.650696379,0.553464689,0.47300007800000005,0.268141445,0.0,0.171519231,0.6155108739999999,0.5943889680000001,0.279056788,0.0,0.406256348,0.357062316,0.396196514,0.6541901800000001,0.397675806,0.278830433,-0.532339633,0.48834732700000005,-0.24207213800000002,0.26981946600000006,0.5095738110000001,0.23969841599999997,0.45091207200000005,0.5086757479999999,1.199040767,0.446852483,0.0,0.700755967,0.6103139419999999,-0.15444015400000002,0.0,0.10193160299999998,-0.586338317,0.23751840700000001,0.378024193,0.04263483299999998,0.0,0.48059593899999997,0.280819994,0.442729746,0.0,0.148159123,0.440431623,0.335683115,0.234901694,-0.450315221,0.44622936199999996,0.0,0.742709717,0.297044408,0.33255736599999997,0.19434457300000002,0.0,0.17453299200000003,-0.7330610529999999,0.350119624,0.8500991779999999,0.651811104,0.22609088800000002,0.139684313,0.485944976,-0.250281567,0.499737318,0.41891218700000005,0.35570913099999996,-0.266098989,0.21210707099999998,0.209951711,0.0,-0.594825023,0.026638962000000044,0.438320138,0.0,-0.238606538,0.522557046,0.290934481,0.47104461000000003,0.23981226100000003,0.209226907,0.550812449,0.502065878,0.12891581799999996,0.560134432,0.40620684100000004,0.312753736,0.0,0.06645843000000001,0.624405329,0.472722627,0.808377732,-0.236294896,-0.058847761,1.0277492289999999,0.5456702259999999,0.36392750500000004,0.161576991,0.0,-0.277161863,0.6375788600000001,0.0,0.15584820400000002,0.5000294129999999,0.511236553,0.504431794,0.160711416,0.0,0.133806115,0.0,0.654141629,0.06311537500000003,0.0,0.74939108,0.39238767899999993,0.49813009599999997,0.45158310700000004,0.387903168,0.14293201200000002,0.6117330400000001,0.37727307,0.511299724,0.477392075,0.33634643700000005,0.510818405,0.538623816,0.356647917,0.49429381399999994,0.501692838,0.729197882,0.37133308600000003,0.32386041600000004,0.39148857800000003,0.711237553,0.552634078,0.11402508600000003,0.24904119200000002,0.319224847,0.0,-0.505433409,0.278862242,-0.172691688,0.18581834399999997,0.878488189,0.0,0.439435454,0.4722035560000001,0.28314174000000003,0.13269639000000003,-0.571755288,0.154362675,0.72152871,0.39282440799999996,0.31967695800000007,-2.463054187,-0.330196467,0.7530120489999999,0.30010803799999997,0.32000000000000006,0.331290376,0.411617491,0.0,0.03535817800000002,0.588081198,-0.459136823,0.199660577,-0.23741690399999998,0.5277045340000001,0.09775170999999999,0.33934252400000003,0.45829514200000004,0.524504191,0.7136241480000001,0.46771358900000004,0.36735764800000004,0.479477621,0.46050397899999995,0.710658139,0.7677369820000001,0.18721332999999996,0.210925965,0.9106178030000001,0.329353643,0.801593252,0.593112631,0.15971889499999997,0.08968609899999996,0.737821633,-0.452079566,0.220276447,0.26608887400000003,0.355960559,-0.288892099,0.29615005,0.077402376,-0.5396654080000001,0.659511994,0.472032098,0.5958937499999999,-0.48496605300000006,0.742500742,0.0,0.433134814,-2.131060202,0.390632266,0.254048905,0.0,0.596448421,0.0,0.16073724800000003,0.348501464,0.539588151,0.253694425,0.679515691,0.62430129,0.36619384599999993,0.36619384599999993,0.882226203,0.882226203,0.21709033299999997,0.21709033299999997,0.7331226900000001,0.7331226900000001,0.36619384599999993,0.36619384599999993,0.882226203,0.882226203,0.21709033299999997,0.21709033299999997,0.7331226900000001,0.7331226900000001,0.6701222360000001,0.49247798500000006,-0.296384114,0.6227296310000001,0.605999394,0.404730854,0.46517500599999995,0.503011853,0.376306621,0.14015417000000002,0.5547020819999999,-0.038865137999999994,0.5126941580000001,0.557813372,0.0,-0.200360649,0.23665838299999997,0.20697505900000002,0.5439718929999999,0.439592644,0.589699502,0.5954912800000001,-0.19565642700000002,0.310520432,0.268033638,0.565351219,0.0,0.396078819,0.0,0.184147094,0.52586486,0.37256241900000003,0.5077704270000001,0.443849701,0.461133891,0.49882419999999994,0.605766901,0.41882237,0.45540947299999995,0.0,1.1687363039999998,0.212102952,0.198826921,0.4961723840000001,0.0,0.409046214,0.33272241799999996,0.23228803700000003,0.582938506,0.40770457099999996,-0.164284541,0.296145873,0.09354537000000002,0.250563769,0.546866455,0.29522909799999997,-0.377026517,0.29316915899999996,0.34975333200000003,0.16570400500000002,0.2399952,0.16930978,0.0,5.797101449,0.5718279430000001,0.521071971,0.202326758,0.472243866,0.13217023499999997,0.069847035,0.424808836,0.440774588,0.42456447900000005,0.30807147199999996,0.25612567199999997,0.23289665199999998,0.570385195,0.3844943900000001,0.257311948,0.463586531,0.48708327300000004,0.31170515200000004,0.424568356,0.531141675,0.261198903,0.589831309,0.5195385969999999,0.38591413399999996,0.662443588,0.4384354429999999,0.589664784,0.392651621,0.593225366,0.43897491800000005,0.13276686199999999,0.12848516,0.712940789,0.406161622,0.351716376,0.562387522,0.744047619,-0.432525951,0.27700831000000004,0.0,0.399640324,0.0,0.21781746899999999,-0.675675676,0.650952447,0.423927026,0.185090926,0.10815487700000001,0.4108463440000001,0.67537081,0.359777138,-2.100840336,0.314891205,0.588447554,0.44148161300000005,0.16774770800000002,0.565065815,0.309453814,0.12950572,0.4846154,0.355517634,0.39473035,0.6912417510000001,0.319352779,0.7177720350000001,0.046427411,0.422952207,-0.312109862,0.30102348,0.0,0.23214423899999997,0.460562481,-0.610873549,0.14207909,0.597932851,0.0,0.085704491,1.0846640550000002,0.753693639,0.432944532,0.68243858,0.5470459520000001,0.36225321499999996,0.0,0.552055595,0.749018423,0.490015925,-0.12110447299999999,0.04719652699999999,0.23500658,0.49980364899999996,-0.04634994200000003,0.195947159,0.823797133,0.18238190699999998,0.676616602,0.16798252999999996,-0.051800051999999985,0.516514883,0.493289561,0.0,-0.247586036,0.277366864,0.0,-0.423370025,0.214947446,0.0,0.46268449599999995,0.728243719,-0.05393743200000001,0.37496591300000004,0.335104601,0.42293052400000003,0.594561251,-1.432664756,0.573131228,0.500134652,0.5205023120000001,0.370127837,0.0,0.406393932,0.477099237,-0.222518914,0.140502061,0.866887191,0.670498084,0.39196541299999993,0.0,0.28493999899999994,0.0,-0.282273241,0.596712116,0.55417013,0.13817880399999993,0.38634607499999996,-0.513347023,0.42735042700000003,0.11607661100000005,0.31047780900000005,0.798647623,-1.015228426,0.44238947399999995,0.26802465799999997,-0.49726504299999996,0.751998734,0.443824499,-0.833333333,0.144843569,0.18326766199999994,0.110656191,0.5557115109999999,0.36896965200000004,0.48990014,0.506065921,-0.131010087,0.279334486,0.0,0.452767789,0.499040637,0.46377886999999995,0.491249386,0.37542234999999996,0.700756867,0.465714855,0.388462659,0.584312916,0.410106006,0.178699071,-0.152288129,0.582009737,0.355819746,0.5519373000000001,-0.121256214,0.331507411,0.7435931480000001,0.577719293,0.8347307000000002,0.873426014,-0.3681885129999999,-0.28551035,0.0,0.0,0.0,1.052631579,0.363658403,0.11855364499999999,0.192761794,0.43727528899999996,0.5744166700000001,0.511922403,0.396667989,0.45117446299999997,0.49753719100000005,0.37157547999999996,0.0,0.521973397,-0.17806267799999997,0.583937641,0.324452001,0.474709834,-0.489236791,-0.11469205099999996,0.384756113,0.567697985,0.47781913299999995,0.614664711,0.28887818900000006,0.500596049,0.0,0.0,0.635413725,0.48175745099999995,0.395222203,0.440352608,0.19392999100000002,0.10648493200000003,0.49513121000000004,0.26435095299999994,-0.655737705,0.312280428,-0.224542495,0.427853246,0.19803941,0.6436663229999999,0.719791957,0.758946815,0.428709228,0.23741690399999998,0.542106626,0.339731612,-0.16923337200000005,0.26267402100000004,0.499899464,0.501131125,0.175213176,0.32654291499999993,0.72556308,-0.284738041,0.303759018,0.0,0.404912943,0.400436841,-0.818665575,0.24413234699999997,0.0,0.148246979,0.620954146,0.6187436439999999,0.443710842,0.443710842,1.2133411639999998,1.2133411639999998,0.29571058699999997,0.29571058699999997,1.065340909,1.065340909,0.443710842,0.443710842,1.2133411639999998,1.2133411639999998,0.29571058699999997,0.29571058699999997,1.065340909,1.065340909,0.4840033389999999,0.396667989,0.423423378,0.434806239,0.0,0.663585814,0.139645301,-0.31675641500000007,0.22952625799999993,0.8594002680000001,0.649139889,0.483712241,0.13920790700000002,0.05427555700000003,0.613617769,0.5087257519999999,0.152091255,0.122354093,-1.212121212,0.180733779,0.0,0.0,0.492035181,-0.232396003,-0.203231379,-0.119717466,0.345650142,0.575043128,0.509943907,0.587511578,0.24080428600000003,0.491635618,0.33809495700000003,0.424716424,-0.158654609,0.4854617,0.7086193329999999,0.622816756,0.463551683,-0.103124678,0.31826861900000003,0.41993590399999997,0.682114946,0.130753138,0.7375537799999999,0.0,0.46653759100000003,0.48985707700000003,0.5244136399999999,0.638301753,0.579683261,0.646855635,0.23274692500000002,0.0,0.19733596499999997,0.419815281,0.502565731,0.379729356,0.431723006,0.47082034800000006,0.279124943,0.428037621,0.154846702,0.586184555,0.376459742,0.591715977,0.12446906099999999,0.44794839599999997,0.5125673930000001,0.0,0.49288718400000003,-0.510204082,0.5874499329999999,0.7646829,0.24112363599999997,-0.13860013799999998,0.589075593,0.621658585,0.675095127,0.436829588,0.148986889,0.45849125800000007,0.132310135,0.491690806,0.138523342,0.341163856,-0.968366688,0.232342007,0.65055297,0.11991126600000002,0.411425885,0.152230172,0.329285319,0.448056048,0.4504748009999999,0.30472011499999996,0.757616754,0.538823663,0.268048606,-0.352236703,0.598409681,-0.726216412,0.479486949,0.37110619699999997,0.887951607,0.635904773,0.53492497,0.06871671499999998,0.26108903099999997,0.35716107999999996,-0.20772746099999997,0.45930008600000005,0.0,0.474890181,0.454411197,0.640830028,0.427914711,0.41449296,0.532197978,0.503929579,0.0,0.6279998210000001,0.42874496799999995,0.424178155,0.49540995200000004,0.533483499,0.290409477,0.36093265,0.27499724999999997,-0.644953241,0.594784442,0.327495478,0.462036796,0.512640639,-0.195752178,0.493273542,0.22760378799999997,0.187621661,0.45652624999999997,0.09726680300000001,-0.07254261900000003,0.152536685,0.152172259,0.720115219,0.464315953,0.362428269,0.45881289500000005,1.007683588,0.0,0.52717976,0.310655483,0.6305611999999999,0.239108603,-0.44052863500000006,0.049089391999999954,-0.077483341,0.731544185,0.7123576679999999,0.12426991400000004,1.2033694339999998,0.416666666,0.27027027100000006,0.0,0.590560124,0.49029624800000005,0.38174414600000006,0.608408851,0.567031963,0.22110848999999994,0.39171113599999996,0.350692618,0.354716363,0.315723005,0.364830354,0.431387775,0.05252100799999998,0.19238168499999997,0.483426173,0.42462845,0.284451861,0.0,0.46817697100000005,0.18009581100000005,0.479484896,0.47804299100000003,0.402726458,0.629864579,0.18047283800000002,0.613496933,-0.065112644,0.65404645,0.23121387299999996,0.29249744,-0.139508929,0.30954960499999995,0.0,0.460896039,0.198767641,0.405584779,0.339789331,0.170561146,0.528500148,0.22700445,0.0,0.339440752,0.499239254,1.5804030029999998,0.315796122,0.5938128530000001,0.253100481,0.27824151299999994,0.28103702599999997,0.29698426,0.291953754,-0.15787811799999996,-0.9797517960000001,0.47357046299999994,0.27421676899999997,0.520419085,0.0,0.09746588699999997,0.143081986,0.382976686,0.12318305000000002,1.468428781,0.49021010200000004,0.554858539,0.624027783,0.624027783,2.774700799,2.774700799,0.07332840799999996,0.07332840799999996,2.224001424,2.224001424,0.624027783,0.624027783,2.774700799,2.774700799,0.07332840799999996,0.07332840799999996,2.224001424,2.224001424,0.736640917,1.028204213,0.24865018499999997,0.6904418830000001,0.23196474100000003,0.8731082659999999,0.10264832700000004,-0.787194962,0.533553222,0.303402243,0.596598296,0.364099763,0.0,0.598265031,0.128949066,0.19366708600000002,0.618352709,0.23169601500000003,0.407972957,0.41526323099999995,-1.577287066,0.200293764,0.380596499,0.34744339599999996,0.35783296400000003,0.03556946700000002,0.343213729,0.40569126899999997,-0.24350649400000002,-0.78369906,-0.13561160799999994,0.558763862,0.273490315,0.34428346,0.649962085,0.0,0.46203034600000004,0.536167874,0.0,-0.330797221,0.48730717100000004,0.5753739929999999,0.302343159,0.6962123649999999,0.288390025,0.48673956199999996,-0.242101441,0.381731841,-1.397624039,0.06467468700000001,0.467365683,0.312476564,0.553692917,0.5848625059999999,0.400320256,0.611234207,0.189496481,0.307219662,-0.37723986200000004,0.202354052,-0.17417386999999995,-0.33932813,0.28669724800000007,0.332253509,0.152151421,0.683440452,0.184414893,0.18205816800000002,0.16054800400000002,0.365277742,0.43271311199999996,0.723217815,0.415688576,0.401962523,-0.10342331200000002,0.540958269,0.309444238,0.72924263,0.40323484,0.293534894,0.12391573700000003,0.46433878100000003,0.453862043,0.15013662500000002,0.40383331,0.052107757999999976,0.18720748799999998,0.405360897,0.14020001899999995,0.607524897,0.655294575,0.477497911,0.42506163399999997,0.408039898,0.37798608999999994,0.44306601700000003,0.176081138,0.493186975,0.15610365300000006,-0.646621403,0.10344470900000002,0.914802956,0.6446621969999999,-0.37893141399999997,0.525371837,0.16933572000000002,0.398181637,0.555969045,0.5058026800000001,0.355992815,0.5272651589999999,0.330305533,0.417463907,0.27843519400000005,0.39265302499999993,0.0,0.401967689,0.4379402210000001,0.0,0.16784155800000006,0.07606876599999995,0.33718502400000006,0.5632552740000001,-0.309405941,0.5379928190000001,0.0,0.47530254800000005,0.4188839080000001,0.37814331599999995,-0.10989010999999999,0.206814539,-0.306184936,0.713429461,0.511223684,0.24378352100000006,-0.361271676,0.44769914600000005,0.0,1.067398597,0.502934624,0.22687741099999997,0.8361204009999998,0.307389647,0.0,0.40157416999999995,0.0,0.47064192700000007,0.582043944,0.39470071399999995,0.5004052059999999,0.24835465099999998,0.0,0.0,0.775870429,0.288190827,-0.16035920399999998,0.502512563,0.07013852400000004,0.19472679799999998,0.28765389499999994,0.32671730699999996,0.718230281,0.08794301300000001,0.611921833,0.432758886,0.230043708,0.5536797010000001,0.460532376,0.748297623,-0.710900474,0.356220501,0.565383215,-0.07438815700000001,0.5360601309999999,0.30080616099999996,0.0,0.0,0.43585645799999995,0.350370692,0.06225745499999996,0.9564148110000001,0.121285628,-0.081879964,0.563115908,0.25082773099999994,-0.27770063799999994,0.6108735489999999,-0.302388872,0.518457072,0.0,0.09026900199999999,0.46028956400000004,0.579619995,0.557847049,0.06575486600000002,0.27847396300000005,0.31775355699999996,0.429010494,0.20798668899999995,0.40975210000000006,0.093240094,0.100428495,0.314670927,0.711980255,0.708800754,0.36281179099999994,0.16210082599999998,0.159400653,0.282733888,0.263728535,0.081463077,0.528574094,0.5434191939999999,0.558269365,0.08478168800000002,-0.118567702,0.554649266,0.30906593400000004,-0.080064051,-0.23826542699999986,0.817716443,0.641642605,0.12764871000000003,0.247402277,0.627668879,0.09054690299999996,0.11342154999999998,0.18735363,0.465841654,0.526416159,0.595701573,0.514056496,0.182371852,0.24931438500000003,0.34475625800000004,-0.104036621,-0.190730498,0.906412871,0.560985975,-0.110180697,0.277418162,0.41876046899999997,0.555384141,0.603110326,0.34918910500000006,0.312630262,0.313749352,0.33126685899999997,0.341559218,0.37711453500000003,0.0,0.108589424,0.17740719400000002,0.242895312,0.599974738,0.3840245779999999,0.297324084,-0.25871547699999997,0.413572704,0.39810716199999996,0.8082880290000001,-0.14003640999999994,0.06597176500000002,0.47714476599999994,0.32814550900000006,0.4329941540000001,0.3524539609999999,0.331785003,0.244982568,0.37376602299999995,0.5714629449999999,0.20913939099999998,0.239477938,0.38166614600000004,0.0,0.5313528009999999,0.22168033699999995,0.08312667099999999,0.22818026199999997,0.479271507,0.535464206,0.38679539999999996,0.257433389,0.549775861,0.5885382180000001,0.399639113,0.19823079,-0.10020040100000005,0.938589434,0.505010233,0.745341615,0.110180696,0.227773138,0.260892251,0.163461015,0.42625746,0.453397241,0.8110300080000001,-0.268024659,0.213068182,0.497801378,0.22232103099999997,0.387510421,0.265969236,0.27763895800000005,0.5314400989999999,0.0,0.30835646000000005,0.7325560099999999,0.356252227,-0.378071834,-0.190985485,0.46934584900000004,0.21674734499999998,0.183879865,0.43363632900000004,0.13195223300000003,0.297088533,0.41572901700000003,0.369964672,0.984394753,0.551951785,0.350991551,0.54908959,0.39384910399999995,0.19084879999999999,-0.16460905399999998,0.539374326,0.728173013,0.0,0.40462895499999996,0.669127569,0.297696573,0.514289913,-0.15339776,0.0,0.6295679860000001,0.545235035,0.18521948500000002,0.5810397549999999,-0.727008361,0.24067026700000002,0.683604877,0.785477395,0.0,0.340049307,0.308031905,0.26301254599999996,0.340506674,0.24317094899999997,0.41135335300000003,0.301789179,0.473369579,0.26616273199999996,0.0,0.670741932,-2.136752137,0.326341709,0.0,0.559016132,0.422865991,0.0,0.0,0.510310155,0.0,0.324720509,0.701577238,0.6711662279999999,0.410298492,0.51082754,0.38172963099999996,0.6263166880000001,0.527107607,0.519745863,0.52079592,0.240442414,0.435287289,0.465027796,0.4844961240000001,0.462160601,0.373485758,0.0,0.661543525,0.25800903099999994,0.409039779,0.380724464,0.471698113,0.134300296,0.0,0.0,0.0,0.36078382900000006,0.113417262,0.17680339499999997,0.0,0.12130034,0.14942769099999997,0.549599578,0.225504567,0.608154803,0.5322546300000001,0.562800808,0.484216117,0.187073239,0.697517799,-1.079913607,0.40084485799999997,-0.265041082,0.5822159490000001,0.1836547300000001,0.05764851699999998,0.1293954,0.672463896,0.115767538,0.07491478500000001,0.136845706,0.506640055,0.693457943,0.50987479,-0.09453582900000002,0.14196479300000003,0.282383315,0.47876956200000004,-0.414021529,-0.672494956,1.4173381219999999,0.25103552100000004,0.597079738,0.43191569,0.696812998,0.531484106,0.677277345,0.254097319,0.264900663,0.444140759,0.525996465,0.802680254,-0.797448166,0.191717791,0.392014957,0.457043565,0.22946305700000003,0.0,0.27486875,0.5395128969999999,0.25940337199999997,0.378184713,0.0,-0.17067759,-0.36677058500000004,0.23672841299999997,0.0,0.54414034,0.49435296800000006,0.0,-0.633111744,0.6388143610000001,0.0,0.40908161199999993,0.202788339,0.62455389,0.0,0.659520933,0.462334987,0.47145083100000007,0.45982114500000004,0.20656889099999998,0.27490869100000004,0.35942779100000005,0.710140314,0.39011632099999993,0.25942580400000004,0.12777919699999998,0.10587612499999999,0.10587612499999999,-0.145579672,-0.145579672,0.251455797,0.251455797,0.0,0.0,0.620986454,0.34690603200000003,0.0,0.6286540220000001,0.327027571,0.49370105499999994,0.139372822,0.474052592,0.0,0.505162764,0.291834472,0.541887938,0.24843348899999998,0.7109531210000001,0.28122473400000003,-0.087719298,0.0,0.34364261199999996,0.24559464599999997,0.288606696,0.131044424,0.5154162310000001,0.249322155,0.149387511,0.546289538,-0.19413705999999997,0.39666798899999994,0.228850408,0.238303281,0.34646214900000005,0.28634150999999997,0.46414481300000004,0.527747568,0.0,-0.06252344599999998,-0.16458196200000003,0.194242648,-0.10897994800000002,0.5057145740000001,0.679152627,0.0,0.5316635160000001,0.350017501,0.516640117,-0.10847163500000001,0.5682563270000001,0.273418275,0.39280102800000005,0.504413619,0.016790074000000044,0.0,0.05255413000000002,0.8060615830000001,0.0,0.7757144119999999,0.175121125,0.485651214,0.368188512,0.376547722,0.664633249,0.39583804600000005,0.43356255899999996,0.7091055599999999,0.402854512,0.35362762999999997,0.753571723,0.657349475,0.327776737,0.09910311599999996,-0.090735868,-0.09092148900000002,0.47303689699999996,0.35491198200000007,0.24513809499999997,0.0,0.277649237,0.266217065,0.327892742,0.50494121,0.37636432100000006,0.415923946,1.224775458,0.8602150540000001,-0.08030193499999999,-0.052465896999999984,0.34337711400000004,0.19190174699999998,0.12832028799999998,0.660908292,0.177777778,2.2807707429999997,0.510204081,-0.31826861900000003,0.599161175,0.36842213,0.038345028999999975,0.40648904299999994,-1.485332343,0.761614623,0.48910385300000003,0.442014656,0.301850342,-0.066542454,0.079897731,-0.11826621799999998,0.36485328000000006,0.43047782999999995,0.4084001460000001,0.2155975,-1.406469761,0.6135378459999999,0.914913084,0.25577082900000003,0.42658950900000003,0.56963828,0.363187945,0.648774897,0.451030928,0.280962014,0.545771534,0.331301351,0.0,0.0,0.43300457,0.681560015,0.327558597,0.332216316,0.5322530569999999,0.377110153,0.0,0.489835895,-0.495417389,0.575632966,0.27158783799999997,0.480769231,0.709555346,0.833333333,0.188501414,0.6293530249999999,-0.362187613,0.642970159,-0.42408821,0.250575541,0.218059955,0.313393661,0.364061891,0.514607845,0.195185426,0.0,0.7001820480000001,0.12672665099999997,1.523616049,0.511294766,0.615700359,0.519614331,0.574181791,0.39463299099999993,0.41283792699999994,0.47196048999999995,0.23834114499999998,-0.15767896600000003,0.735645713,1.170275015,0.15887306,0.23892578900000006,1.250643714,0.29329813699999996,0.46461204899999997,-0.399840064,0.25380710700000003,0.6536470209999999,0.31991174899999997,0.37137900900000004,0.21174104100000002,-1.297016861,0.32843664199999995,0.49464138500000004,0.333581381,0.21100013999999995,0.585787884,0.610921531,0.544281865,0.332712271,0.137494844,0.542937291,0.0,0.470809793,0.34727694800000003,0.687568757,0.309255577,0.07265329799999998,0.196908536,0.38463651900000007,0.059347181,0.901088237,0.616233857,-0.29620853100000005,0.326317507,0.0,0.401418606,0.143864192,0.72341097,0.0,0.0,0.392387679,0.583975234,0.736668067,0.06233248099999997,0.75225677,0.46920821100000004,0.377643504,0.49292837300000003,0.102231195,0.309040849,0.6515588320000001,0.439207418,1.156260324,0.287907869,0.31816735599999996,0.36574215199999993,0.311356737,0.0,0.637094847,-0.420698359,0.407095086,0.207955795,0.401683244,0.440905107,0.561873946,0.21510002200000003,0.08914245000000004,0.6372381869999999,0.291460215,0.3574747979999999,0.180744668,0.0,0.311380975,0.11986096099999999,0.6445790899999999,0.42639377399999995,0.300493668,-0.302114804,0.604549233,0.638867964,0.0,0.332944897,0.30726214100000004,0.382764654,0.552059567,0.338712409,0.044700728999999995,0.5280528059999999,0.436961479,0.197102592,0.41181315500000004,-0.527565286,0.112049003,-0.654793085,0.627583931,0.634248649,0.41305245700000004,-0.209161264,0.35240738299999996,0.28215112000000003,0.545330606,0.530374702,0.713302675,0.45351473899999994,-0.08399832000000002,0.48293153999999994,0.13935340100000004,-0.995520159,0.422517709,0.130132084,0.189393939,-0.553709856,0.46398000200000006,0.492186538,0.20759330200000004,0.284181735,0.255844447,0.439560439,-0.336870473,0.403668336,0.07664744099999998,0.571812983,0.374999331,0.270676691,0.14808233299999998,0.08791981800000004,0.47168099799999996,0.369446754,0.5457451369999999,0.44139480799999997,1.02439933,0.144331385,0.713030213,0.7440476189999999,0.537678882,0.05851717399999999,0.246143748,0.6264682850000001,0.0,-0.5158361709999999,-0.194893783,-0.08560910900000002,-0.7996801280000001,0.34684587,0.0,-0.10992030800000002,0.9945300850000001,0.30836377400000003,0.485716342,0.5485870180000001,-1.443695861,0.521213385,0.394409249,0.46358895099999997,-0.10511930999999997,0.207856994,-0.7915567280000001,0.690246997,0.09164222899999996,0.6269030990000001,0.340924587,0.17005356699999996,0.174438888,0.394537842,0.122399021,0.38420490900000004,0.0,0.0,0.448653239,0.10184855200000001,0.275709953,0.35755148800000003,-0.506585613,0.20131863699999997,0.0,0.6015194909999999,-0.19481784500000005,0.284010224,0.37091988099999995,0.42020730199999995,0.5772201750000001,0.261147745,0.44160481099999993,0.30309153400000005,0.295828814,0.21819088600000003,0.19693568100000003,0.749079702,0.800032002,0.349283968,0.622193366,0.720762406,0.280112045,0.359582883,0.195236236,0.789977717,0.482975127,0.281901899,0.522558672,0.18019873400000003,-0.06080875699999999,0.271525157,0.582813478,0.0,0.45576962899999995,0.501403931,0.47763786399999997,-0.408052231,0.437409712,0.6277740460000001,0.269356238,0.711665872,-1.0251153249999998,0.187673599,0.283699432,0.201785804,0.15462522699999998,0.410958904,0.343053173,0.817616919,0.339597012,0.7682851879999999,0.068017956,0.33751476599999997,0.36662491199999997,0.178770062,0.0,-0.209467951,0.43575358099999995,0.367260405,0.7253209549999999,0.982545371,0.16729868399999998,0.0,-0.171870524,0.594530321,0.591727108,0.28815952499999997,0.127833645,0.310269935,0.750750751,0.09702144199999996,0.592287789,0.928201977,0.17795969199999995,0.45677633900000003,0.51137248,0.571891531,0.215814901,0.454545454,0.12667849000000003,-0.38409832899999996,0.296296296,0.640532923,0.21727322100000002,2.1786492379999998,0.24300492999999998,0.292141397,0.0,0.376670235,0.387075745,0.240434155,0.652247826,0.18016395000000007,0.0,0.452615915,0.26094898499999997,1.214806346,0.362132123,0.07927071,0.321522731,0.0,0.13884389400000002,0.352291854,0.0,1.0270693709999998,0.31751556299999995,0.546217444,0.20301820399999998,0.44075267000000007,0.26491469800000006,0.315678709,0.27279175,-0.24431956999999999,0.057229847,0.468481599,0.433811249,0.9990722900000001,0.5514109629999999,-1.394700139,0.05989458600000003,-0.18525379700000003,0.627132249,0.544596394,-0.11943150600000002,0.42630288799999994,0.544638357,0.627553609,0.460395401,0.434747605,0.3354579,0.23603461899999997,-0.123946455,0.26330713800000005,0.253053513,0.21533676200000001,-0.559701492,0.42600777500000003,0.0,0.532159357,0.519034722,0.355697834,0.49817030100000004,0.30533019299999997,0.08975854999999999,0.48669087600000005,-0.06979828300000002,0.4359292920000001,0.298770965,0.555395109,0.340947835,0.272565716,0.589376416,0.45555780500000004,0.422922394,0.339624472,0.32247662,0.0,0.420168067,0.214684414,0.480907954,0.66367713,0.487864374,0.31367628599999997,0.26441036500000004,0.28587764500000007,0.501002004,0.29877502199999995,0.522901906,0.391354085,0.33849129600000005,0.5899447200000001,0.14544567099999994,0.41450305200000004,0.500586335,0.861697544,0.21436227199999996,-0.247463499,0.58223485,0.591317408,0.570939195,0.05678591700000002,0.458554743,0.39941235899999994,-0.413736036,-0.31771246999999997,0.357551487,0.0,0.22009060399999997,0.6418798349999999,0.06521030299999997,0.674718305,-0.26469031300000007,0.05476451299999996,0.525624179,-0.489715964,0.04621926400000004,0.35728547200000005,0.37038027,0.627434185,0.627434185,0.740341876,0.740341876,0.46057664899999995,0.46057664899999995,0.57348434,0.57348434,0.627434185,0.627434185,0.740341876,0.740341876,0.46057664899999995,0.46057664899999995,0.57348434,0.57348434,-0.15130882199999998,0.552672787,0.583572859,0.24466028999999997,0.6052536020000001,0.44934563999999994,0.705783986,0.705783986,0.898607592,0.898607592,0.515894757,0.515894757,0.7087183629999999,0.7087183629999999,0.705783986,0.705783986,0.898607592,0.898607592,0.515894757,0.515894757,0.7087183629999999,0.7087183629999999,0.513028962,-0.108790253,-0.788954635,0.5436451760000001,0.469869612,0.352246247,0.514828251,0.464550487,1.47275405,0.455871626,0.7193320489999999,0.535207188,0.43051489600000004,0.0,0.24973243,-0.06861534199999997,0.0,0.14031805400000003,0.08671522799999998,0.249574891,0.537676633,0.23759418899999998,0.662032439,0.464756003,0.39372463500000004,0.60063893,0.0,0.333000333,0.13263102100000002,0.0,0.23320895499999997,0.479794124,0.477478912,0.561245966,-0.107135204,0.67420919,0.35682761500000004,0.49965764200000007,0.0,0.24161884700000003,0.37772559799999994,0.855431993,0.505816895,0.6236170089999999,0.265851389,0.826787929,-0.30039050700000003,0.486787205,0.364050057,0.36306426199999997,0.822977533,-1.283697047,0.36147689099999997,0.44106296200000006,0.067349138,0.275501067,0.29134497300000006,0.547632453,0.530070455,0.0,0.170222424,0.20560619500000002,0.46972509900000003,0.09596008,0.250535519,0.5019292909999999,-0.447227191,0.47138682,0.625109883,0.0,0.7716799360000001,0.16118633200000002,0.188881193,0.58914779,0.087912088,0.197567102,0.145433392,-0.501253133,0.506338539,0.324605064,0.30479286699999997,0.375735816,0.38190613600000006,0.18383479400000002,0.0,0.6775833019999999,0.198747889,0.666777796,-0.569151964,0.44238146500000003,-1.430615165,0.14222222299999998,0.0,0.31617776200000003,0.32975132799999995,0.738007381,0.16840687100000007,0.433134813,0.493242577,-0.859254167,-0.475228704,-0.129676458,0.55285272,0.448851349,0.37174721099999997,0.733675715,0.242943394,0.485407469,0.36225759,0.57219657,0.17585337699999998,0.522310576,0.11995441700000004,0.41322314099999996,0.32428926599999996,0.20486205899999999,0.41620421799999996,0.06418073299999999,0.21123785300000003,0.591655616,0.0,0.260179524,0.19875447200000002,0.091436095,0.386069004,0.3682563059999999,-0.653167864,0.5321625759999999,0.18820341,0.5495113410000001,0.387914314,0.445408893,0.356515158,-0.1303611,0.614953845,0.29154518900000004,-0.242424242,0.16498927500000002,0.0,0.18278497900000001,0.2528445,0.0,-0.114744693,0.432525951,0.27647221399999994,0.586219336,0.796812749,0.27770063899999997,0.335668202,0.43238293899999997,0.723918296,0.6884879079999999,0.5674914,0.45668516800000003,0.60147361,0.32199205699999994,0.136190303,0.5089675229999999,0.372008766,-0.14679976500000003,0.175438596,-0.15815277500000002,0.561245966,0.7137512229999999,0.0,0.907251029,0.405153553,0.37010764,0.616476941,-1.063829787,0.270684871,0.333234597,0.43366477699999995,0.527983105,0.349874629,0.521858766,0.0,0.403747729,0.45947670699999993,0.45957746,0.198978577,0.28730678600000004,0.14234875399999997,0.261831511,0.46070026399999997,0.113231048,-0.24040387900000001,0.311162971,0.23571933699999997,-0.127210278,0.08405480399999998,-0.628140704,-0.073800738,0.172413793,0.82164982,0.462557613,0.906070673,0.0,0.43486282,-0.14390559800000002,0.729086723,0.661823323,0.19934614399999998,0.661190888,0.545241406,0.289414659,0.616548495,0.7862701209999999,0.417473149,-0.683682771,-0.151664518,0.447299935,0.8054772449999998,0.523091471,0.462320851,0.7934086370000001,0.295159386,0.6746736849999999,0.442234964,0.145740727,0.4375649509999999,0.558809066,0.556389808,0.5037867979999999,0.377425253,0.0,0.17494139400000003,0.266051791,0.501002004,0.13184495000000002,0.34979231099999997,0.37700440599999996,0.53776662,0.48529093700000003,0.112892301,0.593773857,0.43023474700000003,0.43159257700000003,0.28247862100000004,-0.10716964999999995,0.24839577699999998,0.8347245409999999,-1.219512195,0.261355914,0.12987856400000003,0.030947296999999985,0.0,0.050930760000000075,0.5592841159999999,0.6293046179999999,-0.34965035,0.538465226,0.622858922,0.46954480299999996,0.541669891,0.716650173,0.580504343,0.418778497,0.35394933,0.0,0.545256271,0.309581549,0.41133643200000003,0.49967729200000005,0.791018893,0.44500287899999996,0.47768527399999994,0.580930942,0.07060651000000001,0.27654172,0.0,0.426311484,0.390563974,0.5320960330000001,0.240084715,0.06309944500000003,0.75147974,0.14452955699999998,0.46184205,0.638464933,0.319284802,-0.5547337269999999,0.5888191650000001,0.6854401090000001,0.24015369800000003,-0.138811771,-0.158027813,0.22230867499999996,0.5935221289999999,0.385022648,0.335536066,0.5545035709999999,0.431393092,0.259717774,0.060492408000000025,-0.40600893300000007,0.582819494,0.288783437,0.415933451,0.19266997799999996,-0.797766254,0.18489756699999998,0.179404377,0.280245495,-0.262881178,0.37313432900000004,0.30886440899999995,0.33289686900000004,0.352385651,-0.843881857,0.442477876,0.580802056,-0.456412597,0.481260917,0.19862288199999997,-0.06387327600000003,0.594252727,0.603830007,0.680518512,0.441037488,0.34596945599999995,0.452079566,0.291630213,0.45113398699999996,-0.07048209800000005,0.710025561,0.0,0.08552125199999994,0.32799790100000004,0.25900025899999995,-0.5804953559999999,0.6674427629999999,0.673662012,0.433310765,0.0,-0.18400618200000002,0.07395902599999998,-0.453463326,0.260991292,0.0,0.41194644700000005,0.476364969,0.76558687,0.49890324899999994,0.145391102,0.528785776,0.590555122,0.5093580600000001,0.10091835699999999,0.758114191,0.5435077789999999,0.218642956,0.25142684699999995,0.0,0.334517009,0.479149727,0.130259216,0.574386125,0.589151202,0.419588377,0.623887543,0.17461148999999998,0.409780084,0.22584343899999998,0.281004122,0.53686471,0.313823945,-0.706214689,0.163305299,0.364072894,0.57633391,0.0,0.403257424,0.11653653399999997,0.07449344400000002,0.420900728,-0.26881720500000006,-0.417130145,0.48467971499999996,-0.36297640600000003,0.45402158400000003,0.0,0.22688599,0.814627082,0.491262545,-0.21610719,1.1652748110000002,0.48500827,0.35932447000000006,0.46536983600000004,0.3010687940000001,0.255493102,0.0,0.254000508,0.642310895,0.09504348200000001,0.41694463000000004,0.405844156,0.185133759,0.318754509,0.59159929,0.653364829,0.636661147,0.521636315,0.314058747,0.479075666,0.045124318,0.664010624,0.107278871,-0.12091898500000002,0.748502994,0.683133019,0.22209883400000002,0.557389702,0.27176867000000005,-1.227621483,0.0,0.282685513,0.34627128799999995,0.544860153,0.3160556259999999,0.300228173,0.609239639,0.0,0.774293458,0.0,0.517629659,0.13479814,-0.07859163699999999,0.629855133,0.18998765099999998,0.0,-0.442673749,0.28123462,0.432931669,0.320454129,0.571141058,-0.877963126,0.0,0.7869471699999999,0.6118738490000001,0.322611866,0.377954457,0.624008031,0.374231489,0.607533415,0.07359976499999998,0.08397010699999996,0.550458695,-0.570993529,0.179436569,-0.603500302,0.270188119,-0.20712510400000006,0.370107331,-0.058099001,0.099770528,0.685483066,0.41309880200000004,-0.195140989,0.37766387900000004,-0.306795521,0.39081358199999994,0.532141337,0.45747149000000004,0.16381358,0.272182906,0.192733931,0.424763725,0.3625596710000001,0.168159079,0.6326611310000001,0.668910526,0.306412782,0.35354428099999996,0.6854792639999999,0.153721994,0.41933744600000006,0.565473787,0.536693965,0.6086108619999999,0.35941056599999993,-0.37000493300000004,-0.918695453,0.0,0.6280996059999999,-0.280321435,0.388953714,0.12526618999999994,0.170741702,-2.912621359,-0.6671114069999999,0.28960324300000007,0.466934186,-0.043148083999999975,0.106416941,0.614543164,0.12485953300000002,0.526119276,1.0329793859999998,0.33930654200000004,0.38084005899999995,0.04094165799999999,0.30715225999999995,0.039291187000000005,0.5927375699999999,0.626546787,0.294857682,0.27775403800000004,0.09538344099999999,0.21740705800000001,0.69368582,0.586281024,0.30969340300000003,0.48714825900000003,0.268795953,0.33875855699999996,0.096475431,0.62531788,0.298223998,0.15453561999999998,0.37698506200000004,0.251920897,0.06999370099999996,0.0,0.44393145700000003,0.463589667,-3.048780488,0.290613194,0.24110910200000008,0.440712563,0.393356089,0.529208483,0.707046901,-0.4395604390000001,0.29913251499999993,0.8353128500000001,0.10692899899999997,0.47996160299999996,0.47709923699999995,0.0,0.649049606,0.7241129609999999,0.114711786,0.516228948,0.452693527,1.183304647,0.490998363,0.665921312,0.47366311600000005,0.5869306000000001,-0.18917896300000003,0.59598333,0.37878835499999997,0.0,0.080350327,0.475322824,0.21070375000000002,-0.77871512,-0.269541779,0.0,0.461263863,1.5210410680000002,0.277611798,0.159931762,0.469310181,0.5903029329999999,0.67294751,0.507000546,0.114351058,0.49193231000000004,0.0,0.7315408939999999,0.435536881,-0.550055006,0.17512521499999997,0.622905111,0.08064516099999999,0.088542589,0.549688686,0.436808387,0.26063725800000004,0.20155194999999998,-0.31719179599999997,0.103605471,0.266447588,0.539083558,0.16462531299999997,-0.089847259,0.21934634799999997,0.5199532039999999,0.521612129,0.6028322159999999,0.286026039,0.34777232500000005,0.0,0.42992261400000004,0.493602157,0.13987970299999997,0.648785973,0.246624312,0.057501005999999966,-0.34435261699999997,-0.361663653,-0.351123595,0.07674597099999997,0.0,0.17690348199999997,0.8155498160000001,0.583451847,-0.289939113,0.579725421,0.077255872,-0.094144229,0.113636363,0.0,0.33897347499999997,0.149276012,0.17376194599999994,0.44007628,-0.09587727699999998,0.45790341300000004,0.351592715,0.731935824,0.08085054800000002,0.21101498200000002,0.23127993000000002,0.5103082259999999,0.283647709,0.41445623299999995,0.462076704,0.541012943,0.7204139110000001,-0.48262548199999994,0.081650427,0.38027633399999994,0.536118289,0.438280688,-0.736377025,0.21101498199999996,0.541523227,0.679317788,0.593031875,0.500751127,-0.301568154,0.361572116,0.13617484800000001,0.256504214,0.38522449999999997,0.37239440300000004,0.5999700020000001,0.0,0.17758834999999995,0.46645676100000005,0.3171280879999999,0.24964114100000007,0.24075500700000002,0.322580645,0.692011084,0.620364237,0.15792798500000005,0.47430552299999995,0.29695280700000004,0.09487666,-0.34435261699999997,0.45382346300000004,0.295812041,0.26991767499999997,0.411419168,0.688960729,0.35944349699999995,0.437917847,0.07785130400000001,0.12534469799999998,-0.721500722,0.149120191,-0.40744261900000006,0.5023067889999999,0.273541681,0.383979699,0.14370293799999997,0.253619359,0.23389624399999998,0.777698669,-0.18726591800000003,0.570494976,0.39998769200000006,0.785731969,0.35375967899999994,0.098706939,0.336686166,0.37042118200000007,0.832627717,0.149120191,0.352064689,0.295229097,0.245355766,0.22956841100000003,0.395647873,0.667762627,0.0,0.399275979,0.5066426479999999,0.623392044,0.23839322899999998,0.29931158300000005,0.574988021,0.0,1.3502362909999999,0.15718327599999998,0.45168973,0.626852063,1.355748373,-1.010509297,0.21861905600000003,0.18208303000000003,0.33561974299999997,0.29301882599999995,0.23753237800000002,0.263372751,0.0,0.30461105,0.0,0.167140231,-0.21750163099999997,0.34567901300000003,0.47829726100000003,0.7156637260000001,0.41494923800000005,-0.17281106000000007,0.601103347,0.767852572,0.15200508500000004,-0.472478148,0.370935169,-0.023371038999999982,0.35876627400000005,0.22223456800000002,0.20510015799999998,0.6199823680000001,0.11956001899999999,0.38569995900000004,0.0,0.0,0.117647059,0.581216345,0.11627907000000004,0.16270215799999993,-0.155908949,0.19169574099999998,0.48288318399999997,0.44066524199999996,0.0,0.38975834899999995,0.38659482500000003,0.634236822,0.238185309,0.246528063,0.155577452,-0.81642174,0.570879934,0.497715035,1.039625735,0.4850223,-0.806885422,0.251445813,0.46922197100000007,0.34131281300000005,0.58297707,0.149510354,0.235932523,0.502411576,-0.45276184699999994,0.546664186,0.42885518300000003,0.11259993299999999,0.573862758,0.17564109,0.5920429429999999,0.356503415,0.373412995,0.275552011,0.23776500900000003,0.496431896,0.559744017,0.0,-0.07745333400000001,0.502381755,0.634719137,0.5669737770000001,0.60664785,0.48001689599999997,0.360971736,0.365070094,0.44717719399999994,0.0,0.07645259900000001,0.486130101,0.783921968,-0.11804981700000003,0.35571365,0.574657137,0.5926435729999999,0.37087075100000005,0.33008747299999996,0.5616094039999999,0.5484544250000001,0.662725379,0.22047475500000002,0.261377167,0.104843783,0.22626994,-0.777000777,0.19804594599999997,0.614226429,0.692670678,-0.17102787700000002,0.420791088,0.3990359299999999,0.283025543,0.23062730699999998,0.73721071,-0.166583375,0.5252675579999999,0.624146675,-0.08899172300000002,0.339368774,0.467172052,0.374784498,0.471823931,0.0,0.797766254,0.237901033,0.431362598,0.568833043,0.459084649,0.13505300900000003,0.6310917890000001,0.2179789,-0.13360945899999999,0.383963862,0.26487727299999997,0.34129692899999997,0.590943351,0.509646887,0.195427008,0.78674565,0.13317352500000001,-0.929656027,0.0,0.489499635,0.576856874,0.48816710499999993,0.5938947619999999,0.47955880599999995,0.383847689,0.727510483,0.474364549,-0.424448217,0.396553202,0.276077854,0.552042545,-1.473839352,0.5278666299999999,0.620588007,0.381854284],\"coloraxis\":\"coloraxis\",\"symbol\":\"circle\"},\"mode\":\"markers\",\"name\":\"\",\"showlegend\":false,\"type\":\"scattergeo\"}],                        {\"template\":{\"data\":{\"histogram2dcontour\":[{\"type\":\"histogram2dcontour\",\"colorbar\":{\"outlinewidth\":0,\"ticks\":\"\"},\"colorscale\":[[0.0,\"#0d0887\"],[0.1111111111111111,\"#46039f\"],[0.2222222222222222,\"#7201a8\"],[0.3333333333333333,\"#9c179e\"],[0.4444444444444444,\"#bd3786\"],[0.5555555555555556,\"#d8576b\"],[0.6666666666666666,\"#ed7953\"],[0.7777777777777778,\"#fb9f3a\"],[0.8888888888888888,\"#fdca26\"],[1.0,\"#f0f921\"]]}],\"choropleth\":[{\"type\":\"choropleth\",\"colorbar\":{\"outlinewidth\":0,\"ticks\":\"\"}}],\"histogram2d\":[{\"type\":\"histogram2d\",\"colorbar\":{\"outlinewidth\":0,\"ticks\":\"\"},\"colorscale\":[[0.0,\"#0d0887\"],[0.1111111111111111,\"#46039f\"],[0.2222222222222222,\"#7201a8\"],[0.3333333333333333,\"#9c179e\"],[0.4444444444444444,\"#bd3786\"],[0.5555555555555556,\"#d8576b\"],[0.6666666666666666,\"#ed7953\"],[0.7777777777777778,\"#fb9f3a\"],[0.8888888888888888,\"#fdca26\"],[1.0,\"#f0f921\"]]}],\"heatmap\":[{\"type\":\"heatmap\",\"colorbar\":{\"outlinewidth\":0,\"ticks\":\"\"},\"colorscale\":[[0.0,\"#0d0887\"],[0.1111111111111111,\"#46039f\"],[0.2222222222222222,\"#7201a8\"],[0.3333333333333333,\"#9c179e\"],[0.4444444444444444,\"#bd3786\"],[0.5555555555555556,\"#d8576b\"],[0.6666666666666666,\"#ed7953\"],[0.7777777777777778,\"#fb9f3a\"],[0.8888888888888888,\"#fdca26\"],[1.0,\"#f0f921\"]]}],\"heatmapgl\":[{\"type\":\"heatmapgl\",\"colorbar\":{\"outlinewidth\":0,\"ticks\":\"\"},\"colorscale\":[[0.0,\"#0d0887\"],[0.1111111111111111,\"#46039f\"],[0.2222222222222222,\"#7201a8\"],[0.3333333333333333,\"#9c179e\"],[0.4444444444444444,\"#bd3786\"],[0.5555555555555556,\"#d8576b\"],[0.6666666666666666,\"#ed7953\"],[0.7777777777777778,\"#fb9f3a\"],[0.8888888888888888,\"#fdca26\"],[1.0,\"#f0f921\"]]}],\"contourcarpet\":[{\"type\":\"contourcarpet\",\"colorbar\":{\"outlinewidth\":0,\"ticks\":\"\"}}],\"contour\":[{\"type\":\"contour\",\"colorbar\":{\"outlinewidth\":0,\"ticks\":\"\"},\"colorscale\":[[0.0,\"#0d0887\"],[0.1111111111111111,\"#46039f\"],[0.2222222222222222,\"#7201a8\"],[0.3333333333333333,\"#9c179e\"],[0.4444444444444444,\"#bd3786\"],[0.5555555555555556,\"#d8576b\"],[0.6666666666666666,\"#ed7953\"],[0.7777777777777778,\"#fb9f3a\"],[0.8888888888888888,\"#fdca26\"],[1.0,\"#f0f921\"]]}],\"surface\":[{\"type\":\"surface\",\"colorbar\":{\"outlinewidth\":0,\"ticks\":\"\"},\"colorscale\":[[0.0,\"#0d0887\"],[0.1111111111111111,\"#46039f\"],[0.2222222222222222,\"#7201a8\"],[0.3333333333333333,\"#9c179e\"],[0.4444444444444444,\"#bd3786\"],[0.5555555555555556,\"#d8576b\"],[0.6666666666666666,\"#ed7953\"],[0.7777777777777778,\"#fb9f3a\"],[0.8888888888888888,\"#fdca26\"],[1.0,\"#f0f921\"]]}],\"mesh3d\":[{\"type\":\"mesh3d\",\"colorbar\":{\"outlinewidth\":0,\"ticks\":\"\"}}],\"scatter\":[{\"fillpattern\":{\"fillmode\":\"overlay\",\"size\":10,\"solidity\":0.2},\"type\":\"scatter\"}],\"parcoords\":[{\"type\":\"parcoords\",\"line\":{\"colorbar\":{\"outlinewidth\":0,\"ticks\":\"\"}}}],\"scatterpolargl\":[{\"type\":\"scatterpolargl\",\"marker\":{\"colorbar\":{\"outlinewidth\":0,\"ticks\":\"\"}}}],\"bar\":[{\"error_x\":{\"color\":\"#2a3f5f\"},\"error_y\":{\"color\":\"#2a3f5f\"},\"marker\":{\"line\":{\"color\":\"#E5ECF6\",\"width\":0.5},\"pattern\":{\"fillmode\":\"overlay\",\"size\":10,\"solidity\":0.2}},\"type\":\"bar\"}],\"scattergeo\":[{\"type\":\"scattergeo\",\"marker\":{\"colorbar\":{\"outlinewidth\":0,\"ticks\":\"\"}}}],\"scatterpolar\":[{\"type\":\"scatterpolar\",\"marker\":{\"colorbar\":{\"outlinewidth\":0,\"ticks\":\"\"}}}],\"histogram\":[{\"marker\":{\"pattern\":{\"fillmode\":\"overlay\",\"size\":10,\"solidity\":0.2}},\"type\":\"histogram\"}],\"scattergl\":[{\"type\":\"scattergl\",\"marker\":{\"colorbar\":{\"outlinewidth\":0,\"ticks\":\"\"}}}],\"scatter3d\":[{\"type\":\"scatter3d\",\"line\":{\"colorbar\":{\"outlinewidth\":0,\"ticks\":\"\"}},\"marker\":{\"colorbar\":{\"outlinewidth\":0,\"ticks\":\"\"}}}],\"scattermapbox\":[{\"type\":\"scattermapbox\",\"marker\":{\"colorbar\":{\"outlinewidth\":0,\"ticks\":\"\"}}}],\"scatterternary\":[{\"type\":\"scatterternary\",\"marker\":{\"colorbar\":{\"outlinewidth\":0,\"ticks\":\"\"}}}],\"scattercarpet\":[{\"type\":\"scattercarpet\",\"marker\":{\"colorbar\":{\"outlinewidth\":0,\"ticks\":\"\"}}}],\"carpet\":[{\"aaxis\":{\"endlinecolor\":\"#2a3f5f\",\"gridcolor\":\"white\",\"linecolor\":\"white\",\"minorgridcolor\":\"white\",\"startlinecolor\":\"#2a3f5f\"},\"baxis\":{\"endlinecolor\":\"#2a3f5f\",\"gridcolor\":\"white\",\"linecolor\":\"white\",\"minorgridcolor\":\"white\",\"startlinecolor\":\"#2a3f5f\"},\"type\":\"carpet\"}],\"table\":[{\"cells\":{\"fill\":{\"color\":\"#EBF0F8\"},\"line\":{\"color\":\"white\"}},\"header\":{\"fill\":{\"color\":\"#C8D4E3\"},\"line\":{\"color\":\"white\"}},\"type\":\"table\"}],\"barpolar\":[{\"marker\":{\"line\":{\"color\":\"#E5ECF6\",\"width\":0.5},\"pattern\":{\"fillmode\":\"overlay\",\"size\":10,\"solidity\":0.2}},\"type\":\"barpolar\"}],\"pie\":[{\"automargin\":true,\"type\":\"pie\"}]},\"layout\":{\"autotypenumbers\":\"strict\",\"colorway\":[\"#636efa\",\"#EF553B\",\"#00cc96\",\"#ab63fa\",\"#FFA15A\",\"#19d3f3\",\"#FF6692\",\"#B6E880\",\"#FF97FF\",\"#FECB52\"],\"font\":{\"color\":\"#2a3f5f\"},\"hovermode\":\"closest\",\"hoverlabel\":{\"align\":\"left\"},\"paper_bgcolor\":\"white\",\"plot_bgcolor\":\"#E5ECF6\",\"polar\":{\"bgcolor\":\"#E5ECF6\",\"angularaxis\":{\"gridcolor\":\"white\",\"linecolor\":\"white\",\"ticks\":\"\"},\"radialaxis\":{\"gridcolor\":\"white\",\"linecolor\":\"white\",\"ticks\":\"\"}},\"ternary\":{\"bgcolor\":\"#E5ECF6\",\"aaxis\":{\"gridcolor\":\"white\",\"linecolor\":\"white\",\"ticks\":\"\"},\"baxis\":{\"gridcolor\":\"white\",\"linecolor\":\"white\",\"ticks\":\"\"},\"caxis\":{\"gridcolor\":\"white\",\"linecolor\":\"white\",\"ticks\":\"\"}},\"coloraxis\":{\"colorbar\":{\"outlinewidth\":0,\"ticks\":\"\"}},\"colorscale\":{\"sequential\":[[0.0,\"#0d0887\"],[0.1111111111111111,\"#46039f\"],[0.2222222222222222,\"#7201a8\"],[0.3333333333333333,\"#9c179e\"],[0.4444444444444444,\"#bd3786\"],[0.5555555555555556,\"#d8576b\"],[0.6666666666666666,\"#ed7953\"],[0.7777777777777778,\"#fb9f3a\"],[0.8888888888888888,\"#fdca26\"],[1.0,\"#f0f921\"]],\"sequentialminus\":[[0.0,\"#0d0887\"],[0.1111111111111111,\"#46039f\"],[0.2222222222222222,\"#7201a8\"],[0.3333333333333333,\"#9c179e\"],[0.4444444444444444,\"#bd3786\"],[0.5555555555555556,\"#d8576b\"],[0.6666666666666666,\"#ed7953\"],[0.7777777777777778,\"#fb9f3a\"],[0.8888888888888888,\"#fdca26\"],[1.0,\"#f0f921\"]],\"diverging\":[[0,\"#8e0152\"],[0.1,\"#c51b7d\"],[0.2,\"#de77ae\"],[0.3,\"#f1b6da\"],[0.4,\"#fde0ef\"],[0.5,\"#f7f7f7\"],[0.6,\"#e6f5d0\"],[0.7,\"#b8e186\"],[0.8,\"#7fbc41\"],[0.9,\"#4d9221\"],[1,\"#276419\"]]},\"xaxis\":{\"gridcolor\":\"white\",\"linecolor\":\"white\",\"ticks\":\"\",\"title\":{\"standoff\":15},\"zerolinecolor\":\"white\",\"automargin\":true,\"zerolinewidth\":2},\"yaxis\":{\"gridcolor\":\"white\",\"linecolor\":\"white\",\"ticks\":\"\",\"title\":{\"standoff\":15},\"zerolinecolor\":\"white\",\"automargin\":true,\"zerolinewidth\":2},\"scene\":{\"xaxis\":{\"backgroundcolor\":\"#E5ECF6\",\"gridcolor\":\"white\",\"linecolor\":\"white\",\"showbackground\":true,\"ticks\":\"\",\"zerolinecolor\":\"white\",\"gridwidth\":2},\"yaxis\":{\"backgroundcolor\":\"#E5ECF6\",\"gridcolor\":\"white\",\"linecolor\":\"white\",\"showbackground\":true,\"ticks\":\"\",\"zerolinecolor\":\"white\",\"gridwidth\":2},\"zaxis\":{\"backgroundcolor\":\"#E5ECF6\",\"gridcolor\":\"white\",\"linecolor\":\"white\",\"showbackground\":true,\"ticks\":\"\",\"zerolinecolor\":\"white\",\"gridwidth\":2}},\"shapedefaults\":{\"line\":{\"color\":\"#2a3f5f\"}},\"annotationdefaults\":{\"arrowcolor\":\"#2a3f5f\",\"arrowhead\":0,\"arrowwidth\":1},\"geo\":{\"bgcolor\":\"white\",\"landcolor\":\"#E5ECF6\",\"subunitcolor\":\"white\",\"showland\":true,\"showlakes\":true,\"lakecolor\":\"white\"},\"title\":{\"x\":0.05},\"mapbox\":{\"style\":\"light\"}}},\"geo\":{\"domain\":{\"x\":[0.0,1.0],\"y\":[0.0,1.0]},\"projection\":{\"type\":\"albers usa\"},\"center\":{},\"scope\":\"usa\"},\"coloraxis\":{\"colorbar\":{\"title\":{\"text\":\"dif\"}},\"colorscale\":[[0.0,\"#440154\"],[0.1111111111111111,\"#482878\"],[0.2222222222222222,\"#3e4989\"],[0.3333333333333333,\"#31688e\"],[0.4444444444444444,\"#26828e\"],[0.5555555555555556,\"#1f9e89\"],[0.6666666666666666,\"#35b779\"],[0.7777777777777778,\"#6ece58\"],[0.8888888888888888,\"#b5de2b\"],[1.0,\"#fde725\"]],\"cmin\":-1,\"cmax\":1},\"legend\":{\"tracegroupgap\":0},\"title\":{\"text\":\"Difference between grocery and fast food access\"}},                        {\"responsive\": true}                    ).then(function(){\n",
       "                            \n",
       "var gd = document.getElementById('2af8c17c-8703-417f-ac25-b3db7dfed7c1');\n",
       "var x = new MutationObserver(function (mutations, observer) {{\n",
       "        var display = window.getComputedStyle(gd).display;\n",
       "        if (!display || display === 'none') {{\n",
       "            console.log([gd, 'removed!']);\n",
       "            Plotly.purge(gd);\n",
       "            observer.disconnect();\n",
       "        }}\n",
       "}});\n",
       "\n",
       "// Listen for the removal of the full notebook cells\n",
       "var notebookContainer = gd.closest('#notebook-container');\n",
       "if (notebookContainer) {{\n",
       "    x.observe(notebookContainer, {childList: true});\n",
       "}}\n",
       "\n",
       "// Listen for the clearing of the current output cell\n",
       "var outputEl = gd.closest('.output');\n",
       "if (outputEl) {{\n",
       "    x.observe(outputEl, {childList: true});\n",
       "}}\n",
       "\n",
       "                        })                };                });            </script>        </div>"
      ]
     },
     "metadata": {},
     "output_type": "display_data"
    }
   ],
   "source": [
    "us_counties = pd.read_csv('data/us-county-boundaries.csv')\n",
    "us_counties.rename(columns={'NAME': 'County', 'STUSAB': 'State'}, inplace=True)\n",
    "merged_data = pd.merge(us_counties, d_merged, on=['County', 'State'])\n",
    "Q1 = merged_data['dif'].quantile(0.25)\n",
    "Q3 = merged_data['dif'].quantile(0.75)\n",
    "IQR = Q3 - Q1\n",
    "\n",
    "# Define the lower and upper bounds for outliers\n",
    "lower_bound = Q1 - (1.5 * IQR)\n",
    "upper_bound = Q3 + (1.5 * IQR)\n",
    "\n",
    "# Filter the data to remove outliers based on the IQR\n",
    "filtered_data = merged_data[(merged_data['dif'] >= lower_bound) & (merged_data['dif'] <= upper_bound)]\n",
    "merged_data[['Latitude', 'Longitude']] = merged_data['Geo Point'].str.split(', ', expand=True).astype(float)\n",
    "\n",
    "# print(merged_data.shape)\n",
    "# # merged_data[['Latitude', 'Longitude']] = merged_data['Geo Point'].str.split(', ', expand=True).astype(float)\n",
    "# print(merged_data.head())\n",
    "# # Plotting the chloropleth map\n",
    "# merged_data['dif'] = np.log(merged_data['dif']);\n",
    "color_scale = px.colors.sequential.Viridis  # Example: Using the 'Viridis' color scale\n",
    "\n",
    "# Update the range of the color scale to set smaller bounds\n",
    "fig = px.scatter_geo(\n",
    "    merged_data,\n",
    "    color='dif',\n",
    "    lat='Latitude',\n",
    "    lon='Longitude',\n",
    "    hover_name='County',\n",
    "    hover_data={'State': True},\n",
    "    title='Difference between grocery and fast food access',\n",
    "    color_continuous_scale=color_scale,\n",
    "    range_color=(-1, 1),  # Set your desired smaller bounds here\n",
    "    scope='usa',  # Set the map scope to USA\n",
    "    projection='albers usa'\n",
    ")\n",
    "fig.show()\n"
   ]
  },
  {
   "cell_type": "markdown",
   "id": "b2839500",
   "metadata": {},
   "source": [
    "## Evaluation of Significance"
   ]
  },
  {
   "cell_type": "code",
   "execution_count": 29,
   "id": "30aadceb",
   "metadata": {},
   "outputs": [
    {
     "name": "stdout",
     "output_type": "stream",
     "text": [
      "                            OLS Regression Results                            \n",
      "==============================================================================\n",
      "Dep. Variable:                      y   R-squared:                       0.092\n",
      "Model:                            OLS   Adj. R-squared:                  0.091\n",
      "Method:                 Least Squares   F-statistic:                     64.48\n",
      "Date:                Mon, 04 Dec 2023   Prob (F-statistic):           2.83e-64\n",
      "Time:                        18:55:32   Log-Likelihood:                -1366.0\n",
      "No. Observations:                3184   AIC:                             2744.\n",
      "Df Residuals:                    3178   BIC:                             2780.\n",
      "Df Model:                           5                                         \n",
      "Covariance Type:            nonrobust                                         \n",
      "====================================================================================\n",
      "                       coef    std err          t      P>|t|      [0.025      0.975]\n",
      "------------------------------------------------------------------------------------\n",
      "const                0.0468      0.025      1.861      0.063      -0.003       0.096\n",
      "Metro                0.1516      0.015      9.963      0.000       0.122       0.181\n",
      "Above_US_Median      0.2349      0.040      5.827      0.000       0.156       0.314\n",
      "Region_Midwest      -0.0633      0.014     -4.577      0.000      -0.090      -0.036\n",
      "Region_Northeast     0.0343      0.022      1.553      0.121      -0.009       0.078\n",
      "Region_South         0.0860      0.011      8.101      0.000       0.065       0.107\n",
      "Region_West         -0.0103      0.016     -0.625      0.532      -0.043       0.022\n",
      "==============================================================================\n",
      "Omnibus:                      862.784   Durbin-Watson:                   1.695\n",
      "Prob(Omnibus):                  0.000   Jarque-Bera (JB):            81471.334\n",
      "Skew:                           0.074   Prob(JB):                         0.00\n",
      "Kurtosis:                      27.781   Cond. No.                     1.59e+15\n",
      "==============================================================================\n",
      "\n",
      "Notes:\n",
      "[1] Standard Errors assume that the covariance matrix of the errors is correctly specified.\n",
      "[2] The smallest eigenvalue is 2.7e-27. This might indicate that there are\n",
      "strong multicollinearity problems or that the design matrix is singular.\n"
     ]
    }
   ],
   "source": [
    "X = sm.add_constant(X)\n",
    "OLS_model = sm.OLS(Y,X)\n",
    "results = OLS_model.fit()\n",
    "print(results.summary())"
   ]
  },
  {
   "cell_type": "markdown",
   "id": "198bc73f",
   "metadata": {},
   "source": [
    "## Interpretation and Conclusions\n",
    "\n",
    "The preliminary data analysis shoes a small correlation B for each variable in the prediction of the difference between amount of fast food and groceries in different counties. For each unit increase in being in a metropolitan area the difference between fast food and combined grocery stores increases by approximately 5.07 units (more fast food). Moreover, for each unit increase in median household income in 2015, the difference between fast food and combined grocery stores increases by approximately 0.00026 units. However, this data has not been adjusted for regional price parities, I feel if we delve deeper and create a function that demonstrates an adjusted rate of median income we could find more information. Moreover, this shows there are very obvious regional differences in the difference between the amount of fast food and grocery stores. With the midwest and west having a smaller difference or more grocery store. "
   ]
  },
  {
   "cell_type": "markdown",
   "id": "2c948f0c",
   "metadata": {},
   "source": [
    "## 8. Limitations"
   ]
  },
  {
   "cell_type": "markdown",
   "id": "033c209b",
   "metadata": {},
   "source": [
    "- One limitation is the missing data from our data set. The missing data was in the poverty rate, median household income, and child poverty rate columns. There are four counties in the dataset with missing data in these columns. We imputed NaN in for those values. Because there are only four, we do not expect them to have a large impact on our data, and we will likely exclude those counties from analysis using those indicators. \n",
    "\n",
    "\n",
    "- Another limitation is that the different categories of data are from a few different years. For the stores and restaurants data, we have data from 2011 and 2016. For the racial demographics, we have data from 2010. For the poverty rate and income data, it is from 2015. Thus we are comparing data about different topics across different years, which may affect our findings. Fortunately, for most comparisons and analysis we would like to do, we will be able to use data that is within a year of each other. For instance, when looking at poverty rate and grocery store analysis, we will use the grocery store data from 2016, to be as close as possible to the 2015 poverty rate data. When looking at stores and restaurants relative to racial demographics, we will use the 2010 data, to be as close as possible to the 2010 demographic data. Using data that is within a year of each other should mitigate the effects of variation by year. That being said, this will limit our ability to do multivariable analyses on how demographics and poverty rate affect grocery stores or restaurants. In order to do that, we would have to use the 2011 data, because that is closer to both 2010 and 2015, and we would have to bear in mind in our conclusions that poverty rate data, or median household income data, for instance, would be from a different year. In other words, we would have to assume that the poverty rate for any given county did not vary so  drastically between 2011-2015 that it would meaningfully impact the results. \n",
    "\n",
    "\n",
    "- A third limitation of our data is that our data on median household income is not adjusted for regional purchasing power. In order to address our second research question, we need to compare counties of similar income levels in different regions. This comparison is not as meaningful without accounting for regional purchasing power. To address this limitation, we adjusted out income values by RPP, using the RPP value for eahc state provided by the Department of Labor. "
   ]
  },
  {
   "cell_type": "code",
   "execution_count": null,
   "id": "964282e2",
   "metadata": {},
   "outputs": [],
   "source": []
  },
  {
   "cell_type": "markdown",
   "id": "54fe835b",
   "metadata": {},
   "source": [
    "## 9. Sources\n",
    "\n",
    "- https://fred.stlouisfed.org/series/RPPALLUSNMP - Regional Price parities and Definition of Regions within the US"
   ]
  }
 ],
 "metadata": {
  "kernelspec": {
   "display_name": "Python 3 (ipykernel)",
   "language": "python",
   "name": "python3"
  },
  "language_info": {
   "codemirror_mode": {
    "name": "ipython",
    "version": 3
   },
   "file_extension": ".py",
   "mimetype": "text/x-python",
   "name": "python",
   "nbconvert_exporter": "python",
   "pygments_lexer": "ipython3",
   "version": "3.11.4"
  }
 },
 "nbformat": 4,
 "nbformat_minor": 5
}
